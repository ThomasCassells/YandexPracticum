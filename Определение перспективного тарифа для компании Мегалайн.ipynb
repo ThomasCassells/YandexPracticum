{
 "cells": [
  {
   "cell_type": "markdown",
   "metadata": {},
   "source": [
    "# Определение перспективного тарифа для компании \"Мегалайн\"\n",
    "\n",
    "**Цель проекта:** Проверить две гипотезы, связанные с объёмом выручки в зависимости от выбранного тарифного плана и города проживания пользователя.\n",
    "\n",
    "**Задачи проекта:**\n",
    "- Расчитать параметры активности пользователей в зависимости от месяца\n",
    "- Проанализировать действия пользователей, дать характеристику их активности\n",
    "- Проверить гипотезы, сформулировать выводы\n",
    "\n",
    "**Содержание:**\n",
    "* [1. Предобработка данных](#1)\n",
    "* [2. Расчёт основных показателей для каждого пользователя](#2)\n",
    "* [3. Анализ данных](#3)\n",
    "* [4. Проверка гипотез](#4)\n",
    "* [4.1 Гипотеза №1](#4.1)\n",
    "* [4.2 Гипотеза №2](#4.2)\n",
    "* [5. Общие выводы](#5)"
   ]
  },
  {
   "cell_type": "markdown",
   "metadata": {},
   "source": [
    "<a id=\"1\"></a>\n",
    "## Предобработка данных"
   ]
  },
  {
   "cell_type": "markdown",
   "metadata": {},
   "source": [
    "Импортируем все небходимые библиотеки"
   ]
  },
  {
   "cell_type": "code",
   "execution_count": 1,
   "metadata": {},
   "outputs": [],
   "source": [
    "import pandas as pd\n",
    "import numpy as np\n",
    "from scipy import stats as st\n",
    "import plotly.express as px\n",
    "import plotly.graph_objects as go"
   ]
  },
  {
   "cell_type": "markdown",
   "metadata": {},
   "source": [
    "Сохраним датасеты в переменные"
   ]
  },
  {
   "cell_type": "code",
   "execution_count": 2,
   "metadata": {},
   "outputs": [],
   "source": [
    "data_calls = pd.read_csv ('C:/Documents/Yandex Practicum/Projects/6. Определение перспективного тарифа для компании Мегалайн/data_calls.csv')\n",
    "data_internet = pd.read_csv ('C:/Documents/Yandex Practicum/Projects/6. Определение перспективного тарифа для компании Мегалайн/data_internet.csv')\n",
    "data_messages = pd.read_csv ('C:/Documents/Yandex Practicum/Projects/6. Определение перспективного тарифа для компании Мегалайн/data_messages.csv')\n",
    "data_tariffs = pd.read_csv ('C:/Documents/Yandex Practicum/Projects/6. Определение перспективного тарифа для компании Мегалайн/data_tariffs.csv')\n",
    "data_users = pd.read_csv ('C:/Documents/Yandex Practicum/Projects/6. Определение перспективного тарифа для компании Мегалайн/data_users.csv')"
   ]
  },
  {
   "cell_type": "markdown",
   "metadata": {},
   "source": [
    "Ознакомимся с данными о звонках"
   ]
  },
  {
   "cell_type": "code",
   "execution_count": 3,
   "metadata": {
    "scrolled": false
   },
   "outputs": [
    {
     "data": {
      "text/plain": [
       "id            object\n",
       "call_date     object\n",
       "duration     float64\n",
       "user_id        int64\n",
       "dtype: object"
      ]
     },
     "metadata": {},
     "output_type": "display_data"
    },
    {
     "data": {
      "text/html": [
       "<div>\n",
       "<style scoped>\n",
       "    .dataframe tbody tr th:only-of-type {\n",
       "        vertical-align: middle;\n",
       "    }\n",
       "\n",
       "    .dataframe tbody tr th {\n",
       "        vertical-align: top;\n",
       "    }\n",
       "\n",
       "    .dataframe thead th {\n",
       "        text-align: right;\n",
       "    }\n",
       "</style>\n",
       "<table border=\"1\" class=\"dataframe\">\n",
       "  <thead>\n",
       "    <tr style=\"text-align: right;\">\n",
       "      <th></th>\n",
       "      <th>id</th>\n",
       "      <th>call_date</th>\n",
       "      <th>duration</th>\n",
       "      <th>user_id</th>\n",
       "    </tr>\n",
       "  </thead>\n",
       "  <tbody>\n",
       "    <tr>\n",
       "      <th>42707</th>\n",
       "      <td>1105_114</td>\n",
       "      <td>2018-12-17</td>\n",
       "      <td>0.00</td>\n",
       "      <td>1105</td>\n",
       "    </tr>\n",
       "    <tr>\n",
       "      <th>67795</th>\n",
       "      <td>1172_0</td>\n",
       "      <td>2018-11-29</td>\n",
       "      <td>13.85</td>\n",
       "      <td>1172</td>\n",
       "    </tr>\n",
       "    <tr>\n",
       "      <th>198243</th>\n",
       "      <td>1486_76</td>\n",
       "      <td>2018-12-22</td>\n",
       "      <td>4.64</td>\n",
       "      <td>1486</td>\n",
       "    </tr>\n",
       "    <tr>\n",
       "      <th>43618</th>\n",
       "      <td>1109_593</td>\n",
       "      <td>2018-06-06</td>\n",
       "      <td>13.89</td>\n",
       "      <td>1109</td>\n",
       "    </tr>\n",
       "    <tr>\n",
       "      <th>81475</th>\n",
       "      <td>1203_48</td>\n",
       "      <td>2018-03-15</td>\n",
       "      <td>11.12</td>\n",
       "      <td>1203</td>\n",
       "    </tr>\n",
       "  </tbody>\n",
       "</table>\n",
       "</div>"
      ],
      "text/plain": [
       "              id   call_date  duration  user_id\n",
       "42707   1105_114  2018-12-17      0.00     1105\n",
       "67795     1172_0  2018-11-29     13.85     1172\n",
       "198243   1486_76  2018-12-22      4.64     1486\n",
       "43618   1109_593  2018-06-06     13.89     1109\n",
       "81475    1203_48  2018-03-15     11.12     1203"
      ]
     },
     "metadata": {},
     "output_type": "display_data"
    }
   ],
   "source": [
    "display (data_calls.dtypes)\n",
    "display (data_calls.sample (5))"
   ]
  },
  {
   "cell_type": "markdown",
   "metadata": {},
   "source": [
    "Меняем тип данных в колонке call_date и проверяем колонку duration на корректность значений"
   ]
  },
  {
   "cell_type": "code",
   "execution_count": 4,
   "metadata": {},
   "outputs": [
    {
     "data": {
      "text/plain": [
       "count    202607.000000\n",
       "mean          6.755887\n",
       "std           5.843365\n",
       "min           0.000000\n",
       "25%           1.300000\n",
       "50%           6.000000\n",
       "75%          10.700000\n",
       "max          38.000000\n",
       "Name: duration, dtype: float64"
      ]
     },
     "execution_count": 4,
     "metadata": {},
     "output_type": "execute_result"
    }
   ],
   "source": [
    "data_calls ['call_date'] = pd.to_datetime (data_calls ['call_date'])\n",
    "data_calls ['duration'].describe()"
   ]
  },
  {
   "cell_type": "markdown",
   "metadata": {},
   "source": [
    "Проверяем датасет на наличие пропусков и дубликатов"
   ]
  },
  {
   "cell_type": "code",
   "execution_count": 5,
   "metadata": {},
   "outputs": [
    {
     "data": {
      "text/plain": [
       "0"
      ]
     },
     "metadata": {},
     "output_type": "display_data"
    },
    {
     "data": {
      "text/plain": [
       "id           0\n",
       "call_date    0\n",
       "duration     0\n",
       "user_id      0\n",
       "dtype: int64"
      ]
     },
     "execution_count": 5,
     "metadata": {},
     "output_type": "execute_result"
    }
   ],
   "source": [
    "display (data_calls.duplicated().sum())\n",
    "data_calls.isna().sum()"
   ]
  },
  {
   "cell_type": "markdown",
   "metadata": {},
   "source": [
    "Датасет содержит 202607 записей. Продолжительность звонков находится в диапазоне от 0 до 38 минут. Время совершения вызова было преобразовано в формат `date_time` для дальнейшей работы с датой. Колонка `id` содержит в себе id пользователя и, вероятнее всего, порядковый номер звонка у данного пользователя по счёту, приводить её к другому типу данных не будем. Дубликаты и пропуски в датасете отсутствуют."
   ]
  },
  {
   "cell_type": "markdown",
   "metadata": {},
   "source": [
    "Ознакомимся с данными об использовании интернета"
   ]
  },
  {
   "cell_type": "code",
   "execution_count": 6,
   "metadata": {},
   "outputs": [
    {
     "data": {
      "text/plain": [
       "Unnamed: 0        int64\n",
       "id               object\n",
       "mb_used         float64\n",
       "session_date     object\n",
       "user_id           int64\n",
       "dtype: object"
      ]
     },
     "metadata": {},
     "output_type": "display_data"
    },
    {
     "data": {
      "text/html": [
       "<div>\n",
       "<style scoped>\n",
       "    .dataframe tbody tr th:only-of-type {\n",
       "        vertical-align: middle;\n",
       "    }\n",
       "\n",
       "    .dataframe tbody tr th {\n",
       "        vertical-align: top;\n",
       "    }\n",
       "\n",
       "    .dataframe thead th {\n",
       "        text-align: right;\n",
       "    }\n",
       "</style>\n",
       "<table border=\"1\" class=\"dataframe\">\n",
       "  <thead>\n",
       "    <tr style=\"text-align: right;\">\n",
       "      <th></th>\n",
       "      <th>Unnamed: 0</th>\n",
       "      <th>id</th>\n",
       "      <th>mb_used</th>\n",
       "      <th>session_date</th>\n",
       "      <th>user_id</th>\n",
       "    </tr>\n",
       "  </thead>\n",
       "  <tbody>\n",
       "    <tr>\n",
       "      <th>120086</th>\n",
       "      <td>120086</td>\n",
       "      <td>1404_181</td>\n",
       "      <td>472.69</td>\n",
       "      <td>2018-11-24</td>\n",
       "      <td>1404</td>\n",
       "    </tr>\n",
       "    <tr>\n",
       "      <th>50218</th>\n",
       "      <td>50218</td>\n",
       "      <td>1172_500</td>\n",
       "      <td>35.00</td>\n",
       "      <td>2018-08-30</td>\n",
       "      <td>1172</td>\n",
       "    </tr>\n",
       "    <tr>\n",
       "      <th>90993</th>\n",
       "      <td>90993</td>\n",
       "      <td>1308_176</td>\n",
       "      <td>193.51</td>\n",
       "      <td>2018-05-30</td>\n",
       "      <td>1308</td>\n",
       "    </tr>\n",
       "    <tr>\n",
       "      <th>4111</th>\n",
       "      <td>4111</td>\n",
       "      <td>1012_384</td>\n",
       "      <td>617.57</td>\n",
       "      <td>2018-04-16</td>\n",
       "      <td>1012</td>\n",
       "    </tr>\n",
       "    <tr>\n",
       "      <th>35055</th>\n",
       "      <td>35055</td>\n",
       "      <td>1123_19</td>\n",
       "      <td>119.47</td>\n",
       "      <td>2018-04-03</td>\n",
       "      <td>1123</td>\n",
       "    </tr>\n",
       "  </tbody>\n",
       "</table>\n",
       "</div>"
      ],
      "text/plain": [
       "        Unnamed: 0        id  mb_used session_date  user_id\n",
       "120086      120086  1404_181   472.69   2018-11-24     1404\n",
       "50218        50218  1172_500    35.00   2018-08-30     1172\n",
       "90993        90993  1308_176   193.51   2018-05-30     1308\n",
       "4111          4111  1012_384   617.57   2018-04-16     1012\n",
       "35055        35055   1123_19   119.47   2018-04-03     1123"
      ]
     },
     "metadata": {},
     "output_type": "display_data"
    }
   ],
   "source": [
    "display (data_internet.dtypes)\n",
    "display (data_internet.sample (5))"
   ]
  },
  {
   "cell_type": "markdown",
   "metadata": {},
   "source": [
    "Меняем тип данных в колонке session_date, удаляем колонку Unnamed: 0 и проверяем клонку mb_used на корректность данных"
   ]
  },
  {
   "cell_type": "code",
   "execution_count": 7,
   "metadata": {},
   "outputs": [
    {
     "data": {
      "text/plain": [
       "count    149396.000000\n",
       "mean        370.192426\n",
       "std         278.300951\n",
       "min           0.000000\n",
       "25%         138.187500\n",
       "50%         348.015000\n",
       "75%         559.552500\n",
       "max        1724.830000\n",
       "Name: mb_used, dtype: float64"
      ]
     },
     "execution_count": 7,
     "metadata": {},
     "output_type": "execute_result"
    }
   ],
   "source": [
    "data_internet ['session_date'] = pd.to_datetime (data_internet ['session_date'])\n",
    "data_internet = data_internet.drop (columns = 'Unnamed: 0')\n",
    "data_internet ['mb_used'].describe ()"
   ]
  },
  {
   "cell_type": "markdown",
   "metadata": {},
   "source": [
    "Проверяем датасет на наличие пропусков и дубликатов"
   ]
  },
  {
   "cell_type": "code",
   "execution_count": 8,
   "metadata": {},
   "outputs": [
    {
     "data": {
      "text/plain": [
       "0"
      ]
     },
     "metadata": {},
     "output_type": "display_data"
    },
    {
     "data": {
      "text/plain": [
       "id              0\n",
       "mb_used         0\n",
       "session_date    0\n",
       "user_id         0\n",
       "dtype: int64"
      ]
     },
     "execution_count": 8,
     "metadata": {},
     "output_type": "execute_result"
    }
   ],
   "source": [
    "display (data_internet.duplicated().sum())\n",
    "data_internet.isna().sum()"
   ]
  },
  {
   "cell_type": "markdown",
   "metadata": {},
   "source": [
    "Датасет содержит 149396 записей. Дата сессии была преобразована в формат date_time. Колонка `Unnamed: 0` дублирует номер записи - от неё можно избавиться. Дубликаты и пропуски в датасете отсутствуют. Количество потраченных мегабайт за одну сессию находится в диапазоне от 0 до 1724 мб. В случае со звонками, значение 0 означает пропущенный вызов. В случае с использованием интернета это может быть ошибка в данных. Необходимо узнать количество таких сессий, где трафик не использовался."
   ]
  },
  {
   "cell_type": "code",
   "execution_count": 9,
   "metadata": {},
   "outputs": [
    {
     "name": "stdout",
     "output_type": "stream",
     "text": [
      "19598\n"
     ]
    }
   ],
   "source": [
    "print (len (data_internet [data_internet ['mb_used'] == 0]))"
   ]
  },
  {
   "cell_type": "markdown",
   "metadata": {},
   "source": [
    "Почти 20 тысяч сессий с \"нулевым\" использованием трафика - это значительная доля датасета, которая сильно повиляет на дальнейшее исследование. Возможно, подобные записи говорят о попытке пользователя получить доступ в интернет при уже использованном лимите трафика (был зафиксирован сам факт использования услуги, но трафик задействован не был)."
   ]
  },
  {
   "cell_type": "markdown",
   "metadata": {},
   "source": [
    "Ознакомимся с данными о сообщениях"
   ]
  },
  {
   "cell_type": "code",
   "execution_count": 10,
   "metadata": {},
   "outputs": [
    {
     "data": {
      "text/plain": [
       "id              object\n",
       "message_date    object\n",
       "user_id          int64\n",
       "dtype: object"
      ]
     },
     "metadata": {},
     "output_type": "display_data"
    },
    {
     "data": {
      "text/html": [
       "<div>\n",
       "<style scoped>\n",
       "    .dataframe tbody tr th:only-of-type {\n",
       "        vertical-align: middle;\n",
       "    }\n",
       "\n",
       "    .dataframe tbody tr th {\n",
       "        vertical-align: top;\n",
       "    }\n",
       "\n",
       "    .dataframe thead th {\n",
       "        text-align: right;\n",
       "    }\n",
       "</style>\n",
       "<table border=\"1\" class=\"dataframe\">\n",
       "  <thead>\n",
       "    <tr style=\"text-align: right;\">\n",
       "      <th></th>\n",
       "      <th>id</th>\n",
       "      <th>message_date</th>\n",
       "      <th>user_id</th>\n",
       "    </tr>\n",
       "  </thead>\n",
       "  <tbody>\n",
       "    <tr>\n",
       "      <th>55020</th>\n",
       "      <td>1244_186</td>\n",
       "      <td>2018-07-19</td>\n",
       "      <td>1244</td>\n",
       "    </tr>\n",
       "    <tr>\n",
       "      <th>77634</th>\n",
       "      <td>1327_131</td>\n",
       "      <td>2018-10-02</td>\n",
       "      <td>1327</td>\n",
       "    </tr>\n",
       "    <tr>\n",
       "      <th>105878</th>\n",
       "      <td>1427_52</td>\n",
       "      <td>2018-04-26</td>\n",
       "      <td>1427</td>\n",
       "    </tr>\n",
       "    <tr>\n",
       "      <th>95539</th>\n",
       "      <td>1393_113</td>\n",
       "      <td>2018-12-14</td>\n",
       "      <td>1393</td>\n",
       "    </tr>\n",
       "    <tr>\n",
       "      <th>19123</th>\n",
       "      <td>1083_312</td>\n",
       "      <td>2018-09-04</td>\n",
       "      <td>1083</td>\n",
       "    </tr>\n",
       "  </tbody>\n",
       "</table>\n",
       "</div>"
      ],
      "text/plain": [
       "              id message_date  user_id\n",
       "55020   1244_186   2018-07-19     1244\n",
       "77634   1327_131   2018-10-02     1327\n",
       "105878   1427_52   2018-04-26     1427\n",
       "95539   1393_113   2018-12-14     1393\n",
       "19123   1083_312   2018-09-04     1083"
      ]
     },
     "metadata": {},
     "output_type": "display_data"
    }
   ],
   "source": [
    "display (data_messages.dtypes)\n",
    "display (data_messages.sample (5))"
   ]
  },
  {
   "cell_type": "markdown",
   "metadata": {},
   "source": [
    "Меняем тип данных в колонке message_date и проверяем объём датасета"
   ]
  },
  {
   "cell_type": "code",
   "execution_count": 11,
   "metadata": {},
   "outputs": [
    {
     "name": "stdout",
     "output_type": "stream",
     "text": [
      "Количество записей в датасете: 123036\n"
     ]
    }
   ],
   "source": [
    "data_messages ['message_date'] = pd.to_datetime (data_messages ['message_date'])\n",
    "print ('Количество записей в датасете:', len (data_messages))"
   ]
  },
  {
   "cell_type": "markdown",
   "metadata": {},
   "source": [
    "Проверяем датасет на наличие пропусков и дубликатов"
   ]
  },
  {
   "cell_type": "code",
   "execution_count": 12,
   "metadata": {},
   "outputs": [
    {
     "data": {
      "text/plain": [
       "0"
      ]
     },
     "metadata": {},
     "output_type": "display_data"
    },
    {
     "data": {
      "text/plain": [
       "id              0\n",
       "message_date    0\n",
       "user_id         0\n",
       "dtype: int64"
      ]
     },
     "execution_count": 12,
     "metadata": {},
     "output_type": "execute_result"
    }
   ],
   "source": [
    "display (data_messages.duplicated().sum())\n",
    "data_messages.isna().sum()"
   ]
  },
  {
   "cell_type": "markdown",
   "metadata": {},
   "source": [
    "Датасет содержит 123036 записей. Время отправки сообщения было преобразовано в формат date_time для дальнейшей работы с датой. Числовых значений в данном датасете нет. Дубликаты и пропуски в датасете отсутствуют. "
   ]
  },
  {
   "cell_type": "markdown",
   "metadata": {},
   "source": [
    "Ознакомимся с данными о тарифах"
   ]
  },
  {
   "cell_type": "code",
   "execution_count": 13,
   "metadata": {},
   "outputs": [
    {
     "data": {
      "text/plain": [
       "messages_included         int64\n",
       "mb_per_month_included     int64\n",
       "minutes_included          int64\n",
       "rub_monthly_fee           int64\n",
       "rub_per_gb                int64\n",
       "rub_per_message           int64\n",
       "rub_per_minute            int64\n",
       "tariff_name              object\n",
       "dtype: object"
      ]
     },
     "metadata": {},
     "output_type": "display_data"
    },
    {
     "data": {
      "text/html": [
       "<div>\n",
       "<style scoped>\n",
       "    .dataframe tbody tr th:only-of-type {\n",
       "        vertical-align: middle;\n",
       "    }\n",
       "\n",
       "    .dataframe tbody tr th {\n",
       "        vertical-align: top;\n",
       "    }\n",
       "\n",
       "    .dataframe thead th {\n",
       "        text-align: right;\n",
       "    }\n",
       "</style>\n",
       "<table border=\"1\" class=\"dataframe\">\n",
       "  <thead>\n",
       "    <tr style=\"text-align: right;\">\n",
       "      <th></th>\n",
       "      <th>messages_included</th>\n",
       "      <th>mb_per_month_included</th>\n",
       "      <th>minutes_included</th>\n",
       "      <th>rub_monthly_fee</th>\n",
       "      <th>rub_per_gb</th>\n",
       "      <th>rub_per_message</th>\n",
       "      <th>rub_per_minute</th>\n",
       "      <th>tariff_name</th>\n",
       "    </tr>\n",
       "  </thead>\n",
       "  <tbody>\n",
       "    <tr>\n",
       "      <th>0</th>\n",
       "      <td>50</td>\n",
       "      <td>15360</td>\n",
       "      <td>500</td>\n",
       "      <td>550</td>\n",
       "      <td>200</td>\n",
       "      <td>3</td>\n",
       "      <td>3</td>\n",
       "      <td>smart</td>\n",
       "    </tr>\n",
       "    <tr>\n",
       "      <th>1</th>\n",
       "      <td>1000</td>\n",
       "      <td>30720</td>\n",
       "      <td>3000</td>\n",
       "      <td>1950</td>\n",
       "      <td>150</td>\n",
       "      <td>1</td>\n",
       "      <td>1</td>\n",
       "      <td>ultra</td>\n",
       "    </tr>\n",
       "  </tbody>\n",
       "</table>\n",
       "</div>"
      ],
      "text/plain": [
       "   messages_included  mb_per_month_included  minutes_included  \\\n",
       "0                 50                  15360               500   \n",
       "1               1000                  30720              3000   \n",
       "\n",
       "   rub_monthly_fee  rub_per_gb  rub_per_message  rub_per_minute tariff_name  \n",
       "0              550         200                3               3       smart  \n",
       "1             1950         150                1               1       ultra  "
      ]
     },
     "metadata": {},
     "output_type": "display_data"
    }
   ],
   "source": [
    "display (data_tariffs.dtypes)\n",
    "display (data_tariffs.head ())"
   ]
  },
  {
   "cell_type": "markdown",
   "metadata": {},
   "source": [
    "Датасет содержит всего две строки с информацией о двух разных тарифах. Типы данных записаны корректно. Для удобства дальнйшей работы транспонируем таблицу, удалив строку с названиями тарифов. Помимо этого мегабайты переведём в гигабайты."
   ]
  },
  {
   "cell_type": "code",
   "execution_count": 14,
   "metadata": {},
   "outputs": [
    {
     "data": {
      "text/html": [
       "<div>\n",
       "<style scoped>\n",
       "    .dataframe tbody tr th:only-of-type {\n",
       "        vertical-align: middle;\n",
       "    }\n",
       "\n",
       "    .dataframe tbody tr th {\n",
       "        vertical-align: top;\n",
       "    }\n",
       "\n",
       "    .dataframe thead th {\n",
       "        text-align: right;\n",
       "    }\n",
       "</style>\n",
       "<table border=\"1\" class=\"dataframe\">\n",
       "  <thead>\n",
       "    <tr style=\"text-align: right;\">\n",
       "      <th></th>\n",
       "      <th>smart</th>\n",
       "      <th>ultra</th>\n",
       "    </tr>\n",
       "  </thead>\n",
       "  <tbody>\n",
       "    <tr>\n",
       "      <th>messages_included</th>\n",
       "      <td>50</td>\n",
       "      <td>1000</td>\n",
       "    </tr>\n",
       "    <tr>\n",
       "      <th>mb_per_month_included</th>\n",
       "      <td>15.0</td>\n",
       "      <td>30.0</td>\n",
       "    </tr>\n",
       "    <tr>\n",
       "      <th>minutes_included</th>\n",
       "      <td>500</td>\n",
       "      <td>3000</td>\n",
       "    </tr>\n",
       "    <tr>\n",
       "      <th>rub_monthly_fee</th>\n",
       "      <td>550</td>\n",
       "      <td>1950</td>\n",
       "    </tr>\n",
       "    <tr>\n",
       "      <th>rub_per_gb</th>\n",
       "      <td>200</td>\n",
       "      <td>150</td>\n",
       "    </tr>\n",
       "    <tr>\n",
       "      <th>rub_per_message</th>\n",
       "      <td>3</td>\n",
       "      <td>1</td>\n",
       "    </tr>\n",
       "    <tr>\n",
       "      <th>rub_per_minute</th>\n",
       "      <td>3</td>\n",
       "      <td>1</td>\n",
       "    </tr>\n",
       "  </tbody>\n",
       "</table>\n",
       "</div>"
      ],
      "text/plain": [
       "                      smart ultra\n",
       "messages_included        50  1000\n",
       "mb_per_month_included  15.0  30.0\n",
       "minutes_included        500  3000\n",
       "rub_monthly_fee         550  1950\n",
       "rub_per_gb              200   150\n",
       "rub_per_message           3     1\n",
       "rub_per_minute            3     1"
      ]
     },
     "execution_count": 14,
     "metadata": {},
     "output_type": "execute_result"
    }
   ],
   "source": [
    "data_tariffs = data_tariffs.T.rename ({0: 'smart', 1: 'ultra'}, axis = 1)\n",
    "data_tariffs.drop (data_tariffs.tail (1).index, inplace = True)\n",
    "\n",
    "for i in ['smart', 'ultra']:\n",
    "    data_tariffs [i][1] = data_tariffs [i][1] / 1024\n",
    "    \n",
    "data_tariffs"
   ]
  },
  {
   "cell_type": "markdown",
   "metadata": {},
   "source": [
    "Ознакомимся с данными о пользователях"
   ]
  },
  {
   "cell_type": "code",
   "execution_count": 15,
   "metadata": {},
   "outputs": [
    {
     "data": {
      "text/plain": [
       "user_id        int64\n",
       "age            int64\n",
       "churn_date    object\n",
       "city          object\n",
       "first_name    object\n",
       "last_name     object\n",
       "reg_date      object\n",
       "tariff        object\n",
       "dtype: object"
      ]
     },
     "metadata": {},
     "output_type": "display_data"
    },
    {
     "data": {
      "text/html": [
       "<div>\n",
       "<style scoped>\n",
       "    .dataframe tbody tr th:only-of-type {\n",
       "        vertical-align: middle;\n",
       "    }\n",
       "\n",
       "    .dataframe tbody tr th {\n",
       "        vertical-align: top;\n",
       "    }\n",
       "\n",
       "    .dataframe thead th {\n",
       "        text-align: right;\n",
       "    }\n",
       "</style>\n",
       "<table border=\"1\" class=\"dataframe\">\n",
       "  <thead>\n",
       "    <tr style=\"text-align: right;\">\n",
       "      <th></th>\n",
       "      <th>user_id</th>\n",
       "      <th>age</th>\n",
       "      <th>churn_date</th>\n",
       "      <th>city</th>\n",
       "      <th>first_name</th>\n",
       "      <th>last_name</th>\n",
       "      <th>reg_date</th>\n",
       "      <th>tariff</th>\n",
       "    </tr>\n",
       "  </thead>\n",
       "  <tbody>\n",
       "    <tr>\n",
       "      <th>494</th>\n",
       "      <td>1494</td>\n",
       "      <td>62</td>\n",
       "      <td>NaN</td>\n",
       "      <td>Омск</td>\n",
       "      <td>Ренат</td>\n",
       "      <td>Андропов</td>\n",
       "      <td>2018-08-17</td>\n",
       "      <td>smart</td>\n",
       "    </tr>\n",
       "    <tr>\n",
       "      <th>470</th>\n",
       "      <td>1470</td>\n",
       "      <td>23</td>\n",
       "      <td>NaN</td>\n",
       "      <td>Новокузнецк</td>\n",
       "      <td>Эллада</td>\n",
       "      <td>Лосева</td>\n",
       "      <td>2018-10-19</td>\n",
       "      <td>smart</td>\n",
       "    </tr>\n",
       "    <tr>\n",
       "      <th>26</th>\n",
       "      <td>1026</td>\n",
       "      <td>32</td>\n",
       "      <td>NaN</td>\n",
       "      <td>Мурманск</td>\n",
       "      <td>Евгений</td>\n",
       "      <td>Бородин</td>\n",
       "      <td>2018-10-06</td>\n",
       "      <td>smart</td>\n",
       "    </tr>\n",
       "    <tr>\n",
       "      <th>184</th>\n",
       "      <td>1184</td>\n",
       "      <td>21</td>\n",
       "      <td>NaN</td>\n",
       "      <td>Барнаул</td>\n",
       "      <td>Снежана</td>\n",
       "      <td>Тарасова</td>\n",
       "      <td>2018-09-03</td>\n",
       "      <td>smart</td>\n",
       "    </tr>\n",
       "    <tr>\n",
       "      <th>102</th>\n",
       "      <td>1102</td>\n",
       "      <td>28</td>\n",
       "      <td>NaN</td>\n",
       "      <td>Москва</td>\n",
       "      <td>Марта</td>\n",
       "      <td>Королькова</td>\n",
       "      <td>2018-06-16</td>\n",
       "      <td>smart</td>\n",
       "    </tr>\n",
       "  </tbody>\n",
       "</table>\n",
       "</div>"
      ],
      "text/plain": [
       "     user_id  age churn_date         city first_name   last_name    reg_date  \\\n",
       "494     1494   62        NaN         Омск      Ренат    Андропов  2018-08-17   \n",
       "470     1470   23        NaN  Новокузнецк     Эллада      Лосева  2018-10-19   \n",
       "26      1026   32        NaN     Мурманск    Евгений     Бородин  2018-10-06   \n",
       "184     1184   21        NaN      Барнаул    Снежана    Тарасова  2018-09-03   \n",
       "102     1102   28        NaN       Москва      Марта  Королькова  2018-06-16   \n",
       "\n",
       "    tariff  \n",
       "494  smart  \n",
       "470  smart  \n",
       "26   smart  \n",
       "184  smart  \n",
       "102  smart  "
      ]
     },
     "metadata": {},
     "output_type": "display_data"
    }
   ],
   "source": [
    "display (data_users.dtypes)\n",
    "display (data_users.sample (5))"
   ]
  },
  {
   "cell_type": "code",
   "execution_count": 16,
   "metadata": {},
   "outputs": [
    {
     "data": {
      "text/plain": [
       "count    500.00000\n",
       "mean      46.58800\n",
       "std       16.66763\n",
       "min       18.00000\n",
       "25%       32.00000\n",
       "50%       46.00000\n",
       "75%       62.00000\n",
       "max       75.00000\n",
       "Name: age, dtype: float64"
      ]
     },
     "metadata": {},
     "output_type": "display_data"
    },
    {
     "name": "stdout",
     "output_type": "stream",
     "text": [
      "Количество записей в датасете: 500\n",
      "Уникальные названия тарифов: ['ultra' 'smart']\n"
     ]
    },
    {
     "data": {
      "text/plain": [
       "user_id         0\n",
       "age             0\n",
       "churn_date    462\n",
       "city            0\n",
       "first_name      0\n",
       "last_name       0\n",
       "reg_date        0\n",
       "tariff          0\n",
       "dtype: int64"
      ]
     },
     "metadata": {},
     "output_type": "display_data"
    },
    {
     "data": {
      "text/plain": [
       "0"
      ]
     },
     "metadata": {},
     "output_type": "display_data"
    }
   ],
   "source": [
    "data_users ['reg_date'] = pd.to_datetime (data_users ['reg_date'])\n",
    "display (data_users ['age'].describe())\n",
    "print ('Количество записей в датасете:', len (data_users))\n",
    "print ('Уникальные названия тарифов:', data_users ['tariff'].unique())\n",
    "display (data_users.isna().sum())\n",
    "display (data_messages.duplicated().sum())"
   ]
  },
  {
   "cell_type": "markdown",
   "metadata": {},
   "source": [
    "Датасет содержит 500 записей об уникальных пользователях, возрастом от 18 до 75 лет. У каждого из пользователей указан один из тарифов. 462 из 500 человека продолжали использовать тариф на момент выгрузки данных. Дубликатов в датасете нет. Пропущенные значения в колонке `churn_date` заменять не будем."
   ]
  },
  {
   "cell_type": "markdown",
   "metadata": {},
   "source": [
    "<a id=\"2\"></a>\n",
    "## Расчёт основных показателей для каждого пользователя\n",
    "Добавим колонку month с номером месяца в каждый из датасетов"
   ]
  },
  {
   "cell_type": "code",
   "execution_count": 17,
   "metadata": {},
   "outputs": [],
   "source": [
    "for i, j in zip ([data_calls, data_internet, data_messages], ['call_date', 'session_date', 'message_date']):\n",
    "    i ['month'] = i [j].dt.month"
   ]
  },
  {
   "cell_type": "markdown",
   "metadata": {},
   "source": [
    "Округлим значения длительности звонков до минут и значения израсходованных мегабайт до гигабайт."
   ]
  },
  {
   "cell_type": "code",
   "execution_count": 18,
   "metadata": {},
   "outputs": [],
   "source": [
    "data_calls ['duration'] = data_calls ['duration'].apply (np.ceil)\n",
    "data_internet ['mb_used'] = (data_internet ['mb_used'] / 1024).apply (np.ceil)\n",
    "data_internet = data_internet.rename ({'mb_used': 'gb_used'}, axis = 1)"
   ]
  },
  {
   "cell_type": "markdown",
   "metadata": {},
   "source": [
    "Сгруппируем три таблицы с данными о звонках, сообщениях и интернет-трафике для получения необходимых рассчётов."
   ]
  },
  {
   "cell_type": "code",
   "execution_count": 19,
   "metadata": {},
   "outputs": [],
   "source": [
    "data_calls_grouped = data_calls.groupby (['user_id', 'month'], as_index = False) \\\n",
    "                               .agg ({'id': 'count', 'duration': 'sum'}) \\\n",
    "                               .rename ({'id': 'calls_count', 'duration': 'minutes_total'}, axis = 1)\n",
    "\n",
    "data_messages_grouped = data_messages.groupby (['user_id', 'month'], as_index = False)['id'].count() \\\n",
    "                                     .rename ({'id': 'messages_count'}, axis = 1)\n",
    "\n",
    "data_internet_grouped = data_internet.groupby (['user_id', 'month'], as_index = False)['gb_used'].sum() \\\n",
    "                                     .rename ({'gb_used': 'gb_total'}, axis = 1)"
   ]
  },
  {
   "cell_type": "markdown",
   "metadata": {},
   "source": [
    "Соединим сгруппированные таблицы, а также название тарифов из `data_users` в переменную `data_main`."
   ]
  },
  {
   "cell_type": "code",
   "execution_count": 20,
   "metadata": {},
   "outputs": [],
   "source": [
    "data_main = data_users [['user_id']].merge (data_calls_grouped, on = 'user_id', how = 'outer')\n",
    "data_main = data_main.merge (data_messages_grouped, on = ['user_id', 'month'], how = 'outer')\n",
    "data_main = data_main.merge (data_internet_grouped, on = ['user_id', 'month'], how = 'outer')\n",
    "data_main = data_main.merge (data_users [['user_id', 'tariff']], on = 'user_id', how = 'outer')\n",
    "data_main = data_main.fillna (0)"
   ]
  },
  {
   "cell_type": "markdown",
   "metadata": {},
   "source": [
    "Преобразуем тип данных в тех колонках, где это необходимо."
   ]
  },
  {
   "cell_type": "code",
   "execution_count": 21,
   "metadata": {},
   "outputs": [],
   "source": [
    "for i in ['month', 'calls_count', 'minutes_total', 'messages_count']:\n",
    "    data_main [i] = data_main [i].astype ('int')"
   ]
  },
  {
   "cell_type": "markdown",
   "metadata": {},
   "source": [
    "Напишем функцию для расчёта выручки с каждого клиента по месяцам."
   ]
  },
  {
   "cell_type": "code",
   "execution_count": 22,
   "metadata": {},
   "outputs": [],
   "source": [
    "def revenue (tariff):\n",
    "    data_remains = (data_main ['messages_count'] - data_tariffs [tariff][0]).reset_index() \\\n",
    "                                                                            .rename ({'messages_count': 'messages_remains'}, axis = 1)\n",
    "    data_remains ['minutes_remains'] = data_main ['minutes_total'] - data_tariffs [tariff][2]\n",
    "    data_remains ['gb_remains'] = (data_main ['gb_total'] - data_tariffs [tariff][1]).apply (np.ceil)\n",
    "\n",
    "    for i, j in zip (['messages_remains', 'minutes_remains', 'gb_remains'], [5, 6, 4]):\n",
    "        data_remains [i] = np.where (data_remains [i] > 0, data_remains [i] * data_tariffs [tariff][j], 0)\n",
    "    \n",
    "    data_remains ['revenue'] = data_remains ['messages_remains'] + data_remains ['minutes_remains'] + data_remains ['gb_remains'] + data_tariffs [tariff][3]\n",
    "    return data_remains ['revenue']"
   ]
  },
  {
   "cell_type": "markdown",
   "metadata": {},
   "source": [
    "Применим функцию в новой колонке `data_main`."
   ]
  },
  {
   "cell_type": "code",
   "execution_count": 23,
   "metadata": {},
   "outputs": [
    {
     "data": {
      "text/html": [
       "<div>\n",
       "<style scoped>\n",
       "    .dataframe tbody tr th:only-of-type {\n",
       "        vertical-align: middle;\n",
       "    }\n",
       "\n",
       "    .dataframe tbody tr th {\n",
       "        vertical-align: top;\n",
       "    }\n",
       "\n",
       "    .dataframe thead th {\n",
       "        text-align: right;\n",
       "    }\n",
       "</style>\n",
       "<table border=\"1\" class=\"dataframe\">\n",
       "  <thead>\n",
       "    <tr style=\"text-align: right;\">\n",
       "      <th></th>\n",
       "      <th>user_id</th>\n",
       "      <th>month</th>\n",
       "      <th>calls_count</th>\n",
       "      <th>minutes_total</th>\n",
       "      <th>messages_count</th>\n",
       "      <th>gb_total</th>\n",
       "      <th>tariff</th>\n",
       "      <th>revenue</th>\n",
       "    </tr>\n",
       "  </thead>\n",
       "  <tbody>\n",
       "    <tr>\n",
       "      <th>448</th>\n",
       "      <td>1070</td>\n",
       "      <td>12</td>\n",
       "      <td>35</td>\n",
       "      <td>280</td>\n",
       "      <td>12</td>\n",
       "      <td>34.0</td>\n",
       "      <td>smart</td>\n",
       "      <td>4350.0</td>\n",
       "    </tr>\n",
       "    <tr>\n",
       "      <th>326</th>\n",
       "      <td>1052</td>\n",
       "      <td>12</td>\n",
       "      <td>111</td>\n",
       "      <td>859</td>\n",
       "      <td>96</td>\n",
       "      <td>44.0</td>\n",
       "      <td>smart</td>\n",
       "      <td>7565.0</td>\n",
       "    </tr>\n",
       "    <tr>\n",
       "      <th>1746</th>\n",
       "      <td>1275</td>\n",
       "      <td>8</td>\n",
       "      <td>72</td>\n",
       "      <td>451</td>\n",
       "      <td>29</td>\n",
       "      <td>35.0</td>\n",
       "      <td>smart</td>\n",
       "      <td>4550.0</td>\n",
       "    </tr>\n",
       "    <tr>\n",
       "      <th>2532</th>\n",
       "      <td>1394</td>\n",
       "      <td>8</td>\n",
       "      <td>57</td>\n",
       "      <td>461</td>\n",
       "      <td>1</td>\n",
       "      <td>22.0</td>\n",
       "      <td>smart</td>\n",
       "      <td>1950.0</td>\n",
       "    </tr>\n",
       "    <tr>\n",
       "      <th>2834</th>\n",
       "      <td>1437</td>\n",
       "      <td>12</td>\n",
       "      <td>49</td>\n",
       "      <td>335</td>\n",
       "      <td>11</td>\n",
       "      <td>55.0</td>\n",
       "      <td>smart</td>\n",
       "      <td>8550.0</td>\n",
       "    </tr>\n",
       "    <tr>\n",
       "      <th>2398</th>\n",
       "      <td>1377</td>\n",
       "      <td>7</td>\n",
       "      <td>185</td>\n",
       "      <td>1311</td>\n",
       "      <td>13</td>\n",
       "      <td>9.0</td>\n",
       "      <td>ultra</td>\n",
       "      <td>1950.0</td>\n",
       "    </tr>\n",
       "    <tr>\n",
       "      <th>2561</th>\n",
       "      <td>1397</td>\n",
       "      <td>12</td>\n",
       "      <td>33</td>\n",
       "      <td>232</td>\n",
       "      <td>0</td>\n",
       "      <td>41.0</td>\n",
       "      <td>ultra</td>\n",
       "      <td>3600.0</td>\n",
       "    </tr>\n",
       "    <tr>\n",
       "      <th>1225</th>\n",
       "      <td>1189</td>\n",
       "      <td>5</td>\n",
       "      <td>80</td>\n",
       "      <td>568</td>\n",
       "      <td>23</td>\n",
       "      <td>47.0</td>\n",
       "      <td>smart</td>\n",
       "      <td>7154.0</td>\n",
       "    </tr>\n",
       "    <tr>\n",
       "      <th>1065</th>\n",
       "      <td>1168</td>\n",
       "      <td>8</td>\n",
       "      <td>154</td>\n",
       "      <td>1120</td>\n",
       "      <td>48</td>\n",
       "      <td>60.0</td>\n",
       "      <td>ultra</td>\n",
       "      <td>6450.0</td>\n",
       "    </tr>\n",
       "    <tr>\n",
       "      <th>2598</th>\n",
       "      <td>1403</td>\n",
       "      <td>11</td>\n",
       "      <td>15</td>\n",
       "      <td>109</td>\n",
       "      <td>49</td>\n",
       "      <td>71.0</td>\n",
       "      <td>ultra</td>\n",
       "      <td>8100.0</td>\n",
       "    </tr>\n",
       "  </tbody>\n",
       "</table>\n",
       "</div>"
      ],
      "text/plain": [
       "      user_id  month  calls_count  minutes_total  messages_count  gb_total  \\\n",
       "448      1070     12           35            280              12      34.0   \n",
       "326      1052     12          111            859              96      44.0   \n",
       "1746     1275      8           72            451              29      35.0   \n",
       "2532     1394      8           57            461               1      22.0   \n",
       "2834     1437     12           49            335              11      55.0   \n",
       "2398     1377      7          185           1311              13       9.0   \n",
       "2561     1397     12           33            232               0      41.0   \n",
       "1225     1189      5           80            568              23      47.0   \n",
       "1065     1168      8          154           1120              48      60.0   \n",
       "2598     1403     11           15            109              49      71.0   \n",
       "\n",
       "     tariff  revenue  \n",
       "448   smart   4350.0  \n",
       "326   smart   7565.0  \n",
       "1746  smart   4550.0  \n",
       "2532  smart   1950.0  \n",
       "2834  smart   8550.0  \n",
       "2398  ultra   1950.0  \n",
       "2561  ultra   3600.0  \n",
       "1225  smart   7154.0  \n",
       "1065  ultra   6450.0  \n",
       "2598  ultra   8100.0  "
      ]
     },
     "execution_count": 23,
     "metadata": {},
     "output_type": "execute_result"
    }
   ],
   "source": [
    "data_main ['revenue'] = np.where (data_main ['tariff'] == 'smart', revenue ('smart'), revenue ('ultra'))\n",
    "data_main.sample (10)"
   ]
  },
  {
   "cell_type": "markdown",
   "metadata": {},
   "source": [
    "Проверим корректность данных после слияния нескольких датасетов."
   ]
  },
  {
   "cell_type": "code",
   "execution_count": 24,
   "metadata": {},
   "outputs": [
    {
     "data": {
      "text/plain": [
       "0"
      ]
     },
     "execution_count": 24,
     "metadata": {},
     "output_type": "execute_result"
    }
   ],
   "source": [
    "data_main.duplicated().sum()"
   ]
  },
  {
   "cell_type": "code",
   "execution_count": 25,
   "metadata": {},
   "outputs": [
    {
     "data": {
      "text/plain": [
       "user_id           0\n",
       "month             0\n",
       "calls_count       0\n",
       "minutes_total     0\n",
       "messages_count    0\n",
       "gb_total          0\n",
       "tariff            0\n",
       "revenue           0\n",
       "dtype: int64"
      ]
     },
     "execution_count": 25,
     "metadata": {},
     "output_type": "execute_result"
    }
   ],
   "source": [
    "data_main.isna().sum()"
   ]
  },
  {
   "cell_type": "code",
   "execution_count": 26,
   "metadata": {},
   "outputs": [
    {
     "data": {
      "text/plain": [
       "array([ 5,  6,  7,  8,  9, 10, 11, 12,  1,  2,  3,  4,  0])"
      ]
     },
     "execution_count": 26,
     "metadata": {},
     "output_type": "execute_result"
    }
   ],
   "source": [
    "data_main ['month'].unique()"
   ]
  },
  {
   "cell_type": "markdown",
   "metadata": {},
   "source": [
    "В данных нет дубликатов и пропущенных значений, однако, есть записи с нулевым номером месяца."
   ]
  },
  {
   "cell_type": "code",
   "execution_count": 27,
   "metadata": {},
   "outputs": [
    {
     "data": {
      "text/html": [
       "<div>\n",
       "<style scoped>\n",
       "    .dataframe tbody tr th:only-of-type {\n",
       "        vertical-align: middle;\n",
       "    }\n",
       "\n",
       "    .dataframe tbody tr th {\n",
       "        vertical-align: top;\n",
       "    }\n",
       "\n",
       "    .dataframe thead th {\n",
       "        text-align: right;\n",
       "    }\n",
       "</style>\n",
       "<table border=\"1\" class=\"dataframe\">\n",
       "  <thead>\n",
       "    <tr style=\"text-align: right;\">\n",
       "      <th></th>\n",
       "      <th>user_id</th>\n",
       "      <th>month</th>\n",
       "      <th>calls_count</th>\n",
       "      <th>minutes_total</th>\n",
       "      <th>messages_count</th>\n",
       "      <th>gb_total</th>\n",
       "      <th>tariff</th>\n",
       "      <th>revenue</th>\n",
       "    </tr>\n",
       "  </thead>\n",
       "  <tbody>\n",
       "    <tr>\n",
       "      <th>570</th>\n",
       "      <td>1091</td>\n",
       "      <td>0</td>\n",
       "      <td>0</td>\n",
       "      <td>0</td>\n",
       "      <td>0</td>\n",
       "      <td>0.0</td>\n",
       "      <td>ultra</td>\n",
       "      <td>1950.0</td>\n",
       "    </tr>\n",
       "    <tr>\n",
       "      <th>672</th>\n",
       "      <td>1106</td>\n",
       "      <td>0</td>\n",
       "      <td>0</td>\n",
       "      <td>0</td>\n",
       "      <td>0</td>\n",
       "      <td>0.0</td>\n",
       "      <td>ultra</td>\n",
       "      <td>1950.0</td>\n",
       "    </tr>\n",
       "    <tr>\n",
       "      <th>829</th>\n",
       "      <td>1128</td>\n",
       "      <td>0</td>\n",
       "      <td>0</td>\n",
       "      <td>0</td>\n",
       "      <td>0</td>\n",
       "      <td>0.0</td>\n",
       "      <td>ultra</td>\n",
       "      <td>1950.0</td>\n",
       "    </tr>\n",
       "    <tr>\n",
       "      <th>1477</th>\n",
       "      <td>1231</td>\n",
       "      <td>0</td>\n",
       "      <td>0</td>\n",
       "      <td>0</td>\n",
       "      <td>0</td>\n",
       "      <td>0.0</td>\n",
       "      <td>ultra</td>\n",
       "      <td>1950.0</td>\n",
       "    </tr>\n",
       "    <tr>\n",
       "      <th>2086</th>\n",
       "      <td>1328</td>\n",
       "      <td>0</td>\n",
       "      <td>0</td>\n",
       "      <td>0</td>\n",
       "      <td>0</td>\n",
       "      <td>0.0</td>\n",
       "      <td>ultra</td>\n",
       "      <td>1950.0</td>\n",
       "    </tr>\n",
       "    <tr>\n",
       "      <th>2339</th>\n",
       "      <td>1371</td>\n",
       "      <td>0</td>\n",
       "      <td>0</td>\n",
       "      <td>0</td>\n",
       "      <td>0</td>\n",
       "      <td>0.0</td>\n",
       "      <td>smart</td>\n",
       "      <td>550.0</td>\n",
       "    </tr>\n",
       "    <tr>\n",
       "      <th>3051</th>\n",
       "      <td>1473</td>\n",
       "      <td>0</td>\n",
       "      <td>0</td>\n",
       "      <td>0</td>\n",
       "      <td>0</td>\n",
       "      <td>0.0</td>\n",
       "      <td>ultra</td>\n",
       "      <td>1950.0</td>\n",
       "    </tr>\n",
       "    <tr>\n",
       "      <th>3156</th>\n",
       "      <td>1489</td>\n",
       "      <td>0</td>\n",
       "      <td>0</td>\n",
       "      <td>0</td>\n",
       "      <td>0</td>\n",
       "      <td>0.0</td>\n",
       "      <td>smart</td>\n",
       "      <td>550.0</td>\n",
       "    </tr>\n",
       "  </tbody>\n",
       "</table>\n",
       "</div>"
      ],
      "text/plain": [
       "      user_id  month  calls_count  minutes_total  messages_count  gb_total  \\\n",
       "570      1091      0            0              0               0       0.0   \n",
       "672      1106      0            0              0               0       0.0   \n",
       "829      1128      0            0              0               0       0.0   \n",
       "1477     1231      0            0              0               0       0.0   \n",
       "2086     1328      0            0              0               0       0.0   \n",
       "2339     1371      0            0              0               0       0.0   \n",
       "3051     1473      0            0              0               0       0.0   \n",
       "3156     1489      0            0              0               0       0.0   \n",
       "\n",
       "     tariff  revenue  \n",
       "570   ultra   1950.0  \n",
       "672   ultra   1950.0  \n",
       "829   ultra   1950.0  \n",
       "1477  ultra   1950.0  \n",
       "2086  ultra   1950.0  \n",
       "2339  smart    550.0  \n",
       "3051  ultra   1950.0  \n",
       "3156  smart    550.0  "
      ]
     },
     "execution_count": 27,
     "metadata": {},
     "output_type": "execute_result"
    }
   ],
   "source": [
    "data_main.query ('month == 0')"
   ]
  },
  {
   "cell_type": "markdown",
   "metadata": {},
   "source": [
    "В датасете есть 8 записей о клиентах, которые не пользовались услугами оператора ни в один из месяцев, однако, расчёт выручки по этим клиентам был посчитан, как за нулевой месяц. Рассмотрим информацию об активности этих восьми клиентов в другие месяца."
   ]
  },
  {
   "cell_type": "markdown",
   "metadata": {},
   "source": [
    "Сохраним отдельно id клиентов, имеющих нулевые месяца, проверим наличие активности по каждому из этих клиентов."
   ]
  },
  {
   "cell_type": "code",
   "execution_count": 28,
   "metadata": {},
   "outputs": [
    {
     "data": {
      "text/html": [
       "<div>\n",
       "<style scoped>\n",
       "    .dataframe tbody tr th:only-of-type {\n",
       "        vertical-align: middle;\n",
       "    }\n",
       "\n",
       "    .dataframe tbody tr th {\n",
       "        vertical-align: top;\n",
       "    }\n",
       "\n",
       "    .dataframe thead th {\n",
       "        text-align: right;\n",
       "    }\n",
       "</style>\n",
       "<table border=\"1\" class=\"dataframe\">\n",
       "  <thead>\n",
       "    <tr style=\"text-align: right;\">\n",
       "      <th></th>\n",
       "      <th>user_id</th>\n",
       "      <th>month</th>\n",
       "      <th>calls_count</th>\n",
       "      <th>minutes_total</th>\n",
       "      <th>messages_count</th>\n",
       "      <th>gb_total</th>\n",
       "      <th>tariff</th>\n",
       "      <th>revenue</th>\n",
       "    </tr>\n",
       "  </thead>\n",
       "  <tbody>\n",
       "    <tr>\n",
       "      <th>572</th>\n",
       "      <td>1091</td>\n",
       "      <td>6</td>\n",
       "      <td>0</td>\n",
       "      <td>0</td>\n",
       "      <td>30</td>\n",
       "      <td>20.0</td>\n",
       "      <td>ultra</td>\n",
       "      <td>1950.0</td>\n",
       "    </tr>\n",
       "    <tr>\n",
       "      <th>2087</th>\n",
       "      <td>1328</td>\n",
       "      <td>10</td>\n",
       "      <td>0</td>\n",
       "      <td>0</td>\n",
       "      <td>6</td>\n",
       "      <td>47.0</td>\n",
       "      <td>ultra</td>\n",
       "      <td>4500.0</td>\n",
       "    </tr>\n",
       "    <tr>\n",
       "      <th>3055</th>\n",
       "      <td>1473</td>\n",
       "      <td>11</td>\n",
       "      <td>0</td>\n",
       "      <td>0</td>\n",
       "      <td>14</td>\n",
       "      <td>40.0</td>\n",
       "      <td>ultra</td>\n",
       "      <td>3450.0</td>\n",
       "    </tr>\n",
       "    <tr>\n",
       "      <th>1477</th>\n",
       "      <td>1231</td>\n",
       "      <td>0</td>\n",
       "      <td>0</td>\n",
       "      <td>0</td>\n",
       "      <td>0</td>\n",
       "      <td>0.0</td>\n",
       "      <td>ultra</td>\n",
       "      <td>1950.0</td>\n",
       "    </tr>\n",
       "    <tr>\n",
       "      <th>1485</th>\n",
       "      <td>1231</td>\n",
       "      <td>12</td>\n",
       "      <td>0</td>\n",
       "      <td>0</td>\n",
       "      <td>191</td>\n",
       "      <td>67.0</td>\n",
       "      <td>ultra</td>\n",
       "      <td>7500.0</td>\n",
       "    </tr>\n",
       "    <tr>\n",
       "      <th>1480</th>\n",
       "      <td>1231</td>\n",
       "      <td>7</td>\n",
       "      <td>0</td>\n",
       "      <td>0</td>\n",
       "      <td>211</td>\n",
       "      <td>51.0</td>\n",
       "      <td>ultra</td>\n",
       "      <td>5100.0</td>\n",
       "    </tr>\n",
       "    <tr>\n",
       "      <th>1478</th>\n",
       "      <td>1231</td>\n",
       "      <td>5</td>\n",
       "      <td>0</td>\n",
       "      <td>0</td>\n",
       "      <td>55</td>\n",
       "      <td>20.0</td>\n",
       "      <td>ultra</td>\n",
       "      <td>1950.0</td>\n",
       "    </tr>\n",
       "    <tr>\n",
       "      <th>570</th>\n",
       "      <td>1091</td>\n",
       "      <td>0</td>\n",
       "      <td>0</td>\n",
       "      <td>0</td>\n",
       "      <td>0</td>\n",
       "      <td>0.0</td>\n",
       "      <td>ultra</td>\n",
       "      <td>1950.0</td>\n",
       "    </tr>\n",
       "    <tr>\n",
       "      <th>3051</th>\n",
       "      <td>1473</td>\n",
       "      <td>0</td>\n",
       "      <td>0</td>\n",
       "      <td>0</td>\n",
       "      <td>0</td>\n",
       "      <td>0.0</td>\n",
       "      <td>ultra</td>\n",
       "      <td>1950.0</td>\n",
       "    </tr>\n",
       "    <tr>\n",
       "      <th>680</th>\n",
       "      <td>1106</td>\n",
       "      <td>11</td>\n",
       "      <td>0</td>\n",
       "      <td>0</td>\n",
       "      <td>29</td>\n",
       "      <td>48.0</td>\n",
       "      <td>ultra</td>\n",
       "      <td>4650.0</td>\n",
       "    </tr>\n",
       "  </tbody>\n",
       "</table>\n",
       "</div>"
      ],
      "text/plain": [
       "      user_id  month  calls_count  minutes_total  messages_count  gb_total  \\\n",
       "572      1091      6            0              0              30      20.0   \n",
       "2087     1328     10            0              0               6      47.0   \n",
       "3055     1473     11            0              0              14      40.0   \n",
       "1477     1231      0            0              0               0       0.0   \n",
       "1485     1231     12            0              0             191      67.0   \n",
       "1480     1231      7            0              0             211      51.0   \n",
       "1478     1231      5            0              0              55      20.0   \n",
       "570      1091      0            0              0               0       0.0   \n",
       "3051     1473      0            0              0               0       0.0   \n",
       "680      1106     11            0              0              29      48.0   \n",
       "\n",
       "     tariff  revenue  \n",
       "572   ultra   1950.0  \n",
       "2087  ultra   4500.0  \n",
       "3055  ultra   3450.0  \n",
       "1477  ultra   1950.0  \n",
       "1485  ultra   7500.0  \n",
       "1480  ultra   5100.0  \n",
       "1478  ultra   1950.0  \n",
       "570   ultra   1950.0  \n",
       "3051  ultra   1950.0  \n",
       "680   ultra   4650.0  "
      ]
     },
     "execution_count": 28,
     "metadata": {},
     "output_type": "execute_result"
    }
   ],
   "source": [
    "zero_users = data_main.query ('month == 0')['user_id'].unique()\n",
    "data_main [data_main ['user_id'].isin (zero_users)].sort_values (by = ['user_id', 'month']).sample (10)"
   ]
  },
  {
   "cell_type": "markdown",
   "metadata": {},
   "source": [
    "Избавимся от строк с нулевым месяцем."
   ]
  },
  {
   "cell_type": "code",
   "execution_count": 29,
   "metadata": {},
   "outputs": [
    {
     "name": "stdout",
     "output_type": "stream",
     "text": [
      "Количество клиентов до удаления строк с нулевым месяцем: 500\n",
      "Количество клиентов после удаления строк с нулевым месяцем: 498\n"
     ]
    }
   ],
   "source": [
    "print ('Количество клиентов до удаления строк с нулевым месяцем:', len (data_main ['user_id'].unique()))\n",
    "data_main = data_main.query ('month > 0')\n",
    "print ('Количество клиентов после удаления строк с нулевым месяцем:', len (data_main ['user_id'].unique()))"
   ]
  },
  {
   "cell_type": "markdown",
   "metadata": {},
   "source": [
    "**Вывод**: По итогу в датасете осталось 498 клиентов, которые пользовались услугами оператора хотя бы в один месяц. Мы рассчитали количество звонков и сообщений, израсходованных минут и интернет трафика, а также итоговую выручку для каждого клиента по месяцам. Можно приступать к анализу данных."
   ]
  },
  {
   "cell_type": "markdown",
   "metadata": {},
   "source": [
    "<a id=\"3\"></a>\n",
    "## Анализ данных"
   ]
  },
  {
   "cell_type": "markdown",
   "metadata": {},
   "source": [
    "Для начала рассмотрим общую картину использования двух тарифных планов."
   ]
  },
  {
   "cell_type": "code",
   "execution_count": 30,
   "metadata": {},
   "outputs": [
    {
     "data": {
      "image/png": "[encoded data removed]"
     },
     "metadata": {},
     "output_type": "display_data"
    }
   ],
   "source": [
    "fig_1 = px.pie (data_main.groupby ('tariff')['user_id'].nunique().reset_index(),\n",
    "                names = 'tariff',\n",
    "                values = 'user_id',\n",
    "                title = 'Соотношение тарифных планов по количеству клиентов')\n",
    "fig_1.update_traces (textinfo = 'percent+value')\n",
    "fig_1.show ('png')"
   ]
  },
  {
   "cell_type": "markdown",
   "metadata": {},
   "source": [
    "Более 70% клиентов используют тариф \"smart\" - это стоит учитывать в общих выводах проекта. Рассмотрим динамику средних значений минут, сообщений и интернет-трафика по месяцам."
   ]
  },
  {
   "cell_type": "code",
   "execution_count": 31,
   "metadata": {
    "scrolled": false
   },
   "outputs": [
    {
     "data": {
      "image/png": "[encoded data removed]"
     },
     "metadata": {},
     "output_type": "display_data"
    },
    {
     "data": {
      "image/png": "[encoded data removed]"
     },
     "metadata": {},
     "output_type": "display_data"
    },
    {
     "data": {
      "image/png": "[encoded data removed]"
     },
     "metadata": {},
     "output_type": "display_data"
    },
    {
     "data": {
      "image/png": "[encoded data removed]"
     },
     "metadata": {},
     "output_type": "display_data"
    }
   ],
   "source": [
    "data_main_by_month = data_main.groupby (['tariff', 'month'],\n",
    "                                        as_index = False).agg (minutes_mean = ('minutes_total', np.mean),\n",
    "                                                               messages_mean = ('messages_count', np.mean),\n",
    "                                                               gb_mean = ('gb_total', np.mean),\n",
    "                                                               revenue_mean = ('revenue', np.mean))\n",
    "\n",
    "for i in ['minutes_mean', 'messages_mean', 'gb_mean', 'revenue_mean']:\n",
    "    fig = px.line (data_main_by_month,\n",
    "                   x = 'month',\n",
    "                   y = i,\n",
    "                   color = 'tariff',\n",
    "                   title = f'Динамика средних значений {i} по месяцам',\n",
    "                   height = 600,\n",
    "                   width = 1000)\n",
    "    fig.show ('png')"
   ]
  },
  {
   "cell_type": "markdown",
   "metadata": {},
   "source": [
    "По графикам видно, что в среднем пользователи тарифа \"ultra\" тратят больше минут, сообщений и интернет трафика. При этом с каждым месяцем пользователи обоих тарифов увеличивают показатели активности. Вероятнее всего, это связано с притоком новых клиентов, подключаемых к данным тарифам в течение года.\n",
    "\n",
    "Следует также отметить \"потолок\" в количестве сообщений у пользователей тарифа \"smart\" - 35 сообщений максимум. Это значение не изменялось более полугода, при том что этот же параметр у пользвателей тарифа \"ultra\" значительно рос с каждым месяцем, увеличившись почти в два раза по отношению к тарифу \"smart\" к концу года.\n",
    "\n",
    "Средние значения выручки за каждый месяц показывают значительную разницу между двумя тарифами. Выручка с тарифа `smart` динамично увеличивается и в среднем выше в 1.5 раза, чем выручка с тарифа `ultra`.\n",
    "\n",
    "По каждому из параметров (количество сообщений, израсходованных минут и интернет-трафика) расчитаем среднее значение, дисперсию и стандартное отклонение, а также построим графики распределения."
   ]
  },
  {
   "cell_type": "code",
   "execution_count": 32,
   "metadata": {},
   "outputs": [
    {
     "data": {
      "text/html": [
       "<div>\n",
       "<style scoped>\n",
       "    .dataframe tbody tr th:only-of-type {\n",
       "        vertical-align: middle;\n",
       "    }\n",
       "\n",
       "    .dataframe tbody tr th {\n",
       "        vertical-align: top;\n",
       "    }\n",
       "\n",
       "    .dataframe thead th {\n",
       "        text-align: right;\n",
       "    }\n",
       "</style>\n",
       "<table border=\"1\" class=\"dataframe\">\n",
       "  <thead>\n",
       "    <tr style=\"text-align: right;\">\n",
       "      <th></th>\n",
       "      <th>minutes_mean</th>\n",
       "      <th>minutes_var</th>\n",
       "      <th>minutes_std</th>\n",
       "      <th>messages_mean</th>\n",
       "      <th>messages_var</th>\n",
       "      <th>messages_std</th>\n",
       "      <th>gb_mean</th>\n",
       "      <th>gb_var</th>\n",
       "      <th>gb_std</th>\n",
       "    </tr>\n",
       "    <tr>\n",
       "      <th>tariff</th>\n",
       "      <th></th>\n",
       "      <th></th>\n",
       "      <th></th>\n",
       "      <th></th>\n",
       "      <th></th>\n",
       "      <th></th>\n",
       "      <th></th>\n",
       "      <th></th>\n",
       "      <th></th>\n",
       "    </tr>\n",
       "  </thead>\n",
       "  <tbody>\n",
       "    <tr>\n",
       "      <th>smart</th>\n",
       "      <td>417.934948</td>\n",
       "      <td>36219.315784</td>\n",
       "      <td>190.313730</td>\n",
       "      <td>33.384029</td>\n",
       "      <td>796.812958</td>\n",
       "      <td>28.227876</td>\n",
       "      <td>42.418125</td>\n",
       "      <td>223.296368</td>\n",
       "      <td>14.943104</td>\n",
       "    </tr>\n",
       "    <tr>\n",
       "      <th>ultra</th>\n",
       "      <td>526.623350</td>\n",
       "      <td>100873.633397</td>\n",
       "      <td>317.606098</td>\n",
       "      <td>49.363452</td>\n",
       "      <td>2285.266143</td>\n",
       "      <td>47.804457</td>\n",
       "      <td>38.164467</td>\n",
       "      <td>382.775769</td>\n",
       "      <td>19.564656</td>\n",
       "    </tr>\n",
       "  </tbody>\n",
       "</table>\n",
       "</div>"
      ],
      "text/plain": [
       "        minutes_mean    minutes_var  minutes_std  messages_mean  messages_var  \\\n",
       "tariff                                                                          \n",
       "smart     417.934948   36219.315784   190.313730      33.384029    796.812958   \n",
       "ultra     526.623350  100873.633397   317.606098      49.363452   2285.266143   \n",
       "\n",
       "        messages_std    gb_mean      gb_var     gb_std  \n",
       "tariff                                                  \n",
       "smart      28.227876  42.418125  223.296368  14.943104  \n",
       "ultra      47.804457  38.164467  382.775769  19.564656  "
      ]
     },
     "execution_count": 32,
     "metadata": {},
     "output_type": "execute_result"
    }
   ],
   "source": [
    "data_main.groupby ('tariff').agg (minutes_mean = ('minutes_total', np.mean),\n",
    "                                  minutes_var = ('minutes_total', np.var),\n",
    "                                  minutes_std = ('minutes_total', np.std),\n",
    "                                  messages_mean = ('messages_count', np.mean),\n",
    "                                  messages_var = ('messages_count', np.var),\n",
    "                                  messages_std = ('messages_count', np.std),\n",
    "                                  gb_mean = ('gb_total', np.mean),\n",
    "                                  gb_var = ('gb_total', np.var),\n",
    "                                  gb_std = ('gb_total', np.std))"
   ]
  },
  {
   "cell_type": "markdown",
   "metadata": {},
   "source": [
    "По построенной таблице видна значительна разница в показателях между двумя тарифами. Среднее значение, дисперсия и стандартное отклонение по всем показателям выше у тарифа \"ultra\". Рассмотрим графики распределения."
   ]
  },
  {
   "cell_type": "code",
   "execution_count": 33,
   "metadata": {
    "scrolled": false
   },
   "outputs": [
    {
     "data": {
      "image/png": "[encoded data removed]"
     },
     "metadata": {},
     "output_type": "display_data"
    },
    {
     "data": {
      "image/png": "[encoded data removed]"
     },
     "metadata": {},
     "output_type": "display_data"
    },
    {
     "data": {
      "image/png": "[encoded data removed]"
     },
     "metadata": {},
     "output_type": "display_data"
    },
    {
     "data": {
      "image/png": "[encoded data removed]"
     },
     "metadata": {},
     "output_type": "display_data"
    }
   ],
   "source": [
    "for i in ['minutes_total', 'messages_count', 'gb_total', 'revenue']:\n",
    "    fig = px.histogram (data_main,\n",
    "                        x = i,\n",
    "                        color = 'tariff',\n",
    "                        title = f'Гистограмма распределения {i}',\n",
    "                        color_discrete_sequence = px.colors.qualitative.Set3[3:5],\n",
    "                        height = 600,\n",
    "                        width = 1000)\n",
    "    fig.show ('png')"
   ]
  },
  {
   "cell_type": "markdown",
   "metadata": {},
   "source": [
    "**Вывод:**\n",
    "\n",
    "По графику распределения израсходованных минут видны ярковыраженные значения пользователей тарифа \"smart\" в диапазоне 300-500 минут. Значения пользователей тарифа \"ultra\" распределены более равномерно в более ширком диапазоне (200-800 минут), а также смещены правее, относительно пользователей тарифа \"smart\".\n",
    "\n",
    "Гистограмма распределения отправленных сообщений отражает значительное количество клиентов, которые не пользуются этим сервисом. По этому показателю также наглядно видно количество клиентов обоих тарифов в соотношении 1:3. Оба тарифа имеют нисходящую тенденцию в зависимости от увеличения количества СМС.\n",
    "\n",
    "График израсходованного интернет-трафика подобен графику со звонками. Имеется пик значений у пользователей тарифа \"smart\" в диапазоне от 30 до 50 Гб, в то время, как пользователи тарифа \"ultra\" более-менее равномерно распределены по значениям.\n",
    "\n",
    "Гистограмма выручки наглядно показывает, что пользователи тарифа `smart` часто выходят за рамки минимальной ежемесячной оплаты, бывают случаи, что по тарифу `smart` клиенты платят даже больше, чем платили бы по тарифу `ultra`."
   ]
  },
  {
   "cell_type": "markdown",
   "metadata": {},
   "source": [
    "<a id=\"4\"></a>\n",
    "## Проверка гипотез\n",
    "<a id=\"4.1\"></a>\n",
    "### Гипотеза №1\n",
    "**Определим первую гипотезу:** Средняя выручка пользователей тарифов «Ультра» и «Смарт» различаются.\n",
    "\n",
    "* H0  — средняя выручка пользователей тарифов \"Ультра\" и \"Смарт\" равны.\n",
    "* H1  — средняя выручка пользователей тарифов «Ультра» и «Смарт» различаются.\n",
    "\n",
    "В данной гипотезе мы будем сравнивать две разные выборки, поэтому при проверке этой гипотезы воспользуемся методом `scipy.stats.ttest_ind`. Поскольку в условии гипотезы указано однозначное условие её подтверждения, установим допустимое пороговое значение `alpha = 1`. Для начала сравним размеры двух выборок и дисперсию значений по колонке `revenue`."
   ]
  },
  {
   "cell_type": "code",
   "execution_count": 34,
   "metadata": {
    "scrolled": false
   },
   "outputs": [
    {
     "name": "stdout",
     "output_type": "stream",
     "text": [
      "Размер выборки с тарифом ultra: 985\n",
      "Дисперсия выручки по тарифу ultra: 4692158.8\n",
      "\n",
      "Размер выборки с тарифом smart: 2229\n",
      "Дисперсия выручки по тарифу smart: 8373601.1\n",
      "\n"
     ]
    }
   ],
   "source": [
    "for i in data_main ['tariff'].unique():\n",
    "    print (f'Размер выборки с тарифом {i}:', len (data_main.query ('tariff == @i')))\n",
    "    print (f'Дисперсия выручки по тарифу {i}:', round (data_main.query ('tariff == @i')['revenue'].agg (np.var), 1))\n",
    "    print()"
   ]
  },
  {
   "cell_type": "markdown",
   "metadata": {},
   "source": [
    "Сравниваемые выборки сильно отличаются как по размеру, так и по значению их дисперсии. Это следует учесть при использовании метода проверки (параметр `equal_var` установим со значением `False`)."
   ]
  },
  {
   "cell_type": "code",
   "execution_count": 35,
   "metadata": {},
   "outputs": [
    {
     "name": "stdout",
     "output_type": "stream",
     "text": [
      "p-value: 3.3661232169196476e-132\n",
      "Отвергаем нулевую гипотезу\n"
     ]
    }
   ],
   "source": [
    "result_1 = st.ttest_ind (data_main.query ('tariff == \"smart\"')['revenue'],\n",
    "                         data_main.query ('tariff == \"ultra\"')['revenue'],\n",
    "                         equal_var = False)\n",
    "print ('p-value:', result_1.pvalue)\n",
    "if result_1.pvalue < 0.01:\n",
    "    print ('Отвергаем нулевую гипотезу')\n",
    "else:\n",
    "    print ('НЕ отвергаем нулевую гипотезу')"
   ]
  },
  {
   "cell_type": "markdown",
   "metadata": {},
   "source": [
    "Проверим получившиеся результаты с помощью диаграмм размаха."
   ]
  },
  {
   "cell_type": "code",
   "execution_count": 36,
   "metadata": {},
   "outputs": [
    {
     "data": {
      "image/png": "[encoded data removed]"
     },
     "metadata": {},
     "output_type": "display_data"
    }
   ],
   "source": [
    "fig_2 = px.box (data_main, x = 'tariff', y = 'revenue', height = 600, width = 1000)\n",
    "fig_2.show ('png')"
   ]
  },
  {
   "cell_type": "markdown",
   "metadata": {},
   "source": [
    "**Вывод:** Значение `p-value` превысило заданный нами параметр `alpha`. Диаграмма размаха также показала значительную разницу в выручке двух категорий пользователей. Тариф `ultra` максимально сконцентрирован у показателя ежемесячной платы (1950 руб), имея незначительно количество выборосов данных, в товремя как тариф `smart` имеет довольно большой охват средних значений в диапазоне от 550 до 1700 руб, а также имеет большое количество выбросов за пределами 3500 руб. Нулевую гипотезу можно отвергнуть, приняв альтернативную гипотезу - \"Средняя выручка пользователей тарифов «Ультра» и «Смарт» различаются\"."
   ]
  },
  {
   "cell_type": "markdown",
   "metadata": {},
   "source": [
    "<a id=\"4.2\"></a>\n",
    "### Гипотеза №2\n",
    "**Определим вторую гипотезу:** Средняя выручка пользователей из Москвы отличается от выручки пользователей из других регионов.\n",
    "\n",
    "* H0  — средняя выручка пользователей из Москвы и пользователей из регионов равна.\n",
    "* H1  — средняя выручка пользователей из Москвы и пользователей из регионов различается.\n",
    "\n",
    "В данной гипотезе мы также будем сравнивать две разные выборки, поэтому при проверке этой гипотезы воспользуемся методом из предыдущего подраздела. Допустимое пороговое значение также примем равным `alpha = 1`. Добавим информацию о городе проживания в главный датасет `data_main`."
   ]
  },
  {
   "cell_type": "code",
   "execution_count": 37,
   "metadata": {
    "scrolled": false
   },
   "outputs": [
    {
     "data": {
      "text/html": [
       "<div>\n",
       "<style scoped>\n",
       "    .dataframe tbody tr th:only-of-type {\n",
       "        vertical-align: middle;\n",
       "    }\n",
       "\n",
       "    .dataframe tbody tr th {\n",
       "        vertical-align: top;\n",
       "    }\n",
       "\n",
       "    .dataframe thead th {\n",
       "        text-align: right;\n",
       "    }\n",
       "</style>\n",
       "<table border=\"1\" class=\"dataframe\">\n",
       "  <thead>\n",
       "    <tr style=\"text-align: right;\">\n",
       "      <th></th>\n",
       "      <th>user_id</th>\n",
       "      <th>month</th>\n",
       "      <th>calls_count</th>\n",
       "      <th>minutes_total</th>\n",
       "      <th>messages_count</th>\n",
       "      <th>gb_total</th>\n",
       "      <th>tariff</th>\n",
       "      <th>revenue</th>\n",
       "      <th>city</th>\n",
       "    </tr>\n",
       "  </thead>\n",
       "  <tbody>\n",
       "    <tr>\n",
       "      <th>2433</th>\n",
       "      <td>1381</td>\n",
       "      <td>11</td>\n",
       "      <td>91</td>\n",
       "      <td>567</td>\n",
       "      <td>41</td>\n",
       "      <td>54.0</td>\n",
       "      <td>ultra</td>\n",
       "      <td>5550.0</td>\n",
       "      <td>из Москвы</td>\n",
       "    </tr>\n",
       "    <tr>\n",
       "      <th>2284</th>\n",
       "      <td>1361</td>\n",
       "      <td>11</td>\n",
       "      <td>38</td>\n",
       "      <td>245</td>\n",
       "      <td>35</td>\n",
       "      <td>49.0</td>\n",
       "      <td>ultra</td>\n",
       "      <td>4800.0</td>\n",
       "      <td>из региона</td>\n",
       "    </tr>\n",
       "    <tr>\n",
       "      <th>1341</th>\n",
       "      <td>1209</td>\n",
       "      <td>10</td>\n",
       "      <td>38</td>\n",
       "      <td>322</td>\n",
       "      <td>66</td>\n",
       "      <td>52.0</td>\n",
       "      <td>smart</td>\n",
       "      <td>7998.0</td>\n",
       "      <td>из региона</td>\n",
       "    </tr>\n",
       "    <tr>\n",
       "      <th>1385</th>\n",
       "      <td>1217</td>\n",
       "      <td>10</td>\n",
       "      <td>69</td>\n",
       "      <td>463</td>\n",
       "      <td>74</td>\n",
       "      <td>36.0</td>\n",
       "      <td>smart</td>\n",
       "      <td>4822.0</td>\n",
       "      <td>из региона</td>\n",
       "    </tr>\n",
       "    <tr>\n",
       "      <th>314</th>\n",
       "      <td>1050</td>\n",
       "      <td>10</td>\n",
       "      <td>3</td>\n",
       "      <td>50</td>\n",
       "      <td>2</td>\n",
       "      <td>1.0</td>\n",
       "      <td>ultra</td>\n",
       "      <td>1950.0</td>\n",
       "      <td>из региона</td>\n",
       "    </tr>\n",
       "    <tr>\n",
       "      <th>847</th>\n",
       "      <td>1134</td>\n",
       "      <td>3</td>\n",
       "      <td>61</td>\n",
       "      <td>461</td>\n",
       "      <td>57</td>\n",
       "      <td>50.0</td>\n",
       "      <td>smart</td>\n",
       "      <td>7571.0</td>\n",
       "      <td>из региона</td>\n",
       "    </tr>\n",
       "    <tr>\n",
       "      <th>2208</th>\n",
       "      <td>1350</td>\n",
       "      <td>8</td>\n",
       "      <td>4</td>\n",
       "      <td>35</td>\n",
       "      <td>2</td>\n",
       "      <td>3.0</td>\n",
       "      <td>ultra</td>\n",
       "      <td>1950.0</td>\n",
       "      <td>из региона</td>\n",
       "    </tr>\n",
       "    <tr>\n",
       "      <th>1372</th>\n",
       "      <td>1215</td>\n",
       "      <td>10</td>\n",
       "      <td>56</td>\n",
       "      <td>329</td>\n",
       "      <td>16</td>\n",
       "      <td>44.0</td>\n",
       "      <td>smart</td>\n",
       "      <td>6350.0</td>\n",
       "      <td>из региона</td>\n",
       "    </tr>\n",
       "    <tr>\n",
       "      <th>2612</th>\n",
       "      <td>1408</td>\n",
       "      <td>5</td>\n",
       "      <td>15</td>\n",
       "      <td>95</td>\n",
       "      <td>3</td>\n",
       "      <td>8.0</td>\n",
       "      <td>smart</td>\n",
       "      <td>550.0</td>\n",
       "      <td>из региона</td>\n",
       "    </tr>\n",
       "    <tr>\n",
       "      <th>2110</th>\n",
       "      <td>1332</td>\n",
       "      <td>7</td>\n",
       "      <td>58</td>\n",
       "      <td>497</td>\n",
       "      <td>35</td>\n",
       "      <td>54.0</td>\n",
       "      <td>smart</td>\n",
       "      <td>8350.0</td>\n",
       "      <td>из Москвы</td>\n",
       "    </tr>\n",
       "  </tbody>\n",
       "</table>\n",
       "</div>"
      ],
      "text/plain": [
       "      user_id  month  calls_count  minutes_total  messages_count  gb_total  \\\n",
       "2433     1381     11           91            567              41      54.0   \n",
       "2284     1361     11           38            245              35      49.0   \n",
       "1341     1209     10           38            322              66      52.0   \n",
       "1385     1217     10           69            463              74      36.0   \n",
       "314      1050     10            3             50               2       1.0   \n",
       "847      1134      3           61            461              57      50.0   \n",
       "2208     1350      8            4             35               2       3.0   \n",
       "1372     1215     10           56            329              16      44.0   \n",
       "2612     1408      5           15             95               3       8.0   \n",
       "2110     1332      7           58            497              35      54.0   \n",
       "\n",
       "     tariff  revenue        city  \n",
       "2433  ultra   5550.0   из Москвы  \n",
       "2284  ultra   4800.0  из региона  \n",
       "1341  smart   7998.0  из региона  \n",
       "1385  smart   4822.0  из региона  \n",
       "314   ultra   1950.0  из региона  \n",
       "847   smart   7571.0  из региона  \n",
       "2208  ultra   1950.0  из региона  \n",
       "1372  smart   6350.0  из региона  \n",
       "2612  smart    550.0  из региона  \n",
       "2110  smart   8350.0   из Москвы  "
      ]
     },
     "execution_count": 37,
     "metadata": {},
     "output_type": "execute_result"
    }
   ],
   "source": [
    "data_main = data_main.merge (data_users [['user_id', 'city']], on = 'user_id', how = 'left')\n",
    "data_main ['city'] = np.where (data_main ['city'] == 'Москва', 'из Москвы', 'из региона')\n",
    "data_main.sample (10)"
   ]
  },
  {
   "cell_type": "markdown",
   "metadata": {},
   "source": [
    "Сравним размеры двух выборок и дисперсию значений по колонке `revenue`."
   ]
  },
  {
   "cell_type": "code",
   "execution_count": 38,
   "metadata": {},
   "outputs": [
    {
     "name": "stdout",
     "output_type": "stream",
     "text": [
      "Размер выборки пользователей из региона: 2603\n",
      "Дисперсия выручки пользователей из региона: 8768407.4\n",
      "\n",
      "Размер выборки пользователей из Москвы: 611\n",
      "Дисперсия выручки пользователей из Москвы: 7199795.9\n",
      "\n"
     ]
    }
   ],
   "source": [
    "for i in data_main ['city'].unique():\n",
    "    print (f'Размер выборки пользователей {i}:', len (data_main.query ('city == @i')))\n",
    "    print (f'Дисперсия выручки пользователей {i}:', round (data_main.query ('city == @i')['revenue'].agg (np.var), 1))\n",
    "    print()"
   ]
  },
  {
   "cell_type": "markdown",
   "metadata": {},
   "source": [
    "Сравниваемые выборки сильно отличаются как по размеру, так и по значению их дисперсии. Учтём это при использовании метода проверки."
   ]
  },
  {
   "cell_type": "code",
   "execution_count": 39,
   "metadata": {},
   "outputs": [
    {
     "name": "stdout",
     "output_type": "stream",
     "text": [
      "p-value: 0.25438147756433427\n",
      "НЕ отвергаем нулевую гипотезу\n"
     ]
    }
   ],
   "source": [
    "result_2 = st.ttest_ind (data_main.query ('city == \"из Москвы\"')['revenue'],\n",
    "                         data_main.query ('city != \"из Москвы\"')['revenue'],\n",
    "                         equal_var = False)\n",
    "print ('p-value:', result_2.pvalue)\n",
    "if result_2.pvalue < 0.01:\n",
    "    print ('Отвергаем нулевую гипотезу')\n",
    "else:\n",
    "    print ('НЕ отвергаем нулевую гипотезу')"
   ]
  },
  {
   "cell_type": "markdown",
   "metadata": {},
   "source": [
    "Проверим получившиеся результаты с помощью диаграмм размаха."
   ]
  },
  {
   "cell_type": "code",
   "execution_count": 40,
   "metadata": {},
   "outputs": [
    {
     "data": {
      "image/png": "[encoded data removed]"
     },
     "metadata": {},
     "output_type": "display_data"
    }
   ],
   "source": [
    "fig_3 = px.box (data_main, x = 'city', y = 'revenue', height = 600, width = 1000)\n",
    "fig_3.show ('png')"
   ]
  },
  {
   "cell_type": "markdown",
   "metadata": {},
   "source": [
    "**Вывод:** Значение `p-value` оказалось в пределах заданного нами параметра `alpha`. Диаграмма размаха также подтверждает примерно одинаковые средние значения у двух когорт. Единственная разница - значительное количество выбросов значений свыше 4000 руб у регионов, при более равномерном распределении у пользователей из Москвы. Нулевую гипотезу оставляем актуальной, альтернативную гипотезу отвергаем. Средняя выручка пользователей из Москвы и пользователей из регионов равна."
   ]
  },
  {
   "cell_type": "markdown",
   "metadata": {},
   "source": [
    "<a id=\"5\"></a>\n",
    "## Общие выводы\n",
    "\n",
    "- Медианные значения выручки от тарифа `smart` - 965 руб, `ultra` - 1950 руб\n",
    "- Пользователи тарифа `smart` значительно чаще превышают минимальный ежемесячный платёж, чем пользователи `ultra`\n",
    "- Количество клиентов по обоим тарифным планам ежемесяно растёт - об этом говорит рост активности пользователей в течение года\n",
    "- Наиболее популярным тарифным планом остаётся `smart` за счёт низкой стоимости\n",
    "- Гипотеза №1 подтвердилась: средняя выручка в двух разных тарифов сильно отличается\n",
    "- Гипотеза №2 не подтвердилась: город проживания пользователя практически не влияет на ежемесячные затраты\n",
    "\n",
    "Тариф `smart`, имея более низкую ежемесячную оплату, приносит значительно больше прибыли, чем тариф `ultra`. Привлечение новых клиентов позволяет динамично увеличивать выручку."
   ]
  }
 ],
 "metadata": {
  "ExecuteTimeLog": [
   {
    "duration": 390,
    "start_time": "2022-10-09T10:44:22.602Z"
   },
   {
    "duration": 714,
    "start_time": "2022-10-09T10:45:44.744Z"
   },
   {
    "duration": 148,
    "start_time": "2022-10-09T10:45:52.833Z"
   },
   {
    "duration": 778,
    "start_time": "2022-10-09T10:47:38.918Z"
   },
   {
    "duration": 74,
    "start_time": "2022-10-09T10:47:55.234Z"
   },
   {
    "duration": 56,
    "start_time": "2022-10-09T10:50:44.139Z"
   },
   {
    "duration": 17,
    "start_time": "2022-10-09T10:50:54.473Z"
   },
   {
    "duration": 41,
    "start_time": "2022-10-09T11:00:55.062Z"
   },
   {
    "duration": 40,
    "start_time": "2022-10-09T11:01:15.788Z"
   },
   {
    "duration": 41,
    "start_time": "2022-10-09T11:01:45.903Z"
   },
   {
    "duration": 11,
    "start_time": "2022-10-09T11:03:03.364Z"
   },
   {
    "duration": 350,
    "start_time": "2022-10-09T11:03:19.407Z"
   },
   {
    "duration": 405,
    "start_time": "2022-10-09T11:03:31.314Z"
   },
   {
    "duration": 408,
    "start_time": "2022-10-09T11:04:04.106Z"
   },
   {
    "duration": 666,
    "start_time": "2022-10-09T11:04:20.667Z"
   },
   {
    "duration": 309,
    "start_time": "2022-10-09T11:05:18.465Z"
   },
   {
    "duration": 321,
    "start_time": "2022-10-09T11:06:11.744Z"
   },
   {
    "duration": 48,
    "start_time": "2022-10-09T11:07:15.794Z"
   },
   {
    "duration": 48,
    "start_time": "2022-10-09T11:07:29.105Z"
   },
   {
    "duration": 416,
    "start_time": "2022-10-09T11:07:44.593Z"
   },
   {
    "duration": 9,
    "start_time": "2022-10-09T11:08:23.302Z"
   },
   {
    "duration": 9,
    "start_time": "2022-10-09T11:08:28.369Z"
   },
   {
    "duration": 9,
    "start_time": "2022-10-09T11:08:32.351Z"
   },
   {
    "duration": 318,
    "start_time": "2022-10-09T11:09:09.578Z"
   },
   {
    "duration": 35,
    "start_time": "2022-10-09T11:09:19.764Z"
   },
   {
    "duration": 359,
    "start_time": "2022-10-09T11:10:06.221Z"
   },
   {
    "duration": 407,
    "start_time": "2022-10-09T11:10:46.099Z"
   },
   {
    "duration": 474,
    "start_time": "2022-10-09T11:11:15.735Z"
   },
   {
    "duration": 373,
    "start_time": "2022-10-09T11:11:29.825Z"
   },
   {
    "duration": 548,
    "start_time": "2022-10-09T11:11:30.200Z"
   },
   {
    "duration": 433,
    "start_time": "2022-10-09T11:11:30.750Z"
   },
   {
    "duration": 16,
    "start_time": "2022-10-09T11:12:54.752Z"
   },
   {
    "duration": 82,
    "start_time": "2022-10-09T11:13:17.897Z"
   },
   {
    "duration": 44,
    "start_time": "2022-10-09T11:13:50.428Z"
   },
   {
    "duration": 45,
    "start_time": "2022-10-09T11:15:06.116Z"
   },
   {
    "duration": 323,
    "start_time": "2022-10-09T11:15:12.329Z"
   },
   {
    "duration": 12,
    "start_time": "2022-10-09T11:16:31.405Z"
   },
   {
    "duration": 12,
    "start_time": "2022-10-09T11:16:47.162Z"
   },
   {
    "duration": 9,
    "start_time": "2022-10-09T11:17:04.521Z"
   },
   {
    "duration": 14,
    "start_time": "2022-10-09T11:17:11.606Z"
   },
   {
    "duration": 17,
    "start_time": "2022-10-09T11:17:57.739Z"
   },
   {
    "duration": 15,
    "start_time": "2022-10-09T11:18:10.875Z"
   },
   {
    "duration": 11,
    "start_time": "2022-10-09T11:18:34.491Z"
   },
   {
    "duration": 16,
    "start_time": "2022-10-09T11:18:43.545Z"
   },
   {
    "duration": 14,
    "start_time": "2022-10-09T11:19:29.468Z"
   },
   {
    "duration": 14,
    "start_time": "2022-10-09T11:21:18.265Z"
   },
   {
    "duration": 48,
    "start_time": "2022-10-09T11:22:59.493Z"
   },
   {
    "duration": 4,
    "start_time": "2022-10-09T11:23:02.394Z"
   },
   {
    "duration": 10,
    "start_time": "2022-10-09T11:23:40.697Z"
   },
   {
    "duration": 4,
    "start_time": "2022-10-09T11:26:00.268Z"
   },
   {
    "duration": 13,
    "start_time": "2022-10-09T11:27:51.701Z"
   },
   {
    "duration": 5098,
    "start_time": "2022-10-09T11:35:42.010Z"
   },
   {
    "duration": 364,
    "start_time": "2022-10-09T11:36:54.552Z"
   },
   {
    "duration": 423,
    "start_time": "2022-10-09T11:36:54.918Z"
   },
   {
    "duration": 23,
    "start_time": "2022-10-09T11:36:55.343Z"
   },
   {
    "duration": 74,
    "start_time": "2022-10-09T11:36:55.368Z"
   },
   {
    "duration": 16,
    "start_time": "2022-10-09T11:36:55.443Z"
   },
   {
    "duration": 2175,
    "start_time": "2022-10-09T11:36:55.461Z"
   },
   {
    "duration": 38,
    "start_time": "2022-10-09T11:37:14.653Z"
   },
   {
    "duration": 12,
    "start_time": "2022-10-09T11:37:27.137Z"
   },
   {
    "duration": 3,
    "start_time": "2022-10-09T11:42:38.133Z"
   },
   {
    "duration": 21,
    "start_time": "2022-10-09T11:43:00.689Z"
   },
   {
    "duration": 396,
    "start_time": "2022-10-09T11:43:13.216Z"
   },
   {
    "duration": 412,
    "start_time": "2022-10-09T11:43:13.614Z"
   },
   {
    "duration": 27,
    "start_time": "2022-10-09T11:43:14.028Z"
   },
   {
    "duration": 47,
    "start_time": "2022-10-09T11:43:14.056Z"
   },
   {
    "duration": 31,
    "start_time": "2022-10-09T11:43:14.105Z"
   },
   {
    "duration": 37,
    "start_time": "2022-10-09T11:43:14.139Z"
   },
   {
    "duration": 15,
    "start_time": "2022-10-09T11:43:14.177Z"
   },
   {
    "duration": 19,
    "start_time": "2022-10-09T11:43:24.719Z"
   },
   {
    "duration": 80,
    "start_time": "2022-10-09T11:44:28.770Z"
   },
   {
    "duration": 11,
    "start_time": "2022-10-09T11:44:37.536Z"
   },
   {
    "duration": 8,
    "start_time": "2022-10-09T11:45:01.578Z"
   },
   {
    "duration": 11,
    "start_time": "2022-10-09T11:55:50.539Z"
   },
   {
    "duration": 21,
    "start_time": "2022-10-09T11:56:50.148Z"
   },
   {
    "duration": 55,
    "start_time": "2022-10-09T11:57:09.215Z"
   },
   {
    "duration": 348,
    "start_time": "2022-10-09T11:59:44.828Z"
   },
   {
    "duration": 351,
    "start_time": "2022-10-09T12:00:02.064Z"
   },
   {
    "duration": 373,
    "start_time": "2022-10-09T12:00:02.416Z"
   },
   {
    "duration": 20,
    "start_time": "2022-10-09T12:00:02.790Z"
   },
   {
    "duration": 42,
    "start_time": "2022-10-09T12:00:02.812Z"
   },
   {
    "duration": 12,
    "start_time": "2022-10-09T12:00:02.855Z"
   },
   {
    "duration": 36,
    "start_time": "2022-10-09T12:00:02.868Z"
   },
   {
    "duration": 8,
    "start_time": "2022-10-09T12:00:02.922Z"
   },
   {
    "duration": 26,
    "start_time": "2022-10-09T12:00:02.932Z"
   },
   {
    "duration": 21,
    "start_time": "2022-10-09T12:00:02.960Z"
   },
   {
    "duration": 627,
    "start_time": "2022-10-09T12:00:02.983Z"
   },
   {
    "duration": 11,
    "start_time": "2022-10-09T12:00:30.891Z"
   },
   {
    "duration": 327,
    "start_time": "2022-10-09T12:00:36.754Z"
   },
   {
    "duration": 9,
    "start_time": "2022-10-09T12:00:48.076Z"
   },
   {
    "duration": 7,
    "start_time": "2022-10-09T12:02:42.038Z"
   },
   {
    "duration": 22,
    "start_time": "2022-10-09T12:03:39.210Z"
   },
   {
    "duration": 6,
    "start_time": "2022-10-09T12:05:59.855Z"
   },
   {
    "duration": 12,
    "start_time": "2022-10-09T12:06:07.221Z"
   },
   {
    "duration": 8,
    "start_time": "2022-10-09T12:06:10.287Z"
   },
   {
    "duration": 322,
    "start_time": "2022-10-09T12:06:29.272Z"
   },
   {
    "duration": 369,
    "start_time": "2022-10-09T12:06:29.595Z"
   },
   {
    "duration": 21,
    "start_time": "2022-10-09T12:06:29.965Z"
   },
   {
    "duration": 42,
    "start_time": "2022-10-09T12:06:29.988Z"
   },
   {
    "duration": 13,
    "start_time": "2022-10-09T12:06:30.031Z"
   },
   {
    "duration": 35,
    "start_time": "2022-10-09T12:06:30.045Z"
   },
   {
    "duration": 8,
    "start_time": "2022-10-09T12:06:30.082Z"
   },
   {
    "duration": 40,
    "start_time": "2022-10-09T12:06:30.091Z"
   },
   {
    "duration": 31,
    "start_time": "2022-10-09T12:06:30.132Z"
   },
   {
    "duration": 10,
    "start_time": "2022-10-09T12:06:30.165Z"
   },
   {
    "duration": 28,
    "start_time": "2022-10-09T12:06:30.177Z"
   },
   {
    "duration": 369,
    "start_time": "2022-10-09T12:08:21.390Z"
   },
   {
    "duration": 400,
    "start_time": "2022-10-09T12:08:21.760Z"
   },
   {
    "duration": 22,
    "start_time": "2022-10-09T12:08:22.161Z"
   },
   {
    "duration": 57,
    "start_time": "2022-10-09T12:08:22.184Z"
   },
   {
    "duration": 13,
    "start_time": "2022-10-09T12:08:22.243Z"
   },
   {
    "duration": 34,
    "start_time": "2022-10-09T12:08:22.258Z"
   },
   {
    "duration": 8,
    "start_time": "2022-10-09T12:08:22.294Z"
   },
   {
    "duration": 28,
    "start_time": "2022-10-09T12:08:22.303Z"
   },
   {
    "duration": 19,
    "start_time": "2022-10-09T12:08:22.332Z"
   },
   {
    "duration": 10,
    "start_time": "2022-10-09T12:08:22.353Z"
   },
   {
    "duration": 9,
    "start_time": "2022-10-09T12:08:22.365Z"
   },
   {
    "duration": 396,
    "start_time": "2022-10-09T12:08:39.103Z"
   },
   {
    "duration": 382,
    "start_time": "2022-10-09T12:08:39.500Z"
   },
   {
    "duration": 24,
    "start_time": "2022-10-09T12:08:39.883Z"
   },
   {
    "duration": 44,
    "start_time": "2022-10-09T12:08:39.909Z"
   },
   {
    "duration": 13,
    "start_time": "2022-10-09T12:08:39.955Z"
   },
   {
    "duration": 33,
    "start_time": "2022-10-09T12:08:39.969Z"
   },
   {
    "duration": 18,
    "start_time": "2022-10-09T12:08:40.004Z"
   },
   {
    "duration": 14,
    "start_time": "2022-10-09T12:08:40.024Z"
   },
   {
    "duration": 25,
    "start_time": "2022-10-09T12:08:40.040Z"
   },
   {
    "duration": 9,
    "start_time": "2022-10-09T12:08:40.067Z"
   },
   {
    "duration": 14,
    "start_time": "2022-10-09T12:08:40.077Z"
   },
   {
    "duration": 428,
    "start_time": "2022-10-09T12:09:25.836Z"
   },
   {
    "duration": 372,
    "start_time": "2022-10-09T12:09:26.265Z"
   },
   {
    "duration": 19,
    "start_time": "2022-10-09T12:09:26.639Z"
   },
   {
    "duration": 45,
    "start_time": "2022-10-09T12:09:26.660Z"
   },
   {
    "duration": 12,
    "start_time": "2022-10-09T12:09:26.707Z"
   },
   {
    "duration": 37,
    "start_time": "2022-10-09T12:09:26.722Z"
   },
   {
    "duration": 7,
    "start_time": "2022-10-09T12:09:26.760Z"
   },
   {
    "duration": 20,
    "start_time": "2022-10-09T12:09:26.769Z"
   },
   {
    "duration": 30,
    "start_time": "2022-10-09T12:09:26.791Z"
   },
   {
    "duration": 9,
    "start_time": "2022-10-09T12:09:26.824Z"
   },
   {
    "duration": 18,
    "start_time": "2022-10-09T12:09:26.835Z"
   },
   {
    "duration": 369,
    "start_time": "2022-10-09T12:10:51.627Z"
   },
   {
    "duration": 373,
    "start_time": "2022-10-09T12:10:51.997Z"
   },
   {
    "duration": 21,
    "start_time": "2022-10-09T12:10:52.371Z"
   },
   {
    "duration": 50,
    "start_time": "2022-10-09T12:10:52.393Z"
   },
   {
    "duration": 12,
    "start_time": "2022-10-09T12:10:52.445Z"
   },
   {
    "duration": 56,
    "start_time": "2022-10-09T12:10:52.458Z"
   },
   {
    "duration": 7,
    "start_time": "2022-10-09T12:10:52.515Z"
   },
   {
    "duration": 13,
    "start_time": "2022-10-09T12:10:52.524Z"
   },
   {
    "duration": 18,
    "start_time": "2022-10-09T12:10:52.539Z"
   },
   {
    "duration": 9,
    "start_time": "2022-10-09T12:10:52.558Z"
   },
   {
    "duration": 81,
    "start_time": "2022-10-09T12:10:52.568Z"
   },
   {
    "duration": 9,
    "start_time": "2022-10-09T12:11:30.210Z"
   },
   {
    "duration": 24,
    "start_time": "2022-10-09T12:14:53.230Z"
   },
   {
    "duration": 5,
    "start_time": "2022-10-09T12:18:43.920Z"
   },
   {
    "duration": 7,
    "start_time": "2022-10-09T12:21:54.743Z"
   },
   {
    "duration": 9,
    "start_time": "2022-10-09T12:22:02.609Z"
   },
   {
    "duration": 11,
    "start_time": "2022-10-09T12:22:57.867Z"
   },
   {
    "duration": 15,
    "start_time": "2022-10-09T12:23:19.423Z"
   },
   {
    "duration": 13,
    "start_time": "2022-10-09T12:24:17.844Z"
   },
   {
    "duration": 17,
    "start_time": "2022-10-09T12:25:32.535Z"
   },
   {
    "duration": 16,
    "start_time": "2022-10-09T12:25:39.127Z"
   },
   {
    "duration": 51,
    "start_time": "2022-10-11T10:14:51.122Z"
   },
   {
    "duration": 459,
    "start_time": "2022-10-11T10:14:56.479Z"
   },
   {
    "duration": 1737,
    "start_time": "2022-10-11T10:14:56.940Z"
   },
   {
    "duration": 40,
    "start_time": "2022-10-11T10:14:58.679Z"
   },
   {
    "duration": 84,
    "start_time": "2022-10-11T10:14:58.721Z"
   },
   {
    "duration": 144,
    "start_time": "2022-10-11T10:14:58.807Z"
   },
   {
    "duration": 139,
    "start_time": "2022-10-11T10:15:20.128Z"
   },
   {
    "duration": 156,
    "start_time": "2022-10-11T10:16:31.291Z"
   },
   {
    "duration": 44,
    "start_time": "2022-10-11T10:19:24.418Z"
   },
   {
    "duration": 56,
    "start_time": "2022-10-11T10:20:08.718Z"
   },
   {
    "duration": 43,
    "start_time": "2022-10-11T10:22:12.089Z"
   },
   {
    "duration": 81,
    "start_time": "2022-10-11T10:22:21.145Z"
   },
   {
    "duration": 69,
    "start_time": "2022-10-11T10:24:05.863Z"
   },
   {
    "duration": 9,
    "start_time": "2022-10-11T10:36:40.927Z"
   },
   {
    "duration": 36,
    "start_time": "2022-10-11T10:40:41.619Z"
   },
   {
    "duration": 6,
    "start_time": "2022-10-11T10:40:55.614Z"
   },
   {
    "duration": 25,
    "start_time": "2022-10-11T10:41:04.623Z"
   },
   {
    "duration": 35,
    "start_time": "2022-10-11T10:41:31.583Z"
   },
   {
    "duration": 59,
    "start_time": "2022-10-11T10:46:17.396Z"
   },
   {
    "duration": 59,
    "start_time": "2022-10-11T10:49:11.102Z"
   },
   {
    "duration": 61,
    "start_time": "2022-10-11T10:49:36.710Z"
   },
   {
    "duration": 62,
    "start_time": "2022-10-11T10:49:43.041Z"
   },
   {
    "duration": 61,
    "start_time": "2022-10-11T10:50:09.985Z"
   },
   {
    "duration": 120,
    "start_time": "2022-10-11T10:51:36.774Z"
   },
   {
    "duration": 59,
    "start_time": "2022-10-11T10:52:00.068Z"
   },
   {
    "duration": 61,
    "start_time": "2022-10-11T10:53:15.634Z"
   },
   {
    "duration": 76,
    "start_time": "2022-10-11T10:53:30.733Z"
   },
   {
    "duration": 58,
    "start_time": "2022-10-11T10:54:43.601Z"
   },
   {
    "duration": 9,
    "start_time": "2022-10-11T11:04:03.492Z"
   },
   {
    "duration": 471,
    "start_time": "2022-10-11T11:04:26.971Z"
   },
   {
    "duration": 1222,
    "start_time": "2022-10-11T11:04:27.444Z"
   },
   {
    "duration": 26,
    "start_time": "2022-10-11T11:04:28.667Z"
   },
   {
    "duration": 53,
    "start_time": "2022-10-11T11:04:28.695Z"
   },
   {
    "duration": 130,
    "start_time": "2022-10-11T11:04:28.750Z"
   },
   {
    "duration": 20,
    "start_time": "2022-10-11T11:04:28.882Z"
   },
   {
    "duration": 45,
    "start_time": "2022-10-11T11:04:28.904Z"
   },
   {
    "duration": 78,
    "start_time": "2022-10-11T11:04:28.951Z"
   },
   {
    "duration": 9,
    "start_time": "2022-10-11T11:04:29.030Z"
   },
   {
    "duration": 15,
    "start_time": "2022-10-11T11:04:29.041Z"
   },
   {
    "duration": 51,
    "start_time": "2022-10-11T11:04:29.057Z"
   },
   {
    "duration": 55,
    "start_time": "2022-10-11T11:04:29.110Z"
   },
   {
    "duration": 29,
    "start_time": "2022-10-11T11:04:29.167Z"
   },
   {
    "duration": 11,
    "start_time": "2022-10-11T11:04:29.199Z"
   },
   {
    "duration": 14,
    "start_time": "2022-10-11T11:04:29.212Z"
   },
   {
    "duration": 94,
    "start_time": "2022-10-11T11:04:29.228Z"
   },
   {
    "duration": 50,
    "start_time": "2022-10-11T11:05:33.980Z"
   },
   {
    "duration": 453,
    "start_time": "2022-10-11T11:05:53.910Z"
   },
   {
    "duration": 1210,
    "start_time": "2022-10-11T11:05:54.365Z"
   },
   {
    "duration": 25,
    "start_time": "2022-10-11T11:05:55.577Z"
   },
   {
    "duration": 53,
    "start_time": "2022-10-11T11:05:55.604Z"
   },
   {
    "duration": 130,
    "start_time": "2022-10-11T11:05:55.660Z"
   },
   {
    "duration": 15,
    "start_time": "2022-10-11T11:05:55.792Z"
   },
   {
    "duration": 45,
    "start_time": "2022-10-11T11:05:55.808Z"
   },
   {
    "duration": 81,
    "start_time": "2022-10-11T11:05:55.855Z"
   },
   {
    "duration": 10,
    "start_time": "2022-10-11T11:05:55.937Z"
   },
   {
    "duration": 17,
    "start_time": "2022-10-11T11:05:55.949Z"
   },
   {
    "duration": 23,
    "start_time": "2022-10-11T11:05:55.989Z"
   },
   {
    "duration": 77,
    "start_time": "2022-10-11T11:05:56.014Z"
   },
   {
    "duration": 12,
    "start_time": "2022-10-11T11:05:56.093Z"
   },
   {
    "duration": 11,
    "start_time": "2022-10-11T11:05:56.109Z"
   },
   {
    "duration": 14,
    "start_time": "2022-10-11T11:05:56.122Z"
   },
   {
    "duration": 100,
    "start_time": "2022-10-11T11:05:56.138Z"
   },
   {
    "duration": 4,
    "start_time": "2022-10-11T11:05:56.240Z"
   },
   {
    "duration": 52,
    "start_time": "2022-10-11T11:06:09.274Z"
   },
   {
    "duration": 7,
    "start_time": "2022-10-11T11:06:57.135Z"
   },
   {
    "duration": 479,
    "start_time": "2022-10-11T11:07:08.766Z"
   },
   {
    "duration": 1204,
    "start_time": "2022-10-11T11:07:09.247Z"
   },
   {
    "duration": 29,
    "start_time": "2022-10-11T11:07:10.453Z"
   },
   {
    "duration": 60,
    "start_time": "2022-10-11T11:07:10.484Z"
   },
   {
    "duration": 167,
    "start_time": "2022-10-11T11:07:10.547Z"
   },
   {
    "duration": 16,
    "start_time": "2022-10-11T11:07:10.716Z"
   },
   {
    "duration": 68,
    "start_time": "2022-10-11T11:07:10.734Z"
   },
   {
    "duration": 88,
    "start_time": "2022-10-11T11:07:10.805Z"
   },
   {
    "duration": 10,
    "start_time": "2022-10-11T11:07:10.895Z"
   },
   {
    "duration": 16,
    "start_time": "2022-10-11T11:07:10.906Z"
   },
   {
    "duration": 22,
    "start_time": "2022-10-11T11:07:10.924Z"
   },
   {
    "duration": 87,
    "start_time": "2022-10-11T11:07:10.948Z"
   },
   {
    "duration": 11,
    "start_time": "2022-10-11T11:07:11.037Z"
   },
   {
    "duration": 11,
    "start_time": "2022-10-11T11:07:11.051Z"
   },
   {
    "duration": 13,
    "start_time": "2022-10-11T11:07:11.089Z"
   },
   {
    "duration": 57,
    "start_time": "2022-10-11T11:07:11.103Z"
   },
   {
    "duration": 4,
    "start_time": "2022-10-11T11:07:11.189Z"
   },
   {
    "duration": 57,
    "start_time": "2022-10-11T11:09:55.935Z"
   },
   {
    "duration": 397,
    "start_time": "2022-10-11T11:10:10.628Z"
   },
   {
    "duration": 1252,
    "start_time": "2022-10-11T11:10:11.027Z"
   },
   {
    "duration": 25,
    "start_time": "2022-10-11T11:10:12.281Z"
   },
   {
    "duration": 54,
    "start_time": "2022-10-11T11:10:12.308Z"
   },
   {
    "duration": 159,
    "start_time": "2022-10-11T11:10:12.365Z"
   },
   {
    "duration": 16,
    "start_time": "2022-10-11T11:10:12.526Z"
   },
   {
    "duration": 69,
    "start_time": "2022-10-11T11:10:12.544Z"
   },
   {
    "duration": 54,
    "start_time": "2022-10-11T11:10:12.615Z"
   },
   {
    "duration": 22,
    "start_time": "2022-10-11T11:10:12.671Z"
   },
   {
    "duration": 18,
    "start_time": "2022-10-11T11:10:12.694Z"
   },
   {
    "duration": 27,
    "start_time": "2022-10-11T11:10:12.713Z"
   },
   {
    "duration": 71,
    "start_time": "2022-10-11T11:10:12.742Z"
   },
   {
    "duration": 10,
    "start_time": "2022-10-11T11:10:12.815Z"
   },
   {
    "duration": 25,
    "start_time": "2022-10-11T11:10:12.828Z"
   },
   {
    "duration": 36,
    "start_time": "2022-10-11T11:10:12.855Z"
   },
   {
    "duration": 62,
    "start_time": "2022-10-11T11:10:12.893Z"
   },
   {
    "duration": 3,
    "start_time": "2022-10-11T11:10:12.958Z"
   },
   {
    "duration": 129,
    "start_time": "2022-10-11T11:10:12.963Z"
   },
   {
    "duration": 11,
    "start_time": "2022-10-11T11:10:22.311Z"
   },
   {
    "duration": 42,
    "start_time": "2022-10-11T11:10:45.670Z"
   },
   {
    "duration": 41,
    "start_time": "2022-10-11T11:13:48.018Z"
   },
   {
    "duration": 2582,
    "start_time": "2022-10-11T11:15:04.584Z"
   },
   {
    "duration": 47,
    "start_time": "2022-10-11T11:15:47.822Z"
   },
   {
    "duration": 76,
    "start_time": "2022-10-11T11:27:16.655Z"
   },
   {
    "duration": 84,
    "start_time": "2022-10-11T11:42:56.541Z"
   },
   {
    "duration": 1488,
    "start_time": "2022-10-11T11:45:06.064Z"
   },
   {
    "duration": 107,
    "start_time": "2022-10-11T11:47:09.265Z"
   },
   {
    "duration": 94,
    "start_time": "2022-10-11T11:47:34.345Z"
   },
   {
    "duration": 110,
    "start_time": "2022-10-11T11:47:41.762Z"
   },
   {
    "duration": 85,
    "start_time": "2022-10-11T11:47:59.092Z"
   },
   {
    "duration": 102,
    "start_time": "2022-10-11T11:57:50.665Z"
   },
   {
    "duration": 159,
    "start_time": "2022-10-11T11:58:11.706Z"
   },
   {
    "duration": 124,
    "start_time": "2022-10-11T11:58:22.792Z"
   },
   {
    "duration": 114,
    "start_time": "2022-10-11T11:59:37.470Z"
   },
   {
    "duration": 117,
    "start_time": "2022-10-11T12:00:51.422Z"
   },
   {
    "duration": 130,
    "start_time": "2022-10-11T12:01:44.867Z"
   },
   {
    "duration": 116,
    "start_time": "2022-10-11T12:01:53.768Z"
   },
   {
    "duration": 120,
    "start_time": "2022-10-11T12:02:07.428Z"
   },
   {
    "duration": 120,
    "start_time": "2022-10-11T12:02:45.785Z"
   },
   {
    "duration": 116,
    "start_time": "2022-10-11T12:03:01.082Z"
   },
   {
    "duration": 120,
    "start_time": "2022-10-11T12:03:16.211Z"
   },
   {
    "duration": 122,
    "start_time": "2022-10-11T12:03:26.894Z"
   },
   {
    "duration": 120,
    "start_time": "2022-10-11T12:03:39.203Z"
   },
   {
    "duration": 116,
    "start_time": "2022-10-11T12:03:47.120Z"
   },
   {
    "duration": 111,
    "start_time": "2022-10-11T12:04:08.800Z"
   },
   {
    "duration": 113,
    "start_time": "2022-10-11T12:04:13.631Z"
   },
   {
    "duration": 33,
    "start_time": "2022-10-11T12:10:40.557Z"
   },
   {
    "duration": 25,
    "start_time": "2022-10-11T12:10:46.782Z"
   },
   {
    "duration": 14,
    "start_time": "2022-10-11T12:12:38.643Z"
   },
   {
    "duration": 114,
    "start_time": "2022-10-11T12:12:44.332Z"
   },
   {
    "duration": 11,
    "start_time": "2022-10-11T12:12:47.030Z"
   },
   {
    "duration": 119,
    "start_time": "2022-10-11T12:13:40.731Z"
   },
   {
    "duration": 12,
    "start_time": "2022-10-11T12:13:43.098Z"
   },
   {
    "duration": 25,
    "start_time": "2022-10-11T12:14:34.512Z"
   },
   {
    "duration": 28,
    "start_time": "2022-10-11T12:16:17.693Z"
   },
   {
    "duration": 56,
    "start_time": "2022-10-11T12:18:25.916Z"
   },
   {
    "duration": 99,
    "start_time": "2022-10-11T12:20:12.704Z"
   },
   {
    "duration": 122,
    "start_time": "2022-10-11T12:21:03.810Z"
   },
   {
    "duration": 111,
    "start_time": "2022-10-11T12:23:33.695Z"
   },
   {
    "duration": 118,
    "start_time": "2022-10-11T12:23:46.828Z"
   },
   {
    "duration": 120,
    "start_time": "2022-10-11T12:32:22.492Z"
   },
   {
    "duration": 146,
    "start_time": "2022-10-11T12:32:47.682Z"
   },
   {
    "duration": 1487,
    "start_time": "2022-10-11T12:33:29.965Z"
   },
   {
    "duration": 118,
    "start_time": "2022-10-11T12:33:46.242Z"
   },
   {
    "duration": 141,
    "start_time": "2022-10-11T12:33:53.034Z"
   },
   {
    "duration": 166,
    "start_time": "2022-10-11T12:45:48.866Z"
   },
   {
    "duration": 3,
    "start_time": "2022-10-11T12:47:38.487Z"
   },
   {
    "duration": 151,
    "start_time": "2022-10-11T12:50:11.983Z"
   },
   {
    "duration": 156,
    "start_time": "2022-10-11T12:54:16.985Z"
   },
   {
    "duration": 163,
    "start_time": "2022-10-11T12:55:11.784Z"
   },
   {
    "duration": 136,
    "start_time": "2022-10-11T12:55:38.827Z"
   },
   {
    "duration": 139,
    "start_time": "2022-10-11T12:55:45.950Z"
   },
   {
    "duration": 130,
    "start_time": "2022-10-11T12:56:38.082Z"
   },
   {
    "duration": 1541,
    "start_time": "2022-10-11T13:14:55.827Z"
   },
   {
    "duration": 121,
    "start_time": "2022-10-11T13:16:25.933Z"
   },
   {
    "duration": 3,
    "start_time": "2022-10-11T13:16:43.296Z"
   },
   {
    "duration": 145,
    "start_time": "2022-10-11T13:16:46.890Z"
   },
   {
    "duration": 122,
    "start_time": "2022-10-11T13:29:14.374Z"
   },
   {
    "duration": 126,
    "start_time": "2022-10-11T13:30:49.748Z"
   },
   {
    "duration": 132,
    "start_time": "2022-10-11T13:31:00.108Z"
   },
   {
    "duration": 123,
    "start_time": "2022-10-11T13:32:18.579Z"
   },
   {
    "duration": 122,
    "start_time": "2022-10-11T13:33:23.101Z"
   },
   {
    "duration": 117,
    "start_time": "2022-10-11T13:36:51.520Z"
   },
   {
    "duration": 168,
    "start_time": "2022-10-11T13:37:21.739Z"
   },
   {
    "duration": 135,
    "start_time": "2022-10-11T13:37:27.333Z"
   },
   {
    "duration": 88,
    "start_time": "2022-10-11T14:09:13.349Z"
   },
   {
    "duration": 140,
    "start_time": "2022-10-11T14:10:40.744Z"
   },
   {
    "duration": 143,
    "start_time": "2022-10-11T14:13:40.610Z"
   },
   {
    "duration": 139,
    "start_time": "2022-10-11T14:17:39.828Z"
   },
   {
    "duration": 152,
    "start_time": "2022-10-11T14:18:45.584Z"
   },
   {
    "duration": 151,
    "start_time": "2022-10-11T14:20:18.110Z"
   },
   {
    "duration": 131,
    "start_time": "2022-10-11T14:21:28.392Z"
   },
   {
    "duration": 8,
    "start_time": "2022-10-11T14:21:48.389Z"
   },
   {
    "duration": 7,
    "start_time": "2022-10-11T14:21:51.245Z"
   },
   {
    "duration": 6,
    "start_time": "2022-10-11T14:22:04.010Z"
   },
   {
    "duration": 9,
    "start_time": "2022-10-11T14:22:22.744Z"
   },
   {
    "duration": 12,
    "start_time": "2022-10-11T14:22:31.989Z"
   },
   {
    "duration": 7,
    "start_time": "2022-10-11T14:22:41.869Z"
   },
   {
    "duration": 11,
    "start_time": "2022-10-11T14:23:28.541Z"
   },
   {
    "duration": 15,
    "start_time": "2022-10-11T14:34:06.400Z"
   },
   {
    "duration": 9,
    "start_time": "2022-10-11T14:35:11.531Z"
   },
   {
    "duration": 919,
    "start_time": "2022-10-11T14:35:58.432Z"
   },
   {
    "duration": 18,
    "start_time": "2022-10-11T14:36:43.271Z"
   },
   {
    "duration": 18,
    "start_time": "2022-10-11T14:36:55.661Z"
   },
   {
    "duration": 9,
    "start_time": "2022-10-11T14:42:59.822Z"
   },
   {
    "duration": 16,
    "start_time": "2022-10-11T14:43:05.704Z"
   },
   {
    "duration": 16,
    "start_time": "2022-10-11T14:44:15.278Z"
   },
   {
    "duration": 13,
    "start_time": "2022-10-11T14:44:54.483Z"
   },
   {
    "duration": 1550,
    "start_time": "2022-10-11T15:14:20.751Z"
   },
   {
    "duration": 133,
    "start_time": "2022-10-11T15:14:54.566Z"
   },
   {
    "duration": 1675,
    "start_time": "2022-10-11T15:16:21.735Z"
   },
   {
    "duration": 139,
    "start_time": "2022-10-11T15:18:25.325Z"
   },
   {
    "duration": 121,
    "start_time": "2022-10-11T15:18:44.836Z"
   },
   {
    "duration": 129,
    "start_time": "2022-10-11T15:18:50.297Z"
   },
   {
    "duration": 123,
    "start_time": "2022-10-11T15:19:33.778Z"
   },
   {
    "duration": 137,
    "start_time": "2022-10-11T15:20:30.788Z"
   },
   {
    "duration": 119,
    "start_time": "2022-10-11T15:20:52.744Z"
   },
   {
    "duration": 137,
    "start_time": "2022-10-11T15:21:03.390Z"
   },
   {
    "duration": 131,
    "start_time": "2022-10-11T15:22:54.166Z"
   },
   {
    "duration": 148,
    "start_time": "2022-10-11T15:24:00.992Z"
   },
   {
    "duration": 128,
    "start_time": "2022-10-11T15:24:30.347Z"
   },
   {
    "duration": 136,
    "start_time": "2022-10-11T15:24:55.347Z"
   },
   {
    "duration": 130,
    "start_time": "2022-10-11T15:25:24.621Z"
   },
   {
    "duration": 142,
    "start_time": "2022-10-11T15:25:31.072Z"
   },
   {
    "duration": 219,
    "start_time": "2022-10-11T15:26:07.131Z"
   },
   {
    "duration": 406,
    "start_time": "2022-10-17T09:02:56.310Z"
   },
   {
    "duration": 833,
    "start_time": "2022-10-17T09:02:56.718Z"
   },
   {
    "duration": 24,
    "start_time": "2022-10-17T09:02:57.552Z"
   },
   {
    "duration": 49,
    "start_time": "2022-10-17T09:02:57.577Z"
   },
   {
    "duration": 96,
    "start_time": "2022-10-17T09:02:57.629Z"
   },
   {
    "duration": 13,
    "start_time": "2022-10-17T09:02:57.726Z"
   },
   {
    "duration": 40,
    "start_time": "2022-10-17T09:02:57.740Z"
   },
   {
    "duration": 51,
    "start_time": "2022-10-17T09:02:57.781Z"
   },
   {
    "duration": 13,
    "start_time": "2022-10-17T09:02:57.834Z"
   },
   {
    "duration": 14,
    "start_time": "2022-10-17T09:02:57.849Z"
   },
   {
    "duration": 27,
    "start_time": "2022-10-17T09:02:57.864Z"
   },
   {
    "duration": 48,
    "start_time": "2022-10-17T09:02:57.892Z"
   },
   {
    "duration": 10,
    "start_time": "2022-10-17T09:02:57.942Z"
   },
   {
    "duration": 59,
    "start_time": "2022-10-17T09:02:57.953Z"
   },
   {
    "duration": 14,
    "start_time": "2022-10-17T09:02:58.013Z"
   },
   {
    "duration": 46,
    "start_time": "2022-10-17T09:02:58.028Z"
   },
   {
    "duration": 259,
    "start_time": "2022-10-17T09:02:58.075Z"
   },
   {
    "duration": 0,
    "start_time": "2022-10-17T09:02:58.336Z"
   },
   {
    "duration": 96,
    "start_time": "2022-10-17T09:04:34.760Z"
   },
   {
    "duration": 940,
    "start_time": "2022-10-17T09:05:38.789Z"
   },
   {
    "duration": 94,
    "start_time": "2022-10-17T09:06:54.960Z"
   },
   {
    "duration": 11,
    "start_time": "2022-10-17T09:07:38.090Z"
   },
   {
    "duration": 98,
    "start_time": "2022-10-17T09:08:22.665Z"
   },
   {
    "duration": 102,
    "start_time": "2022-10-17T09:09:04.620Z"
   },
   {
    "duration": 111,
    "start_time": "2022-10-17T09:09:17.871Z"
   },
   {
    "duration": 112,
    "start_time": "2022-10-17T09:39:23.729Z"
   },
   {
    "duration": 91,
    "start_time": "2022-10-17T09:45:12.277Z"
   },
   {
    "duration": 125,
    "start_time": "2022-10-17T09:45:19.884Z"
   },
   {
    "duration": 98,
    "start_time": "2022-10-17T09:46:15.682Z"
   },
   {
    "duration": 101,
    "start_time": "2022-10-17T09:47:57.937Z"
   },
   {
    "duration": 114,
    "start_time": "2022-10-17T09:48:54.825Z"
   },
   {
    "duration": 113,
    "start_time": "2022-10-17T09:52:01.053Z"
   },
   {
    "duration": 95,
    "start_time": "2022-10-17T09:56:00.620Z"
   },
   {
    "duration": 98,
    "start_time": "2022-10-17T09:56:58.429Z"
   },
   {
    "duration": 123,
    "start_time": "2022-10-17T09:57:08.790Z"
   },
   {
    "duration": 114,
    "start_time": "2022-10-17T09:59:12.021Z"
   },
   {
    "duration": 116,
    "start_time": "2022-10-17T10:01:34.657Z"
   },
   {
    "duration": 118,
    "start_time": "2022-10-17T10:02:28.181Z"
   },
   {
    "duration": 127,
    "start_time": "2022-10-17T10:03:49.017Z"
   },
   {
    "duration": 115,
    "start_time": "2022-10-17T10:07:07.960Z"
   },
   {
    "duration": 129,
    "start_time": "2022-10-17T10:08:16.599Z"
   },
   {
    "duration": 99,
    "start_time": "2022-10-17T10:09:05.391Z"
   },
   {
    "duration": 108,
    "start_time": "2022-10-17T10:09:21.001Z"
   },
   {
    "duration": 104,
    "start_time": "2022-10-17T10:09:28.577Z"
   },
   {
    "duration": 414,
    "start_time": "2022-10-17T10:11:52.692Z"
   },
   {
    "duration": 349,
    "start_time": "2022-10-17T10:11:53.109Z"
   },
   {
    "duration": 22,
    "start_time": "2022-10-17T10:11:53.459Z"
   },
   {
    "duration": 46,
    "start_time": "2022-10-17T10:11:53.483Z"
   },
   {
    "duration": 94,
    "start_time": "2022-10-17T10:11:53.531Z"
   },
   {
    "duration": 12,
    "start_time": "2022-10-17T10:11:53.627Z"
   },
   {
    "duration": 38,
    "start_time": "2022-10-17T10:11:53.641Z"
   },
   {
    "duration": 65,
    "start_time": "2022-10-17T10:11:53.681Z"
   },
   {
    "duration": 9,
    "start_time": "2022-10-17T10:11:53.748Z"
   },
   {
    "duration": 13,
    "start_time": "2022-10-17T10:11:53.760Z"
   },
   {
    "duration": 50,
    "start_time": "2022-10-17T10:11:53.775Z"
   },
   {
    "duration": 46,
    "start_time": "2022-10-17T10:11:53.826Z"
   },
   {
    "duration": 11,
    "start_time": "2022-10-17T10:11:53.873Z"
   },
   {
    "duration": 11,
    "start_time": "2022-10-17T10:11:53.909Z"
   },
   {
    "duration": 17,
    "start_time": "2022-10-17T10:11:53.922Z"
   },
   {
    "duration": 70,
    "start_time": "2022-10-17T10:11:53.940Z"
   },
   {
    "duration": 119,
    "start_time": "2022-10-17T10:11:54.012Z"
   },
   {
    "duration": 108,
    "start_time": "2022-10-17T10:20:38.232Z"
   },
   {
    "duration": 11,
    "start_time": "2022-10-17T10:31:32.401Z"
   },
   {
    "duration": 9,
    "start_time": "2022-10-17T10:34:10.840Z"
   },
   {
    "duration": 8,
    "start_time": "2022-10-17T10:34:56.754Z"
   },
   {
    "duration": 10,
    "start_time": "2022-10-17T10:35:31.245Z"
   },
   {
    "duration": 8,
    "start_time": "2022-10-17T10:35:45.457Z"
   },
   {
    "duration": 7,
    "start_time": "2022-10-17T10:36:05.192Z"
   },
   {
    "duration": 7,
    "start_time": "2022-10-17T10:36:51.815Z"
   },
   {
    "duration": 6,
    "start_time": "2022-10-17T10:36:57.945Z"
   },
   {
    "duration": 8,
    "start_time": "2022-10-17T10:37:04.635Z"
   },
   {
    "duration": 7,
    "start_time": "2022-10-17T10:37:23.784Z"
   },
   {
    "duration": 8,
    "start_time": "2022-10-17T10:38:06.173Z"
   },
   {
    "duration": 10,
    "start_time": "2022-10-17T10:39:34.599Z"
   },
   {
    "duration": 7,
    "start_time": "2022-10-17T10:40:01.331Z"
   },
   {
    "duration": 7,
    "start_time": "2022-10-17T10:40:17.653Z"
   },
   {
    "duration": 6,
    "start_time": "2022-10-17T10:40:39.690Z"
   },
   {
    "duration": 6,
    "start_time": "2022-10-17T10:41:03.539Z"
   },
   {
    "duration": 8,
    "start_time": "2022-10-17T10:41:12.049Z"
   },
   {
    "duration": 71,
    "start_time": "2022-10-17T10:41:22.844Z"
   },
   {
    "duration": 8,
    "start_time": "2022-10-17T10:41:28.442Z"
   },
   {
    "duration": 7,
    "start_time": "2022-10-17T10:41:40.062Z"
   },
   {
    "duration": 8,
    "start_time": "2022-10-17T10:41:50.501Z"
   },
   {
    "duration": 120,
    "start_time": "2022-10-17T10:42:53.455Z"
   },
   {
    "duration": 3,
    "start_time": "2022-10-17T10:44:33.649Z"
   },
   {
    "duration": 190,
    "start_time": "2022-10-17T10:45:14.434Z"
   },
   {
    "duration": 36,
    "start_time": "2022-10-17T10:45:37.119Z"
   },
   {
    "duration": 8,
    "start_time": "2022-10-17T10:46:25.845Z"
   },
   {
    "duration": 7,
    "start_time": "2022-10-17T10:46:45.626Z"
   },
   {
    "duration": 8,
    "start_time": "2022-10-17T10:47:05.538Z"
   },
   {
    "duration": 10,
    "start_time": "2022-10-17T10:47:34.371Z"
   },
   {
    "duration": 8,
    "start_time": "2022-10-17T10:47:47.348Z"
   },
   {
    "duration": 46,
    "start_time": "2022-10-17T10:48:43.496Z"
   },
   {
    "duration": 9,
    "start_time": "2022-10-17T10:48:48.546Z"
   },
   {
    "duration": 10,
    "start_time": "2022-10-17T10:49:19.283Z"
   },
   {
    "duration": 9,
    "start_time": "2022-10-17T10:49:26.104Z"
   },
   {
    "duration": 9,
    "start_time": "2022-10-17T10:49:32.651Z"
   },
   {
    "duration": 8,
    "start_time": "2022-10-17T10:50:00.279Z"
   },
   {
    "duration": 6,
    "start_time": "2022-10-17T10:50:31.882Z"
   },
   {
    "duration": 7,
    "start_time": "2022-10-17T10:50:40.142Z"
   },
   {
    "duration": 858,
    "start_time": "2022-10-17T10:50:49.357Z"
   },
   {
    "duration": 10,
    "start_time": "2022-10-17T10:50:58.499Z"
   },
   {
    "duration": 11,
    "start_time": "2022-10-17T10:51:10.615Z"
   },
   {
    "duration": 7,
    "start_time": "2022-10-17T10:51:28.075Z"
   },
   {
    "duration": 13,
    "start_time": "2022-10-17T10:52:33.245Z"
   },
   {
    "duration": 36,
    "start_time": "2022-10-17T10:54:12.073Z"
   },
   {
    "duration": 7,
    "start_time": "2022-10-17T10:54:17.950Z"
   },
   {
    "duration": 9,
    "start_time": "2022-10-17T10:54:25.678Z"
   },
   {
    "duration": 6,
    "start_time": "2022-10-17T10:55:07.418Z"
   },
   {
    "duration": 6,
    "start_time": "2022-10-17T10:55:19.312Z"
   },
   {
    "duration": 6,
    "start_time": "2022-10-17T10:55:27.131Z"
   },
   {
    "duration": 9,
    "start_time": "2022-10-17T10:55:38.095Z"
   },
   {
    "duration": 12,
    "start_time": "2022-10-17T10:56:36.401Z"
   },
   {
    "duration": 103,
    "start_time": "2022-10-17T11:00:03.992Z"
   },
   {
    "duration": 110,
    "start_time": "2022-10-17T11:00:15.598Z"
   },
   {
    "duration": 105,
    "start_time": "2022-10-17T11:00:25.796Z"
   },
   {
    "duration": 108,
    "start_time": "2022-10-17T11:00:31.645Z"
   },
   {
    "duration": 106,
    "start_time": "2022-10-17T11:00:41.334Z"
   },
   {
    "duration": 506,
    "start_time": "2022-10-17T11:00:57.109Z"
   },
   {
    "duration": 400,
    "start_time": "2022-10-17T11:00:57.617Z"
   },
   {
    "duration": 22,
    "start_time": "2022-10-17T11:00:58.019Z"
   },
   {
    "duration": 49,
    "start_time": "2022-10-17T11:00:58.043Z"
   },
   {
    "duration": 92,
    "start_time": "2022-10-17T11:00:58.093Z"
   },
   {
    "duration": 13,
    "start_time": "2022-10-17T11:00:58.187Z"
   },
   {
    "duration": 48,
    "start_time": "2022-10-17T11:00:58.201Z"
   },
   {
    "duration": 47,
    "start_time": "2022-10-17T11:00:58.250Z"
   },
   {
    "duration": 11,
    "start_time": "2022-10-17T11:00:58.298Z"
   },
   {
    "duration": 11,
    "start_time": "2022-10-17T11:00:58.312Z"
   },
   {
    "duration": 23,
    "start_time": "2022-10-17T11:00:58.325Z"
   },
   {
    "duration": 44,
    "start_time": "2022-10-17T11:00:58.349Z"
   },
   {
    "duration": 15,
    "start_time": "2022-10-17T11:00:58.395Z"
   },
   {
    "duration": 10,
    "start_time": "2022-10-17T11:00:58.411Z"
   },
   {
    "duration": 16,
    "start_time": "2022-10-17T11:00:58.423Z"
   },
   {
    "duration": 89,
    "start_time": "2022-10-17T11:00:58.441Z"
   },
   {
    "duration": 238,
    "start_time": "2022-10-17T11:00:58.531Z"
   },
   {
    "duration": 193,
    "start_time": "2022-10-17T11:00:58.771Z"
   },
   {
    "duration": 110,
    "start_time": "2022-10-17T11:01:34.816Z"
   },
   {
    "duration": 500,
    "start_time": "2022-10-17T11:01:44.987Z"
   },
   {
    "duration": 377,
    "start_time": "2022-10-17T11:01:45.489Z"
   },
   {
    "duration": 21,
    "start_time": "2022-10-17T11:01:45.867Z"
   },
   {
    "duration": 64,
    "start_time": "2022-10-17T11:01:45.890Z"
   },
   {
    "duration": 98,
    "start_time": "2022-10-17T11:01:45.956Z"
   },
   {
    "duration": 12,
    "start_time": "2022-10-17T11:01:46.055Z"
   },
   {
    "duration": 51,
    "start_time": "2022-10-17T11:01:46.069Z"
   },
   {
    "duration": 42,
    "start_time": "2022-10-17T11:01:46.122Z"
   },
   {
    "duration": 7,
    "start_time": "2022-10-17T11:01:46.166Z"
   },
   {
    "duration": 38,
    "start_time": "2022-10-17T11:01:46.176Z"
   },
   {
    "duration": 25,
    "start_time": "2022-10-17T11:01:46.216Z"
   },
   {
    "duration": 66,
    "start_time": "2022-10-17T11:01:46.243Z"
   },
   {
    "duration": 9,
    "start_time": "2022-10-17T11:01:46.310Z"
   },
   {
    "duration": 30,
    "start_time": "2022-10-17T11:01:46.321Z"
   },
   {
    "duration": 34,
    "start_time": "2022-10-17T11:01:46.352Z"
   },
   {
    "duration": 62,
    "start_time": "2022-10-17T11:01:46.387Z"
   },
   {
    "duration": 133,
    "start_time": "2022-10-17T11:01:46.450Z"
   },
   {
    "duration": 153,
    "start_time": "2022-10-17T11:01:46.584Z"
   },
   {
    "duration": 111,
    "start_time": "2022-10-17T11:01:59.466Z"
   },
   {
    "duration": 108,
    "start_time": "2022-10-17T11:02:03.778Z"
   },
   {
    "duration": 107,
    "start_time": "2022-10-17T11:02:13.280Z"
   },
   {
    "duration": 900,
    "start_time": "2022-10-17T11:02:57.441Z"
   },
   {
    "duration": 117,
    "start_time": "2022-10-17T11:03:07.146Z"
   },
   {
    "duration": 59,
    "start_time": "2022-10-17T11:03:13.740Z"
   },
   {
    "duration": 116,
    "start_time": "2022-10-17T11:03:17.286Z"
   },
   {
    "duration": 114,
    "start_time": "2022-10-17T11:04:05.678Z"
   },
   {
    "duration": 926,
    "start_time": "2022-10-17T11:04:57.844Z"
   },
   {
    "duration": 107,
    "start_time": "2022-10-17T11:05:03.348Z"
   },
   {
    "duration": 114,
    "start_time": "2022-10-17T11:05:15.310Z"
   },
   {
    "duration": 111,
    "start_time": "2022-10-17T11:05:26.966Z"
   },
   {
    "duration": 491,
    "start_time": "2022-10-17T11:05:46.618Z"
   },
   {
    "duration": 386,
    "start_time": "2022-10-17T11:05:47.111Z"
   },
   {
    "duration": 22,
    "start_time": "2022-10-17T11:05:47.499Z"
   },
   {
    "duration": 46,
    "start_time": "2022-10-17T11:05:47.523Z"
   },
   {
    "duration": 111,
    "start_time": "2022-10-17T11:05:47.571Z"
   },
   {
    "duration": 13,
    "start_time": "2022-10-17T11:05:47.684Z"
   },
   {
    "duration": 39,
    "start_time": "2022-10-17T11:05:47.709Z"
   },
   {
    "duration": 44,
    "start_time": "2022-10-17T11:05:47.749Z"
   },
   {
    "duration": 7,
    "start_time": "2022-10-17T11:05:47.809Z"
   },
   {
    "duration": 10,
    "start_time": "2022-10-17T11:05:47.818Z"
   },
   {
    "duration": 21,
    "start_time": "2022-10-17T11:05:47.830Z"
   },
   {
    "duration": 64,
    "start_time": "2022-10-17T11:05:47.853Z"
   },
   {
    "duration": 10,
    "start_time": "2022-10-17T11:05:47.918Z"
   },
   {
    "duration": 8,
    "start_time": "2022-10-17T11:05:47.931Z"
   },
   {
    "duration": 15,
    "start_time": "2022-10-17T11:05:47.940Z"
   },
   {
    "duration": 76,
    "start_time": "2022-10-17T11:05:47.956Z"
   },
   {
    "duration": 124,
    "start_time": "2022-10-17T11:05:48.034Z"
   },
   {
    "duration": 160,
    "start_time": "2022-10-17T11:05:48.160Z"
   },
   {
    "duration": 11,
    "start_time": "2022-10-17T11:09:39.353Z"
   },
   {
    "duration": 13,
    "start_time": "2022-10-17T11:11:16.440Z"
   },
   {
    "duration": 81,
    "start_time": "2022-10-17T11:11:50.467Z"
   },
   {
    "duration": 14,
    "start_time": "2022-10-17T11:12:21.743Z"
   },
   {
    "duration": 13,
    "start_time": "2022-10-17T11:12:24.939Z"
   },
   {
    "duration": 206,
    "start_time": "2022-10-17T11:17:20.428Z"
   },
   {
    "duration": 36,
    "start_time": "2022-10-17T11:17:30.801Z"
   },
   {
    "duration": 35,
    "start_time": "2022-10-17T11:17:42.083Z"
   },
   {
    "duration": 16,
    "start_time": "2022-10-17T11:18:12.425Z"
   },
   {
    "duration": 5,
    "start_time": "2022-10-17T11:18:30.895Z"
   },
   {
    "duration": 5,
    "start_time": "2022-10-17T11:19:28.678Z"
   },
   {
    "duration": 7,
    "start_time": "2022-10-17T11:22:28.577Z"
   },
   {
    "duration": 918,
    "start_time": "2022-10-17T11:42:14.924Z"
   },
   {
    "duration": 123,
    "start_time": "2022-10-17T11:42:55.512Z"
   },
   {
    "duration": 7,
    "start_time": "2022-10-17T11:44:22.239Z"
   },
   {
    "duration": 7,
    "start_time": "2022-10-17T11:44:28.449Z"
   },
   {
    "duration": 100,
    "start_time": "2022-10-17T11:44:54.289Z"
   },
   {
    "duration": 112,
    "start_time": "2022-10-17T11:45:54.312Z"
   },
   {
    "duration": 103,
    "start_time": "2022-10-17T11:46:04.736Z"
   },
   {
    "duration": 102,
    "start_time": "2022-10-17T11:46:30.818Z"
   },
   {
    "duration": 96,
    "start_time": "2022-10-17T11:46:59.085Z"
   },
   {
    "duration": 110,
    "start_time": "2022-10-17T11:47:11.100Z"
   },
   {
    "duration": 112,
    "start_time": "2022-10-17T11:47:59.181Z"
   },
   {
    "duration": 106,
    "start_time": "2022-10-17T11:48:08.124Z"
   },
   {
    "duration": 112,
    "start_time": "2022-10-17T11:48:40.523Z"
   },
   {
    "duration": 136,
    "start_time": "2022-10-17T11:48:44.315Z"
   },
   {
    "duration": 120,
    "start_time": "2022-10-17T11:49:55.050Z"
   },
   {
    "duration": 115,
    "start_time": "2022-10-17T11:50:15.312Z"
   },
   {
    "duration": 502,
    "start_time": "2022-10-17T11:50:32.410Z"
   },
   {
    "duration": 385,
    "start_time": "2022-10-17T11:50:32.913Z"
   },
   {
    "duration": 22,
    "start_time": "2022-10-17T11:50:33.300Z"
   },
   {
    "duration": 47,
    "start_time": "2022-10-17T11:50:33.324Z"
   },
   {
    "duration": 106,
    "start_time": "2022-10-17T11:50:33.372Z"
   },
   {
    "duration": 13,
    "start_time": "2022-10-17T11:50:33.479Z"
   },
   {
    "duration": 55,
    "start_time": "2022-10-17T11:50:33.494Z"
   },
   {
    "duration": 62,
    "start_time": "2022-10-17T11:50:33.551Z"
   },
   {
    "duration": 7,
    "start_time": "2022-10-17T11:50:33.615Z"
   },
   {
    "duration": 13,
    "start_time": "2022-10-17T11:50:33.625Z"
   },
   {
    "duration": 22,
    "start_time": "2022-10-17T11:50:33.640Z"
   },
   {
    "duration": 65,
    "start_time": "2022-10-17T11:50:33.663Z"
   },
   {
    "duration": 8,
    "start_time": "2022-10-17T11:50:33.730Z"
   },
   {
    "duration": 8,
    "start_time": "2022-10-17T11:50:33.740Z"
   },
   {
    "duration": 18,
    "start_time": "2022-10-17T11:50:33.749Z"
   },
   {
    "duration": 66,
    "start_time": "2022-10-17T11:50:33.768Z"
   },
   {
    "duration": 141,
    "start_time": "2022-10-17T11:50:33.835Z"
   },
   {
    "duration": 7,
    "start_time": "2022-10-17T11:50:33.978Z"
   },
   {
    "duration": 329,
    "start_time": "2022-10-17T11:50:33.987Z"
   },
   {
    "duration": 118,
    "start_time": "2022-10-17T11:51:11.279Z"
   },
   {
    "duration": 135,
    "start_time": "2022-10-17T11:53:17.917Z"
   },
   {
    "duration": 97,
    "start_time": "2022-10-17T11:58:29.201Z"
   },
   {
    "duration": 102,
    "start_time": "2022-10-17T11:58:43.924Z"
   },
   {
    "duration": 106,
    "start_time": "2022-10-17T12:01:24.963Z"
   },
   {
    "duration": 120,
    "start_time": "2022-10-17T12:01:38.364Z"
   },
   {
    "duration": 110,
    "start_time": "2022-10-17T12:02:11.602Z"
   },
   {
    "duration": 103,
    "start_time": "2022-10-17T12:02:39.325Z"
   },
   {
    "duration": 105,
    "start_time": "2022-10-17T12:03:01.478Z"
   },
   {
    "duration": 102,
    "start_time": "2022-10-17T12:03:10.182Z"
   },
   {
    "duration": 101,
    "start_time": "2022-10-17T12:03:30.510Z"
   },
   {
    "duration": 114,
    "start_time": "2022-10-17T12:03:34.076Z"
   },
   {
    "duration": 120,
    "start_time": "2022-10-17T12:03:46.601Z"
   },
   {
    "duration": 484,
    "start_time": "2022-10-17T12:04:15.977Z"
   },
   {
    "duration": 377,
    "start_time": "2022-10-17T12:04:16.463Z"
   },
   {
    "duration": 22,
    "start_time": "2022-10-17T12:04:16.842Z"
   },
   {
    "duration": 54,
    "start_time": "2022-10-17T12:04:16.865Z"
   },
   {
    "duration": 97,
    "start_time": "2022-10-17T12:04:16.921Z"
   },
   {
    "duration": 12,
    "start_time": "2022-10-17T12:04:17.020Z"
   },
   {
    "duration": 46,
    "start_time": "2022-10-17T12:04:17.034Z"
   },
   {
    "duration": 54,
    "start_time": "2022-10-17T12:04:17.081Z"
   },
   {
    "duration": 7,
    "start_time": "2022-10-17T12:04:17.137Z"
   },
   {
    "duration": 10,
    "start_time": "2022-10-17T12:04:17.146Z"
   },
   {
    "duration": 19,
    "start_time": "2022-10-17T12:04:17.158Z"
   },
   {
    "duration": 67,
    "start_time": "2022-10-17T12:04:17.179Z"
   },
   {
    "duration": 10,
    "start_time": "2022-10-17T12:04:17.248Z"
   },
   {
    "duration": 9,
    "start_time": "2022-10-17T12:04:17.260Z"
   },
   {
    "duration": 39,
    "start_time": "2022-10-17T12:04:17.271Z"
   },
   {
    "duration": 46,
    "start_time": "2022-10-17T12:04:17.312Z"
   },
   {
    "duration": 142,
    "start_time": "2022-10-17T12:04:17.360Z"
   },
   {
    "duration": 335,
    "start_time": "2022-10-17T12:04:17.504Z"
   },
   {
    "duration": 116,
    "start_time": "2022-10-17T12:06:48.754Z"
   },
   {
    "duration": 127,
    "start_time": "2022-10-17T12:08:10.710Z"
   },
   {
    "duration": 122,
    "start_time": "2022-10-17T12:08:22.453Z"
   },
   {
    "duration": 482,
    "start_time": "2022-10-17T13:08:08.623Z"
   },
   {
    "duration": 374,
    "start_time": "2022-10-17T13:08:09.106Z"
   },
   {
    "duration": 21,
    "start_time": "2022-10-17T13:08:09.481Z"
   },
   {
    "duration": 47,
    "start_time": "2022-10-17T13:08:09.504Z"
   },
   {
    "duration": 96,
    "start_time": "2022-10-17T13:08:09.552Z"
   },
   {
    "duration": 13,
    "start_time": "2022-10-17T13:08:09.650Z"
   },
   {
    "duration": 60,
    "start_time": "2022-10-17T13:08:09.665Z"
   },
   {
    "duration": 43,
    "start_time": "2022-10-17T13:08:09.727Z"
   },
   {
    "duration": 7,
    "start_time": "2022-10-17T13:08:09.772Z"
   },
   {
    "duration": 29,
    "start_time": "2022-10-17T13:08:09.782Z"
   },
   {
    "duration": 20,
    "start_time": "2022-10-17T13:08:09.812Z"
   },
   {
    "duration": 51,
    "start_time": "2022-10-17T13:08:09.833Z"
   },
   {
    "duration": 34,
    "start_time": "2022-10-17T13:08:09.886Z"
   },
   {
    "duration": 12,
    "start_time": "2022-10-17T13:08:09.922Z"
   },
   {
    "duration": 15,
    "start_time": "2022-10-17T13:08:09.936Z"
   },
   {
    "duration": 66,
    "start_time": "2022-10-17T13:08:09.953Z"
   },
   {
    "duration": 126,
    "start_time": "2022-10-17T13:08:10.020Z"
   },
   {
    "duration": 346,
    "start_time": "2022-10-17T13:08:10.148Z"
   },
   {
    "duration": 112,
    "start_time": "2022-10-17T13:10:38.730Z"
   },
   {
    "duration": 219,
    "start_time": "2022-10-17T13:18:14.947Z"
   },
   {
    "duration": 125,
    "start_time": "2022-10-17T13:18:22.290Z"
   },
   {
    "duration": 113,
    "start_time": "2022-10-17T13:21:09.752Z"
   },
   {
    "duration": 108,
    "start_time": "2022-10-17T13:21:27.777Z"
   },
   {
    "duration": 125,
    "start_time": "2022-10-17T13:21:35.132Z"
   },
   {
    "duration": 125,
    "start_time": "2022-10-17T13:23:02.566Z"
   },
   {
    "duration": 119,
    "start_time": "2022-10-17T13:23:38.705Z"
   },
   {
    "duration": 109,
    "start_time": "2022-10-17T13:24:04.172Z"
   },
   {
    "duration": 124,
    "start_time": "2022-10-17T13:24:09.764Z"
   },
   {
    "duration": 114,
    "start_time": "2022-10-17T13:24:30.159Z"
   },
   {
    "duration": 112,
    "start_time": "2022-10-17T13:24:56.379Z"
   },
   {
    "duration": 119,
    "start_time": "2022-10-17T13:25:09.183Z"
   },
   {
    "duration": 113,
    "start_time": "2022-10-17T13:25:24.216Z"
   },
   {
    "duration": 149,
    "start_time": "2022-10-17T13:25:31.524Z"
   },
   {
    "duration": 124,
    "start_time": "2022-10-17T13:25:53.971Z"
   },
   {
    "duration": 121,
    "start_time": "2022-10-17T13:28:13.932Z"
   },
   {
    "duration": 132,
    "start_time": "2022-10-17T13:29:34.753Z"
   },
   {
    "duration": 159,
    "start_time": "2022-10-17T13:29:45.156Z"
   },
   {
    "duration": 412,
    "start_time": "2022-10-17T13:30:15.306Z"
   },
   {
    "duration": 147,
    "start_time": "2022-10-17T13:31:08.141Z"
   },
   {
    "duration": 126,
    "start_time": "2022-10-17T13:31:24.274Z"
   },
   {
    "duration": 134,
    "start_time": "2022-10-17T13:33:27.177Z"
   },
   {
    "duration": 126,
    "start_time": "2022-10-17T13:34:18.941Z"
   },
   {
    "duration": 120,
    "start_time": "2022-10-17T13:34:43.946Z"
   },
   {
    "duration": 128,
    "start_time": "2022-10-17T13:35:07.141Z"
   },
   {
    "duration": 126,
    "start_time": "2022-10-17T13:35:26.217Z"
   },
   {
    "duration": 116,
    "start_time": "2022-10-17T13:35:31.953Z"
   },
   {
    "duration": 116,
    "start_time": "2022-10-17T13:35:50.564Z"
   },
   {
    "duration": 122,
    "start_time": "2022-10-17T13:37:25.081Z"
   },
   {
    "duration": 112,
    "start_time": "2022-10-17T13:38:01.478Z"
   },
   {
    "duration": 111,
    "start_time": "2022-10-17T13:38:07.982Z"
   },
   {
    "duration": 123,
    "start_time": "2022-10-17T13:38:13.977Z"
   },
   {
    "duration": 117,
    "start_time": "2022-10-17T13:38:25.837Z"
   },
   {
    "duration": 120,
    "start_time": "2022-10-17T13:38:29.237Z"
   },
   {
    "duration": 116,
    "start_time": "2022-10-17T13:39:23.984Z"
   },
   {
    "duration": 118,
    "start_time": "2022-10-17T13:39:26.909Z"
   },
   {
    "duration": 131,
    "start_time": "2022-10-17T13:40:00.667Z"
   },
   {
    "duration": 126,
    "start_time": "2022-10-17T13:40:26.369Z"
   },
   {
    "duration": 467,
    "start_time": "2022-10-17T13:41:18.624Z"
   },
   {
    "duration": 402,
    "start_time": "2022-10-17T13:41:19.092Z"
   },
   {
    "duration": 20,
    "start_time": "2022-10-17T13:41:19.496Z"
   },
   {
    "duration": 45,
    "start_time": "2022-10-17T13:41:19.519Z"
   },
   {
    "duration": 102,
    "start_time": "2022-10-17T13:41:19.566Z"
   },
   {
    "duration": 13,
    "start_time": "2022-10-17T13:41:19.670Z"
   },
   {
    "duration": 52,
    "start_time": "2022-10-17T13:41:19.685Z"
   },
   {
    "duration": 42,
    "start_time": "2022-10-17T13:41:19.739Z"
   },
   {
    "duration": 7,
    "start_time": "2022-10-17T13:41:19.783Z"
   },
   {
    "duration": 11,
    "start_time": "2022-10-17T13:41:19.809Z"
   },
   {
    "duration": 19,
    "start_time": "2022-10-17T13:41:19.821Z"
   },
   {
    "duration": 41,
    "start_time": "2022-10-17T13:41:19.842Z"
   },
   {
    "duration": 30,
    "start_time": "2022-10-17T13:41:19.884Z"
   },
   {
    "duration": 9,
    "start_time": "2022-10-17T13:41:19.915Z"
   },
   {
    "duration": 13,
    "start_time": "2022-10-17T13:41:19.926Z"
   },
   {
    "duration": 73,
    "start_time": "2022-10-17T13:41:19.941Z"
   },
   {
    "duration": 132,
    "start_time": "2022-10-17T13:41:20.016Z"
   },
   {
    "duration": 328,
    "start_time": "2022-10-17T13:41:20.149Z"
   },
   {
    "duration": 125,
    "start_time": "2022-10-17T13:42:25.944Z"
   },
   {
    "duration": 973,
    "start_time": "2022-10-17T13:43:27.457Z"
   },
   {
    "duration": 107,
    "start_time": "2022-10-17T13:43:43.582Z"
   },
   {
    "duration": 116,
    "start_time": "2022-10-17T13:44:55.073Z"
   },
   {
    "duration": 962,
    "start_time": "2022-10-17T13:45:19.717Z"
   },
   {
    "duration": 1013,
    "start_time": "2022-10-17T13:46:09.057Z"
   },
   {
    "duration": 111,
    "start_time": "2022-10-17T13:46:23.639Z"
   },
   {
    "duration": 109,
    "start_time": "2022-10-17T13:46:55.791Z"
   },
   {
    "duration": 194,
    "start_time": "2022-10-17T13:48:05.844Z"
   },
   {
    "duration": 176,
    "start_time": "2022-10-17T13:48:10.326Z"
   },
   {
    "duration": 127,
    "start_time": "2022-10-17T13:48:20.110Z"
   },
   {
    "duration": 111,
    "start_time": "2022-10-17T13:49:37.357Z"
   },
   {
    "duration": 180,
    "start_time": "2022-10-17T13:49:48.305Z"
   },
   {
    "duration": 1124,
    "start_time": "2022-10-17T13:50:57.628Z"
   },
   {
    "duration": 1343,
    "start_time": "2022-10-17T13:51:16.125Z"
   },
   {
    "duration": 138,
    "start_time": "2022-10-17T13:51:33.644Z"
   },
   {
    "duration": 126,
    "start_time": "2022-10-17T13:52:50.478Z"
   },
   {
    "duration": 124,
    "start_time": "2022-10-17T13:54:07.716Z"
   },
   {
    "duration": 466,
    "start_time": "2022-10-17T13:54:12.623Z"
   },
   {
    "duration": 369,
    "start_time": "2022-10-17T13:54:13.091Z"
   },
   {
    "duration": 21,
    "start_time": "2022-10-17T13:54:13.461Z"
   },
   {
    "duration": 72,
    "start_time": "2022-10-17T13:54:13.484Z"
   },
   {
    "duration": 100,
    "start_time": "2022-10-17T13:54:13.557Z"
   },
   {
    "duration": 13,
    "start_time": "2022-10-17T13:54:13.659Z"
   },
   {
    "duration": 60,
    "start_time": "2022-10-17T13:54:13.673Z"
   },
   {
    "duration": 45,
    "start_time": "2022-10-17T13:54:13.734Z"
   },
   {
    "duration": 9,
    "start_time": "2022-10-17T13:54:13.781Z"
   },
   {
    "duration": 13,
    "start_time": "2022-10-17T13:54:13.811Z"
   },
   {
    "duration": 22,
    "start_time": "2022-10-17T13:54:13.825Z"
   },
   {
    "duration": 42,
    "start_time": "2022-10-17T13:54:13.848Z"
   },
   {
    "duration": 11,
    "start_time": "2022-10-17T13:54:13.909Z"
   },
   {
    "duration": 52,
    "start_time": "2022-10-17T13:54:13.922Z"
   },
   {
    "duration": 25,
    "start_time": "2022-10-17T13:54:13.976Z"
   },
   {
    "duration": 47,
    "start_time": "2022-10-17T13:54:14.003Z"
   },
   {
    "duration": 144,
    "start_time": "2022-10-17T13:54:14.052Z"
   },
   {
    "duration": 362,
    "start_time": "2022-10-17T13:54:14.197Z"
   },
   {
    "duration": 121,
    "start_time": "2022-10-17T13:55:27.442Z"
   },
   {
    "duration": 116,
    "start_time": "2022-10-17T13:55:45.878Z"
   },
   {
    "duration": 286,
    "start_time": "2022-10-17T13:56:06.325Z"
   },
   {
    "duration": 490,
    "start_time": "2022-10-17T13:56:28.100Z"
   },
   {
    "duration": 374,
    "start_time": "2022-10-17T13:56:28.592Z"
   },
   {
    "duration": 22,
    "start_time": "2022-10-17T13:56:28.968Z"
   },
   {
    "duration": 49,
    "start_time": "2022-10-17T13:56:28.991Z"
   },
   {
    "duration": 100,
    "start_time": "2022-10-17T13:56:29.042Z"
   },
   {
    "duration": 13,
    "start_time": "2022-10-17T13:56:29.144Z"
   },
   {
    "duration": 58,
    "start_time": "2022-10-17T13:56:29.159Z"
   },
   {
    "duration": 45,
    "start_time": "2022-10-17T13:56:29.219Z"
   },
   {
    "duration": 8,
    "start_time": "2022-10-17T13:56:29.266Z"
   },
   {
    "duration": 33,
    "start_time": "2022-10-17T13:56:29.276Z"
   },
   {
    "duration": 21,
    "start_time": "2022-10-17T13:56:29.311Z"
   },
   {
    "duration": 42,
    "start_time": "2022-10-17T13:56:29.334Z"
   },
   {
    "duration": 32,
    "start_time": "2022-10-17T13:56:29.378Z"
   },
   {
    "duration": 10,
    "start_time": "2022-10-17T13:56:29.412Z"
   },
   {
    "duration": 15,
    "start_time": "2022-10-17T13:56:29.424Z"
   },
   {
    "duration": 71,
    "start_time": "2022-10-17T13:56:29.441Z"
   },
   {
    "duration": 238,
    "start_time": "2022-10-17T13:56:29.513Z"
   },
   {
    "duration": 0,
    "start_time": "2022-10-17T13:56:29.752Z"
   },
   {
    "duration": 107,
    "start_time": "2022-10-17T13:56:47.011Z"
   },
   {
    "duration": 95,
    "start_time": "2022-10-17T13:59:01.000Z"
   },
   {
    "duration": 113,
    "start_time": "2022-10-17T13:59:10.377Z"
   },
   {
    "duration": 113,
    "start_time": "2022-10-17T14:00:25.033Z"
   },
   {
    "duration": 7,
    "start_time": "2022-10-17T14:03:15.973Z"
   },
   {
    "duration": 6,
    "start_time": "2022-10-17T14:03:26.961Z"
   },
   {
    "duration": 4,
    "start_time": "2022-10-17T14:04:51.961Z"
   },
   {
    "duration": 11,
    "start_time": "2022-10-17T14:06:03.527Z"
   },
   {
    "duration": 466,
    "start_time": "2022-10-17T14:10:06.845Z"
   },
   {
    "duration": 380,
    "start_time": "2022-10-17T14:10:07.314Z"
   },
   {
    "duration": 24,
    "start_time": "2022-10-17T14:10:07.695Z"
   },
   {
    "duration": 48,
    "start_time": "2022-10-17T14:10:07.721Z"
   },
   {
    "duration": 106,
    "start_time": "2022-10-17T14:10:07.771Z"
   },
   {
    "duration": 12,
    "start_time": "2022-10-17T14:10:07.878Z"
   },
   {
    "duration": 68,
    "start_time": "2022-10-17T14:10:07.892Z"
   },
   {
    "duration": 53,
    "start_time": "2022-10-17T14:10:07.961Z"
   },
   {
    "duration": 8,
    "start_time": "2022-10-17T14:10:08.015Z"
   },
   {
    "duration": 14,
    "start_time": "2022-10-17T14:10:08.025Z"
   },
   {
    "duration": 21,
    "start_time": "2022-10-17T14:10:08.041Z"
   },
   {
    "duration": 67,
    "start_time": "2022-10-17T14:10:08.064Z"
   },
   {
    "duration": 10,
    "start_time": "2022-10-17T14:10:08.133Z"
   },
   {
    "duration": 9,
    "start_time": "2022-10-17T14:10:08.144Z"
   },
   {
    "duration": 17,
    "start_time": "2022-10-17T14:10:08.154Z"
   },
   {
    "duration": 71,
    "start_time": "2022-10-17T14:10:08.173Z"
   },
   {
    "duration": 131,
    "start_time": "2022-10-17T14:10:08.246Z"
   },
   {
    "duration": 7,
    "start_time": "2022-10-17T14:10:08.378Z"
   },
   {
    "duration": 11,
    "start_time": "2022-10-17T14:10:08.386Z"
   },
   {
    "duration": 3,
    "start_time": "2022-10-17T14:10:08.409Z"
   },
   {
    "duration": 15,
    "start_time": "2022-10-17T14:10:08.414Z"
   },
   {
    "duration": 7,
    "start_time": "2022-10-17T14:10:08.430Z"
   },
   {
    "duration": 345,
    "start_time": "2022-10-17T14:10:08.439Z"
   },
   {
    "duration": 14,
    "start_time": "2022-10-17T14:11:40.383Z"
   },
   {
    "duration": 9,
    "start_time": "2022-10-17T14:18:49.444Z"
   },
   {
    "duration": 15,
    "start_time": "2022-10-17T14:20:32.564Z"
   },
   {
    "duration": 16,
    "start_time": "2022-10-17T14:22:14.071Z"
   },
   {
    "duration": 14,
    "start_time": "2022-10-17T14:23:25.656Z"
   },
   {
    "duration": 13,
    "start_time": "2022-10-17T14:23:31.605Z"
   },
   {
    "duration": 16,
    "start_time": "2022-10-17T14:23:34.094Z"
   },
   {
    "duration": 125,
    "start_time": "2022-10-17T14:26:49.892Z"
   },
   {
    "duration": 15,
    "start_time": "2022-10-17T14:27:17.805Z"
   },
   {
    "duration": 15,
    "start_time": "2022-10-17T14:27:38.437Z"
   },
   {
    "duration": 15,
    "start_time": "2022-10-17T14:27:56.963Z"
   },
   {
    "duration": 74,
    "start_time": "2022-10-17T14:30:27.839Z"
   },
   {
    "duration": 49,
    "start_time": "2022-10-17T14:30:56.790Z"
   },
   {
    "duration": 50,
    "start_time": "2022-10-17T14:31:55.696Z"
   },
   {
    "duration": 16,
    "start_time": "2022-10-17T14:32:02.897Z"
   },
   {
    "duration": 17,
    "start_time": "2022-10-17T14:33:11.410Z"
   },
   {
    "duration": 16,
    "start_time": "2022-10-17T14:33:15.908Z"
   },
   {
    "duration": 53,
    "start_time": "2022-10-17T14:33:24.455Z"
   },
   {
    "duration": 15,
    "start_time": "2022-10-17T14:33:39.400Z"
   },
   {
    "duration": 14,
    "start_time": "2022-10-17T14:36:59.593Z"
   },
   {
    "duration": 22,
    "start_time": "2022-10-17T14:37:18.496Z"
   },
   {
    "duration": 18,
    "start_time": "2022-10-17T14:37:32.699Z"
   },
   {
    "duration": 12,
    "start_time": "2022-10-17T14:38:11.431Z"
   },
   {
    "duration": 18,
    "start_time": "2022-10-17T14:38:29.318Z"
   },
   {
    "duration": 23,
    "start_time": "2022-10-17T14:38:39.834Z"
   },
   {
    "duration": 12,
    "start_time": "2022-10-17T14:42:16.598Z"
   },
   {
    "duration": 14,
    "start_time": "2022-10-17T14:42:24.493Z"
   },
   {
    "duration": 17,
    "start_time": "2022-10-17T14:42:31.723Z"
   },
   {
    "duration": 13,
    "start_time": "2022-10-17T14:43:04.885Z"
   },
   {
    "duration": 17,
    "start_time": "2022-10-17T14:43:12.679Z"
   },
   {
    "duration": 17,
    "start_time": "2022-10-17T14:43:23.057Z"
   },
   {
    "duration": 15,
    "start_time": "2022-10-17T14:43:28.356Z"
   },
   {
    "duration": 51,
    "start_time": "2022-10-17T14:44:29.771Z"
   },
   {
    "duration": 40,
    "start_time": "2022-10-17T14:44:50.431Z"
   },
   {
    "duration": 20,
    "start_time": "2022-10-17T14:45:03.535Z"
   },
   {
    "duration": 20,
    "start_time": "2022-10-17T14:45:08.539Z"
   },
   {
    "duration": 22,
    "start_time": "2022-10-17T14:45:28.294Z"
   },
   {
    "duration": 20,
    "start_time": "2022-10-17T14:46:21.105Z"
   },
   {
    "duration": 18,
    "start_time": "2022-10-17T14:46:23.311Z"
   },
   {
    "duration": 52,
    "start_time": "2022-10-17T14:47:30.625Z"
   },
   {
    "duration": 47,
    "start_time": "2022-10-17T14:47:35.692Z"
   },
   {
    "duration": 66,
    "start_time": "2022-10-17T14:48:10.910Z"
   },
   {
    "duration": 524,
    "start_time": "2022-10-17T14:48:16.037Z"
   },
   {
    "duration": 21,
    "start_time": "2022-10-17T14:48:24.103Z"
   },
   {
    "duration": 21,
    "start_time": "2022-10-17T14:48:38.884Z"
   },
   {
    "duration": 37,
    "start_time": "2022-10-17T15:52:59.256Z"
   },
   {
    "duration": 34,
    "start_time": "2022-10-17T16:01:02.835Z"
   },
   {
    "duration": 85,
    "start_time": "2022-10-17T16:05:22.550Z"
   },
   {
    "duration": 77,
    "start_time": "2022-10-17T16:05:37.883Z"
   },
   {
    "duration": 60,
    "start_time": "2022-10-17T16:06:13.824Z"
   },
   {
    "duration": 72,
    "start_time": "2022-10-17T16:09:20.780Z"
   },
   {
    "duration": 61,
    "start_time": "2022-10-17T16:09:51.991Z"
   },
   {
    "duration": 138,
    "start_time": "2022-10-17T16:10:46.149Z"
   },
   {
    "duration": 166,
    "start_time": "2022-10-17T16:11:08.805Z"
   },
   {
    "duration": 148,
    "start_time": "2022-10-17T16:11:27.716Z"
   },
   {
    "duration": 153,
    "start_time": "2022-10-17T16:12:37.901Z"
   },
   {
    "duration": 16,
    "start_time": "2022-10-17T16:22:17.863Z"
   },
   {
    "duration": 13,
    "start_time": "2022-10-17T16:22:40.054Z"
   },
   {
    "duration": 16,
    "start_time": "2022-10-17T16:22:57.447Z"
   },
   {
    "duration": 23,
    "start_time": "2022-10-17T16:24:36.113Z"
   },
   {
    "duration": 7,
    "start_time": "2022-10-17T16:25:09.877Z"
   },
   {
    "duration": 15,
    "start_time": "2022-10-17T16:25:18.323Z"
   },
   {
    "duration": 14,
    "start_time": "2022-10-17T16:25:32.907Z"
   },
   {
    "duration": 30,
    "start_time": "2022-10-17T16:26:44.517Z"
   },
   {
    "duration": 12,
    "start_time": "2022-10-17T16:29:05.757Z"
   },
   {
    "duration": 142,
    "start_time": "2022-10-17T16:30:15.759Z"
   },
   {
    "duration": 21,
    "start_time": "2022-10-17T16:30:42.812Z"
   },
   {
    "duration": 23,
    "start_time": "2022-10-17T16:30:54.157Z"
   },
   {
    "duration": 150,
    "start_time": "2022-10-17T16:38:42.311Z"
   },
   {
    "duration": 22,
    "start_time": "2022-10-17T16:46:08.183Z"
   },
   {
    "duration": 17,
    "start_time": "2022-10-17T16:46:12.192Z"
   },
   {
    "duration": 21,
    "start_time": "2022-10-17T16:46:16.064Z"
   },
   {
    "duration": 20,
    "start_time": "2022-10-17T16:47:20.614Z"
   },
   {
    "duration": 21,
    "start_time": "2022-10-17T16:47:27.415Z"
   },
   {
    "duration": 60,
    "start_time": "2022-10-17T16:47:34.164Z"
   },
   {
    "duration": 61,
    "start_time": "2022-10-17T16:47:40.630Z"
   },
   {
    "duration": 56,
    "start_time": "2022-10-17T16:48:55.210Z"
   },
   {
    "duration": 11,
    "start_time": "2022-10-17T16:51:13.364Z"
   },
   {
    "duration": 8,
    "start_time": "2022-10-17T16:54:59.996Z"
   },
   {
    "duration": 57,
    "start_time": "2022-10-17T16:56:23.323Z"
   },
   {
    "duration": 55,
    "start_time": "2022-10-17T16:56:44.182Z"
   },
   {
    "duration": 53,
    "start_time": "2022-10-17T16:57:37.382Z"
   },
   {
    "duration": 53,
    "start_time": "2022-10-17T16:57:46.643Z"
   },
   {
    "duration": 52,
    "start_time": "2022-10-17T16:58:00.910Z"
   },
   {
    "duration": 53,
    "start_time": "2022-10-17T16:58:48.619Z"
   },
   {
    "duration": 52,
    "start_time": "2022-10-17T16:59:01.050Z"
   },
   {
    "duration": 52,
    "start_time": "2022-10-17T16:59:05.925Z"
   },
   {
    "duration": 8,
    "start_time": "2022-10-17T16:59:11.176Z"
   },
   {
    "duration": 52,
    "start_time": "2022-10-17T16:59:14.217Z"
   },
   {
    "duration": 56,
    "start_time": "2022-10-17T16:59:27.307Z"
   },
   {
    "duration": 53,
    "start_time": "2022-10-17T17:00:11.994Z"
   },
   {
    "duration": 57,
    "start_time": "2022-10-17T17:00:19.691Z"
   },
   {
    "duration": 54,
    "start_time": "2022-10-17T17:00:32.591Z"
   },
   {
    "duration": 104,
    "start_time": "2022-10-17T17:00:45.088Z"
   },
   {
    "duration": 64,
    "start_time": "2022-10-17T17:01:32.140Z"
   },
   {
    "duration": 47,
    "start_time": "2022-10-17T17:03:55.249Z"
   },
   {
    "duration": 167,
    "start_time": "2022-10-17T17:03:58.481Z"
   },
   {
    "duration": 3,
    "start_time": "2022-10-17T17:09:48.678Z"
   },
   {
    "duration": 159,
    "start_time": "2022-10-17T17:24:33.762Z"
   },
   {
    "duration": 156,
    "start_time": "2022-10-17T17:24:41.744Z"
   },
   {
    "duration": 151,
    "start_time": "2022-10-17T17:26:12.458Z"
   },
   {
    "duration": 152,
    "start_time": "2022-10-17T17:26:18.597Z"
   },
   {
    "duration": 189,
    "start_time": "2022-10-17T17:26:24.320Z"
   },
   {
    "duration": 161,
    "start_time": "2022-10-17T17:36:18.785Z"
   },
   {
    "duration": 13,
    "start_time": "2022-10-17T17:52:38.079Z"
   },
   {
    "duration": 22,
    "start_time": "2022-10-17T17:54:32.563Z"
   },
   {
    "duration": 149,
    "start_time": "2022-10-17T17:55:16.042Z"
   },
   {
    "duration": 188,
    "start_time": "2022-10-17T17:56:28.008Z"
   },
   {
    "duration": 160,
    "start_time": "2022-10-17T17:57:16.944Z"
   },
   {
    "duration": 134,
    "start_time": "2022-10-17T18:05:14.324Z"
   },
   {
    "duration": 172,
    "start_time": "2022-10-17T18:07:30.570Z"
   },
   {
    "duration": 197,
    "start_time": "2022-10-17T18:07:34.512Z"
   },
   {
    "duration": 471,
    "start_time": "2022-10-17T19:09:48.721Z"
   },
   {
    "duration": 376,
    "start_time": "2022-10-17T19:09:49.194Z"
   },
   {
    "duration": 25,
    "start_time": "2022-10-17T19:09:49.571Z"
   },
   {
    "duration": 48,
    "start_time": "2022-10-17T19:09:49.599Z"
   },
   {
    "duration": 99,
    "start_time": "2022-10-17T19:09:49.649Z"
   },
   {
    "duration": 13,
    "start_time": "2022-10-17T19:09:49.749Z"
   },
   {
    "duration": 56,
    "start_time": "2022-10-17T19:09:49.764Z"
   },
   {
    "duration": 46,
    "start_time": "2022-10-17T19:09:49.822Z"
   },
   {
    "duration": 8,
    "start_time": "2022-10-17T19:09:49.869Z"
   },
   {
    "duration": 34,
    "start_time": "2022-10-17T19:09:49.881Z"
   },
   {
    "duration": 19,
    "start_time": "2022-10-17T19:09:49.916Z"
   },
   {
    "duration": 40,
    "start_time": "2022-10-17T19:09:49.936Z"
   },
   {
    "duration": 32,
    "start_time": "2022-10-17T19:09:49.977Z"
   },
   {
    "duration": 10,
    "start_time": "2022-10-17T19:09:50.011Z"
   },
   {
    "duration": 22,
    "start_time": "2022-10-17T19:09:50.022Z"
   },
   {
    "duration": 63,
    "start_time": "2022-10-17T19:09:50.046Z"
   },
   {
    "duration": 126,
    "start_time": "2022-10-17T19:09:50.111Z"
   },
   {
    "duration": 7,
    "start_time": "2022-10-17T19:09:50.239Z"
   },
   {
    "duration": 15,
    "start_time": "2022-10-17T19:09:50.248Z"
   },
   {
    "duration": 25,
    "start_time": "2022-10-17T19:09:50.265Z"
   },
   {
    "duration": 39,
    "start_time": "2022-10-17T19:09:50.292Z"
   },
   {
    "duration": 7,
    "start_time": "2022-10-17T19:09:50.333Z"
   },
   {
    "duration": 450,
    "start_time": "2022-10-17T19:09:53.145Z"
   },
   {
    "duration": 372,
    "start_time": "2022-10-17T19:09:53.597Z"
   },
   {
    "duration": 22,
    "start_time": "2022-10-17T19:09:53.970Z"
   },
   {
    "duration": 48,
    "start_time": "2022-10-17T19:09:53.994Z"
   },
   {
    "duration": 96,
    "start_time": "2022-10-17T19:09:54.043Z"
   },
   {
    "duration": 14,
    "start_time": "2022-10-17T19:09:54.141Z"
   },
   {
    "duration": 57,
    "start_time": "2022-10-17T19:09:54.156Z"
   },
   {
    "duration": 45,
    "start_time": "2022-10-17T19:09:54.214Z"
   },
   {
    "duration": 7,
    "start_time": "2022-10-17T19:09:54.260Z"
   },
   {
    "duration": 11,
    "start_time": "2022-10-17T19:09:54.270Z"
   },
   {
    "duration": 42,
    "start_time": "2022-10-17T19:09:54.282Z"
   },
   {
    "duration": 41,
    "start_time": "2022-10-17T19:09:54.325Z"
   },
   {
    "duration": 10,
    "start_time": "2022-10-17T19:09:54.367Z"
   },
   {
    "duration": 54,
    "start_time": "2022-10-17T19:09:54.379Z"
   },
   {
    "duration": 25,
    "start_time": "2022-10-17T19:09:54.435Z"
   },
   {
    "duration": 58,
    "start_time": "2022-10-17T19:09:54.461Z"
   },
   {
    "duration": 155,
    "start_time": "2022-10-17T19:09:54.521Z"
   },
   {
    "duration": 8,
    "start_time": "2022-10-17T19:09:54.678Z"
   },
   {
    "duration": 22,
    "start_time": "2022-10-17T19:09:54.688Z"
   },
   {
    "duration": 7,
    "start_time": "2022-10-17T19:09:54.712Z"
   },
   {
    "duration": 15,
    "start_time": "2022-10-17T19:09:54.720Z"
   },
   {
    "duration": 13,
    "start_time": "2022-10-17T19:09:54.736Z"
   },
   {
    "duration": 355,
    "start_time": "2022-10-17T19:09:54.751Z"
   },
   {
    "duration": 270,
    "start_time": "2022-10-17T19:09:55.108Z"
   },
   {
    "duration": 43,
    "start_time": "2022-10-17T19:09:55.379Z"
   },
   {
    "duration": 206,
    "start_time": "2022-10-17T19:09:55.424Z"
   },
   {
    "duration": 225,
    "start_time": "2022-10-17T19:10:12.010Z"
   },
   {
    "duration": 131,
    "start_time": "2022-10-17T19:10:35.950Z"
   },
   {
    "duration": 174,
    "start_time": "2022-10-17T19:10:43.202Z"
   },
   {
    "duration": 168,
    "start_time": "2022-10-17T19:10:53.749Z"
   },
   {
    "duration": 167,
    "start_time": "2022-10-17T19:11:46.698Z"
   },
   {
    "duration": 171,
    "start_time": "2022-10-17T19:12:02.585Z"
   },
   {
    "duration": 164,
    "start_time": "2022-10-17T19:12:23.661Z"
   },
   {
    "duration": 164,
    "start_time": "2022-10-17T19:12:28.573Z"
   },
   {
    "duration": 171,
    "start_time": "2022-10-17T19:12:46.119Z"
   },
   {
    "duration": 472,
    "start_time": "2022-10-17T19:26:06.534Z"
   },
   {
    "duration": 9,
    "start_time": "2022-10-17T19:30:19.374Z"
   },
   {
    "duration": 5,
    "start_time": "2022-10-17T19:30:29.836Z"
   },
   {
    "duration": 5,
    "start_time": "2022-10-17T19:30:43.533Z"
   },
   {
    "duration": 12,
    "start_time": "2022-10-17T19:30:51.836Z"
   },
   {
    "duration": 99,
    "start_time": "2022-10-17T19:36:05.930Z"
   },
   {
    "duration": 46,
    "start_time": "2022-10-17T19:36:42.425Z"
   },
   {
    "duration": 9,
    "start_time": "2022-10-17T19:38:24.677Z"
   },
   {
    "duration": 9,
    "start_time": "2022-10-17T19:38:49.212Z"
   },
   {
    "duration": 9,
    "start_time": "2022-10-17T19:38:54.779Z"
   },
   {
    "duration": 14,
    "start_time": "2022-10-17T19:47:33.526Z"
   },
   {
    "duration": 8,
    "start_time": "2022-10-17T19:51:54.838Z"
   },
   {
    "duration": 9,
    "start_time": "2022-10-17T19:55:10.723Z"
   },
   {
    "duration": 9,
    "start_time": "2022-10-17T19:55:26.954Z"
   },
   {
    "duration": 10,
    "start_time": "2022-10-17T19:55:37.153Z"
   },
   {
    "duration": 9,
    "start_time": "2022-10-17T19:56:06.296Z"
   },
   {
    "duration": 11,
    "start_time": "2022-10-17T19:56:19.607Z"
   },
   {
    "duration": 9,
    "start_time": "2022-10-17T19:56:39.065Z"
   },
   {
    "duration": 17,
    "start_time": "2022-10-17T19:58:16.032Z"
   },
   {
    "duration": 16,
    "start_time": "2022-10-17T19:58:35.546Z"
   },
   {
    "duration": 9,
    "start_time": "2022-10-17T19:58:59.183Z"
   },
   {
    "duration": 9,
    "start_time": "2022-10-17T19:59:03.498Z"
   },
   {
    "duration": 10,
    "start_time": "2022-10-17T19:59:09.049Z"
   },
   {
    "duration": 9,
    "start_time": "2022-10-17T19:59:13.675Z"
   },
   {
    "duration": 11,
    "start_time": "2022-10-17T20:12:17.933Z"
   },
   {
    "duration": 9,
    "start_time": "2022-10-17T20:12:22.728Z"
   },
   {
    "duration": 10,
    "start_time": "2022-10-17T20:12:44.299Z"
   },
   {
    "duration": 6,
    "start_time": "2022-10-17T20:13:24.482Z"
   },
   {
    "duration": 980,
    "start_time": "2022-10-17T20:15:42.947Z"
   },
   {
    "duration": 11,
    "start_time": "2022-10-17T20:15:55.737Z"
   },
   {
    "duration": 22,
    "start_time": "2022-10-17T20:16:02.372Z"
   },
   {
    "duration": 33,
    "start_time": "2022-10-17T20:20:41.983Z"
   },
   {
    "duration": 20,
    "start_time": "2022-10-17T20:21:09.697Z"
   },
   {
    "duration": 925,
    "start_time": "2022-10-17T20:21:30.495Z"
   },
   {
    "duration": 349,
    "start_time": "2022-10-17T20:21:31.421Z"
   },
   {
    "duration": 21,
    "start_time": "2022-10-17T20:21:31.771Z"
   },
   {
    "duration": 50,
    "start_time": "2022-10-17T20:21:31.794Z"
   },
   {
    "duration": 92,
    "start_time": "2022-10-17T20:21:31.845Z"
   },
   {
    "duration": 11,
    "start_time": "2022-10-17T20:21:31.939Z"
   },
   {
    "duration": 54,
    "start_time": "2022-10-17T20:21:31.952Z"
   },
   {
    "duration": 46,
    "start_time": "2022-10-17T20:21:32.008Z"
   },
   {
    "duration": 7,
    "start_time": "2022-10-17T20:21:32.056Z"
   },
   {
    "duration": 38,
    "start_time": "2022-10-17T20:21:32.065Z"
   },
   {
    "duration": 48,
    "start_time": "2022-10-17T20:21:32.104Z"
   },
   {
    "duration": 52,
    "start_time": "2022-10-17T20:21:32.154Z"
   },
   {
    "duration": 9,
    "start_time": "2022-10-17T20:21:32.207Z"
   },
   {
    "duration": 30,
    "start_time": "2022-10-17T20:21:32.217Z"
   },
   {
    "duration": 30,
    "start_time": "2022-10-17T20:21:32.248Z"
   },
   {
    "duration": 60,
    "start_time": "2022-10-17T20:21:32.280Z"
   },
   {
    "duration": 120,
    "start_time": "2022-10-17T20:21:32.341Z"
   },
   {
    "duration": 5,
    "start_time": "2022-10-17T20:21:32.463Z"
   },
   {
    "duration": 6,
    "start_time": "2022-10-17T20:21:32.469Z"
   },
   {
    "duration": 9,
    "start_time": "2022-10-17T20:21:32.476Z"
   },
   {
    "duration": 28,
    "start_time": "2022-10-17T20:21:32.486Z"
   },
   {
    "duration": 7,
    "start_time": "2022-10-17T20:21:32.515Z"
   },
   {
    "duration": 385,
    "start_time": "2022-10-17T20:21:32.523Z"
   },
   {
    "duration": 243,
    "start_time": "2022-10-17T20:21:32.910Z"
   },
   {
    "duration": 19,
    "start_time": "2022-10-17T20:21:33.155Z"
   },
   {
    "duration": 199,
    "start_time": "2022-10-17T20:21:33.175Z"
   },
   {
    "duration": 13,
    "start_time": "2022-10-17T20:21:33.375Z"
   },
   {
    "duration": 8,
    "start_time": "2022-10-17T20:21:33.410Z"
   },
   {
    "duration": 41,
    "start_time": "2022-10-17T20:21:33.419Z"
   },
   {
    "duration": 874,
    "start_time": "2022-10-17T20:22:56.140Z"
   },
   {
    "duration": 358,
    "start_time": "2022-10-17T20:22:57.016Z"
   },
   {
    "duration": 21,
    "start_time": "2022-10-17T20:22:57.376Z"
   },
   {
    "duration": 47,
    "start_time": "2022-10-17T20:22:57.399Z"
   },
   {
    "duration": 96,
    "start_time": "2022-10-17T20:22:57.447Z"
   },
   {
    "duration": 12,
    "start_time": "2022-10-17T20:22:57.545Z"
   },
   {
    "duration": 52,
    "start_time": "2022-10-17T20:22:57.558Z"
   },
   {
    "duration": 55,
    "start_time": "2022-10-17T20:22:57.612Z"
   },
   {
    "duration": 9,
    "start_time": "2022-10-17T20:22:57.668Z"
   },
   {
    "duration": 37,
    "start_time": "2022-10-17T20:22:57.681Z"
   },
   {
    "duration": 22,
    "start_time": "2022-10-17T20:22:57.720Z"
   },
   {
    "duration": 42,
    "start_time": "2022-10-17T20:22:57.744Z"
   },
   {
    "duration": 29,
    "start_time": "2022-10-17T20:22:57.787Z"
   },
   {
    "duration": 9,
    "start_time": "2022-10-17T20:22:57.817Z"
   },
   {
    "duration": 15,
    "start_time": "2022-10-17T20:22:57.827Z"
   },
   {
    "duration": 68,
    "start_time": "2022-10-17T20:22:57.843Z"
   },
   {
    "duration": 127,
    "start_time": "2022-10-17T20:22:57.912Z"
   },
   {
    "duration": 6,
    "start_time": "2022-10-17T20:22:58.041Z"
   },
   {
    "duration": 10,
    "start_time": "2022-10-17T20:22:58.048Z"
   },
   {
    "duration": 11,
    "start_time": "2022-10-17T20:22:58.059Z"
   },
   {
    "duration": 17,
    "start_time": "2022-10-17T20:22:58.071Z"
   },
   {
    "duration": 8,
    "start_time": "2022-10-17T20:22:58.090Z"
   },
   {
    "duration": 380,
    "start_time": "2022-10-17T20:22:58.099Z"
   },
   {
    "duration": 211,
    "start_time": "2022-10-17T20:22:58.481Z"
   },
   {
    "duration": 30,
    "start_time": "2022-10-17T20:22:58.694Z"
   },
   {
    "duration": 186,
    "start_time": "2022-10-17T20:22:58.725Z"
   },
   {
    "duration": 14,
    "start_time": "2022-10-17T20:22:58.912Z"
   },
   {
    "duration": 8,
    "start_time": "2022-10-17T20:22:58.929Z"
   },
   {
    "duration": 23,
    "start_time": "2022-10-17T20:22:58.938Z"
   },
   {
    "duration": 8,
    "start_time": "2022-10-17T20:22:58.963Z"
   },
   {
    "duration": 881,
    "start_time": "2022-10-17T20:28:56.647Z"
   },
   {
    "duration": 337,
    "start_time": "2022-10-17T20:28:57.530Z"
   },
   {
    "duration": 20,
    "start_time": "2022-10-17T20:28:57.869Z"
   },
   {
    "duration": 47,
    "start_time": "2022-10-17T20:28:57.891Z"
   },
   {
    "duration": 96,
    "start_time": "2022-10-17T20:28:57.940Z"
   },
   {
    "duration": 12,
    "start_time": "2022-10-17T20:28:58.037Z"
   },
   {
    "duration": 38,
    "start_time": "2022-10-17T20:28:58.050Z"
   },
   {
    "duration": 61,
    "start_time": "2022-10-17T20:28:58.090Z"
   },
   {
    "duration": 8,
    "start_time": "2022-10-17T20:28:58.152Z"
   },
   {
    "duration": 11,
    "start_time": "2022-10-17T20:28:58.162Z"
   },
   {
    "duration": 42,
    "start_time": "2022-10-17T20:28:58.174Z"
   },
   {
    "duration": 43,
    "start_time": "2022-10-17T20:28:58.217Z"
   },
   {
    "duration": 9,
    "start_time": "2022-10-17T20:28:58.262Z"
   },
   {
    "duration": 11,
    "start_time": "2022-10-17T20:28:58.272Z"
   },
   {
    "duration": 11,
    "start_time": "2022-10-17T20:28:58.309Z"
   },
   {
    "duration": 41,
    "start_time": "2022-10-17T20:28:58.322Z"
   },
   {
    "duration": 142,
    "start_time": "2022-10-17T20:28:58.364Z"
   },
   {
    "duration": 6,
    "start_time": "2022-10-17T20:28:58.508Z"
   },
   {
    "duration": 5,
    "start_time": "2022-10-17T20:28:58.515Z"
   },
   {
    "duration": 5,
    "start_time": "2022-10-17T20:28:58.521Z"
   },
   {
    "duration": 13,
    "start_time": "2022-10-17T20:28:58.527Z"
   },
   {
    "duration": 7,
    "start_time": "2022-10-17T20:28:58.541Z"
   },
   {
    "duration": 389,
    "start_time": "2022-10-17T20:28:58.549Z"
   },
   {
    "duration": 215,
    "start_time": "2022-10-17T20:28:58.940Z"
   },
   {
    "duration": 20,
    "start_time": "2022-10-17T20:28:59.156Z"
   },
   {
    "duration": 184,
    "start_time": "2022-10-17T20:28:59.177Z"
   },
   {
    "duration": 12,
    "start_time": "2022-10-17T20:28:59.363Z"
   },
   {
    "duration": 34,
    "start_time": "2022-10-17T20:28:59.378Z"
   },
   {
    "duration": 18,
    "start_time": "2022-10-17T20:28:59.414Z"
   },
   {
    "duration": 14,
    "start_time": "2022-10-17T20:28:59.433Z"
   },
   {
    "duration": 14,
    "start_time": "2022-10-17T20:29:32.831Z"
   },
   {
    "duration": 9,
    "start_time": "2022-10-17T20:31:49.672Z"
   },
   {
    "duration": 9,
    "start_time": "2022-10-17T20:32:14.097Z"
   },
   {
    "duration": 9,
    "start_time": "2022-10-17T20:32:33.353Z"
   },
   {
    "duration": 9,
    "start_time": "2022-10-17T20:32:52.394Z"
   },
   {
    "duration": 9,
    "start_time": "2022-10-17T20:32:57.479Z"
   },
   {
    "duration": 14,
    "start_time": "2022-10-17T20:39:16.111Z"
   },
   {
    "duration": 65,
    "start_time": "2022-10-17T20:39:43.996Z"
   },
   {
    "duration": 61,
    "start_time": "2022-10-17T20:44:23.046Z"
   },
   {
    "duration": 926,
    "start_time": "2022-10-17T21:08:17.775Z"
   },
   {
    "duration": 352,
    "start_time": "2022-10-17T21:08:18.703Z"
   },
   {
    "duration": 22,
    "start_time": "2022-10-17T21:08:19.056Z"
   },
   {
    "duration": 56,
    "start_time": "2022-10-17T21:08:19.080Z"
   },
   {
    "duration": 92,
    "start_time": "2022-10-17T21:08:19.138Z"
   },
   {
    "duration": 12,
    "start_time": "2022-10-17T21:08:19.232Z"
   },
   {
    "duration": 48,
    "start_time": "2022-10-17T21:08:19.246Z"
   },
   {
    "duration": 43,
    "start_time": "2022-10-17T21:08:19.309Z"
   },
   {
    "duration": 7,
    "start_time": "2022-10-17T21:08:19.353Z"
   },
   {
    "duration": 14,
    "start_time": "2022-10-17T21:08:19.362Z"
   },
   {
    "duration": 39,
    "start_time": "2022-10-17T21:08:19.378Z"
   },
   {
    "duration": 39,
    "start_time": "2022-10-17T21:08:19.419Z"
   },
   {
    "duration": 9,
    "start_time": "2022-10-17T21:08:19.459Z"
   },
   {
    "duration": 23,
    "start_time": "2022-10-17T21:08:19.469Z"
   },
   {
    "duration": 37,
    "start_time": "2022-10-17T21:08:19.493Z"
   },
   {
    "duration": 62,
    "start_time": "2022-10-17T21:08:19.532Z"
   },
   {
    "duration": 117,
    "start_time": "2022-10-17T21:08:19.595Z"
   },
   {
    "duration": 8,
    "start_time": "2022-10-17T21:08:19.713Z"
   },
   {
    "duration": 5,
    "start_time": "2022-10-17T21:08:19.722Z"
   },
   {
    "duration": 12,
    "start_time": "2022-10-17T21:08:19.728Z"
   },
   {
    "duration": 26,
    "start_time": "2022-10-17T21:08:19.741Z"
   },
   {
    "duration": 14,
    "start_time": "2022-10-17T21:08:19.768Z"
   },
   {
    "duration": 374,
    "start_time": "2022-10-17T21:08:19.783Z"
   },
   {
    "duration": 212,
    "start_time": "2022-10-17T21:08:20.158Z"
   },
   {
    "duration": 20,
    "start_time": "2022-10-17T21:08:20.371Z"
   },
   {
    "duration": 171,
    "start_time": "2022-10-17T21:08:20.409Z"
   },
   {
    "duration": 29,
    "start_time": "2022-10-17T21:08:20.582Z"
   },
   {
    "duration": 8,
    "start_time": "2022-10-17T21:08:20.614Z"
   },
   {
    "duration": 82,
    "start_time": "2022-10-17T21:08:20.623Z"
   },
   {
    "duration": 16,
    "start_time": "2022-10-17T21:08:20.707Z"
   },
   {
    "duration": 14,
    "start_time": "2022-10-17T21:08:20.725Z"
   },
   {
    "duration": 13,
    "start_time": "2022-10-17T21:08:20.740Z"
   },
   {
    "duration": 74,
    "start_time": "2022-10-17T21:08:20.754Z"
   },
   {
    "duration": 940,
    "start_time": "2022-10-17T21:56:47.672Z"
   },
   {
    "duration": 1672,
    "start_time": "2022-10-17T21:56:48.613Z"
   },
   {
    "duration": 27,
    "start_time": "2022-10-17T21:56:50.287Z"
   },
   {
    "duration": 44,
    "start_time": "2022-10-17T21:56:50.316Z"
   },
   {
    "duration": 114,
    "start_time": "2022-10-17T21:56:50.362Z"
   },
   {
    "duration": 12,
    "start_time": "2022-10-17T21:56:50.478Z"
   },
   {
    "duration": 54,
    "start_time": "2022-10-17T21:56:50.492Z"
   },
   {
    "duration": 43,
    "start_time": "2022-10-17T21:56:50.547Z"
   },
   {
    "duration": 8,
    "start_time": "2022-10-17T21:56:50.591Z"
   },
   {
    "duration": 29,
    "start_time": "2022-10-17T21:56:50.600Z"
   },
   {
    "duration": 18,
    "start_time": "2022-10-17T21:56:50.630Z"
   },
   {
    "duration": 46,
    "start_time": "2022-10-17T21:56:50.650Z"
   },
   {
    "duration": 32,
    "start_time": "2022-10-17T21:56:50.697Z"
   },
   {
    "duration": 8,
    "start_time": "2022-10-17T21:56:50.732Z"
   },
   {
    "duration": 12,
    "start_time": "2022-10-17T21:56:50.741Z"
   },
   {
    "duration": 76,
    "start_time": "2022-10-17T21:56:50.755Z"
   },
   {
    "duration": 147,
    "start_time": "2022-10-17T21:56:50.833Z"
   },
   {
    "duration": 6,
    "start_time": "2022-10-17T21:56:50.982Z"
   },
   {
    "duration": 10,
    "start_time": "2022-10-17T21:56:50.989Z"
   },
   {
    "duration": 23,
    "start_time": "2022-10-17T21:56:51.001Z"
   },
   {
    "duration": 13,
    "start_time": "2022-10-17T21:56:51.027Z"
   },
   {
    "duration": 11,
    "start_time": "2022-10-17T21:56:51.042Z"
   },
   {
    "duration": 508,
    "start_time": "2022-10-17T21:56:51.054Z"
   },
   {
    "duration": 238,
    "start_time": "2022-10-17T21:56:51.564Z"
   },
   {
    "duration": 37,
    "start_time": "2022-10-17T21:56:51.803Z"
   },
   {
    "duration": 183,
    "start_time": "2022-10-17T21:56:51.842Z"
   },
   {
    "duration": 16,
    "start_time": "2022-10-17T21:56:52.026Z"
   },
   {
    "duration": 8,
    "start_time": "2022-10-17T21:56:52.043Z"
   },
   {
    "duration": 89,
    "start_time": "2022-10-17T21:56:52.053Z"
   },
   {
    "duration": 18,
    "start_time": "2022-10-17T21:56:52.143Z"
   },
   {
    "duration": 13,
    "start_time": "2022-10-17T21:56:52.162Z"
   },
   {
    "duration": 10,
    "start_time": "2022-10-17T21:56:52.177Z"
   },
   {
    "duration": 89,
    "start_time": "2022-10-17T21:56:52.188Z"
   },
   {
    "duration": 11,
    "start_time": "2022-10-17T22:08:20.566Z"
   },
   {
    "duration": 15,
    "start_time": "2022-10-17T22:15:22.405Z"
   },
   {
    "duration": 4,
    "start_time": "2022-10-17T22:16:03.591Z"
   },
   {
    "duration": 873,
    "start_time": "2022-10-17T22:18:07.729Z"
   },
   {
    "duration": 360,
    "start_time": "2022-10-17T22:18:08.604Z"
   },
   {
    "duration": 22,
    "start_time": "2022-10-17T22:18:08.966Z"
   },
   {
    "duration": 43,
    "start_time": "2022-10-17T22:18:08.989Z"
   },
   {
    "duration": 100,
    "start_time": "2022-10-17T22:18:09.035Z"
   },
   {
    "duration": 12,
    "start_time": "2022-10-17T22:18:09.136Z"
   },
   {
    "duration": 36,
    "start_time": "2022-10-17T22:18:09.149Z"
   },
   {
    "duration": 60,
    "start_time": "2022-10-17T22:18:09.186Z"
   },
   {
    "duration": 7,
    "start_time": "2022-10-17T22:18:09.247Z"
   },
   {
    "duration": 10,
    "start_time": "2022-10-17T22:18:09.256Z"
   },
   {
    "duration": 17,
    "start_time": "2022-10-17T22:18:09.268Z"
   },
   {
    "duration": 68,
    "start_time": "2022-10-17T22:18:09.286Z"
   },
   {
    "duration": 11,
    "start_time": "2022-10-17T22:18:09.356Z"
   },
   {
    "duration": 16,
    "start_time": "2022-10-17T22:18:09.368Z"
   },
   {
    "duration": 23,
    "start_time": "2022-10-17T22:18:09.385Z"
   },
   {
    "duration": 51,
    "start_time": "2022-10-17T22:18:09.410Z"
   },
   {
    "duration": 145,
    "start_time": "2022-10-17T22:18:09.463Z"
   },
   {
    "duration": 3,
    "start_time": "2022-10-17T22:18:09.610Z"
   },
   {
    "duration": 27,
    "start_time": "2022-10-17T22:18:09.615Z"
   },
   {
    "duration": 13,
    "start_time": "2022-10-17T22:18:09.644Z"
   },
   {
    "duration": 18,
    "start_time": "2022-10-17T22:18:09.659Z"
   },
   {
    "duration": 34,
    "start_time": "2022-10-17T22:18:09.678Z"
   },
   {
    "duration": 4,
    "start_time": "2022-10-17T22:18:09.713Z"
   },
   {
    "duration": 495,
    "start_time": "2022-10-17T22:18:09.718Z"
   },
   {
    "duration": 209,
    "start_time": "2022-10-17T22:18:10.214Z"
   },
   {
    "duration": 23,
    "start_time": "2022-10-17T22:18:10.424Z"
   },
   {
    "duration": 158,
    "start_time": "2022-10-17T22:18:10.448Z"
   },
   {
    "duration": 20,
    "start_time": "2022-10-17T22:18:10.609Z"
   },
   {
    "duration": 8,
    "start_time": "2022-10-17T22:18:10.630Z"
   },
   {
    "duration": 57,
    "start_time": "2022-10-17T22:18:10.639Z"
   },
   {
    "duration": 39,
    "start_time": "2022-10-17T22:18:10.697Z"
   },
   {
    "duration": 12,
    "start_time": "2022-10-17T22:18:10.737Z"
   },
   {
    "duration": 8,
    "start_time": "2022-10-17T22:18:10.750Z"
   },
   {
    "duration": 81,
    "start_time": "2022-10-17T22:18:10.760Z"
   },
   {
    "duration": 883,
    "start_time": "2022-10-19T09:34:40.105Z"
   },
   {
    "duration": 688,
    "start_time": "2022-10-19T09:34:40.990Z"
   },
   {
    "duration": 24,
    "start_time": "2022-10-19T09:34:41.680Z"
   },
   {
    "duration": 47,
    "start_time": "2022-10-19T09:34:41.707Z"
   },
   {
    "duration": 115,
    "start_time": "2022-10-19T09:34:41.756Z"
   },
   {
    "duration": 13,
    "start_time": "2022-10-19T09:34:41.872Z"
   },
   {
    "duration": 37,
    "start_time": "2022-10-19T09:34:41.900Z"
   },
   {
    "duration": 64,
    "start_time": "2022-10-19T09:34:41.939Z"
   },
   {
    "duration": 8,
    "start_time": "2022-10-19T09:34:42.004Z"
   },
   {
    "duration": 18,
    "start_time": "2022-10-19T09:34:42.015Z"
   },
   {
    "duration": 28,
    "start_time": "2022-10-19T09:34:42.034Z"
   },
   {
    "duration": 54,
    "start_time": "2022-10-19T09:34:42.063Z"
   },
   {
    "duration": 10,
    "start_time": "2022-10-19T09:34:42.119Z"
   },
   {
    "duration": 12,
    "start_time": "2022-10-19T09:34:42.130Z"
   },
   {
    "duration": 15,
    "start_time": "2022-10-19T09:34:42.143Z"
   },
   {
    "duration": 74,
    "start_time": "2022-10-19T09:34:42.159Z"
   },
   {
    "duration": 45,
    "start_time": "2022-10-19T09:34:42.234Z"
   },
   {
    "duration": 24,
    "start_time": "2022-10-19T09:34:42.280Z"
   },
   {
    "duration": 69,
    "start_time": "2022-10-19T09:34:42.306Z"
   },
   {
    "duration": 29,
    "start_time": "2022-10-19T09:34:42.376Z"
   },
   {
    "duration": 6,
    "start_time": "2022-10-19T09:34:42.406Z"
   },
   {
    "duration": 7,
    "start_time": "2022-10-19T09:34:42.413Z"
   },
   {
    "duration": 26,
    "start_time": "2022-10-19T09:34:42.422Z"
   },
   {
    "duration": 3,
    "start_time": "2022-10-19T09:35:38.768Z"
   },
   {
    "duration": 367,
    "start_time": "2022-10-19T09:35:38.774Z"
   },
   {
    "duration": 13,
    "start_time": "2022-10-19T09:35:39.143Z"
   },
   {
    "duration": 41,
    "start_time": "2022-10-19T09:35:39.158Z"
   },
   {
    "duration": 117,
    "start_time": "2022-10-19T09:35:39.201Z"
   },
   {
    "duration": 14,
    "start_time": "2022-10-19T09:35:39.320Z"
   },
   {
    "duration": 39,
    "start_time": "2022-10-19T09:35:39.335Z"
   },
   {
    "duration": 77,
    "start_time": "2022-10-19T09:35:39.375Z"
   },
   {
    "duration": 9,
    "start_time": "2022-10-19T09:35:39.453Z"
   },
   {
    "duration": 37,
    "start_time": "2022-10-19T09:35:39.463Z"
   },
   {
    "duration": 21,
    "start_time": "2022-10-19T09:35:39.503Z"
   },
   {
    "duration": 48,
    "start_time": "2022-10-19T09:35:39.526Z"
   },
   {
    "duration": 33,
    "start_time": "2022-10-19T09:35:39.575Z"
   },
   {
    "duration": 9,
    "start_time": "2022-10-19T09:35:39.609Z"
   },
   {
    "duration": 14,
    "start_time": "2022-10-19T09:35:39.620Z"
   },
   {
    "duration": 85,
    "start_time": "2022-10-19T09:35:39.635Z"
   },
   {
    "duration": 48,
    "start_time": "2022-10-19T09:35:39.721Z"
   },
   {
    "duration": 5,
    "start_time": "2022-10-19T09:35:39.771Z"
   },
   {
    "duration": 73,
    "start_time": "2022-10-19T09:35:39.778Z"
   },
   {
    "duration": 16,
    "start_time": "2022-10-19T09:35:39.852Z"
   },
   {
    "duration": 5,
    "start_time": "2022-10-19T09:35:39.869Z"
   },
   {
    "duration": 7,
    "start_time": "2022-10-19T09:35:39.875Z"
   },
   {
    "duration": 809,
    "start_time": "2022-10-19T09:35:39.883Z"
   },
   {
    "duration": 3,
    "start_time": "2022-10-19T09:38:21.329Z"
   },
   {
    "duration": 363,
    "start_time": "2022-10-19T09:38:21.333Z"
   },
   {
    "duration": 13,
    "start_time": "2022-10-19T09:38:21.698Z"
   },
   {
    "duration": 46,
    "start_time": "2022-10-19T09:38:21.713Z"
   },
   {
    "duration": 115,
    "start_time": "2022-10-19T09:38:21.760Z"
   },
   {
    "duration": 24,
    "start_time": "2022-10-19T09:38:21.876Z"
   },
   {
    "duration": 35,
    "start_time": "2022-10-19T09:38:21.902Z"
   },
   {
    "duration": 45,
    "start_time": "2022-10-19T09:38:21.938Z"
   },
   {
    "duration": 7,
    "start_time": "2022-10-19T09:38:22.000Z"
   },
   {
    "duration": 14,
    "start_time": "2022-10-19T09:38:22.008Z"
   },
   {
    "duration": 18,
    "start_time": "2022-10-19T09:38:22.024Z"
   },
   {
    "duration": 67,
    "start_time": "2022-10-19T09:38:22.044Z"
   },
   {
    "duration": 8,
    "start_time": "2022-10-19T09:38:22.113Z"
   },
   {
    "duration": 16,
    "start_time": "2022-10-19T09:38:22.123Z"
   },
   {
    "duration": 16,
    "start_time": "2022-10-19T09:38:22.141Z"
   },
   {
    "duration": 70,
    "start_time": "2022-10-19T09:38:22.159Z"
   },
   {
    "duration": 47,
    "start_time": "2022-10-19T09:38:22.231Z"
   },
   {
    "duration": 26,
    "start_time": "2022-10-19T09:38:22.280Z"
   },
   {
    "duration": 0,
    "start_time": "2022-10-19T09:38:22.308Z"
   },
   {
    "duration": 0,
    "start_time": "2022-10-19T09:38:22.309Z"
   },
   {
    "duration": 0,
    "start_time": "2022-10-19T09:38:22.310Z"
   },
   {
    "duration": 0,
    "start_time": "2022-10-19T09:38:22.311Z"
   },
   {
    "duration": 0,
    "start_time": "2022-10-19T09:38:22.312Z"
   },
   {
    "duration": 940,
    "start_time": "2022-10-19T09:39:43.925Z"
   },
   {
    "duration": 367,
    "start_time": "2022-10-19T09:39:44.867Z"
   },
   {
    "duration": 20,
    "start_time": "2022-10-19T09:39:45.236Z"
   },
   {
    "duration": 45,
    "start_time": "2022-10-19T09:39:45.258Z"
   },
   {
    "duration": 120,
    "start_time": "2022-10-19T09:39:45.305Z"
   },
   {
    "duration": 14,
    "start_time": "2022-10-19T09:39:45.427Z"
   },
   {
    "duration": 63,
    "start_time": "2022-10-19T09:39:45.443Z"
   },
   {
    "duration": 49,
    "start_time": "2022-10-19T09:39:45.507Z"
   },
   {
    "duration": 8,
    "start_time": "2022-10-19T09:39:45.557Z"
   },
   {
    "duration": 36,
    "start_time": "2022-10-19T09:39:45.567Z"
   },
   {
    "duration": 21,
    "start_time": "2022-10-19T09:39:45.604Z"
   },
   {
    "duration": 46,
    "start_time": "2022-10-19T09:39:45.626Z"
   },
   {
    "duration": 10,
    "start_time": "2022-10-19T09:39:45.700Z"
   },
   {
    "duration": 22,
    "start_time": "2022-10-19T09:39:45.713Z"
   },
   {
    "duration": 16,
    "start_time": "2022-10-19T09:39:45.738Z"
   },
   {
    "duration": 63,
    "start_time": "2022-10-19T09:39:45.756Z"
   },
   {
    "duration": 47,
    "start_time": "2022-10-19T09:39:45.821Z"
   },
   {
    "duration": 112,
    "start_time": "2022-10-19T09:39:45.870Z"
   },
   {
    "duration": 0,
    "start_time": "2022-10-19T09:39:45.984Z"
   },
   {
    "duration": 0,
    "start_time": "2022-10-19T09:39:45.985Z"
   },
   {
    "duration": 0,
    "start_time": "2022-10-19T09:39:45.986Z"
   },
   {
    "duration": 0,
    "start_time": "2022-10-19T09:39:45.987Z"
   },
   {
    "duration": 0,
    "start_time": "2022-10-19T09:39:46.000Z"
   },
   {
    "duration": 15,
    "start_time": "2022-10-19T09:41:12.523Z"
   },
   {
    "duration": 4,
    "start_time": "2022-10-19T09:41:51.953Z"
   },
   {
    "duration": 359,
    "start_time": "2022-10-19T09:41:51.958Z"
   },
   {
    "duration": 14,
    "start_time": "2022-10-19T09:41:52.319Z"
   },
   {
    "duration": 65,
    "start_time": "2022-10-19T09:41:52.334Z"
   },
   {
    "duration": 107,
    "start_time": "2022-10-19T09:41:52.401Z"
   },
   {
    "duration": 12,
    "start_time": "2022-10-19T09:41:52.510Z"
   },
   {
    "duration": 40,
    "start_time": "2022-10-19T09:41:52.524Z"
   },
   {
    "duration": 71,
    "start_time": "2022-10-19T09:41:52.566Z"
   },
   {
    "duration": 7,
    "start_time": "2022-10-19T09:41:52.639Z"
   },
   {
    "duration": 15,
    "start_time": "2022-10-19T09:41:52.648Z"
   },
   {
    "duration": 43,
    "start_time": "2022-10-19T09:41:52.666Z"
   },
   {
    "duration": 47,
    "start_time": "2022-10-19T09:41:52.710Z"
   },
   {
    "duration": 10,
    "start_time": "2022-10-19T09:41:52.759Z"
   },
   {
    "duration": 37,
    "start_time": "2022-10-19T09:41:52.771Z"
   },
   {
    "duration": 16,
    "start_time": "2022-10-19T09:41:52.810Z"
   },
   {
    "duration": 80,
    "start_time": "2022-10-19T09:41:52.828Z"
   },
   {
    "duration": 50,
    "start_time": "2022-10-19T09:41:52.910Z"
   },
   {
    "duration": 65,
    "start_time": "2022-10-19T09:41:52.962Z"
   },
   {
    "duration": 63,
    "start_time": "2022-10-19T09:41:53.028Z"
   },
   {
    "duration": 30,
    "start_time": "2022-10-19T09:41:53.093Z"
   },
   {
    "duration": 8,
    "start_time": "2022-10-19T09:41:53.126Z"
   },
   {
    "duration": 11,
    "start_time": "2022-10-19T09:41:53.136Z"
   },
   {
    "duration": 1128,
    "start_time": "2022-10-19T09:41:53.148Z"
   },
   {
    "duration": 11,
    "start_time": "2022-10-19T09:43:16.853Z"
   },
   {
    "duration": 7,
    "start_time": "2022-10-19T09:43:52.704Z"
   },
   {
    "duration": 72,
    "start_time": "2022-10-19T09:44:11.772Z"
   },
   {
    "duration": 16,
    "start_time": "2022-10-19T09:44:13.854Z"
   },
   {
    "duration": 6,
    "start_time": "2022-10-19T09:44:15.650Z"
   },
   {
    "duration": 8,
    "start_time": "2022-10-19T09:44:17.108Z"
   },
   {
    "duration": 9,
    "start_time": "2022-10-19T09:44:38.983Z"
   },
   {
    "duration": 10,
    "start_time": "2022-10-19T09:45:49.798Z"
   },
   {
    "duration": 67,
    "start_time": "2022-10-19T09:45:51.428Z"
   },
   {
    "duration": 55,
    "start_time": "2022-10-19T09:46:07.983Z"
   },
   {
    "duration": 16,
    "start_time": "2022-10-19T09:46:10.109Z"
   },
   {
    "duration": 9,
    "start_time": "2022-10-19T09:46:11.682Z"
   },
   {
    "duration": 11,
    "start_time": "2022-10-19T09:46:13.053Z"
   },
   {
    "duration": 5,
    "start_time": "2022-10-19T09:46:19.196Z"
   },
   {
    "duration": 24,
    "start_time": "2022-10-19T09:46:20.876Z"
   },
   {
    "duration": 1029,
    "start_time": "2022-10-19T09:46:33.460Z"
   },
   {
    "duration": 439,
    "start_time": "2022-10-19T09:46:34.491Z"
   },
   {
    "duration": 21,
    "start_time": "2022-10-19T09:46:34.932Z"
   },
   {
    "duration": 46,
    "start_time": "2022-10-19T09:46:34.955Z"
   },
   {
    "duration": 115,
    "start_time": "2022-10-19T09:46:35.003Z"
   },
   {
    "duration": 13,
    "start_time": "2022-10-19T09:46:35.120Z"
   },
   {
    "duration": 66,
    "start_time": "2022-10-19T09:46:35.135Z"
   },
   {
    "duration": 51,
    "start_time": "2022-10-19T09:46:35.203Z"
   },
   {
    "duration": 8,
    "start_time": "2022-10-19T09:46:35.256Z"
   },
   {
    "duration": 39,
    "start_time": "2022-10-19T09:46:35.267Z"
   },
   {
    "duration": 24,
    "start_time": "2022-10-19T09:46:35.308Z"
   },
   {
    "duration": 76,
    "start_time": "2022-10-19T09:46:35.334Z"
   },
   {
    "duration": 13,
    "start_time": "2022-10-19T09:46:35.412Z"
   },
   {
    "duration": 9,
    "start_time": "2022-10-19T09:46:35.427Z"
   },
   {
    "duration": 22,
    "start_time": "2022-10-19T09:46:35.438Z"
   },
   {
    "duration": 82,
    "start_time": "2022-10-19T09:46:35.462Z"
   },
   {
    "duration": 64,
    "start_time": "2022-10-19T09:46:35.546Z"
   },
   {
    "duration": 10,
    "start_time": "2022-10-19T09:46:35.612Z"
   },
   {
    "duration": 106,
    "start_time": "2022-10-19T09:46:35.623Z"
   },
   {
    "duration": 19,
    "start_time": "2022-10-19T09:46:35.731Z"
   },
   {
    "duration": 15,
    "start_time": "2022-10-19T09:46:35.753Z"
   },
   {
    "duration": 9,
    "start_time": "2022-10-19T09:46:35.769Z"
   },
   {
    "duration": 41,
    "start_time": "2022-10-19T09:46:35.780Z"
   },
   {
    "duration": 875,
    "start_time": "2022-10-19T09:49:08.846Z"
   },
   {
    "duration": 365,
    "start_time": "2022-10-19T09:49:09.723Z"
   },
   {
    "duration": 23,
    "start_time": "2022-10-19T09:49:10.089Z"
   },
   {
    "duration": 64,
    "start_time": "2022-10-19T09:49:10.115Z"
   },
   {
    "duration": 132,
    "start_time": "2022-10-19T09:49:10.181Z"
   },
   {
    "duration": 18,
    "start_time": "2022-10-19T09:49:10.315Z"
   },
   {
    "duration": 77,
    "start_time": "2022-10-19T09:49:10.335Z"
   },
   {
    "duration": 51,
    "start_time": "2022-10-19T09:49:10.414Z"
   },
   {
    "duration": 9,
    "start_time": "2022-10-19T09:49:10.466Z"
   },
   {
    "duration": 16,
    "start_time": "2022-10-19T09:49:10.499Z"
   },
   {
    "duration": 51,
    "start_time": "2022-10-19T09:49:10.517Z"
   },
   {
    "duration": 46,
    "start_time": "2022-10-19T09:49:10.571Z"
   },
   {
    "duration": 12,
    "start_time": "2022-10-19T09:49:10.619Z"
   },
   {
    "duration": 12,
    "start_time": "2022-10-19T09:49:10.633Z"
   },
   {
    "duration": 25,
    "start_time": "2022-10-19T09:49:10.647Z"
   },
   {
    "duration": 71,
    "start_time": "2022-10-19T09:49:10.674Z"
   },
   {
    "duration": 67,
    "start_time": "2022-10-19T09:49:10.747Z"
   },
   {
    "duration": 10,
    "start_time": "2022-10-19T09:49:10.815Z"
   },
   {
    "duration": 54,
    "start_time": "2022-10-19T09:49:10.826Z"
   },
   {
    "duration": 35,
    "start_time": "2022-10-19T09:49:10.882Z"
   },
   {
    "duration": 6,
    "start_time": "2022-10-19T09:49:10.918Z"
   },
   {
    "duration": 15,
    "start_time": "2022-10-19T09:49:10.926Z"
   },
   {
    "duration": 41,
    "start_time": "2022-10-19T09:49:10.943Z"
   },
   {
    "duration": 6,
    "start_time": "2022-10-19T09:49:10.986Z"
   },
   {
    "duration": 11,
    "start_time": "2022-10-19T09:49:10.993Z"
   },
   {
    "duration": 7,
    "start_time": "2022-10-19T09:49:11.005Z"
   },
   {
    "duration": 19,
    "start_time": "2022-10-19T09:49:11.013Z"
   },
   {
    "duration": 13,
    "start_time": "2022-10-19T09:49:11.036Z"
   },
   {
    "duration": 385,
    "start_time": "2022-10-19T09:49:11.051Z"
   },
   {
    "duration": 213,
    "start_time": "2022-10-19T09:49:11.437Z"
   },
   {
    "duration": 0,
    "start_time": "2022-10-19T09:49:11.652Z"
   },
   {
    "duration": 0,
    "start_time": "2022-10-19T09:49:11.653Z"
   },
   {
    "duration": 0,
    "start_time": "2022-10-19T09:49:11.654Z"
   },
   {
    "duration": 0,
    "start_time": "2022-10-19T09:49:11.655Z"
   },
   {
    "duration": 0,
    "start_time": "2022-10-19T09:49:11.657Z"
   },
   {
    "duration": 0,
    "start_time": "2022-10-19T09:49:11.658Z"
   },
   {
    "duration": 0,
    "start_time": "2022-10-19T09:49:11.660Z"
   },
   {
    "duration": 0,
    "start_time": "2022-10-19T09:49:11.661Z"
   },
   {
    "duration": 0,
    "start_time": "2022-10-19T09:49:11.663Z"
   },
   {
    "duration": 148,
    "start_time": "2022-10-19T09:50:14.941Z"
   },
   {
    "duration": 36,
    "start_time": "2022-10-19T09:51:06.844Z"
   },
   {
    "duration": 261,
    "start_time": "2022-10-19T09:51:20.694Z"
   },
   {
    "duration": 10,
    "start_time": "2022-10-19T10:01:02.057Z"
   },
   {
    "duration": 13,
    "start_time": "2022-10-19T10:01:16.911Z"
   },
   {
    "duration": 8,
    "start_time": "2022-10-19T10:01:27.279Z"
   },
   {
    "duration": 15,
    "start_time": "2022-10-19T10:01:32.947Z"
   },
   {
    "duration": 10,
    "start_time": "2022-10-19T10:01:36.268Z"
   },
   {
    "duration": 11,
    "start_time": "2022-10-19T10:01:41.574Z"
   },
   {
    "duration": 21,
    "start_time": "2022-10-19T10:03:36.392Z"
   },
   {
    "duration": 28,
    "start_time": "2022-10-19T10:03:45.302Z"
   },
   {
    "duration": 21,
    "start_time": "2022-10-19T10:03:51.458Z"
   },
   {
    "duration": 16,
    "start_time": "2022-10-19T10:04:18.094Z"
   },
   {
    "duration": 24,
    "start_time": "2022-10-19T10:04:36.712Z"
   },
   {
    "duration": 22,
    "start_time": "2022-10-19T10:04:39.854Z"
   },
   {
    "duration": 20,
    "start_time": "2022-10-19T10:05:39.937Z"
   },
   {
    "duration": 17,
    "start_time": "2022-10-19T10:05:55.965Z"
   },
   {
    "duration": 8,
    "start_time": "2022-10-19T10:06:48.358Z"
   },
   {
    "duration": 7,
    "start_time": "2022-10-19T10:08:55.379Z"
   },
   {
    "duration": 72,
    "start_time": "2022-10-19T10:09:46.641Z"
   },
   {
    "duration": 36,
    "start_time": "2022-10-19T10:09:52.816Z"
   },
   {
    "duration": 43,
    "start_time": "2022-10-19T10:10:01.797Z"
   },
   {
    "duration": 13,
    "start_time": "2022-10-19T10:10:07.305Z"
   },
   {
    "duration": 16,
    "start_time": "2022-10-19T10:11:18.144Z"
   },
   {
    "duration": 20,
    "start_time": "2022-10-19T10:12:11.856Z"
   },
   {
    "duration": 15,
    "start_time": "2022-10-19T10:13:12.850Z"
   },
   {
    "duration": 56,
    "start_time": "2022-10-19T10:14:19.059Z"
   },
   {
    "duration": 50,
    "start_time": "2022-10-19T10:14:49.266Z"
   },
   {
    "duration": 51,
    "start_time": "2022-10-19T10:15:00.506Z"
   },
   {
    "duration": 14,
    "start_time": "2022-10-19T10:16:01.542Z"
   },
   {
    "duration": 101,
    "start_time": "2022-10-19T10:16:09.100Z"
   },
   {
    "duration": 8,
    "start_time": "2022-10-19T10:20:06.706Z"
   },
   {
    "duration": 8,
    "start_time": "2022-10-19T10:20:11.699Z"
   },
   {
    "duration": 5,
    "start_time": "2022-10-19T10:20:17.608Z"
   },
   {
    "duration": 4,
    "start_time": "2022-10-19T10:20:52.439Z"
   },
   {
    "duration": 9,
    "start_time": "2022-10-19T10:21:02.846Z"
   },
   {
    "duration": 5,
    "start_time": "2022-10-19T10:21:05.042Z"
   },
   {
    "duration": 8,
    "start_time": "2022-10-19T10:21:09.588Z"
   },
   {
    "duration": 5,
    "start_time": "2022-10-19T10:21:11.382Z"
   },
   {
    "duration": 4,
    "start_time": "2022-10-19T10:21:25.296Z"
   },
   {
    "duration": 10,
    "start_time": "2022-10-19T10:21:48.332Z"
   },
   {
    "duration": 13,
    "start_time": "2022-10-19T10:21:59.790Z"
   },
   {
    "duration": 8,
    "start_time": "2022-10-19T10:23:20.278Z"
   },
   {
    "duration": 10,
    "start_time": "2022-10-19T10:23:24.869Z"
   },
   {
    "duration": 8,
    "start_time": "2022-10-19T10:23:34.020Z"
   },
   {
    "duration": 18,
    "start_time": "2022-10-19T10:23:35.324Z"
   },
   {
    "duration": 12,
    "start_time": "2022-10-19T10:23:53.632Z"
   },
   {
    "duration": 11,
    "start_time": "2022-10-19T10:23:55.545Z"
   },
   {
    "duration": 10,
    "start_time": "2022-10-19T10:27:03.073Z"
   },
   {
    "duration": 3,
    "start_time": "2022-10-19T10:27:33.404Z"
   },
   {
    "duration": 17,
    "start_time": "2022-10-19T10:27:44.412Z"
   },
   {
    "duration": 8,
    "start_time": "2022-10-19T10:27:46.302Z"
   },
   {
    "duration": 5,
    "start_time": "2022-10-19T10:28:00.323Z"
   },
   {
    "duration": 7,
    "start_time": "2022-10-19T10:34:52.568Z"
   },
   {
    "duration": 4,
    "start_time": "2022-10-19T10:34:52.683Z"
   },
   {
    "duration": 7,
    "start_time": "2022-10-19T10:35:25.041Z"
   },
   {
    "duration": 4,
    "start_time": "2022-10-19T10:35:30.292Z"
   },
   {
    "duration": 6,
    "start_time": "2022-10-19T10:35:44.145Z"
   },
   {
    "duration": 8,
    "start_time": "2022-10-19T10:36:01.960Z"
   },
   {
    "duration": 9,
    "start_time": "2022-10-19T10:36:12.452Z"
   },
   {
    "duration": 12,
    "start_time": "2022-10-19T10:36:42.693Z"
   },
   {
    "duration": 8,
    "start_time": "2022-10-19T10:37:09.950Z"
   },
   {
    "duration": 8,
    "start_time": "2022-10-19T10:37:12.415Z"
   },
   {
    "duration": 9,
    "start_time": "2022-10-19T10:37:28.648Z"
   },
   {
    "duration": 8,
    "start_time": "2022-10-19T10:37:30.562Z"
   },
   {
    "duration": 10,
    "start_time": "2022-10-19T10:37:36.175Z"
   },
   {
    "duration": 8,
    "start_time": "2022-10-19T10:37:40.741Z"
   },
   {
    "duration": 10,
    "start_time": "2022-10-19T10:37:42.499Z"
   },
   {
    "duration": 914,
    "start_time": "2022-10-19T10:37:57.802Z"
   },
   {
    "duration": 350,
    "start_time": "2022-10-19T10:37:58.718Z"
   },
   {
    "duration": 20,
    "start_time": "2022-10-19T10:37:59.070Z"
   },
   {
    "duration": 44,
    "start_time": "2022-10-19T10:37:59.091Z"
   },
   {
    "duration": 110,
    "start_time": "2022-10-19T10:37:59.137Z"
   },
   {
    "duration": 12,
    "start_time": "2022-10-19T10:37:59.249Z"
   },
   {
    "duration": 56,
    "start_time": "2022-10-19T10:37:59.262Z"
   },
   {
    "duration": 51,
    "start_time": "2022-10-19T10:37:59.319Z"
   },
   {
    "duration": 8,
    "start_time": "2022-10-19T10:37:59.372Z"
   },
   {
    "duration": 11,
    "start_time": "2022-10-19T10:37:59.400Z"
   },
   {
    "duration": 19,
    "start_time": "2022-10-19T10:37:59.412Z"
   },
   {
    "duration": 44,
    "start_time": "2022-10-19T10:37:59.432Z"
   },
   {
    "duration": 9,
    "start_time": "2022-10-19T10:37:59.500Z"
   },
   {
    "duration": 11,
    "start_time": "2022-10-19T10:37:59.510Z"
   },
   {
    "duration": 18,
    "start_time": "2022-10-19T10:37:59.522Z"
   },
   {
    "duration": 69,
    "start_time": "2022-10-19T10:37:59.541Z"
   },
   {
    "duration": 44,
    "start_time": "2022-10-19T10:37:59.611Z"
   },
   {
    "duration": 9,
    "start_time": "2022-10-19T10:37:59.657Z"
   },
   {
    "duration": 71,
    "start_time": "2022-10-19T10:37:59.667Z"
   },
   {
    "duration": 7,
    "start_time": "2022-10-19T10:37:59.740Z"
   },
   {
    "duration": 14,
    "start_time": "2022-10-19T10:37:59.749Z"
   },
   {
    "duration": 19,
    "start_time": "2022-10-19T10:38:17.963Z"
   },
   {
    "duration": 4,
    "start_time": "2022-10-19T10:38:45.481Z"
   },
   {
    "duration": 8,
    "start_time": "2022-10-19T10:39:09.060Z"
   },
   {
    "duration": 5,
    "start_time": "2022-10-19T10:39:10.227Z"
   },
   {
    "duration": 7,
    "start_time": "2022-10-19T10:39:13.793Z"
   },
   {
    "duration": 7,
    "start_time": "2022-10-19T10:39:15.315Z"
   },
   {
    "duration": 8,
    "start_time": "2022-10-19T10:39:23.484Z"
   },
   {
    "duration": 4,
    "start_time": "2022-10-19T10:39:25.635Z"
   },
   {
    "duration": 4,
    "start_time": "2022-10-19T10:39:44.994Z"
   },
   {
    "duration": 8,
    "start_time": "2022-10-19T10:40:16.491Z"
   },
   {
    "duration": 10,
    "start_time": "2022-10-19T10:40:31.021Z"
   },
   {
    "duration": 5,
    "start_time": "2022-10-19T10:40:32.486Z"
   },
   {
    "duration": 10,
    "start_time": "2022-10-19T10:40:48.924Z"
   },
   {
    "duration": 9,
    "start_time": "2022-10-19T10:41:00.557Z"
   },
   {
    "duration": 11,
    "start_time": "2022-10-19T10:41:02.343Z"
   },
   {
    "duration": 13,
    "start_time": "2022-10-19T10:41:37.353Z"
   },
   {
    "duration": 18,
    "start_time": "2022-10-19T10:41:39.347Z"
   },
   {
    "duration": 7,
    "start_time": "2022-10-19T10:42:24.109Z"
   },
   {
    "duration": 89,
    "start_time": "2022-10-19T10:43:14.087Z"
   },
   {
    "duration": 22,
    "start_time": "2022-10-19T10:43:26.496Z"
   },
   {
    "duration": 105,
    "start_time": "2022-10-19T10:43:34.134Z"
   },
   {
    "duration": 942,
    "start_time": "2022-10-19T10:44:14.258Z"
   },
   {
    "duration": 369,
    "start_time": "2022-10-19T10:44:15.202Z"
   },
   {
    "duration": 21,
    "start_time": "2022-10-19T10:44:15.572Z"
   },
   {
    "duration": 42,
    "start_time": "2022-10-19T10:44:15.595Z"
   },
   {
    "duration": 103,
    "start_time": "2022-10-19T10:44:15.639Z"
   },
   {
    "duration": 16,
    "start_time": "2022-10-19T10:44:15.744Z"
   },
   {
    "duration": 57,
    "start_time": "2022-10-19T10:44:15.762Z"
   },
   {
    "duration": 46,
    "start_time": "2022-10-19T10:44:15.820Z"
   },
   {
    "duration": 7,
    "start_time": "2022-10-19T10:44:15.867Z"
   },
   {
    "duration": 29,
    "start_time": "2022-10-19T10:44:15.877Z"
   },
   {
    "duration": 17,
    "start_time": "2022-10-19T10:44:15.907Z"
   },
   {
    "duration": 45,
    "start_time": "2022-10-19T10:44:15.926Z"
   },
   {
    "duration": 32,
    "start_time": "2022-10-19T10:44:15.972Z"
   },
   {
    "duration": 9,
    "start_time": "2022-10-19T10:44:16.005Z"
   },
   {
    "duration": 12,
    "start_time": "2022-10-19T10:44:16.016Z"
   },
   {
    "duration": 71,
    "start_time": "2022-10-19T10:44:16.030Z"
   },
   {
    "duration": 54,
    "start_time": "2022-10-19T10:44:16.103Z"
   },
   {
    "duration": 10,
    "start_time": "2022-10-19T10:44:16.159Z"
   },
   {
    "duration": 74,
    "start_time": "2022-10-19T10:44:16.171Z"
   },
   {
    "duration": 17,
    "start_time": "2022-10-19T10:44:16.246Z"
   },
   {
    "duration": 5,
    "start_time": "2022-10-19T10:44:16.264Z"
   },
   {
    "duration": 7,
    "start_time": "2022-10-19T10:44:16.271Z"
   },
   {
    "duration": 42,
    "start_time": "2022-10-19T10:44:16.279Z"
   },
   {
    "duration": 15,
    "start_time": "2022-10-19T10:44:16.322Z"
   },
   {
    "duration": 8,
    "start_time": "2022-10-19T10:44:16.338Z"
   },
   {
    "duration": 10,
    "start_time": "2022-10-19T10:44:16.348Z"
   },
   {
    "duration": 17,
    "start_time": "2022-10-19T10:44:16.359Z"
   },
   {
    "duration": 8,
    "start_time": "2022-10-19T10:44:16.379Z"
   },
   {
    "duration": 394,
    "start_time": "2022-10-19T10:44:16.402Z"
   },
   {
    "duration": 230,
    "start_time": "2022-10-19T10:44:16.798Z"
   },
   {
    "duration": 24,
    "start_time": "2022-10-19T10:44:17.030Z"
   },
   {
    "duration": 192,
    "start_time": "2022-10-19T10:44:17.055Z"
   },
   {
    "duration": 18,
    "start_time": "2022-10-19T10:44:17.249Z"
   },
   {
    "duration": 33,
    "start_time": "2022-10-19T10:44:17.269Z"
   },
   {
    "duration": 61,
    "start_time": "2022-10-19T10:44:17.304Z"
   },
   {
    "duration": 36,
    "start_time": "2022-10-19T10:44:17.366Z"
   },
   {
    "duration": 14,
    "start_time": "2022-10-19T10:44:17.404Z"
   },
   {
    "duration": 9,
    "start_time": "2022-10-19T10:44:17.419Z"
   },
   {
    "duration": 81,
    "start_time": "2022-10-19T10:44:17.430Z"
   },
   {
    "duration": 7,
    "start_time": "2022-10-19T10:45:44.136Z"
   },
   {
    "duration": 16,
    "start_time": "2022-10-19T10:46:59.734Z"
   },
   {
    "duration": 10,
    "start_time": "2022-10-19T10:51:11.111Z"
   },
   {
    "duration": 3,
    "start_time": "2022-10-19T10:51:17.438Z"
   },
   {
    "duration": 366,
    "start_time": "2022-10-19T10:51:17.444Z"
   },
   {
    "duration": 14,
    "start_time": "2022-10-19T10:51:17.811Z"
   },
   {
    "duration": 39,
    "start_time": "2022-10-19T10:51:17.826Z"
   },
   {
    "duration": 103,
    "start_time": "2022-10-19T10:51:17.867Z"
   },
   {
    "duration": 13,
    "start_time": "2022-10-19T10:51:17.972Z"
   },
   {
    "duration": 36,
    "start_time": "2022-10-19T10:51:18.001Z"
   },
   {
    "duration": 71,
    "start_time": "2022-10-19T10:51:18.039Z"
   },
   {
    "duration": 7,
    "start_time": "2022-10-19T10:51:18.112Z"
   },
   {
    "duration": 12,
    "start_time": "2022-10-19T10:51:18.121Z"
   },
   {
    "duration": 19,
    "start_time": "2022-10-19T10:51:18.135Z"
   },
   {
    "duration": 78,
    "start_time": "2022-10-19T10:51:18.155Z"
   },
   {
    "duration": 12,
    "start_time": "2022-10-19T10:51:18.235Z"
   },
   {
    "duration": 9,
    "start_time": "2022-10-19T10:51:18.251Z"
   },
   {
    "duration": 39,
    "start_time": "2022-10-19T10:51:18.262Z"
   },
   {
    "duration": 47,
    "start_time": "2022-10-19T10:51:18.303Z"
   },
   {
    "duration": 75,
    "start_time": "2022-10-19T10:51:18.352Z"
   },
   {
    "duration": 10,
    "start_time": "2022-10-19T10:51:18.429Z"
   },
   {
    "duration": 48,
    "start_time": "2022-10-19T10:51:18.441Z"
   },
   {
    "duration": 15,
    "start_time": "2022-10-19T10:51:18.501Z"
   },
   {
    "duration": 10,
    "start_time": "2022-10-19T10:51:18.518Z"
   },
   {
    "duration": 4,
    "start_time": "2022-10-19T10:51:18.530Z"
   },
   {
    "duration": 46,
    "start_time": "2022-10-19T10:51:18.535Z"
   },
   {
    "duration": 6,
    "start_time": "2022-10-19T10:51:18.582Z"
   },
   {
    "duration": 13,
    "start_time": "2022-10-19T10:51:18.590Z"
   },
   {
    "duration": 17,
    "start_time": "2022-10-19T10:51:18.604Z"
   },
   {
    "duration": 34,
    "start_time": "2022-10-19T10:51:18.622Z"
   },
   {
    "duration": 20,
    "start_time": "2022-10-19T10:51:18.658Z"
   },
   {
    "duration": 43,
    "start_time": "2022-10-19T10:51:18.679Z"
   },
   {
    "duration": 153,
    "start_time": "2022-10-19T10:51:18.724Z"
   },
   {
    "duration": 40,
    "start_time": "2022-10-19T10:51:18.879Z"
   },
   {
    "duration": 190,
    "start_time": "2022-10-19T10:51:18.920Z"
   },
   {
    "duration": 19,
    "start_time": "2022-10-19T10:51:19.111Z"
   },
   {
    "duration": 9,
    "start_time": "2022-10-19T10:51:19.131Z"
   },
   {
    "duration": 91,
    "start_time": "2022-10-19T10:51:19.141Z"
   },
   {
    "duration": 17,
    "start_time": "2022-10-19T10:51:19.233Z"
   },
   {
    "duration": 14,
    "start_time": "2022-10-19T10:51:19.252Z"
   },
   {
    "duration": 34,
    "start_time": "2022-10-19T10:51:19.267Z"
   },
   {
    "duration": 84,
    "start_time": "2022-10-19T10:51:19.304Z"
   },
   {
    "duration": 20,
    "start_time": "2022-10-19T10:52:27.924Z"
   },
   {
    "duration": 3,
    "start_time": "2022-10-19T10:53:15.019Z"
   },
   {
    "duration": 381,
    "start_time": "2022-10-19T10:53:15.030Z"
   },
   {
    "duration": 14,
    "start_time": "2022-10-19T10:53:15.412Z"
   },
   {
    "duration": 83,
    "start_time": "2022-10-19T10:53:15.427Z"
   },
   {
    "duration": 110,
    "start_time": "2022-10-19T10:53:15.512Z"
   },
   {
    "duration": 12,
    "start_time": "2022-10-19T10:53:15.624Z"
   },
   {
    "duration": 64,
    "start_time": "2022-10-19T10:53:15.638Z"
   },
   {
    "duration": 47,
    "start_time": "2022-10-19T10:53:15.703Z"
   },
   {
    "duration": 6,
    "start_time": "2022-10-19T10:53:15.752Z"
   },
   {
    "duration": 28,
    "start_time": "2022-10-19T10:53:15.759Z"
   },
   {
    "duration": 34,
    "start_time": "2022-10-19T10:53:15.788Z"
   },
   {
    "duration": 44,
    "start_time": "2022-10-19T10:53:15.823Z"
   },
   {
    "duration": 9,
    "start_time": "2022-10-19T10:53:15.868Z"
   },
   {
    "duration": 25,
    "start_time": "2022-10-19T10:53:15.879Z"
   },
   {
    "duration": 40,
    "start_time": "2022-10-19T10:53:15.907Z"
   },
   {
    "duration": 51,
    "start_time": "2022-10-19T10:53:15.948Z"
   },
   {
    "duration": 46,
    "start_time": "2022-10-19T10:53:16.001Z"
   },
   {
    "duration": 10,
    "start_time": "2022-10-19T10:53:16.048Z"
   },
   {
    "duration": 71,
    "start_time": "2022-10-19T10:53:16.059Z"
   },
   {
    "duration": 16,
    "start_time": "2022-10-19T10:53:16.131Z"
   },
   {
    "duration": 30,
    "start_time": "2022-10-19T10:53:16.148Z"
   },
   {
    "duration": 14,
    "start_time": "2022-10-19T10:53:16.179Z"
   },
   {
    "duration": 60,
    "start_time": "2022-10-19T10:53:16.195Z"
   },
   {
    "duration": 14,
    "start_time": "2022-10-19T10:53:16.257Z"
   },
   {
    "duration": 41,
    "start_time": "2022-10-19T10:53:16.272Z"
   },
   {
    "duration": 27,
    "start_time": "2022-10-19T10:53:16.316Z"
   },
   {
    "duration": 23,
    "start_time": "2022-10-19T10:53:16.345Z"
   },
   {
    "duration": 40,
    "start_time": "2022-10-19T10:53:16.370Z"
   },
   {
    "duration": 939,
    "start_time": "2022-10-19T10:54:04.769Z"
   },
   {
    "duration": 358,
    "start_time": "2022-10-19T10:54:05.710Z"
   },
   {
    "duration": 21,
    "start_time": "2022-10-19T10:54:06.070Z"
   },
   {
    "duration": 42,
    "start_time": "2022-10-19T10:54:06.093Z"
   },
   {
    "duration": 105,
    "start_time": "2022-10-19T10:54:06.137Z"
   },
   {
    "duration": 13,
    "start_time": "2022-10-19T10:54:06.243Z"
   },
   {
    "duration": 52,
    "start_time": "2022-10-19T10:54:06.257Z"
   },
   {
    "duration": 46,
    "start_time": "2022-10-19T10:54:06.310Z"
   },
   {
    "duration": 7,
    "start_time": "2022-10-19T10:54:06.358Z"
   },
   {
    "duration": 38,
    "start_time": "2022-10-19T10:54:06.368Z"
   },
   {
    "duration": 18,
    "start_time": "2022-10-19T10:54:06.408Z"
   },
   {
    "duration": 42,
    "start_time": "2022-10-19T10:54:06.428Z"
   },
   {
    "duration": 32,
    "start_time": "2022-10-19T10:54:06.472Z"
   },
   {
    "duration": 10,
    "start_time": "2022-10-19T10:54:06.506Z"
   },
   {
    "duration": 21,
    "start_time": "2022-10-19T10:54:06.517Z"
   },
   {
    "duration": 72,
    "start_time": "2022-10-19T10:54:06.540Z"
   },
   {
    "duration": 46,
    "start_time": "2022-10-19T10:54:06.614Z"
   },
   {
    "duration": 9,
    "start_time": "2022-10-19T10:54:06.662Z"
   },
   {
    "duration": 88,
    "start_time": "2022-10-19T10:54:06.672Z"
   },
   {
    "duration": 16,
    "start_time": "2022-10-19T10:54:06.762Z"
   },
   {
    "duration": 6,
    "start_time": "2022-10-19T10:54:06.780Z"
   },
   {
    "duration": 18,
    "start_time": "2022-10-19T10:54:06.787Z"
   },
   {
    "duration": 30,
    "start_time": "2022-10-19T10:54:06.807Z"
   },
   {
    "duration": 6,
    "start_time": "2022-10-19T10:54:06.839Z"
   },
   {
    "duration": 9,
    "start_time": "2022-10-19T10:54:06.846Z"
   },
   {
    "duration": 7,
    "start_time": "2022-10-19T10:54:06.856Z"
   },
   {
    "duration": 13,
    "start_time": "2022-10-19T10:54:06.864Z"
   },
   {
    "duration": 21,
    "start_time": "2022-10-19T10:54:06.880Z"
   },
   {
    "duration": 371,
    "start_time": "2022-10-19T10:54:06.903Z"
   },
   {
    "duration": 201,
    "start_time": "2022-10-19T10:54:07.276Z"
   },
   {
    "duration": 38,
    "start_time": "2022-10-19T10:54:07.478Z"
   },
   {
    "duration": 166,
    "start_time": "2022-10-19T10:54:07.517Z"
   },
   {
    "duration": 24,
    "start_time": "2022-10-19T10:54:07.685Z"
   },
   {
    "duration": 8,
    "start_time": "2022-10-19T10:54:07.711Z"
   },
   {
    "duration": 87,
    "start_time": "2022-10-19T10:54:07.721Z"
   },
   {
    "duration": 18,
    "start_time": "2022-10-19T10:54:07.809Z"
   },
   {
    "duration": 14,
    "start_time": "2022-10-19T10:54:07.828Z"
   },
   {
    "duration": 16,
    "start_time": "2022-10-19T10:54:07.844Z"
   },
   {
    "duration": 87,
    "start_time": "2022-10-19T10:54:07.861Z"
   },
   {
    "duration": 5,
    "start_time": "2022-10-19T10:55:40.948Z"
   },
   {
    "duration": 8,
    "start_time": "2022-10-19T10:56:11.816Z"
   },
   {
    "duration": 2,
    "start_time": "2022-10-19T10:56:20.433Z"
   },
   {
    "duration": 344,
    "start_time": "2022-10-19T10:56:20.439Z"
   },
   {
    "duration": 14,
    "start_time": "2022-10-19T10:56:20.784Z"
   },
   {
    "duration": 48,
    "start_time": "2022-10-19T10:56:20.800Z"
   },
   {
    "duration": 96,
    "start_time": "2022-10-19T10:56:20.849Z"
   },
   {
    "duration": 12,
    "start_time": "2022-10-19T10:56:20.947Z"
   },
   {
    "duration": 53,
    "start_time": "2022-10-19T10:56:20.960Z"
   },
   {
    "duration": 40,
    "start_time": "2022-10-19T10:56:21.015Z"
   },
   {
    "duration": 6,
    "start_time": "2022-10-19T10:56:21.057Z"
   },
   {
    "duration": 38,
    "start_time": "2022-10-19T10:56:21.065Z"
   },
   {
    "duration": 20,
    "start_time": "2022-10-19T10:56:21.105Z"
   },
   {
    "duration": 41,
    "start_time": "2022-10-19T10:56:21.127Z"
   },
   {
    "duration": 32,
    "start_time": "2022-10-19T10:56:21.169Z"
   },
   {
    "duration": 11,
    "start_time": "2022-10-19T10:56:21.204Z"
   },
   {
    "duration": 23,
    "start_time": "2022-10-19T10:56:21.218Z"
   },
   {
    "duration": 101,
    "start_time": "2022-10-19T10:56:21.242Z"
   },
   {
    "duration": 71,
    "start_time": "2022-10-19T10:56:21.345Z"
   },
   {
    "duration": 17,
    "start_time": "2022-10-19T10:56:21.418Z"
   },
   {
    "duration": 53,
    "start_time": "2022-10-19T10:56:21.436Z"
   },
   {
    "duration": 22,
    "start_time": "2022-10-19T10:56:21.491Z"
   },
   {
    "duration": 9,
    "start_time": "2022-10-19T10:56:21.515Z"
   },
   {
    "duration": 6,
    "start_time": "2022-10-19T10:56:21.526Z"
   },
   {
    "duration": 37,
    "start_time": "2022-10-19T10:56:21.533Z"
   },
   {
    "duration": 8,
    "start_time": "2022-10-19T10:56:21.572Z"
   },
   {
    "duration": 12,
    "start_time": "2022-10-19T10:56:21.581Z"
   },
   {
    "duration": 6,
    "start_time": "2022-10-19T10:56:21.595Z"
   },
   {
    "duration": 20,
    "start_time": "2022-10-19T10:56:21.602Z"
   },
   {
    "duration": 24,
    "start_time": "2022-10-19T10:56:21.624Z"
   },
   {
    "duration": 139,
    "start_time": "2022-10-19T10:57:29.786Z"
   },
   {
    "duration": 12,
    "start_time": "2022-10-19T10:58:52.712Z"
   },
   {
    "duration": 16,
    "start_time": "2022-10-19T10:59:40.743Z"
   },
   {
    "duration": 13,
    "start_time": "2022-10-19T10:59:47.198Z"
   },
   {
    "duration": 7,
    "start_time": "2022-10-19T10:59:50.019Z"
   },
   {
    "duration": 12,
    "start_time": "2022-10-19T11:00:07.384Z"
   },
   {
    "duration": 992,
    "start_time": "2022-10-19T11:02:09.709Z"
   },
   {
    "duration": 347,
    "start_time": "2022-10-19T11:02:10.703Z"
   },
   {
    "duration": 21,
    "start_time": "2022-10-19T11:02:11.051Z"
   },
   {
    "duration": 45,
    "start_time": "2022-10-19T11:02:11.074Z"
   },
   {
    "duration": 102,
    "start_time": "2022-10-19T11:02:11.121Z"
   },
   {
    "duration": 12,
    "start_time": "2022-10-19T11:02:11.225Z"
   },
   {
    "duration": 36,
    "start_time": "2022-10-19T11:02:11.239Z"
   },
   {
    "duration": 65,
    "start_time": "2022-10-19T11:02:11.277Z"
   },
   {
    "duration": 8,
    "start_time": "2022-10-19T11:02:11.344Z"
   },
   {
    "duration": 11,
    "start_time": "2022-10-19T11:02:11.354Z"
   },
   {
    "duration": 41,
    "start_time": "2022-10-19T11:02:11.366Z"
   },
   {
    "duration": 43,
    "start_time": "2022-10-19T11:02:11.408Z"
   },
   {
    "duration": 9,
    "start_time": "2022-10-19T11:02:11.453Z"
   },
   {
    "duration": 8,
    "start_time": "2022-10-19T11:02:11.464Z"
   },
   {
    "duration": 16,
    "start_time": "2022-10-19T11:02:11.500Z"
   },
   {
    "duration": 57,
    "start_time": "2022-10-19T11:02:11.518Z"
   },
   {
    "duration": 69,
    "start_time": "2022-10-19T11:02:11.577Z"
   },
   {
    "duration": 10,
    "start_time": "2022-10-19T11:02:11.647Z"
   },
   {
    "duration": 90,
    "start_time": "2022-10-19T11:02:11.659Z"
   },
   {
    "duration": 17,
    "start_time": "2022-10-19T11:02:11.751Z"
   },
   {
    "duration": 15,
    "start_time": "2022-10-19T11:02:11.770Z"
   },
   {
    "duration": 14,
    "start_time": "2022-10-19T11:02:46.762Z"
   },
   {
    "duration": 14,
    "start_time": "2022-10-19T11:02:48.006Z"
   },
   {
    "duration": 62,
    "start_time": "2022-10-19T11:03:23.692Z"
   },
   {
    "duration": 10,
    "start_time": "2022-10-19T11:03:50.686Z"
   },
   {
    "duration": 72,
    "start_time": "2022-10-19T11:03:51.874Z"
   },
   {
    "duration": 12,
    "start_time": "2022-10-19T11:03:59.586Z"
   },
   {
    "duration": 89,
    "start_time": "2022-10-19T11:04:01.425Z"
   },
   {
    "duration": 19,
    "start_time": "2022-10-19T11:04:24.607Z"
   },
   {
    "duration": 87,
    "start_time": "2022-10-19T11:04:26.258Z"
   },
   {
    "duration": 16,
    "start_time": "2022-10-19T11:04:37.325Z"
   },
   {
    "duration": 69,
    "start_time": "2022-10-19T11:04:38.747Z"
   },
   {
    "duration": 16,
    "start_time": "2022-10-19T11:04:54.501Z"
   },
   {
    "duration": 79,
    "start_time": "2022-10-19T11:04:56.129Z"
   },
   {
    "duration": 27,
    "start_time": "2022-10-19T11:07:23.767Z"
   },
   {
    "duration": 12,
    "start_time": "2022-10-19T11:08:48.531Z"
   },
   {
    "duration": 62,
    "start_time": "2022-10-19T11:08:50.638Z"
   },
   {
    "duration": 16,
    "start_time": "2022-10-19T11:09:01.623Z"
   },
   {
    "duration": 74,
    "start_time": "2022-10-19T11:09:04.660Z"
   },
   {
    "duration": 13,
    "start_time": "2022-10-19T11:09:09.376Z"
   },
   {
    "duration": 73,
    "start_time": "2022-10-19T11:09:10.724Z"
   },
   {
    "duration": 16,
    "start_time": "2022-10-19T11:10:25.818Z"
   },
   {
    "duration": 86,
    "start_time": "2022-10-19T11:10:27.458Z"
   },
   {
    "duration": 69,
    "start_time": "2022-10-19T11:11:23.853Z"
   },
   {
    "duration": 45,
    "start_time": "2022-10-19T11:11:37.722Z"
   },
   {
    "duration": 12,
    "start_time": "2022-10-19T11:11:54.709Z"
   },
   {
    "duration": 22,
    "start_time": "2022-10-19T11:12:05.192Z"
   },
   {
    "duration": 80,
    "start_time": "2022-10-19T11:12:38.987Z"
   },
   {
    "duration": 108,
    "start_time": "2022-10-19T11:19:51.675Z"
   },
   {
    "duration": 9,
    "start_time": "2022-10-19T11:20:05.010Z"
   },
   {
    "duration": 11,
    "start_time": "2022-10-19T11:20:09.801Z"
   },
   {
    "duration": 2,
    "start_time": "2022-10-19T11:23:51.320Z"
   },
   {
    "duration": 17,
    "start_time": "2022-10-19T11:24:09.296Z"
   },
   {
    "duration": 931,
    "start_time": "2022-10-19T11:25:35.552Z"
   },
   {
    "duration": 28,
    "start_time": "2022-10-19T11:26:05.246Z"
   },
   {
    "duration": 29,
    "start_time": "2022-10-19T11:26:13.768Z"
   },
   {
    "duration": 63,
    "start_time": "2022-10-19T11:26:23.106Z"
   },
   {
    "duration": 79,
    "start_time": "2022-10-19T11:26:34.263Z"
   },
   {
    "duration": 39,
    "start_time": "2022-10-19T11:26:39.312Z"
   },
   {
    "duration": 31,
    "start_time": "2022-10-19T11:26:43.683Z"
   },
   {
    "duration": 95,
    "start_time": "2022-10-19T11:27:13.648Z"
   },
   {
    "duration": 9,
    "start_time": "2022-10-19T11:28:20.332Z"
   },
   {
    "duration": 8,
    "start_time": "2022-10-19T11:30:07.568Z"
   },
   {
    "duration": 9,
    "start_time": "2022-10-19T11:30:09.385Z"
   },
   {
    "duration": 6,
    "start_time": "2022-10-19T11:30:26.928Z"
   },
   {
    "duration": 10,
    "start_time": "2022-10-19T11:31:25.211Z"
   },
   {
    "duration": 6,
    "start_time": "2022-10-19T11:31:26.883Z"
   },
   {
    "duration": 12,
    "start_time": "2022-10-19T11:31:36.750Z"
   },
   {
    "duration": 11,
    "start_time": "2022-10-19T11:31:53.749Z"
   },
   {
    "duration": 13,
    "start_time": "2022-10-19T11:31:55.571Z"
   },
   {
    "duration": 21,
    "start_time": "2022-10-19T11:32:09.972Z"
   },
   {
    "duration": 11,
    "start_time": "2022-10-19T11:32:15.328Z"
   },
   {
    "duration": 10,
    "start_time": "2022-10-19T11:32:16.674Z"
   },
   {
    "duration": 13,
    "start_time": "2022-10-19T11:32:55.276Z"
   },
   {
    "duration": 22,
    "start_time": "2022-10-19T11:32:56.974Z"
   },
   {
    "duration": 6,
    "start_time": "2022-10-19T11:33:41.807Z"
   },
   {
    "duration": 17,
    "start_time": "2022-10-19T11:33:56.198Z"
   },
   {
    "duration": 7,
    "start_time": "2022-10-19T11:33:57.909Z"
   },
   {
    "duration": 10,
    "start_time": "2022-10-19T11:38:49.893Z"
   },
   {
    "duration": 17,
    "start_time": "2022-10-19T11:41:17.227Z"
   },
   {
    "duration": 8,
    "start_time": "2022-10-19T11:41:57.878Z"
   },
   {
    "duration": 8,
    "start_time": "2022-10-19T11:42:34.388Z"
   },
   {
    "duration": 10,
    "start_time": "2022-10-19T11:43:47.355Z"
   },
   {
    "duration": 11,
    "start_time": "2022-10-19T11:43:52.439Z"
   },
   {
    "duration": 16,
    "start_time": "2022-10-19T11:44:31.889Z"
   },
   {
    "duration": 11,
    "start_time": "2022-10-19T11:44:33.808Z"
   },
   {
    "duration": 12,
    "start_time": "2022-10-19T11:44:41.786Z"
   },
   {
    "duration": 12,
    "start_time": "2022-10-19T11:44:56.188Z"
   },
   {
    "duration": 13,
    "start_time": "2022-10-19T11:45:45.122Z"
   },
   {
    "duration": 11,
    "start_time": "2022-10-19T11:45:47.962Z"
   },
   {
    "duration": 16,
    "start_time": "2022-10-19T11:45:57.837Z"
   },
   {
    "duration": 12,
    "start_time": "2022-10-19T11:45:59.907Z"
   },
   {
    "duration": 25,
    "start_time": "2022-10-19T11:47:17.608Z"
   },
   {
    "duration": 23,
    "start_time": "2022-10-19T11:48:15.980Z"
   },
   {
    "duration": 991,
    "start_time": "2022-10-19T11:51:11.673Z"
   },
   {
    "duration": 24,
    "start_time": "2022-10-19T11:51:21.481Z"
   },
   {
    "duration": 33,
    "start_time": "2022-10-19T11:51:22.948Z"
   },
   {
    "duration": 19,
    "start_time": "2022-10-19T11:52:40.966Z"
   },
   {
    "duration": 16,
    "start_time": "2022-10-19T11:52:42.429Z"
   },
   {
    "duration": 6,
    "start_time": "2022-10-19T11:53:27.254Z"
   },
   {
    "duration": 17,
    "start_time": "2022-10-19T11:53:57.101Z"
   },
   {
    "duration": 19,
    "start_time": "2022-10-19T11:54:22.275Z"
   },
   {
    "duration": 28,
    "start_time": "2022-10-19T11:54:25.735Z"
   },
   {
    "duration": 896,
    "start_time": "2022-10-19T11:55:04.634Z"
   },
   {
    "duration": 383,
    "start_time": "2022-10-19T11:55:05.532Z"
   },
   {
    "duration": 21,
    "start_time": "2022-10-19T11:55:05.916Z"
   },
   {
    "duration": 44,
    "start_time": "2022-10-19T11:55:05.938Z"
   },
   {
    "duration": 117,
    "start_time": "2022-10-19T11:55:05.983Z"
   },
   {
    "duration": 18,
    "start_time": "2022-10-19T11:55:06.102Z"
   },
   {
    "duration": 40,
    "start_time": "2022-10-19T11:55:06.122Z"
   },
   {
    "duration": 76,
    "start_time": "2022-10-19T11:55:06.164Z"
   },
   {
    "duration": 8,
    "start_time": "2022-10-19T11:55:06.241Z"
   },
   {
    "duration": 26,
    "start_time": "2022-10-19T11:55:06.251Z"
   },
   {
    "duration": 22,
    "start_time": "2022-10-19T11:55:06.279Z"
   },
   {
    "duration": 54,
    "start_time": "2022-10-19T11:55:06.304Z"
   },
   {
    "duration": 8,
    "start_time": "2022-10-19T11:55:06.360Z"
   },
   {
    "duration": 45,
    "start_time": "2022-10-19T11:55:06.370Z"
   },
   {
    "duration": 30,
    "start_time": "2022-10-19T11:55:06.417Z"
   },
   {
    "duration": 52,
    "start_time": "2022-10-19T11:55:06.449Z"
   },
   {
    "duration": 49,
    "start_time": "2022-10-19T11:55:06.503Z"
   },
   {
    "duration": 10,
    "start_time": "2022-10-19T11:55:06.553Z"
   },
   {
    "duration": 86,
    "start_time": "2022-10-19T11:55:06.565Z"
   },
   {
    "duration": 21,
    "start_time": "2022-10-19T11:55:06.653Z"
   },
   {
    "duration": 7,
    "start_time": "2022-10-19T11:55:06.676Z"
   },
   {
    "duration": 23,
    "start_time": "2022-10-19T11:55:06.699Z"
   },
   {
    "duration": 36,
    "start_time": "2022-10-19T11:55:06.723Z"
   },
   {
    "duration": 7,
    "start_time": "2022-10-19T11:55:06.761Z"
   },
   {
    "duration": 11,
    "start_time": "2022-10-19T11:55:06.769Z"
   },
   {
    "duration": 32,
    "start_time": "2022-10-19T11:55:06.782Z"
   },
   {
    "duration": 17,
    "start_time": "2022-10-19T11:55:06.816Z"
   },
   {
    "duration": 24,
    "start_time": "2022-10-19T11:55:06.836Z"
   },
   {
    "duration": 375,
    "start_time": "2022-10-19T11:55:06.862Z"
   },
   {
    "duration": 223,
    "start_time": "2022-10-19T11:55:07.239Z"
   },
   {
    "duration": 22,
    "start_time": "2022-10-19T11:55:07.463Z"
   },
   {
    "duration": 166,
    "start_time": "2022-10-19T11:55:07.501Z"
   },
   {
    "duration": 14,
    "start_time": "2022-10-19T11:55:07.669Z"
   },
   {
    "duration": 12,
    "start_time": "2022-10-19T11:55:07.700Z"
   },
   {
    "duration": 66,
    "start_time": "2022-10-19T11:55:07.714Z"
   },
   {
    "duration": 30,
    "start_time": "2022-10-19T11:55:07.781Z"
   },
   {
    "duration": 21,
    "start_time": "2022-10-19T11:55:07.812Z"
   },
   {
    "duration": 17,
    "start_time": "2022-10-19T11:55:07.835Z"
   },
   {
    "duration": 75,
    "start_time": "2022-10-19T11:55:07.854Z"
   },
   {
    "duration": 17,
    "start_time": "2022-10-19T12:09:05.170Z"
   },
   {
    "duration": 9,
    "start_time": "2022-10-19T12:24:36.131Z"
   },
   {
    "duration": 381,
    "start_time": "2022-10-19T12:26:41.194Z"
   },
   {
    "duration": 211,
    "start_time": "2022-10-19T12:26:55.601Z"
   },
   {
    "duration": 14,
    "start_time": "2022-10-19T12:27:04.493Z"
   },
   {
    "duration": 942,
    "start_time": "2022-10-19T12:27:26.080Z"
   },
   {
    "duration": 361,
    "start_time": "2022-10-19T12:27:27.024Z"
   },
   {
    "duration": 21,
    "start_time": "2022-10-19T12:27:27.386Z"
   },
   {
    "duration": 46,
    "start_time": "2022-10-19T12:27:27.409Z"
   },
   {
    "duration": 107,
    "start_time": "2022-10-19T12:27:27.457Z"
   },
   {
    "duration": 13,
    "start_time": "2022-10-19T12:27:27.566Z"
   },
   {
    "duration": 53,
    "start_time": "2022-10-19T12:27:27.580Z"
   },
   {
    "duration": 68,
    "start_time": "2022-10-19T12:27:27.634Z"
   },
   {
    "duration": 9,
    "start_time": "2022-10-19T12:27:27.703Z"
   },
   {
    "duration": 18,
    "start_time": "2022-10-19T12:27:27.714Z"
   },
   {
    "duration": 18,
    "start_time": "2022-10-19T12:27:27.734Z"
   },
   {
    "duration": 68,
    "start_time": "2022-10-19T12:27:27.754Z"
   },
   {
    "duration": 13,
    "start_time": "2022-10-19T12:27:27.823Z"
   },
   {
    "duration": 13,
    "start_time": "2022-10-19T12:27:27.838Z"
   },
   {
    "duration": 34,
    "start_time": "2022-10-19T12:27:27.853Z"
   },
   {
    "duration": 56,
    "start_time": "2022-10-19T12:27:27.889Z"
   },
   {
    "duration": 59,
    "start_time": "2022-10-19T12:27:27.947Z"
   },
   {
    "duration": 9,
    "start_time": "2022-10-19T12:27:28.008Z"
   },
   {
    "duration": 73,
    "start_time": "2022-10-19T12:27:28.019Z"
   },
   {
    "duration": 19,
    "start_time": "2022-10-19T12:27:28.094Z"
   },
   {
    "duration": 5,
    "start_time": "2022-10-19T12:27:28.115Z"
   },
   {
    "duration": 6,
    "start_time": "2022-10-19T12:27:28.121Z"
   },
   {
    "duration": 28,
    "start_time": "2022-10-19T12:27:28.128Z"
   },
   {
    "duration": 6,
    "start_time": "2022-10-19T12:27:28.157Z"
   },
   {
    "duration": 8,
    "start_time": "2022-10-19T12:27:28.165Z"
   },
   {
    "duration": 27,
    "start_time": "2022-10-19T12:27:28.175Z"
   },
   {
    "duration": 15,
    "start_time": "2022-10-19T12:27:28.204Z"
   },
   {
    "duration": 16,
    "start_time": "2022-10-19T12:27:28.223Z"
   },
   {
    "duration": 25,
    "start_time": "2022-10-19T12:27:28.241Z"
   },
   {
    "duration": 362,
    "start_time": "2022-10-19T12:27:28.268Z"
   },
   {
    "duration": 215,
    "start_time": "2022-10-19T12:27:28.631Z"
   },
   {
    "duration": 23,
    "start_time": "2022-10-19T12:27:28.847Z"
   },
   {
    "duration": 186,
    "start_time": "2022-10-19T12:27:28.872Z"
   },
   {
    "duration": 15,
    "start_time": "2022-10-19T12:27:29.060Z"
   },
   {
    "duration": 28,
    "start_time": "2022-10-19T12:27:29.077Z"
   },
   {
    "duration": 63,
    "start_time": "2022-10-19T12:27:29.106Z"
   },
   {
    "duration": 41,
    "start_time": "2022-10-19T12:27:29.170Z"
   },
   {
    "duration": 16,
    "start_time": "2022-10-19T12:27:29.214Z"
   },
   {
    "duration": 11,
    "start_time": "2022-10-19T12:27:29.232Z"
   },
   {
    "duration": 81,
    "start_time": "2022-10-19T12:27:29.244Z"
   },
   {
    "duration": 231,
    "start_time": "2022-10-19T12:34:23.304Z"
   },
   {
    "duration": 11,
    "start_time": "2022-10-19T12:36:01.939Z"
   },
   {
    "duration": 10,
    "start_time": "2022-10-19T12:36:44.258Z"
   },
   {
    "duration": 18,
    "start_time": "2022-10-19T12:36:55.821Z"
   },
   {
    "duration": 10,
    "start_time": "2022-10-19T12:37:26.250Z"
   },
   {
    "duration": 19,
    "start_time": "2022-10-19T12:37:32.858Z"
   },
   {
    "duration": 8,
    "start_time": "2022-10-19T12:37:45.783Z"
   },
   {
    "duration": 8,
    "start_time": "2022-10-19T12:37:58.417Z"
   },
   {
    "duration": 17,
    "start_time": "2022-10-19T12:38:00.348Z"
   },
   {
    "duration": 1302,
    "start_time": "2022-10-19T13:02:17.551Z"
   },
   {
    "duration": 8,
    "start_time": "2022-10-19T13:02:32.761Z"
   },
   {
    "duration": 10,
    "start_time": "2022-10-19T13:02:39.762Z"
   },
   {
    "duration": 8,
    "start_time": "2022-10-19T13:02:47.037Z"
   },
   {
    "duration": 9,
    "start_time": "2022-10-19T13:02:50.082Z"
   },
   {
    "duration": 972,
    "start_time": "2022-10-19T13:03:45.410Z"
   },
   {
    "duration": 769,
    "start_time": "2022-10-19T13:04:37.060Z"
   },
   {
    "duration": 1090,
    "start_time": "2022-10-19T13:04:43.326Z"
   },
   {
    "duration": 7,
    "start_time": "2022-10-19T13:04:52.732Z"
   },
   {
    "duration": 957,
    "start_time": "2022-10-19T13:05:41.506Z"
   },
   {
    "duration": 385,
    "start_time": "2022-10-19T13:05:42.465Z"
   },
   {
    "duration": 23,
    "start_time": "2022-10-19T13:05:42.852Z"
   },
   {
    "duration": 47,
    "start_time": "2022-10-19T13:05:42.876Z"
   },
   {
    "duration": 109,
    "start_time": "2022-10-19T13:05:42.926Z"
   },
   {
    "duration": 13,
    "start_time": "2022-10-19T13:05:43.036Z"
   },
   {
    "duration": 62,
    "start_time": "2022-10-19T13:05:43.051Z"
   },
   {
    "duration": 50,
    "start_time": "2022-10-19T13:05:43.115Z"
   },
   {
    "duration": 8,
    "start_time": "2022-10-19T13:05:43.167Z"
   },
   {
    "duration": 33,
    "start_time": "2022-10-19T13:05:43.177Z"
   },
   {
    "duration": 21,
    "start_time": "2022-10-19T13:05:43.211Z"
   },
   {
    "duration": 45,
    "start_time": "2022-10-19T13:05:43.233Z"
   },
   {
    "duration": 10,
    "start_time": "2022-10-19T13:05:43.301Z"
   },
   {
    "duration": 14,
    "start_time": "2022-10-19T13:05:43.313Z"
   },
   {
    "duration": 921,
    "start_time": "2022-10-19T13:07:17.491Z"
   },
   {
    "duration": 338,
    "start_time": "2022-10-19T13:07:18.414Z"
   },
   {
    "duration": 21,
    "start_time": "2022-10-19T13:07:18.753Z"
   },
   {
    "duration": 47,
    "start_time": "2022-10-19T13:07:18.776Z"
   },
   {
    "duration": 123,
    "start_time": "2022-10-19T13:07:18.825Z"
   },
   {
    "duration": 14,
    "start_time": "2022-10-19T13:07:18.949Z"
   },
   {
    "duration": 57,
    "start_time": "2022-10-19T13:07:18.964Z"
   },
   {
    "duration": 47,
    "start_time": "2022-10-19T13:07:19.022Z"
   },
   {
    "duration": 8,
    "start_time": "2022-10-19T13:07:19.071Z"
   },
   {
    "duration": 17,
    "start_time": "2022-10-19T13:07:19.099Z"
   },
   {
    "duration": 20,
    "start_time": "2022-10-19T13:07:19.118Z"
   },
   {
    "duration": 70,
    "start_time": "2022-10-19T13:07:19.139Z"
   },
   {
    "duration": 10,
    "start_time": "2022-10-19T13:07:19.210Z"
   },
   {
    "duration": 11,
    "start_time": "2022-10-19T13:07:19.221Z"
   },
   {
    "duration": 959,
    "start_time": "2022-10-19T13:08:43.269Z"
   },
   {
    "duration": 437,
    "start_time": "2022-10-19T13:08:44.231Z"
   },
   {
    "duration": 22,
    "start_time": "2022-10-19T13:08:44.670Z"
   },
   {
    "duration": 46,
    "start_time": "2022-10-19T13:08:44.694Z"
   },
   {
    "duration": 111,
    "start_time": "2022-10-19T13:08:44.741Z"
   },
   {
    "duration": 14,
    "start_time": "2022-10-19T13:08:44.854Z"
   },
   {
    "duration": 59,
    "start_time": "2022-10-19T13:08:44.870Z"
   },
   {
    "duration": 46,
    "start_time": "2022-10-19T13:08:44.931Z"
   },
   {
    "duration": 26,
    "start_time": "2022-10-19T13:08:44.979Z"
   },
   {
    "duration": 12,
    "start_time": "2022-10-19T13:08:45.007Z"
   },
   {
    "duration": 28,
    "start_time": "2022-10-19T13:08:45.020Z"
   },
   {
    "duration": 73,
    "start_time": "2022-10-19T13:08:45.050Z"
   },
   {
    "duration": 10,
    "start_time": "2022-10-19T13:08:45.124Z"
   },
   {
    "duration": 12,
    "start_time": "2022-10-19T13:08:45.135Z"
   },
   {
    "duration": 14,
    "start_time": "2022-10-19T13:08:45.148Z"
   },
   {
    "duration": 79,
    "start_time": "2022-10-19T13:08:45.164Z"
   },
   {
    "duration": 61,
    "start_time": "2022-10-19T13:08:45.245Z"
   },
   {
    "duration": 11,
    "start_time": "2022-10-19T13:08:45.308Z"
   },
   {
    "duration": 55,
    "start_time": "2022-10-19T13:08:45.321Z"
   },
   {
    "duration": 38,
    "start_time": "2022-10-19T13:08:45.377Z"
   },
   {
    "duration": 6,
    "start_time": "2022-10-19T13:08:45.416Z"
   },
   {
    "duration": 18,
    "start_time": "2022-10-19T13:08:45.424Z"
   },
   {
    "duration": 1237,
    "start_time": "2022-10-19T13:08:45.444Z"
   },
   {
    "duration": 0,
    "start_time": "2022-10-19T13:08:46.683Z"
   },
   {
    "duration": 0,
    "start_time": "2022-10-19T13:08:46.684Z"
   },
   {
    "duration": 0,
    "start_time": "2022-10-19T13:08:46.685Z"
   },
   {
    "duration": 0,
    "start_time": "2022-10-19T13:08:46.686Z"
   },
   {
    "duration": 0,
    "start_time": "2022-10-19T13:08:46.687Z"
   },
   {
    "duration": 0,
    "start_time": "2022-10-19T13:08:46.688Z"
   },
   {
    "duration": 0,
    "start_time": "2022-10-19T13:08:46.689Z"
   },
   {
    "duration": 0,
    "start_time": "2022-10-19T13:08:46.690Z"
   },
   {
    "duration": 0,
    "start_time": "2022-10-19T13:08:46.691Z"
   },
   {
    "duration": 0,
    "start_time": "2022-10-19T13:08:46.692Z"
   },
   {
    "duration": 1,
    "start_time": "2022-10-19T13:08:46.692Z"
   },
   {
    "duration": 0,
    "start_time": "2022-10-19T13:08:46.693Z"
   },
   {
    "duration": 0,
    "start_time": "2022-10-19T13:08:46.694Z"
   },
   {
    "duration": 0,
    "start_time": "2022-10-19T13:08:46.695Z"
   },
   {
    "duration": 0,
    "start_time": "2022-10-19T13:08:46.696Z"
   },
   {
    "duration": 0,
    "start_time": "2022-10-19T13:08:46.697Z"
   },
   {
    "duration": 0,
    "start_time": "2022-10-19T13:08:46.698Z"
   },
   {
    "duration": 0,
    "start_time": "2022-10-19T13:08:46.699Z"
   },
   {
    "duration": 928,
    "start_time": "2022-10-19T13:09:33.087Z"
   },
   {
    "duration": 418,
    "start_time": "2022-10-19T13:09:34.017Z"
   },
   {
    "duration": 26,
    "start_time": "2022-10-19T13:09:34.438Z"
   },
   {
    "duration": 58,
    "start_time": "2022-10-19T13:09:34.467Z"
   },
   {
    "duration": 128,
    "start_time": "2022-10-19T13:09:34.527Z"
   },
   {
    "duration": 19,
    "start_time": "2022-10-19T13:09:34.657Z"
   },
   {
    "duration": 54,
    "start_time": "2022-10-19T13:09:34.678Z"
   },
   {
    "duration": 45,
    "start_time": "2022-10-19T13:09:34.733Z"
   },
   {
    "duration": 24,
    "start_time": "2022-10-19T13:09:34.779Z"
   },
   {
    "duration": 12,
    "start_time": "2022-10-19T13:09:34.806Z"
   },
   {
    "duration": 19,
    "start_time": "2022-10-19T13:09:34.821Z"
   },
   {
    "duration": 73,
    "start_time": "2022-10-19T13:09:34.841Z"
   },
   {
    "duration": 9,
    "start_time": "2022-10-19T13:09:34.916Z"
   },
   {
    "duration": 14,
    "start_time": "2022-10-19T13:09:34.926Z"
   },
   {
    "duration": 18,
    "start_time": "2022-10-19T13:09:34.941Z"
   },
   {
    "duration": 78,
    "start_time": "2022-10-19T13:09:34.961Z"
   },
   {
    "duration": 45,
    "start_time": "2022-10-19T13:09:35.041Z"
   },
   {
    "duration": 20,
    "start_time": "2022-10-19T13:09:35.087Z"
   },
   {
    "duration": 55,
    "start_time": "2022-10-19T13:09:35.108Z"
   },
   {
    "duration": 36,
    "start_time": "2022-10-19T13:09:35.164Z"
   },
   {
    "duration": 5,
    "start_time": "2022-10-19T13:09:35.202Z"
   },
   {
    "duration": 11,
    "start_time": "2022-10-19T13:09:35.208Z"
   },
   {
    "duration": 25,
    "start_time": "2022-10-19T13:09:35.220Z"
   },
   {
    "duration": 6,
    "start_time": "2022-10-19T13:09:35.247Z"
   },
   {
    "duration": 28,
    "start_time": "2022-10-19T13:09:35.254Z"
   },
   {
    "duration": 7,
    "start_time": "2022-10-19T13:09:35.283Z"
   },
   {
    "duration": 32,
    "start_time": "2022-10-19T13:09:35.291Z"
   },
   {
    "duration": 35,
    "start_time": "2022-10-19T13:09:35.326Z"
   },
   {
    "duration": 7,
    "start_time": "2022-10-19T13:09:35.363Z"
   },
   {
    "duration": 402,
    "start_time": "2022-10-19T13:09:35.372Z"
   },
   {
    "duration": 199,
    "start_time": "2022-10-19T13:09:35.777Z"
   },
   {
    "duration": 37,
    "start_time": "2022-10-19T13:09:35.978Z"
   },
   {
    "duration": 221,
    "start_time": "2022-10-19T13:09:36.016Z"
   },
   {
    "duration": 16,
    "start_time": "2022-10-19T13:09:36.239Z"
   },
   {
    "duration": 13,
    "start_time": "2022-10-19T13:09:36.257Z"
   },
   {
    "duration": 37,
    "start_time": "2022-10-19T13:09:36.272Z"
   },
   {
    "duration": 73,
    "start_time": "2022-10-19T13:09:36.310Z"
   },
   {
    "duration": 25,
    "start_time": "2022-10-19T13:09:36.385Z"
   },
   {
    "duration": 14,
    "start_time": "2022-10-19T13:09:36.411Z"
   },
   {
    "duration": 8,
    "start_time": "2022-10-19T13:09:36.427Z"
   },
   {
    "duration": 86,
    "start_time": "2022-10-19T13:09:36.437Z"
   },
   {
    "duration": 873,
    "start_time": "2022-10-19T13:14:08.759Z"
   },
   {
    "duration": 335,
    "start_time": "2022-10-19T13:14:09.634Z"
   },
   {
    "duration": 20,
    "start_time": "2022-10-19T13:14:09.971Z"
   },
   {
    "duration": 44,
    "start_time": "2022-10-19T13:14:09.992Z"
   },
   {
    "duration": 104,
    "start_time": "2022-10-19T13:14:10.038Z"
   },
   {
    "duration": 12,
    "start_time": "2022-10-19T13:14:10.143Z"
   },
   {
    "duration": 52,
    "start_time": "2022-10-19T13:14:10.157Z"
   },
   {
    "duration": 55,
    "start_time": "2022-10-19T13:14:10.211Z"
   },
   {
    "duration": 8,
    "start_time": "2022-10-19T13:14:10.267Z"
   },
   {
    "duration": 31,
    "start_time": "2022-10-19T13:14:10.277Z"
   },
   {
    "duration": 19,
    "start_time": "2022-10-19T13:14:10.310Z"
   },
   {
    "duration": 40,
    "start_time": "2022-10-19T13:14:10.331Z"
   },
   {
    "duration": 35,
    "start_time": "2022-10-19T13:14:10.372Z"
   },
   {
    "duration": 10,
    "start_time": "2022-10-19T13:14:10.408Z"
   },
   {
    "duration": 12,
    "start_time": "2022-10-19T13:14:10.419Z"
   },
   {
    "duration": 73,
    "start_time": "2022-10-19T13:14:10.433Z"
   },
   {
    "duration": 46,
    "start_time": "2022-10-19T13:14:10.508Z"
   },
   {
    "duration": 10,
    "start_time": "2022-10-19T13:14:10.555Z"
   },
   {
    "duration": 70,
    "start_time": "2022-10-19T13:14:10.566Z"
   },
   {
    "duration": 19,
    "start_time": "2022-10-19T13:14:10.637Z"
   },
   {
    "duration": 4,
    "start_time": "2022-10-19T13:14:10.657Z"
   },
   {
    "duration": 7,
    "start_time": "2022-10-19T13:14:10.663Z"
   },
   {
    "duration": 38,
    "start_time": "2022-10-19T13:14:10.672Z"
   },
   {
    "duration": 7,
    "start_time": "2022-10-19T13:14:10.712Z"
   },
   {
    "duration": 9,
    "start_time": "2022-10-19T13:14:10.720Z"
   },
   {
    "duration": 28,
    "start_time": "2022-10-19T13:14:10.731Z"
   },
   {
    "duration": 12,
    "start_time": "2022-10-19T13:14:10.761Z"
   },
   {
    "duration": 13,
    "start_time": "2022-10-19T13:14:10.776Z"
   },
   {
    "duration": 13,
    "start_time": "2022-10-19T13:14:10.791Z"
   },
   {
    "duration": 371,
    "start_time": "2022-10-19T13:14:10.805Z"
   },
   {
    "duration": 190,
    "start_time": "2022-10-19T13:14:11.178Z"
   },
   {
    "duration": 33,
    "start_time": "2022-10-19T13:14:11.370Z"
   },
   {
    "duration": 216,
    "start_time": "2022-10-19T13:14:11.404Z"
   },
   {
    "duration": 16,
    "start_time": "2022-10-19T13:14:11.622Z"
   },
   {
    "duration": 13,
    "start_time": "2022-10-19T13:14:11.640Z"
   },
   {
    "duration": 12,
    "start_time": "2022-10-19T13:14:11.654Z"
   },
   {
    "duration": 89,
    "start_time": "2022-10-19T13:14:11.667Z"
   },
   {
    "duration": 18,
    "start_time": "2022-10-19T13:14:11.757Z"
   },
   {
    "duration": 31,
    "start_time": "2022-10-19T13:14:11.776Z"
   },
   {
    "duration": 8,
    "start_time": "2022-10-19T13:14:11.808Z"
   },
   {
    "duration": 57,
    "start_time": "2022-10-19T13:14:11.817Z"
   },
   {
    "duration": 861,
    "start_time": "2022-10-19T13:26:24.559Z"
   },
   {
    "duration": 346,
    "start_time": "2022-10-19T13:26:25.422Z"
   },
   {
    "duration": 21,
    "start_time": "2022-10-19T13:26:25.770Z"
   },
   {
    "duration": 63,
    "start_time": "2022-10-19T13:26:25.792Z"
   },
   {
    "duration": 100,
    "start_time": "2022-10-19T13:26:25.856Z"
   },
   {
    "duration": 13,
    "start_time": "2022-10-19T13:26:25.958Z"
   },
   {
    "duration": 54,
    "start_time": "2022-10-19T13:26:25.973Z"
   },
   {
    "duration": 54,
    "start_time": "2022-10-19T13:26:26.029Z"
   },
   {
    "duration": 26,
    "start_time": "2022-10-19T13:26:26.084Z"
   },
   {
    "duration": 32,
    "start_time": "2022-10-19T13:26:26.115Z"
   },
   {
    "duration": 25,
    "start_time": "2022-10-19T13:26:26.148Z"
   },
   {
    "duration": 47,
    "start_time": "2022-10-19T13:26:26.175Z"
   },
   {
    "duration": 9,
    "start_time": "2022-10-19T13:26:26.223Z"
   },
   {
    "duration": 24,
    "start_time": "2022-10-19T13:26:26.233Z"
   },
   {
    "duration": 22,
    "start_time": "2022-10-19T13:26:26.258Z"
   },
   {
    "duration": 55,
    "start_time": "2022-10-19T13:26:26.282Z"
   },
   {
    "duration": 46,
    "start_time": "2022-10-19T13:26:26.339Z"
   },
   {
    "duration": 21,
    "start_time": "2022-10-19T13:26:26.387Z"
   },
   {
    "duration": 63,
    "start_time": "2022-10-19T13:26:26.410Z"
   },
   {
    "duration": 25,
    "start_time": "2022-10-19T13:26:26.475Z"
   },
   {
    "duration": 5,
    "start_time": "2022-10-19T13:26:26.502Z"
   },
   {
    "duration": 32,
    "start_time": "2022-10-19T13:26:26.509Z"
   },
   {
    "duration": 42,
    "start_time": "2022-10-19T13:26:26.543Z"
   },
   {
    "duration": 5,
    "start_time": "2022-10-19T13:26:26.587Z"
   },
   {
    "duration": 8,
    "start_time": "2022-10-19T13:26:26.594Z"
   },
   {
    "duration": 23,
    "start_time": "2022-10-19T13:26:26.604Z"
   },
   {
    "duration": 17,
    "start_time": "2022-10-19T13:26:26.629Z"
   },
   {
    "duration": 17,
    "start_time": "2022-10-19T13:26:26.649Z"
   },
   {
    "duration": 6,
    "start_time": "2022-10-19T13:26:26.667Z"
   },
   {
    "duration": 396,
    "start_time": "2022-10-19T13:26:26.674Z"
   },
   {
    "duration": 299,
    "start_time": "2022-10-19T13:26:27.073Z"
   },
   {
    "duration": 39,
    "start_time": "2022-10-19T13:26:27.373Z"
   },
   {
    "duration": 236,
    "start_time": "2022-10-19T13:26:27.414Z"
   },
   {
    "duration": 14,
    "start_time": "2022-10-19T13:26:27.651Z"
   },
   {
    "duration": 17,
    "start_time": "2022-10-19T13:26:27.667Z"
   },
   {
    "duration": 75,
    "start_time": "2022-10-19T13:26:27.701Z"
   },
   {
    "duration": 40,
    "start_time": "2022-10-19T13:26:27.777Z"
   },
   {
    "duration": 13,
    "start_time": "2022-10-19T13:26:27.819Z"
   },
   {
    "duration": 9,
    "start_time": "2022-10-19T13:26:27.833Z"
   },
   {
    "duration": 90,
    "start_time": "2022-10-19T13:26:27.843Z"
   },
   {
    "duration": 902,
    "start_time": "2022-10-19T13:39:38.598Z"
   },
   {
    "duration": 342,
    "start_time": "2022-10-19T13:39:39.502Z"
   },
   {
    "duration": 21,
    "start_time": "2022-10-19T13:39:39.846Z"
   },
   {
    "duration": 43,
    "start_time": "2022-10-19T13:39:39.870Z"
   },
   {
    "duration": 102,
    "start_time": "2022-10-19T13:39:39.915Z"
   },
   {
    "duration": 13,
    "start_time": "2022-10-19T13:39:40.019Z"
   },
   {
    "duration": 48,
    "start_time": "2022-10-19T13:39:40.033Z"
   },
   {
    "duration": 59,
    "start_time": "2022-10-19T13:39:40.083Z"
   },
   {
    "duration": 9,
    "start_time": "2022-10-19T13:39:40.144Z"
   },
   {
    "duration": 11,
    "start_time": "2022-10-19T13:39:40.155Z"
   },
   {
    "duration": 43,
    "start_time": "2022-10-19T13:39:40.168Z"
   },
   {
    "duration": 47,
    "start_time": "2022-10-19T13:39:40.213Z"
   },
   {
    "duration": 9,
    "start_time": "2022-10-19T13:39:40.262Z"
   },
   {
    "duration": 29,
    "start_time": "2022-10-19T13:39:40.272Z"
   },
   {
    "duration": 35,
    "start_time": "2022-10-19T13:39:40.303Z"
   },
   {
    "duration": 50,
    "start_time": "2022-10-19T13:39:40.340Z"
   },
   {
    "duration": 45,
    "start_time": "2022-10-19T13:39:40.391Z"
   },
   {
    "duration": 10,
    "start_time": "2022-10-19T13:39:40.437Z"
   },
   {
    "duration": 66,
    "start_time": "2022-10-19T13:39:40.448Z"
   },
   {
    "duration": 22,
    "start_time": "2022-10-19T13:39:40.516Z"
   },
   {
    "duration": 7,
    "start_time": "2022-10-19T13:39:40.539Z"
   },
   {
    "duration": 14,
    "start_time": "2022-10-19T13:39:40.548Z"
   },
   {
    "duration": 45,
    "start_time": "2022-10-19T13:39:40.564Z"
   },
   {
    "duration": 8,
    "start_time": "2022-10-19T13:39:40.611Z"
   },
   {
    "duration": 7,
    "start_time": "2022-10-19T13:39:40.620Z"
   },
   {
    "duration": 10,
    "start_time": "2022-10-19T13:39:40.628Z"
   },
   {
    "duration": 17,
    "start_time": "2022-10-19T13:39:40.640Z"
   },
   {
    "duration": 16,
    "start_time": "2022-10-19T13:39:40.659Z"
   },
   {
    "duration": 24,
    "start_time": "2022-10-19T13:39:40.676Z"
   },
   {
    "duration": 381,
    "start_time": "2022-10-19T13:39:40.702Z"
   },
   {
    "duration": 262,
    "start_time": "2022-10-19T13:39:41.085Z"
   },
   {
    "duration": 37,
    "start_time": "2022-10-19T13:39:41.348Z"
   },
   {
    "duration": 268,
    "start_time": "2022-10-19T13:39:41.387Z"
   },
   {
    "duration": 16,
    "start_time": "2022-10-19T13:39:41.656Z"
   },
   {
    "duration": 30,
    "start_time": "2022-10-19T13:39:41.674Z"
   },
   {
    "duration": 81,
    "start_time": "2022-10-19T13:39:41.707Z"
   },
   {
    "duration": 28,
    "start_time": "2022-10-19T13:39:41.789Z"
   },
   {
    "duration": 13,
    "start_time": "2022-10-19T13:39:41.819Z"
   },
   {
    "duration": 9,
    "start_time": "2022-10-19T13:39:41.834Z"
   },
   {
    "duration": 108,
    "start_time": "2022-10-19T13:39:41.845Z"
   },
   {
    "duration": 924,
    "start_time": "2022-10-20T02:16:08.211Z"
   },
   {
    "duration": 747,
    "start_time": "2022-10-20T02:16:09.136Z"
   },
   {
    "duration": 21,
    "start_time": "2022-10-20T02:16:09.887Z"
   },
   {
    "duration": 47,
    "start_time": "2022-10-20T02:16:09.910Z"
   },
   {
    "duration": 101,
    "start_time": "2022-10-20T02:16:09.958Z"
   },
   {
    "duration": 13,
    "start_time": "2022-10-20T02:16:10.060Z"
   },
   {
    "duration": 55,
    "start_time": "2022-10-20T02:16:10.074Z"
   },
   {
    "duration": 43,
    "start_time": "2022-10-20T02:16:10.131Z"
   },
   {
    "duration": 7,
    "start_time": "2022-10-20T02:16:10.176Z"
   },
   {
    "duration": 28,
    "start_time": "2022-10-20T02:16:10.184Z"
   },
   {
    "duration": 20,
    "start_time": "2022-10-20T02:16:10.214Z"
   },
   {
    "duration": 42,
    "start_time": "2022-10-20T02:16:10.236Z"
   },
   {
    "duration": 34,
    "start_time": "2022-10-20T02:16:10.281Z"
   },
   {
    "duration": 10,
    "start_time": "2022-10-20T02:16:10.316Z"
   },
   {
    "duration": 12,
    "start_time": "2022-10-20T02:16:10.327Z"
   },
   {
    "duration": 42,
    "start_time": "2022-10-20T02:16:10.340Z"
   },
   {
    "duration": 30,
    "start_time": "2022-10-20T02:16:10.409Z"
   },
   {
    "duration": 9,
    "start_time": "2022-10-20T02:16:10.441Z"
   },
   {
    "duration": 67,
    "start_time": "2022-10-20T02:16:10.451Z"
   },
   {
    "duration": 19,
    "start_time": "2022-10-20T02:16:10.520Z"
   },
   {
    "duration": 5,
    "start_time": "2022-10-20T02:16:10.540Z"
   },
   {
    "duration": 7,
    "start_time": "2022-10-20T02:16:10.546Z"
   },
   {
    "duration": 28,
    "start_time": "2022-10-20T02:16:10.555Z"
   },
   {
    "duration": 24,
    "start_time": "2022-10-20T02:16:10.585Z"
   },
   {
    "duration": 15,
    "start_time": "2022-10-20T02:16:10.611Z"
   },
   {
    "duration": 20,
    "start_time": "2022-10-20T02:16:10.628Z"
   },
   {
    "duration": 35,
    "start_time": "2022-10-20T02:16:10.650Z"
   },
   {
    "duration": 49,
    "start_time": "2022-10-20T02:16:10.687Z"
   },
   {
    "duration": 6,
    "start_time": "2022-10-20T02:16:10.738Z"
   },
   {
    "duration": 542,
    "start_time": "2022-10-20T02:16:10.745Z"
   },
   {
    "duration": 278,
    "start_time": "2022-10-20T02:16:11.288Z"
   },
   {
    "duration": 23,
    "start_time": "2022-10-20T02:16:11.567Z"
   },
   {
    "duration": 261,
    "start_time": "2022-10-20T02:16:11.591Z"
   },
   {
    "duration": 13,
    "start_time": "2022-10-20T02:16:11.854Z"
   },
   {
    "duration": 7,
    "start_time": "2022-10-20T02:16:11.869Z"
   },
   {
    "duration": 130,
    "start_time": "2022-10-20T02:16:11.878Z"
   },
   {
    "duration": 18,
    "start_time": "2022-10-20T02:16:12.010Z"
   },
   {
    "duration": 14,
    "start_time": "2022-10-20T02:16:12.030Z"
   },
   {
    "duration": 9,
    "start_time": "2022-10-20T02:16:12.045Z"
   },
   {
    "duration": 95,
    "start_time": "2022-10-20T02:16:12.058Z"
   },
   {
    "duration": 15,
    "start_time": "2022-10-20T02:24:31.332Z"
   },
   {
    "duration": 609,
    "start_time": "2022-10-20T02:24:41.303Z"
   },
   {
    "duration": 196,
    "start_time": "2022-10-20T02:25:19.264Z"
   },
   {
    "duration": 974,
    "start_time": "2023-04-09T09:15:29.609Z"
   },
   {
    "duration": 1177,
    "start_time": "2023-04-09T09:15:30.585Z"
   },
   {
    "duration": 26,
    "start_time": "2023-04-09T09:15:31.764Z"
   },
   {
    "duration": 56,
    "start_time": "2023-04-09T09:15:31.792Z"
   },
   {
    "duration": 116,
    "start_time": "2023-04-09T09:15:31.849Z"
   },
   {
    "duration": 14,
    "start_time": "2023-04-09T09:15:31.967Z"
   },
   {
    "duration": 71,
    "start_time": "2023-04-09T09:15:31.982Z"
   },
   {
    "duration": 55,
    "start_time": "2023-04-09T09:15:32.054Z"
   },
   {
    "duration": 8,
    "start_time": "2023-04-09T09:15:32.110Z"
   },
   {
    "duration": 18,
    "start_time": "2023-04-09T09:15:32.134Z"
   },
   {
    "duration": 29,
    "start_time": "2023-04-09T09:15:32.154Z"
   },
   {
    "duration": 58,
    "start_time": "2023-04-09T09:15:32.184Z"
   },
   {
    "duration": 10,
    "start_time": "2023-04-09T09:15:32.243Z"
   },
   {
    "duration": 25,
    "start_time": "2023-04-09T09:15:32.255Z"
   },
   {
    "duration": 36,
    "start_time": "2023-04-09T09:15:32.281Z"
   },
   {
    "duration": 58,
    "start_time": "2023-04-09T09:15:32.319Z"
   },
   {
    "duration": 62,
    "start_time": "2023-04-09T09:15:32.378Z"
   },
   {
    "duration": 9,
    "start_time": "2023-04-09T09:15:32.442Z"
   },
   {
    "duration": 69,
    "start_time": "2023-04-09T09:15:32.453Z"
   },
   {
    "duration": 26,
    "start_time": "2023-04-09T09:15:32.524Z"
   },
   {
    "duration": 5,
    "start_time": "2023-04-09T09:15:32.552Z"
   },
   {
    "duration": 24,
    "start_time": "2023-04-09T09:15:32.559Z"
   },
   {
    "duration": 48,
    "start_time": "2023-04-09T09:15:32.585Z"
   },
   {
    "duration": 9,
    "start_time": "2023-04-09T09:15:32.635Z"
   },
   {
    "duration": 15,
    "start_time": "2023-04-09T09:15:32.645Z"
   },
   {
    "duration": 16,
    "start_time": "2023-04-09T09:15:32.661Z"
   },
   {
    "duration": 29,
    "start_time": "2023-04-09T09:15:32.679Z"
   },
   {
    "duration": 16,
    "start_time": "2023-04-09T09:15:32.711Z"
   },
   {
    "duration": 12,
    "start_time": "2023-04-09T09:15:32.729Z"
   },
   {
    "duration": 412,
    "start_time": "2023-04-09T09:15:32.742Z"
   },
   {
    "duration": 290,
    "start_time": "2023-04-09T09:15:33.155Z"
   },
   {
    "duration": 23,
    "start_time": "2023-04-09T09:15:33.446Z"
   },
   {
    "duration": 251,
    "start_time": "2023-04-09T09:15:33.470Z"
   },
   {
    "duration": 23,
    "start_time": "2023-04-09T09:15:33.722Z"
   },
   {
    "duration": 8,
    "start_time": "2023-04-09T09:15:33.747Z"
   },
   {
    "duration": 86,
    "start_time": "2023-04-09T09:15:33.757Z"
   },
   {
    "duration": 19,
    "start_time": "2023-04-09T09:15:33.845Z"
   },
   {
    "duration": 14,
    "start_time": "2023-04-09T09:15:33.866Z"
   },
   {
    "duration": 10,
    "start_time": "2023-04-09T09:15:33.882Z"
   },
   {
    "duration": 95,
    "start_time": "2023-04-09T09:15:33.893Z"
   },
   {
    "duration": 670,
    "start_time": "2023-04-09T09:15:33.990Z"
   },
   {
    "duration": 12,
    "start_time": "2023-04-09T10:00:56.499Z"
   },
   {
    "duration": 11,
    "start_time": "2023-04-09T10:16:51.318Z"
   },
   {
    "duration": 14,
    "start_time": "2023-04-09T10:16:56.912Z"
   },
   {
    "duration": 12,
    "start_time": "2023-04-09T10:17:00.818Z"
   },
   {
    "duration": 11,
    "start_time": "2023-04-09T10:17:08.223Z"
   },
   {
    "duration": 11,
    "start_time": "2023-04-09T10:17:11.367Z"
   },
   {
    "duration": 11,
    "start_time": "2023-04-09T10:17:29.014Z"
   },
   {
    "duration": 1562,
    "start_time": "2023-06-22T16:29:08.068Z"
   },
   {
    "duration": 1445,
    "start_time": "2023-06-22T16:29:09.633Z"
   },
   {
    "duration": 30,
    "start_time": "2023-06-22T16:29:11.080Z"
   },
   {
    "duration": 67,
    "start_time": "2023-06-22T16:29:11.112Z"
   },
   {
    "duration": 155,
    "start_time": "2023-06-22T16:29:11.182Z"
   },
   {
    "duration": 28,
    "start_time": "2023-06-22T16:29:11.340Z"
   },
   {
    "duration": 41,
    "start_time": "2023-06-22T16:29:11.370Z"
   },
   {
    "duration": 75,
    "start_time": "2023-06-22T16:29:11.413Z"
   },
   {
    "duration": 9,
    "start_time": "2023-06-22T16:29:11.490Z"
   },
   {
    "duration": 13,
    "start_time": "2023-06-22T16:29:11.500Z"
   },
   {
    "duration": 52,
    "start_time": "2023-06-22T16:29:11.515Z"
   },
   {
    "duration": 53,
    "start_time": "2023-06-22T16:29:11.568Z"
   },
   {
    "duration": 11,
    "start_time": "2023-06-22T16:29:11.623Z"
   },
   {
    "duration": 19,
    "start_time": "2023-06-22T16:29:11.662Z"
   },
   {
    "duration": 15,
    "start_time": "2023-06-22T16:29:11.683Z"
   },
   {
    "duration": 80,
    "start_time": "2023-06-22T16:29:11.701Z"
   },
   {
    "duration": 52,
    "start_time": "2023-06-22T16:29:11.782Z"
   },
   {
    "duration": 30,
    "start_time": "2023-06-22T16:29:11.836Z"
   },
   {
    "duration": 105,
    "start_time": "2023-06-22T16:29:11.868Z"
   },
   {
    "duration": 23,
    "start_time": "2023-06-22T16:29:11.975Z"
   },
   {
    "duration": 7,
    "start_time": "2023-06-22T16:29:11.999Z"
   },
   {
    "duration": 13,
    "start_time": "2023-06-22T16:29:12.008Z"
   },
   {
    "duration": 48,
    "start_time": "2023-06-22T16:29:12.023Z"
   },
   {
    "duration": 17,
    "start_time": "2023-06-22T16:29:12.073Z"
   },
   {
    "duration": 6,
    "start_time": "2023-06-22T16:29:12.091Z"
   },
   {
    "duration": 24,
    "start_time": "2023-06-22T16:29:12.099Z"
   },
   {
    "duration": 23,
    "start_time": "2023-06-22T16:29:12.125Z"
   },
   {
    "duration": 23,
    "start_time": "2023-06-22T16:29:12.150Z"
   },
   {
    "duration": 12,
    "start_time": "2023-06-22T16:29:12.175Z"
   },
   {
    "duration": 525,
    "start_time": "2023-06-22T16:29:12.189Z"
   },
   {
    "duration": 377,
    "start_time": "2023-06-22T16:29:12.716Z"
   },
   {
    "duration": 24,
    "start_time": "2023-06-22T16:29:13.094Z"
   },
   {
    "duration": 368,
    "start_time": "2023-06-22T16:29:13.120Z"
   },
   {
    "duration": 19,
    "start_time": "2023-06-22T16:29:13.490Z"
   },
   {
    "duration": 13,
    "start_time": "2023-06-22T16:29:13.511Z"
   },
   {
    "duration": 150,
    "start_time": "2023-06-22T16:29:13.526Z"
   },
   {
    "duration": 20,
    "start_time": "2023-06-22T16:29:13.678Z"
   },
   {
    "duration": 16,
    "start_time": "2023-06-22T16:29:13.700Z"
   },
   {
    "duration": 10,
    "start_time": "2023-06-22T16:29:13.718Z"
   },
   {
    "duration": 71,
    "start_time": "2023-06-22T16:29:13.761Z"
   },
   {
    "duration": 606,
    "start_time": "2023-06-22T16:29:13.836Z"
   }
  ],
  "kernelspec": {
   "display_name": "Python 3 (ipykernel)",
   "language": "python",
   "name": "python3"
  },
  "language_info": {
   "codemirror_mode": {
    "name": "ipython",
    "version": 3
   },
   "file_extension": ".py",
   "mimetype": "text/x-python",
   "name": "python",
   "nbconvert_exporter": "python",
   "pygments_lexer": "ipython3",
   "version": "3.9.7"
  },
  "toc": {
   "base_numbering": 1,
   "nav_menu": {},
   "number_sections": true,
   "sideBar": true,
   "skip_h1_title": true,
   "title_cell": "Table of Contents",
   "title_sidebar": "Contents",
   "toc_cell": false,
   "toc_position": {
    "height": "calc(100% - 180px)",
    "left": "10px",
    "top": "150px",
    "width": "341.319px"
   },
   "toc_section_display": true,
   "toc_window_display": false
  }
 },
 "nbformat": 4,
 "nbformat_minor": 2
}
