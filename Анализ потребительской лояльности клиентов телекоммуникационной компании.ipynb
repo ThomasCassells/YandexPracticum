{
 "cells": [
  {
   "cell_type": "markdown",
   "id": "f65d02df",
   "metadata": {},
   "source": [
    "# Анализ потребительской лояльности клиентов телекоммуникационной компании"
   ]
  },
  {
   "cell_type": "markdown",
   "id": "2fe84d6e",
   "metadata": {},
   "source": [
    "Заказчик исследования — крупная телекоммуникационная компания, оказывающая услуги на территории всего СНГ.\n",
    "\n",
    "**Цель проекта:** определить текущий уровень потребительской лояльности, или NPS (от англ. Net Promoter Score), среди клиентов из России.\n",
    "\n",
    "**Содержание**\n",
    "1. Предобработка данных\n",
    "2. Ссылки на дашборд и презентацию"
   ]
  },
  {
   "cell_type": "markdown",
   "id": "38a268ae",
   "metadata": {},
   "source": [
    "## Предобработка данных"
   ]
  },
  {
   "cell_type": "markdown",
   "id": "99852da6",
   "metadata": {},
   "source": [
    "Импортируем необходимые библиотеки."
   ]
  },
  {
   "cell_type": "code",
   "execution_count": 1,
   "id": "c4876dd0",
   "metadata": {},
   "outputs": [],
   "source": [
    "import pandas as pd\n",
    "from sqlalchemy import create_engine"
   ]
  },
  {
   "cell_type": "markdown",
   "id": "83a4f08a",
   "metadata": {},
   "source": [
    "Подключимся нужным таблицам из базы данных."
   ]
  },
  {
   "cell_type": "code",
   "execution_count": 2,
   "id": "99c75b0f",
   "metadata": {},
   "outputs": [
    {
     "name": "stdout",
     "output_type": "stream",
     "text": [
      "<class 'pandas.core.frame.DataFrame'>\n",
      "RangeIndex: 502493 entries, 0 to 502492\n",
      "Data columns (total 14 columns):\n",
      " #   Column            Non-Null Count   Dtype  \n",
      "---  ------            --------------   -----  \n",
      " 0   user_id           502493 non-null  object \n",
      " 1   lt_day            502493 non-null  int64  \n",
      " 2   is_new            502493 non-null  object \n",
      " 3   age               501939 non-null  float64\n",
      " 4   gender_segment    501192 non-null  object \n",
      " 5   os_name           502493 non-null  object \n",
      " 6   cpe_type_name     502493 non-null  object \n",
      " 7   country           502493 non-null  object \n",
      " 8   city              502493 non-null  object \n",
      " 9   age_segment       502493 non-null  object \n",
      " 10  traffic_segment   502493 non-null  object \n",
      " 11  lifetime_segment  502493 non-null  object \n",
      " 12  nps_score         502493 non-null  int64  \n",
      " 13  nps_group         502493 non-null  object \n",
      "dtypes: float64(1), int64(2), object(11)\n",
      "memory usage: 53.7+ MB\n"
     ]
    }
   ],
   "source": [
    "path_to_db = 'C:/Documents/Yandex Practicum/Projects/3. Анализ потребительской лояльности клиентов телекоммуникационной компании/telecomm_csi.db'\n",
    "engine = create_engine (f'sqlite:///{path_to_db}', echo = False)\n",
    "query = \"\"\"SELECT user.user_id,\n",
    "                  user.lt_day,\n",
    "                  CASE\n",
    "                      WHEN user.lt_day <= 365 THEN 'новый'\n",
    "                      WHEN user.lt_day > 365 THEN 'старый'\n",
    "                  END AS is_new,\n",
    "                  user.age,\n",
    "                  CASE \n",
    "                      WHEN user.gender_segment = 1 THEN 'женщина'\n",
    "                      WHEN user.gender_segment = 0 THEN 'мужчина'\n",
    "                  END AS gender_segment,\n",
    "                  user.os_name,\n",
    "                  user.cpe_type_name,\n",
    "                  loc.country,\n",
    "                  loc.city,\n",
    "                  age.title AS age_segment,\n",
    "                  traffic.title AS traffic_segment,\n",
    "                  life.title AS lifetime_segment,\n",
    "                  user.nps_score,\n",
    "                  CASE \n",
    "                      WHEN user.nps_score < 7 THEN 'критик'\n",
    "                      WHEN user.nps_score > 6 AND user.nps_score < 9 THEN 'нейтрал'\n",
    "                      WHEN user.nps_score > 8 THEN 'сторонник'\n",
    "                  END AS nps_group\n",
    "           FROM user\n",
    "           JOIN location AS loc ON user.location_id = loc.location_id\n",
    "           JOIN age_segment AS age ON user.age_gr_id = age.age_gr_id\n",
    "           JOIN traffic_segment AS traffic ON user.tr_gr_id = traffic.tr_gr_id\n",
    "           JOIN lifetime_segment AS life ON user.lt_gr_id = life.lt_gr_id;\"\"\"\n",
    "data = pd.read_sql (query, engine)\n",
    "data.sample (5)\n",
    "data.info()"
   ]
  },
  {
   "cell_type": "markdown",
   "id": "8c5ebf43",
   "metadata": {},
   "source": [
    "Проверим пропуски в данных."
   ]
  },
  {
   "cell_type": "code",
   "execution_count": 3,
   "id": "6a53918f",
   "metadata": {},
   "outputs": [
    {
     "data": {
      "text/plain": [
       "user_id                0\n",
       "lt_day                 0\n",
       "is_new                 0\n",
       "age                  554\n",
       "gender_segment      1301\n",
       "os_name                0\n",
       "cpe_type_name          0\n",
       "country                0\n",
       "city                   0\n",
       "age_segment            0\n",
       "traffic_segment        0\n",
       "lifetime_segment       0\n",
       "nps_score              0\n",
       "nps_group              0\n",
       "dtype: int64"
      ]
     },
     "execution_count": 3,
     "metadata": {},
     "output_type": "execute_result"
    }
   ],
   "source": [
    "data.isna().sum()"
   ]
  },
  {
   "cell_type": "markdown",
   "id": "6a76ed1e",
   "metadata": {},
   "source": [
    "Имеются пропуски в колонках `age`, `gender_segment`. Их объём не превышает 1% от всего объёма данных - от них можно избавиться. Проверим также наличие дубликатов в датасете."
   ]
  },
  {
   "cell_type": "code",
   "execution_count": 4,
   "id": "27f0542f",
   "metadata": {},
   "outputs": [
    {
     "data": {
      "text/plain": [
       "0"
      ]
     },
     "execution_count": 4,
     "metadata": {},
     "output_type": "execute_result"
    }
   ],
   "source": [
    "data = data.dropna()\n",
    "data.duplicated().sum()"
   ]
  },
  {
   "cell_type": "markdown",
   "id": "89a4e75d",
   "metadata": {},
   "source": [
    "Также стоит проверить дубликаты без колонки `user_id`, т.к. значения в ней уникальны."
   ]
  },
  {
   "cell_type": "code",
   "execution_count": 5,
   "id": "b6c7dc38",
   "metadata": {},
   "outputs": [
    {
     "data": {
      "text/plain": [
       "577"
      ]
     },
     "execution_count": 5,
     "metadata": {},
     "output_type": "execute_result"
    }
   ],
   "source": [
    "data.loc [:, data.columns != 'user_id'].duplicated().sum()"
   ]
  },
  {
   "cell_type": "markdown",
   "id": "c47fcae7",
   "metadata": {},
   "source": [
    "Объём дубликатов также очень мал, очистим датасет."
   ]
  },
  {
   "cell_type": "code",
   "execution_count": 6,
   "id": "0479f32c",
   "metadata": {},
   "outputs": [],
   "source": [
    "data = data.drop_duplicates().reset_index (drop = True)"
   ]
  },
  {
   "cell_type": "markdown",
   "id": "a1b9de10",
   "metadata": {},
   "source": [
    "Сохраним получившийся датасет в csv-файл и приступим к созданию дашборда."
   ]
  },
  {
   "cell_type": "code",
   "execution_count": 7,
   "id": "38736ee5",
   "metadata": {},
   "outputs": [],
   "source": [
    "data.to_csv ('C:/Documents/Yandex Practicum/Projects/3. Анализ потребительской лояльности клиентов телекоммуникационной компании/data.csv', sep = ',', index = False)"
   ]
  },
  {
   "cell_type": "markdown",
   "id": "0a520629",
   "metadata": {},
   "source": [
    "## Ссылки на дашборд и презентацию"
   ]
  },
  {
   "cell_type": "markdown",
   "id": "4a3c2153",
   "metadata": {},
   "source": [
    "**Ссылка на дашборд:** https://public.tableau.com/app/profile/artyom1313/viz/Analysisofcustomerloyalty/Dashboard",
    "\n",
    "**Ссылка на презентацию:** https://disk.yandex.ru/i/lapagiYyQ6LUxA"
   ]
  }
 ],
 "metadata": {
  "kernelspec": {
   "display_name": "Python 3 (ipykernel)",
   "language": "python",
   "name": "python3"
  },
  "language_info": {
   "codemirror_mode": {
    "name": "ipython",
    "version": 3
   },
   "file_extension": ".py",
   "mimetype": "text/x-python",
   "name": "python",
   "nbconvert_exporter": "python",
   "pygments_lexer": "ipython3",
   "version": "3.9.7"
  },
  "toc": {
   "base_numbering": 1,
   "nav_menu": {},
   "number_sections": true,
   "sideBar": true,
   "skip_h1_title": true,
   "title_cell": "Table of Contents",
   "title_sidebar": "Contents",
   "toc_cell": false,
   "toc_position": {
    "height": "calc(100% - 180px)",
    "left": "10px",
    "top": "150px",
    "width": "341.333px"
   },
   "toc_section_display": true,
   "toc_window_display": true
  }
 },
 "nbformat": 4,
 "nbformat_minor": 5
}
