{
 "cells": [
  {
   "cell_type": "markdown",
   "metadata": {},
   "source": [
    "# Оценка результатов A/B теста"
   ]
  },
  {
   "cell_type": "markdown",
   "metadata": {},
   "source": [
    "**Цель проекта:** Оценить корректность проведения теста и проанализировать полученные резльутаты.\n",
    "\n",
    "**Задачи проекта:**\n",
    "\n",
    "* Дать оценку корректности A/B теста\n",
    "* Провести исследовательский анализ данных\n",
    "* Оценить результаты теста по ключевым событиям\n",
    "* Проверить статистические гипотезы\n",
    "* Сформулировать выводы и дать рекомендации\n",
    "\n",
    "**Содержание**\n",
    "* 1. Описание данных\n",
    "* 2. Предобработка данных\n",
    "    * 2.1  Преобразование типов данных\n",
    "    * 2.2  Анализ пропусков\n",
    "    * 2.3  Анализ дубликатов\n",
    "* 3. Оценка корректности A/B теста\n",
    "    * 3.1  Проверка времени проведения теста\n",
    "    * 3.2  Проверка аудитории теста\n",
    "* 4. Исследовательский анализ данных\n",
    "    * 4.1  Распределение количества событий на пользователя по группам\n",
    "    * 4.2  Распределение числа событий в выборках по дням\n",
    "    * 4.3  Изменение конверсии в воронке в выборках на разных этапах\n",
    "* 5. Оценка результатов A/B-тестирования\n",
    "    * 5.1  Создание расчётных функций для анализа\n",
    "    * 5.2  Анализ конверсии просмотра товара\n",
    "    * 5.3  Анализ конверсии просмотра корзины\n",
    "    * 5.4  Анализ конверсии покупок\n",
    "    * 5.5  Анализ выручки\n",
    "    * 5.6  Проверка статистической разницы долей z-критерием\n",
    "* 6. Общие выводы и рекомендации"
   ]
  },
  {
   "cell_type": "markdown",
   "metadata": {},
   "source": [
    "## Описание данных"
   ]
  },
  {
   "cell_type": "markdown",
   "metadata": {},
   "source": [
    "Импортируем все необходимые библиотеки."
   ]
  },
  {
   "cell_type": "code",
   "execution_count": 1,
   "metadata": {},
   "outputs": [],
   "source": [
    "import pandas as pd\n",
    "import numpy as np\n",
    "import math as mth\n",
    "import plotly.express as px\n",
    "import plotly.graph_objects as go\n",
    "from scipy import stats as st"
   ]
  },
  {
   "cell_type": "markdown",
   "metadata": {},
   "source": [
    "Загрузим датасет с календарём маркетинговых событий на 2020 год."
   ]
  },
  {
   "cell_type": "code",
   "execution_count": 2,
   "metadata": {},
   "outputs": [
    {
     "name": "stdout",
     "output_type": "stream",
     "text": [
      "<class 'pandas.core.frame.DataFrame'>\n",
      "RangeIndex: 14 entries, 0 to 13\n",
      "Data columns (total 4 columns):\n",
      " #   Column     Non-Null Count  Dtype \n",
      "---  ------     --------------  ----- \n",
      " 0   name       14 non-null     object\n",
      " 1   regions    14 non-null     object\n",
      " 2   start_dt   14 non-null     object\n",
      " 3   finish_dt  14 non-null     object\n",
      "dtypes: object(4)\n",
      "memory usage: 576.0+ bytes\n"
     ]
    },
    {
     "data": {
      "text/html": [
       "<div>\n",
       "<style scoped>\n",
       "    .dataframe tbody tr th:only-of-type {\n",
       "        vertical-align: middle;\n",
       "    }\n",
       "\n",
       "    .dataframe tbody tr th {\n",
       "        vertical-align: top;\n",
       "    }\n",
       "\n",
       "    .dataframe thead th {\n",
       "        text-align: right;\n",
       "    }\n",
       "</style>\n",
       "<table border=\"1\" class=\"dataframe\">\n",
       "  <thead>\n",
       "    <tr style=\"text-align: right;\">\n",
       "      <th></th>\n",
       "      <th>name</th>\n",
       "      <th>regions</th>\n",
       "      <th>start_dt</th>\n",
       "      <th>finish_dt</th>\n",
       "    </tr>\n",
       "  </thead>\n",
       "  <tbody>\n",
       "    <tr>\n",
       "      <th>6</th>\n",
       "      <td>Chinese New Year Promo</td>\n",
       "      <td>APAC</td>\n",
       "      <td>2020-01-25</td>\n",
       "      <td>2020-02-07</td>\n",
       "    </tr>\n",
       "    <tr>\n",
       "      <th>10</th>\n",
       "      <td>CIS New Year Gift Lottery</td>\n",
       "      <td>CIS</td>\n",
       "      <td>2020-12-30</td>\n",
       "      <td>2021-01-07</td>\n",
       "    </tr>\n",
       "    <tr>\n",
       "      <th>11</th>\n",
       "      <td>Dragon Boat Festival Giveaway</td>\n",
       "      <td>APAC</td>\n",
       "      <td>2020-06-25</td>\n",
       "      <td>2020-07-01</td>\n",
       "    </tr>\n",
       "    <tr>\n",
       "      <th>4</th>\n",
       "      <td>4th of July Promo</td>\n",
       "      <td>N.America</td>\n",
       "      <td>2020-07-04</td>\n",
       "      <td>2020-07-11</td>\n",
       "    </tr>\n",
       "    <tr>\n",
       "      <th>9</th>\n",
       "      <td>Victory Day CIS (May 9th) Event</td>\n",
       "      <td>CIS</td>\n",
       "      <td>2020-05-09</td>\n",
       "      <td>2020-05-11</td>\n",
       "    </tr>\n",
       "  </tbody>\n",
       "</table>\n",
       "</div>"
      ],
      "text/plain": [
       "                               name    regions    start_dt   finish_dt\n",
       "6            Chinese New Year Promo       APAC  2020-01-25  2020-02-07\n",
       "10        CIS New Year Gift Lottery        CIS  2020-12-30  2021-01-07\n",
       "11    Dragon Boat Festival Giveaway       APAC  2020-06-25  2020-07-01\n",
       "4                 4th of July Promo  N.America  2020-07-04  2020-07-11\n",
       "9   Victory Day CIS (May 9th) Event        CIS  2020-05-09  2020-05-11"
      ]
     },
     "execution_count": 2,
     "metadata": {},
     "output_type": "execute_result"
    }
   ],
   "source": [
    "data_marketing_events = pd.read_csv ('C:/Documents/Yandex Practicum/Projects/9. Оценка результатов AB теста/data_marketing_events.csv')\n",
    "data_marketing_events.info()\n",
    "data_marketing_events.sample (5)"
   ]
  },
  {
   "cell_type": "markdown",
   "metadata": {},
   "source": [
    "Датасет содержит 14 записей. Пропусков в данных не наблюдается. Тип данных в колонках `start_dt` и `finish_dt` необходимо преобразовать в `datetime`.\n",
    "\n",
    "**Описание датасета:**\n",
    "\n",
    "* `name` — название маркетингового события\n",
    "* `regions` — регионы, в которых будет проводиться рекламная кампания\n",
    "* `start_dt` — дата начала кампании\n",
    "* `finish_dt` — дата завершения кампании"
   ]
  },
  {
   "cell_type": "markdown",
   "metadata": {},
   "source": [
    "Загрузим датасет с информацией о пользователях, зарегистрировавшихся в интернет-магазине в период с 7 по 21 декабря 2020 года."
   ]
  },
  {
   "cell_type": "code",
   "execution_count": 3,
   "metadata": {},
   "outputs": [
    {
     "name": "stdout",
     "output_type": "stream",
     "text": [
      "<class 'pandas.core.frame.DataFrame'>\n",
      "RangeIndex: 61733 entries, 0 to 61732\n",
      "Data columns (total 4 columns):\n",
      " #   Column      Non-Null Count  Dtype \n",
      "---  ------      --------------  ----- \n",
      " 0   user_id     61733 non-null  object\n",
      " 1   first_date  61733 non-null  object\n",
      " 2   region      61733 non-null  object\n",
      " 3   device      61733 non-null  object\n",
      "dtypes: object(4)\n",
      "memory usage: 1.9+ MB\n"
     ]
    },
    {
     "data": {
      "text/html": [
       "<div>\n",
       "<style scoped>\n",
       "    .dataframe tbody tr th:only-of-type {\n",
       "        vertical-align: middle;\n",
       "    }\n",
       "\n",
       "    .dataframe tbody tr th {\n",
       "        vertical-align: top;\n",
       "    }\n",
       "\n",
       "    .dataframe thead th {\n",
       "        text-align: right;\n",
       "    }\n",
       "</style>\n",
       "<table border=\"1\" class=\"dataframe\">\n",
       "  <thead>\n",
       "    <tr style=\"text-align: right;\">\n",
       "      <th></th>\n",
       "      <th>user_id</th>\n",
       "      <th>first_date</th>\n",
       "      <th>region</th>\n",
       "      <th>device</th>\n",
       "    </tr>\n",
       "  </thead>\n",
       "  <tbody>\n",
       "    <tr>\n",
       "      <th>22837</th>\n",
       "      <td>C16C91FA9D96120F</td>\n",
       "      <td>2020-12-15</td>\n",
       "      <td>EU</td>\n",
       "      <td>PC</td>\n",
       "    </tr>\n",
       "    <tr>\n",
       "      <th>11002</th>\n",
       "      <td>D0C40E3995310147</td>\n",
       "      <td>2020-12-14</td>\n",
       "      <td>EU</td>\n",
       "      <td>PC</td>\n",
       "    </tr>\n",
       "    <tr>\n",
       "      <th>45323</th>\n",
       "      <td>07A1A37AA36EA645</td>\n",
       "      <td>2020-12-12</td>\n",
       "      <td>EU</td>\n",
       "      <td>PC</td>\n",
       "    </tr>\n",
       "    <tr>\n",
       "      <th>24151</th>\n",
       "      <td>6A6F7D12E5E6A39D</td>\n",
       "      <td>2020-12-22</td>\n",
       "      <td>N.America</td>\n",
       "      <td>iPhone</td>\n",
       "    </tr>\n",
       "    <tr>\n",
       "      <th>34698</th>\n",
       "      <td>5B689255E8BA7410</td>\n",
       "      <td>2020-12-10</td>\n",
       "      <td>EU</td>\n",
       "      <td>Mac</td>\n",
       "    </tr>\n",
       "  </tbody>\n",
       "</table>\n",
       "</div>"
      ],
      "text/plain": [
       "                user_id  first_date     region  device\n",
       "22837  C16C91FA9D96120F  2020-12-15         EU      PC\n",
       "11002  D0C40E3995310147  2020-12-14         EU      PC\n",
       "45323  07A1A37AA36EA645  2020-12-12         EU      PC\n",
       "24151  6A6F7D12E5E6A39D  2020-12-22  N.America  iPhone\n",
       "34698  5B689255E8BA7410  2020-12-10         EU     Mac"
      ]
     },
     "execution_count": 3,
     "metadata": {},
     "output_type": "execute_result"
    }
   ],
   "source": [
    "data_new_users = pd.read_csv ('C:/Documents/Yandex Practicum/Projects/9. Оценка результатов AB теста/data_new_users.csv')\n",
    "data_new_users.info()\n",
    "data_new_users.sample (5)"
   ]
  },
  {
   "cell_type": "markdown",
   "metadata": {},
   "source": [
    "Датасет содержит 61733 записей. Пропусков в данных не наблюдается. Тип данных в колонкe `first_date` необходимо преобразовать в `datetime`.\n",
    "\n",
    "**Описание датасета:**\n",
    "* `user_id` — идентификатор пользователя\n",
    "* `first_date` — дата регистрации\n",
    "* `region` — регион пользователя\n",
    "* `device` — устройство, с которого происходила регистрация"
   ]
  },
  {
   "cell_type": "markdown",
   "metadata": {},
   "source": [
    "Загрузим датасет с информацией о событиях новых пользователей в период с 7 декабря 2020 по 4 января 2021 года."
   ]
  },
  {
   "cell_type": "code",
   "execution_count": 4,
   "metadata": {},
   "outputs": [
    {
     "name": "stdout",
     "output_type": "stream",
     "text": [
      "<class 'pandas.core.frame.DataFrame'>\n",
      "RangeIndex: 440317 entries, 0 to 440316\n",
      "Data columns (total 4 columns):\n",
      " #   Column      Non-Null Count   Dtype  \n",
      "---  ------      --------------   -----  \n",
      " 0   user_id     440317 non-null  object \n",
      " 1   event_dt    440317 non-null  object \n",
      " 2   event_name  440317 non-null  object \n",
      " 3   details     62740 non-null   float64\n",
      "dtypes: float64(1), object(3)\n",
      "memory usage: 13.4+ MB\n"
     ]
    },
    {
     "data": {
      "text/html": [
       "<div>\n",
       "<style scoped>\n",
       "    .dataframe tbody tr th:only-of-type {\n",
       "        vertical-align: middle;\n",
       "    }\n",
       "\n",
       "    .dataframe tbody tr th {\n",
       "        vertical-align: top;\n",
       "    }\n",
       "\n",
       "    .dataframe thead th {\n",
       "        text-align: right;\n",
       "    }\n",
       "</style>\n",
       "<table border=\"1\" class=\"dataframe\">\n",
       "  <thead>\n",
       "    <tr style=\"text-align: right;\">\n",
       "      <th></th>\n",
       "      <th>user_id</th>\n",
       "      <th>event_dt</th>\n",
       "      <th>event_name</th>\n",
       "      <th>details</th>\n",
       "    </tr>\n",
       "  </thead>\n",
       "  <tbody>\n",
       "    <tr>\n",
       "      <th>155871</th>\n",
       "      <td>8C415E32B00363D1</td>\n",
       "      <td>2020-12-14 11:53:34</td>\n",
       "      <td>product_page</td>\n",
       "      <td>NaN</td>\n",
       "    </tr>\n",
       "    <tr>\n",
       "      <th>387397</th>\n",
       "      <td>DF0EA365CCAEAA80</td>\n",
       "      <td>2020-12-22 15:17:54</td>\n",
       "      <td>login</td>\n",
       "      <td>NaN</td>\n",
       "    </tr>\n",
       "    <tr>\n",
       "      <th>338246</th>\n",
       "      <td>77271E21336D1FF8</td>\n",
       "      <td>2020-12-18 23:45:50</td>\n",
       "      <td>login</td>\n",
       "      <td>NaN</td>\n",
       "    </tr>\n",
       "    <tr>\n",
       "      <th>397867</th>\n",
       "      <td>1CC55BFAC88A350E</td>\n",
       "      <td>2020-12-23 08:22:08</td>\n",
       "      <td>login</td>\n",
       "      <td>NaN</td>\n",
       "    </tr>\n",
       "    <tr>\n",
       "      <th>243855</th>\n",
       "      <td>E676E162E31124E9</td>\n",
       "      <td>2020-12-27 07:17:43</td>\n",
       "      <td>product_page</td>\n",
       "      <td>NaN</td>\n",
       "    </tr>\n",
       "  </tbody>\n",
       "</table>\n",
       "</div>"
      ],
      "text/plain": [
       "                 user_id             event_dt    event_name  details\n",
       "155871  8C415E32B00363D1  2020-12-14 11:53:34  product_page      NaN\n",
       "387397  DF0EA365CCAEAA80  2020-12-22 15:17:54         login      NaN\n",
       "338246  77271E21336D1FF8  2020-12-18 23:45:50         login      NaN\n",
       "397867  1CC55BFAC88A350E  2020-12-23 08:22:08         login      NaN\n",
       "243855  E676E162E31124E9  2020-12-27 07:17:43  product_page      NaN"
      ]
     },
     "execution_count": 4,
     "metadata": {},
     "output_type": "execute_result"
    }
   ],
   "source": [
    "data_ab_events = pd.read_csv ('C:/Documents/Yandex Practicum/Projects/9. Оценка результатов AB теста/data_events.csv')\n",
    "data_ab_events.info()\n",
    "data_ab_events.sample (5)"
   ]
  },
  {
   "cell_type": "markdown",
   "metadata": {},
   "source": [
    "Датасет содержит 440317 записей. Имеется большое количество пропусков в колонке `details`. Тип данных в колонке `event_dt` необходимо преобразовать в `datetime`.\n",
    "\n",
    "**Описание датасета:**\n",
    "* `user_id` — идентификатор пользователя\n",
    "* `event_dt` — дата и время события\n",
    "* `event_name` — тип события\n",
    "* `details` — дополнительные данные о событии. Например, для покупок, purchase, в этом поле хранится стоимость покупки в долларах"
   ]
  },
  {
   "cell_type": "markdown",
   "metadata": {},
   "source": [
    "Загрузим датасет с информацией об участниках A/B тестов."
   ]
  },
  {
   "cell_type": "code",
   "execution_count": 5,
   "metadata": {},
   "outputs": [
    {
     "name": "stdout",
     "output_type": "stream",
     "text": [
      "<class 'pandas.core.frame.DataFrame'>\n",
      "RangeIndex: 18268 entries, 0 to 18267\n",
      "Data columns (total 3 columns):\n",
      " #   Column   Non-Null Count  Dtype \n",
      "---  ------   --------------  ----- \n",
      " 0   user_id  18268 non-null  object\n",
      " 1   group    18268 non-null  object\n",
      " 2   ab_test  18268 non-null  object\n",
      "dtypes: object(3)\n",
      "memory usage: 428.3+ KB\n"
     ]
    },
    {
     "data": {
      "text/html": [
       "<div>\n",
       "<style scoped>\n",
       "    .dataframe tbody tr th:only-of-type {\n",
       "        vertical-align: middle;\n",
       "    }\n",
       "\n",
       "    .dataframe tbody tr th {\n",
       "        vertical-align: top;\n",
       "    }\n",
       "\n",
       "    .dataframe thead th {\n",
       "        text-align: right;\n",
       "    }\n",
       "</style>\n",
       "<table border=\"1\" class=\"dataframe\">\n",
       "  <thead>\n",
       "    <tr style=\"text-align: right;\">\n",
       "      <th></th>\n",
       "      <th>user_id</th>\n",
       "      <th>group</th>\n",
       "      <th>ab_test</th>\n",
       "    </tr>\n",
       "  </thead>\n",
       "  <tbody>\n",
       "    <tr>\n",
       "      <th>2039</th>\n",
       "      <td>9270DB42112E3B14</td>\n",
       "      <td>A</td>\n",
       "      <td>recommender_system_test</td>\n",
       "    </tr>\n",
       "    <tr>\n",
       "      <th>8776</th>\n",
       "      <td>D9715C63505DA68F</td>\n",
       "      <td>A</td>\n",
       "      <td>interface_eu_test</td>\n",
       "    </tr>\n",
       "    <tr>\n",
       "      <th>9163</th>\n",
       "      <td>DDA59D11FFAA7F27</td>\n",
       "      <td>A</td>\n",
       "      <td>interface_eu_test</td>\n",
       "    </tr>\n",
       "    <tr>\n",
       "      <th>12034</th>\n",
       "      <td>A96FEDF7E03DC8B3</td>\n",
       "      <td>B</td>\n",
       "      <td>interface_eu_test</td>\n",
       "    </tr>\n",
       "    <tr>\n",
       "      <th>5771</th>\n",
       "      <td>F3B869BA0D5F6FE2</td>\n",
       "      <td>A</td>\n",
       "      <td>recommender_system_test</td>\n",
       "    </tr>\n",
       "  </tbody>\n",
       "</table>\n",
       "</div>"
      ],
      "text/plain": [
       "                user_id group                  ab_test\n",
       "2039   9270DB42112E3B14     A  recommender_system_test\n",
       "8776   D9715C63505DA68F     A        interface_eu_test\n",
       "9163   DDA59D11FFAA7F27     A        interface_eu_test\n",
       "12034  A96FEDF7E03DC8B3     B        interface_eu_test\n",
       "5771   F3B869BA0D5F6FE2     A  recommender_system_test"
      ]
     },
     "execution_count": 5,
     "metadata": {},
     "output_type": "execute_result"
    }
   ],
   "source": [
    "data_ab_users = pd.read_csv ('C:/Documents/Yandex Practicum/Projects/9. Оценка результатов AB теста/data_participants.csv')\n",
    "data_ab_users.info()\n",
    "data_ab_users.sample (5)"
   ]
  },
  {
   "cell_type": "markdown",
   "metadata": {},
   "source": [
    "Датасет содержит 18268 записей. Пропусков в данных не наблюдается. Типы данных указаны корректно.\n",
    "\n",
    "**Описание датасета:**\n",
    "* `user_id` — идентификатор пользователя\n",
    "* `ab_test` — название теста\n",
    "* `group` — группа пользователя"
   ]
  },
  {
   "cell_type": "markdown",
   "metadata": {},
   "source": [
    "## Предобработка данных\n",
    "### Преобразование типов данных"
   ]
  },
  {
   "cell_type": "markdown",
   "metadata": {},
   "source": [
    "Для начала преобразуем типы данных в `datetime` во всех колонках датасетов, где это требуется."
   ]
  },
  {
   "cell_type": "code",
   "execution_count": 6,
   "metadata": {},
   "outputs": [],
   "source": [
    "data_marketing_events ['start_dt'] = pd.to_datetime (data_marketing_events ['start_dt'], format = '%Y.%m.%d')\n",
    "data_marketing_events ['finish_dt'] = pd.to_datetime (data_marketing_events ['finish_dt'], format = '%Y.%m.%d')\n",
    "data_new_users ['first_date'] = pd.to_datetime (data_new_users ['first_date'], format = '%Y.%m.%d')\n",
    "data_ab_events ['event_dt'] = pd.to_datetime (data_ab_events ['event_dt'], format = '%Y.%m.%d %H:%M:%S')"
   ]
  },
  {
   "cell_type": "markdown",
   "metadata": {},
   "source": [
    "### Анализ пропусков\n",
    "Посмотрим на пропуски в значениях колокни `details` в датасете `data_ab_events`."
   ]
  },
  {
   "cell_type": "code",
   "execution_count": 7,
   "metadata": {},
   "outputs": [
    {
     "data": {
      "text/plain": [
       "event_name\n",
       "login           0\n",
       "product_cart    0\n",
       "product_page    0\n",
       "purchase        4\n",
       "Name: details, dtype: int64"
      ]
     },
     "execution_count": 7,
     "metadata": {},
     "output_type": "execute_result"
    }
   ],
   "source": [
    "data_ab_events.groupby ('event_name')['details'].nunique()"
   ]
  },
  {
   "cell_type": "code",
   "execution_count": 8,
   "metadata": {},
   "outputs": [
    {
     "data": {
      "text/plain": [
       "user_id       0\n",
       "event_dt      0\n",
       "event_name    0\n",
       "details       0\n",
       "dtype: int64"
      ]
     },
     "execution_count": 8,
     "metadata": {},
     "output_type": "execute_result"
    }
   ],
   "source": [
    "data_ab_events.query ('event_name == \"purchase\"').isna().sum()"
   ]
  },
  {
   "cell_type": "markdown",
   "metadata": {},
   "source": [
    "Пропуски встречаются в данных, где тип события - не покупка. При наличии покупки пропуски в колонке `details` отсутствуют. В данном случае наиболее правильным решением будет оставить пропуски незаполненными."
   ]
  },
  {
   "cell_type": "markdown",
   "metadata": {},
   "source": [
    "### Анализ дубликатов\n",
    "Посмотрим на наличие явных дубликатов в данных."
   ]
  },
  {
   "cell_type": "code",
   "execution_count": 9,
   "metadata": {},
   "outputs": [
    {
     "data": {
      "text/plain": [
       "0"
      ]
     },
     "metadata": {},
     "output_type": "display_data"
    },
    {
     "data": {
      "text/plain": [
       "0"
      ]
     },
     "metadata": {},
     "output_type": "display_data"
    },
    {
     "data": {
      "text/plain": [
       "0"
      ]
     },
     "metadata": {},
     "output_type": "display_data"
    },
    {
     "data": {
      "text/plain": [
       "0"
      ]
     },
     "metadata": {},
     "output_type": "display_data"
    }
   ],
   "source": [
    "for i in [data_marketing_events, data_new_users, data_ab_events, data_ab_users]:\n",
    "    display (i.duplicated().sum())"
   ]
  },
  {
   "cell_type": "markdown",
   "metadata": {},
   "source": [
    "Явные дубликаты в данных отсутстуют. Проверим коррекность значений некоторых категориальных переменных для выявления неявных дубликатов."
   ]
  },
  {
   "cell_type": "code",
   "execution_count": 10,
   "metadata": {},
   "outputs": [
    {
     "name": "stdout",
     "output_type": "stream",
     "text": [
      "['EU' 'N.America' 'APAC' 'CIS']\n",
      "['PC' 'Android' 'iPhone' 'Mac']\n",
      "['purchase' 'product_cart' 'product_page' 'login']\n",
      "['A' 'B']\n",
      "['recommender_system_test' 'interface_eu_test']\n"
     ]
    }
   ],
   "source": [
    "for i in [data_new_users ['region'],\n",
    "          data_new_users ['device'],\n",
    "          data_ab_events ['event_name'],\n",
    "          data_ab_users ['group'],\n",
    "          data_ab_users ['ab_test']]:\n",
    "    print (i.unique())"
   ]
  },
  {
   "cell_type": "markdown",
   "metadata": {},
   "source": [
    "Дубликаты в данных отсутствуют."
   ]
  },
  {
   "cell_type": "markdown",
   "metadata": {},
   "source": [
    "## Оценка корректности A/B теста\n",
    "### Проверка времени проведения теста"
   ]
  },
  {
   "cell_type": "markdown",
   "metadata": {},
   "source": [
    "Проверим время проведения теста. Согласно техническому заданию:\n",
    "\n",
    "* Дата запуска: 2020-12-07\n",
    "* Дата остановки набора новых пользователей: 2020-12-21\n",
    "* Дата остановки: 2021-01-04"
   ]
  },
  {
   "cell_type": "code",
   "execution_count": 11,
   "metadata": {},
   "outputs": [
    {
     "name": "stdout",
     "output_type": "stream",
     "text": [
      "2020-12-07 00:00:00\n",
      "2020-12-23 00:00:00\n"
     ]
    }
   ],
   "source": [
    "print (data_new_users ['first_date'].min())\n",
    "print (data_new_users ['first_date'].max())"
   ]
  },
  {
   "cell_type": "markdown",
   "metadata": {},
   "source": [
    "Дата окончания набора новых пользователей не совпадает с датой из ТЗ. Проверим количество пользователей, зарегистрировавшихся позже 21 декабря."
   ]
  },
  {
   "cell_type": "code",
   "execution_count": 12,
   "metadata": {},
   "outputs": [
    {
     "name": "stdout",
     "output_type": "stream",
     "text": [
      "2020-12-07 00:00:00\n",
      "2020-12-21 00:00:00\n"
     ]
    }
   ],
   "source": [
    "users_merge = data_ab_users.query ('ab_test == \"recommender_system_test\"').merge (data_new_users, on = 'user_id')\n",
    "print (users_merge ['first_date'].min())\n",
    "print (users_merge ['first_date'].max())"
   ]
  },
  {
   "cell_type": "code",
   "execution_count": 13,
   "metadata": {},
   "outputs": [
    {
     "data": {
      "text/plain": [
       "5263"
      ]
     },
     "execution_count": 13,
     "metadata": {},
     "output_type": "execute_result"
    }
   ],
   "source": [
    "data_new_users.query ('first_date > \"2020-12-21\"')['user_id'].count()"
   ]
  },
  {
   "cell_type": "markdown",
   "metadata": {},
   "source": [
    "5263 пользователей зарегистрировались позже 21 декабря 2020 года, это более 8.5% от общего объёма данных в датасете с новыми пользователями. Оставим для анализа только тех, кто зарегистрировался до 21.12.2020 включительно."
   ]
  },
  {
   "cell_type": "code",
   "execution_count": 14,
   "metadata": {},
   "outputs": [],
   "source": [
    "data_new_users = data_new_users.query ('first_date <= \"2020-12-21\" & region == \"EU\"')"
   ]
  },
  {
   "cell_type": "markdown",
   "metadata": {},
   "source": [
    "Проверим соответствие даты начала и остановки проведения теста."
   ]
  },
  {
   "cell_type": "code",
   "execution_count": 15,
   "metadata": {},
   "outputs": [
    {
     "name": "stdout",
     "output_type": "stream",
     "text": [
      "2020-12-07 00:00:33\n",
      "2020-12-30 23:36:33\n"
     ]
    }
   ],
   "source": [
    "print (data_ab_events ['event_dt'].min())\n",
    "print (data_ab_events ['event_dt'].max())"
   ]
  },
  {
   "cell_type": "markdown",
   "metadata": {},
   "source": [
    "Дата остановки теста на 5 дней больше, чем дата последней записи в датасете о событиях пользователей. Это может быть связано как с ошибкой при сохранении данных, так и с новогодними праздниками в период с 31 декабря по 4 января.\n",
    "\n",
    "Проверим, совпадает ли время проведения теста с маркетинговыми активностями."
   ]
  },
  {
   "cell_type": "code",
   "execution_count": 16,
   "metadata": {},
   "outputs": [
    {
     "data": {
      "text/html": [
       "<div>\n",
       "<style scoped>\n",
       "    .dataframe tbody tr th:only-of-type {\n",
       "        vertical-align: middle;\n",
       "    }\n",
       "\n",
       "    .dataframe tbody tr th {\n",
       "        vertical-align: top;\n",
       "    }\n",
       "\n",
       "    .dataframe thead th {\n",
       "        text-align: right;\n",
       "    }\n",
       "</style>\n",
       "<table border=\"1\" class=\"dataframe\">\n",
       "  <thead>\n",
       "    <tr style=\"text-align: right;\">\n",
       "      <th></th>\n",
       "      <th>name</th>\n",
       "      <th>regions</th>\n",
       "      <th>start_dt</th>\n",
       "      <th>finish_dt</th>\n",
       "    </tr>\n",
       "  </thead>\n",
       "  <tbody>\n",
       "    <tr>\n",
       "      <th>0</th>\n",
       "      <td>Christmas&amp;New Year Promo</td>\n",
       "      <td>EU, N.America</td>\n",
       "      <td>2020-12-25</td>\n",
       "      <td>2021-01-03</td>\n",
       "    </tr>\n",
       "    <tr>\n",
       "      <th>10</th>\n",
       "      <td>CIS New Year Gift Lottery</td>\n",
       "      <td>CIS</td>\n",
       "      <td>2020-12-30</td>\n",
       "      <td>2021-01-07</td>\n",
       "    </tr>\n",
       "  </tbody>\n",
       "</table>\n",
       "</div>"
      ],
      "text/plain": [
       "                         name        regions   start_dt  finish_dt\n",
       "0    Christmas&New Year Promo  EU, N.America 2020-12-25 2021-01-03\n",
       "10  CIS New Year Gift Lottery            CIS 2020-12-30 2021-01-07"
      ]
     },
     "execution_count": 16,
     "metadata": {},
     "output_type": "execute_result"
    }
   ],
   "source": [
    "data_marketing_events.query ('finish_dt >= \"2020-12-07\"')"
   ]
  },
  {
   "cell_type": "markdown",
   "metadata": {},
   "source": [
    "В период проведения A\\B теста проводились две маркетинговые кампании, одна из которых (`Christmas&New Year Promo`) проходила среди пользователей из региона `EU`, имеющими отношение к нашему A\\B тесту."
   ]
  },
  {
   "cell_type": "markdown",
   "metadata": {},
   "source": [
    "### Проверка аудитории теста\n",
    "Проверим наличие пересечений между двумя группами A/B теста."
   ]
  },
  {
   "cell_type": "code",
   "execution_count": 17,
   "metadata": {},
   "outputs": [
    {
     "name": "stdout",
     "output_type": "stream",
     "text": [
      "Доля пользователей, пересекающихся между группами A\\B теста: 0.0 %\n"
     ]
    }
   ],
   "source": [
    "data_ab_users_a = data_ab_users.query ('ab_test == \"recommender_system_test\" & group == \"A\"')\n",
    "data_ab_users_b = data_ab_users.query ('ab_test == \"recommender_system_test\" & group == \"B\"')\n",
    "cross_users_ab = data_ab_users_a [data_ab_users_a ['user_id'].isin (data_ab_users_b ['user_id'])]\n",
    "cross_users_ab_ratio = round ((len (cross_users_ab) / (len (data_ab_users_a) + len (data_ab_users_b)) * 100), 2)\n",
    "print (f'Доля пользователей, пересекающихся между группами A\\B теста: {cross_users_ab_ratio} %')"
   ]
  },
  {
   "cell_type": "markdown",
   "metadata": {},
   "source": [
    "Проверим наличие пересечений с конкурирующим тестом."
   ]
  },
  {
   "cell_type": "code",
   "execution_count": 18,
   "metadata": {},
   "outputs": [
    {
     "name": "stdout",
     "output_type": "stream",
     "text": [
      "Доля пользователей, пересекающихся с конкурирующим тестом: 23.91 %\n"
     ]
    }
   ],
   "source": [
    "data_ab_users_interface = data_ab_users.query ('ab_test == \"interface_eu_test\"')\n",
    "data_ab_users_recommender = data_ab_users.query ('ab_test == \"recommender_system_test\"')\n",
    "cross_users_test = data_ab_users_recommender [data_ab_users_recommender ['user_id'].isin (data_ab_users_interface ['user_id'])]\n",
    "cross_users_test_ratio = round ((len (cross_users_test) / len (data_ab_users_recommender) * 100), 2)\n",
    "print (f'Доля пользователей, пересекающихся с конкурирующим тестом: {cross_users_test_ratio} %') "
   ]
  },
  {
   "cell_type": "markdown",
   "metadata": {},
   "source": [
    "Более 23% пользователей пересекаются между группами - это большая доля. Для принятия решения об удалении этих пользователей из анализа, проверим соответствие ожидаемого количества участников теста, а также соответствие доли участников из региона `EU`, описанных в ТЗ, с фактическими данными."
   ]
  },
  {
   "cell_type": "markdown",
   "metadata": {},
   "source": [
    "Проверим соответствие пользователей в каждой из групп конкурирующего теста. "
   ]
  },
  {
   "cell_type": "code",
   "execution_count": 19,
   "metadata": {},
   "outputs": [
    {
     "name": "stdout",
     "output_type": "stream",
     "text": [
      "Доля пользователей interface теста из группы A, пересекающихся с нашим тестом: 12.22 %\n",
      "Доля пользователей interface теста из группы B, пересекающихся с нашим тестом: 11.68 %\n"
     ]
    }
   ],
   "source": [
    "data_ab_users_interface_a = data_ab_users_interface.query ('group == \"A\"')\n",
    "data_ab_users_interface_b = data_ab_users_interface.query ('group == \"B\"')\n",
    "\n",
    "for i, j in zip ([data_ab_users_interface_a, data_ab_users_interface_b], ['A', 'B']):\n",
    "    cross_users_test = i [i ['user_id'].isin (data_ab_users_recommender ['user_id'])]\n",
    "    cross_users_test_ratio = round ((len (cross_users_test) / len (data_ab_users_recommender) * 100), 2)\n",
    "    print (f'Доля пользователей interface теста из группы {j}, пересекающихся с нашим тестом: {cross_users_test_ratio} %') "
   ]
  },
  {
   "cell_type": "code",
   "execution_count": 20,
   "metadata": {},
   "outputs": [
    {
     "name": "stdout",
     "output_type": "stream",
     "text": [
      "Количество участников теста: 6701\n",
      "Доля участников из региона EU: 15.0 %\n"
     ]
    }
   ],
   "source": [
    "print ('Количество участников теста:', len (data_ab_users_recommender))\n",
    "print ('Доля участников из региона EU:', round (len (data_ab_users_recommender [data_ab_users_recommender ['user_id'].isin (data_new_users ['user_id'])]) / len (data_new_users) * 100, 2), '%')"
   ]
  },
  {
   "cell_type": "markdown",
   "metadata": {},
   "source": [
    "Учитывая то, что результаты теста фиксируются по собранным данным без учёта последних 5-и дней, от пересекающихся пользователей можно избавиться."
   ]
  },
  {
   "cell_type": "code",
   "execution_count": 21,
   "metadata": {},
   "outputs": [],
   "source": [
    "data_ab_users_recommender = data_ab_users_recommender [data_ab_users_recommender ['user_id'].isin (data_ab_users_interface ['user_id']) == False]"
   ]
  },
  {
   "cell_type": "markdown",
   "metadata": {},
   "source": [
    "Посмотрим на распределение пользователей по тестовым группам."
   ]
  },
  {
   "cell_type": "code",
   "execution_count": 22,
   "metadata": {
    "scrolled": false
   },
   "outputs": [
    {
     "data": {
      "image/png": "[encoded data removed]"
     },
     "metadata": {},
     "output_type": "display_data"
    }
   ],
   "source": [
    "fig_1 = px.bar (data_ab_users_recommender.groupby ('group')['user_id'].count(),\n",
    "                title = 'Распределение пользователей по тестовым группам')\n",
    "fig_1.show ('png')"
   ]
  },
  {
   "cell_type": "markdown",
   "metadata": {},
   "source": [
    "Пользователи распределены неравномерно. Количество пользователей в группе \"B\" почти на 25% меньше количества пользователей в контрольной группе."
   ]
  },
  {
   "cell_type": "markdown",
   "metadata": {},
   "source": [
    "Объединим три датасета в один по идентификатеру `user_id`, убрав лишние столбцы. Корректные временные промежутки и регион уже сохранены в соответствующих датасетах."
   ]
  },
  {
   "cell_type": "code",
   "execution_count": 23,
   "metadata": {},
   "outputs": [
    {
     "data": {
      "text/html": [
       "<div>\n",
       "<style scoped>\n",
       "    .dataframe tbody tr th:only-of-type {\n",
       "        vertical-align: middle;\n",
       "    }\n",
       "\n",
       "    .dataframe tbody tr th {\n",
       "        vertical-align: top;\n",
       "    }\n",
       "\n",
       "    .dataframe thead th {\n",
       "        text-align: right;\n",
       "    }\n",
       "</style>\n",
       "<table border=\"1\" class=\"dataframe\">\n",
       "  <thead>\n",
       "    <tr style=\"text-align: right;\">\n",
       "      <th></th>\n",
       "      <th>user_id</th>\n",
       "      <th>group</th>\n",
       "      <th>first_date</th>\n",
       "      <th>device</th>\n",
       "      <th>event_dt</th>\n",
       "      <th>event_name</th>\n",
       "      <th>details</th>\n",
       "      <th>life</th>\n",
       "    </tr>\n",
       "  </thead>\n",
       "  <tbody>\n",
       "    <tr>\n",
       "      <th>915</th>\n",
       "      <td>13805E998FE5D7B8</td>\n",
       "      <td>A</td>\n",
       "      <td>2020-12-20</td>\n",
       "      <td>PC</td>\n",
       "      <td>2020-12-20 13:53:13</td>\n",
       "      <td>purchase</td>\n",
       "      <td>9.99</td>\n",
       "      <td>0</td>\n",
       "    </tr>\n",
       "    <tr>\n",
       "      <th>17234</th>\n",
       "      <td>4E5468B5BBE458DE</td>\n",
       "      <td>A</td>\n",
       "      <td>2020-12-14</td>\n",
       "      <td>PC</td>\n",
       "      <td>2020-12-16 01:59:51</td>\n",
       "      <td>product_page</td>\n",
       "      <td>NaN</td>\n",
       "      <td>2</td>\n",
       "    </tr>\n",
       "    <tr>\n",
       "      <th>7915</th>\n",
       "      <td>92EFA54F7198BC87</td>\n",
       "      <td>B</td>\n",
       "      <td>2020-12-08</td>\n",
       "      <td>Android</td>\n",
       "      <td>2020-12-16 10:12:01</td>\n",
       "      <td>product_page</td>\n",
       "      <td>NaN</td>\n",
       "      <td>8</td>\n",
       "    </tr>\n",
       "    <tr>\n",
       "      <th>4640</th>\n",
       "      <td>E2F9D9C5F177CBE9</td>\n",
       "      <td>B</td>\n",
       "      <td>2020-12-18</td>\n",
       "      <td>Android</td>\n",
       "      <td>2020-12-18 05:18:01</td>\n",
       "      <td>login</td>\n",
       "      <td>NaN</td>\n",
       "      <td>0</td>\n",
       "    </tr>\n",
       "    <tr>\n",
       "      <th>2250</th>\n",
       "      <td>7D8B4A3F6C824DC0</td>\n",
       "      <td>A</td>\n",
       "      <td>2020-12-17</td>\n",
       "      <td>iPhone</td>\n",
       "      <td>2020-12-17 22:03:21</td>\n",
       "      <td>product_page</td>\n",
       "      <td>NaN</td>\n",
       "      <td>0</td>\n",
       "    </tr>\n",
       "  </tbody>\n",
       "</table>\n",
       "</div>"
      ],
      "text/plain": [
       "                user_id group first_date   device            event_dt  \\\n",
       "915    13805E998FE5D7B8     A 2020-12-20       PC 2020-12-20 13:53:13   \n",
       "17234  4E5468B5BBE458DE     A 2020-12-14       PC 2020-12-16 01:59:51   \n",
       "7915   92EFA54F7198BC87     B 2020-12-08  Android 2020-12-16 10:12:01   \n",
       "4640   E2F9D9C5F177CBE9     B 2020-12-18  Android 2020-12-18 05:18:01   \n",
       "2250   7D8B4A3F6C824DC0     A 2020-12-17   iPhone 2020-12-17 22:03:21   \n",
       "\n",
       "         event_name  details  life  \n",
       "915        purchase     9.99     0  \n",
       "17234  product_page      NaN     2  \n",
       "7915   product_page      NaN     8  \n",
       "4640          login      NaN     0  \n",
       "2250   product_page      NaN     0  "
      ]
     },
     "execution_count": 23,
     "metadata": {},
     "output_type": "execute_result"
    }
   ],
   "source": [
    "data_merge = data_ab_users_recommender.merge (data_new_users, on = 'user_id', how = 'inner')\n",
    "data_merge = data_merge.merge (data_ab_events, on = 'user_id', how = 'inner')\n",
    "data_merge = data_merge.drop (['ab_test', 'region'], axis = 1)\n",
    "data_merge ['life'] = pd.DatetimeIndex (data_merge ['event_dt']).day - pd.DatetimeIndex (data_merge ['first_date']).day\n",
    "data_merge = data_merge.query ('life <= 14')\n",
    "data_merge.sample (5)"
   ]
  },
  {
   "cell_type": "markdown",
   "metadata": {},
   "source": [
    "**Вывод**\n",
    "\n",
    "A\\B тест был проведён во время новогодних праздников параллельно с проведением новогодней маркетинговой кампании и другого теста, частично затрагивающего тех же пользователей. Это повлияло как на размер выборочных групп, так и на их соотношение. После очистки данных количество пользователей, принимающих участие в тестировании, составило 5099 человек - это примерно 12% от количества новых пользователей из региона `EU`."
   ]
  },
  {
   "cell_type": "markdown",
   "metadata": {},
   "source": [
    "## Исследовательский анализ данных\n",
    "### Распределение количества событий на пользователя по группам"
   ]
  },
  {
   "cell_type": "markdown",
   "metadata": {},
   "source": [
    "Проверим распределение количества событий на одного пользователя среди двух групп."
   ]
  },
  {
   "cell_type": "code",
   "execution_count": 24,
   "metadata": {},
   "outputs": [
    {
     "data": {
      "image/png": "[encoded data removed]"
     },
     "metadata": {},
     "output_type": "display_data"
    },
    {
     "data": {
      "text/plain": [
       "group\n",
       "A    6.956679\n",
       "B    5.493130\n",
       "Name: event_dt, dtype: float64"
      ]
     },
     "metadata": {},
     "output_type": "display_data"
    }
   ],
   "source": [
    "data_show = data_merge.groupby (['group', 'user_id'])['event_dt'].count().reset_index()\n",
    "\n",
    "fig = go.Figure()\n",
    "for i, j in zip ([data_show.query ('group == \"A\"'), data_show.query ('group == \"B\"')], ['Группа A', 'Группа B']):\n",
    "\n",
    "    fig.add_trace (go.Histogram (x = i ['event_dt'],\n",
    "                                 name = j,\n",
    "                                 histnorm = 'probability density',\n",
    "                                 nbinsx = 10))\n",
    "\n",
    "fig.update_layout (barmode = 'overlay',\n",
    "                   title_text = 'Распределение количества событий на одного пользователя среди двух групп',\n",
    "                   height = 600,\n",
    "                   width = 1000)\n",
    "fig.update_traces (opacity = 0.5)\n",
    "fig.show ('png')\n",
    "\n",
    "display (data_show.groupby ('group')['event_dt'].mean())"
   ]
  },
  {
   "cell_type": "markdown",
   "metadata": {},
   "source": [
    "**Вывод:** Количество событий на пользователя распределено неравномерно. Пользователи группы `B` совершали чаще до 4 событий, но в среднем, пользователи группы `B` совершали меньше событий."
   ]
  },
  {
   "cell_type": "markdown",
   "metadata": {},
   "source": [
    "### Распределение числа событий в выборках по дням"
   ]
  },
  {
   "cell_type": "markdown",
   "metadata": {},
   "source": [
    "Добавим в датасет столбец с номером дня, когда произошло событие. Построим распределение."
   ]
  },
  {
   "cell_type": "code",
   "execution_count": 25,
   "metadata": {},
   "outputs": [
    {
     "data": {
      "image/png": "[encoded data removed]"
     },
     "metadata": {},
     "output_type": "display_data"
    }
   ],
   "source": [
    "data_merge ['event_day'] = pd.DatetimeIndex (data_merge ['event_dt']).day\n",
    "fig = px.bar (data_merge.groupby (['group', 'event_day'])['event_dt'].count().reset_index(),\n",
    "              x = 'event_day',\n",
    "              y = 'event_dt',\n",
    "              color = 'group',\n",
    "              title = 'Распределение числа событий в выборках по дням',\n",
    "              height = 600,\n",
    "              width = 1000)\n",
    "fig.show ('png')"
   ]
  },
  {
   "cell_type": "markdown",
   "metadata": {},
   "source": [
    "**Вывод:** Активность группы \"А\" намного больше активности группы \"B\". Начиная с 14 декабря (спустя неделю после начала A\\B теста) активность в группе \"A\" значительно выросла, а активность группы \"B\" примерно осталась на том же уровне. Пик активности пришёлся на 21 декабря (1442 события в группе \"А\" и 308 событий в группе \"B\". Проверим также распределение пользователей по `first_date`."
   ]
  },
  {
   "cell_type": "code",
   "execution_count": 26,
   "metadata": {},
   "outputs": [
    {
     "data": {
      "image/png": "[encoded data removed]"
     },
     "metadata": {},
     "output_type": "display_data"
    }
   ],
   "source": [
    "fig = px.bar (data_merge.groupby ('first_date')['user_id'].count(),\n",
    "              title = 'Набор новых пользователей по дням',\n",
    "              height = 600,\n",
    "              width = 1000)\n",
    "fig.show ('png')"
   ]
  },
  {
   "cell_type": "markdown",
   "metadata": {},
   "source": [
    "С 14-го числа количество клиентов резко выросло."
   ]
  },
  {
   "cell_type": "markdown",
   "metadata": {},
   "source": [
    "###  Изменение конверсии в воронке в выборках на разных этапах"
   ]
  },
  {
   "cell_type": "markdown",
   "metadata": {},
   "source": [
    "Создадим сводную таблицу для визуализации воронки продаж."
   ]
  },
  {
   "cell_type": "code",
   "execution_count": 27,
   "metadata": {},
   "outputs": [
    {
     "data": {
      "image/png": "[encoded data removed]"
     },
     "metadata": {},
     "output_type": "display_data"
    }
   ],
   "source": [
    "data_merge_pivot = pd.pivot_table (data_merge,\n",
    "                                   index = 'event_name',\n",
    "                                   columns = 'group',\n",
    "                                   values = 'user_id',\n",
    "                                   aggfunc = 'nunique').reset_index()\n",
    "\n",
    "data_merge_pivot ['perc_a'] = round (data_merge_pivot ['A'] / data_merge_pivot.loc [0, 'A'] * 100, 2)\n",
    "data_merge_pivot ['perc_b'] = round (data_merge_pivot ['B'] / data_merge_pivot.loc [0, 'B'] * 100, 2)\n",
    "\n",
    "# Функиця для ранжирования событий в воронке\n",
    "def event_rank (event_name):\n",
    "    if event_name == 'login':\n",
    "        rank_value = 1\n",
    "    elif event_name == 'product_page':\n",
    "        rank_value = 2\n",
    "    elif event_name == 'product_cart':\n",
    "        rank_value = 3\n",
    "    else:\n",
    "        rank_value = 4\n",
    "    return rank_value\n",
    "\n",
    "data_merge_pivot ['rank'] = data_merge_pivot ['event_name'].apply (event_rank)\n",
    "data_merge_pivot = data_merge_pivot.sort_values (by = 'rank')\n",
    "\n",
    "fig = go.Figure()\n",
    "\n",
    "fig.add_trace (go.Funnel (name = 'Group A',\n",
    "                          x = data_merge_pivot ['perc_a'],\n",
    "                          y = data_merge_pivot ['event_name']))\n",
    "\n",
    "fig.add_trace (go.Funnel (name = 'Group B',\n",
    "                          x = data_merge_pivot ['perc_b'],\n",
    "                          y = data_merge_pivot ['event_name']))\n",
    "\n",
    "fig.update_layout (title_text = 'Изменение конверсии в воронке продаж для двух групп',\n",
    "                   height = 600,\n",
    "                   width = 1000)\n",
    "\n",
    "fig.show ('png')"
   ]
  },
  {
   "cell_type": "markdown",
   "metadata": {},
   "source": [
    "**Вывод:** Воронка показывает неравномерное распределение клиентов между двумя группами. В целом конверсия группы \"B\" стабильно хуже, чем конверсия группы \"A\". При этом, судя по воронке, клиенты могут купить товар в обход корзины, т.к. мы имеем большее количество клиентов с покупкой, чем клиентов, зашедших на станицу с корзиной."
   ]
  },
  {
   "cell_type": "markdown",
   "metadata": {},
   "source": [
    "## Оценка результатов A/B-тестирования\n",
    "### Создание расчётных функций для анализа"
   ]
  },
  {
   "cell_type": "markdown",
   "metadata": {},
   "source": [
    "Ожидаемый эффект A\\B теста, согласно ТЗ: за 14 дней с момента регистрации в системе пользователи покажут улучшение каждой метрики не менее, чем на 10%.\n",
    "\n",
    "Напишем функцию для расчёта кумулятивных значений."
   ]
  },
  {
   "cell_type": "code",
   "execution_count": 28,
   "metadata": {},
   "outputs": [],
   "source": [
    "days_and_groups = data_merge [['event_day', 'group']].drop_duplicates().sort_values (by = 'event_day')\n",
    "\n",
    "def cumulative (data, column, agg_func, col_name):\n",
    "    \n",
    "    result = days_and_groups.apply (lambda x: data [np.logical_and (data ['event_day'] <= x ['event_day'],\n",
    "                                                                    data ['group'] == x ['group'])] \\\n",
    "                            .agg ({'event_day': 'max',\n",
    "                                   'group': 'max',\n",
    "                                   column: agg_func}), axis = 1) \\\n",
    "                            .sort_values (by = ['event_day', 'group']) \\\n",
    "                            .rename ({column: col_name}, axis = 1)\n",
    "    return result"
   ]
  },
  {
   "cell_type": "markdown",
   "metadata": {},
   "source": [
    "Напишем функци для расчёта конверсии по кумулятивным значениям."
   ]
  },
  {
   "cell_type": "code",
   "execution_count": 29,
   "metadata": {},
   "outputs": [],
   "source": [
    "def conversion (column):\n",
    "    data_login = data_merge.query ('event_name == \"login\"')\n",
    "    data_col = data_merge.query ('event_name == @column')\n",
    "\n",
    "    data_visitors = cumulative (data_login, 'user_id', 'nunique', 'visitors')\n",
    "    data_orders = cumulative (data_col, 'user_id', 'nunique', 'orders')\n",
    "\n",
    "    data_conversion = data_visitors.merge (data_orders, on = ['event_day', 'group'])\n",
    "    data_conversion ['conversion'] = round (data_conversion ['orders'] / data_conversion ['visitors'], 2)\n",
    "    \n",
    "    data_conversion_a = data_conversion.query ('group == \"A\"')\n",
    "    data_conversion_b = data_conversion.query ('group == \"B\"')\n",
    "    data_conversion_merge = data_conversion_a.merge (data_conversion_b, on = 'event_day', suffixes = ['_a', '_b'])\n",
    "    data_conversion_merge ['relative_conversion'] = (data_conversion_merge ['conversion_b'] / data_conversion_merge ['conversion_a']) - 1\n",
    "    \n",
    "    return data_conversion, data_conversion_merge"
   ]
  },
  {
   "cell_type": "markdown",
   "metadata": {},
   "source": [
    "Напишем функцию для визуализации линейных графиков в сравнении по двум группам."
   ]
  },
  {
   "cell_type": "code",
   "execution_count": 30,
   "metadata": {},
   "outputs": [],
   "source": [
    "def show_line (data_1, data_2, y_value_1, y_value_2, title_value_1, title_value_2):\n",
    "    \n",
    "    fig_1 = px.line (data_1,\n",
    "                     x = 'event_day',\n",
    "                     y = y_value_1,\n",
    "                     color = 'group',\n",
    "                     title = title_value_1,\n",
    "                     height = 600,\n",
    "                     width = 1000)\n",
    "\n",
    "    fig_2 = px.line (data_2,\n",
    "                     x = 'event_day',\n",
    "                     y = y_value_2,\n",
    "                     title = title_value_2,\n",
    "                     height = 600,\n",
    "                     width = 1000)\n",
    "    \n",
    "    fig_2.add_hline (y = 0, line_dash = 'dot')\n",
    "     \n",
    "    fig_1.show ('png')\n",
    "    fig_2.show ('png')"
   ]
  },
  {
   "cell_type": "markdown",
   "metadata": {},
   "source": [
    "### Анализ конверсии просмотра товара"
   ]
  },
  {
   "cell_type": "code",
   "execution_count": 31,
   "metadata": {},
   "outputs": [
    {
     "data": {
      "image/png": "[encoded data removed]"
     },
     "metadata": {},
     "output_type": "display_data"
    },
    {
     "data": {
      "image/png": "[encoded data removed]"
     },
     "metadata": {},
     "output_type": "display_data"
    }
   ],
   "source": [
    "conversion_product_page, conversion_product_page_merge = conversion ('product_page')\n",
    "\n",
    "show_line (conversion_product_page,\n",
    "           conversion_product_page_merge,\n",
    "           'conversion',\n",
    "           'relative_conversion',\n",
    "           'Сравнение кумулятивной конверсии product_page',\n",
    "           'График относительного изменения кумулятивной конверсии product_page группы \"B\" к группе \"A\"')"
   ]
  },
  {
   "cell_type": "markdown",
   "metadata": {},
   "source": [
    "**Вывод:** Конверсия группы \"B\" с самого первого дня была ниже, чем в группе \"A\". Динамика в обеих группах выровнялась только после 20-го декабря, разница между группами составила 9%. Ожидания согласно ТЗ не оправдались."
   ]
  },
  {
   "cell_type": "markdown",
   "metadata": {},
   "source": [
    "### Анализ конверсии просмотра корзины"
   ]
  },
  {
   "cell_type": "code",
   "execution_count": 32,
   "metadata": {},
   "outputs": [
    {
     "data": {
      "image/png": "[encoded data removed]"
     },
     "metadata": {},
     "output_type": "display_data"
    },
    {
     "data": {
      "image/png": "[encoded data removed]"
     },
     "metadata": {},
     "output_type": "display_data"
    }
   ],
   "source": [
    "conversion_product_cart, conversion_product_cart_merge = conversion ('product_cart')\n",
    "show_line (conversion_product_cart,\n",
    "           conversion_product_cart_merge,\n",
    "           'conversion',\n",
    "           'relative_conversion',\n",
    "           'Сравнение кумулятивной конверсии product_cart',\n",
    "           'График относительного изменения кумулятивной конверсии product_cart группы \"B\" к группе \"A\"')"
   ]
  },
  {
   "cell_type": "markdown",
   "metadata": {},
   "source": [
    "**Вывод:** Конверсия в группе \"B\" падала до 13 декабря, после чего начала увеличиваться (до 19 декабря), в то время как конверсия группы \"A\" активно росла до 19 декабря включительно. Относительные изменения между группами выровнялись после 17 декабря, разница между группами составила 2%. Ожидания согласно ТЗ не оправдались."
   ]
  },
  {
   "cell_type": "markdown",
   "metadata": {},
   "source": [
    "### Анализ конверсии покупок"
   ]
  },
  {
   "cell_type": "code",
   "execution_count": 33,
   "metadata": {},
   "outputs": [
    {
     "data": {
      "image/png": "[encoded data removed]"
     },
     "metadata": {},
     "output_type": "display_data"
    },
    {
     "data": {
      "image/png": "[encoded data removed]"
     },
     "metadata": {},
     "output_type": "display_data"
    }
   ],
   "source": [
    "conversion_purchase, conversion_purchase_merge = conversion ('purchase')\n",
    "show_line (conversion_purchase,\n",
    "           conversion_purchase_merge,\n",
    "           'conversion',\n",
    "           'relative_conversion',\n",
    "           'Сравнение кумулятивной конверсии purchase',\n",
    "           'График относительного изменения кумулятивной конверсии purchase группы \"B\" к группе \"A\"')"
   ]
  },
  {
   "cell_type": "markdown",
   "metadata": {},
   "source": [
    "**Вывод:** До 15 декабря конверсия группы \"B\" была выше, чем у группы \"A\", однако, после 15 декабря ситуация изменилась, и после выравнивания изменений между группами, разница составила 3%.  Ожидания согласно ТЗ не оправдались."
   ]
  },
  {
   "cell_type": "markdown",
   "metadata": {},
   "source": [
    "### Анализ выручки"
   ]
  },
  {
   "cell_type": "markdown",
   "metadata": {},
   "source": [
    "Для расчёта выручки воспользуемся написанными ранее функциями, заменив способ расчёта относительных значений."
   ]
  },
  {
   "cell_type": "code",
   "execution_count": 34,
   "metadata": {},
   "outputs": [
    {
     "data": {
      "image/png": "[encoded data removed]"
     },
     "metadata": {},
     "output_type": "display_data"
    },
    {
     "data": {
      "image/png": "[encoded data removed]"
     },
     "metadata": {},
     "output_type": "display_data"
    }
   ],
   "source": [
    "purchase_detail_cumulative = cumulative (data_merge.query ('event_name == \"purchase\"'),\n",
    "                                         'details',\n",
    "                                         'sum',\n",
    "                                         'purchase_sum')\n",
    "\n",
    "purchase_detail_cumulative_a = purchase_detail_cumulative.query ('group == \"A\"')\n",
    "purchase_detail_cumulative_b = purchase_detail_cumulative.query ('group == \"B\"')\n",
    "\n",
    "purchase_detail_cumulative_merge = purchase_detail_cumulative_a.merge (purchase_detail_cumulative_b,\n",
    "                                                                       on = 'event_day',\n",
    "                                                                       suffixes = ['_a', '_b'])\n",
    "\n",
    "purchase_detail_cumulative_merge ['relative_purchase'] = (purchase_detail_cumulative_merge ['purchase_sum_b'] / purchase_detail_cumulative_merge ['purchase_sum_a']) - 1\n",
    "\n",
    "show_line (purchase_detail_cumulative,\n",
    "           purchase_detail_cumulative_merge,\n",
    "           'purchase_sum',\n",
    "           'relative_purchase',\n",
    "           'Сравнение кумулятивной выручки',\n",
    "           'График относительного изменения кумулятивной выручки группы \"B\" к группе \"A\"')"
   ]
  },
  {
   "cell_type": "markdown",
   "metadata": {},
   "source": [
    "**Вывод:** По итогу A/B теста выручка группы \"B\" в 4 раза меньше группы \"A\". Однако, причиной этому является неравномерное соотношение количества участников в группе. Для более наглядного понимания соотношения динамики получения ежедневной выручки посмотрим линейный график по процентному изменению выручки в каждой группе за каждый день, и сравним их между собой."
   ]
  },
  {
   "cell_type": "code",
   "execution_count": 35,
   "metadata": {},
   "outputs": [
    {
     "data": {
      "image/png": "[encoded data removed]"
     },
     "metadata": {},
     "output_type": "display_data"
    }
   ],
   "source": [
    "purchase_detail_cumulative_merge ['percent_a'] = purchase_detail_cumulative_merge ['purchase_sum_a'].pct_change()\n",
    "purchase_detail_cumulative_merge ['percent_b'] = purchase_detail_cumulative_merge ['purchase_sum_b'].pct_change()\n",
    "\n",
    "fig = px.line (purchase_detail_cumulative_merge,\n",
    "               x = 'event_day',\n",
    "               y = ['percent_a', 'percent_b'],\n",
    "               title = 'Изменение выручки в процентном соотношении каждый день',\n",
    "               height = 600,\n",
    "               width = 1000)\n",
    "fig.show ('png')"
   ]
  },
  {
   "cell_type": "markdown",
   "metadata": {},
   "source": [
    "**Вывод:** Несмотря на большую разницу в выручке между группами, динамика процентного соотношения внутри групп примерно одинаковая. Также следует отметить, что чем дольше шёл A/B тест, тем меньше становился прирост ежедневной выручки."
   ]
  },
  {
   "cell_type": "markdown",
   "metadata": {},
   "source": [
    "### Проверка статистической разницы долей z-критерием"
   ]
  },
  {
   "cell_type": "markdown",
   "metadata": {},
   "source": [
    "Оценим статистическую значимость разницы долей, для пользователей, совершивших значимые действия `product_page`, `product_cart` и `purchase`. Напишем функцию для проверки гипотезы о равенстве долей."
   ]
  },
  {
   "cell_type": "code",
   "execution_count": 36,
   "metadata": {},
   "outputs": [],
   "source": [
    "def z_test (tag):\n",
    "    \n",
    "    data_pivot = pd.pivot_table (data_merge.query ('event_name == @tag or event_name == \"login\"'),\n",
    "                                 index = 'event_name',\n",
    "                                 columns = 'group',\n",
    "                                 values = 'user_id',\n",
    "                                 aggfunc = 'nunique').sort_values (by = 'A', ascending = False).reset_index()\n",
    "                   \n",
    "    alpha = .05\n",
    "    \n",
    "    successes = np.array ([data_pivot.loc [1, 'A'], data_pivot.loc [1, 'B']])\n",
    "    trials = np.array ([data_pivot.loc [0, 'A'], data_pivot.loc [0, 'B']])\n",
    "    \n",
    "    p1 = successes [0] / trials [0]\n",
    "    p2 = successes [1] / trials [1]\n",
    "    \n",
    "    print(successes [0], successes [1], trials [0], trials [1])\n",
    "    \n",
    "    p_combined = (successes [0] + successes [1]) / (trials [0] + trials [1])\n",
    "    \n",
    "    difference = p1 - p2\n",
    "    \n",
    "    z_value = difference / mth.sqrt (p_combined * (1 - p_combined) * (1 / trials [0] + 1 / trials [1]))\n",
    "    \n",
    "    distr = st.norm (0, 1)\n",
    "    \n",
    "    p_value = (1 - distr.cdf (abs (z_value))) * 2\n",
    "    \n",
    "    print ('p-значение: ', p_value)\n",
    "\n",
    "    if p_value < alpha:\n",
    "        print ('Отвергаем нулевую гипотезу')\n",
    "    else:\n",
    "        print ('Не получилось отвергнуть нулевую гипотезу') "
   ]
  },
  {
   "cell_type": "markdown",
   "metadata": {},
   "source": [
    "Сформулируем нулевую и альтернативную гипотезы:\n",
    "\n",
    "**H0:** Среднее количество пользователей совершивших значимое событие в группах A и B одинаковое\n",
    "\n",
    "**H1:** Среднее количество пользователей совершивших значимое событие в группах A и B различается"
   ]
  },
  {
   "cell_type": "code",
   "execution_count": 37,
   "metadata": {},
   "outputs": [
    {
     "name": "stdout",
     "output_type": "stream",
     "text": [
      "Результат проверки статистической гипотезы о равенстве долей по признаку product_page\n",
      "1265 367 1939 654\n",
      "p-значение:  2.9463911899618722e-05\n",
      "Отвергаем нулевую гипотезу\n",
      "\n",
      "Результат проверки статистической гипотезы о равенстве долей по признаку product_cart\n",
      "589 184 1939 654\n",
      "p-значение:  0.2784249853300258\n",
      "Не получилось отвергнуть нулевую гипотезу\n",
      "\n",
      "Результат проверки статистической гипотезы о равенстве долей по признаку purchase\n",
      "613 191 1939 654\n",
      "p-значение:  0.24933015751802245\n",
      "Не получилось отвергнуть нулевую гипотезу\n",
      "\n"
     ]
    }
   ],
   "source": [
    "for i in ['product_page', 'product_cart', 'purchase']:\n",
    "    print (f'Результат проверки статистической гипотезы о равенстве долей по признаку {i}')\n",
    "    z_test (i)\n",
    "    print()"
   ]
  },
  {
   "cell_type": "markdown",
   "metadata": {},
   "source": [
    "**Вывод:** Имеется статистически значимое различие между долями конверсии пользователей по признаку `product_page`. Признаки `product_cart` и `purchase` по конверсии между группами различаются не критично."
   ]
  },
  {
   "cell_type": "markdown",
   "metadata": {},
   "source": [
    "## Общие выводы и рекомендации"
   ]
  },
  {
   "cell_type": "markdown",
   "metadata": {},
   "source": [
    "**Оценка проведения A/B теста:**\n",
    "\n",
    "* Дата остановки теста, указанная в ТЗ, оказалась на 5 дней больше, чем дата последней записи в датасете о событиях пользователей.\n",
    "* В период проведения A\\B теста проводились две маркетинговые кампании, одна из которых (Christmas&New Year Promo) проходила среди пользователей из региона EU, имеющими отношение к нашему A\\B тесту. Это могло повлиять на активность пользователей при приведении теста.\n",
    "* Доля пользователей, пересекающихся с пользователями из группы \"B\" в конкурирующем тесте (interface_eu_test) составляет 11.68 %.\n",
    "* Фактическое количество участников теста превышает ожидаемые показатели.\n",
    "* Пользователи распределены неравномерно между двумя группами. Количество пользователей в группе \"B\" почти на 25% меньше количества пользователей в контрольной группе.\n",
    "\n",
    "**Анализ результатов A/B теста:**\n",
    "\n",
    "* Активность группы \"А\" намного больше активности группы \"B\". Начиная с 14 декабря (спустя неделю после начала A\\B теста) активность в группе \"A\" значительно выросла, а активность группы \"B\" примерно осталась на том же уровне. Пик активности пришёлся на 21 декабря (1442 события в группе \"А\" и 308 событий в группе \"B\".\n",
    "* В целом конверсия группы \"B\" стабильно хуже, чем конверсия группы \"A\". При этом, судя по воронке продаж, клиенты могут купить товар в обход корзины (покупка в один клик).\n",
    "* Ожидаемый эффект A\\B теста не подтвердился. По всем трём ключевым показателям (product_page, product_cart, purchase) конверсия пользователей в группе B стабильно хуже конверсии контрольной группы.\n",
    "* Чем дольше шёл A/B тест, тем меньше становился прирост ежедневной выручки.\n",
    "* Имеется статистически значимое различие между долями конверсии пользователей по признаку product_page\n",
    "\n",
    "**Рекомендации:**\n",
    "\n",
    "Необходимо перезапустить A\\B тест, учитывая конркурирующие тесты, праздничные дни и маркетинговую активность. Также для корректных результатов теста необходимо добиться равномерного распределения пользователей в обеих группах."
   ]
  }
 ],
 "metadata": {
  "ExecuteTimeLog": [
   {
    "duration": 384,
    "start_time": "2023-04-28T07:52:44.589Z"
   },
   {
    "duration": 146,
    "start_time": "2023-04-28T07:54:19.922Z"
   },
   {
    "duration": 41,
    "start_time": "2023-04-28T07:54:25.671Z"
   },
   {
    "duration": 42,
    "start_time": "2023-04-28T07:54:54.432Z"
   },
   {
    "duration": 264,
    "start_time": "2023-04-28T07:59:48.738Z"
   },
   {
    "duration": 818,
    "start_time": "2023-04-28T08:10:08.479Z"
   },
   {
    "duration": 653,
    "start_time": "2023-04-28T08:10:17.469Z"
   },
   {
    "duration": 122,
    "start_time": "2023-04-28T08:19:35.285Z"
   },
   {
    "duration": 55,
    "start_time": "2023-04-28T08:19:41.570Z"
   },
   {
    "duration": 5,
    "start_time": "2023-04-28T08:26:19.189Z"
   },
   {
    "duration": 93,
    "start_time": "2023-04-28T08:29:49.334Z"
   },
   {
    "duration": 18,
    "start_time": "2023-04-28T08:30:11.310Z"
   },
   {
    "duration": 1388,
    "start_time": "2023-04-28T08:31:40.058Z"
   },
   {
    "duration": 17,
    "start_time": "2023-04-28T08:31:58.827Z"
   },
   {
    "duration": 16,
    "start_time": "2023-04-28T08:32:01.963Z"
   },
   {
    "duration": 8,
    "start_time": "2023-04-28T08:32:51.006Z"
   },
   {
    "duration": 12,
    "start_time": "2023-04-28T08:32:56.178Z"
   },
   {
    "duration": 19,
    "start_time": "2023-04-28T08:32:58.702Z"
   },
   {
    "duration": 4,
    "start_time": "2023-04-28T08:33:35.461Z"
   },
   {
    "duration": 10,
    "start_time": "2023-04-28T08:33:40.617Z"
   },
   {
    "duration": 10,
    "start_time": "2023-04-28T08:33:46.544Z"
   },
   {
    "duration": 10,
    "start_time": "2023-04-28T08:33:50.162Z"
   },
   {
    "duration": 7,
    "start_time": "2023-04-28T08:33:52.281Z"
   },
   {
    "duration": 10,
    "start_time": "2023-04-28T08:34:07.511Z"
   },
   {
    "duration": 3188,
    "start_time": "2023-04-28T08:38:02.937Z"
   },
   {
    "duration": 166,
    "start_time": "2023-04-28T08:38:20.603Z"
   },
   {
    "duration": 4,
    "start_time": "2023-04-28T08:38:46.981Z"
   },
   {
    "duration": 12,
    "start_time": "2023-04-28T08:38:53.539Z"
   },
   {
    "duration": 422,
    "start_time": "2023-04-28T08:39:02.300Z"
   },
   {
    "duration": 49,
    "start_time": "2023-04-28T08:39:02.724Z"
   },
   {
    "duration": 103,
    "start_time": "2023-04-28T08:39:02.775Z"
   },
   {
    "duration": 679,
    "start_time": "2023-04-28T08:39:02.879Z"
   },
   {
    "duration": 47,
    "start_time": "2023-04-28T08:39:03.559Z"
   },
   {
    "duration": 158,
    "start_time": "2023-04-28T08:39:03.607Z"
   },
   {
    "duration": 10,
    "start_time": "2023-04-28T08:39:03.767Z"
   },
   {
    "duration": 60,
    "start_time": "2023-04-28T08:41:10.780Z"
   },
   {
    "duration": 20,
    "start_time": "2023-04-28T08:41:53.393Z"
   },
   {
    "duration": 33,
    "start_time": "2023-04-28T08:42:06.065Z"
   },
   {
    "duration": 27,
    "start_time": "2023-04-28T08:48:43.981Z"
   },
   {
    "duration": 285,
    "start_time": "2023-04-28T08:55:39.617Z"
   },
   {
    "duration": 9,
    "start_time": "2023-04-28T09:07:51.111Z"
   },
   {
    "duration": 11,
    "start_time": "2023-04-28T09:08:43.901Z"
   },
   {
    "duration": 19,
    "start_time": "2023-04-28T09:09:43.039Z"
   },
   {
    "duration": 52,
    "start_time": "2023-04-28T09:10:51.106Z"
   },
   {
    "duration": 87,
    "start_time": "2023-04-28T09:17:40.461Z"
   },
   {
    "duration": 1452,
    "start_time": "2023-04-28T09:17:58.379Z"
   },
   {
    "duration": 6,
    "start_time": "2023-04-28T09:18:44.218Z"
   },
   {
    "duration": 18,
    "start_time": "2023-04-28T09:21:10.703Z"
   },
   {
    "duration": 16,
    "start_time": "2023-04-28T09:21:20.639Z"
   },
   {
    "duration": 9,
    "start_time": "2023-04-28T09:21:45.088Z"
   },
   {
    "duration": 8,
    "start_time": "2023-04-28T09:25:23.518Z"
   },
   {
    "duration": 4,
    "start_time": "2023-04-28T09:25:31.486Z"
   },
   {
    "duration": 10,
    "start_time": "2023-04-28T09:28:00.021Z"
   },
   {
    "duration": 8,
    "start_time": "2023-04-28T09:28:28.223Z"
   },
   {
    "duration": 11,
    "start_time": "2023-04-28T09:35:22.095Z"
   },
   {
    "duration": 10,
    "start_time": "2023-04-28T09:37:06.265Z"
   },
   {
    "duration": 8,
    "start_time": "2023-04-28T09:46:06.459Z"
   },
   {
    "duration": 13,
    "start_time": "2023-04-28T09:49:18.288Z"
   },
   {
    "duration": 11,
    "start_time": "2023-04-28T09:51:18.674Z"
   },
   {
    "duration": 17,
    "start_time": "2023-04-28T09:51:32.316Z"
   },
   {
    "duration": 11,
    "start_time": "2023-04-28T09:53:03.611Z"
   },
   {
    "duration": 15,
    "start_time": "2023-04-28T09:55:41.491Z"
   },
   {
    "duration": 12,
    "start_time": "2023-04-28T09:55:56.036Z"
   },
   {
    "duration": 11,
    "start_time": "2023-04-28T09:56:27.097Z"
   },
   {
    "duration": 12,
    "start_time": "2023-04-28T09:56:43.426Z"
   },
   {
    "duration": 12,
    "start_time": "2023-04-28T09:56:45.839Z"
   },
   {
    "duration": 12,
    "start_time": "2023-04-28T09:56:46.384Z"
   },
   {
    "duration": 8,
    "start_time": "2023-04-28T09:57:12.719Z"
   },
   {
    "duration": 16,
    "start_time": "2023-04-28T10:05:53.854Z"
   },
   {
    "duration": 17,
    "start_time": "2023-04-28T10:06:12.359Z"
   },
   {
    "duration": 22,
    "start_time": "2023-04-28T10:07:15.550Z"
   },
   {
    "duration": 13,
    "start_time": "2023-04-28T10:09:00.427Z"
   },
   {
    "duration": 462,
    "start_time": "2023-04-28T10:09:12.952Z"
   },
   {
    "duration": 49,
    "start_time": "2023-04-28T10:09:13.417Z"
   },
   {
    "duration": 105,
    "start_time": "2023-04-28T10:09:13.468Z"
   },
   {
    "duration": 683,
    "start_time": "2023-04-28T10:09:13.575Z"
   },
   {
    "duration": 46,
    "start_time": "2023-04-28T10:09:14.260Z"
   },
   {
    "duration": 135,
    "start_time": "2023-04-28T10:09:14.308Z"
   },
   {
    "duration": 57,
    "start_time": "2023-04-28T10:09:14.445Z"
   },
   {
    "duration": 44,
    "start_time": "2023-04-28T10:09:14.504Z"
   },
   {
    "duration": 268,
    "start_time": "2023-04-28T10:09:14.549Z"
   },
   {
    "duration": 47,
    "start_time": "2023-04-28T10:09:14.820Z"
   },
   {
    "duration": 6,
    "start_time": "2023-04-28T10:09:14.869Z"
   },
   {
    "duration": 36,
    "start_time": "2023-04-28T10:09:14.877Z"
   },
   {
    "duration": 38,
    "start_time": "2023-04-28T10:09:14.915Z"
   },
   {
    "duration": 16,
    "start_time": "2023-04-28T10:09:14.955Z"
   },
   {
    "duration": 85,
    "start_time": "2023-04-28T10:09:14.973Z"
   },
   {
    "duration": 56,
    "start_time": "2023-04-28T10:09:15.059Z"
   },
   {
    "duration": 117,
    "start_time": "2023-04-28T10:09:15.117Z"
   },
   {
    "duration": 14,
    "start_time": "2023-04-28T10:09:28.298Z"
   },
   {
    "duration": 4,
    "start_time": "2023-04-28T10:13:45.317Z"
   },
   {
    "duration": 11,
    "start_time": "2023-04-28T10:15:38.635Z"
   },
   {
    "duration": 12,
    "start_time": "2023-04-28T10:16:08.726Z"
   },
   {
    "duration": 14,
    "start_time": "2023-04-28T10:16:11.409Z"
   },
   {
    "duration": 3,
    "start_time": "2023-04-28T10:20:44.922Z"
   },
   {
    "duration": 10,
    "start_time": "2023-04-28T10:23:20.847Z"
   },
   {
    "duration": 12,
    "start_time": "2023-04-28T10:23:32.856Z"
   },
   {
    "duration": 416,
    "start_time": "2023-04-28T10:23:43.676Z"
   },
   {
    "duration": 56,
    "start_time": "2023-04-28T10:23:44.095Z"
   },
   {
    "duration": 104,
    "start_time": "2023-04-28T10:23:44.153Z"
   },
   {
    "duration": 639,
    "start_time": "2023-04-28T10:23:44.260Z"
   },
   {
    "duration": 57,
    "start_time": "2023-04-28T10:23:44.901Z"
   },
   {
    "duration": 133,
    "start_time": "2023-04-28T10:23:44.960Z"
   },
   {
    "duration": 61,
    "start_time": "2023-04-28T10:23:45.094Z"
   },
   {
    "duration": 32,
    "start_time": "2023-04-28T10:23:45.157Z"
   },
   {
    "duration": 247,
    "start_time": "2023-04-28T10:23:45.191Z"
   },
   {
    "duration": 36,
    "start_time": "2023-04-28T10:23:45.441Z"
   },
   {
    "duration": 5,
    "start_time": "2023-04-28T10:23:45.479Z"
   },
   {
    "duration": 18,
    "start_time": "2023-04-28T10:23:45.486Z"
   },
   {
    "duration": 33,
    "start_time": "2023-04-28T10:23:45.506Z"
   },
   {
    "duration": 15,
    "start_time": "2023-04-28T10:23:45.541Z"
   },
   {
    "duration": 26,
    "start_time": "2023-04-28T10:23:45.558Z"
   },
   {
    "duration": 25,
    "start_time": "2023-04-28T10:23:45.586Z"
   },
   {
    "duration": 12,
    "start_time": "2023-04-28T10:23:45.613Z"
   },
   {
    "duration": 17,
    "start_time": "2023-04-28T10:23:45.627Z"
   },
   {
    "duration": 10,
    "start_time": "2023-04-28T10:23:58.317Z"
   },
   {
    "duration": 6,
    "start_time": "2023-04-28T11:42:30.189Z"
   },
   {
    "duration": 9,
    "start_time": "2023-04-28T11:42:39.564Z"
   },
   {
    "duration": 4,
    "start_time": "2023-04-28T11:42:48.531Z"
   },
   {
    "duration": 5,
    "start_time": "2023-04-28T11:50:56.631Z"
   },
   {
    "duration": 129,
    "start_time": "2023-04-28T11:51:05.480Z"
   },
   {
    "duration": 448,
    "start_time": "2023-04-28T11:52:00.780Z"
   },
   {
    "duration": 260,
    "start_time": "2023-04-28T11:52:51.930Z"
   },
   {
    "duration": 52,
    "start_time": "2023-04-28T11:53:01.699Z"
   },
   {
    "duration": 440,
    "start_time": "2023-04-28T11:53:40.976Z"
   },
   {
    "duration": 76,
    "start_time": "2023-04-28T11:53:41.417Z"
   },
   {
    "duration": 86,
    "start_time": "2023-04-28T11:53:41.494Z"
   },
   {
    "duration": 517,
    "start_time": "2023-04-28T11:53:41.582Z"
   },
   {
    "duration": 41,
    "start_time": "2023-04-28T11:53:42.100Z"
   },
   {
    "duration": 110,
    "start_time": "2023-04-28T11:53:42.142Z"
   },
   {
    "duration": 48,
    "start_time": "2023-04-28T11:53:42.253Z"
   },
   {
    "duration": 42,
    "start_time": "2023-04-28T11:53:42.303Z"
   },
   {
    "duration": 193,
    "start_time": "2023-04-28T11:53:42.347Z"
   },
   {
    "duration": 34,
    "start_time": "2023-04-28T11:53:42.543Z"
   },
   {
    "duration": 5,
    "start_time": "2023-04-28T11:53:42.579Z"
   },
   {
    "duration": 28,
    "start_time": "2023-04-28T11:53:42.586Z"
   },
   {
    "duration": 30,
    "start_time": "2023-04-28T11:53:42.616Z"
   },
   {
    "duration": 26,
    "start_time": "2023-04-28T11:53:42.648Z"
   },
   {
    "duration": 41,
    "start_time": "2023-04-28T11:53:42.676Z"
   },
   {
    "duration": 21,
    "start_time": "2023-04-28T11:53:42.719Z"
   },
   {
    "duration": 51,
    "start_time": "2023-04-28T11:53:42.742Z"
   },
   {
    "duration": 31,
    "start_time": "2023-04-28T11:53:42.795Z"
   },
   {
    "duration": 354,
    "start_time": "2023-04-28T11:53:42.828Z"
   },
   {
    "duration": 7,
    "start_time": "2023-04-28T11:53:43.184Z"
   },
   {
    "duration": 65,
    "start_time": "2023-04-28T11:53:43.193Z"
   },
   {
    "duration": 711,
    "start_time": "2023-04-28T13:59:52.529Z"
   },
   {
    "duration": 195,
    "start_time": "2023-04-28T13:59:53.243Z"
   },
   {
    "duration": 269,
    "start_time": "2023-04-28T13:59:53.441Z"
   },
   {
    "duration": 1135,
    "start_time": "2023-04-28T13:59:53.712Z"
   },
   {
    "duration": 141,
    "start_time": "2023-04-28T13:59:54.851Z"
   },
   {
    "duration": 174,
    "start_time": "2023-04-28T13:59:54.995Z"
   },
   {
    "duration": 100,
    "start_time": "2023-04-28T13:59:55.171Z"
   },
   {
    "duration": 60,
    "start_time": "2023-04-28T13:59:55.278Z"
   },
   {
    "duration": 330,
    "start_time": "2023-04-28T13:59:55.346Z"
   },
   {
    "duration": 61,
    "start_time": "2023-04-28T13:59:55.678Z"
   },
   {
    "duration": 11,
    "start_time": "2023-04-28T13:59:55.751Z"
   },
   {
    "duration": 39,
    "start_time": "2023-04-28T13:59:55.768Z"
   },
   {
    "duration": 56,
    "start_time": "2023-04-28T13:59:55.810Z"
   },
   {
    "duration": 55,
    "start_time": "2023-04-28T13:59:55.871Z"
   },
   {
    "duration": 64,
    "start_time": "2023-04-28T13:59:55.929Z"
   },
   {
    "duration": 89,
    "start_time": "2023-04-28T13:59:55.995Z"
   },
   {
    "duration": 45,
    "start_time": "2023-04-28T13:59:56.087Z"
   },
   {
    "duration": 67,
    "start_time": "2023-04-28T13:59:56.136Z"
   },
   {
    "duration": 9,
    "start_time": "2023-04-28T13:59:56.205Z"
   },
   {
    "duration": 546,
    "start_time": "2023-04-28T13:59:56.216Z"
   },
   {
    "duration": 218,
    "start_time": "2023-04-28T14:02:31.607Z"
   },
   {
    "duration": 104,
    "start_time": "2023-04-28T14:02:37.202Z"
   },
   {
    "duration": 15,
    "start_time": "2023-04-28T14:03:31.195Z"
   },
   {
    "duration": 11,
    "start_time": "2023-04-28T14:03:48.238Z"
   },
   {
    "duration": 20,
    "start_time": "2023-04-28T14:04:36.395Z"
   },
   {
    "duration": 19,
    "start_time": "2023-04-28T14:05:22.480Z"
   },
   {
    "duration": 14,
    "start_time": "2023-04-28T14:05:27.739Z"
   },
   {
    "duration": 15,
    "start_time": "2023-04-28T14:05:39.600Z"
   },
   {
    "duration": 26,
    "start_time": "2023-04-28T14:06:31.248Z"
   },
   {
    "duration": 90,
    "start_time": "2023-04-28T14:06:55.998Z"
   },
   {
    "duration": 33,
    "start_time": "2023-04-28T14:08:10.570Z"
   },
   {
    "duration": 119,
    "start_time": "2023-04-28T14:08:41.967Z"
   },
   {
    "duration": 90,
    "start_time": "2023-04-28T14:08:46.765Z"
   },
   {
    "duration": 80,
    "start_time": "2023-04-28T14:09:16.079Z"
   },
   {
    "duration": 106,
    "start_time": "2023-04-28T14:09:55.601Z"
   },
   {
    "duration": 199,
    "start_time": "2023-04-28T14:18:50.599Z"
   },
   {
    "duration": 8,
    "start_time": "2023-04-28T14:19:51.251Z"
   },
   {
    "duration": 100,
    "start_time": "2023-04-28T14:20:16.279Z"
   },
   {
    "duration": 15,
    "start_time": "2023-04-28T14:21:56.257Z"
   },
   {
    "duration": 577,
    "start_time": "2023-04-28T14:26:46.332Z"
   },
   {
    "duration": 107,
    "start_time": "2023-04-28T14:26:46.912Z"
   },
   {
    "duration": 118,
    "start_time": "2023-04-28T14:26:47.027Z"
   },
   {
    "duration": 729,
    "start_time": "2023-04-28T14:26:47.150Z"
   },
   {
    "duration": 69,
    "start_time": "2023-04-28T14:26:47.881Z"
   },
   {
    "duration": 147,
    "start_time": "2023-04-28T14:26:47.953Z"
   },
   {
    "duration": 76,
    "start_time": "2023-04-28T14:26:48.102Z"
   },
   {
    "duration": 59,
    "start_time": "2023-04-28T14:26:48.183Z"
   },
   {
    "duration": 320,
    "start_time": "2023-04-28T14:26:48.245Z"
   },
   {
    "duration": 58,
    "start_time": "2023-04-28T14:26:48.569Z"
   },
   {
    "duration": 10,
    "start_time": "2023-04-28T14:26:48.629Z"
   },
   {
    "duration": 18,
    "start_time": "2023-04-28T14:26:48.645Z"
   },
   {
    "duration": 16,
    "start_time": "2023-04-28T14:26:48.665Z"
   },
   {
    "duration": 10,
    "start_time": "2023-04-28T14:26:48.684Z"
   },
   {
    "duration": 37,
    "start_time": "2023-04-28T14:26:48.696Z"
   },
   {
    "duration": 32,
    "start_time": "2023-04-28T14:26:48.735Z"
   },
   {
    "duration": 25,
    "start_time": "2023-04-28T14:26:48.770Z"
   },
   {
    "duration": 27,
    "start_time": "2023-04-28T14:26:48.798Z"
   },
   {
    "duration": 9,
    "start_time": "2023-04-28T14:26:48.827Z"
   },
   {
    "duration": 562,
    "start_time": "2023-04-28T14:26:48.838Z"
   },
   {
    "duration": 180,
    "start_time": "2023-04-28T14:31:56.633Z"
   },
   {
    "duration": 176,
    "start_time": "2023-04-28T14:37:00.814Z"
   },
   {
    "duration": 150,
    "start_time": "2023-04-28T14:37:14.992Z"
   },
   {
    "duration": 403,
    "start_time": "2023-04-28T14:37:41.844Z"
   },
   {
    "duration": 21,
    "start_time": "2023-04-28T14:37:44.563Z"
   },
   {
    "duration": 11,
    "start_time": "2023-04-28T14:37:47.179Z"
   },
   {
    "duration": 561,
    "start_time": "2023-04-28T14:38:31.690Z"
   },
   {
    "duration": 94,
    "start_time": "2023-04-28T14:38:32.254Z"
   },
   {
    "duration": 122,
    "start_time": "2023-04-28T14:38:32.351Z"
   },
   {
    "duration": 680,
    "start_time": "2023-04-28T14:38:32.476Z"
   },
   {
    "duration": 48,
    "start_time": "2023-04-28T14:38:33.159Z"
   },
   {
    "duration": 140,
    "start_time": "2023-04-28T14:38:33.209Z"
   },
   {
    "duration": 51,
    "start_time": "2023-04-28T14:38:33.351Z"
   },
   {
    "duration": 54,
    "start_time": "2023-04-28T14:38:33.404Z"
   },
   {
    "duration": 278,
    "start_time": "2023-04-28T14:38:33.460Z"
   },
   {
    "duration": 34,
    "start_time": "2023-04-28T14:38:33.742Z"
   },
   {
    "duration": 5,
    "start_time": "2023-04-28T14:38:33.777Z"
   },
   {
    "duration": 20,
    "start_time": "2023-04-28T14:38:33.783Z"
   },
   {
    "duration": 37,
    "start_time": "2023-04-28T14:38:33.804Z"
   },
   {
    "duration": 11,
    "start_time": "2023-04-28T14:38:33.843Z"
   },
   {
    "duration": 16,
    "start_time": "2023-04-28T14:38:33.855Z"
   },
   {
    "duration": 20,
    "start_time": "2023-04-28T14:38:33.873Z"
   },
   {
    "duration": 33,
    "start_time": "2023-04-28T14:38:33.895Z"
   },
   {
    "duration": 35,
    "start_time": "2023-04-28T14:38:33.930Z"
   },
   {
    "duration": 10,
    "start_time": "2023-04-28T14:38:33.968Z"
   },
   {
    "duration": 418,
    "start_time": "2023-04-28T14:38:33.980Z"
   },
   {
    "duration": 292,
    "start_time": "2023-04-28T14:38:34.400Z"
   },
   {
    "duration": 15,
    "start_time": "2023-04-28T14:38:34.694Z"
   },
   {
    "duration": 65,
    "start_time": "2023-04-28T14:38:34.720Z"
   },
   {
    "duration": 5,
    "start_time": "2023-04-28T14:39:45.606Z"
   },
   {
    "duration": 18,
    "start_time": "2023-04-28T14:40:18.066Z"
   },
   {
    "duration": 6,
    "start_time": "2023-04-28T14:40:32.498Z"
   },
   {
    "duration": 624,
    "start_time": "2023-04-28T14:48:22.340Z"
   },
   {
    "duration": 112,
    "start_time": "2023-04-28T14:48:22.967Z"
   },
   {
    "duration": 111,
    "start_time": "2023-04-28T14:48:23.081Z"
   },
   {
    "duration": 696,
    "start_time": "2023-04-28T14:48:23.194Z"
   },
   {
    "duration": 82,
    "start_time": "2023-04-28T14:48:23.894Z"
   },
   {
    "duration": 150,
    "start_time": "2023-04-28T14:48:23.978Z"
   },
   {
    "duration": 102,
    "start_time": "2023-04-28T14:48:24.133Z"
   },
   {
    "duration": 30,
    "start_time": "2023-04-28T14:48:24.238Z"
   },
   {
    "duration": 334,
    "start_time": "2023-04-28T14:48:24.270Z"
   },
   {
    "duration": 56,
    "start_time": "2023-04-28T14:48:24.606Z"
   },
   {
    "duration": 5,
    "start_time": "2023-04-28T14:48:24.664Z"
   },
   {
    "duration": 21,
    "start_time": "2023-04-28T14:48:24.671Z"
   },
   {
    "duration": 28,
    "start_time": "2023-04-28T14:48:24.694Z"
   },
   {
    "duration": 15,
    "start_time": "2023-04-28T14:48:24.732Z"
   },
   {
    "duration": 27,
    "start_time": "2023-04-28T14:48:24.750Z"
   },
   {
    "duration": 32,
    "start_time": "2023-04-28T14:48:24.779Z"
   },
   {
    "duration": 55,
    "start_time": "2023-04-28T14:48:24.814Z"
   },
   {
    "duration": 17,
    "start_time": "2023-04-28T14:48:24.872Z"
   },
   {
    "duration": 10,
    "start_time": "2023-04-28T14:48:24.891Z"
   },
   {
    "duration": 443,
    "start_time": "2023-04-28T14:48:24.903Z"
   },
   {
    "duration": 345,
    "start_time": "2023-04-28T14:48:25.348Z"
   },
   {
    "duration": 0,
    "start_time": "2023-04-28T14:48:25.697Z"
   },
   {
    "duration": 0,
    "start_time": "2023-04-28T14:48:25.699Z"
   },
   {
    "duration": 0,
    "start_time": "2023-04-28T14:48:25.701Z"
   },
   {
    "duration": 14,
    "start_time": "2023-04-28T14:50:27.767Z"
   },
   {
    "duration": 8,
    "start_time": "2023-04-28T14:50:38.701Z"
   },
   {
    "duration": 10,
    "start_time": "2023-04-28T14:51:08.644Z"
   },
   {
    "duration": 517,
    "start_time": "2023-04-28T14:51:45.075Z"
   },
   {
    "duration": 98,
    "start_time": "2023-04-28T14:51:45.594Z"
   },
   {
    "duration": 118,
    "start_time": "2023-04-28T14:51:45.694Z"
   },
   {
    "duration": 656,
    "start_time": "2023-04-28T14:51:45.819Z"
   },
   {
    "duration": 47,
    "start_time": "2023-04-28T14:51:46.477Z"
   },
   {
    "duration": 145,
    "start_time": "2023-04-28T14:51:46.528Z"
   },
   {
    "duration": 69,
    "start_time": "2023-04-28T14:51:46.675Z"
   },
   {
    "duration": 33,
    "start_time": "2023-04-28T14:51:46.746Z"
   },
   {
    "duration": 307,
    "start_time": "2023-04-28T14:51:46.781Z"
   },
   {
    "duration": 77,
    "start_time": "2023-04-28T14:51:47.092Z"
   },
   {
    "duration": 7,
    "start_time": "2023-04-28T14:51:47.172Z"
   },
   {
    "duration": 25,
    "start_time": "2023-04-28T14:51:47.182Z"
   },
   {
    "duration": 33,
    "start_time": "2023-04-28T14:51:47.208Z"
   },
   {
    "duration": 15,
    "start_time": "2023-04-28T14:51:47.243Z"
   },
   {
    "duration": 14,
    "start_time": "2023-04-28T14:51:47.260Z"
   },
   {
    "duration": 17,
    "start_time": "2023-04-28T14:51:47.276Z"
   },
   {
    "duration": 37,
    "start_time": "2023-04-28T14:51:47.296Z"
   },
   {
    "duration": 21,
    "start_time": "2023-04-28T14:51:47.335Z"
   },
   {
    "duration": 9,
    "start_time": "2023-04-28T14:51:47.359Z"
   },
   {
    "duration": 434,
    "start_time": "2023-04-28T14:51:47.370Z"
   },
   {
    "duration": 293,
    "start_time": "2023-04-28T14:51:47.805Z"
   },
   {
    "duration": 27,
    "start_time": "2023-04-28T14:51:48.100Z"
   },
   {
    "duration": 10,
    "start_time": "2023-04-28T14:51:48.130Z"
   },
   {
    "duration": 13,
    "start_time": "2023-04-28T14:51:48.142Z"
   },
   {
    "duration": 197,
    "start_time": "2023-04-28T14:56:20.555Z"
   },
   {
    "duration": 22,
    "start_time": "2023-04-28T14:56:22.914Z"
   },
   {
    "duration": 604,
    "start_time": "2023-04-28T14:56:37.785Z"
   },
   {
    "duration": 107,
    "start_time": "2023-04-28T14:56:38.392Z"
   },
   {
    "duration": 114,
    "start_time": "2023-04-28T14:56:38.501Z"
   },
   {
    "duration": 691,
    "start_time": "2023-04-28T14:56:38.618Z"
   },
   {
    "duration": 63,
    "start_time": "2023-04-28T14:56:39.311Z"
   },
   {
    "duration": 160,
    "start_time": "2023-04-28T14:56:39.376Z"
   },
   {
    "duration": 63,
    "start_time": "2023-04-28T14:56:39.542Z"
   },
   {
    "duration": 56,
    "start_time": "2023-04-28T14:56:39.606Z"
   },
   {
    "duration": 264,
    "start_time": "2023-04-28T14:56:39.664Z"
   },
   {
    "duration": 50,
    "start_time": "2023-04-28T14:56:39.931Z"
   },
   {
    "duration": 4,
    "start_time": "2023-04-28T14:56:39.984Z"
   },
   {
    "duration": 48,
    "start_time": "2023-04-28T14:56:39.990Z"
   },
   {
    "duration": 40,
    "start_time": "2023-04-28T14:56:40.041Z"
   },
   {
    "duration": 11,
    "start_time": "2023-04-28T14:56:40.083Z"
   },
   {
    "duration": 38,
    "start_time": "2023-04-28T14:56:40.095Z"
   },
   {
    "duration": 49,
    "start_time": "2023-04-28T14:56:40.135Z"
   },
   {
    "duration": 23,
    "start_time": "2023-04-28T14:56:40.186Z"
   },
   {
    "duration": 55,
    "start_time": "2023-04-28T14:56:40.211Z"
   },
   {
    "duration": 12,
    "start_time": "2023-04-28T14:56:40.268Z"
   },
   {
    "duration": 468,
    "start_time": "2023-04-28T14:56:40.282Z"
   },
   {
    "duration": 298,
    "start_time": "2023-04-28T14:56:40.756Z"
   },
   {
    "duration": 21,
    "start_time": "2023-04-28T14:56:41.059Z"
   },
   {
    "duration": 576,
    "start_time": "2023-04-28T14:57:22.759Z"
   },
   {
    "duration": 94,
    "start_time": "2023-04-28T14:57:23.343Z"
   },
   {
    "duration": 125,
    "start_time": "2023-04-28T14:57:23.440Z"
   },
   {
    "duration": 737,
    "start_time": "2023-04-28T14:57:23.567Z"
   },
   {
    "duration": 69,
    "start_time": "2023-04-28T14:57:24.317Z"
   },
   {
    "duration": 154,
    "start_time": "2023-04-28T14:57:24.388Z"
   },
   {
    "duration": 60,
    "start_time": "2023-04-28T14:57:24.547Z"
   },
   {
    "duration": 46,
    "start_time": "2023-04-28T14:57:24.609Z"
   },
   {
    "duration": 283,
    "start_time": "2023-04-28T14:57:24.657Z"
   },
   {
    "duration": 43,
    "start_time": "2023-04-28T14:57:24.946Z"
   },
   {
    "duration": 9,
    "start_time": "2023-04-28T14:57:24.992Z"
   },
   {
    "duration": 74,
    "start_time": "2023-04-28T14:57:25.003Z"
   },
   {
    "duration": 49,
    "start_time": "2023-04-28T14:57:25.080Z"
   },
   {
    "duration": 52,
    "start_time": "2023-04-28T14:57:25.133Z"
   },
   {
    "duration": 102,
    "start_time": "2023-04-28T14:57:25.188Z"
   },
   {
    "duration": 23,
    "start_time": "2023-04-28T14:57:25.292Z"
   },
   {
    "duration": 81,
    "start_time": "2023-04-28T14:57:25.320Z"
   },
   {
    "duration": 67,
    "start_time": "2023-04-28T14:57:25.404Z"
   },
   {
    "duration": 28,
    "start_time": "2023-04-28T14:57:25.474Z"
   },
   {
    "duration": 509,
    "start_time": "2023-04-28T14:57:25.504Z"
   },
   {
    "duration": 346,
    "start_time": "2023-04-28T14:57:26.015Z"
   },
   {
    "duration": 24,
    "start_time": "2023-04-28T15:00:08.999Z"
   },
   {
    "duration": 18,
    "start_time": "2023-04-28T15:02:47.768Z"
   },
   {
    "duration": 5,
    "start_time": "2023-04-28T15:07:25.627Z"
   },
   {
    "duration": 16,
    "start_time": "2023-04-28T15:09:36.362Z"
   },
   {
    "duration": 153,
    "start_time": "2023-04-28T15:26:25.109Z"
   },
   {
    "duration": 14,
    "start_time": "2023-04-28T15:26:44.236Z"
   },
   {
    "duration": 14,
    "start_time": "2023-04-28T15:26:56.356Z"
   },
   {
    "duration": 13,
    "start_time": "2023-04-28T15:27:33.890Z"
   },
   {
    "duration": 16,
    "start_time": "2023-04-28T15:27:43.660Z"
   },
   {
    "duration": 65,
    "start_time": "2023-04-28T15:28:59.660Z"
   },
   {
    "duration": 19,
    "start_time": "2023-04-28T15:29:14.557Z"
   },
   {
    "duration": 29,
    "start_time": "2023-04-28T15:29:32.292Z"
   },
   {
    "duration": 28,
    "start_time": "2023-04-28T15:29:49.191Z"
   },
   {
    "duration": 22,
    "start_time": "2023-04-28T15:30:04.203Z"
   },
   {
    "duration": 23,
    "start_time": "2023-04-28T15:30:10.964Z"
   },
   {
    "duration": 26,
    "start_time": "2023-04-28T15:32:30.117Z"
   },
   {
    "duration": 79,
    "start_time": "2023-04-28T15:33:49.720Z"
   },
   {
    "duration": 149,
    "start_time": "2023-04-28T15:34:05.317Z"
   },
   {
    "duration": 17,
    "start_time": "2023-04-28T15:34:13.893Z"
   },
   {
    "duration": 19,
    "start_time": "2023-04-28T15:34:31.141Z"
   },
   {
    "duration": 9,
    "start_time": "2023-04-28T15:37:46.577Z"
   },
   {
    "duration": 7,
    "start_time": "2023-04-28T15:38:20.637Z"
   },
   {
    "duration": 31,
    "start_time": "2023-04-28T15:38:51.561Z"
   },
   {
    "duration": 48,
    "start_time": "2023-04-28T15:47:19.405Z"
   },
   {
    "duration": 30,
    "start_time": "2023-04-28T15:47:37.832Z"
   },
   {
    "duration": 29,
    "start_time": "2023-04-28T15:48:03.960Z"
   },
   {
    "duration": 35,
    "start_time": "2023-04-28T15:48:24.403Z"
   },
   {
    "duration": 31,
    "start_time": "2023-04-28T15:48:53.630Z"
   },
   {
    "duration": 552,
    "start_time": "2023-04-30T10:04:14.900Z"
   },
   {
    "duration": 141,
    "start_time": "2023-04-30T10:04:15.454Z"
   },
   {
    "duration": 249,
    "start_time": "2023-04-30T10:04:15.598Z"
   },
   {
    "duration": 1637,
    "start_time": "2023-04-30T10:04:15.849Z"
   },
   {
    "duration": 130,
    "start_time": "2023-04-30T10:04:17.489Z"
   },
   {
    "duration": 140,
    "start_time": "2023-04-30T10:04:17.621Z"
   },
   {
    "duration": 51,
    "start_time": "2023-04-30T10:04:17.763Z"
   },
   {
    "duration": 26,
    "start_time": "2023-04-30T10:04:17.815Z"
   },
   {
    "duration": 255,
    "start_time": "2023-04-30T10:04:17.843Z"
   },
   {
    "duration": 36,
    "start_time": "2023-04-30T10:04:18.100Z"
   },
   {
    "duration": 4,
    "start_time": "2023-04-30T10:04:18.138Z"
   },
   {
    "duration": 18,
    "start_time": "2023-04-30T10:04:18.144Z"
   },
   {
    "duration": 32,
    "start_time": "2023-04-30T10:04:18.164Z"
   },
   {
    "duration": 20,
    "start_time": "2023-04-30T10:04:18.199Z"
   },
   {
    "duration": 11,
    "start_time": "2023-04-30T10:04:18.221Z"
   },
   {
    "duration": 13,
    "start_time": "2023-04-30T10:04:18.235Z"
   },
   {
    "duration": 15,
    "start_time": "2023-04-30T10:04:18.250Z"
   },
   {
    "duration": 30,
    "start_time": "2023-04-30T10:04:18.267Z"
   },
   {
    "duration": 6,
    "start_time": "2023-04-30T10:04:18.299Z"
   },
   {
    "duration": 422,
    "start_time": "2023-04-30T10:04:18.306Z"
   },
   {
    "duration": 225,
    "start_time": "2023-04-30T10:04:18.730Z"
   },
   {
    "duration": 48,
    "start_time": "2023-04-30T10:04:18.956Z"
   },
   {
    "duration": 11,
    "start_time": "2023-04-30T10:10:52.832Z"
   },
   {
    "duration": 126,
    "start_time": "2023-04-30T10:11:56.203Z"
   },
   {
    "duration": 6,
    "start_time": "2023-04-30T10:12:15.775Z"
   },
   {
    "duration": 5,
    "start_time": "2023-04-30T10:13:24.019Z"
   },
   {
    "duration": 4,
    "start_time": "2023-04-30T10:13:31.206Z"
   },
   {
    "duration": 12,
    "start_time": "2023-04-30T10:14:10.760Z"
   },
   {
    "duration": 6,
    "start_time": "2023-04-30T10:14:30.511Z"
   },
   {
    "duration": 12,
    "start_time": "2023-04-30T10:14:32.937Z"
   },
   {
    "duration": 36,
    "start_time": "2023-04-30T10:21:09.578Z"
   },
   {
    "duration": 32,
    "start_time": "2023-04-30T10:24:13.313Z"
   },
   {
    "duration": 18,
    "start_time": "2023-04-30T10:24:47.494Z"
   },
   {
    "duration": 14,
    "start_time": "2023-04-30T10:25:20.864Z"
   },
   {
    "duration": 19,
    "start_time": "2023-04-30T10:25:53.340Z"
   },
   {
    "duration": 19,
    "start_time": "2023-04-30T10:26:27.618Z"
   },
   {
    "duration": 34,
    "start_time": "2023-04-30T10:27:04.172Z"
   },
   {
    "duration": 21,
    "start_time": "2023-04-30T10:27:18.464Z"
   },
   {
    "duration": 13,
    "start_time": "2023-04-30T10:27:54.827Z"
   },
   {
    "duration": 42,
    "start_time": "2023-04-30T10:28:46.377Z"
   },
   {
    "duration": 49,
    "start_time": "2023-04-30T10:28:52.683Z"
   },
   {
    "duration": 51,
    "start_time": "2023-04-30T10:29:10.665Z"
   },
   {
    "duration": 14,
    "start_time": "2023-04-30T10:34:21.917Z"
   },
   {
    "duration": 12,
    "start_time": "2023-04-30T10:36:36.233Z"
   },
   {
    "duration": 38,
    "start_time": "2023-04-30T10:37:16.721Z"
   },
   {
    "duration": 30,
    "start_time": "2023-04-30T10:37:32.233Z"
   },
   {
    "duration": 10,
    "start_time": "2023-04-30T10:38:09.790Z"
   },
   {
    "duration": 52,
    "start_time": "2023-04-30T10:44:10.201Z"
   },
   {
    "duration": 17,
    "start_time": "2023-04-30T10:44:14.009Z"
   },
   {
    "duration": 15,
    "start_time": "2023-04-30T10:45:26.260Z"
   },
   {
    "duration": 19,
    "start_time": "2023-04-30T10:45:38.136Z"
   },
   {
    "duration": 16,
    "start_time": "2023-04-30T10:45:43.754Z"
   },
   {
    "duration": 55,
    "start_time": "2023-04-30T10:46:28.114Z"
   },
   {
    "duration": 5,
    "start_time": "2023-04-30T10:48:33.071Z"
   },
   {
    "duration": 31,
    "start_time": "2023-04-30T10:48:48.825Z"
   },
   {
    "duration": 65,
    "start_time": "2023-04-30T10:52:41.684Z"
   },
   {
    "duration": 56,
    "start_time": "2023-04-30T10:52:56.909Z"
   },
   {
    "duration": 74,
    "start_time": "2023-04-30T10:53:13.223Z"
   },
   {
    "duration": 117,
    "start_time": "2023-04-30T10:53:35.797Z"
   },
   {
    "duration": 18,
    "start_time": "2023-04-30T11:01:49.187Z"
   },
   {
    "duration": 58,
    "start_time": "2023-04-30T11:02:35.390Z"
   },
   {
    "duration": 35,
    "start_time": "2023-04-30T11:06:08.571Z"
   },
   {
    "duration": 29,
    "start_time": "2023-04-30T11:06:23.446Z"
   },
   {
    "duration": 13,
    "start_time": "2023-04-30T11:09:00.878Z"
   },
   {
    "duration": 14,
    "start_time": "2023-04-30T11:11:02.840Z"
   },
   {
    "duration": 15,
    "start_time": "2023-04-30T11:11:09.470Z"
   },
   {
    "duration": 17,
    "start_time": "2023-04-30T11:12:14.800Z"
   },
   {
    "duration": 15,
    "start_time": "2023-04-30T11:14:19.949Z"
   },
   {
    "duration": 10,
    "start_time": "2023-04-30T11:15:01.971Z"
   },
   {
    "duration": 17,
    "start_time": "2023-04-30T11:15:20.018Z"
   },
   {
    "duration": 20,
    "start_time": "2023-04-30T11:16:32.217Z"
   },
   {
    "duration": 23,
    "start_time": "2023-04-30T11:21:33.917Z"
   },
   {
    "duration": 38,
    "start_time": "2023-04-30T11:21:40.816Z"
   },
   {
    "duration": 17,
    "start_time": "2023-04-30T11:22:29.416Z"
   },
   {
    "duration": 23,
    "start_time": "2023-04-30T11:22:58.949Z"
   },
   {
    "duration": 17,
    "start_time": "2023-04-30T11:23:07.554Z"
   },
   {
    "duration": 22,
    "start_time": "2023-04-30T11:24:28.371Z"
   },
   {
    "duration": 30,
    "start_time": "2023-04-30T11:24:37.136Z"
   },
   {
    "duration": 18,
    "start_time": "2023-04-30T11:28:47.353Z"
   },
   {
    "duration": 13,
    "start_time": "2023-04-30T11:28:52.908Z"
   },
   {
    "duration": 19,
    "start_time": "2023-04-30T11:30:10.274Z"
   },
   {
    "duration": 12,
    "start_time": "2023-04-30T11:30:11.749Z"
   },
   {
    "duration": 13,
    "start_time": "2023-04-30T11:35:28.851Z"
   },
   {
    "duration": 22,
    "start_time": "2023-04-30T11:35:40.018Z"
   },
   {
    "duration": 24,
    "start_time": "2023-04-30T11:36:26.977Z"
   },
   {
    "duration": 18,
    "start_time": "2023-04-30T11:38:12.469Z"
   },
   {
    "duration": 16,
    "start_time": "2023-04-30T11:39:05.873Z"
   },
   {
    "duration": 32,
    "start_time": "2023-04-30T11:42:08.287Z"
   },
   {
    "duration": 23,
    "start_time": "2023-04-30T11:43:30.477Z"
   },
   {
    "duration": 11,
    "start_time": "2023-04-30T13:20:45.088Z"
   },
   {
    "duration": 14,
    "start_time": "2023-04-30T13:21:00.789Z"
   },
   {
    "duration": 20,
    "start_time": "2023-04-30T13:21:58.965Z"
   },
   {
    "duration": 22,
    "start_time": "2023-04-30T13:24:12.722Z"
   },
   {
    "duration": 23,
    "start_time": "2023-04-30T13:25:36.691Z"
   },
   {
    "duration": 29,
    "start_time": "2023-04-30T13:27:36.360Z"
   },
   {
    "duration": 22,
    "start_time": "2023-04-30T13:28:56.989Z"
   },
   {
    "duration": 27,
    "start_time": "2023-04-30T13:29:06.945Z"
   },
   {
    "duration": 30,
    "start_time": "2023-04-30T13:29:31.064Z"
   },
   {
    "duration": 27,
    "start_time": "2023-04-30T13:30:25.254Z"
   },
   {
    "duration": 28,
    "start_time": "2023-04-30T13:30:40.235Z"
   },
   {
    "duration": 30,
    "start_time": "2023-04-30T13:30:55.508Z"
   },
   {
    "duration": 34,
    "start_time": "2023-04-30T13:32:30.230Z"
   },
   {
    "duration": 19,
    "start_time": "2023-04-30T13:32:52.798Z"
   },
   {
    "duration": 24,
    "start_time": "2023-04-30T13:32:56.000Z"
   },
   {
    "duration": 32,
    "start_time": "2023-04-30T13:33:17.894Z"
   },
   {
    "duration": 30,
    "start_time": "2023-04-30T13:35:05.092Z"
   },
   {
    "duration": 23,
    "start_time": "2023-04-30T13:35:15.261Z"
   },
   {
    "duration": 30,
    "start_time": "2023-04-30T13:35:18.944Z"
   },
   {
    "duration": 31,
    "start_time": "2023-04-30T13:35:25.003Z"
   },
   {
    "duration": 23,
    "start_time": "2023-04-30T13:35:33.659Z"
   },
   {
    "duration": 29,
    "start_time": "2023-04-30T13:36:07.664Z"
   },
   {
    "duration": 22,
    "start_time": "2023-04-30T13:36:35.203Z"
   },
   {
    "duration": 30,
    "start_time": "2023-04-30T13:36:55.262Z"
   },
   {
    "duration": 23,
    "start_time": "2023-04-30T13:37:07.457Z"
   },
   {
    "duration": 25,
    "start_time": "2023-04-30T13:37:13.113Z"
   },
   {
    "duration": 28,
    "start_time": "2023-04-30T13:37:18.228Z"
   },
   {
    "duration": 27,
    "start_time": "2023-04-30T13:37:30.452Z"
   },
   {
    "duration": 22,
    "start_time": "2023-04-30T13:37:45.630Z"
   },
   {
    "duration": 23,
    "start_time": "2023-04-30T13:38:00.943Z"
   },
   {
    "duration": 31,
    "start_time": "2023-04-30T13:42:30.155Z"
   },
   {
    "duration": 25,
    "start_time": "2023-04-30T13:42:33.697Z"
   },
   {
    "duration": 24,
    "start_time": "2023-04-30T13:42:45.826Z"
   },
   {
    "duration": 29,
    "start_time": "2023-04-30T13:43:47.457Z"
   },
   {
    "duration": 38,
    "start_time": "2023-04-30T13:43:53.811Z"
   },
   {
    "duration": 43,
    "start_time": "2023-04-30T13:49:17.300Z"
   },
   {
    "duration": 29,
    "start_time": "2023-04-30T13:49:32.149Z"
   },
   {
    "duration": 54,
    "start_time": "2023-04-30T13:51:27.745Z"
   },
   {
    "duration": 48,
    "start_time": "2023-04-30T13:52:57.113Z"
   },
   {
    "duration": 54,
    "start_time": "2023-04-30T13:53:59.649Z"
   },
   {
    "duration": 76,
    "start_time": "2023-04-30T13:55:38.754Z"
   },
   {
    "duration": 42,
    "start_time": "2023-04-30T13:55:54.596Z"
   },
   {
    "duration": 35,
    "start_time": "2023-04-30T13:56:03.223Z"
   },
   {
    "duration": 57,
    "start_time": "2023-04-30T13:56:40.766Z"
   },
   {
    "duration": 32,
    "start_time": "2023-04-30T13:57:55.054Z"
   },
   {
    "duration": 10,
    "start_time": "2023-04-30T14:23:00.738Z"
   },
   {
    "duration": 3,
    "start_time": "2023-04-30T14:23:05.454Z"
   },
   {
    "duration": 16,
    "start_time": "2023-04-30T14:23:07.551Z"
   },
   {
    "duration": 15,
    "start_time": "2023-04-30T14:23:22.051Z"
   },
   {
    "duration": 3,
    "start_time": "2023-04-30T14:24:03.687Z"
   },
   {
    "duration": 15,
    "start_time": "2023-04-30T14:24:07.088Z"
   },
   {
    "duration": 17,
    "start_time": "2023-04-30T14:24:35.490Z"
   },
   {
    "duration": 3,
    "start_time": "2023-04-30T14:24:49.443Z"
   },
   {
    "duration": 15,
    "start_time": "2023-04-30T14:24:53.698Z"
   },
   {
    "duration": 4,
    "start_time": "2023-04-30T14:24:59.649Z"
   },
   {
    "duration": 14,
    "start_time": "2023-04-30T14:25:01.843Z"
   },
   {
    "duration": 4,
    "start_time": "2023-04-30T14:25:07.943Z"
   },
   {
    "duration": 15,
    "start_time": "2023-04-30T14:25:09.479Z"
   },
   {
    "duration": 5,
    "start_time": "2023-04-30T14:29:50.861Z"
   },
   {
    "duration": 27,
    "start_time": "2023-04-30T14:29:52.545Z"
   },
   {
    "duration": 3,
    "start_time": "2023-04-30T14:30:07.664Z"
   },
   {
    "duration": 136,
    "start_time": "2023-04-30T14:30:15.138Z"
   },
   {
    "duration": 6,
    "start_time": "2023-04-30T14:44:19.033Z"
   },
   {
    "duration": 253,
    "start_time": "2023-04-30T14:44:20.746Z"
   },
   {
    "duration": 5,
    "start_time": "2023-04-30T14:45:22.935Z"
   },
   {
    "duration": 258,
    "start_time": "2023-04-30T14:45:25.394Z"
   },
   {
    "duration": 5,
    "start_time": "2023-04-30T14:45:49.133Z"
   },
   {
    "duration": 258,
    "start_time": "2023-04-30T14:45:51.033Z"
   },
   {
    "duration": 5,
    "start_time": "2023-04-30T14:46:00.723Z"
   },
   {
    "duration": 132,
    "start_time": "2023-04-30T14:46:02.826Z"
   },
   {
    "duration": 5,
    "start_time": "2023-04-30T14:48:29.775Z"
   },
   {
    "duration": 150,
    "start_time": "2023-04-30T14:48:32.752Z"
   },
   {
    "duration": 4,
    "start_time": "2023-04-30T14:48:45.741Z"
   },
   {
    "duration": 139,
    "start_time": "2023-04-30T14:48:47.869Z"
   },
   {
    "duration": 6,
    "start_time": "2023-04-30T14:50:46.382Z"
   },
   {
    "duration": 283,
    "start_time": "2023-04-30T14:50:48.540Z"
   },
   {
    "duration": 587,
    "start_time": "2023-04-30T14:50:54.546Z"
   },
   {
    "duration": 90,
    "start_time": "2023-04-30T14:50:55.135Z"
   },
   {
    "duration": 100,
    "start_time": "2023-04-30T14:50:55.227Z"
   },
   {
    "duration": 643,
    "start_time": "2023-04-30T14:50:55.329Z"
   },
   {
    "duration": 50,
    "start_time": "2023-04-30T14:50:55.975Z"
   },
   {
    "duration": 132,
    "start_time": "2023-04-30T14:50:56.027Z"
   },
   {
    "duration": 66,
    "start_time": "2023-04-30T14:50:56.161Z"
   },
   {
    "duration": 35,
    "start_time": "2023-04-30T14:50:56.229Z"
   },
   {
    "duration": 279,
    "start_time": "2023-04-30T14:50:56.266Z"
   },
   {
    "duration": 53,
    "start_time": "2023-04-30T14:50:56.547Z"
   },
   {
    "duration": 5,
    "start_time": "2023-04-30T14:50:56.605Z"
   },
   {
    "duration": 39,
    "start_time": "2023-04-30T14:50:56.612Z"
   },
   {
    "duration": 11,
    "start_time": "2023-04-30T14:50:56.653Z"
   },
   {
    "duration": 11,
    "start_time": "2023-04-30T14:50:56.667Z"
   },
   {
    "duration": 22,
    "start_time": "2023-04-30T14:50:56.680Z"
   },
   {
    "duration": 12,
    "start_time": "2023-04-30T14:50:56.705Z"
   },
   {
    "duration": 12,
    "start_time": "2023-04-30T14:50:56.719Z"
   },
   {
    "duration": 11,
    "start_time": "2023-04-30T14:50:56.733Z"
   },
   {
    "duration": 44,
    "start_time": "2023-04-30T14:50:56.745Z"
   },
   {
    "duration": 431,
    "start_time": "2023-04-30T14:50:56.797Z"
   },
   {
    "duration": 279,
    "start_time": "2023-04-30T14:50:57.231Z"
   },
   {
    "duration": 170,
    "start_time": "2023-04-30T14:50:57.512Z"
   },
   {
    "duration": 0,
    "start_time": "2023-04-30T14:50:57.684Z"
   },
   {
    "duration": 0,
    "start_time": "2023-04-30T14:50:57.691Z"
   },
   {
    "duration": 0,
    "start_time": "2023-04-30T14:50:57.693Z"
   },
   {
    "duration": 0,
    "start_time": "2023-04-30T14:50:57.695Z"
   },
   {
    "duration": 6,
    "start_time": "2023-04-30T14:51:16.337Z"
   },
   {
    "duration": 21,
    "start_time": "2023-04-30T14:51:18.847Z"
   },
   {
    "duration": 8,
    "start_time": "2023-04-30T14:52:57.594Z"
   },
   {
    "duration": 21,
    "start_time": "2023-04-30T14:53:00.041Z"
   },
   {
    "duration": 23,
    "start_time": "2023-04-30T14:53:22.949Z"
   },
   {
    "duration": 78,
    "start_time": "2023-04-30T14:53:43.334Z"
   },
   {
    "duration": 19,
    "start_time": "2023-04-30T14:53:49.997Z"
   },
   {
    "duration": 8,
    "start_time": "2023-04-30T14:53:54.166Z"
   },
   {
    "duration": 297,
    "start_time": "2023-04-30T14:54:12.841Z"
   },
   {
    "duration": 37,
    "start_time": "2023-04-30T14:55:17.997Z"
   },
   {
    "duration": 33,
    "start_time": "2023-04-30T14:55:25.832Z"
   },
   {
    "duration": 76,
    "start_time": "2023-04-30T14:55:34.435Z"
   },
   {
    "duration": 34,
    "start_time": "2023-04-30T14:56:12.264Z"
   },
   {
    "duration": 516,
    "start_time": "2023-04-30T14:56:38.338Z"
   },
   {
    "duration": 88,
    "start_time": "2023-04-30T14:56:38.856Z"
   },
   {
    "duration": 89,
    "start_time": "2023-04-30T14:56:38.946Z"
   },
   {
    "duration": 588,
    "start_time": "2023-04-30T14:56:39.037Z"
   },
   {
    "duration": 44,
    "start_time": "2023-04-30T14:56:39.626Z"
   },
   {
    "duration": 127,
    "start_time": "2023-04-30T14:56:39.671Z"
   },
   {
    "duration": 51,
    "start_time": "2023-04-30T14:56:39.800Z"
   },
   {
    "duration": 46,
    "start_time": "2023-04-30T14:56:39.853Z"
   },
   {
    "duration": 261,
    "start_time": "2023-04-30T14:56:39.901Z"
   },
   {
    "duration": 45,
    "start_time": "2023-04-30T14:56:40.165Z"
   },
   {
    "duration": 26,
    "start_time": "2023-04-30T14:56:40.211Z"
   },
   {
    "duration": 11,
    "start_time": "2023-04-30T14:56:40.239Z"
   },
   {
    "duration": 14,
    "start_time": "2023-04-30T14:56:40.253Z"
   },
   {
    "duration": 25,
    "start_time": "2023-04-30T14:56:40.270Z"
   },
   {
    "duration": 22,
    "start_time": "2023-04-30T14:56:40.297Z"
   },
   {
    "duration": 18,
    "start_time": "2023-04-30T14:56:40.322Z"
   },
   {
    "duration": 16,
    "start_time": "2023-04-30T14:56:40.342Z"
   },
   {
    "duration": 43,
    "start_time": "2023-04-30T14:56:40.360Z"
   },
   {
    "duration": 14,
    "start_time": "2023-04-30T14:56:40.405Z"
   },
   {
    "duration": 427,
    "start_time": "2023-04-30T14:56:40.422Z"
   },
   {
    "duration": 213,
    "start_time": "2023-04-30T14:56:40.851Z"
   },
   {
    "duration": 147,
    "start_time": "2023-04-30T14:56:41.065Z"
   },
   {
    "duration": 0,
    "start_time": "2023-04-30T14:56:41.214Z"
   },
   {
    "duration": 0,
    "start_time": "2023-04-30T14:56:41.215Z"
   },
   {
    "duration": 0,
    "start_time": "2023-04-30T14:56:41.217Z"
   },
   {
    "duration": 0,
    "start_time": "2023-04-30T14:56:41.218Z"
   },
   {
    "duration": 542,
    "start_time": "2023-04-30T14:57:19.074Z"
   },
   {
    "duration": 89,
    "start_time": "2023-04-30T14:57:19.619Z"
   },
   {
    "duration": 97,
    "start_time": "2023-04-30T14:57:19.710Z"
   },
   {
    "duration": 667,
    "start_time": "2023-04-30T14:57:19.809Z"
   },
   {
    "duration": 53,
    "start_time": "2023-04-30T14:57:20.478Z"
   },
   {
    "duration": 177,
    "start_time": "2023-04-30T14:57:20.534Z"
   },
   {
    "duration": 53,
    "start_time": "2023-04-30T14:57:20.713Z"
   },
   {
    "duration": 44,
    "start_time": "2023-04-30T14:57:20.768Z"
   },
   {
    "duration": 279,
    "start_time": "2023-04-30T14:57:20.814Z"
   },
   {
    "duration": 38,
    "start_time": "2023-04-30T14:57:21.095Z"
   },
   {
    "duration": 7,
    "start_time": "2023-04-30T14:57:21.134Z"
   },
   {
    "duration": 8,
    "start_time": "2023-04-30T14:57:21.143Z"
   },
   {
    "duration": 44,
    "start_time": "2023-04-30T14:57:21.152Z"
   },
   {
    "duration": 7,
    "start_time": "2023-04-30T14:57:21.198Z"
   },
   {
    "duration": 15,
    "start_time": "2023-04-30T14:57:21.206Z"
   },
   {
    "duration": 20,
    "start_time": "2023-04-30T14:57:21.222Z"
   },
   {
    "duration": 14,
    "start_time": "2023-04-30T14:57:21.244Z"
   },
   {
    "duration": 38,
    "start_time": "2023-04-30T14:57:21.259Z"
   },
   {
    "duration": 15,
    "start_time": "2023-04-30T14:57:21.299Z"
   },
   {
    "duration": 444,
    "start_time": "2023-04-30T14:57:21.315Z"
   },
   {
    "duration": 225,
    "start_time": "2023-04-30T14:57:21.761Z"
   },
   {
    "duration": 37,
    "start_time": "2023-04-30T14:57:21.988Z"
   },
   {
    "duration": 82,
    "start_time": "2023-04-30T14:57:22.027Z"
   },
   {
    "duration": 36,
    "start_time": "2023-04-30T14:57:22.111Z"
   },
   {
    "duration": 7,
    "start_time": "2023-04-30T14:57:22.150Z"
   },
   {
    "duration": 431,
    "start_time": "2023-04-30T14:57:22.158Z"
   },
   {
    "duration": 6,
    "start_time": "2023-04-30T14:58:28.445Z"
   },
   {
    "duration": 341,
    "start_time": "2023-04-30T14:58:30.444Z"
   },
   {
    "duration": 4,
    "start_time": "2023-04-30T14:58:51.954Z"
   },
   {
    "duration": 147,
    "start_time": "2023-04-30T14:58:53.596Z"
   },
   {
    "duration": 5,
    "start_time": "2023-04-30T14:58:58.841Z"
   },
   {
    "duration": 200,
    "start_time": "2023-04-30T14:59:00.265Z"
   },
   {
    "duration": 557,
    "start_time": "2023-04-30T14:59:08.575Z"
   },
   {
    "duration": 91,
    "start_time": "2023-04-30T14:59:09.134Z"
   },
   {
    "duration": 100,
    "start_time": "2023-04-30T14:59:09.227Z"
   },
   {
    "duration": 645,
    "start_time": "2023-04-30T14:59:09.329Z"
   },
   {
    "duration": 44,
    "start_time": "2023-04-30T14:59:09.976Z"
   },
   {
    "duration": 139,
    "start_time": "2023-04-30T14:59:10.022Z"
   },
   {
    "duration": 58,
    "start_time": "2023-04-30T14:59:10.163Z"
   },
   {
    "duration": 32,
    "start_time": "2023-04-30T14:59:10.222Z"
   },
   {
    "duration": 362,
    "start_time": "2023-04-30T14:59:10.257Z"
   },
   {
    "duration": 36,
    "start_time": "2023-04-30T14:59:10.622Z"
   },
   {
    "duration": 6,
    "start_time": "2023-04-30T14:59:10.659Z"
   },
   {
    "duration": 31,
    "start_time": "2023-04-30T14:59:10.666Z"
   },
   {
    "duration": 16,
    "start_time": "2023-04-30T14:59:10.699Z"
   },
   {
    "duration": 10,
    "start_time": "2023-04-30T14:59:10.718Z"
   },
   {
    "duration": 19,
    "start_time": "2023-04-30T14:59:10.731Z"
   },
   {
    "duration": 52,
    "start_time": "2023-04-30T14:59:10.753Z"
   },
   {
    "duration": 14,
    "start_time": "2023-04-30T14:59:10.808Z"
   },
   {
    "duration": 12,
    "start_time": "2023-04-30T14:59:10.825Z"
   },
   {
    "duration": 7,
    "start_time": "2023-04-30T14:59:10.839Z"
   },
   {
    "duration": 435,
    "start_time": "2023-04-30T14:59:10.847Z"
   },
   {
    "duration": 262,
    "start_time": "2023-04-30T14:59:11.284Z"
   },
   {
    "duration": 54,
    "start_time": "2023-04-30T14:59:11.548Z"
   },
   {
    "duration": 95,
    "start_time": "2023-04-30T14:59:11.605Z"
   },
   {
    "duration": 41,
    "start_time": "2023-04-30T14:59:11.703Z"
   },
   {
    "duration": 5,
    "start_time": "2023-04-30T14:59:11.746Z"
   },
   {
    "duration": 312,
    "start_time": "2023-04-30T14:59:11.753Z"
   },
   {
    "duration": 21,
    "start_time": "2023-04-30T14:59:23.670Z"
   },
   {
    "duration": 4,
    "start_time": "2023-04-30T15:00:01.345Z"
   },
   {
    "duration": 12,
    "start_time": "2023-04-30T15:00:03.901Z"
   },
   {
    "duration": 14,
    "start_time": "2023-04-30T15:00:20.145Z"
   },
   {
    "duration": 15,
    "start_time": "2023-04-30T15:00:25.845Z"
   },
   {
    "duration": 8,
    "start_time": "2023-04-30T15:07:25.945Z"
   },
   {
    "duration": 764,
    "start_time": "2023-04-30T15:07:28.783Z"
   },
   {
    "duration": 501,
    "start_time": "2023-04-30T17:34:51.742Z"
   },
   {
    "duration": 115,
    "start_time": "2023-04-30T17:34:52.245Z"
   },
   {
    "duration": 205,
    "start_time": "2023-04-30T17:34:52.361Z"
   },
   {
    "duration": 689,
    "start_time": "2023-04-30T17:34:52.568Z"
   },
   {
    "duration": 90,
    "start_time": "2023-04-30T17:34:53.259Z"
   },
   {
    "duration": 112,
    "start_time": "2023-04-30T17:34:53.351Z"
   },
   {
    "duration": 55,
    "start_time": "2023-04-30T17:34:53.465Z"
   },
   {
    "duration": 22,
    "start_time": "2023-04-30T17:34:53.521Z"
   },
   {
    "duration": 200,
    "start_time": "2023-04-30T17:34:53.545Z"
   },
   {
    "duration": 32,
    "start_time": "2023-04-30T17:34:53.747Z"
   },
   {
    "duration": 4,
    "start_time": "2023-04-30T17:34:53.781Z"
   },
   {
    "duration": 18,
    "start_time": "2023-04-30T17:34:53.786Z"
   },
   {
    "duration": 9,
    "start_time": "2023-04-30T17:34:53.817Z"
   },
   {
    "duration": 12,
    "start_time": "2023-04-30T17:34:53.828Z"
   },
   {
    "duration": 25,
    "start_time": "2023-04-30T17:34:53.842Z"
   },
   {
    "duration": 27,
    "start_time": "2023-04-30T17:34:53.869Z"
   },
   {
    "duration": 30,
    "start_time": "2023-04-30T17:34:53.898Z"
   },
   {
    "duration": 12,
    "start_time": "2023-04-30T17:34:53.930Z"
   },
   {
    "duration": 20,
    "start_time": "2023-04-30T17:34:53.944Z"
   },
   {
    "duration": 372,
    "start_time": "2023-04-30T17:34:53.966Z"
   },
   {
    "duration": 221,
    "start_time": "2023-04-30T17:34:54.339Z"
   },
   {
    "duration": 32,
    "start_time": "2023-04-30T17:34:54.562Z"
   },
   {
    "duration": 78,
    "start_time": "2023-04-30T17:34:54.595Z"
   },
   {
    "duration": 29,
    "start_time": "2023-04-30T17:34:54.674Z"
   },
   {
    "duration": 18,
    "start_time": "2023-04-30T17:34:54.705Z"
   },
   {
    "duration": 1738,
    "start_time": "2023-04-30T17:34:54.725Z"
   },
   {
    "duration": 6,
    "start_time": "2023-04-30T17:36:01.846Z"
   },
   {
    "duration": 222,
    "start_time": "2023-04-30T17:36:04.505Z"
   },
   {
    "duration": 5,
    "start_time": "2023-04-30T17:39:48.581Z"
   },
   {
    "duration": 227,
    "start_time": "2023-04-30T17:39:50.575Z"
   },
   {
    "duration": 9,
    "start_time": "2023-04-30T17:55:02.594Z"
   },
   {
    "duration": 12,
    "start_time": "2023-04-30T17:55:12.890Z"
   },
   {
    "duration": 6,
    "start_time": "2023-04-30T17:57:30.756Z"
   },
   {
    "duration": 1445,
    "start_time": "2023-04-30T17:57:32.922Z"
   },
   {
    "duration": 6,
    "start_time": "2023-04-30T17:58:01.611Z"
   },
   {
    "duration": 221,
    "start_time": "2023-04-30T17:58:03.212Z"
   },
   {
    "duration": 6,
    "start_time": "2023-04-30T17:58:25.165Z"
   },
   {
    "duration": 226,
    "start_time": "2023-04-30T17:58:26.981Z"
   },
   {
    "duration": 6,
    "start_time": "2023-04-30T18:01:27.974Z"
   },
   {
    "duration": 227,
    "start_time": "2023-04-30T18:01:31.484Z"
   },
   {
    "duration": 6,
    "start_time": "2023-04-30T18:03:07.650Z"
   },
   {
    "duration": 219,
    "start_time": "2023-04-30T18:03:09.558Z"
   },
   {
    "duration": 8,
    "start_time": "2023-04-30T18:06:44.956Z"
   },
   {
    "duration": 29,
    "start_time": "2023-04-30T18:06:51.319Z"
   },
   {
    "duration": 13,
    "start_time": "2023-04-30T18:07:02.876Z"
   },
   {
    "duration": 10,
    "start_time": "2023-04-30T18:07:22.820Z"
   },
   {
    "duration": 11,
    "start_time": "2023-04-30T18:07:27.327Z"
   },
   {
    "duration": 15,
    "start_time": "2023-04-30T18:08:01.582Z"
   },
   {
    "duration": 251,
    "start_time": "2023-04-30T18:11:41.307Z"
   },
   {
    "duration": 306,
    "start_time": "2023-04-30T18:11:52.181Z"
   },
   {
    "duration": 234,
    "start_time": "2023-04-30T18:12:30.005Z"
   },
   {
    "duration": 113,
    "start_time": "2023-04-30T18:15:25.468Z"
   },
   {
    "duration": 226,
    "start_time": "2023-04-30T18:15:36.813Z"
   },
   {
    "duration": 103,
    "start_time": "2023-04-30T18:17:04.804Z"
   },
   {
    "duration": 101,
    "start_time": "2023-04-30T18:17:11.208Z"
   },
   {
    "duration": 12,
    "start_time": "2023-04-30T18:26:44.854Z"
   },
   {
    "duration": 11,
    "start_time": "2023-04-30T18:26:56.313Z"
   },
   {
    "duration": 12,
    "start_time": "2023-04-30T18:27:09.082Z"
   },
   {
    "duration": 12,
    "start_time": "2023-04-30T18:27:21.271Z"
   },
   {
    "duration": 11,
    "start_time": "2023-04-30T18:32:11.324Z"
   },
   {
    "duration": 2027,
    "start_time": "2023-04-30T18:35:05.215Z"
   },
   {
    "duration": 394,
    "start_time": "2023-04-30T18:35:24.928Z"
   },
   {
    "duration": 8,
    "start_time": "2023-04-30T18:35:32.355Z"
   },
   {
    "duration": 297,
    "start_time": "2023-04-30T18:36:52.774Z"
   },
   {
    "duration": 476,
    "start_time": "2023-04-30T18:37:44.270Z"
   },
   {
    "duration": 81,
    "start_time": "2023-04-30T18:37:44.748Z"
   },
   {
    "duration": 90,
    "start_time": "2023-04-30T18:37:44.830Z"
   },
   {
    "duration": 569,
    "start_time": "2023-04-30T18:37:44.922Z"
   },
   {
    "duration": 42,
    "start_time": "2023-04-30T18:37:45.493Z"
   },
   {
    "duration": 123,
    "start_time": "2023-04-30T18:37:45.537Z"
   },
   {
    "duration": 63,
    "start_time": "2023-04-30T18:37:45.662Z"
   },
   {
    "duration": 22,
    "start_time": "2023-04-30T18:37:45.726Z"
   },
   {
    "duration": 223,
    "start_time": "2023-04-30T18:37:45.750Z"
   },
   {
    "duration": 46,
    "start_time": "2023-04-30T18:37:45.976Z"
   },
   {
    "duration": 4,
    "start_time": "2023-04-30T18:37:46.024Z"
   },
   {
    "duration": 19,
    "start_time": "2023-04-30T18:37:46.029Z"
   },
   {
    "duration": 22,
    "start_time": "2023-04-30T18:37:46.050Z"
   },
   {
    "duration": 8,
    "start_time": "2023-04-30T18:37:46.074Z"
   },
   {
    "duration": 15,
    "start_time": "2023-04-30T18:37:46.083Z"
   },
   {
    "duration": 21,
    "start_time": "2023-04-30T18:37:46.100Z"
   },
   {
    "duration": 12,
    "start_time": "2023-04-30T18:37:46.123Z"
   },
   {
    "duration": 10,
    "start_time": "2023-04-30T18:37:46.136Z"
   },
   {
    "duration": 19,
    "start_time": "2023-04-30T18:37:46.147Z"
   },
   {
    "duration": 367,
    "start_time": "2023-04-30T18:37:46.168Z"
   },
   {
    "duration": 223,
    "start_time": "2023-04-30T18:37:46.536Z"
   },
   {
    "duration": 33,
    "start_time": "2023-04-30T18:37:46.760Z"
   },
   {
    "duration": 73,
    "start_time": "2023-04-30T18:37:46.795Z"
   },
   {
    "duration": 31,
    "start_time": "2023-04-30T18:37:46.870Z"
   },
   {
    "duration": 13,
    "start_time": "2023-04-30T18:37:46.917Z"
   },
   {
    "duration": 25,
    "start_time": "2023-04-30T18:37:46.931Z"
   },
   {
    "duration": 770,
    "start_time": "2023-04-30T18:37:46.958Z"
   },
   {
    "duration": 0,
    "start_time": "2023-04-30T18:37:47.730Z"
   },
   {
    "duration": 296,
    "start_time": "2023-04-30T18:38:22.753Z"
   },
   {
    "duration": 9,
    "start_time": "2023-04-30T18:38:24.688Z"
   },
   {
    "duration": 8,
    "start_time": "2023-04-30T18:38:34.514Z"
   },
   {
    "duration": 499,
    "start_time": "2023-04-30T18:40:59.529Z"
   },
   {
    "duration": 87,
    "start_time": "2023-04-30T18:41:00.030Z"
   },
   {
    "duration": 93,
    "start_time": "2023-04-30T18:41:00.119Z"
   },
   {
    "duration": 593,
    "start_time": "2023-04-30T18:41:00.214Z"
   },
   {
    "duration": 44,
    "start_time": "2023-04-30T18:41:00.808Z"
   },
   {
    "duration": 120,
    "start_time": "2023-04-30T18:41:00.854Z"
   },
   {
    "duration": 59,
    "start_time": "2023-04-30T18:41:00.976Z"
   },
   {
    "duration": 32,
    "start_time": "2023-04-30T18:41:01.037Z"
   },
   {
    "duration": 239,
    "start_time": "2023-04-30T18:41:01.070Z"
   },
   {
    "duration": 35,
    "start_time": "2023-04-30T18:41:01.317Z"
   },
   {
    "duration": 28,
    "start_time": "2023-04-30T18:41:01.354Z"
   },
   {
    "duration": 28,
    "start_time": "2023-04-30T18:41:01.383Z"
   },
   {
    "duration": 40,
    "start_time": "2023-04-30T18:41:01.413Z"
   },
   {
    "duration": 26,
    "start_time": "2023-04-30T18:41:01.454Z"
   },
   {
    "duration": 38,
    "start_time": "2023-04-30T18:41:01.481Z"
   },
   {
    "duration": 47,
    "start_time": "2023-04-30T18:41:01.521Z"
   },
   {
    "duration": 21,
    "start_time": "2023-04-30T18:41:01.570Z"
   },
   {
    "duration": 28,
    "start_time": "2023-04-30T18:41:01.593Z"
   },
   {
    "duration": 37,
    "start_time": "2023-04-30T18:41:01.623Z"
   },
   {
    "duration": 425,
    "start_time": "2023-04-30T18:41:01.662Z"
   },
   {
    "duration": 253,
    "start_time": "2023-04-30T18:41:02.089Z"
   },
   {
    "duration": 34,
    "start_time": "2023-04-30T18:41:02.344Z"
   },
   {
    "duration": 82,
    "start_time": "2023-04-30T18:41:02.380Z"
   },
   {
    "duration": 39,
    "start_time": "2023-04-30T18:41:02.464Z"
   },
   {
    "duration": 28,
    "start_time": "2023-04-30T18:41:02.506Z"
   },
   {
    "duration": 34,
    "start_time": "2023-04-30T18:41:02.536Z"
   },
   {
    "duration": 1810,
    "start_time": "2023-04-30T18:41:02.573Z"
   },
   {
    "duration": 0,
    "start_time": "2023-04-30T18:41:04.385Z"
   },
   {
    "duration": 70,
    "start_time": "2023-04-30T18:43:10.328Z"
   },
   {
    "duration": 1335,
    "start_time": "2023-04-30T18:43:24.376Z"
   },
   {
    "duration": 201,
    "start_time": "2023-04-30T18:43:41.209Z"
   },
   {
    "duration": 1343,
    "start_time": "2023-04-30T18:43:54.777Z"
   },
   {
    "duration": 189,
    "start_time": "2023-04-30T18:44:02.753Z"
   },
   {
    "duration": 194,
    "start_time": "2023-04-30T18:44:34.072Z"
   },
   {
    "duration": 199,
    "start_time": "2023-04-30T18:44:42.773Z"
   },
   {
    "duration": 440,
    "start_time": "2023-04-30T18:47:17.475Z"
   },
   {
    "duration": 78,
    "start_time": "2023-04-30T18:47:17.918Z"
   },
   {
    "duration": 87,
    "start_time": "2023-04-30T18:47:17.997Z"
   },
   {
    "duration": 546,
    "start_time": "2023-04-30T18:47:18.087Z"
   },
   {
    "duration": 41,
    "start_time": "2023-04-30T18:47:18.635Z"
   },
   {
    "duration": 130,
    "start_time": "2023-04-30T18:47:18.678Z"
   },
   {
    "duration": 55,
    "start_time": "2023-04-30T18:47:18.810Z"
   },
   {
    "duration": 28,
    "start_time": "2023-04-30T18:47:18.866Z"
   },
   {
    "duration": 235,
    "start_time": "2023-04-30T18:47:18.896Z"
   },
   {
    "duration": 37,
    "start_time": "2023-04-30T18:47:19.133Z"
   },
   {
    "duration": 4,
    "start_time": "2023-04-30T18:47:19.172Z"
   },
   {
    "duration": 13,
    "start_time": "2023-04-30T18:47:19.178Z"
   },
   {
    "duration": 34,
    "start_time": "2023-04-30T18:47:19.193Z"
   },
   {
    "duration": 8,
    "start_time": "2023-04-30T18:47:19.228Z"
   },
   {
    "duration": 27,
    "start_time": "2023-04-30T18:47:19.238Z"
   },
   {
    "duration": 31,
    "start_time": "2023-04-30T18:47:19.267Z"
   },
   {
    "duration": 34,
    "start_time": "2023-04-30T18:47:19.300Z"
   },
   {
    "duration": 47,
    "start_time": "2023-04-30T18:47:19.335Z"
   },
   {
    "duration": 10,
    "start_time": "2023-04-30T18:47:19.383Z"
   },
   {
    "duration": 377,
    "start_time": "2023-04-30T18:47:19.394Z"
   },
   {
    "duration": 232,
    "start_time": "2023-04-30T18:47:19.773Z"
   },
   {
    "duration": 39,
    "start_time": "2023-04-30T18:47:20.007Z"
   },
   {
    "duration": 69,
    "start_time": "2023-04-30T18:47:20.048Z"
   },
   {
    "duration": 32,
    "start_time": "2023-04-30T18:47:20.119Z"
   },
   {
    "duration": 12,
    "start_time": "2023-04-30T18:47:20.152Z"
   },
   {
    "duration": 11,
    "start_time": "2023-04-30T18:47:20.166Z"
   },
   {
    "duration": 74,
    "start_time": "2023-04-30T18:47:20.179Z"
   },
   {
    "duration": 0,
    "start_time": "2023-04-30T18:47:20.255Z"
   },
   {
    "duration": 306,
    "start_time": "2023-04-30T18:48:20.829Z"
   },
   {
    "duration": 502,
    "start_time": "2023-04-30T18:48:27.785Z"
   },
   {
    "duration": 85,
    "start_time": "2023-04-30T18:48:28.288Z"
   },
   {
    "duration": 88,
    "start_time": "2023-04-30T18:48:28.375Z"
   },
   {
    "duration": 559,
    "start_time": "2023-04-30T18:48:28.465Z"
   },
   {
    "duration": 41,
    "start_time": "2023-04-30T18:48:29.025Z"
   },
   {
    "duration": 122,
    "start_time": "2023-04-30T18:48:29.067Z"
   },
   {
    "duration": 58,
    "start_time": "2023-04-30T18:48:29.191Z"
   },
   {
    "duration": 26,
    "start_time": "2023-04-30T18:48:29.250Z"
   },
   {
    "duration": 211,
    "start_time": "2023-04-30T18:48:29.277Z"
   },
   {
    "duration": 43,
    "start_time": "2023-04-30T18:48:29.491Z"
   },
   {
    "duration": 4,
    "start_time": "2023-04-30T18:48:29.536Z"
   },
   {
    "duration": 26,
    "start_time": "2023-04-30T18:48:29.541Z"
   },
   {
    "duration": 20,
    "start_time": "2023-04-30T18:48:29.568Z"
   },
   {
    "duration": 18,
    "start_time": "2023-04-30T18:48:29.590Z"
   },
   {
    "duration": 21,
    "start_time": "2023-04-30T18:48:29.610Z"
   },
   {
    "duration": 30,
    "start_time": "2023-04-30T18:48:29.633Z"
   },
   {
    "duration": 34,
    "start_time": "2023-04-30T18:48:29.665Z"
   },
   {
    "duration": 19,
    "start_time": "2023-04-30T18:48:29.700Z"
   },
   {
    "duration": 19,
    "start_time": "2023-04-30T18:48:29.720Z"
   },
   {
    "duration": 391,
    "start_time": "2023-04-30T18:48:29.740Z"
   },
   {
    "duration": 223,
    "start_time": "2023-04-30T18:48:30.132Z"
   },
   {
    "duration": 37,
    "start_time": "2023-04-30T18:48:30.357Z"
   },
   {
    "duration": 75,
    "start_time": "2023-04-30T18:48:30.396Z"
   },
   {
    "duration": 31,
    "start_time": "2023-04-30T18:48:30.472Z"
   },
   {
    "duration": 36,
    "start_time": "2023-04-30T18:48:30.505Z"
   },
   {
    "duration": 94,
    "start_time": "2023-04-30T18:48:30.543Z"
   },
   {
    "duration": 325,
    "start_time": "2023-04-30T18:48:30.638Z"
   },
   {
    "duration": 7,
    "start_time": "2023-04-30T18:48:30.966Z"
   },
   {
    "duration": 93,
    "start_time": "2023-04-30T18:49:23.424Z"
   },
   {
    "duration": 303,
    "start_time": "2023-04-30T18:49:38.743Z"
   },
   {
    "duration": 485,
    "start_time": "2023-04-30T18:49:46.458Z"
   },
   {
    "duration": 85,
    "start_time": "2023-04-30T18:49:46.946Z"
   },
   {
    "duration": 100,
    "start_time": "2023-04-30T18:49:47.033Z"
   },
   {
    "duration": 613,
    "start_time": "2023-04-30T18:49:47.136Z"
   },
   {
    "duration": 44,
    "start_time": "2023-04-30T18:49:47.752Z"
   },
   {
    "duration": 133,
    "start_time": "2023-04-30T18:49:47.798Z"
   },
   {
    "duration": 54,
    "start_time": "2023-04-30T18:49:47.932Z"
   },
   {
    "duration": 37,
    "start_time": "2023-04-30T18:49:47.987Z"
   },
   {
    "duration": 227,
    "start_time": "2023-04-30T18:49:48.025Z"
   },
   {
    "duration": 38,
    "start_time": "2023-04-30T18:49:48.256Z"
   },
   {
    "duration": 22,
    "start_time": "2023-04-30T18:49:48.296Z"
   },
   {
    "duration": 9,
    "start_time": "2023-04-30T18:49:48.320Z"
   },
   {
    "duration": 12,
    "start_time": "2023-04-30T18:49:48.330Z"
   },
   {
    "duration": 7,
    "start_time": "2023-04-30T18:49:48.343Z"
   },
   {
    "duration": 33,
    "start_time": "2023-04-30T18:49:48.352Z"
   },
   {
    "duration": 41,
    "start_time": "2023-04-30T18:49:48.387Z"
   },
   {
    "duration": 35,
    "start_time": "2023-04-30T18:49:48.430Z"
   },
   {
    "duration": 18,
    "start_time": "2023-04-30T18:49:48.467Z"
   },
   {
    "duration": 7,
    "start_time": "2023-04-30T18:49:48.486Z"
   },
   {
    "duration": 386,
    "start_time": "2023-04-30T18:49:48.494Z"
   },
   {
    "duration": 232,
    "start_time": "2023-04-30T18:49:48.882Z"
   },
   {
    "duration": 34,
    "start_time": "2023-04-30T18:49:49.118Z"
   },
   {
    "duration": 77,
    "start_time": "2023-04-30T18:49:49.153Z"
   },
   {
    "duration": 41,
    "start_time": "2023-04-30T18:49:49.232Z"
   },
   {
    "duration": 70,
    "start_time": "2023-04-30T18:49:49.275Z"
   },
   {
    "duration": 14,
    "start_time": "2023-04-30T18:49:49.347Z"
   },
   {
    "duration": 317,
    "start_time": "2023-04-30T18:49:49.363Z"
   },
   {
    "duration": 7,
    "start_time": "2023-04-30T18:49:49.684Z"
   },
   {
    "duration": 476,
    "start_time": "2023-04-30T18:52:09.776Z"
   },
   {
    "duration": 543,
    "start_time": "2023-04-30T18:52:22.047Z"
   },
   {
    "duration": 190,
    "start_time": "2023-04-30T18:53:26.772Z"
   },
   {
    "duration": 526,
    "start_time": "2023-04-30T18:53:36.911Z"
   },
   {
    "duration": 84,
    "start_time": "2023-04-30T18:53:37.439Z"
   },
   {
    "duration": 93,
    "start_time": "2023-04-30T18:53:37.525Z"
   },
   {
    "duration": 562,
    "start_time": "2023-04-30T18:53:37.620Z"
   },
   {
    "duration": 40,
    "start_time": "2023-04-30T18:53:38.184Z"
   },
   {
    "duration": 123,
    "start_time": "2023-04-30T18:53:38.226Z"
   },
   {
    "duration": 53,
    "start_time": "2023-04-30T18:53:38.351Z"
   },
   {
    "duration": 37,
    "start_time": "2023-04-30T18:53:38.405Z"
   },
   {
    "duration": 227,
    "start_time": "2023-04-30T18:53:38.444Z"
   },
   {
    "duration": 47,
    "start_time": "2023-04-30T18:53:38.673Z"
   },
   {
    "duration": 4,
    "start_time": "2023-04-30T18:53:38.722Z"
   },
   {
    "duration": 22,
    "start_time": "2023-04-30T18:53:38.728Z"
   },
   {
    "duration": 38,
    "start_time": "2023-04-30T18:53:38.751Z"
   },
   {
    "duration": 6,
    "start_time": "2023-04-30T18:53:38.791Z"
   },
   {
    "duration": 16,
    "start_time": "2023-04-30T18:53:38.799Z"
   },
   {
    "duration": 22,
    "start_time": "2023-04-30T18:53:38.817Z"
   },
   {
    "duration": 37,
    "start_time": "2023-04-30T18:53:38.841Z"
   },
   {
    "duration": 14,
    "start_time": "2023-04-30T18:53:38.879Z"
   },
   {
    "duration": 24,
    "start_time": "2023-04-30T18:53:38.895Z"
   },
   {
    "duration": 373,
    "start_time": "2023-04-30T18:53:38.921Z"
   },
   {
    "duration": 217,
    "start_time": "2023-04-30T18:53:39.295Z"
   },
   {
    "duration": 31,
    "start_time": "2023-04-30T18:53:39.518Z"
   },
   {
    "duration": 71,
    "start_time": "2023-04-30T18:53:39.551Z"
   },
   {
    "duration": 32,
    "start_time": "2023-04-30T18:53:39.623Z"
   },
   {
    "duration": 32,
    "start_time": "2023-04-30T18:53:39.656Z"
   },
   {
    "duration": 43,
    "start_time": "2023-04-30T18:53:39.689Z"
   },
   {
    "duration": 167,
    "start_time": "2023-04-30T18:53:39.733Z"
   },
   {
    "duration": 0,
    "start_time": "2023-04-30T18:53:39.902Z"
   },
   {
    "duration": 24,
    "start_time": "2023-04-30T18:54:53.305Z"
   },
   {
    "duration": 203,
    "start_time": "2023-04-30T18:55:08.893Z"
   },
   {
    "duration": 331,
    "start_time": "2023-04-30T18:56:41.927Z"
   },
   {
    "duration": 543,
    "start_time": "2023-04-30T18:56:48.995Z"
   },
   {
    "duration": 83,
    "start_time": "2023-04-30T18:56:49.540Z"
   },
   {
    "duration": 99,
    "start_time": "2023-04-30T18:56:49.627Z"
   },
   {
    "duration": 591,
    "start_time": "2023-04-30T18:56:49.728Z"
   },
   {
    "duration": 43,
    "start_time": "2023-04-30T18:56:50.321Z"
   },
   {
    "duration": 135,
    "start_time": "2023-04-30T18:56:50.366Z"
   },
   {
    "duration": 57,
    "start_time": "2023-04-30T18:56:50.503Z"
   },
   {
    "duration": 23,
    "start_time": "2023-04-30T18:56:50.562Z"
   },
   {
    "duration": 253,
    "start_time": "2023-04-30T18:56:50.587Z"
   },
   {
    "duration": 37,
    "start_time": "2023-04-30T18:56:50.844Z"
   },
   {
    "duration": 6,
    "start_time": "2023-04-30T18:56:50.883Z"
   },
   {
    "duration": 33,
    "start_time": "2023-04-30T18:56:50.891Z"
   },
   {
    "duration": 18,
    "start_time": "2023-04-30T18:56:50.926Z"
   },
   {
    "duration": 7,
    "start_time": "2023-04-30T18:56:50.946Z"
   },
   {
    "duration": 11,
    "start_time": "2023-04-30T18:56:50.955Z"
   },
   {
    "duration": 24,
    "start_time": "2023-04-30T18:56:50.967Z"
   },
   {
    "duration": 32,
    "start_time": "2023-04-30T18:56:50.993Z"
   },
   {
    "duration": 18,
    "start_time": "2023-04-30T18:56:51.027Z"
   },
   {
    "duration": 9,
    "start_time": "2023-04-30T18:56:51.046Z"
   },
   {
    "duration": 385,
    "start_time": "2023-04-30T18:56:51.057Z"
   },
   {
    "duration": 215,
    "start_time": "2023-04-30T18:56:51.444Z"
   },
   {
    "duration": 38,
    "start_time": "2023-04-30T18:56:51.661Z"
   },
   {
    "duration": 59,
    "start_time": "2023-04-30T18:56:51.718Z"
   },
   {
    "duration": 65,
    "start_time": "2023-04-30T18:56:51.780Z"
   },
   {
    "duration": 13,
    "start_time": "2023-04-30T18:56:51.849Z"
   },
   {
    "duration": 23,
    "start_time": "2023-04-30T18:56:51.864Z"
   },
   {
    "duration": 352,
    "start_time": "2023-04-30T18:56:51.889Z"
   },
   {
    "duration": 8,
    "start_time": "2023-04-30T18:56:52.244Z"
   },
   {
    "duration": 8,
    "start_time": "2023-04-30T18:58:00.792Z"
   },
   {
    "duration": 8,
    "start_time": "2023-04-30T18:58:00.981Z"
   },
   {
    "duration": 8,
    "start_time": "2023-04-30T18:58:01.151Z"
   },
   {
    "duration": 8,
    "start_time": "2023-04-30T18:58:01.312Z"
   },
   {
    "duration": 7,
    "start_time": "2023-04-30T18:58:01.477Z"
   },
   {
    "duration": 11,
    "start_time": "2023-04-30T19:00:48.229Z"
   },
   {
    "duration": 304,
    "start_time": "2023-04-30T19:03:14.200Z"
   },
   {
    "duration": 501,
    "start_time": "2023-04-30T19:03:20.750Z"
   },
   {
    "duration": 83,
    "start_time": "2023-04-30T19:03:21.253Z"
   },
   {
    "duration": 96,
    "start_time": "2023-04-30T19:03:21.337Z"
   },
   {
    "duration": 606,
    "start_time": "2023-04-30T19:03:21.436Z"
   },
   {
    "duration": 42,
    "start_time": "2023-04-30T19:03:22.043Z"
   },
   {
    "duration": 126,
    "start_time": "2023-04-30T19:03:22.086Z"
   },
   {
    "duration": 52,
    "start_time": "2023-04-30T19:03:22.217Z"
   },
   {
    "duration": 23,
    "start_time": "2023-04-30T19:03:22.270Z"
   },
   {
    "duration": 277,
    "start_time": "2023-04-30T19:03:22.295Z"
   },
   {
    "duration": 43,
    "start_time": "2023-04-30T19:03:22.575Z"
   },
   {
    "duration": 4,
    "start_time": "2023-04-30T19:03:22.620Z"
   },
   {
    "duration": 16,
    "start_time": "2023-04-30T19:03:22.626Z"
   },
   {
    "duration": 27,
    "start_time": "2023-04-30T19:03:22.643Z"
   },
   {
    "duration": 19,
    "start_time": "2023-04-30T19:03:22.672Z"
   },
   {
    "duration": 13,
    "start_time": "2023-04-30T19:03:22.693Z"
   },
   {
    "duration": 17,
    "start_time": "2023-04-30T19:03:22.708Z"
   },
   {
    "duration": 33,
    "start_time": "2023-04-30T19:03:22.726Z"
   },
   {
    "duration": 23,
    "start_time": "2023-04-30T19:03:22.761Z"
   },
   {
    "duration": 6,
    "start_time": "2023-04-30T19:03:22.785Z"
   },
   {
    "duration": 397,
    "start_time": "2023-04-30T19:03:22.793Z"
   },
   {
    "duration": 224,
    "start_time": "2023-04-30T19:03:23.193Z"
   },
   {
    "duration": 31,
    "start_time": "2023-04-30T19:03:23.419Z"
   },
   {
    "duration": 71,
    "start_time": "2023-04-30T19:03:23.452Z"
   },
   {
    "duration": 30,
    "start_time": "2023-04-30T19:03:23.524Z"
   },
   {
    "duration": 12,
    "start_time": "2023-04-30T19:03:23.556Z"
   },
   {
    "duration": 13,
    "start_time": "2023-04-30T19:03:23.569Z"
   },
   {
    "duration": 377,
    "start_time": "2023-04-30T19:03:23.583Z"
   },
   {
    "duration": 0,
    "start_time": "2023-04-30T19:03:23.961Z"
   },
   {
    "duration": 328,
    "start_time": "2023-04-30T19:03:40.247Z"
   },
   {
    "duration": 506,
    "start_time": "2023-04-30T19:03:47.912Z"
   },
   {
    "duration": 76,
    "start_time": "2023-04-30T19:03:48.420Z"
   },
   {
    "duration": 89,
    "start_time": "2023-04-30T19:03:48.498Z"
   },
   {
    "duration": 537,
    "start_time": "2023-04-30T19:03:48.589Z"
   },
   {
    "duration": 40,
    "start_time": "2023-04-30T19:03:49.127Z"
   },
   {
    "duration": 129,
    "start_time": "2023-04-30T19:03:49.169Z"
   },
   {
    "duration": 55,
    "start_time": "2023-04-30T19:03:49.300Z"
   },
   {
    "duration": 23,
    "start_time": "2023-04-30T19:03:49.356Z"
   },
   {
    "duration": 223,
    "start_time": "2023-04-30T19:03:49.381Z"
   },
   {
    "duration": 42,
    "start_time": "2023-04-30T19:03:49.606Z"
   },
   {
    "duration": 4,
    "start_time": "2023-04-30T19:03:49.650Z"
   },
   {
    "duration": 9,
    "start_time": "2023-04-30T19:03:49.655Z"
   },
   {
    "duration": 9,
    "start_time": "2023-04-30T19:03:49.666Z"
   },
   {
    "duration": 9,
    "start_time": "2023-04-30T19:03:49.677Z"
   },
   {
    "duration": 9,
    "start_time": "2023-04-30T19:03:49.718Z"
   },
   {
    "duration": 17,
    "start_time": "2023-04-30T19:03:49.729Z"
   },
   {
    "duration": 10,
    "start_time": "2023-04-30T19:03:49.748Z"
   },
   {
    "duration": 12,
    "start_time": "2023-04-30T19:03:49.760Z"
   },
   {
    "duration": 6,
    "start_time": "2023-04-30T19:03:49.773Z"
   },
   {
    "duration": 372,
    "start_time": "2023-04-30T19:03:49.780Z"
   },
   {
    "duration": 206,
    "start_time": "2023-04-30T19:03:50.154Z"
   },
   {
    "duration": 30,
    "start_time": "2023-04-30T19:03:50.361Z"
   },
   {
    "duration": 68,
    "start_time": "2023-04-30T19:03:50.393Z"
   },
   {
    "duration": 28,
    "start_time": "2023-04-30T19:03:50.462Z"
   },
   {
    "duration": 26,
    "start_time": "2023-04-30T19:03:50.492Z"
   },
   {
    "duration": 23,
    "start_time": "2023-04-30T19:03:50.520Z"
   },
   {
    "duration": 305,
    "start_time": "2023-04-30T19:03:50.545Z"
   },
   {
    "duration": 7,
    "start_time": "2023-04-30T19:03:50.853Z"
   },
   {
    "duration": 254,
    "start_time": "2023-04-30T19:05:45.026Z"
   },
   {
    "duration": 10,
    "start_time": "2023-04-30T19:05:47.772Z"
   },
   {
    "duration": 502,
    "start_time": "2023-04-30T19:05:57.216Z"
   },
   {
    "duration": 74,
    "start_time": "2023-04-30T19:05:57.720Z"
   },
   {
    "duration": 89,
    "start_time": "2023-04-30T19:05:57.795Z"
   },
   {
    "duration": 540,
    "start_time": "2023-04-30T19:05:57.887Z"
   },
   {
    "duration": 41,
    "start_time": "2023-04-30T19:05:58.429Z"
   },
   {
    "duration": 135,
    "start_time": "2023-04-30T19:05:58.472Z"
   },
   {
    "duration": 53,
    "start_time": "2023-04-30T19:05:58.608Z"
   },
   {
    "duration": 22,
    "start_time": "2023-04-30T19:05:58.663Z"
   },
   {
    "duration": 214,
    "start_time": "2023-04-30T19:05:58.686Z"
   },
   {
    "duration": 40,
    "start_time": "2023-04-30T19:05:58.903Z"
   },
   {
    "duration": 5,
    "start_time": "2023-04-30T19:05:58.945Z"
   },
   {
    "duration": 11,
    "start_time": "2023-04-30T19:05:58.951Z"
   },
   {
    "duration": 10,
    "start_time": "2023-04-30T19:05:58.964Z"
   },
   {
    "duration": 6,
    "start_time": "2023-04-30T19:05:58.975Z"
   },
   {
    "duration": 42,
    "start_time": "2023-04-30T19:05:58.982Z"
   },
   {
    "duration": 12,
    "start_time": "2023-04-30T19:05:59.026Z"
   },
   {
    "duration": 10,
    "start_time": "2023-04-30T19:05:59.040Z"
   },
   {
    "duration": 11,
    "start_time": "2023-04-30T19:05:59.052Z"
   },
   {
    "duration": 6,
    "start_time": "2023-04-30T19:05:59.065Z"
   },
   {
    "duration": 370,
    "start_time": "2023-04-30T19:05:59.073Z"
   },
   {
    "duration": 266,
    "start_time": "2023-04-30T19:05:59.445Z"
   },
   {
    "duration": 34,
    "start_time": "2023-04-30T19:05:59.712Z"
   },
   {
    "duration": 72,
    "start_time": "2023-04-30T19:05:59.748Z"
   },
   {
    "duration": 30,
    "start_time": "2023-04-30T19:05:59.821Z"
   },
   {
    "duration": 11,
    "start_time": "2023-04-30T19:05:59.853Z"
   },
   {
    "duration": 15,
    "start_time": "2023-04-30T19:05:59.866Z"
   },
   {
    "duration": 288,
    "start_time": "2023-04-30T19:05:59.882Z"
   },
   {
    "duration": 7,
    "start_time": "2023-04-30T19:06:00.173Z"
   },
   {
    "duration": 295,
    "start_time": "2023-04-30T19:21:53.449Z"
   },
   {
    "duration": 274,
    "start_time": "2023-04-30T19:22:00.380Z"
   },
   {
    "duration": 281,
    "start_time": "2023-04-30T19:23:42.089Z"
   },
   {
    "duration": 297,
    "start_time": "2023-04-30T19:23:49.375Z"
   },
   {
    "duration": 52,
    "start_time": "2023-04-30T19:25:02.676Z"
   },
   {
    "duration": 129,
    "start_time": "2023-04-30T19:39:06.602Z"
   },
   {
    "duration": 19,
    "start_time": "2023-04-30T19:39:51.045Z"
   },
   {
    "duration": 542,
    "start_time": "2023-04-30T19:40:11.585Z"
   },
   {
    "duration": 84,
    "start_time": "2023-04-30T19:40:12.129Z"
   },
   {
    "duration": 95,
    "start_time": "2023-04-30T19:40:12.215Z"
   },
   {
    "duration": 606,
    "start_time": "2023-04-30T19:40:12.311Z"
   },
   {
    "duration": 44,
    "start_time": "2023-04-30T19:40:12.919Z"
   },
   {
    "duration": 125,
    "start_time": "2023-04-30T19:40:12.964Z"
   },
   {
    "duration": 55,
    "start_time": "2023-04-30T19:40:13.090Z"
   },
   {
    "duration": 22,
    "start_time": "2023-04-30T19:40:13.147Z"
   },
   {
    "duration": 228,
    "start_time": "2023-04-30T19:40:13.171Z"
   },
   {
    "duration": 40,
    "start_time": "2023-04-30T19:40:13.401Z"
   },
   {
    "duration": 5,
    "start_time": "2023-04-30T19:40:13.443Z"
   },
   {
    "duration": 13,
    "start_time": "2023-04-30T19:40:13.449Z"
   },
   {
    "duration": 9,
    "start_time": "2023-04-30T19:40:13.464Z"
   },
   {
    "duration": 6,
    "start_time": "2023-04-30T19:40:13.476Z"
   },
   {
    "duration": 38,
    "start_time": "2023-04-30T19:40:13.483Z"
   },
   {
    "duration": 16,
    "start_time": "2023-04-30T19:40:13.523Z"
   },
   {
    "duration": 10,
    "start_time": "2023-04-30T19:40:13.540Z"
   },
   {
    "duration": 10,
    "start_time": "2023-04-30T19:40:13.552Z"
   },
   {
    "duration": 5,
    "start_time": "2023-04-30T19:40:13.563Z"
   },
   {
    "duration": 382,
    "start_time": "2023-04-30T19:40:13.570Z"
   },
   {
    "duration": 204,
    "start_time": "2023-04-30T19:40:13.954Z"
   },
   {
    "duration": 30,
    "start_time": "2023-04-30T19:40:14.160Z"
   },
   {
    "duration": 72,
    "start_time": "2023-04-30T19:40:14.191Z"
   },
   {
    "duration": 31,
    "start_time": "2023-04-30T19:40:14.264Z"
   },
   {
    "duration": 302,
    "start_time": "2023-04-30T19:40:14.297Z"
   },
   {
    "duration": 58,
    "start_time": "2023-04-30T19:40:14.601Z"
   },
   {
    "duration": 139,
    "start_time": "2023-04-30T19:40:14.661Z"
   },
   {
    "duration": 19,
    "start_time": "2023-04-30T19:40:27.611Z"
   },
   {
    "duration": 18,
    "start_time": "2023-04-30T19:42:25.474Z"
   },
   {
    "duration": 19,
    "start_time": "2023-04-30T19:42:43.184Z"
   },
   {
    "duration": 20,
    "start_time": "2023-04-30T19:43:01.931Z"
   },
   {
    "duration": 551,
    "start_time": "2023-04-30T19:43:10.595Z"
   },
   {
    "duration": 94,
    "start_time": "2023-04-30T19:43:11.148Z"
   },
   {
    "duration": 99,
    "start_time": "2023-04-30T19:43:11.244Z"
   },
   {
    "duration": 644,
    "start_time": "2023-04-30T19:43:11.345Z"
   },
   {
    "duration": 45,
    "start_time": "2023-04-30T19:43:11.991Z"
   },
   {
    "duration": 130,
    "start_time": "2023-04-30T19:43:12.038Z"
   },
   {
    "duration": 63,
    "start_time": "2023-04-30T19:43:12.170Z"
   },
   {
    "duration": 25,
    "start_time": "2023-04-30T19:43:12.234Z"
   },
   {
    "duration": 274,
    "start_time": "2023-04-30T19:43:12.261Z"
   },
   {
    "duration": 43,
    "start_time": "2023-04-30T19:43:12.539Z"
   },
   {
    "duration": 5,
    "start_time": "2023-04-30T19:43:12.584Z"
   },
   {
    "duration": 33,
    "start_time": "2023-04-30T19:43:12.590Z"
   },
   {
    "duration": 10,
    "start_time": "2023-04-30T19:43:12.625Z"
   },
   {
    "duration": 12,
    "start_time": "2023-04-30T19:43:12.636Z"
   },
   {
    "duration": 21,
    "start_time": "2023-04-30T19:43:12.650Z"
   },
   {
    "duration": 19,
    "start_time": "2023-04-30T19:43:12.672Z"
   },
   {
    "duration": 26,
    "start_time": "2023-04-30T19:43:12.693Z"
   },
   {
    "duration": 16,
    "start_time": "2023-04-30T19:43:12.721Z"
   },
   {
    "duration": 12,
    "start_time": "2023-04-30T19:43:12.739Z"
   },
   {
    "duration": 408,
    "start_time": "2023-04-30T19:43:12.753Z"
   },
   {
    "duration": 235,
    "start_time": "2023-04-30T19:43:13.164Z"
   },
   {
    "duration": 42,
    "start_time": "2023-04-30T19:43:13.401Z"
   },
   {
    "duration": 57,
    "start_time": "2023-04-30T19:43:13.444Z"
   },
   {
    "duration": 43,
    "start_time": "2023-04-30T19:43:13.503Z"
   },
   {
    "duration": 316,
    "start_time": "2023-04-30T19:43:13.547Z"
   },
   {
    "duration": 61,
    "start_time": "2023-04-30T19:43:13.865Z"
   },
   {
    "duration": 137,
    "start_time": "2023-04-30T19:43:13.928Z"
   },
   {
    "duration": 9,
    "start_time": "2023-04-30T19:43:26.956Z"
   },
   {
    "duration": 10,
    "start_time": "2023-04-30T19:44:05.229Z"
   },
   {
    "duration": 18,
    "start_time": "2023-04-30T19:44:12.237Z"
   },
   {
    "duration": 22,
    "start_time": "2023-04-30T19:44:21.179Z"
   },
   {
    "duration": 1249,
    "start_time": "2023-04-30T19:45:18.743Z"
   },
   {
    "duration": 4,
    "start_time": "2023-04-30T19:45:58.388Z"
   },
   {
    "duration": 55,
    "start_time": "2023-04-30T19:46:02.872Z"
   },
   {
    "duration": 285,
    "start_time": "2023-04-30T19:56:22.084Z"
   },
   {
    "duration": 52,
    "start_time": "2023-04-30T19:56:24.889Z"
   },
   {
    "duration": 558,
    "start_time": "2023-05-01T09:33:42.704Z"
   },
   {
    "duration": 134,
    "start_time": "2023-05-01T09:33:43.264Z"
   },
   {
    "duration": 337,
    "start_time": "2023-05-01T09:33:43.400Z"
   },
   {
    "duration": 731,
    "start_time": "2023-05-01T09:33:43.739Z"
   },
   {
    "duration": 91,
    "start_time": "2023-05-01T09:33:44.472Z"
   },
   {
    "duration": 119,
    "start_time": "2023-05-01T09:33:44.564Z"
   },
   {
    "duration": 57,
    "start_time": "2023-05-01T09:33:44.685Z"
   },
   {
    "duration": 23,
    "start_time": "2023-05-01T09:33:44.743Z"
   },
   {
    "duration": 235,
    "start_time": "2023-05-01T09:33:44.768Z"
   },
   {
    "duration": 44,
    "start_time": "2023-05-01T09:33:45.004Z"
   },
   {
    "duration": 16,
    "start_time": "2023-05-01T09:33:45.050Z"
   },
   {
    "duration": 41,
    "start_time": "2023-05-01T09:33:45.067Z"
   },
   {
    "duration": 23,
    "start_time": "2023-05-01T09:33:45.110Z"
   },
   {
    "duration": 32,
    "start_time": "2023-05-01T09:33:45.136Z"
   },
   {
    "duration": 15,
    "start_time": "2023-05-01T09:33:45.170Z"
   },
   {
    "duration": 30,
    "start_time": "2023-05-01T09:33:45.187Z"
   },
   {
    "duration": 14,
    "start_time": "2023-05-01T09:33:45.219Z"
   },
   {
    "duration": 10,
    "start_time": "2023-05-01T09:33:45.235Z"
   },
   {
    "duration": 5,
    "start_time": "2023-05-01T09:33:45.247Z"
   },
   {
    "duration": 377,
    "start_time": "2023-05-01T09:33:45.254Z"
   },
   {
    "duration": 239,
    "start_time": "2023-05-01T09:33:45.633Z"
   },
   {
    "duration": 31,
    "start_time": "2023-05-01T09:33:45.874Z"
   },
   {
    "duration": 54,
    "start_time": "2023-05-01T09:33:45.918Z"
   },
   {
    "duration": 50,
    "start_time": "2023-05-01T09:33:45.974Z"
   },
   {
    "duration": 298,
    "start_time": "2023-05-01T09:33:46.025Z"
   },
   {
    "duration": 57,
    "start_time": "2023-05-01T09:33:46.325Z"
   },
   {
    "duration": 84,
    "start_time": "2023-05-01T09:33:46.384Z"
   },
   {
    "duration": 12,
    "start_time": "2023-05-01T09:54:54.678Z"
   },
   {
    "duration": 147,
    "start_time": "2023-05-01T09:55:32.364Z"
   },
   {
    "duration": 10,
    "start_time": "2023-05-01T09:55:39.816Z"
   },
   {
    "duration": 54,
    "start_time": "2023-05-01T09:56:25.439Z"
   },
   {
    "duration": 63,
    "start_time": "2023-05-01T10:03:49.246Z"
   },
   {
    "duration": 11,
    "start_time": "2023-05-01T10:10:24.141Z"
   },
   {
    "duration": 5,
    "start_time": "2023-05-01T10:23:36.496Z"
   },
   {
    "duration": 14,
    "start_time": "2023-05-01T10:23:38.107Z"
   },
   {
    "duration": 13,
    "start_time": "2023-05-01T10:24:54.804Z"
   },
   {
    "duration": 61,
    "start_time": "2023-05-01T10:26:46.647Z"
   },
   {
    "duration": 66,
    "start_time": "2023-05-01T10:27:38.659Z"
   },
   {
    "duration": 116,
    "start_time": "2023-05-01T10:27:50.404Z"
   },
   {
    "duration": 68,
    "start_time": "2023-05-01T10:28:08.045Z"
   },
   {
    "duration": 20,
    "start_time": "2023-05-01T10:29:49.340Z"
   },
   {
    "duration": 119,
    "start_time": "2023-05-01T10:40:17.816Z"
   },
   {
    "duration": 111,
    "start_time": "2023-05-01T10:54:44.707Z"
   },
   {
    "duration": 131,
    "start_time": "2023-05-01T10:54:51.600Z"
   },
   {
    "duration": 99,
    "start_time": "2023-05-01T11:01:09.928Z"
   },
   {
    "duration": 15,
    "start_time": "2023-05-01T11:02:10.902Z"
   },
   {
    "duration": 291,
    "start_time": "2023-05-01T11:02:18.834Z"
   },
   {
    "duration": 11,
    "start_time": "2023-05-01T11:02:20.998Z"
   },
   {
    "duration": 11,
    "start_time": "2023-05-01T11:02:35.443Z"
   },
   {
    "duration": 15,
    "start_time": "2023-05-01T11:02:42.704Z"
   },
   {
    "duration": 19,
    "start_time": "2023-05-01T11:02:51.007Z"
   },
   {
    "duration": 3,
    "start_time": "2023-05-01T11:03:15.425Z"
   },
   {
    "duration": 53,
    "start_time": "2023-05-01T11:03:15.430Z"
   },
   {
    "duration": 92,
    "start_time": "2023-05-01T11:03:15.484Z"
   },
   {
    "duration": 546,
    "start_time": "2023-05-01T11:03:15.577Z"
   },
   {
    "duration": 40,
    "start_time": "2023-05-01T11:03:16.125Z"
   },
   {
    "duration": 111,
    "start_time": "2023-05-01T11:03:16.167Z"
   },
   {
    "duration": 51,
    "start_time": "2023-05-01T11:03:16.280Z"
   },
   {
    "duration": 21,
    "start_time": "2023-05-01T11:03:16.332Z"
   },
   {
    "duration": 241,
    "start_time": "2023-05-01T11:03:16.355Z"
   },
   {
    "duration": 41,
    "start_time": "2023-05-01T11:03:16.598Z"
   },
   {
    "duration": 9,
    "start_time": "2023-05-01T11:03:16.642Z"
   },
   {
    "duration": 28,
    "start_time": "2023-05-01T11:03:16.653Z"
   },
   {
    "duration": 39,
    "start_time": "2023-05-01T11:03:16.682Z"
   },
   {
    "duration": 39,
    "start_time": "2023-05-01T11:03:16.723Z"
   },
   {
    "duration": 62,
    "start_time": "2023-05-01T11:03:16.764Z"
   },
   {
    "duration": 44,
    "start_time": "2023-05-01T11:03:16.828Z"
   },
   {
    "duration": 39,
    "start_time": "2023-05-01T11:03:16.874Z"
   },
   {
    "duration": 27,
    "start_time": "2023-05-01T11:03:16.915Z"
   },
   {
    "duration": 30,
    "start_time": "2023-05-01T11:03:16.944Z"
   },
   {
    "duration": 113,
    "start_time": "2023-05-01T11:03:16.976Z"
   },
   {
    "duration": 199,
    "start_time": "2023-05-01T11:03:17.091Z"
   },
   {
    "duration": 39,
    "start_time": "2023-05-01T11:03:17.292Z"
   },
   {
    "duration": 58,
    "start_time": "2023-05-01T11:03:17.333Z"
   },
   {
    "duration": 44,
    "start_time": "2023-05-01T11:03:17.392Z"
   },
   {
    "duration": 281,
    "start_time": "2023-05-01T11:03:17.437Z"
   },
   {
    "duration": 19,
    "start_time": "2023-05-01T11:03:17.719Z"
   },
   {
    "duration": 58,
    "start_time": "2023-05-01T11:03:43.325Z"
   },
   {
    "duration": 9,
    "start_time": "2023-05-01T11:15:29.972Z"
   },
   {
    "duration": 278,
    "start_time": "2023-05-01T11:17:42.743Z"
   },
   {
    "duration": 99,
    "start_time": "2023-05-01T11:19:04.431Z"
   },
   {
    "duration": 51,
    "start_time": "2023-05-01T11:19:48.745Z"
   },
   {
    "duration": 56,
    "start_time": "2023-05-01T11:25:14.928Z"
   },
   {
    "duration": 97,
    "start_time": "2023-05-01T11:26:08.441Z"
   },
   {
    "duration": 64,
    "start_time": "2023-05-01T11:26:25.422Z"
   },
   {
    "duration": 9,
    "start_time": "2023-05-01T11:32:56.135Z"
   },
   {
    "duration": 10,
    "start_time": "2023-05-01T11:32:57.526Z"
   },
   {
    "duration": 309,
    "start_time": "2023-05-01T11:34:25.920Z"
   },
   {
    "duration": 283,
    "start_time": "2023-05-01T11:34:33.929Z"
   },
   {
    "duration": 324,
    "start_time": "2023-05-01T11:35:12.115Z"
   },
   {
    "duration": 55,
    "start_time": "2023-05-01T11:35:55.108Z"
   },
   {
    "duration": 4,
    "start_time": "2023-05-01T11:37:11.498Z"
   },
   {
    "duration": 5,
    "start_time": "2023-05-01T11:37:14.648Z"
   },
   {
    "duration": 510,
    "start_time": "2023-05-01T11:37:47.142Z"
   },
   {
    "duration": 86,
    "start_time": "2023-05-01T11:37:47.654Z"
   },
   {
    "duration": 96,
    "start_time": "2023-05-01T11:37:47.743Z"
   },
   {
    "duration": 593,
    "start_time": "2023-05-01T11:37:47.840Z"
   },
   {
    "duration": 44,
    "start_time": "2023-05-01T11:37:48.436Z"
   },
   {
    "duration": 123,
    "start_time": "2023-05-01T11:37:48.482Z"
   },
   {
    "duration": 52,
    "start_time": "2023-05-01T11:37:48.607Z"
   },
   {
    "duration": 25,
    "start_time": "2023-05-01T11:37:48.661Z"
   },
   {
    "duration": 257,
    "start_time": "2023-05-01T11:37:48.688Z"
   },
   {
    "duration": 38,
    "start_time": "2023-05-01T11:37:48.946Z"
   },
   {
    "duration": 5,
    "start_time": "2023-05-01T11:37:48.987Z"
   },
   {
    "duration": 15,
    "start_time": "2023-05-01T11:37:49.017Z"
   },
   {
    "duration": 33,
    "start_time": "2023-05-01T11:37:49.034Z"
   },
   {
    "duration": 7,
    "start_time": "2023-05-01T11:37:49.071Z"
   },
   {
    "duration": 19,
    "start_time": "2023-05-01T11:37:49.080Z"
   },
   {
    "duration": 28,
    "start_time": "2023-05-01T11:37:49.101Z"
   },
   {
    "duration": 13,
    "start_time": "2023-05-01T11:37:49.131Z"
   },
   {
    "duration": 19,
    "start_time": "2023-05-01T11:37:49.146Z"
   },
   {
    "duration": 20,
    "start_time": "2023-05-01T11:37:49.167Z"
   },
   {
    "duration": 408,
    "start_time": "2023-05-01T11:37:49.188Z"
   },
   {
    "duration": 245,
    "start_time": "2023-05-01T11:37:49.598Z"
   },
   {
    "duration": 35,
    "start_time": "2023-05-01T11:37:49.845Z"
   },
   {
    "duration": 82,
    "start_time": "2023-05-01T11:37:49.882Z"
   },
   {
    "duration": 34,
    "start_time": "2023-05-01T11:37:49.966Z"
   },
   {
    "duration": 24,
    "start_time": "2023-05-01T11:37:50.001Z"
   },
   {
    "duration": 10,
    "start_time": "2023-05-01T11:37:50.027Z"
   },
   {
    "duration": 28,
    "start_time": "2023-05-01T11:37:50.038Z"
   },
   {
    "duration": 373,
    "start_time": "2023-05-01T11:37:50.068Z"
   },
   {
    "duration": 349,
    "start_time": "2023-05-01T11:42:17.929Z"
   },
   {
    "duration": 414,
    "start_time": "2023-05-01T11:42:42.293Z"
   },
   {
    "duration": 124,
    "start_time": "2023-05-01T11:42:46.030Z"
   },
   {
    "duration": 18,
    "start_time": "2023-05-01T11:43:04.498Z"
   },
   {
    "duration": 7,
    "start_time": "2023-05-01T11:43:16.719Z"
   },
   {
    "duration": 394,
    "start_time": "2023-05-01T11:43:21.209Z"
   },
   {
    "duration": 20,
    "start_time": "2023-05-01T11:43:23.494Z"
   },
   {
    "duration": 19,
    "start_time": "2023-05-01T11:44:22.013Z"
   },
   {
    "duration": 5,
    "start_time": "2023-05-01T11:44:25.280Z"
   },
   {
    "duration": 9,
    "start_time": "2023-05-01T11:44:27.301Z"
   },
   {
    "duration": 388,
    "start_time": "2023-05-01T11:44:31.700Z"
   },
   {
    "duration": 55,
    "start_time": "2023-05-01T11:44:33.802Z"
   },
   {
    "duration": 370,
    "start_time": "2023-05-01T11:46:32.332Z"
   },
   {
    "duration": 24,
    "start_time": "2023-05-01T11:47:26.557Z"
   },
   {
    "duration": 49,
    "start_time": "2023-05-01T11:48:07.649Z"
   },
   {
    "duration": 324,
    "start_time": "2023-05-01T11:49:38.895Z"
   },
   {
    "duration": 401,
    "start_time": "2023-05-01T11:50:11.890Z"
   },
   {
    "duration": 51,
    "start_time": "2023-05-01T11:51:01.655Z"
   },
   {
    "duration": 7,
    "start_time": "2023-05-01T12:07:55.092Z"
   },
   {
    "duration": 88,
    "start_time": "2023-05-01T12:08:40.200Z"
   },
   {
    "duration": 413,
    "start_time": "2023-05-01T12:08:44.486Z"
   },
   {
    "duration": 4,
    "start_time": "2023-05-01T12:08:51.408Z"
   },
   {
    "duration": 442,
    "start_time": "2023-05-01T12:08:52.647Z"
   },
   {
    "duration": 390,
    "start_time": "2023-05-01T12:09:49.281Z"
   },
   {
    "duration": 382,
    "start_time": "2023-05-01T12:12:28.523Z"
   },
   {
    "duration": 590,
    "start_time": "2023-05-01T12:12:52.903Z"
   },
   {
    "duration": 99,
    "start_time": "2023-05-01T12:12:53.496Z"
   },
   {
    "duration": 96,
    "start_time": "2023-05-01T12:12:53.596Z"
   },
   {
    "duration": 619,
    "start_time": "2023-05-01T12:12:53.694Z"
   },
   {
    "duration": 51,
    "start_time": "2023-05-01T12:12:54.319Z"
   },
   {
    "duration": 125,
    "start_time": "2023-05-01T12:12:54.371Z"
   },
   {
    "duration": 71,
    "start_time": "2023-05-01T12:12:54.498Z"
   },
   {
    "duration": 24,
    "start_time": "2023-05-01T12:12:54.571Z"
   },
   {
    "duration": 256,
    "start_time": "2023-05-01T12:12:54.596Z"
   },
   {
    "duration": 38,
    "start_time": "2023-05-01T12:12:54.855Z"
   },
   {
    "duration": 23,
    "start_time": "2023-05-01T12:12:54.895Z"
   },
   {
    "duration": 21,
    "start_time": "2023-05-01T12:12:54.921Z"
   },
   {
    "duration": 13,
    "start_time": "2023-05-01T12:12:54.943Z"
   },
   {
    "duration": 33,
    "start_time": "2023-05-01T12:12:54.958Z"
   },
   {
    "duration": 19,
    "start_time": "2023-05-01T12:12:54.994Z"
   },
   {
    "duration": 38,
    "start_time": "2023-05-01T12:12:55.015Z"
   },
   {
    "duration": 19,
    "start_time": "2023-05-01T12:12:55.055Z"
   },
   {
    "duration": 14,
    "start_time": "2023-05-01T12:12:55.076Z"
   },
   {
    "duration": 19,
    "start_time": "2023-05-01T12:12:55.092Z"
   },
   {
    "duration": 460,
    "start_time": "2023-05-01T12:12:55.113Z"
   },
   {
    "duration": 256,
    "start_time": "2023-05-01T12:12:55.575Z"
   },
   {
    "duration": 35,
    "start_time": "2023-05-01T12:12:55.833Z"
   },
   {
    "duration": 84,
    "start_time": "2023-05-01T12:12:55.869Z"
   },
   {
    "duration": 32,
    "start_time": "2023-05-01T12:12:55.955Z"
   },
   {
    "duration": 8,
    "start_time": "2023-05-01T12:12:55.988Z"
   },
   {
    "duration": 8,
    "start_time": "2023-05-01T12:12:56.019Z"
   },
   {
    "duration": 15,
    "start_time": "2023-05-01T12:12:56.029Z"
   },
   {
    "duration": 427,
    "start_time": "2023-05-01T12:12:56.048Z"
   },
   {
    "duration": 409,
    "start_time": "2023-05-01T12:12:56.477Z"
   },
   {
    "duration": 414,
    "start_time": "2023-05-01T12:12:56.889Z"
   },
   {
    "duration": 140,
    "start_time": "2023-05-01T12:28:23.947Z"
   },
   {
    "duration": 145,
    "start_time": "2023-05-01T12:33:53.481Z"
   },
   {
    "duration": 137,
    "start_time": "2023-05-01T12:34:30.101Z"
   },
   {
    "duration": 172,
    "start_time": "2023-05-01T12:38:05.796Z"
   },
   {
    "duration": 15,
    "start_time": "2023-05-01T12:38:15.538Z"
   },
   {
    "duration": 353,
    "start_time": "2023-05-01T12:39:11.692Z"
   },
   {
    "duration": 258,
    "start_time": "2023-05-01T12:40:52.159Z"
   },
   {
    "duration": 25,
    "start_time": "2023-05-01T12:41:37.041Z"
   },
   {
    "duration": 6,
    "start_time": "2023-05-01T12:42:09.946Z"
   },
   {
    "duration": 20,
    "start_time": "2023-05-01T12:42:23.851Z"
   },
   {
    "duration": 75,
    "start_time": "2023-05-01T12:44:40.818Z"
   },
   {
    "duration": 16,
    "start_time": "2023-05-01T12:45:00.491Z"
   },
   {
    "duration": 3,
    "start_time": "2023-05-01T12:54:23.394Z"
   },
   {
    "duration": 578,
    "start_time": "2023-05-01T12:54:32.495Z"
   },
   {
    "duration": 98,
    "start_time": "2023-05-01T12:54:33.075Z"
   },
   {
    "duration": 132,
    "start_time": "2023-05-01T12:54:33.176Z"
   },
   {
    "duration": 626,
    "start_time": "2023-05-01T12:54:33.311Z"
   },
   {
    "duration": 42,
    "start_time": "2023-05-01T12:54:33.939Z"
   },
   {
    "duration": 121,
    "start_time": "2023-05-01T12:54:33.982Z"
   },
   {
    "duration": 53,
    "start_time": "2023-05-01T12:54:34.105Z"
   },
   {
    "duration": 26,
    "start_time": "2023-05-01T12:54:34.160Z"
   },
   {
    "duration": 257,
    "start_time": "2023-05-01T12:54:34.188Z"
   },
   {
    "duration": 37,
    "start_time": "2023-05-01T12:54:34.449Z"
   },
   {
    "duration": 6,
    "start_time": "2023-05-01T12:54:34.487Z"
   },
   {
    "duration": 31,
    "start_time": "2023-05-01T12:54:34.494Z"
   },
   {
    "duration": 29,
    "start_time": "2023-05-01T12:54:34.526Z"
   },
   {
    "duration": 19,
    "start_time": "2023-05-01T12:54:34.557Z"
   },
   {
    "duration": 22,
    "start_time": "2023-05-01T12:54:34.578Z"
   },
   {
    "duration": 39,
    "start_time": "2023-05-01T12:54:34.602Z"
   },
   {
    "duration": 43,
    "start_time": "2023-05-01T12:54:34.643Z"
   },
   {
    "duration": 19,
    "start_time": "2023-05-01T12:54:34.688Z"
   },
   {
    "duration": 18,
    "start_time": "2023-05-01T12:54:34.709Z"
   },
   {
    "duration": 390,
    "start_time": "2023-05-01T12:54:34.729Z"
   },
   {
    "duration": 258,
    "start_time": "2023-05-01T12:54:35.121Z"
   },
   {
    "duration": 49,
    "start_time": "2023-05-01T12:54:35.381Z"
   },
   {
    "duration": 70,
    "start_time": "2023-05-01T12:54:35.432Z"
   },
   {
    "duration": 48,
    "start_time": "2023-05-01T12:54:35.504Z"
   },
   {
    "duration": 41,
    "start_time": "2023-05-01T12:54:35.554Z"
   },
   {
    "duration": 26,
    "start_time": "2023-05-01T12:54:35.597Z"
   },
   {
    "duration": 75,
    "start_time": "2023-05-01T12:54:35.626Z"
   },
   {
    "duration": 480,
    "start_time": "2023-05-01T12:54:35.706Z"
   },
   {
    "duration": 0,
    "start_time": "2023-05-01T12:54:36.188Z"
   },
   {
    "duration": 0,
    "start_time": "2023-05-01T12:54:36.190Z"
   },
   {
    "duration": 0,
    "start_time": "2023-05-01T12:54:36.191Z"
   },
   {
    "duration": 0,
    "start_time": "2023-05-01T12:54:36.192Z"
   },
   {
    "duration": 525,
    "start_time": "2023-05-01T12:54:48.587Z"
   },
   {
    "duration": 464,
    "start_time": "2023-05-01T12:54:53.660Z"
   },
   {
    "duration": 422,
    "start_time": "2023-05-01T12:54:58.041Z"
   },
   {
    "duration": 378,
    "start_time": "2023-05-01T12:55:05.535Z"
   },
   {
    "duration": 78,
    "start_time": "2023-05-01T12:55:52.816Z"
   },
   {
    "duration": 424,
    "start_time": "2023-05-01T13:58:09.340Z"
   },
   {
    "duration": 9,
    "start_time": "2023-05-01T14:04:02.148Z"
   },
   {
    "duration": 3,
    "start_time": "2023-05-01T14:06:10.784Z"
   },
   {
    "duration": 4,
    "start_time": "2023-05-01T14:06:15.509Z"
   },
   {
    "duration": 4,
    "start_time": "2023-05-01T14:08:04.386Z"
   },
   {
    "duration": 21,
    "start_time": "2023-05-01T14:08:17.332Z"
   },
   {
    "duration": 6,
    "start_time": "2023-05-01T14:08:43.145Z"
   },
   {
    "duration": 9,
    "start_time": "2023-05-01T14:08:45.233Z"
   },
   {
    "duration": 4,
    "start_time": "2023-05-01T14:09:07.309Z"
   },
   {
    "duration": 12,
    "start_time": "2023-05-01T14:09:09.822Z"
   },
   {
    "duration": 4,
    "start_time": "2023-05-01T14:10:08.577Z"
   },
   {
    "duration": 62,
    "start_time": "2023-05-01T14:10:10.223Z"
   },
   {
    "duration": 4,
    "start_time": "2023-05-01T14:11:31.335Z"
   },
   {
    "duration": 1629,
    "start_time": "2023-05-01T14:11:33.354Z"
   },
   {
    "duration": 4,
    "start_time": "2023-05-01T14:12:43.746Z"
   },
   {
    "duration": 1850,
    "start_time": "2023-05-01T14:12:45.262Z"
   },
   {
    "duration": 3,
    "start_time": "2023-05-01T14:13:01.508Z"
   },
   {
    "duration": 8,
    "start_time": "2023-05-01T14:13:03.408Z"
   },
   {
    "duration": 4,
    "start_time": "2023-05-01T14:13:15.342Z"
   },
   {
    "duration": 7,
    "start_time": "2023-05-01T14:13:17.484Z"
   },
   {
    "duration": 11,
    "start_time": "2023-05-01T14:14:30.665Z"
   },
   {
    "duration": 17,
    "start_time": "2023-05-01T14:14:40.904Z"
   },
   {
    "duration": 13,
    "start_time": "2023-05-01T14:15:35.681Z"
   },
   {
    "duration": 9,
    "start_time": "2023-05-01T14:15:56.641Z"
   },
   {
    "duration": 2869,
    "start_time": "2023-05-01T14:16:42.381Z"
   },
   {
    "duration": 42,
    "start_time": "2023-05-01T14:17:04.301Z"
   },
   {
    "duration": 28,
    "start_time": "2023-05-01T14:17:40.801Z"
   },
   {
    "duration": 22,
    "start_time": "2023-05-01T14:19:14.748Z"
   },
   {
    "duration": 27,
    "start_time": "2023-05-01T14:19:21.701Z"
   },
   {
    "duration": 23,
    "start_time": "2023-05-01T14:20:25.297Z"
   },
   {
    "duration": 34,
    "start_time": "2023-05-01T14:20:36.803Z"
   },
   {
    "duration": 23,
    "start_time": "2023-05-01T14:20:45.341Z"
   },
   {
    "duration": 31,
    "start_time": "2023-05-01T14:21:01.184Z"
   },
   {
    "duration": 33,
    "start_time": "2023-05-01T14:21:06.908Z"
   },
   {
    "duration": 33,
    "start_time": "2023-05-01T14:21:21.111Z"
   },
   {
    "duration": 4,
    "start_time": "2023-05-01T14:25:26.269Z"
   },
   {
    "duration": 2039,
    "start_time": "2023-05-01T14:25:28.153Z"
   },
   {
    "duration": 8,
    "start_time": "2023-05-01T14:25:42.439Z"
   },
   {
    "duration": 2213,
    "start_time": "2023-05-01T14:25:44.577Z"
   },
   {
    "duration": 2612,
    "start_time": "2023-05-01T14:25:54.987Z"
   },
   {
    "duration": 3,
    "start_time": "2023-05-01T14:25:58.500Z"
   },
   {
    "duration": 19,
    "start_time": "2023-05-01T14:26:00.158Z"
   },
   {
    "duration": 4,
    "start_time": "2023-05-01T14:26:11.803Z"
   },
   {
    "duration": 29,
    "start_time": "2023-05-01T14:26:13.235Z"
   },
   {
    "duration": 5,
    "start_time": "2023-05-01T14:26:19.668Z"
   },
   {
    "duration": 29,
    "start_time": "2023-05-01T14:26:21.566Z"
   },
   {
    "duration": 5,
    "start_time": "2023-05-01T14:26:31.406Z"
   },
   {
    "duration": 27,
    "start_time": "2023-05-01T14:26:32.767Z"
   },
   {
    "duration": 4,
    "start_time": "2023-05-01T14:26:37.776Z"
   },
   {
    "duration": 25,
    "start_time": "2023-05-01T14:26:39.434Z"
   },
   {
    "duration": 4,
    "start_time": "2023-05-01T14:27:27.092Z"
   },
   {
    "duration": 3,
    "start_time": "2023-05-01T14:29:14.185Z"
   },
   {
    "duration": 29,
    "start_time": "2023-05-01T14:29:17.044Z"
   },
   {
    "duration": 3,
    "start_time": "2023-05-01T14:29:46.744Z"
   },
   {
    "duration": 18,
    "start_time": "2023-05-01T14:29:48.780Z"
   },
   {
    "duration": 3,
    "start_time": "2023-05-01T14:30:00.614Z"
   },
   {
    "duration": 23,
    "start_time": "2023-05-01T14:30:02.342Z"
   },
   {
    "duration": 4,
    "start_time": "2023-05-01T14:30:22.844Z"
   },
   {
    "duration": 33,
    "start_time": "2023-05-01T14:30:24.504Z"
   },
   {
    "duration": 24,
    "start_time": "2023-05-01T14:30:38.068Z"
   },
   {
    "duration": 29,
    "start_time": "2023-05-01T14:30:42.481Z"
   },
   {
    "duration": 4,
    "start_time": "2023-05-01T14:31:13.598Z"
   },
   {
    "duration": 21,
    "start_time": "2023-05-01T14:31:16.342Z"
   },
   {
    "duration": 11,
    "start_time": "2023-05-01T14:31:25.041Z"
   },
   {
    "duration": 37,
    "start_time": "2023-05-01T14:31:43.478Z"
   },
   {
    "duration": 4,
    "start_time": "2023-05-01T14:32:00.243Z"
   },
   {
    "duration": 28,
    "start_time": "2023-05-01T14:32:01.800Z"
   },
   {
    "duration": 6,
    "start_time": "2023-05-01T14:38:14.078Z"
   },
   {
    "duration": 24,
    "start_time": "2023-05-01T14:38:15.962Z"
   },
   {
    "duration": 14,
    "start_time": "2023-05-01T14:40:51.621Z"
   },
   {
    "duration": 72,
    "start_time": "2023-05-01T14:42:33.016Z"
   },
   {
    "duration": 66,
    "start_time": "2023-05-01T14:42:37.345Z"
   },
   {
    "duration": 1117,
    "start_time": "2023-05-01T14:47:53.181Z"
   },
   {
    "duration": 70,
    "start_time": "2023-05-01T14:47:54.300Z"
   },
   {
    "duration": 111,
    "start_time": "2023-05-01T14:47:54.372Z"
   },
   {
    "duration": 667,
    "start_time": "2023-05-01T14:47:54.485Z"
   },
   {
    "duration": 46,
    "start_time": "2023-05-01T14:47:55.155Z"
   },
   {
    "duration": 165,
    "start_time": "2023-05-01T14:47:55.203Z"
   },
   {
    "duration": 65,
    "start_time": "2023-05-01T14:47:55.370Z"
   },
   {
    "duration": 28,
    "start_time": "2023-05-01T14:47:55.437Z"
   },
   {
    "duration": 289,
    "start_time": "2023-05-01T14:47:55.467Z"
   },
   {
    "duration": 34,
    "start_time": "2023-05-01T14:47:55.760Z"
   },
   {
    "duration": 13,
    "start_time": "2023-05-01T14:47:55.796Z"
   },
   {
    "duration": 53,
    "start_time": "2023-05-01T14:47:55.823Z"
   },
   {
    "duration": 19,
    "start_time": "2023-05-01T14:47:55.878Z"
   },
   {
    "duration": 76,
    "start_time": "2023-05-01T14:47:55.898Z"
   },
   {
    "duration": 35,
    "start_time": "2023-05-01T14:47:55.976Z"
   },
   {
    "duration": 57,
    "start_time": "2023-05-01T14:47:56.013Z"
   },
   {
    "duration": 83,
    "start_time": "2023-05-01T14:47:56.072Z"
   },
   {
    "duration": 30,
    "start_time": "2023-05-01T14:47:56.157Z"
   },
   {
    "duration": 24,
    "start_time": "2023-05-01T14:47:56.189Z"
   },
   {
    "duration": 577,
    "start_time": "2023-05-01T14:47:56.215Z"
   },
   {
    "duration": 306,
    "start_time": "2023-05-01T14:47:56.794Z"
   },
   {
    "duration": 57,
    "start_time": "2023-05-01T14:47:57.102Z"
   },
   {
    "duration": 105,
    "start_time": "2023-05-01T14:47:57.160Z"
   },
   {
    "duration": 34,
    "start_time": "2023-05-01T14:47:57.267Z"
   },
   {
    "duration": 20,
    "start_time": "2023-05-01T14:47:57.303Z"
   },
   {
    "duration": 52,
    "start_time": "2023-05-01T14:47:57.324Z"
   },
   {
    "duration": 25,
    "start_time": "2023-05-01T14:47:57.378Z"
   },
   {
    "duration": 472,
    "start_time": "2023-05-01T14:47:57.406Z"
   },
   {
    "duration": 425,
    "start_time": "2023-05-01T14:47:57.880Z"
   },
   {
    "duration": 472,
    "start_time": "2023-05-01T14:47:58.306Z"
   },
   {
    "duration": 288,
    "start_time": "2023-05-01T14:47:58.780Z"
   },
   {
    "duration": 95,
    "start_time": "2023-05-01T14:47:59.069Z"
   },
   {
    "duration": 7,
    "start_time": "2023-05-01T14:47:59.166Z"
   },
   {
    "duration": 84,
    "start_time": "2023-05-01T14:47:59.176Z"
   },
   {
    "duration": 994,
    "start_time": "2023-05-01T15:14:15.499Z"
   },
   {
    "duration": 73,
    "start_time": "2023-05-01T15:14:16.495Z"
   },
   {
    "duration": 109,
    "start_time": "2023-05-01T15:14:16.569Z"
   },
   {
    "duration": 671,
    "start_time": "2023-05-01T15:14:16.680Z"
   },
   {
    "duration": 44,
    "start_time": "2023-05-01T15:14:17.353Z"
   },
   {
    "duration": 151,
    "start_time": "2023-05-01T15:14:17.399Z"
   },
   {
    "duration": 54,
    "start_time": "2023-05-01T15:14:17.552Z"
   },
   {
    "duration": 50,
    "start_time": "2023-05-01T15:14:17.608Z"
   },
   {
    "duration": 245,
    "start_time": "2023-05-01T15:14:17.660Z"
   },
   {
    "duration": 58,
    "start_time": "2023-05-01T15:14:17.908Z"
   },
   {
    "duration": 4,
    "start_time": "2023-05-01T15:14:17.967Z"
   },
   {
    "duration": 11,
    "start_time": "2023-05-01T15:14:17.973Z"
   },
   {
    "duration": 11,
    "start_time": "2023-05-01T15:14:17.985Z"
   },
   {
    "duration": 8,
    "start_time": "2023-05-01T15:14:17.998Z"
   },
   {
    "duration": 50,
    "start_time": "2023-05-01T15:14:18.008Z"
   },
   {
    "duration": 38,
    "start_time": "2023-05-01T15:14:18.060Z"
   },
   {
    "duration": 9,
    "start_time": "2023-05-01T15:14:18.100Z"
   },
   {
    "duration": 18,
    "start_time": "2023-05-01T15:14:18.111Z"
   },
   {
    "duration": 24,
    "start_time": "2023-05-01T15:14:18.131Z"
   },
   {
    "duration": 478,
    "start_time": "2023-05-01T15:14:18.157Z"
   },
   {
    "duration": 322,
    "start_time": "2023-05-01T15:14:18.637Z"
   },
   {
    "duration": 31,
    "start_time": "2023-05-01T15:14:18.961Z"
   },
   {
    "duration": 106,
    "start_time": "2023-05-01T15:14:18.994Z"
   },
   {
    "duration": 46,
    "start_time": "2023-05-01T15:14:19.101Z"
   },
   {
    "duration": 20,
    "start_time": "2023-05-01T15:14:19.148Z"
   },
   {
    "duration": 25,
    "start_time": "2023-05-01T15:14:19.170Z"
   },
   {
    "duration": 14,
    "start_time": "2023-05-01T15:14:19.197Z"
   },
   {
    "duration": 487,
    "start_time": "2023-05-01T15:14:19.214Z"
   },
   {
    "duration": 434,
    "start_time": "2023-05-01T15:14:19.702Z"
   },
   {
    "duration": 438,
    "start_time": "2023-05-01T15:14:20.138Z"
   },
   {
    "duration": 267,
    "start_time": "2023-05-01T15:14:20.577Z"
   },
   {
    "duration": 100,
    "start_time": "2023-05-01T15:14:20.846Z"
   },
   {
    "duration": 10,
    "start_time": "2023-05-01T15:14:20.948Z"
   },
   {
    "duration": 115,
    "start_time": "2023-05-01T15:14:20.961Z"
   },
   {
    "duration": 1005,
    "start_time": "2023-05-02T00:54:11.729Z"
   },
   {
    "duration": 97,
    "start_time": "2023-05-02T00:54:12.735Z"
   },
   {
    "duration": 96,
    "start_time": "2023-05-02T00:54:12.833Z"
   },
   {
    "duration": 1322,
    "start_time": "2023-05-02T00:54:12.931Z"
   },
   {
    "duration": 53,
    "start_time": "2023-05-02T00:54:14.255Z"
   },
   {
    "duration": 124,
    "start_time": "2023-05-02T00:54:14.310Z"
   },
   {
    "duration": 52,
    "start_time": "2023-05-02T00:54:14.436Z"
   },
   {
    "duration": 38,
    "start_time": "2023-05-02T00:54:14.490Z"
   },
   {
    "duration": 231,
    "start_time": "2023-05-02T00:54:14.530Z"
   },
   {
    "duration": 34,
    "start_time": "2023-05-02T00:54:14.764Z"
   },
   {
    "duration": 22,
    "start_time": "2023-05-02T00:54:14.799Z"
   },
   {
    "duration": 20,
    "start_time": "2023-05-02T00:54:14.822Z"
   },
   {
    "duration": 24,
    "start_time": "2023-05-02T00:54:14.843Z"
   },
   {
    "duration": 16,
    "start_time": "2023-05-02T00:54:14.869Z"
   },
   {
    "duration": 15,
    "start_time": "2023-05-02T00:54:14.887Z"
   },
   {
    "duration": 22,
    "start_time": "2023-05-02T00:54:14.904Z"
   },
   {
    "duration": 11,
    "start_time": "2023-05-02T00:54:14.928Z"
   },
   {
    "duration": 9,
    "start_time": "2023-05-02T00:54:14.941Z"
   },
   {
    "duration": 8,
    "start_time": "2023-05-02T00:54:14.952Z"
   },
   {
    "duration": 869,
    "start_time": "2023-05-02T00:54:14.962Z"
   },
   {
    "duration": 242,
    "start_time": "2023-05-02T00:54:15.833Z"
   },
   {
    "duration": 43,
    "start_time": "2023-05-02T00:54:16.077Z"
   },
   {
    "duration": 54,
    "start_time": "2023-05-02T00:54:16.121Z"
   },
   {
    "duration": 51,
    "start_time": "2023-05-02T00:54:16.176Z"
   },
   {
    "duration": 9,
    "start_time": "2023-05-02T00:54:16.228Z"
   },
   {
    "duration": 11,
    "start_time": "2023-05-02T00:54:16.238Z"
   },
   {
    "duration": 15,
    "start_time": "2023-05-02T00:54:16.251Z"
   },
   {
    "duration": 417,
    "start_time": "2023-05-02T00:54:16.269Z"
   },
   {
    "duration": 367,
    "start_time": "2023-05-02T00:54:16.688Z"
   },
   {
    "duration": 376,
    "start_time": "2023-05-02T00:54:17.057Z"
   },
   {
    "duration": 231,
    "start_time": "2023-05-02T00:54:17.434Z"
   },
   {
    "duration": 72,
    "start_time": "2023-05-02T00:54:17.667Z"
   },
   {
    "duration": 6,
    "start_time": "2023-05-02T00:54:17.740Z"
   },
   {
    "duration": 101,
    "start_time": "2023-05-02T00:54:17.747Z"
   },
   {
    "duration": 10,
    "start_time": "2023-05-02T00:55:48.133Z"
   },
   {
    "duration": 19,
    "start_time": "2023-05-02T00:56:30.035Z"
   },
   {
    "duration": 20,
    "start_time": "2023-05-02T00:56:59.824Z"
   },
   {
    "duration": 6,
    "start_time": "2023-05-02T00:58:42.054Z"
   },
   {
    "duration": 57,
    "start_time": "2023-05-02T00:58:43.825Z"
   },
   {
    "duration": 1036,
    "start_time": "2023-05-02T19:33:30.662Z"
   },
   {
    "duration": 84,
    "start_time": "2023-05-02T19:33:31.701Z"
   },
   {
    "duration": 314,
    "start_time": "2023-05-02T19:33:31.786Z"
   },
   {
    "duration": 719,
    "start_time": "2023-05-02T19:33:32.102Z"
   },
   {
    "duration": 86,
    "start_time": "2023-05-02T19:33:32.822Z"
   },
   {
    "duration": 114,
    "start_time": "2023-05-02T19:33:32.910Z"
   },
   {
    "duration": 49,
    "start_time": "2023-05-02T19:33:33.026Z"
   },
   {
    "duration": 29,
    "start_time": "2023-05-02T19:33:33.076Z"
   },
   {
    "duration": 222,
    "start_time": "2023-05-02T19:33:33.107Z"
   },
   {
    "duration": 32,
    "start_time": "2023-05-02T19:33:33.332Z"
   },
   {
    "duration": 19,
    "start_time": "2023-05-02T19:33:33.366Z"
   },
   {
    "duration": 7,
    "start_time": "2023-05-02T19:33:33.387Z"
   },
   {
    "duration": 13,
    "start_time": "2023-05-02T19:33:33.395Z"
   },
   {
    "duration": 17,
    "start_time": "2023-05-02T19:33:33.410Z"
   },
   {
    "duration": 15,
    "start_time": "2023-05-02T19:33:33.429Z"
   },
   {
    "duration": 15,
    "start_time": "2023-05-02T19:33:33.445Z"
   },
   {
    "duration": 33,
    "start_time": "2023-05-02T19:33:33.462Z"
   },
   {
    "duration": 11,
    "start_time": "2023-05-02T19:33:33.497Z"
   },
   {
    "duration": 6,
    "start_time": "2023-05-02T19:33:33.510Z"
   },
   {
    "duration": 456,
    "start_time": "2023-05-02T19:33:33.517Z"
   },
   {
    "duration": 273,
    "start_time": "2023-05-02T19:33:33.975Z"
   },
   {
    "duration": 41,
    "start_time": "2023-05-02T19:33:34.250Z"
   },
   {
    "duration": 60,
    "start_time": "2023-05-02T19:33:34.292Z"
   },
   {
    "duration": 51,
    "start_time": "2023-05-02T19:33:34.354Z"
   },
   {
    "duration": 10,
    "start_time": "2023-05-02T19:33:34.406Z"
   },
   {
    "duration": 12,
    "start_time": "2023-05-02T19:33:34.418Z"
   },
   {
    "duration": 14,
    "start_time": "2023-05-02T19:33:34.432Z"
   },
   {
    "duration": 443,
    "start_time": "2023-05-02T19:33:34.450Z"
   },
   {
    "duration": 362,
    "start_time": "2023-05-02T19:33:34.895Z"
   },
   {
    "duration": 369,
    "start_time": "2023-05-02T19:33:35.258Z"
   },
   {
    "duration": 219,
    "start_time": "2023-05-02T19:33:35.629Z"
   },
   {
    "duration": 76,
    "start_time": "2023-05-02T19:33:35.850Z"
   },
   {
    "duration": 7,
    "start_time": "2023-05-02T19:33:35.928Z"
   },
   {
    "duration": 72,
    "start_time": "2023-05-02T19:33:35.937Z"
   },
   {
    "duration": 1016,
    "start_time": "2023-05-03T08:12:36.959Z"
   },
   {
    "duration": 105,
    "start_time": "2023-05-03T08:12:37.977Z"
   },
   {
    "duration": 218,
    "start_time": "2023-05-03T08:12:38.084Z"
   },
   {
    "duration": 1784,
    "start_time": "2023-05-03T08:12:38.304Z"
   },
   {
    "duration": 151,
    "start_time": "2023-05-03T08:12:40.089Z"
   },
   {
    "duration": 136,
    "start_time": "2023-05-03T08:12:40.242Z"
   },
   {
    "duration": 65,
    "start_time": "2023-05-03T08:12:40.380Z"
   },
   {
    "duration": 26,
    "start_time": "2023-05-03T08:12:40.447Z"
   },
   {
    "duration": 297,
    "start_time": "2023-05-03T08:12:40.475Z"
   },
   {
    "duration": 38,
    "start_time": "2023-05-03T08:12:40.776Z"
   },
   {
    "duration": 30,
    "start_time": "2023-05-03T08:12:40.816Z"
   },
   {
    "duration": 14,
    "start_time": "2023-05-03T08:12:40.848Z"
   },
   {
    "duration": 13,
    "start_time": "2023-05-03T08:12:40.864Z"
   },
   {
    "duration": 10,
    "start_time": "2023-05-03T08:12:40.879Z"
   },
   {
    "duration": 23,
    "start_time": "2023-05-03T08:12:40.891Z"
   },
   {
    "duration": 35,
    "start_time": "2023-05-03T08:12:40.915Z"
   },
   {
    "duration": 14,
    "start_time": "2023-05-03T08:12:40.952Z"
   },
   {
    "duration": 18,
    "start_time": "2023-05-03T08:12:40.968Z"
   },
   {
    "duration": 8,
    "start_time": "2023-05-03T08:12:40.988Z"
   },
   {
    "duration": 523,
    "start_time": "2023-05-03T08:12:40.997Z"
   },
   {
    "duration": 305,
    "start_time": "2023-05-03T08:12:41.523Z"
   },
   {
    "duration": 50,
    "start_time": "2023-05-03T08:12:41.830Z"
   },
   {
    "duration": 82,
    "start_time": "2023-05-03T08:12:41.882Z"
   },
   {
    "duration": 36,
    "start_time": "2023-05-03T08:12:41.967Z"
   },
   {
    "duration": 9,
    "start_time": "2023-05-03T08:12:42.005Z"
   },
   {
    "duration": 29,
    "start_time": "2023-05-03T08:12:42.015Z"
   },
   {
    "duration": 9,
    "start_time": "2023-05-03T08:12:42.046Z"
   },
   {
    "duration": 453,
    "start_time": "2023-05-03T08:12:42.058Z"
   },
   {
    "duration": 390,
    "start_time": "2023-05-03T08:12:42.513Z"
   },
   {
    "duration": 427,
    "start_time": "2023-05-03T08:12:42.905Z"
   },
   {
    "duration": 252,
    "start_time": "2023-05-03T08:12:43.333Z"
   },
   {
    "duration": 84,
    "start_time": "2023-05-03T08:12:43.587Z"
   },
   {
    "duration": 8,
    "start_time": "2023-05-03T08:12:43.673Z"
   },
   {
    "duration": 94,
    "start_time": "2023-05-03T08:12:43.683Z"
   },
   {
    "duration": 29,
    "start_time": "2023-05-03T08:15:48.853Z"
   },
   {
    "duration": 30,
    "start_time": "2023-05-03T08:18:49.011Z"
   },
   {
    "duration": 17,
    "start_time": "2023-05-03T08:23:53.821Z"
   },
   {
    "duration": 10,
    "start_time": "2023-05-03T08:24:12.977Z"
   },
   {
    "duration": 22,
    "start_time": "2023-05-03T08:24:46.684Z"
   },
   {
    "duration": 17,
    "start_time": "2023-05-03T08:24:56.146Z"
   },
   {
    "duration": 15,
    "start_time": "2023-05-03T08:31:39.171Z"
   },
   {
    "duration": 10,
    "start_time": "2023-05-03T08:37:11.050Z"
   },
   {
    "duration": 14,
    "start_time": "2023-05-03T08:38:52.671Z"
   },
   {
    "duration": 12,
    "start_time": "2023-05-03T08:43:58.161Z"
   },
   {
    "duration": 81,
    "start_time": "2023-05-03T08:47:41.031Z"
   },
   {
    "duration": 54,
    "start_time": "2023-05-03T08:48:17.701Z"
   },
   {
    "duration": 18,
    "start_time": "2023-05-03T08:48:35.952Z"
   },
   {
    "duration": 14,
    "start_time": "2023-05-03T08:48:46.211Z"
   },
   {
    "duration": 2916,
    "start_time": "2023-05-03T08:52:33.821Z"
   },
   {
    "duration": 15,
    "start_time": "2023-05-03T08:52:42.610Z"
   },
   {
    "duration": 20,
    "start_time": "2023-05-03T08:52:50.527Z"
   },
   {
    "duration": 14,
    "start_time": "2023-05-03T09:00:17.133Z"
   },
   {
    "duration": 13,
    "start_time": "2023-05-03T09:09:38.477Z"
   },
   {
    "duration": 38,
    "start_time": "2023-05-03T09:11:23.880Z"
   },
   {
    "duration": 13,
    "start_time": "2023-05-03T09:11:30.238Z"
   },
   {
    "duration": 255,
    "start_time": "2023-05-03T09:11:50.192Z"
   },
   {
    "duration": 19,
    "start_time": "2023-05-03T09:11:51.973Z"
   },
   {
    "duration": 1727,
    "start_time": "2023-05-03T09:14:21.447Z"
   },
   {
    "duration": 6,
    "start_time": "2023-05-03T09:14:28.533Z"
   },
   {
    "duration": 25,
    "start_time": "2023-05-03T09:14:30.585Z"
   },
   {
    "duration": 46,
    "start_time": "2023-05-03T09:15:01.044Z"
   },
   {
    "duration": 28,
    "start_time": "2023-05-03T09:15:52.713Z"
   },
   {
    "duration": 22,
    "start_time": "2023-05-03T09:15:55.056Z"
   },
   {
    "duration": 10,
    "start_time": "2023-05-03T09:16:32.669Z"
   },
   {
    "duration": 18,
    "start_time": "2023-05-03T09:16:36.671Z"
   },
   {
    "duration": 9,
    "start_time": "2023-05-03T09:17:53.619Z"
   },
   {
    "duration": 1180,
    "start_time": "2023-05-03T09:19:00.802Z"
   },
   {
    "duration": 63,
    "start_time": "2023-05-03T09:19:01.985Z"
   },
   {
    "duration": 112,
    "start_time": "2023-05-03T09:19:02.050Z"
   },
   {
    "duration": 718,
    "start_time": "2023-05-03T09:19:02.166Z"
   },
   {
    "duration": 63,
    "start_time": "2023-05-03T09:19:02.886Z"
   },
   {
    "duration": 167,
    "start_time": "2023-05-03T09:19:02.952Z"
   },
   {
    "duration": 63,
    "start_time": "2023-05-03T09:19:03.122Z"
   },
   {
    "duration": 55,
    "start_time": "2023-05-03T09:19:03.187Z"
   },
   {
    "duration": 336,
    "start_time": "2023-05-03T09:19:03.245Z"
   },
   {
    "duration": 55,
    "start_time": "2023-05-03T09:19:03.586Z"
   },
   {
    "duration": 6,
    "start_time": "2023-05-03T09:19:03.643Z"
   },
   {
    "duration": 66,
    "start_time": "2023-05-03T09:19:03.650Z"
   },
   {
    "duration": 9,
    "start_time": "2023-05-03T09:19:03.718Z"
   },
   {
    "duration": 32,
    "start_time": "2023-05-03T09:19:03.729Z"
   },
   {
    "duration": 81,
    "start_time": "2023-05-03T09:19:03.763Z"
   },
   {
    "duration": 17,
    "start_time": "2023-05-03T09:19:03.848Z"
   },
   {
    "duration": 48,
    "start_time": "2023-05-03T09:19:03.867Z"
   },
   {
    "duration": 102,
    "start_time": "2023-05-03T09:19:03.918Z"
   },
   {
    "duration": 95,
    "start_time": "2023-05-03T09:19:04.023Z"
   },
   {
    "duration": 67,
    "start_time": "2023-05-03T09:19:04.120Z"
   },
   {
    "duration": 109,
    "start_time": "2023-05-03T09:19:04.190Z"
   },
   {
    "duration": 702,
    "start_time": "2023-05-03T09:19:04.302Z"
   },
   {
    "duration": 402,
    "start_time": "2023-05-03T09:19:05.006Z"
   },
   {
    "duration": 70,
    "start_time": "2023-05-03T09:19:05.410Z"
   },
   {
    "duration": 88,
    "start_time": "2023-05-03T09:19:05.483Z"
   },
   {
    "duration": 68,
    "start_time": "2023-05-03T09:19:05.573Z"
   },
   {
    "duration": 13,
    "start_time": "2023-05-03T09:19:05.644Z"
   },
   {
    "duration": 40,
    "start_time": "2023-05-03T09:19:05.662Z"
   },
   {
    "duration": 84,
    "start_time": "2023-05-03T09:19:05.705Z"
   },
   {
    "duration": 621,
    "start_time": "2023-05-03T09:19:05.791Z"
   },
   {
    "duration": 467,
    "start_time": "2023-05-03T09:19:06.414Z"
   },
   {
    "duration": 451,
    "start_time": "2023-05-03T09:19:06.884Z"
   },
   {
    "duration": 261,
    "start_time": "2023-05-03T09:19:07.342Z"
   },
   {
    "duration": 80,
    "start_time": "2023-05-03T09:19:07.606Z"
   },
   {
    "duration": 8,
    "start_time": "2023-05-03T09:19:07.689Z"
   },
   {
    "duration": 95,
    "start_time": "2023-05-03T09:19:07.699Z"
   },
   {
    "duration": 333,
    "start_time": "2023-05-03T09:22:30.959Z"
   },
   {
    "duration": 69,
    "start_time": "2023-05-03T09:22:36.804Z"
   },
   {
    "duration": 12,
    "start_time": "2023-05-03T09:24:39.575Z"
   },
   {
    "duration": 41,
    "start_time": "2023-05-03T09:30:19.820Z"
   },
   {
    "duration": 41,
    "start_time": "2023-05-03T09:31:00.571Z"
   },
   {
    "duration": 36,
    "start_time": "2023-05-03T09:31:28.977Z"
   },
   {
    "duration": 1068,
    "start_time": "2023-05-03T09:47:06.598Z"
   },
   {
    "duration": 65,
    "start_time": "2023-05-03T09:47:07.669Z"
   },
   {
    "duration": 101,
    "start_time": "2023-05-03T09:47:07.736Z"
   },
   {
    "duration": 737,
    "start_time": "2023-05-03T09:47:07.839Z"
   },
   {
    "duration": 47,
    "start_time": "2023-05-03T09:47:08.578Z"
   },
   {
    "duration": 188,
    "start_time": "2023-05-03T09:47:08.627Z"
   },
   {
    "duration": 75,
    "start_time": "2023-05-03T09:47:08.817Z"
   },
   {
    "duration": 83,
    "start_time": "2023-05-03T09:47:08.894Z"
   },
   {
    "duration": 319,
    "start_time": "2023-05-03T09:47:08.979Z"
   },
   {
    "duration": 67,
    "start_time": "2023-05-03T09:47:09.302Z"
   },
   {
    "duration": 8,
    "start_time": "2023-05-03T09:47:09.374Z"
   },
   {
    "duration": 97,
    "start_time": "2023-05-03T09:47:09.386Z"
   },
   {
    "duration": 12,
    "start_time": "2023-05-03T09:47:09.485Z"
   },
   {
    "duration": 75,
    "start_time": "2023-05-03T09:47:09.500Z"
   },
   {
    "duration": 29,
    "start_time": "2023-05-03T09:47:09.578Z"
   },
   {
    "duration": 28,
    "start_time": "2023-05-03T09:47:09.609Z"
   },
   {
    "duration": 36,
    "start_time": "2023-05-03T09:47:09.640Z"
   },
   {
    "duration": 46,
    "start_time": "2023-05-03T09:47:09.678Z"
   },
   {
    "duration": 23,
    "start_time": "2023-05-03T09:47:09.726Z"
   },
   {
    "duration": 12,
    "start_time": "2023-05-03T09:47:09.752Z"
   },
   {
    "duration": 30,
    "start_time": "2023-05-03T09:47:09.766Z"
   },
   {
    "duration": 548,
    "start_time": "2023-05-03T09:47:09.798Z"
   },
   {
    "duration": 324,
    "start_time": "2023-05-03T09:47:10.348Z"
   },
   {
    "duration": 46,
    "start_time": "2023-05-03T09:47:10.674Z"
   },
   {
    "duration": 77,
    "start_time": "2023-05-03T09:47:10.740Z"
   },
   {
    "duration": 79,
    "start_time": "2023-05-03T09:47:10.820Z"
   },
   {
    "duration": 56,
    "start_time": "2023-05-03T09:47:10.901Z"
   },
   {
    "duration": 74,
    "start_time": "2023-05-03T09:47:10.962Z"
   },
   {
    "duration": 44,
    "start_time": "2023-05-03T09:47:11.038Z"
   },
   {
    "duration": 9,
    "start_time": "2023-05-03T09:47:11.085Z"
   },
   {
    "duration": 534,
    "start_time": "2023-05-03T09:47:11.097Z"
   },
   {
    "duration": 447,
    "start_time": "2023-05-03T09:47:11.641Z"
   },
   {
    "duration": 464,
    "start_time": "2023-05-03T09:47:12.090Z"
   },
   {
    "duration": 264,
    "start_time": "2023-05-03T09:47:12.556Z"
   },
   {
    "duration": 83,
    "start_time": "2023-05-03T09:47:12.822Z"
   },
   {
    "duration": 147,
    "start_time": "2023-05-03T09:47:12.907Z"
   },
   {
    "duration": 159,
    "start_time": "2023-05-03T09:47:13.056Z"
   },
   {
    "duration": 906,
    "start_time": "2023-05-03T14:06:28.872Z"
   },
   {
    "duration": 107,
    "start_time": "2023-05-03T14:06:29.781Z"
   },
   {
    "duration": 212,
    "start_time": "2023-05-03T14:06:29.891Z"
   },
   {
    "duration": 1845,
    "start_time": "2023-05-03T14:06:30.104Z"
   },
   {
    "duration": 185,
    "start_time": "2023-05-03T14:06:31.951Z"
   },
   {
    "duration": 238,
    "start_time": "2023-05-03T14:06:32.139Z"
   },
   {
    "duration": 69,
    "start_time": "2023-05-03T14:06:32.379Z"
   },
   {
    "duration": 23,
    "start_time": "2023-05-03T14:06:32.449Z"
   },
   {
    "duration": 264,
    "start_time": "2023-05-03T14:06:32.473Z"
   },
   {
    "duration": 37,
    "start_time": "2023-05-03T14:06:32.738Z"
   },
   {
    "duration": 3,
    "start_time": "2023-05-03T14:06:32.777Z"
   },
   {
    "duration": 54,
    "start_time": "2023-05-03T14:06:32.782Z"
   },
   {
    "duration": 6,
    "start_time": "2023-05-03T14:06:32.838Z"
   },
   {
    "duration": 20,
    "start_time": "2023-05-03T14:06:32.847Z"
   },
   {
    "duration": 7,
    "start_time": "2023-05-03T14:06:32.869Z"
   },
   {
    "duration": 9,
    "start_time": "2023-05-03T14:06:32.877Z"
   },
   {
    "duration": 20,
    "start_time": "2023-05-03T14:06:32.887Z"
   },
   {
    "duration": 9,
    "start_time": "2023-05-03T14:06:32.909Z"
   },
   {
    "duration": 10,
    "start_time": "2023-05-03T14:06:32.933Z"
   },
   {
    "duration": 14,
    "start_time": "2023-05-03T14:06:32.945Z"
   },
   {
    "duration": 13,
    "start_time": "2023-05-03T14:06:32.960Z"
   },
   {
    "duration": 924,
    "start_time": "2023-05-03T14:06:32.974Z"
   },
   {
    "duration": 237,
    "start_time": "2023-05-03T14:06:33.900Z"
   },
   {
    "duration": 34,
    "start_time": "2023-05-03T14:06:34.139Z"
   },
   {
    "duration": 68,
    "start_time": "2023-05-03T14:06:34.174Z"
   },
   {
    "duration": 53,
    "start_time": "2023-05-03T14:06:34.243Z"
   },
   {
    "duration": 52,
    "start_time": "2023-05-03T14:06:34.298Z"
   },
   {
    "duration": 9,
    "start_time": "2023-05-03T14:06:34.352Z"
   },
   {
    "duration": 14,
    "start_time": "2023-05-03T14:06:34.362Z"
   },
   {
    "duration": 19,
    "start_time": "2023-05-03T14:06:34.378Z"
   },
   {
    "duration": 390,
    "start_time": "2023-05-03T14:06:34.398Z"
   },
   {
    "duration": 325,
    "start_time": "2023-05-03T14:06:34.789Z"
   },
   {
    "duration": 339,
    "start_time": "2023-05-03T14:06:35.116Z"
   },
   {
    "duration": 211,
    "start_time": "2023-05-03T14:06:35.458Z"
   },
   {
    "duration": 76,
    "start_time": "2023-05-03T14:06:35.670Z"
   },
   {
    "duration": 6,
    "start_time": "2023-05-03T14:06:35.747Z"
   },
   {
    "duration": 78,
    "start_time": "2023-05-03T14:06:35.754Z"
   },
   {
    "duration": 5,
    "start_time": "2023-05-03T14:07:16.127Z"
   },
   {
    "duration": 1190,
    "start_time": "2023-05-03T16:07:25.636Z"
   },
   {
    "duration": 118,
    "start_time": "2023-05-03T16:07:26.828Z"
   },
   {
    "duration": 599,
    "start_time": "2023-05-03T16:07:26.948Z"
   },
   {
    "duration": 1008,
    "start_time": "2023-05-03T16:07:27.550Z"
   },
   {
    "duration": 140,
    "start_time": "2023-05-03T16:07:28.560Z"
   },
   {
    "duration": 177,
    "start_time": "2023-05-03T16:07:28.703Z"
   },
   {
    "duration": 88,
    "start_time": "2023-05-03T16:07:28.883Z"
   },
   {
    "duration": 36,
    "start_time": "2023-05-03T16:07:28.973Z"
   },
   {
    "duration": 298,
    "start_time": "2023-05-03T16:07:29.012Z"
   },
   {
    "duration": 63,
    "start_time": "2023-05-03T16:07:29.313Z"
   },
   {
    "duration": 7,
    "start_time": "2023-05-03T16:07:29.378Z"
   },
   {
    "duration": 60,
    "start_time": "2023-05-03T16:07:29.387Z"
   },
   {
    "duration": 12,
    "start_time": "2023-05-03T16:07:29.460Z"
   },
   {
    "duration": 46,
    "start_time": "2023-05-03T16:07:29.474Z"
   },
   {
    "duration": 49,
    "start_time": "2023-05-03T16:07:29.522Z"
   },
   {
    "duration": 24,
    "start_time": "2023-05-03T16:07:29.574Z"
   },
   {
    "duration": 25,
    "start_time": "2023-05-03T16:07:29.600Z"
   },
   {
    "duration": 17,
    "start_time": "2023-05-03T16:07:29.627Z"
   },
   {
    "duration": 27,
    "start_time": "2023-05-03T16:07:29.646Z"
   },
   {
    "duration": 13,
    "start_time": "2023-05-03T16:07:29.676Z"
   },
   {
    "duration": 32,
    "start_time": "2023-05-03T16:07:29.691Z"
   },
   {
    "duration": 652,
    "start_time": "2023-05-03T16:07:29.726Z"
   },
   {
    "duration": 331,
    "start_time": "2023-05-03T16:07:30.380Z"
   },
   {
    "duration": 48,
    "start_time": "2023-05-03T16:07:30.713Z"
   },
   {
    "duration": 78,
    "start_time": "2023-05-03T16:07:30.764Z"
   },
   {
    "duration": 104,
    "start_time": "2023-05-03T16:07:30.844Z"
   },
   {
    "duration": 55,
    "start_time": "2023-05-03T16:07:30.962Z"
   },
   {
    "duration": 9,
    "start_time": "2023-05-03T16:07:31.020Z"
   },
   {
    "duration": 42,
    "start_time": "2023-05-03T16:07:31.031Z"
   },
   {
    "duration": 52,
    "start_time": "2023-05-03T16:07:31.075Z"
   },
   {
    "duration": 557,
    "start_time": "2023-05-03T16:07:31.128Z"
   },
   {
    "duration": 381,
    "start_time": "2023-05-03T16:07:31.687Z"
   },
   {
    "duration": 415,
    "start_time": "2023-05-03T16:07:32.070Z"
   },
   {
    "duration": 321,
    "start_time": "2023-05-03T16:07:32.488Z"
   },
   {
    "duration": 70,
    "start_time": "2023-05-03T16:07:32.811Z"
   },
   {
    "duration": 6,
    "start_time": "2023-05-03T16:07:32.883Z"
   },
   {
    "duration": 91,
    "start_time": "2023-05-03T16:07:32.892Z"
   },
   {
    "duration": 4216,
    "start_time": "2023-06-22T16:49:54.191Z"
   },
   {
    "duration": 97,
    "start_time": "2023-06-22T16:49:58.410Z"
   },
   {
    "duration": 198,
    "start_time": "2023-06-22T16:49:58.509Z"
   },
   {
    "duration": 739,
    "start_time": "2023-06-22T16:49:58.709Z"
   },
   {
    "duration": 90,
    "start_time": "2023-06-22T16:49:59.450Z"
   },
   {
    "duration": 128,
    "start_time": "2023-06-22T16:49:59.542Z"
   },
   {
    "duration": 52,
    "start_time": "2023-06-22T16:49:59.672Z"
   },
   {
    "duration": 40,
    "start_time": "2023-06-22T16:49:59.726Z"
   },
   {
    "duration": 251,
    "start_time": "2023-06-22T16:49:59.767Z"
   },
   {
    "duration": 46,
    "start_time": "2023-06-22T16:50:00.021Z"
   },
   {
    "duration": 40,
    "start_time": "2023-06-22T16:50:00.068Z"
   },
   {
    "duration": 68,
    "start_time": "2023-06-22T16:50:00.109Z"
   },
   {
    "duration": 8,
    "start_time": "2023-06-22T16:50:00.179Z"
   },
   {
    "duration": 46,
    "start_time": "2023-06-22T16:50:00.189Z"
   },
   {
    "duration": 22,
    "start_time": "2023-06-22T16:50:00.237Z"
   },
   {
    "duration": 26,
    "start_time": "2023-06-22T16:50:00.261Z"
   },
   {
    "duration": 35,
    "start_time": "2023-06-22T16:50:00.289Z"
   },
   {
    "duration": 40,
    "start_time": "2023-06-22T16:50:00.326Z"
   },
   {
    "duration": 29,
    "start_time": "2023-06-22T16:50:00.368Z"
   },
   {
    "duration": 48,
    "start_time": "2023-06-22T16:50:00.400Z"
   },
   {
    "duration": 41,
    "start_time": "2023-06-22T16:50:00.450Z"
   },
   {
    "duration": 4810,
    "start_time": "2023-06-22T16:50:00.494Z"
   },
   {
    "duration": 307,
    "start_time": "2023-06-22T16:50:05.306Z"
   },
   {
    "duration": 70,
    "start_time": "2023-06-22T16:50:05.615Z"
   },
   {
    "duration": 56,
    "start_time": "2023-06-22T16:50:05.687Z"
   },
   {
    "duration": 58,
    "start_time": "2023-06-22T16:50:05.744Z"
   },
   {
    "duration": 63,
    "start_time": "2023-06-22T16:50:05.803Z"
   },
   {
    "duration": 9,
    "start_time": "2023-06-22T16:50:05.869Z"
   },
   {
    "duration": 32,
    "start_time": "2023-06-22T16:50:05.879Z"
   },
   {
    "duration": 12,
    "start_time": "2023-06-22T16:50:05.912Z"
   },
   {
    "duration": 490,
    "start_time": "2023-06-22T16:50:05.925Z"
   },
   {
    "duration": 369,
    "start_time": "2023-06-22T16:50:06.416Z"
   },
   {
    "duration": 365,
    "start_time": "2023-06-22T16:50:06.787Z"
   },
   {
    "duration": 237,
    "start_time": "2023-06-22T16:50:07.153Z"
   },
   {
    "duration": 76,
    "start_time": "2023-06-22T16:50:07.392Z"
   },
   {
    "duration": 6,
    "start_time": "2023-06-22T16:50:07.470Z"
   },
   {
    "duration": 76,
    "start_time": "2023-06-22T16:50:07.477Z"
   }
  ],
  "kernelspec": {
   "display_name": "Python 3 (ipykernel)",
   "language": "python",
   "name": "python3"
  },
  "language_info": {
   "codemirror_mode": {
    "name": "ipython",
    "version": 3
   },
   "file_extension": ".py",
   "mimetype": "text/x-python",
   "name": "python",
   "nbconvert_exporter": "python",
   "pygments_lexer": "ipython3",
   "version": "3.9.7"
  },
  "toc": {
   "base_numbering": 1,
   "nav_menu": {},
   "number_sections": true,
   "sideBar": true,
   "skip_h1_title": true,
   "title_cell": "Table of Contents",
   "title_sidebar": "Contents",
   "toc_cell": false,
   "toc_position": {
    "height": "687px",
    "left": "46px",
    "top": "111.125px",
    "width": "295.181px"
   },
   "toc_section_display": true,
   "toc_window_display": true
  }
 },
 "nbformat": 4,
 "nbformat_minor": 2
}
