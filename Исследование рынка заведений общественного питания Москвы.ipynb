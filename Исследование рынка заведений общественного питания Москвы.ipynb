{
 "cells": [
  {
   "cell_type": "markdown",
   "metadata": {},
   "source": [
    "# Рынок заведений общественного питания Москвы\n",
    "\n",
    "**Задачи проекта**:\n",
    "1. Оценить текущую ситуацию на рынке общественного питания г. Москва для открытия кафе\n",
    "2. Дать рекомендации:\n",
    "    - о формате заведения\n",
    "    - потенциальному месторасположению\n",
    "    - количестве посадочных мест"
   ]
  },
  {
   "cell_type": "markdown",
   "metadata": {},
   "source": [
    "**Содержание**\n",
    "\n",
    "* [1. Подготовка датасета к анализу](#1)\n",
    "* [2. Анализ данных](#2)\n",
    "* [3. Выводы и рекомендации](#3)"
   ]
  },
  {
   "cell_type": "markdown",
   "metadata": {},
   "source": [
    "<a id='1'></a>\n",
    "## Подготовка датасета к анализу\n",
    "\n",
    "Импортируем все необходимые библиотеки"
   ]
  },
  {
   "cell_type": "code",
   "execution_count": 1,
   "metadata": {},
   "outputs": [],
   "source": [
    "import pandas as pd\n",
    "import matplotlib as plt\n",
    "import plotly.express as px\n",
    "from io import BytesIO\n",
    "import requests"
   ]
  },
  {
   "cell_type": "markdown",
   "metadata": {},
   "source": [
    "Сохраним датасет в переменной `data`, изучим основную информацию."
   ]
  },
  {
   "cell_type": "code",
   "execution_count": 2,
   "metadata": {},
   "outputs": [
    {
     "data": {
      "text/html": [
       "<div>\n",
       "<style scoped>\n",
       "    .dataframe tbody tr th:only-of-type {\n",
       "        vertical-align: middle;\n",
       "    }\n",
       "\n",
       "    .dataframe tbody tr th {\n",
       "        vertical-align: top;\n",
       "    }\n",
       "\n",
       "    .dataframe thead th {\n",
       "        text-align: right;\n",
       "    }\n",
       "</style>\n",
       "<table border=\"1\" class=\"dataframe\">\n",
       "  <thead>\n",
       "    <tr style=\"text-align: right;\">\n",
       "      <th></th>\n",
       "      <th>id</th>\n",
       "      <th>object_name</th>\n",
       "      <th>chain</th>\n",
       "      <th>object_type</th>\n",
       "      <th>address</th>\n",
       "      <th>number</th>\n",
       "    </tr>\n",
       "  </thead>\n",
       "  <tbody>\n",
       "    <tr>\n",
       "      <th>0</th>\n",
       "      <td>151635</td>\n",
       "      <td>СМЕТАНА</td>\n",
       "      <td>нет</td>\n",
       "      <td>кафе</td>\n",
       "      <td>город Москва, улица Егора Абакумова, дом 9</td>\n",
       "      <td>48</td>\n",
       "    </tr>\n",
       "    <tr>\n",
       "      <th>1</th>\n",
       "      <td>77874</td>\n",
       "      <td>Родник</td>\n",
       "      <td>нет</td>\n",
       "      <td>кафе</td>\n",
       "      <td>город Москва, улица Талалихина, дом 2/1, корпус 1</td>\n",
       "      <td>35</td>\n",
       "    </tr>\n",
       "    <tr>\n",
       "      <th>2</th>\n",
       "      <td>24309</td>\n",
       "      <td>Кафе «Академия»</td>\n",
       "      <td>нет</td>\n",
       "      <td>кафе</td>\n",
       "      <td>город Москва, Абельмановская улица, дом 6</td>\n",
       "      <td>95</td>\n",
       "    </tr>\n",
       "    <tr>\n",
       "      <th>3</th>\n",
       "      <td>21894</td>\n",
       "      <td>ПИЦЦЕТОРИЯ</td>\n",
       "      <td>да</td>\n",
       "      <td>кафе</td>\n",
       "      <td>город Москва, Абрамцевская улица, дом 1</td>\n",
       "      <td>40</td>\n",
       "    </tr>\n",
       "    <tr>\n",
       "      <th>4</th>\n",
       "      <td>119365</td>\n",
       "      <td>Кафе «Вишневая метель»</td>\n",
       "      <td>нет</td>\n",
       "      <td>кафе</td>\n",
       "      <td>город Москва, Абрамцевская улица, дом 9, корпус 1</td>\n",
       "      <td>50</td>\n",
       "    </tr>\n",
       "  </tbody>\n",
       "</table>\n",
       "</div>"
      ],
      "text/plain": [
       "       id             object_name chain object_type  \\\n",
       "0  151635                 СМЕТАНА   нет        кафе   \n",
       "1   77874                  Родник   нет        кафе   \n",
       "2   24309         Кафе «Академия»   нет        кафе   \n",
       "3   21894              ПИЦЦЕТОРИЯ    да        кафе   \n",
       "4  119365  Кафе «Вишневая метель»   нет        кафе   \n",
       "\n",
       "                                             address  number  \n",
       "0         город Москва, улица Егора Абакумова, дом 9      48  \n",
       "1  город Москва, улица Талалихина, дом 2/1, корпус 1      35  \n",
       "2          город Москва, Абельмановская улица, дом 6      95  \n",
       "3            город Москва, Абрамцевская улица, дом 1      40  \n",
       "4  город Москва, Абрамцевская улица, дом 9, корпус 1      50  "
      ]
     },
     "metadata": {},
     "output_type": "display_data"
    },
    {
     "name": "stdout",
     "output_type": "stream",
     "text": [
      "<class 'pandas.core.frame.DataFrame'>\n",
      "RangeIndex: 15366 entries, 0 to 15365\n",
      "Data columns (total 6 columns):\n",
      " #   Column       Non-Null Count  Dtype \n",
      "---  ------       --------------  ----- \n",
      " 0   id           15366 non-null  int64 \n",
      " 1   object_name  15366 non-null  object\n",
      " 2   chain        15366 non-null  object\n",
      " 3   object_type  15366 non-null  object\n",
      " 4   address      15366 non-null  object\n",
      " 5   number       15366 non-null  int64 \n",
      "dtypes: int64(2), object(4)\n",
      "memory usage: 720.4+ KB\n"
     ]
    }
   ],
   "source": [
    "data = pd.read_csv ('C:/Documents/Yandex Practicum/Projects/2. Исследование рынка заведений общественного питания Москвы/data.csv')\n",
    "display (data.head ())\n",
    "data.info ()"
   ]
  },
  {
   "cell_type": "markdown",
   "metadata": {},
   "source": [
    "Датасет состоит из более чем 15 тысяч записей и содержит 6 колонок:\n",
    "* `id` - идентификатор объекта\n",
    "* `object_name` - название объекта общественного питания\n",
    "* `chain` - сетевой ресторан\n",
    "* `object_type` - тип объекта общественного питания\n",
    "* `address` - адрес\n",
    "* `number` - количество посадочных мест\n",
    "\n",
    "Типы данных соответствуют информации в колонках.\n",
    "\n",
    "Переименуем колонку `number` в `seat_number`, чтобы было удобнее работать с данными."
   ]
  },
  {
   "cell_type": "code",
   "execution_count": 3,
   "metadata": {},
   "outputs": [],
   "source": [
    "data = data.rename (columns = {'number': 'seat_number'})"
   ]
  },
  {
   "cell_type": "markdown",
   "metadata": {},
   "source": [
    "Проверим наличие пропусков в данных."
   ]
  },
  {
   "cell_type": "code",
   "execution_count": 4,
   "metadata": {},
   "outputs": [
    {
     "data": {
      "text/plain": [
       "id             0\n",
       "object_name    0\n",
       "chain          0\n",
       "object_type    0\n",
       "address        0\n",
       "seat_number    0\n",
       "dtype: int64"
      ]
     },
     "execution_count": 4,
     "metadata": {},
     "output_type": "execute_result"
    }
   ],
   "source": [
    "data.isna().sum()"
   ]
  },
  {
   "cell_type": "markdown",
   "metadata": {},
   "source": [
    "Пропусков в данных не обнаружено. Проверим дубликаты в записях."
   ]
  },
  {
   "cell_type": "code",
   "execution_count": 5,
   "metadata": {},
   "outputs": [
    {
     "data": {
      "text/plain": [
       "0"
      ]
     },
     "execution_count": 5,
     "metadata": {},
     "output_type": "execute_result"
    }
   ],
   "source": [
    "data.duplicated().sum()"
   ]
  },
  {
   "cell_type": "markdown",
   "metadata": {},
   "source": [
    "Явных дубликатов в датасете нет. Проверим также дубликаты по колонке `id`"
   ]
  },
  {
   "cell_type": "code",
   "execution_count": 6,
   "metadata": {},
   "outputs": [
    {
     "data": {
      "text/plain": [
       "0"
      ]
     },
     "execution_count": 6,
     "metadata": {},
     "output_type": "execute_result"
    }
   ],
   "source": [
    "data ['id'].duplicated().sum()"
   ]
  },
  {
   "cell_type": "markdown",
   "metadata": {},
   "source": [
    "Дубликаты в таблице отсутствуют. Стоит отдельно проверить дубликаты без колонки `id`."
   ]
  },
  {
   "cell_type": "code",
   "execution_count": 7,
   "metadata": {},
   "outputs": [
    {
     "data": {
      "text/plain": [
       "82"
      ]
     },
     "execution_count": 7,
     "metadata": {},
     "output_type": "execute_result"
    }
   ],
   "source": [
    "data [['object_name', 'chain', 'object_type', 'address', 'seat_number']].duplicated().sum()"
   ]
  },
  {
   "cell_type": "markdown",
   "metadata": {},
   "source": [
    "Имеется 82 записи с дубликатами, их можно удалить, т.к. объем этих данных не превышает 1% от всего датасета."
   ]
  },
  {
   "cell_type": "code",
   "execution_count": 8,
   "metadata": {},
   "outputs": [],
   "source": [
    "data = data.drop_duplicates (subset = data.columns.difference(['id'])).reset_index (drop = True)"
   ]
  },
  {
   "cell_type": "markdown",
   "metadata": {},
   "source": [
    "Посмотрим на количественные значения колонки `seat_number`."
   ]
  },
  {
   "cell_type": "code",
   "execution_count": 9,
   "metadata": {},
   "outputs": [
    {
     "data": {
      "text/plain": [
       "count    15284.000000\n",
       "mean        59.784350\n",
       "std         74.838657\n",
       "min          0.000000\n",
       "25%         14.000000\n",
       "50%         40.000000\n",
       "75%         80.000000\n",
       "max       1700.000000\n",
       "Name: seat_number, dtype: float64"
      ]
     },
     "execution_count": 9,
     "metadata": {},
     "output_type": "execute_result"
    }
   ],
   "source": [
    "data ['seat_number'].describe()"
   ]
  },
  {
   "cell_type": "markdown",
   "metadata": {},
   "source": [
    "В колонке имеются данные о заведениях без посадочных мест. Посмотрим на их количество."
   ]
  },
  {
   "cell_type": "code",
   "execution_count": 10,
   "metadata": {},
   "outputs": [
    {
     "data": {
      "text/plain": [
       "1589"
      ]
     },
     "execution_count": 10,
     "metadata": {},
     "output_type": "execute_result"
    }
   ],
   "source": [
    "len (data [data ['seat_number'] == 0])"
   ]
  },
  {
   "cell_type": "markdown",
   "metadata": {},
   "source": [
    "Более 10% заведений без посадочных мест. Причиной может быть как ошибки в данных, так и отсутствие мест в действительности (например, для небольших заведений с принципом работы \"на вынос\" - небольшие точки, где отсутствуют посадочные места как таковые). Удалять такой объем данных не стоит, т.к. их слишком много, это может повлиять на результаты исследования.\n",
    "\n",
    "Предобработка общих данных закончена, можно переходить к анализу."
   ]
  },
  {
   "cell_type": "markdown",
   "metadata": {},
   "source": [
    "<a id='2'></a>\n",
    "## Анализ данных\n",
    "Начнём анализ с соотношения видов объектов общественного питания по количеству."
   ]
  },
  {
   "cell_type": "code",
   "execution_count": 11,
   "metadata": {
    "scrolled": false
   },
   "outputs": [
    {
     "data": {
      "image/png": "[encoded data removed]"
     },
     "metadata": {},
     "output_type": "display_data"
    }
   ],
   "source": [
    "def fig_set (fig, title, xt, yt):\n",
    "    fig.update_layout (title = title,\n",
    "                       xaxis_title = xt,\n",
    "                       yaxis_title = yt)\n",
    "    fig.show ('png')\n",
    "\n",
    "fig_1 = px.bar (data.groupby ('object_type')['object_type'].count().sort_values (ascending = False),\n",
    "                y = 'object_type',\n",
    "                width = 1000,\n",
    "                height = 600)\n",
    "fig_set (fig_1, 'Сравнение видов объектов общественного питания по количеству', '', 'Количество')"
   ]
  },
  {
   "cell_type": "markdown",
   "metadata": {},
   "source": [
    "Больше всего в датасете данных о кафе (более 6000). Столовые, рестораны и предприятия быстрого питания находятся в диапазоне от 1 до 3 тысяч объектов, остальные объекты занимают незначительную долю (менее 1000 объектов).\n",
    "\n",
    "Рассмотрим соотношение сетевых и несетевых заведений по количеству."
   ]
  },
  {
   "cell_type": "code",
   "execution_count": 12,
   "metadata": {},
   "outputs": [
    {
     "data": {
      "image/png": "[encoded data removed]"
     },
     "metadata": {},
     "output_type": "display_data"
    }
   ],
   "source": [
    "fig_2 = px.pie (data.groupby ('chain')['id'].count().reset_index(),\n",
    "                values = 'id',\n",
    "                names = ['сетевые', 'несетевые'])\n",
    "fig_set (fig_2, 'Соотношение сетевых и несетевых объектов', '', '')"
   ]
  },
  {
   "cell_type": "code",
   "execution_count": 13,
   "metadata": {
    "scrolled": true
   },
   "outputs": [
    {
     "name": "stdout",
     "output_type": "stream",
     "text": [
      "Доля сетевых заведение в датасете:  19.4 %\n"
     ]
    }
   ],
   "source": [
    "print ('Доля сетевых заведение в датасете: ', round (len (data [data ['chain'] == 'да']) / len (data) * 100, 1), '%')"
   ]
  },
  {
   "cell_type": "markdown",
   "metadata": {},
   "source": [
    "Большинство заведений не относится к сетевым. Сетевые заведения занимают менее 20% от общего количества объектов.\n",
    "\n",
    "Рассмотрим, для какого вида объекта общественного питания характерно сетевое распространение."
   ]
  },
  {
   "cell_type": "code",
   "execution_count": 14,
   "metadata": {},
   "outputs": [
    {
     "data": {
      "image/png": "[encoded data removed]"
     },
     "metadata": {},
     "output_type": "display_data"
    }
   ],
   "source": [
    "data_pivot = data.pivot_table (index = 'object_type', columns = 'chain', values = 'id', aggfunc = 'count')\n",
    "fig_3 = px.bar (data_pivot.sort_values (by = 'да', ascending = False),\n",
    "                y = ['да', 'нет'],\n",
    "                width = 1000,\n",
    "                height = 600)\n",
    "fig_set (fig_3, 'Сетевое распространение по видам объектов', 'Вид объекта общественного питания', 'Количество')"
   ]
  },
  {
   "cell_type": "markdown",
   "metadata": {},
   "source": [
    "Из графика видно, что кафе, предприятия быстрого питания и рестораны имеют значительные доли сетевых заведений. Однако, график построен по количеству заведений, а не по долям. Сравним доли сетевых заведений по видам объектов."
   ]
  },
  {
   "cell_type": "code",
   "execution_count": 15,
   "metadata": {},
   "outputs": [
    {
     "data": {
      "image/png": "[encoded data removed]"
     },
     "metadata": {},
     "output_type": "display_data"
    }
   ],
   "source": [
    "data_pivot ['ratio'] = (data_pivot ['да'] / (data_pivot ['да'] + data_pivot ['нет'])) * 100\n",
    "fig_4 = px.bar (data_pivot.sort_values (by = 'ratio', ascending = False),\n",
    "                y = 'ratio',\n",
    "                width = 1000,\n",
    "                height = 600)\n",
    "fig_set (fig_4, 'Сравнение долей сетевых заведений по видам объектов общественного питания', 'Вид объекта общественного питания', 'Доля, %')"
   ]
  },
  {
   "cell_type": "markdown",
   "metadata": {},
   "source": [
    "Из построенного графика можно сделать вывод о том, что наиболее характерно сетевое распределение для предприятий быстрого питания (более 40% заведений от общего количества этого вида). Магазины с отделами кулинарии, рестораны и кафе в 20-30% случаев являются сетевыми. Остальные виды заведений имеют долю сетевых 15% и менее.\n",
    "\n",
    "Рассмотрим сетевые заведения более подробно. Сгруппируем данные по названию заведений и посмотрим на их количество."
   ]
  },
  {
   "cell_type": "code",
   "execution_count": 16,
   "metadata": {},
   "outputs": [
    {
     "data": {
      "text/html": [
       "<div>\n",
       "<style scoped>\n",
       "    .dataframe tbody tr th:only-of-type {\n",
       "        vertical-align: middle;\n",
       "    }\n",
       "\n",
       "    .dataframe tbody tr th {\n",
       "        vertical-align: top;\n",
       "    }\n",
       "\n",
       "    .dataframe thead th {\n",
       "        text-align: right;\n",
       "    }\n",
       "</style>\n",
       "<table border=\"1\" class=\"dataframe\">\n",
       "  <thead>\n",
       "    <tr style=\"text-align: right;\">\n",
       "      <th></th>\n",
       "      <th>object_name</th>\n",
       "      <th>id</th>\n",
       "    </tr>\n",
       "  </thead>\n",
       "  <tbody>\n",
       "    <tr>\n",
       "      <th>0</th>\n",
       "      <td>Beverly Hills Diner</td>\n",
       "      <td>1</td>\n",
       "    </tr>\n",
       "    <tr>\n",
       "      <th>436</th>\n",
       "      <td>Мюнгер</td>\n",
       "      <td>1</td>\n",
       "    </tr>\n",
       "    <tr>\n",
       "      <th>435</th>\n",
       "      <td>Му-му</td>\n",
       "      <td>1</td>\n",
       "    </tr>\n",
       "    <tr>\n",
       "      <th>433</th>\n",
       "      <td>Молли гвинз</td>\n",
       "      <td>1</td>\n",
       "    </tr>\n",
       "    <tr>\n",
       "      <th>431</th>\n",
       "      <td>Мираторг</td>\n",
       "      <td>1</td>\n",
       "    </tr>\n",
       "    <tr>\n",
       "      <th>...</th>\n",
       "      <td>...</td>\n",
       "      <td>...</td>\n",
       "    </tr>\n",
       "    <tr>\n",
       "      <th>195</th>\n",
       "      <td>Домино'с Пицца</td>\n",
       "      <td>86</td>\n",
       "    </tr>\n",
       "    <tr>\n",
       "      <th>418</th>\n",
       "      <td>Макдоналдс</td>\n",
       "      <td>121</td>\n",
       "    </tr>\n",
       "    <tr>\n",
       "      <th>127</th>\n",
       "      <td>Бургер Кинг</td>\n",
       "      <td>122</td>\n",
       "    </tr>\n",
       "    <tr>\n",
       "      <th>702</th>\n",
       "      <td>Шоколадница</td>\n",
       "      <td>141</td>\n",
       "    </tr>\n",
       "    <tr>\n",
       "      <th>30</th>\n",
       "      <td>KFC</td>\n",
       "      <td>155</td>\n",
       "    </tr>\n",
       "  </tbody>\n",
       "</table>\n",
       "<p>724 rows × 2 columns</p>\n",
       "</div>"
      ],
      "text/plain": [
       "             object_name   id\n",
       "0    Beverly Hills Diner    1\n",
       "436               Мюнгер    1\n",
       "435                Му-му    1\n",
       "433          Молли гвинз    1\n",
       "431             Мираторг    1\n",
       "..                   ...  ...\n",
       "195       Домино'с Пицца   86\n",
       "418           Макдоналдс  121\n",
       "127          Бургер Кинг  122\n",
       "702          Шоколадница  141\n",
       "30                   KFC  155\n",
       "\n",
       "[724 rows x 2 columns]"
      ]
     },
     "execution_count": 16,
     "metadata": {},
     "output_type": "execute_result"
    }
   ],
   "source": [
    "data_chain = data.query ('chain == \"да\"')\n",
    "data_chain.groupby ('object_name')['id'].count().reset_index().sort_values(by = 'id')"
   ]
  },
  {
   "cell_type": "markdown",
   "metadata": {},
   "source": [
    "В таблице 724 уникальных названий заведений, однако, в таблице имеются дубликаты из-за разного написания одних и тех же заведений. Проведём первичную обработку данных - приведём названия всех заведений к нижнему регистру."
   ]
  },
  {
   "cell_type": "code",
   "execution_count": 17,
   "metadata": {},
   "outputs": [
    {
     "data": {
      "text/html": [
       "<div>\n",
       "<style scoped>\n",
       "    .dataframe tbody tr th:only-of-type {\n",
       "        vertical-align: middle;\n",
       "    }\n",
       "\n",
       "    .dataframe tbody tr th {\n",
       "        vertical-align: top;\n",
       "    }\n",
       "\n",
       "    .dataframe thead th {\n",
       "        text-align: right;\n",
       "    }\n",
       "</style>\n",
       "<table border=\"1\" class=\"dataframe\">\n",
       "  <thead>\n",
       "    <tr style=\"text-align: right;\">\n",
       "      <th></th>\n",
       "      <th>object_name</th>\n",
       "      <th>id</th>\n",
       "    </tr>\n",
       "  </thead>\n",
       "  <tbody>\n",
       "    <tr>\n",
       "      <th>0</th>\n",
       "      <td>beverly hills diner</td>\n",
       "      <td>1</td>\n",
       "    </tr>\n",
       "    <tr>\n",
       "      <th>341</th>\n",
       "      <td>мимино хинкальная</td>\n",
       "      <td>1</td>\n",
       "    </tr>\n",
       "    <tr>\n",
       "      <th>338</th>\n",
       "      <td>милано пицца</td>\n",
       "      <td>1</td>\n",
       "    </tr>\n",
       "    <tr>\n",
       "      <th>336</th>\n",
       "      <td>метро к&amp;к</td>\n",
       "      <td>1</td>\n",
       "    </tr>\n",
       "    <tr>\n",
       "      <th>334</th>\n",
       "      <td>меленка</td>\n",
       "      <td>1</td>\n",
       "    </tr>\n",
       "    <tr>\n",
       "      <th>...</th>\n",
       "      <td>...</td>\n",
       "      <td>...</td>\n",
       "    </tr>\n",
       "    <tr>\n",
       "      <th>521</th>\n",
       "      <td>теремок</td>\n",
       "      <td>94</td>\n",
       "    </tr>\n",
       "    <tr>\n",
       "      <th>109</th>\n",
       "      <td>бургер кинг</td>\n",
       "      <td>137</td>\n",
       "    </tr>\n",
       "    <tr>\n",
       "      <th>330</th>\n",
       "      <td>макдоналдс</td>\n",
       "      <td>150</td>\n",
       "    </tr>\n",
       "    <tr>\n",
       "      <th>25</th>\n",
       "      <td>kfc</td>\n",
       "      <td>155</td>\n",
       "    </tr>\n",
       "    <tr>\n",
       "      <th>563</th>\n",
       "      <td>шоколадница</td>\n",
       "      <td>157</td>\n",
       "    </tr>\n",
       "  </tbody>\n",
       "</table>\n",
       "<p>577 rows × 2 columns</p>\n",
       "</div>"
      ],
      "text/plain": [
       "             object_name   id\n",
       "0    beverly hills diner    1\n",
       "341    мимино хинкальная    1\n",
       "338         милано пицца    1\n",
       "336            метро к&к    1\n",
       "334              меленка    1\n",
       "..                   ...  ...\n",
       "521              теремок   94\n",
       "109          бургер кинг  137\n",
       "330           макдоналдс  150\n",
       "25                   kfc  155\n",
       "563          шоколадница  157\n",
       "\n",
       "[577 rows x 2 columns]"
      ]
     },
     "execution_count": 17,
     "metadata": {},
     "output_type": "execute_result"
    }
   ],
   "source": [
    "pd.options.mode.chained_assignment = None\n",
    "data_chain ['object_name'] = data_chain ['object_name'].str.lower()\n",
    "data_chain.groupby ('object_name')['id'].count().reset_index().sort_values (by = 'id')"
   ]
  },
  {
   "cell_type": "markdown",
   "metadata": {},
   "source": [
    "Первичная обработка позволила сократить 147 записей, являющиеся дубликатами из-за разных регистров. Проведём вторичную обработку - используем названия 50-и объектов, имеющих наибольшее количество заведений, для выявления дубликатов с этими же именами в названиях."
   ]
  },
  {
   "cell_type": "code",
   "execution_count": 18,
   "metadata": {},
   "outputs": [
    {
     "data": {
      "text/html": [
       "<div>\n",
       "<style scoped>\n",
       "    .dataframe tbody tr th:only-of-type {\n",
       "        vertical-align: middle;\n",
       "    }\n",
       "\n",
       "    .dataframe tbody tr th {\n",
       "        vertical-align: top;\n",
       "    }\n",
       "\n",
       "    .dataframe thead th {\n",
       "        text-align: right;\n",
       "    }\n",
       "</style>\n",
       "<table border=\"1\" class=\"dataframe\">\n",
       "  <thead>\n",
       "    <tr style=\"text-align: right;\">\n",
       "      <th></th>\n",
       "      <th>object_name</th>\n",
       "      <th>id</th>\n",
       "    </tr>\n",
       "  </thead>\n",
       "  <tbody>\n",
       "    <tr>\n",
       "      <th>0</th>\n",
       "      <td>beverly hills diner</td>\n",
       "      <td>1</td>\n",
       "    </tr>\n",
       "    <tr>\n",
       "      <th>195</th>\n",
       "      <td>коста кофе</td>\n",
       "      <td>1</td>\n",
       "    </tr>\n",
       "    <tr>\n",
       "      <th>198</th>\n",
       "      <td>кофе тун</td>\n",
       "      <td>1</td>\n",
       "    </tr>\n",
       "    <tr>\n",
       "      <th>202</th>\n",
       "      <td>кофейня «costa coffee»</td>\n",
       "      <td>1</td>\n",
       "    </tr>\n",
       "    <tr>\n",
       "      <th>203</th>\n",
       "      <td>кофейня «дабл би»</td>\n",
       "      <td>1</td>\n",
       "    </tr>\n",
       "    <tr>\n",
       "      <th>...</th>\n",
       "      <td>...</td>\n",
       "      <td>...</td>\n",
       "    </tr>\n",
       "    <tr>\n",
       "      <th>351</th>\n",
       "      <td>теремок</td>\n",
       "      <td>111</td>\n",
       "    </tr>\n",
       "    <tr>\n",
       "      <th>91</th>\n",
       "      <td>бургер кинг</td>\n",
       "      <td>159</td>\n",
       "    </tr>\n",
       "    <tr>\n",
       "      <th>384</th>\n",
       "      <td>шоколадница</td>\n",
       "      <td>167</td>\n",
       "    </tr>\n",
       "    <tr>\n",
       "      <th>225</th>\n",
       "      <td>макдоналдс</td>\n",
       "      <td>172</td>\n",
       "    </tr>\n",
       "    <tr>\n",
       "      <th>23</th>\n",
       "      <td>kfc</td>\n",
       "      <td>177</td>\n",
       "    </tr>\n",
       "  </tbody>\n",
       "</table>\n",
       "<p>393 rows × 2 columns</p>\n",
       "</div>"
      ],
      "text/plain": [
       "                object_name   id\n",
       "0       beverly hills diner    1\n",
       "195              коста кофе    1\n",
       "198                кофе тун    1\n",
       "202  кофейня «costa coffee»    1\n",
       "203       кофейня «дабл би»    1\n",
       "..                      ...  ...\n",
       "351                 теремок  111\n",
       "91              бургер кинг  159\n",
       "384             шоколадница  167\n",
       "225              макдоналдс  172\n",
       "23                      kfc  177\n",
       "\n",
       "[393 rows x 2 columns]"
      ]
     },
     "execution_count": 18,
     "metadata": {},
     "output_type": "execute_result"
    }
   ],
   "source": [
    "def update_name (name):\n",
    "    for i in data_chain.groupby ('object_name')['id'].count().reset_index().sort_values (by = 'id').tail (50)['object_name']:\n",
    "        if i in name:\n",
    "            return i\n",
    "    return name\n",
    "\n",
    "data_chain ['object_name'] = data_chain ['object_name'].apply (update_name)\n",
    "data_chain.groupby ('object_name')['id'].count().reset_index().sort_values (by = 'id')"
   ]
  },
  {
   "cell_type": "markdown",
   "metadata": {},
   "source": [
    "Вторичная обработка позволила сократить ещё 184 записи. Перейдём к итоговой обработке - визуальной. Отсортируем все уникальные оставшиеся уникальные значения `object_name` и приведём названия к единому виду."
   ]
  },
  {
   "cell_type": "code",
   "execution_count": 19,
   "metadata": {},
   "outputs": [
    {
     "data": {
      "text/plain": [
       "array(['пиццетория', 'брусника', 'алло пицца', 'суши wok', 'тануки',\n",
       "       \"домино'с пицца\", 'готика', 'му-му', 'хлеб насущный', 'tajj mahal',\n",
       "       'данкин донатс', 'вареничная №1', 'шоколадница', 'теремок',\n",
       "       'хинкальная', 'шантимель', 'кружка', 'суши вок', 'примавера',\n",
       "       'виктория', 'пиццерия «академия»', 'чебуречная ссср', 'макдоналдс',\n",
       "       'grand cru', 'чайхона №1', 'панчо пицца', 'kfc', 'сабвей',\n",
       "       'якитория', 'советские времена', 'андерсон', 'subway', 'суши сет',\n",
       "       'шоколад', 'тирольские пироги', 'гамбринус', 'пицца фабрика',\n",
       "       'сити пицца', 'кофе хаус', 'кулинарная лавка братьев караваевых',\n",
       "       'прайм', 'пицца экспресс', 'николай', 'магнолия', 'кофе с собой',\n",
       "       'джаганнат', 'волконский', 'moskalyan', 'гино-но-таки',\n",
       "       'тратория semplice', 'ньокки', 'хижина', 'додо пицца',\n",
       "       'крошка картошка', 'бургер кинг', 'папа джонс',\n",
       "       'бар- буфет «николай»', 'ресторан «тануки»', 'две палочки',\n",
       "       'джон джоли', 'ваби-саби', 'кофемания', 'простые вещи',\n",
       "       'павлин-мавлин', 'кафе «чайхана тапчан»', 'штолле', 'бабай клаб',\n",
       "       'кактус', 'темпл бар', 'хлеб&co', 'кофе-бин',\n",
       "       'французская выпечка', 'планета суши', 'де марко',\n",
       "       'ресторан «илья муромец»', 'ресторан «корчма тарас бульба»',\n",
       "       'стейк хаус гудман', 'иль патио', 'иль-патио', 'мюнгер',\n",
       "       'ботик петра', 'чин чин', 'правdа кофе', 'сити', 'krispy creme',\n",
       "       'азбука вкуса', 'пивко', 'пиццерия «папа джонс»',\n",
       "       'ресторан «брудер»', 'мимино', 'кофепорт', 'кафе «пицца фабрика»',\n",
       "       'иль форно', 'travelers coffee', 'рецептор', 'сушишоп',\n",
       "       'кофе-хаус', 'баскин роббинс', 'барашка', 'корчма «тарас бульба»',\n",
       "       'кафе «шоколадница»', 'пицца хат', 'мята lounge', 'costa coffee',\n",
       "       'илья муромец', 'ёрш', 'стардогs', 'корчма тарас бульба',\n",
       "       'upside down cake', 'кафе пекарня хачапури',\n",
       "       'домашнее кафе сеть городских кафе', 'бар-буфет николай',\n",
       "       'добрынинский и партнёры', 'кофейня «де марко»', 'менза', 'тапчан',\n",
       "       'колбасофф', 'крепери де пари', 'брава коста кофе', 'старбакс',\n",
       "       'венеция', 'жан жак', 'гурмания', 'кафе «тапчан»',\n",
       "       'ресторан «ньокки»', 'bierloga', 'штирбирлиц', 'маки-маки',\n",
       "       'хачапури', 'в&в бургер', 'jeffreys coffee', 'travelers coffe',\n",
       "       'академия', 'дабл би', 'золотая вобла', 'пилзнер',\n",
       "       'траттория примавера', 'коста кофе', 'перекресток', 'starbucks',\n",
       "       'руккола', 'шантимель (кондитерские)', 'милано пицца', 'зодиак',\n",
       "       'ресторан «ёрш»', 'торро гриль', 'фитнес-бар «world class»',\n",
       "       'роллофф', 'кафе «кулинарное бюро»', 'билла', 'урюк', 'tokyo bay',\n",
       "       'кулинарное бюро', 'пиппони', 'пицца пипони',\n",
       "       'кулинарное бюро китчен', 'сытая утка', 'икура паб', 'сварня',\n",
       "       'пиццерия пиу дель чибо', 'ичибан боши', 'макс бреннер',\n",
       "       'бутчер бизон', 'магбургер азс №16', 'магбургер азс №17',\n",
       "       'il forno иль форно', 'то да сё', 'пицца pomodoro',\n",
       "       'чешская пивная «козловица»', 'грабли', 'vietcafe вьеткафе',\n",
       "       'оникс', 'пицца pomodoro и суши дзен', 'вьеткафе', 'да пино',\n",
       "       'старина миллер', 'кафе рецептор', 'старина мюллер старина миллер',\n",
       "       'пронто', 'пицца «паоло»', 'лепешка', 'чешская пивная «пилзнер»',\n",
       "       'гурман', 'территория ясенево', 'городские автокофейни',\n",
       "       'вгости. урюк', 'порто мальтезе', 'квартира 44',\n",
       "       'американ сити пицца цех по изготовлению пиццы',\n",
       "       'бар азбука вкуса', 'суп кафе', 'ресторан «florentini»',\n",
       "       'поль бейкери', 'glowsubs sandwiches', 'ми пьяче',\n",
       "       'ресторан «территория»', 'кафе «kfc»', 'пиццерия донателло',\n",
       "       'закусочная «американ сити пицца»', 'нияма пицца пи',\n",
       "       'кафе «марукамэ»', 'бир хаус', 'спб', 'кебаб хаус', 'paul поль',\n",
       "       'шашлык-машлык', 'генацвали', 'территория timbigfamily',\n",
       "       'территория', 'да пино (da pino)', 'ресторан «золотая вобла»',\n",
       "       'граци рагацци зю кафе', 'виват-пицца', 'ресторан «вьеткафе»',\n",
       "       'starlite diner', 'ресторан «урюк»', 'krispy krem',\n",
       "       'ресторан маки-маки', 'кафе пронто', 'кофетун', 'ташир пицца',\n",
       "       'елки-палки', 'кафе кофе тун', 'метро к&к', 'тамаси суши',\n",
       "       'burger club', 'фантоцци рус', 'кафе «урюк» хивинская чайхона',\n",
       "       'ресторан «пронто»', 'изба', 'воккер', 'нияма', 'ганс и марта',\n",
       "       'кафе «поль бейкери»', 'кофе', 'ливан-хаус', 'лето',\n",
       "       'суши бар «маки-маки»', 'ямми микс', 'брудер', 'баракат',\n",
       "       'кафе при азс', 'урюк вавилова', 'кулинарное бюро kitchen',\n",
       "       'ресторан«вьеткафе»', 'кафе космик', 'сушиман', 'кафе шоколад',\n",
       "       'япоша', 'кофе тун', 'барбарис', 'yogurt frenzy', 'bocconcino',\n",
       "       'помидор', 'дюшес', 'кафе «то да сё»', 'урожай',\n",
       "       'ресторан «ян примус»', 'шварцвальд', 'tutti frutti frozen yogurt',\n",
       "       'кафе «нияма»', 'кафе «менза»', 'ресторан «джардино да пино»',\n",
       "       'кафе «меленка»', 'ресторан «колбасофф»', 'сбарро',\n",
       "       'кафе «восточный базар»', 'кафе кофе-хаус', 'ресторан «космик»',\n",
       "       'каро', 'ресторан «планета суши»', 'white rabbite (белый кролик)',\n",
       "       'бакинский бульвар', 'ян примус', 'healthy food', 'sushilka',\n",
       "       'coffeeshop company', 'maki maki', 'стейк-хаус гудман', 'барбекю',\n",
       "       'обжорный ряд', 'космик', 'тайм авеню', 'братья караваевы',\n",
       "       'wok & box', 'кафе при азс газпромнефть', 'бар боулинг-космик',\n",
       "       'ресторан «темпл бар»', 'ресторан «чайхана урюк»',\n",
       "       'кафе «торнадо»', 'магбургер', 'ресторан «бакинский бульвар»',\n",
       "       'предприятие быстрого обслуживания «бенто wok»', 'бургер клаб',\n",
       "       'кафе при азс «bp»', 'wokker', 'ариана', 'спорт-бар «космик»',\n",
       "       'ресторан японской кухни «маки-маки»', 'детское кафе «космик»',\n",
       "       'ванвок', 'кафе «данкин донатс»', 'кафе «costa coffee»',\n",
       "       'каффе «wokker»', 'семейный ресторан «космик»',\n",
       "       'кофейня «дабл би»', 'пражечка', 'блинная', 'correas',\n",
       "       'мистер картошка', 'кафе «сим-сим»', 'pizengof99 спб', 'меленка',\n",
       "       'югос', 'марчеллис', 'кафе песто и митлес', 'молли гвинз',\n",
       "       'дорогая я перезвоню', 'кофешоп coffeeshop company',\n",
       "       'гудман гудвин', 'гудман', 'torro grill торро гриль',\n",
       "       'ресторан торро гриль', 'the terrace', 'бир хаус паб',\n",
       "       'пончиковое кафе икеа ikea', 'ресторан икеа ikea', 'black & white',\n",
       "       'роснефть', 'upside down', 'кофейня «costa coffee»', 'cookhouse',\n",
       "       'dunkin donuts', 'мск московская сеть кальянных',\n",
       "       'братья караваевых',\n",
       "       'предприятие быстрого обслуживания «магбургер»', 'пицца паоло',\n",
       "       'cofix', 'пикколо', 'милти', 'васаби', 'хачапури, одесса -мама',\n",
       "       'tgi fridays', 'дабл би блэк', 'суши «маки-маки»', 'grand урюк',\n",
       "       'panda express', 'ав-дейли азбука вкуса', 'ирландский паб',\n",
       "       'кафе мороженного «tutti frutti»', 'tutti frutti',\n",
       "       'нияма. пицца пи', 'бистро пронто', 'зю кафе', 'восточный базар',\n",
       "       'сказка', 'вкусняшка', 'грузинские каникулы барбарис',\n",
       "       'суши тун, хруст pizza, кофе тун', 'кафе при азс лукойл',\n",
       "       'лукойл-центрнефтьпродукт', 'fridays', 'мираторг', 'бенто wok',\n",
       "       'bubbleology', 'boobo', 'luciano', 'лукойл', 'кальянная f-lounge',\n",
       "       'мск московская сеть кальянных на шаболовке',\n",
       "       'чешская пивная пилзнер', 'beverly hills diner', 'florentini',\n",
       "       'кондитерия тирольские пироги', 'lavkalavka', 'хлебница пекарня',\n",
       "       'кальян-бар moskalyan', 'анти-кафе кальянная «moskalyan»',\n",
       "       'советские времена чебуречная ссср', 'osteria mario', 'мясоroob',\n",
       "       'газпромнефтьцентр', 'goodman гудман', 'coffeeshop', 'my box',\n",
       "       'vanwok ванвок', 'van wok ванвок', 'бб энд бургерс в&в бургер',\n",
       "       'сувлаки', 'суши тун', 'movenpick', 'marmalato', 'мята'],\n",
       "      dtype=object)"
      ]
     },
     "execution_count": 19,
     "metadata": {},
     "output_type": "execute_result"
    }
   ],
   "source": [
    "data_chain ['object_name'].unique()"
   ]
  },
  {
   "cell_type": "code",
   "execution_count": 20,
   "metadata": {},
   "outputs": [
    {
     "data": {
      "text/html": [
       "<div>\n",
       "<style scoped>\n",
       "    .dataframe tbody tr th:only-of-type {\n",
       "        vertical-align: middle;\n",
       "    }\n",
       "\n",
       "    .dataframe tbody tr th {\n",
       "        vertical-align: top;\n",
       "    }\n",
       "\n",
       "    .dataframe thead th {\n",
       "        text-align: right;\n",
       "    }\n",
       "</style>\n",
       "<table border=\"1\" class=\"dataframe\">\n",
       "  <thead>\n",
       "    <tr style=\"text-align: right;\">\n",
       "      <th></th>\n",
       "      <th>object_name</th>\n",
       "      <th>seat_number</th>\n",
       "    </tr>\n",
       "    <tr>\n",
       "      <th>object_name</th>\n",
       "      <th></th>\n",
       "      <th></th>\n",
       "    </tr>\n",
       "  </thead>\n",
       "  <tbody>\n",
       "    <tr>\n",
       "      <th>beverly hills diner</th>\n",
       "      <td>1</td>\n",
       "      <td>88.0</td>\n",
       "    </tr>\n",
       "    <tr>\n",
       "      <th>bierloga</th>\n",
       "      <td>1</td>\n",
       "      <td>75.0</td>\n",
       "    </tr>\n",
       "    <tr>\n",
       "      <th>black &amp; white</th>\n",
       "      <td>1</td>\n",
       "      <td>40.0</td>\n",
       "    </tr>\n",
       "    <tr>\n",
       "      <th>bocconcino</th>\n",
       "      <td>3</td>\n",
       "      <td>68.0</td>\n",
       "    </tr>\n",
       "    <tr>\n",
       "      <th>boobo</th>\n",
       "      <td>1</td>\n",
       "      <td>46.0</td>\n",
       "    </tr>\n",
       "    <tr>\n",
       "      <th>...</th>\n",
       "      <td>...</td>\n",
       "      <td>...</td>\n",
       "    </tr>\n",
       "    <tr>\n",
       "      <th>якитория</th>\n",
       "      <td>50</td>\n",
       "      <td>100.0</td>\n",
       "    </tr>\n",
       "    <tr>\n",
       "      <th>ямми микс</th>\n",
       "      <td>1</td>\n",
       "      <td>2.0</td>\n",
       "    </tr>\n",
       "    <tr>\n",
       "      <th>ян примус</th>\n",
       "      <td>1</td>\n",
       "      <td>300.0</td>\n",
       "    </tr>\n",
       "    <tr>\n",
       "      <th>япоша</th>\n",
       "      <td>2</td>\n",
       "      <td>105.0</td>\n",
       "    </tr>\n",
       "    <tr>\n",
       "      <th>ёрш</th>\n",
       "      <td>6</td>\n",
       "      <td>104.0</td>\n",
       "    </tr>\n",
       "  </tbody>\n",
       "</table>\n",
       "<p>352 rows × 2 columns</p>\n",
       "</div>"
      ],
      "text/plain": [
       "                     object_name  seat_number\n",
       "object_name                                  \n",
       "beverly hills diner            1         88.0\n",
       "bierloga                       1         75.0\n",
       "black & white                  1         40.0\n",
       "bocconcino                     3         68.0\n",
       "boobo                          1         46.0\n",
       "...                          ...          ...\n",
       "якитория                      50        100.0\n",
       "ямми микс                      1          2.0\n",
       "ян примус                      1        300.0\n",
       "япоша                          2        105.0\n",
       "ёрш                            6        104.0\n",
       "\n",
       "[352 rows x 2 columns]"
      ]
     },
     "execution_count": 20,
     "metadata": {},
     "output_type": "execute_result"
    }
   ],
   "source": [
    "new_words = {'burger club': 'бургер клаб',\n",
    "             'coffeeshop': ['кофешоп coffeeshop company', 'coffeeshop company'],\n",
    "             'costa coffee': 'брава коста кофе',\n",
    "             'dunkin donuts': ['кафе «данкин донатс»', 'данкин донатс'],\n",
    "             'kfc': 'кафе «kfc»',\n",
    "             'krispy kreme': ['krispy creme', 'krispy krem'],\n",
    "             'starbucks': 'старбакс',\n",
    "             'subway': 'сабвей',\n",
    "             'tutti frutti': ['кафе мороженного «tutti frutti»', 'tutti frutti frozen yogurt'],\n",
    "             'суши wok': 'суши вок',\n",
    "             'кофетун': ['кафе кофе тун', 'кофе тун кофетун', '\"суши тун, хруст pizza, кофе тун\"', 'суши тун'],\n",
    "             'мята lounge': 'мята',\n",
    "             'пипони': ['пиппони', 'пицца пипони'],\n",
    "             'кофе хауз': ['кафе кофе-хаус', 'кофе-хаус'],\n",
    "             'то да сё': 'кафе «то да сё»',\n",
    "             'папа джонс': 'пиццерия «папа джонс»',\n",
    "             'магбургер': ['магбургер азс №16', 'магбургер азс №17', 'предприятие быстрого обслуживания «магбургер»'],\n",
    "             'маки-маки': ['ресторан маки-маки', 'суши бар «маки-маки»', 'ресторан японской кухни «маки-маки»', 'суши «маки-маки»'],\n",
    "             'чебуречная ссср': ['советские времена чебуречная ссср', 'советские времена'],\n",
    "             'иль-патио': 'иль патио',\n",
    "             'torro grill': ['торро гриль', 'torro grill торро гриль', 'ресторан торро гриль'],\n",
    "             'даблби': ['кофейня «дабл би»', 'дабл би блэк', 'дабл би'],\n",
    "             'азбука вкуса': ['бар азбука вкуса', 'ав-дейли азбука вкуса'],\n",
    "             'братья караваевы': ['кулинарная лавка братьев караваевых', 'братья караваевых'],\n",
    "             'ёрш': 'ресторан «ёрш»'}\n",
    "\n",
    "def update_name_last (word):\n",
    "    for i, j in new_words.items():\n",
    "        if word in j: return i\n",
    "    return word\n",
    "data_chain ['object_name'] = data_chain ['object_name'].apply (update_name_last)\n",
    "data_chain_group = data_chain.groupby ('object_name')[['object_name', 'seat_number']].agg ({'object_name': 'count',\n",
    "                                                                                            'seat_number': 'median'})\n",
    "data_chain_group"
   ]
  },
  {
   "cell_type": "markdown",
   "metadata": {},
   "source": [
    "После итоговой обработки осталось 352 сети, которые можно использовать при анализе. Для сравнения необходимо установить границы по количеству заведений и посадочных мест. Посмотрим распределение значений в обеих колонках методом `describe`."
   ]
  },
  {
   "cell_type": "code",
   "execution_count": 21,
   "metadata": {},
   "outputs": [
    {
     "data": {
      "text/html": [
       "<div>\n",
       "<style scoped>\n",
       "    .dataframe tbody tr th:only-of-type {\n",
       "        vertical-align: middle;\n",
       "    }\n",
       "\n",
       "    .dataframe tbody tr th {\n",
       "        vertical-align: top;\n",
       "    }\n",
       "\n",
       "    .dataframe thead th {\n",
       "        text-align: right;\n",
       "    }\n",
       "</style>\n",
       "<table border=\"1\" class=\"dataframe\">\n",
       "  <thead>\n",
       "    <tr style=\"text-align: right;\">\n",
       "      <th></th>\n",
       "      <th>object_name</th>\n",
       "      <th>seat_number</th>\n",
       "    </tr>\n",
       "  </thead>\n",
       "  <tbody>\n",
       "    <tr>\n",
       "      <th>count</th>\n",
       "      <td>352.000000</td>\n",
       "      <td>352.000000</td>\n",
       "    </tr>\n",
       "    <tr>\n",
       "      <th>mean</th>\n",
       "      <td>8.420455</td>\n",
       "      <td>63.455966</td>\n",
       "    </tr>\n",
       "    <tr>\n",
       "      <th>std</th>\n",
       "      <td>23.094490</td>\n",
       "      <td>55.345356</td>\n",
       "    </tr>\n",
       "    <tr>\n",
       "      <th>min</th>\n",
       "      <td>1.000000</td>\n",
       "      <td>0.000000</td>\n",
       "    </tr>\n",
       "    <tr>\n",
       "      <th>25%</th>\n",
       "      <td>1.000000</td>\n",
       "      <td>20.000000</td>\n",
       "    </tr>\n",
       "    <tr>\n",
       "      <th>50%</th>\n",
       "      <td>2.000000</td>\n",
       "      <td>50.000000</td>\n",
       "    </tr>\n",
       "    <tr>\n",
       "      <th>75%</th>\n",
       "      <td>4.000000</td>\n",
       "      <td>90.000000</td>\n",
       "    </tr>\n",
       "    <tr>\n",
       "      <th>max</th>\n",
       "      <td>188.000000</td>\n",
       "      <td>306.000000</td>\n",
       "    </tr>\n",
       "  </tbody>\n",
       "</table>\n",
       "</div>"
      ],
      "text/plain": [
       "       object_name  seat_number\n",
       "count   352.000000   352.000000\n",
       "mean      8.420455    63.455966\n",
       "std      23.094490    55.345356\n",
       "min       1.000000     0.000000\n",
       "25%       1.000000    20.000000\n",
       "50%       2.000000    50.000000\n",
       "75%       4.000000    90.000000\n",
       "max     188.000000   306.000000"
      ]
     },
     "execution_count": 21,
     "metadata": {},
     "output_type": "execute_result"
    }
   ],
   "source": [
    "data_chain_group.describe()"
   ]
  },
  {
   "cell_type": "markdown",
   "metadata": {},
   "source": [
    "\"Малым\" количеством можно считать значения до 25% от всего распрелеления, \"Много\" - от 75%. Однако, по количеству заведений между границей 75% и максимальным количеством очень большая разница. Проверим распределение значений по диаграмме размаха."
   ]
  },
  {
   "cell_type": "code",
   "execution_count": 22,
   "metadata": {
    "scrolled": false
   },
   "outputs": [
    {
     "data": {
      "image/png": "[encoded data removed]"
     },
     "metadata": {},
     "output_type": "display_data"
    }
   ],
   "source": [
    "fig_5 = px.box (data_chain_group, y = ['object_name', 'seat_number'])\n",
    "fig_set (fig_5, 'Диаграмма размаха по количеству заведений и посадочных мест', 'Параметр', 'Количество')"
   ]
  },
  {
   "cell_type": "markdown",
   "metadata": {},
   "source": [
    "Основная масса значений количества заведений стремится к 1. Есть много выбивающихся значений, однако, их количество не критично. Примем крайнюю границу \"нормального\" количества заведений = 8 (граница правого уса). Построим диаграмму рассеяния, отражающую количество заведений и посадочных мест по выделенным группам."
   ]
  },
  {
   "cell_type": "code",
   "execution_count": 23,
   "metadata": {
    "scrolled": true
   },
   "outputs": [
    {
     "data": {
      "text/html": [
       "<div>\n",
       "<style scoped>\n",
       "    .dataframe tbody tr th:only-of-type {\n",
       "        vertical-align: middle;\n",
       "    }\n",
       "\n",
       "    .dataframe tbody tr th {\n",
       "        vertical-align: top;\n",
       "    }\n",
       "\n",
       "    .dataframe thead th {\n",
       "        text-align: right;\n",
       "    }\n",
       "</style>\n",
       "<table border=\"1\" class=\"dataframe\">\n",
       "  <thead>\n",
       "    <tr style=\"text-align: right;\">\n",
       "      <th></th>\n",
       "      <th>Количество сетей</th>\n",
       "      <th>Медианное кол-во заведений</th>\n",
       "      <th>Медианное кол-во мест</th>\n",
       "    </tr>\n",
       "    <tr>\n",
       "      <th>group</th>\n",
       "      <th></th>\n",
       "      <th></th>\n",
       "      <th></th>\n",
       "    </tr>\n",
       "  </thead>\n",
       "  <tbody>\n",
       "    <tr>\n",
       "      <th>Среднее распределение</th>\n",
       "      <td>254</td>\n",
       "      <td>2.0</td>\n",
       "      <td>49.75</td>\n",
       "    </tr>\n",
       "    <tr>\n",
       "      <th>Мало заведений \\ Много мест</th>\n",
       "      <td>40</td>\n",
       "      <td>1.0</td>\n",
       "      <td>125.00</td>\n",
       "    </tr>\n",
       "    <tr>\n",
       "      <th>Мало заведений \\ Мало мест</th>\n",
       "      <td>34</td>\n",
       "      <td>1.0</td>\n",
       "      <td>8.50</td>\n",
       "    </tr>\n",
       "    <tr>\n",
       "      <th>Много заведений \\ Мало мест</th>\n",
       "      <td>14</td>\n",
       "      <td>21.0</td>\n",
       "      <td>6.00</td>\n",
       "    </tr>\n",
       "    <tr>\n",
       "      <th>Много заведений \\ Много мест</th>\n",
       "      <td>10</td>\n",
       "      <td>22.5</td>\n",
       "      <td>105.00</td>\n",
       "    </tr>\n",
       "  </tbody>\n",
       "</table>\n",
       "</div>"
      ],
      "text/plain": [
       "                              Количество сетей  Медианное кол-во заведений  \\\n",
       "group                                                                        \n",
       "Среднее распределение                      254                         2.0   \n",
       "Мало заведений \\ Много мест                 40                         1.0   \n",
       "Мало заведений \\ Мало мест                  34                         1.0   \n",
       "Много заведений \\ Мало мест                 14                        21.0   \n",
       "Много заведений \\ Много мест                10                        22.5   \n",
       "\n",
       "                              Медианное кол-во мест  \n",
       "group                                                \n",
       "Среднее распределение                         49.75  \n",
       "Мало заведений \\ Много мест                  125.00  \n",
       "Мало заведений \\ Мало мест                     8.50  \n",
       "Много заведений \\ Мало мест                    6.00  \n",
       "Много заведений \\ Много мест                 105.00  "
      ]
     },
     "execution_count": 23,
     "metadata": {},
     "output_type": "execute_result"
    }
   ],
   "source": [
    "def group_name (x):\n",
    "    if x.object_name <= 1 and x.seat_number < 20:\n",
    "        return 'Мало заведений \\ Мало мест'\n",
    "    elif x.object_name <= 1 and x.seat_number > 90:\n",
    "        return 'Мало заведений \\ Много мест'\n",
    "    elif x.object_name > 8 and x.seat_number < 20:\n",
    "        return 'Много заведений \\ Мало мест'\n",
    "    elif x.object_name > 8 and x.seat_number > 90:\n",
    "        return 'Много заведений \\ Много мест'\n",
    "    else:\n",
    "        return 'Среднее распределение'\n",
    "data_chain_group ['group'] = data_chain_group.apply (group_name, axis = 1)\n",
    "data_chain_group ['count'] = 1\n",
    "data_chain_group.groupby ('group').agg ({'count': 'count',\n",
    "                                         'object_name': 'median',\n",
    "                                         'seat_number': 'median'}).sort_values (by = 'count',\n",
    "                                                                                ascending = False).rename (columns = {'group': 'Группа',\n",
    "                                                                                                                      'count': 'Количество сетей',\n",
    "                                                                                                                      'object_name': 'Медианное кол-во заведений',\n",
    "                                                                                                                      'seat_number': 'Медианное кол-во мест'})"
   ]
  },
  {
   "cell_type": "code",
   "execution_count": 24,
   "metadata": {
    "scrolled": false
   },
   "outputs": [
    {
     "data": {
      "image/png": "[encoded data removed]"
     },
     "metadata": {},
     "output_type": "display_data"
    }
   ],
   "source": [
    "fig_6 = px.scatter (data_chain_group, x = 'object_name', y = 'seat_number', color = 'group', width = 1000, height = 600)\n",
    "fig_set (fig_6, 'Сравнение количества заведений и посадочных мест в сетевых объектах', 'Количество заведений', 'Количество посадочных мест')"
   ]
  },
  {
   "cell_type": "markdown",
   "metadata": {},
   "source": [
    "Как и ожидалось, среднее распределение занимает наиболее крупную группу.\n",
    "\n",
    "Среди остальных групп следует отметить наиболее высокую вероятность встретить сетевой объект с небольшим количеством заведений и большим количетвом мест - это наиболее распространённое явление.\n",
    "\n",
    "Также немало сетевых объектов с небольшим количестом заведений и небольшим количеством мест. Возможно, на это влияет доля заведений с принципом работы \"на вынос\" - небольшие точки, где отсутствуют посадочные места как таковые.\n",
    "\n",
    "Остальные две группы занимают примерно одинаковое распределение - это сетевые объекты с большим количеством заведений, вне зависимости от количества мест. Эти две группы наименее распространены среди сетевых заведений в Москве.\n",
    "\n",
    "Рассмотрим данные о количестве посадочных мест для каждого вида объекта общественного питания."
   ]
  },
  {
   "cell_type": "code",
   "execution_count": 25,
   "metadata": {},
   "outputs": [
    {
     "data": {
      "image/png": "[encoded data removed]"
     },
     "metadata": {},
     "output_type": "display_data"
    }
   ],
   "source": [
    "fig_7 = px.bar (data.groupby ('object_type')['seat_number'].mean().sort_values(), y = 'seat_number', width = 1000, height = 600)\n",
    "fig_set (fig_7, 'Сравнение количества посадочных мест по виду объекта', 'Вид объекта', 'Количество посадочных мест')"
   ]
  },
  {
   "cell_type": "markdown",
   "metadata": {},
   "source": [
    "В среднем больше всего посадочных мест в столовых и ресторанах (80-130 мест), во вторую группу по численности посадочных мест можно отнести буфеты, бары и кафе (40-50 мест). Остальные виды имеют минимальное количество мест (до 20 шт).\n",
    "\n",
    "Создадим новый столбец в датасете, в котором будет указана улица расположения заведения."
   ]
  },
  {
   "cell_type": "code",
   "execution_count": 26,
   "metadata": {},
   "outputs": [
    {
     "data": {
      "text/html": [
       "<div>\n",
       "<style scoped>\n",
       "    .dataframe tbody tr th:only-of-type {\n",
       "        vertical-align: middle;\n",
       "    }\n",
       "\n",
       "    .dataframe tbody tr th {\n",
       "        vertical-align: top;\n",
       "    }\n",
       "\n",
       "    .dataframe thead th {\n",
       "        text-align: right;\n",
       "    }\n",
       "</style>\n",
       "<table border=\"1\" class=\"dataframe\">\n",
       "  <thead>\n",
       "    <tr style=\"text-align: right;\">\n",
       "      <th></th>\n",
       "      <th>id</th>\n",
       "      <th>object_name</th>\n",
       "      <th>chain</th>\n",
       "      <th>object_type</th>\n",
       "      <th>address</th>\n",
       "      <th>seat_number</th>\n",
       "      <th>street</th>\n",
       "    </tr>\n",
       "  </thead>\n",
       "  <tbody>\n",
       "    <tr>\n",
       "      <th>1405</th>\n",
       "      <td>20199</td>\n",
       "      <td>ЭТО</td>\n",
       "      <td>нет</td>\n",
       "      <td>кафе</td>\n",
       "      <td>город москва, город зеленоград, корпус 401</td>\n",
       "      <td>35</td>\n",
       "      <td>нет</td>\n",
       "    </tr>\n",
       "    <tr>\n",
       "      <th>1406</th>\n",
       "      <td>68113</td>\n",
       "      <td>Френдс</td>\n",
       "      <td>нет</td>\n",
       "      <td>кафе</td>\n",
       "      <td>город москва, город зеленоград, корпус 435</td>\n",
       "      <td>34</td>\n",
       "      <td>нет</td>\n",
       "    </tr>\n",
       "    <tr>\n",
       "      <th>1407</th>\n",
       "      <td>20105</td>\n",
       "      <td>Кафе «Граф Монте-Кристо»</td>\n",
       "      <td>нет</td>\n",
       "      <td>кафе</td>\n",
       "      <td>город москва, город зеленоград, корпус 436</td>\n",
       "      <td>40</td>\n",
       "      <td>нет</td>\n",
       "    </tr>\n",
       "    <tr>\n",
       "      <th>1408</th>\n",
       "      <td>22982</td>\n",
       "      <td>Альфорно</td>\n",
       "      <td>нет</td>\n",
       "      <td>кафе</td>\n",
       "      <td>город москва, город зеленоград, корпус 438</td>\n",
       "      <td>49</td>\n",
       "      <td>нет</td>\n",
       "    </tr>\n",
       "    <tr>\n",
       "      <th>1409</th>\n",
       "      <td>151267</td>\n",
       "      <td>Альфорно</td>\n",
       "      <td>нет</td>\n",
       "      <td>кафе</td>\n",
       "      <td>город москва, город зеленоград, корпус 438</td>\n",
       "      <td>45</td>\n",
       "      <td>нет</td>\n",
       "    </tr>\n",
       "    <tr>\n",
       "      <th>...</th>\n",
       "      <td>...</td>\n",
       "      <td>...</td>\n",
       "      <td>...</td>\n",
       "      <td>...</td>\n",
       "      <td>...</td>\n",
       "      <td>...</td>\n",
       "      <td>...</td>\n",
       "    </tr>\n",
       "    <tr>\n",
       "      <th>14917</th>\n",
       "      <td>216942</td>\n",
       "      <td>Шашлычный дворик</td>\n",
       "      <td>нет</td>\n",
       "      <td>кафе</td>\n",
       "      <td>город москва, поселение десеновское, деревня в...</td>\n",
       "      <td>15</td>\n",
       "      <td>нет</td>\n",
       "    </tr>\n",
       "    <tr>\n",
       "      <th>14918</th>\n",
       "      <td>216926</td>\n",
       "      <td>Кафе «Сахли»</td>\n",
       "      <td>нет</td>\n",
       "      <td>закусочная</td>\n",
       "      <td>город москва, поселение десеновское, деревня в...</td>\n",
       "      <td>10</td>\n",
       "      <td>нет</td>\n",
       "    </tr>\n",
       "    <tr>\n",
       "      <th>14935</th>\n",
       "      <td>208239</td>\n",
       "      <td>ГАЗПРОМНЕФТЬ</td>\n",
       "      <td>нет</td>\n",
       "      <td>кафе</td>\n",
       "      <td>поселение \"мосрентген\", деревня дудкино, владе...</td>\n",
       "      <td>20</td>\n",
       "      <td>нет</td>\n",
       "    </tr>\n",
       "    <tr>\n",
       "      <th>15103</th>\n",
       "      <td>220587</td>\n",
       "      <td>Пицца Паоло</td>\n",
       "      <td>да</td>\n",
       "      <td>кафетерий</td>\n",
       "      <td>город москва, город зеленоград, корпус 1627</td>\n",
       "      <td>0</td>\n",
       "      <td>нет</td>\n",
       "    </tr>\n",
       "    <tr>\n",
       "      <th>15192</th>\n",
       "      <td>211230</td>\n",
       "      <td>Предприятие быстрого обслуживания «Милти»</td>\n",
       "      <td>да</td>\n",
       "      <td>предприятие быстрого обслуживания</td>\n",
       "      <td>город москва, микрорайон северное чертаново, д...</td>\n",
       "      <td>0</td>\n",
       "      <td>нет</td>\n",
       "    </tr>\n",
       "  </tbody>\n",
       "</table>\n",
       "<p>381 rows × 7 columns</p>\n",
       "</div>"
      ],
      "text/plain": [
       "           id                                object_name chain  \\\n",
       "1405    20199                                        ЭТО   нет   \n",
       "1406    68113                                     Френдс   нет   \n",
       "1407    20105                   Кафе «Граф Монте-Кристо»   нет   \n",
       "1408    22982                                   Альфорно   нет   \n",
       "1409   151267                                   Альфорно   нет   \n",
       "...       ...                                        ...   ...   \n",
       "14917  216942                           Шашлычный дворик   нет   \n",
       "14918  216926                               Кафе «Сахли»   нет   \n",
       "14935  208239                               ГАЗПРОМНЕФТЬ   нет   \n",
       "15103  220587                                Пицца Паоло    да   \n",
       "15192  211230  Предприятие быстрого обслуживания «Милти»    да   \n",
       "\n",
       "                             object_type  \\\n",
       "1405                                кафе   \n",
       "1406                                кафе   \n",
       "1407                                кафе   \n",
       "1408                                кафе   \n",
       "1409                                кафе   \n",
       "...                                  ...   \n",
       "14917                               кафе   \n",
       "14918                         закусочная   \n",
       "14935                               кафе   \n",
       "15103                          кафетерий   \n",
       "15192  предприятие быстрого обслуживания   \n",
       "\n",
       "                                                 address  seat_number street  \n",
       "1405          город москва, город зеленоград, корпус 401           35    нет  \n",
       "1406          город москва, город зеленоград, корпус 435           34    нет  \n",
       "1407          город москва, город зеленоград, корпус 436           40    нет  \n",
       "1408          город москва, город зеленоград, корпус 438           49    нет  \n",
       "1409          город москва, город зеленоград, корпус 438           45    нет  \n",
       "...                                                  ...          ...    ...  \n",
       "14917  город москва, поселение десеновское, деревня в...           15    нет  \n",
       "14918  город москва, поселение десеновское, деревня в...           10    нет  \n",
       "14935  поселение \"мосрентген\", деревня дудкино, владе...           20    нет  \n",
       "15103        город москва, город зеленоград, корпус 1627            0    нет  \n",
       "15192  город москва, микрорайон северное чертаново, д...            0    нет  \n",
       "\n",
       "[381 rows x 7 columns]"
      ]
     },
     "execution_count": 26,
     "metadata": {},
     "output_type": "execute_result"
    }
   ],
   "source": [
    "variants = ['улица', 'ул.', 'проспект', 'шоссе', 'переулок', 'бульвар', 'проезд', 'набережная', 'аллея', 'площадь', 'тупик', 'квартал', 'линия']\n",
    "def street_choice (name):\n",
    "    for i in range (len (name.split (','))):\n",
    "        for j in variants:\n",
    "            if j in name.split (',')[i]:\n",
    "                return name.split (',')[i]\n",
    "    return 'нет'        \n",
    "data ['address'] = data ['address'].str.lower()\n",
    "data ['street'] = data ['address'].apply (street_choice)\n",
    "data [data ['street'] == 'нет']"
   ]
  },
  {
   "cell_type": "markdown",
   "metadata": {},
   "source": [
    "В датасете осталось 381 строк без указанной улицы - это примерно 2,5% от общего объема данных. Не критичный объем для удаления."
   ]
  },
  {
   "cell_type": "code",
   "execution_count": 27,
   "metadata": {},
   "outputs": [
    {
     "data": {
      "text/html": [
       "<div>\n",
       "<style scoped>\n",
       "    .dataframe tbody tr th:only-of-type {\n",
       "        vertical-align: middle;\n",
       "    }\n",
       "\n",
       "    .dataframe tbody tr th {\n",
       "        vertical-align: top;\n",
       "    }\n",
       "\n",
       "    .dataframe thead th {\n",
       "        text-align: right;\n",
       "    }\n",
       "</style>\n",
       "<table border=\"1\" class=\"dataframe\">\n",
       "  <thead>\n",
       "    <tr style=\"text-align: right;\">\n",
       "      <th></th>\n",
       "      <th>index</th>\n",
       "      <th>id</th>\n",
       "      <th>object_name</th>\n",
       "      <th>chain</th>\n",
       "      <th>object_type</th>\n",
       "      <th>address</th>\n",
       "      <th>seat_number</th>\n",
       "      <th>street</th>\n",
       "    </tr>\n",
       "  </thead>\n",
       "  <tbody>\n",
       "    <tr>\n",
       "      <th>0</th>\n",
       "      <td>0</td>\n",
       "      <td>151635</td>\n",
       "      <td>СМЕТАНА</td>\n",
       "      <td>нет</td>\n",
       "      <td>кафе</td>\n",
       "      <td>город москва, улица егора абакумова, дом 9</td>\n",
       "      <td>48</td>\n",
       "      <td>улица егора абакумова</td>\n",
       "    </tr>\n",
       "    <tr>\n",
       "      <th>1</th>\n",
       "      <td>1</td>\n",
       "      <td>77874</td>\n",
       "      <td>Родник</td>\n",
       "      <td>нет</td>\n",
       "      <td>кафе</td>\n",
       "      <td>город москва, улица талалихина, дом 2/1, корпус 1</td>\n",
       "      <td>35</td>\n",
       "      <td>улица талалихина</td>\n",
       "    </tr>\n",
       "    <tr>\n",
       "      <th>2</th>\n",
       "      <td>2</td>\n",
       "      <td>24309</td>\n",
       "      <td>Кафе «Академия»</td>\n",
       "      <td>нет</td>\n",
       "      <td>кафе</td>\n",
       "      <td>город москва, абельмановская улица, дом 6</td>\n",
       "      <td>95</td>\n",
       "      <td>абельмановская улица</td>\n",
       "    </tr>\n",
       "    <tr>\n",
       "      <th>3</th>\n",
       "      <td>3</td>\n",
       "      <td>21894</td>\n",
       "      <td>ПИЦЦЕТОРИЯ</td>\n",
       "      <td>да</td>\n",
       "      <td>кафе</td>\n",
       "      <td>город москва, абрамцевская улица, дом 1</td>\n",
       "      <td>40</td>\n",
       "      <td>абрамцевская улица</td>\n",
       "    </tr>\n",
       "    <tr>\n",
       "      <th>4</th>\n",
       "      <td>4</td>\n",
       "      <td>119365</td>\n",
       "      <td>Кафе «Вишневая метель»</td>\n",
       "      <td>нет</td>\n",
       "      <td>кафе</td>\n",
       "      <td>город москва, абрамцевская улица, дом 9, корпус 1</td>\n",
       "      <td>50</td>\n",
       "      <td>абрамцевская улица</td>\n",
       "    </tr>\n",
       "    <tr>\n",
       "      <th>...</th>\n",
       "      <td>...</td>\n",
       "      <td>...</td>\n",
       "      <td>...</td>\n",
       "      <td>...</td>\n",
       "      <td>...</td>\n",
       "      <td>...</td>\n",
       "      <td>...</td>\n",
       "      <td>...</td>\n",
       "    </tr>\n",
       "    <tr>\n",
       "      <th>14898</th>\n",
       "      <td>15279</td>\n",
       "      <td>208537</td>\n",
       "      <td>Шоколадница</td>\n",
       "      <td>да</td>\n",
       "      <td>кафе</td>\n",
       "      <td>город москва, 3-й крутицкий переулок, дом 18</td>\n",
       "      <td>50</td>\n",
       "      <td>3-й крутицкий переулок</td>\n",
       "    </tr>\n",
       "    <tr>\n",
       "      <th>14899</th>\n",
       "      <td>15280</td>\n",
       "      <td>209264</td>\n",
       "      <td>Шоколадница</td>\n",
       "      <td>да</td>\n",
       "      <td>кафе</td>\n",
       "      <td>город москва, улица земляной вал, дом 33</td>\n",
       "      <td>10</td>\n",
       "      <td>улица земляной вал</td>\n",
       "    </tr>\n",
       "    <tr>\n",
       "      <th>14900</th>\n",
       "      <td>15281</td>\n",
       "      <td>209186</td>\n",
       "      <td>Шоколадница</td>\n",
       "      <td>да</td>\n",
       "      <td>кафе</td>\n",
       "      <td>город москва, улица земляной вал, дом 33</td>\n",
       "      <td>20</td>\n",
       "      <td>улица земляной вал</td>\n",
       "    </tr>\n",
       "    <tr>\n",
       "      <th>14901</th>\n",
       "      <td>15282</td>\n",
       "      <td>221900</td>\n",
       "      <td>Шоколадница</td>\n",
       "      <td>да</td>\n",
       "      <td>кафе</td>\n",
       "      <td>город москва, поселение московский, киевское ш...</td>\n",
       "      <td>36</td>\n",
       "      <td>киевское шоссе</td>\n",
       "    </tr>\n",
       "    <tr>\n",
       "      <th>14902</th>\n",
       "      <td>15283</td>\n",
       "      <td>222535</td>\n",
       "      <td>Шоколадница</td>\n",
       "      <td>да</td>\n",
       "      <td>кафе</td>\n",
       "      <td>город москва, ходынский бульвар, дом 4</td>\n",
       "      <td>10</td>\n",
       "      <td>ходынский бульвар</td>\n",
       "    </tr>\n",
       "  </tbody>\n",
       "</table>\n",
       "<p>14903 rows × 8 columns</p>\n",
       "</div>"
      ],
      "text/plain": [
       "       index      id             object_name chain object_type  \\\n",
       "0          0  151635                 СМЕТАНА   нет        кафе   \n",
       "1          1   77874                  Родник   нет        кафе   \n",
       "2          2   24309         Кафе «Академия»   нет        кафе   \n",
       "3          3   21894              ПИЦЦЕТОРИЯ    да        кафе   \n",
       "4          4  119365  Кафе «Вишневая метель»   нет        кафе   \n",
       "...      ...     ...                     ...   ...         ...   \n",
       "14898  15279  208537             Шоколадница    да        кафе   \n",
       "14899  15280  209264             Шоколадница    да        кафе   \n",
       "14900  15281  209186             Шоколадница    да        кафе   \n",
       "14901  15282  221900             Шоколадница    да        кафе   \n",
       "14902  15283  222535             Шоколадница    да        кафе   \n",
       "\n",
       "                                                 address  seat_number  \\\n",
       "0             город москва, улица егора абакумова, дом 9           48   \n",
       "1      город москва, улица талалихина, дом 2/1, корпус 1           35   \n",
       "2              город москва, абельмановская улица, дом 6           95   \n",
       "3                город москва, абрамцевская улица, дом 1           40   \n",
       "4      город москва, абрамцевская улица, дом 9, корпус 1           50   \n",
       "...                                                  ...          ...   \n",
       "14898       город москва, 3-й крутицкий переулок, дом 18           50   \n",
       "14899           город москва, улица земляной вал, дом 33           10   \n",
       "14900           город москва, улица земляной вал, дом 33           20   \n",
       "14901  город москва, поселение московский, киевское ш...           36   \n",
       "14902             город москва, ходынский бульвар, дом 4           10   \n",
       "\n",
       "                        street  \n",
       "0        улица егора абакумова  \n",
       "1             улица талалихина  \n",
       "2         абельмановская улица  \n",
       "3           абрамцевская улица  \n",
       "4           абрамцевская улица  \n",
       "...                        ...  \n",
       "14898   3-й крутицкий переулок  \n",
       "14899       улица земляной вал  \n",
       "14900       улица земляной вал  \n",
       "14901           киевское шоссе  \n",
       "14902        ходынский бульвар  \n",
       "\n",
       "[14903 rows x 8 columns]"
      ]
     },
     "execution_count": 27,
     "metadata": {},
     "output_type": "execute_result"
    }
   ],
   "source": [
    "data = data [data ['street'] != 'нет'].reset_index()\n",
    "data"
   ]
  },
  {
   "cell_type": "markdown",
   "metadata": {},
   "source": [
    "Найдём топ-10 улиц по количеству объектов общественного питания."
   ]
  },
  {
   "cell_type": "code",
   "execution_count": 28,
   "metadata": {},
   "outputs": [
    {
     "data": {
      "text/plain": [
       "street\n",
       " кировоградская улица      108\n",
       " каширское шоссе           111\n",
       " кутузовский проспект      114\n",
       " проспект вернадского      128\n",
       " ленинский проспект        147\n",
       " варшавское шоссе          164\n",
       " пресненская набережная    167\n",
       " ленинградский проспект    170\n",
       " профсоюзная улица         181\n",
       " проспект мира             204\n",
       "Name: object_name, dtype: int64"
      ]
     },
     "execution_count": 28,
     "metadata": {},
     "output_type": "execute_result"
    }
   ],
   "source": [
    "data.groupby ('street')['object_name'].count().sort_values().tail(10)"
   ]
  },
  {
   "cell_type": "markdown",
   "metadata": {},
   "source": [
    "В списке отсортированных улиц есть некорректные значения \"город Зеленоград\" и \"поселение Сосенское\". Отфильтруем вхождения для получения корректного списка улиц."
   ]
  },
  {
   "cell_type": "code",
   "execution_count": 29,
   "metadata": {},
   "outputs": [
    {
     "data": {
      "image/png": "[encoded data removed]"
     },
     "metadata": {},
     "output_type": "display_data"
    }
   ],
   "source": [
    "fig_8 = px.bar (data.groupby ('street')['object_name'].count().sort_values().tail(10), y = 'object_name', width = 1000, height = 600)\n",
    "fig_set (fig_8, 'ТОП-10 улиц по количеству объектов общественного питания', 'Улица', 'Количество объектов')"
   ]
  },
  {
   "cell_type": "markdown",
   "metadata": {},
   "source": [
    "Практически все улицы, представленные на графике выше, являются крупными улицами, относящимися к радиусам Москвы. Все они находятся между МКАДом и ТТК (третье транспортное кольцо), т.е. на наиболее загруженных маршрутах при выезде из центра города.\n",
    "\n",
    "Рассмотрим районы, по которым проложены данные улицы. Используем датасет с улицами и районами Москвы из открытого источника АО \"МОСГАЗ\"."
   ]
  },
  {
   "cell_type": "code",
   "execution_count": 30,
   "metadata": {},
   "outputs": [
    {
     "data": {
      "text/html": [
       "<div>\n",
       "<style scoped>\n",
       "    .dataframe tbody tr th:only-of-type {\n",
       "        vertical-align: middle;\n",
       "    }\n",
       "\n",
       "    .dataframe tbody tr th {\n",
       "        vertical-align: top;\n",
       "    }\n",
       "\n",
       "    .dataframe thead th {\n",
       "        text-align: right;\n",
       "    }\n",
       "</style>\n",
       "<table border=\"1\" class=\"dataframe\">\n",
       "  <thead>\n",
       "    <tr style=\"text-align: right;\">\n",
       "      <th></th>\n",
       "      <th>streetname</th>\n",
       "      <th>areaid</th>\n",
       "      <th>okrug</th>\n",
       "      <th>area</th>\n",
       "    </tr>\n",
       "  </thead>\n",
       "  <tbody>\n",
       "    <tr>\n",
       "      <th>0</th>\n",
       "      <td>Выставочный переулок</td>\n",
       "      <td>17</td>\n",
       "      <td>ЦАО</td>\n",
       "      <td>Пресненский район</td>\n",
       "    </tr>\n",
       "    <tr>\n",
       "      <th>1</th>\n",
       "      <td>улица Гашека</td>\n",
       "      <td>17</td>\n",
       "      <td>ЦАО</td>\n",
       "      <td>Пресненский район</td>\n",
       "    </tr>\n",
       "    <tr>\n",
       "      <th>2</th>\n",
       "      <td>Большая Никитская улица</td>\n",
       "      <td>17</td>\n",
       "      <td>ЦАО</td>\n",
       "      <td>Пресненский район</td>\n",
       "    </tr>\n",
       "    <tr>\n",
       "      <th>3</th>\n",
       "      <td>Глубокий переулок</td>\n",
       "      <td>17</td>\n",
       "      <td>ЦАО</td>\n",
       "      <td>Пресненский район</td>\n",
       "    </tr>\n",
       "    <tr>\n",
       "      <th>4</th>\n",
       "      <td>Большой Гнездниковский переулок</td>\n",
       "      <td>17</td>\n",
       "      <td>ЦАО</td>\n",
       "      <td>Пресненский район</td>\n",
       "    </tr>\n",
       "    <tr>\n",
       "      <th>5</th>\n",
       "      <td>Малый Гнездниковский переулок</td>\n",
       "      <td>17</td>\n",
       "      <td>ЦАО</td>\n",
       "      <td>Пресненский район</td>\n",
       "    </tr>\n",
       "    <tr>\n",
       "      <th>6</th>\n",
       "      <td>Большая Грузинская улица</td>\n",
       "      <td>17</td>\n",
       "      <td>ЦАО</td>\n",
       "      <td>Пресненский район</td>\n",
       "    </tr>\n",
       "    <tr>\n",
       "      <th>7</th>\n",
       "      <td>Малая Грузинская улица</td>\n",
       "      <td>17</td>\n",
       "      <td>ЦАО</td>\n",
       "      <td>Пресненский район</td>\n",
       "    </tr>\n",
       "    <tr>\n",
       "      <th>8</th>\n",
       "      <td>Грузинская площадь</td>\n",
       "      <td>17</td>\n",
       "      <td>ЦАО</td>\n",
       "      <td>Пресненский район</td>\n",
       "    </tr>\n",
       "    <tr>\n",
       "      <th>9</th>\n",
       "      <td>улица Грузинский Вал</td>\n",
       "      <td>17</td>\n",
       "      <td>ЦАО</td>\n",
       "      <td>Пресненский район</td>\n",
       "    </tr>\n",
       "  </tbody>\n",
       "</table>\n",
       "</div>"
      ],
      "text/plain": [
       "                        streetname  areaid okrug               area\n",
       "0             Выставочный переулок      17   ЦАО  Пресненский район\n",
       "1                     улица Гашека      17   ЦАО  Пресненский район\n",
       "2          Большая Никитская улица      17   ЦАО  Пресненский район\n",
       "3                Глубокий переулок      17   ЦАО  Пресненский район\n",
       "4  Большой Гнездниковский переулок      17   ЦАО  Пресненский район\n",
       "5    Малый Гнездниковский переулок      17   ЦАО  Пресненский район\n",
       "6         Большая Грузинская улица      17   ЦАО  Пресненский район\n",
       "7           Малая Грузинская улица      17   ЦАО  Пресненский район\n",
       "8               Грузинская площадь      17   ЦАО  Пресненский район\n",
       "9             улица Грузинский Вал      17   ЦАО  Пресненский район"
      ]
     },
     "execution_count": 30,
     "metadata": {},
     "output_type": "execute_result"
    }
   ],
   "source": [
    "spreadsheet_id = '1b_jZggUyizA7guOQ5PtDlbSmOLNLLEcYPjzhYKZ-LeQ'\n",
    "file_name = 'https://docs.google.com/spreadsheets/d/{}/export?format=csv'.format (spreadsheet_id)\n",
    "r = requests.get (file_name)\n",
    "data_2 = pd.read_csv (BytesIO (r.content))\n",
    "data_2.head (10)"
   ]
  },
  {
   "cell_type": "markdown",
   "metadata": {},
   "source": [
    "Нас интересуют только две колонки - `streetname` и `area`. Для дальнейшей работы приведём запись колонки `streetname` к нижнему регистру и избавимся от лишних колонок."
   ]
  },
  {
   "cell_type": "code",
   "execution_count": 31,
   "metadata": {},
   "outputs": [],
   "source": [
    "data_2 ['streetname'] = data_2 ['streetname'].str.lower()\n",
    "data_2 = data_2 [['streetname', 'area']]\n",
    "data_2.rename (columns = {'streetname': 'street'}, inplace = True)"
   ]
  },
  {
   "cell_type": "markdown",
   "metadata": {},
   "source": [
    "В колонке `street` имеются записи с пробелом в начале строки. Их также необходимо обработать перед слиянием двух датасетов."
   ]
  },
  {
   "cell_type": "code",
   "execution_count": 32,
   "metadata": {},
   "outputs": [
    {
     "data": {
      "text/html": [
       "<div>\n",
       "<style scoped>\n",
       "    .dataframe tbody tr th:only-of-type {\n",
       "        vertical-align: middle;\n",
       "    }\n",
       "\n",
       "    .dataframe tbody tr th {\n",
       "        vertical-align: top;\n",
       "    }\n",
       "\n",
       "    .dataframe thead th {\n",
       "        text-align: right;\n",
       "    }\n",
       "</style>\n",
       "<table border=\"1\" class=\"dataframe\">\n",
       "  <thead>\n",
       "    <tr style=\"text-align: right;\">\n",
       "      <th></th>\n",
       "      <th>index</th>\n",
       "      <th>id</th>\n",
       "      <th>object_name</th>\n",
       "      <th>chain</th>\n",
       "      <th>object_type</th>\n",
       "      <th>address</th>\n",
       "      <th>seat_number</th>\n",
       "      <th>street</th>\n",
       "      <th>area</th>\n",
       "    </tr>\n",
       "  </thead>\n",
       "  <tbody>\n",
       "    <tr>\n",
       "      <th>6096</th>\n",
       "      <td>3098</td>\n",
       "      <td>21234</td>\n",
       "      <td>СТОЛОВАЯ</td>\n",
       "      <td>нет</td>\n",
       "      <td>кафе</td>\n",
       "      <td>город москва, улица кржижановского, дом 16, ко...</td>\n",
       "      <td>48</td>\n",
       "      <td>улица кржижановского</td>\n",
       "      <td>Район Котловка</td>\n",
       "    </tr>\n",
       "    <tr>\n",
       "      <th>7089</th>\n",
       "      <td>3667</td>\n",
       "      <td>68001</td>\n",
       "      <td>Карамель</td>\n",
       "      <td>нет</td>\n",
       "      <td>кафе</td>\n",
       "      <td>город москва, изумрудная улица, дом 3, строение 2</td>\n",
       "      <td>96</td>\n",
       "      <td>изумрудная улица</td>\n",
       "      <td>Лосиноостровский район</td>\n",
       "    </tr>\n",
       "    <tr>\n",
       "      <th>1503</th>\n",
       "      <td>684</td>\n",
       "      <td>146123</td>\n",
       "      <td>Джаганнат</td>\n",
       "      <td>да</td>\n",
       "      <td>кафе</td>\n",
       "      <td>город москва, проспект мира, дом 31</td>\n",
       "      <td>25</td>\n",
       "      <td>проспект мира</td>\n",
       "      <td>Ярославский Район</td>\n",
       "    </tr>\n",
       "    <tr>\n",
       "      <th>14827</th>\n",
       "      <td>7595</td>\n",
       "      <td>70046</td>\n",
       "      <td>Теремок</td>\n",
       "      <td>да</td>\n",
       "      <td>предприятие быстрого обслуживания</td>\n",
       "      <td>город москва, ореховый бульвар, дом 22а</td>\n",
       "      <td>25</td>\n",
       "      <td>ореховый бульвар</td>\n",
       "      <td>Район Орехово-Борисово Южное</td>\n",
       "    </tr>\n",
       "    <tr>\n",
       "      <th>28007</th>\n",
       "      <td>14454</td>\n",
       "      <td>222838</td>\n",
       "      <td>Лепим и Варим</td>\n",
       "      <td>нет</td>\n",
       "      <td>кафе</td>\n",
       "      <td>город москва, мытная улица, дом 74</td>\n",
       "      <td>0</td>\n",
       "      <td>мытная улица</td>\n",
       "      <td>Район Якиманка</td>\n",
       "    </tr>\n",
       "  </tbody>\n",
       "</table>\n",
       "</div>"
      ],
      "text/plain": [
       "       index      id    object_name chain                        object_type  \\\n",
       "6096    3098   21234       СТОЛОВАЯ   нет                               кафе   \n",
       "7089    3667   68001       Карамель   нет                               кафе   \n",
       "1503     684  146123      Джаганнат    да                               кафе   \n",
       "14827   7595   70046        Теремок    да  предприятие быстрого обслуживания   \n",
       "28007  14454  222838  Лепим и Варим   нет                               кафе   \n",
       "\n",
       "                                                 address  seat_number  \\\n",
       "6096   город москва, улица кржижановского, дом 16, ко...           48   \n",
       "7089   город москва, изумрудная улица, дом 3, строение 2           96   \n",
       "1503                 город москва, проспект мира, дом 31           25   \n",
       "14827            город москва, ореховый бульвар, дом 22а           25   \n",
       "28007                 город москва, мытная улица, дом 74            0   \n",
       "\n",
       "                     street                          area  \n",
       "6096   улица кржижановского                Район Котловка  \n",
       "7089       изумрудная улица        Лосиноостровский район  \n",
       "1503          проспект мира             Ярославский Район  \n",
       "14827      ореховый бульвар  Район Орехово-Борисово Южное  \n",
       "28007          мытная улица                Район Якиманка  "
      ]
     },
     "execution_count": 32,
     "metadata": {},
     "output_type": "execute_result"
    }
   ],
   "source": [
    "def space_delete (name):\n",
    "    if ' ' in name [0]:\n",
    "        return name.lstrip (' ')\n",
    "    return name\n",
    "\n",
    "data ['street'] = data ['street'].apply (space_delete)\n",
    "data_with_area = data.merge (data_2, how = 'left')\n",
    "data_with_area.sample (5)"
   ]
  },
  {
   "cell_type": "markdown",
   "metadata": {},
   "source": [
    "Оба датасета объеденены. Количество строк увеличилось за счёт того, одна улица может входить одновременно в несколько районов. Посмотрим, к каким районам относятся наиболее загруженные по объектам общественного питания улицы."
   ]
  },
  {
   "cell_type": "code",
   "execution_count": 33,
   "metadata": {},
   "outputs": [
    {
     "data": {
      "text/html": [
       "<div>\n",
       "<style scoped>\n",
       "    .dataframe tbody tr th:only-of-type {\n",
       "        vertical-align: middle;\n",
       "    }\n",
       "\n",
       "    .dataframe tbody tr th {\n",
       "        vertical-align: top;\n",
       "    }\n",
       "\n",
       "    .dataframe thead th {\n",
       "        text-align: right;\n",
       "    }\n",
       "</style>\n",
       "<table border=\"1\" class=\"dataframe\">\n",
       "  <thead>\n",
       "    <tr style=\"text-align: right;\">\n",
       "      <th></th>\n",
       "      <th>street</th>\n",
       "    </tr>\n",
       "    <tr>\n",
       "      <th>area</th>\n",
       "      <th></th>\n",
       "    </tr>\n",
       "  </thead>\n",
       "  <tbody>\n",
       "    <tr>\n",
       "      <th>Район Чертаново Центральное</th>\n",
       "      <td>2</td>\n",
       "    </tr>\n",
       "    <tr>\n",
       "      <th>Донской район</th>\n",
       "      <td>2</td>\n",
       "    </tr>\n",
       "    <tr>\n",
       "      <th>Ломоносовский район</th>\n",
       "      <td>2</td>\n",
       "    </tr>\n",
       "    <tr>\n",
       "      <th>Район Проспект Вернадского</th>\n",
       "      <td>2</td>\n",
       "    </tr>\n",
       "    <tr>\n",
       "      <th>Обручевский район</th>\n",
       "      <td>2</td>\n",
       "    </tr>\n",
       "    <tr>\n",
       "      <th>Район Теплый Стан</th>\n",
       "      <td>2</td>\n",
       "    </tr>\n",
       "    <tr>\n",
       "      <th>Район Нагатино-Садовники</th>\n",
       "      <td>2</td>\n",
       "    </tr>\n",
       "    <tr>\n",
       "      <th>Район Чертаново Южное</th>\n",
       "      <td>2</td>\n",
       "    </tr>\n",
       "    <tr>\n",
       "      <th>Район Тропарево-Никулино</th>\n",
       "      <td>2</td>\n",
       "    </tr>\n",
       "    <tr>\n",
       "      <th>Район Гагаринский</th>\n",
       "      <td>2</td>\n",
       "    </tr>\n",
       "    <tr>\n",
       "      <th>Район Чертаново Северное</th>\n",
       "      <td>2</td>\n",
       "    </tr>\n",
       "    <tr>\n",
       "      <th>Район Фили-Давыдково</th>\n",
       "      <td>1</td>\n",
       "    </tr>\n",
       "    <tr>\n",
       "      <th>Район Сокол</th>\n",
       "      <td>1</td>\n",
       "    </tr>\n",
       "    <tr>\n",
       "      <th>Академический район</th>\n",
       "      <td>1</td>\n",
       "    </tr>\n",
       "    <tr>\n",
       "      <th>Район Черемушки</th>\n",
       "      <td>1</td>\n",
       "    </tr>\n",
       "    <tr>\n",
       "      <th>Район Свиблово</th>\n",
       "      <td>1</td>\n",
       "    </tr>\n",
       "    <tr>\n",
       "      <th>Район Южное Бутово</th>\n",
       "      <td>1</td>\n",
       "    </tr>\n",
       "    <tr>\n",
       "      <th>Район Якиманка</th>\n",
       "      <td>1</td>\n",
       "    </tr>\n",
       "    <tr>\n",
       "      <th>Район Ясенево</th>\n",
       "      <td>1</td>\n",
       "    </tr>\n",
       "    <tr>\n",
       "      <th>Хорошевский район</th>\n",
       "      <td>1</td>\n",
       "    </tr>\n",
       "    <tr>\n",
       "      <th>Район Северное Бутово</th>\n",
       "      <td>1</td>\n",
       "    </tr>\n",
       "    <tr>\n",
       "      <th>Район Орехово-Борисово Южное</th>\n",
       "      <td>1</td>\n",
       "    </tr>\n",
       "    <tr>\n",
       "      <th>Район Ростокино</th>\n",
       "      <td>1</td>\n",
       "    </tr>\n",
       "    <tr>\n",
       "      <th>Район Раменки</th>\n",
       "      <td>1</td>\n",
       "    </tr>\n",
       "    <tr>\n",
       "      <th>Алексеевский район</th>\n",
       "      <td>1</td>\n",
       "    </tr>\n",
       "    <tr>\n",
       "      <th>Район Орехово-Борисово Северное</th>\n",
       "      <td>1</td>\n",
       "    </tr>\n",
       "    <tr>\n",
       "      <th>Район Москворечье-Сабурово</th>\n",
       "      <td>1</td>\n",
       "    </tr>\n",
       "    <tr>\n",
       "      <th>Район Марьина роща</th>\n",
       "      <td>1</td>\n",
       "    </tr>\n",
       "    <tr>\n",
       "      <th>Район Коньково</th>\n",
       "      <td>1</td>\n",
       "    </tr>\n",
       "    <tr>\n",
       "      <th>Район Дорогомилово</th>\n",
       "      <td>1</td>\n",
       "    </tr>\n",
       "    <tr>\n",
       "      <th>Район Беговой</th>\n",
       "      <td>1</td>\n",
       "    </tr>\n",
       "    <tr>\n",
       "      <th>Район Аэропорт</th>\n",
       "      <td>1</td>\n",
       "    </tr>\n",
       "    <tr>\n",
       "      <th>Пресненский район</th>\n",
       "      <td>1</td>\n",
       "    </tr>\n",
       "    <tr>\n",
       "      <th>Останкинский район</th>\n",
       "      <td>1</td>\n",
       "    </tr>\n",
       "    <tr>\n",
       "      <th>Нагорный район</th>\n",
       "      <td>1</td>\n",
       "    </tr>\n",
       "    <tr>\n",
       "      <th>Мещанский район</th>\n",
       "      <td>1</td>\n",
       "    </tr>\n",
       "    <tr>\n",
       "      <th>Ярославский Район</th>\n",
       "      <td>1</td>\n",
       "    </tr>\n",
       "  </tbody>\n",
       "</table>\n",
       "</div>"
      ],
      "text/plain": [
       "                                 street\n",
       "area                                   \n",
       "Район Чертаново Центральное           2\n",
       "Донской район                         2\n",
       "Ломоносовский район                   2\n",
       "Район Проспект Вернадского            2\n",
       "Обручевский район                     2\n",
       "Район Теплый Стан                     2\n",
       "Район Нагатино-Садовники              2\n",
       "Район Чертаново Южное                 2\n",
       "Район Тропарево-Никулино              2\n",
       "Район Гагаринский                     2\n",
       "Район Чертаново Северное              2\n",
       "Район Фили-Давыдково                  1\n",
       "Район Сокол                           1\n",
       "Академический район                   1\n",
       "Район Черемушки                       1\n",
       "Район Свиблово                        1\n",
       "Район Южное Бутово                    1\n",
       "Район Якиманка                        1\n",
       "Район Ясенево                         1\n",
       "Хорошевский район                     1\n",
       "Район Северное Бутово                 1\n",
       "Район Орехово-Борисово Южное          1\n",
       "Район Ростокино                       1\n",
       "Район Раменки                         1\n",
       "Алексеевский район                    1\n",
       "Район Орехово-Борисово Северное       1\n",
       "Район Москворечье-Сабурово            1\n",
       "Район Марьина роща                    1\n",
       "Район Коньково                        1\n",
       "Район Дорогомилово                    1\n",
       "Район Беговой                         1\n",
       "Район Аэропорт                        1\n",
       "Пресненский район                     1\n",
       "Останкинский район                    1\n",
       "Нагорный район                        1\n",
       "Мещанский район                       1\n",
       "Ярославский Район                     1"
      ]
     },
     "execution_count": 33,
     "metadata": {},
     "output_type": "execute_result"
    }
   ],
   "source": [
    "top_10 = data.groupby ('street').agg ({'id': 'nunique'}).sort_values (by = 'id', ascending = False).head(10).index\n",
    "data_with_area.query ('street in @top_10').groupby ('area').agg ({'street': 'nunique'}).sort_values (by = 'street',\n",
    "                                                                                                     ascending = False)"
   ]
  },
  {
   "cell_type": "markdown",
   "metadata": {},
   "source": [
    "Районы с двумя одновременно встречающимися улицами можно назвать - наиболее заполненные объектами общественного питания."
   ]
  },
  {
   "cell_type": "markdown",
   "metadata": {},
   "source": [
    "Найдём улицы с одним объектом общественного питания."
   ]
  },
  {
   "cell_type": "code",
   "execution_count": 34,
   "metadata": {},
   "outputs": [
    {
     "data": {
      "text/html": [
       "<div>\n",
       "<style scoped>\n",
       "    .dataframe tbody tr th:only-of-type {\n",
       "        vertical-align: middle;\n",
       "    }\n",
       "\n",
       "    .dataframe tbody tr th {\n",
       "        vertical-align: top;\n",
       "    }\n",
       "\n",
       "    .dataframe thead th {\n",
       "        text-align: right;\n",
       "    }\n",
       "</style>\n",
       "<table border=\"1\" class=\"dataframe\">\n",
       "  <thead>\n",
       "    <tr style=\"text-align: right;\">\n",
       "      <th></th>\n",
       "      <th>id</th>\n",
       "    </tr>\n",
       "    <tr>\n",
       "      <th>street</th>\n",
       "      <th></th>\n",
       "    </tr>\n",
       "  </thead>\n",
       "  <tbody>\n",
       "    <tr>\n",
       "      <th>есенинский бульвар</th>\n",
       "      <td>1</td>\n",
       "    </tr>\n",
       "    <tr>\n",
       "      <th>федоскинская улица</th>\n",
       "      <td>1</td>\n",
       "    </tr>\n",
       "    <tr>\n",
       "      <th>ижорский проезд</th>\n",
       "      <td>1</td>\n",
       "    </tr>\n",
       "    <tr>\n",
       "      <th>средняя калитниковская улица</th>\n",
       "      <td>1</td>\n",
       "    </tr>\n",
       "    <tr>\n",
       "      <th>проезд досфлота</th>\n",
       "      <td>1</td>\n",
       "    </tr>\n",
       "    <tr>\n",
       "      <th>гвардейская улица</th>\n",
       "      <td>1</td>\n",
       "    </tr>\n",
       "    <tr>\n",
       "      <th>басовская улица</th>\n",
       "      <td>1</td>\n",
       "    </tr>\n",
       "    <tr>\n",
       "      <th>улица пивченкова</th>\n",
       "      <td>1</td>\n",
       "    </tr>\n",
       "    <tr>\n",
       "      <th>3-й угрешский проезд</th>\n",
       "      <td>1</td>\n",
       "    </tr>\n",
       "    <tr>\n",
       "      <th>зарайская улица</th>\n",
       "      <td>1</td>\n",
       "    </tr>\n",
       "    <tr>\n",
       "      <th>малый лёвшинский переулок</th>\n",
       "      <td>1</td>\n",
       "    </tr>\n",
       "    <tr>\n",
       "      <th>2-й полевой переулок</th>\n",
       "      <td>1</td>\n",
       "    </tr>\n",
       "    <tr>\n",
       "      <th>улица генерала ермолова</th>\n",
       "      <td>1</td>\n",
       "    </tr>\n",
       "    <tr>\n",
       "      <th>северодвинская улица</th>\n",
       "      <td>1</td>\n",
       "    </tr>\n",
       "    <tr>\n",
       "      <th>проточный переулок</th>\n",
       "      <td>1</td>\n",
       "    </tr>\n",
       "    <tr>\n",
       "      <th>улица зенитчиков</th>\n",
       "      <td>1</td>\n",
       "    </tr>\n",
       "    <tr>\n",
       "      <th>1-я гражданская улица</th>\n",
       "      <td>1</td>\n",
       "    </tr>\n",
       "  </tbody>\n",
       "</table>\n",
       "</div>"
      ],
      "text/plain": [
       "                              id\n",
       "street                          \n",
       "есенинский бульвар             1\n",
       "федоскинская улица             1\n",
       "ижорский проезд                1\n",
       "средняя калитниковская улица   1\n",
       "проезд досфлота                1\n",
       "гвардейская улица              1\n",
       "басовская улица                1\n",
       "улица пивченкова               1\n",
       "3-й угрешский проезд           1\n",
       "зарайская улица                1\n",
       "малый лёвшинский переулок      1\n",
       "2-й полевой переулок           1\n",
       "улица генерала ермолова        1\n",
       "северодвинская улица           1\n",
       "проточный переулок             1\n",
       "улица зенитчиков               1\n",
       "1-я гражданская улица          1"
      ]
     },
     "metadata": {},
     "output_type": "display_data"
    },
    {
     "name": "stdout",
     "output_type": "stream",
     "text": [
      "Количество улиц с одним объектом общественного питания: 551\n"
     ]
    }
   ],
   "source": [
    "alone_streets = data.groupby ('street').agg ({'id': 'nunique'}).query ('id == 1')\n",
    "display (alone_streets.sample (frac = 0.03))\n",
    "print ('Количество улиц с одним объектом общественного питания:', len (alone_streets))"
   ]
  },
  {
   "cell_type": "markdown",
   "metadata": {},
   "source": [
    "Опираясь на открытый ресурс Яндекс.Карты можно сделать вывод о том, что в основном улицы с одним объектом общественного питания находятся или на окраинах города, или в центре, но имеют небольшую протяжённость.\n",
    "\n",
    "Используем данные датасета от АО \"МОСГАЗ\" о принадлежности Московский улиц к районам для определения наиболее часто встречающихся районов, включающих в себя улицы с одним объектом общественного питания."
   ]
  },
  {
   "cell_type": "code",
   "execution_count": 35,
   "metadata": {},
   "outputs": [
    {
     "data": {
      "text/html": [
       "<div>\n",
       "<style scoped>\n",
       "    .dataframe tbody tr th:only-of-type {\n",
       "        vertical-align: middle;\n",
       "    }\n",
       "\n",
       "    .dataframe tbody tr th {\n",
       "        vertical-align: top;\n",
       "    }\n",
       "\n",
       "    .dataframe thead th {\n",
       "        text-align: right;\n",
       "    }\n",
       "</style>\n",
       "<table border=\"1\" class=\"dataframe\">\n",
       "  <thead>\n",
       "    <tr style=\"text-align: right;\">\n",
       "      <th></th>\n",
       "      <th>street</th>\n",
       "    </tr>\n",
       "    <tr>\n",
       "      <th>area</th>\n",
       "      <th></th>\n",
       "    </tr>\n",
       "  </thead>\n",
       "  <tbody>\n",
       "    <tr>\n",
       "      <th>Таганский район</th>\n",
       "      <td>27</td>\n",
       "    </tr>\n",
       "    <tr>\n",
       "      <th>Район Хамовники</th>\n",
       "      <td>26</td>\n",
       "    </tr>\n",
       "    <tr>\n",
       "      <th>Басманный район</th>\n",
       "      <td>25</td>\n",
       "    </tr>\n",
       "    <tr>\n",
       "      <th>Тверской район</th>\n",
       "      <td>20</td>\n",
       "    </tr>\n",
       "    <tr>\n",
       "      <th>Пресненский район</th>\n",
       "      <td>20</td>\n",
       "    </tr>\n",
       "    <tr>\n",
       "      <th>Район Арбат</th>\n",
       "      <td>18</td>\n",
       "    </tr>\n",
       "    <tr>\n",
       "      <th>Район Марьина роща</th>\n",
       "      <td>18</td>\n",
       "    </tr>\n",
       "    <tr>\n",
       "      <th>Мещанский район</th>\n",
       "      <td>16</td>\n",
       "    </tr>\n",
       "    <tr>\n",
       "      <th>Район Замоскворечье</th>\n",
       "      <td>14</td>\n",
       "    </tr>\n",
       "    <tr>\n",
       "      <th>Район Соколиная Гора</th>\n",
       "      <td>12</td>\n",
       "    </tr>\n",
       "  </tbody>\n",
       "</table>\n",
       "</div>"
      ],
      "text/plain": [
       "                      street\n",
       "area                        \n",
       "Таганский район           27\n",
       "Район Хамовники           26\n",
       "Басманный район           25\n",
       "Тверской район            20\n",
       "Пресненский район         20\n",
       "Район Арбат               18\n",
       "Район Марьина роща        18\n",
       "Мещанский район           16\n",
       "Район Замоскворечье       14\n",
       "Район Соколиная Гора      12"
      ]
     },
     "execution_count": 35,
     "metadata": {},
     "output_type": "execute_result"
    }
   ],
   "source": [
    "alone_streets_names = alone_streets.index\n",
    "data_with_area.query ('street in @alone_streets_names').groupby ('area').agg ({'street': 'nunique'}).sort_values (by = 'street',\n",
    "                                                                                                     ascending = False).head (10)"
   ]
  },
  {
   "cell_type": "markdown",
   "metadata": {},
   "source": [
    "Районы с двумя одновременно встречающимися улицами можно назвать - наиболее заполненные объектами общественного питания."
   ]
  },
  {
   "cell_type": "markdown",
   "metadata": {},
   "source": [
    "Рассмотрим распределение посадочных мест на наиболее заполненных объектами общественного питания улицах."
   ]
  },
  {
   "cell_type": "code",
   "execution_count": 36,
   "metadata": {},
   "outputs": [
    {
     "data": {
      "image/png": "[encoded data removed]"
     },
     "metadata": {},
     "output_type": "display_data"
    }
   ],
   "source": [
    "data_seats = data.groupby ('street')[['id', 'seat_number']].agg ({'id': 'count',\n",
    "                                                                  'seat_number': 'median'}).reset_index().sort_values (by = 'id').tail(10)\n",
    "fig_9 = px.bar (data_seats,\n",
    "                x = 'seat_number',\n",
    "                y = 'street',\n",
    "                width = 1000,\n",
    "                height = 600)\n",
    "fig_set (fig_9, 'Распределение посадочных мест на ТОП-10 заполненных улицах', 'Медианное количество посадочных мест', '')"
   ]
  },
  {
   "cell_type": "markdown",
   "metadata": {},
   "source": [
    "Медианное значение посадочных мест варьируется от 24 до 46 - это соответствует нормальным средним значениям."
   ]
  },
  {
   "cell_type": "code",
   "execution_count": 37,
   "metadata": {},
   "outputs": [
    {
     "data": {
      "image/png": "[encoded data removed]"
     },
     "metadata": {},
     "output_type": "display_data"
    }
   ],
   "source": [
    "data_seats_chain = data.query ('chain == \"да\"').groupby ('street')[['id', 'seat_number']].agg ({'id': 'count',\n",
    "                                                                                          'seat_number': 'median'}).reset_index().sort_values (by = 'id').tail(10)\n",
    "data_seats = data_seats.merge (data_seats_chain, on = 'street').rename (columns = {'seat_number_x': 'Медианное кол-во мест',\n",
    "                                                                                   'seat_number_y': 'Медианное кол-во мест (сетевые)'})\n",
    "fig_10 = px.bar (data_seats,\n",
    "                 x = ['Медианное кол-во мест', 'Медианное кол-во мест (сетевые)'],\n",
    "                 y = 'street',\n",
    "                 barmode = 'group',\n",
    "                 width = 1000,\n",
    "                 height = 600)\n",
    "fig_set (fig_10, 'Распределение посадочных мест в сетевых заведениях на ТОП-10 заполненных улицах', 'Медианное количество посадочных мест', '')"
   ]
  },
  {
   "cell_type": "markdown",
   "metadata": {},
   "source": [
    "При сравнении медианного количества посадочных мест в заведениях на ТОП-10 заполненных улицах с сетевыми заведениями на тех же улицах, можно сделать вывод, что практически во всех случаях количество мест в сетевых заведениях больше, чем в общем объёме заведений. Только на Ленинградском проспекте медианное кол-во мест в сетевых заведениях ниже общего показателя на 6 мест. В среднем, медиана по кол-ву мест в сетевых заведениях варируется от 30 до 60 мест, что значительно выше, чем общие показатели."
   ]
  },
  {
   "cell_type": "markdown",
   "metadata": {},
   "source": [
    "<a id='3'></a>\n",
    "## Выводы и рекомендации\n",
    "\n",
    "* Наиболее популярный вид объекта общественного питания - кафе\n",
    "* Сетевых заведений примерно в 4 раза меньше, чем несетевых\n",
    "* Наибольшее количество сетевых заведений - у предприятий быстрого обслуживания (более 40%)\n",
    "* Есть довольно высокая вероятность встретить сетевой объект с небольшим количеством заведений и большим количеством мест\n",
    "* Также немало сетевых объектов с небольшим количестом заведений и небольшим количеством мест. Возможно, на это влияет доля заведений с принципом работы \"на вынос\" - небольшие точки, где отсутствуют посадочные места как таковые\n",
    "* Наибольшее количество мест - в столовых и ресторанах.\n",
    "\n",
    "Самые популяные улицы с объектами общепита в Москве:\n",
    "- Проспект Мира\n",
    "- Профсоюзная улица\n",
    "- Ленинградский проспект\n",
    "- Пресненская набережная\n",
    "- Варшавское шоссе\n",
    "- Ленинский проспект\n",
    "- Проспект Вернадского\n",
    "- Кутузовский проспект\n",
    "- Каширское шоссе\n",
    "- Кировоградская улица\n",
    "\n",
    "Все они находятся между МКАДом и ТТК, т.е. на наиболее загруженных маршрутах при выезде из центра города.\n",
    "\n",
    "При открытии кафе, стоит рассмотреть данные улицы в первую очередь, т.к. он имеют высокую проходимость и конкурентную среду. Среди заведений, распологающихся на этих улицах, количество посадочных мест в среднем варьируется от 24 до 46. Ориентироваться стоит примерно на такой же диапазон. Стоит также рассмотреть возможность частичной организации работы \"на вынос\", т.к. небольшие заведения зачастую используют это в своей работе."
   ]
  }
 ],
 "metadata": {
  "ExecuteTimeLog": [
   {
    "duration": 470,
    "start_time": "2022-03-29T10:40:19.015Z"
   },
   {
    "duration": 87,
    "start_time": "2022-03-29T10:40:58.284Z"
   },
   {
    "duration": 162,
    "start_time": "2022-03-29T10:41:53.742Z"
   },
   {
    "duration": 70,
    "start_time": "2022-03-29T10:41:56.258Z"
   },
   {
    "duration": 67,
    "start_time": "2022-03-29T10:42:18.588Z"
   },
   {
    "duration": 113,
    "start_time": "2022-03-29T10:43:00.625Z"
   },
   {
    "duration": 119,
    "start_time": "2022-03-29T10:43:24.394Z"
   },
   {
    "duration": 127,
    "start_time": "2022-03-29T10:43:33.052Z"
   },
   {
    "duration": 1346,
    "start_time": "2022-03-29T10:49:37.507Z"
   },
   {
    "duration": 4,
    "start_time": "2022-03-29T10:49:49.210Z"
   },
   {
    "duration": 85,
    "start_time": "2022-03-29T10:49:49.217Z"
   },
   {
    "duration": 1424,
    "start_time": "2022-03-29T10:49:49.304Z"
   },
   {
    "duration": 160,
    "start_time": "2022-03-29T10:51:24.659Z"
   },
   {
    "duration": 26,
    "start_time": "2022-03-29T10:53:27.077Z"
   },
   {
    "duration": 5,
    "start_time": "2022-03-29T10:55:33.002Z"
   },
   {
    "duration": 27,
    "start_time": "2022-03-29T10:56:57.741Z"
   },
   {
    "duration": 17,
    "start_time": "2022-03-29T10:57:06.986Z"
   },
   {
    "duration": 24,
    "start_time": "2022-03-29T10:57:15.187Z"
   },
   {
    "duration": 12,
    "start_time": "2022-03-29T10:57:21.330Z"
   },
   {
    "duration": 91,
    "start_time": "2022-03-29T10:59:07.909Z"
   },
   {
    "duration": 31,
    "start_time": "2022-03-29T10:59:27.154Z"
   },
   {
    "duration": 4,
    "start_time": "2022-03-29T10:59:30.456Z"
   },
   {
    "duration": 102,
    "start_time": "2022-03-29T10:59:30.463Z"
   },
   {
    "duration": 8,
    "start_time": "2022-03-29T10:59:30.567Z"
   },
   {
    "duration": 22,
    "start_time": "2022-03-29T10:59:30.578Z"
   },
   {
    "duration": 47,
    "start_time": "2022-03-29T10:59:30.602Z"
   },
   {
    "duration": 8,
    "start_time": "2022-03-29T11:02:01.598Z"
   },
   {
    "duration": 8,
    "start_time": "2022-03-29T11:02:11.792Z"
   },
   {
    "duration": 16,
    "start_time": "2022-03-29T11:02:15.122Z"
   },
   {
    "duration": 7,
    "start_time": "2022-03-29T11:02:40.381Z"
   },
   {
    "duration": 4,
    "start_time": "2022-03-29T11:02:42.867Z"
   },
   {
    "duration": 90,
    "start_time": "2022-03-29T11:02:42.874Z"
   },
   {
    "duration": 5,
    "start_time": "2022-03-29T11:02:42.974Z"
   },
   {
    "duration": 15,
    "start_time": "2022-03-29T11:02:42.981Z"
   },
   {
    "duration": 28,
    "start_time": "2022-03-29T11:02:42.999Z"
   },
   {
    "duration": 6,
    "start_time": "2022-03-29T11:02:43.029Z"
   },
   {
    "duration": 8,
    "start_time": "2022-03-29T11:03:01.785Z"
   },
   {
    "duration": 7,
    "start_time": "2022-03-29T11:03:08.565Z"
   },
   {
    "duration": 7,
    "start_time": "2022-03-29T11:04:29.009Z"
   },
   {
    "duration": 1869,
    "start_time": "2022-03-29T11:04:37.224Z"
   },
   {
    "duration": 11,
    "start_time": "2022-03-29T11:04:46.242Z"
   },
   {
    "duration": 9,
    "start_time": "2022-03-29T11:04:57.063Z"
   },
   {
    "duration": 7,
    "start_time": "2022-03-29T11:05:02.764Z"
   },
   {
    "duration": 21,
    "start_time": "2022-03-29T11:05:12.430Z"
   },
   {
    "duration": 1197,
    "start_time": "2022-03-29T11:12:57.850Z"
   },
   {
    "duration": 90,
    "start_time": "2022-03-29T11:12:59.050Z"
   },
   {
    "duration": 5,
    "start_time": "2022-03-29T11:12:59.142Z"
   },
   {
    "duration": 29,
    "start_time": "2022-03-29T11:12:59.150Z"
   },
   {
    "duration": 25,
    "start_time": "2022-03-29T11:12:59.181Z"
   },
   {
    "duration": 6,
    "start_time": "2022-03-29T11:12:59.208Z"
   },
   {
    "duration": 266,
    "start_time": "2022-03-29T11:17:39.242Z"
   },
   {
    "duration": 358,
    "start_time": "2022-03-29T11:19:29.971Z"
   },
   {
    "duration": 1905,
    "start_time": "2022-03-29T11:20:04.207Z"
   },
   {
    "duration": 108,
    "start_time": "2022-03-29T11:20:06.116Z"
   },
   {
    "duration": 5,
    "start_time": "2022-03-29T11:20:06.227Z"
   },
   {
    "duration": 22,
    "start_time": "2022-03-29T11:20:06.236Z"
   },
   {
    "duration": 29,
    "start_time": "2022-03-29T11:20:06.275Z"
   },
   {
    "duration": 6,
    "start_time": "2022-03-29T11:20:06.307Z"
   },
   {
    "duration": 486,
    "start_time": "2022-03-29T11:20:06.315Z"
   },
   {
    "duration": 378,
    "start_time": "2022-03-29T11:20:17.132Z"
   },
   {
    "duration": 344,
    "start_time": "2022-03-29T11:20:25.481Z"
   },
   {
    "duration": 1531,
    "start_time": "2022-03-29T11:21:54.998Z"
   },
   {
    "duration": 100,
    "start_time": "2022-03-29T11:21:56.533Z"
   },
   {
    "duration": 7,
    "start_time": "2022-03-29T11:21:56.636Z"
   },
   {
    "duration": 37,
    "start_time": "2022-03-29T11:21:56.646Z"
   },
   {
    "duration": 27,
    "start_time": "2022-03-29T11:21:56.686Z"
   },
   {
    "duration": 8,
    "start_time": "2022-03-29T11:21:56.716Z"
   },
   {
    "duration": 295,
    "start_time": "2022-03-29T11:21:56.727Z"
   },
   {
    "duration": 247,
    "start_time": "2022-03-29T11:27:30.271Z"
   },
   {
    "duration": 248,
    "start_time": "2022-03-29T11:29:05.440Z"
   },
   {
    "duration": 248,
    "start_time": "2022-03-29T11:29:10.690Z"
   },
   {
    "duration": 249,
    "start_time": "2022-03-29T11:29:16.688Z"
   },
   {
    "duration": 248,
    "start_time": "2022-03-29T11:30:28.064Z"
   },
   {
    "duration": 243,
    "start_time": "2022-03-29T11:30:34.923Z"
   },
   {
    "duration": 257,
    "start_time": "2022-03-29T11:30:50.969Z"
   },
   {
    "duration": 254,
    "start_time": "2022-03-29T11:32:10.953Z"
   },
   {
    "duration": 315,
    "start_time": "2022-03-29T11:35:32.661Z"
   },
   {
    "duration": 244,
    "start_time": "2022-03-29T11:35:56.843Z"
   },
   {
    "duration": 139,
    "start_time": "2022-03-29T11:36:13.326Z"
   },
   {
    "duration": 326,
    "start_time": "2022-03-29T11:36:23.405Z"
   },
   {
    "duration": 240,
    "start_time": "2022-03-29T11:38:47.207Z"
   },
   {
    "duration": 240,
    "start_time": "2022-03-29T11:38:52.615Z"
   },
   {
    "duration": 354,
    "start_time": "2022-03-29T11:39:12.723Z"
   },
   {
    "duration": 333,
    "start_time": "2022-03-29T11:39:19.096Z"
   },
   {
    "duration": 314,
    "start_time": "2022-03-29T11:39:25.347Z"
   },
   {
    "duration": 305,
    "start_time": "2022-03-29T11:39:29.101Z"
   },
   {
    "duration": 343,
    "start_time": "2022-03-29T11:44:10.053Z"
   },
   {
    "duration": 352,
    "start_time": "2022-03-29T11:44:22.555Z"
   },
   {
    "duration": 350,
    "start_time": "2022-03-29T11:44:31.541Z"
   },
   {
    "duration": 437,
    "start_time": "2022-03-29T11:44:57.763Z"
   },
   {
    "duration": 343,
    "start_time": "2022-03-29T11:45:17.065Z"
   },
   {
    "duration": 349,
    "start_time": "2022-03-29T11:45:43.370Z"
   },
   {
    "duration": 371,
    "start_time": "2022-03-29T11:45:52.741Z"
   },
   {
    "duration": 345,
    "start_time": "2022-03-29T11:46:01.127Z"
   },
   {
    "duration": 360,
    "start_time": "2022-03-29T11:48:26.013Z"
   },
   {
    "duration": 341,
    "start_time": "2022-03-29T11:48:33.566Z"
   },
   {
    "duration": 49,
    "start_time": "2022-03-29T11:57:11.558Z"
   },
   {
    "duration": 1311,
    "start_time": "2022-03-29T11:57:15.522Z"
   },
   {
    "duration": 73,
    "start_time": "2022-03-29T11:57:16.835Z"
   },
   {
    "duration": 4,
    "start_time": "2022-03-29T11:57:16.909Z"
   },
   {
    "duration": 21,
    "start_time": "2022-03-29T11:57:16.915Z"
   },
   {
    "duration": 19,
    "start_time": "2022-03-29T11:57:16.938Z"
   },
   {
    "duration": 5,
    "start_time": "2022-03-29T11:57:16.959Z"
   },
   {
    "duration": 3,
    "start_time": "2022-03-29T11:57:23.897Z"
   },
   {
    "duration": 71,
    "start_time": "2022-03-29T11:57:23.903Z"
   },
   {
    "duration": 4,
    "start_time": "2022-03-29T11:57:23.976Z"
   },
   {
    "duration": 10,
    "start_time": "2022-03-29T11:57:23.981Z"
   },
   {
    "duration": 17,
    "start_time": "2022-03-29T11:57:23.994Z"
   },
   {
    "duration": 5,
    "start_time": "2022-03-29T11:57:24.033Z"
   },
   {
    "duration": 1207,
    "start_time": "2022-03-29T11:57:36.949Z"
   },
   {
    "duration": 74,
    "start_time": "2022-03-29T11:57:38.158Z"
   },
   {
    "duration": 5,
    "start_time": "2022-03-29T11:57:38.234Z"
   },
   {
    "duration": 15,
    "start_time": "2022-03-29T11:57:38.240Z"
   },
   {
    "duration": 23,
    "start_time": "2022-03-29T11:57:38.257Z"
   },
   {
    "duration": 5,
    "start_time": "2022-03-29T11:57:38.281Z"
   },
   {
    "duration": 453,
    "start_time": "2022-03-29T11:57:38.288Z"
   },
   {
    "duration": 193,
    "start_time": "2022-03-29T11:57:46.782Z"
   },
   {
    "duration": 215,
    "start_time": "2022-03-29T12:00:20.335Z"
   },
   {
    "duration": 182,
    "start_time": "2022-03-29T12:01:05.362Z"
   },
   {
    "duration": 171,
    "start_time": "2022-03-29T12:02:50.890Z"
   },
   {
    "duration": 258,
    "start_time": "2022-03-29T12:03:00.000Z"
   },
   {
    "duration": 173,
    "start_time": "2022-03-29T12:03:11.905Z"
   },
   {
    "duration": 185,
    "start_time": "2022-03-29T12:03:24.655Z"
   },
   {
    "duration": 196,
    "start_time": "2022-03-29T12:03:36.009Z"
   },
   {
    "duration": 197,
    "start_time": "2022-03-29T12:05:05.273Z"
   },
   {
    "duration": 108,
    "start_time": "2022-03-29T12:07:02.585Z"
   },
   {
    "duration": 184,
    "start_time": "2022-03-29T12:08:26.003Z"
   },
   {
    "duration": 179,
    "start_time": "2022-03-29T12:10:30.800Z"
   },
   {
    "duration": 184,
    "start_time": "2022-03-29T12:10:36.189Z"
   },
   {
    "duration": 185,
    "start_time": "2022-03-29T12:10:44.808Z"
   },
   {
    "duration": 186,
    "start_time": "2022-03-29T12:10:51.469Z"
   },
   {
    "duration": 184,
    "start_time": "2022-03-29T12:11:03.670Z"
   },
   {
    "duration": 182,
    "start_time": "2022-03-29T12:11:13.153Z"
   },
   {
    "duration": 161,
    "start_time": "2022-03-29T12:11:53.207Z"
   },
   {
    "duration": 191,
    "start_time": "2022-03-29T12:12:05.172Z"
   },
   {
    "duration": 257,
    "start_time": "2022-03-29T12:12:15.807Z"
   },
   {
    "duration": 178,
    "start_time": "2022-03-29T12:12:35.570Z"
   },
   {
    "duration": 182,
    "start_time": "2022-03-29T12:12:48.396Z"
   },
   {
    "duration": 180,
    "start_time": "2022-03-29T12:12:54.719Z"
   },
   {
    "duration": 192,
    "start_time": "2022-03-29T12:14:24.475Z"
   },
   {
    "duration": 216,
    "start_time": "2022-03-29T12:21:47.986Z"
   },
   {
    "duration": 2,
    "start_time": "2022-03-29T12:21:54.697Z"
   },
   {
    "duration": 75,
    "start_time": "2022-03-29T12:21:54.701Z"
   },
   {
    "duration": 4,
    "start_time": "2022-03-29T12:21:54.778Z"
   },
   {
    "duration": 12,
    "start_time": "2022-03-29T12:21:54.783Z"
   },
   {
    "duration": 38,
    "start_time": "2022-03-29T12:21:54.797Z"
   },
   {
    "duration": 5,
    "start_time": "2022-03-29T12:21:54.837Z"
   },
   {
    "duration": 2,
    "start_time": "2022-03-29T12:21:57.620Z"
   },
   {
    "duration": 69,
    "start_time": "2022-03-29T12:21:57.624Z"
   },
   {
    "duration": 4,
    "start_time": "2022-03-29T12:21:57.695Z"
   },
   {
    "duration": 12,
    "start_time": "2022-03-29T12:21:57.701Z"
   },
   {
    "duration": 30,
    "start_time": "2022-03-29T12:21:57.715Z"
   },
   {
    "duration": 5,
    "start_time": "2022-03-29T12:21:57.747Z"
   },
   {
    "duration": 228,
    "start_time": "2022-03-29T12:21:57.753Z"
   },
   {
    "duration": 3,
    "start_time": "2022-03-29T12:22:19.660Z"
   },
   {
    "duration": 74,
    "start_time": "2022-03-29T12:22:19.664Z"
   },
   {
    "duration": 4,
    "start_time": "2022-03-29T12:22:19.740Z"
   },
   {
    "duration": 11,
    "start_time": "2022-03-29T12:22:19.746Z"
   },
   {
    "duration": 19,
    "start_time": "2022-03-29T12:22:19.759Z"
   },
   {
    "duration": 5,
    "start_time": "2022-03-29T12:22:19.780Z"
   },
   {
    "duration": 3,
    "start_time": "2022-03-29T12:22:23.783Z"
   },
   {
    "duration": 73,
    "start_time": "2022-03-29T12:22:23.788Z"
   },
   {
    "duration": 4,
    "start_time": "2022-03-29T12:22:23.863Z"
   },
   {
    "duration": 29,
    "start_time": "2022-03-29T12:22:23.869Z"
   },
   {
    "duration": 19,
    "start_time": "2022-03-29T12:22:23.900Z"
   },
   {
    "duration": 4,
    "start_time": "2022-03-29T12:22:23.921Z"
   },
   {
    "duration": 215,
    "start_time": "2022-03-29T12:22:23.933Z"
   },
   {
    "duration": 176,
    "start_time": "2022-03-29T12:22:35.060Z"
   },
   {
    "duration": 121,
    "start_time": "2022-03-29T12:24:22.032Z"
   },
   {
    "duration": 116,
    "start_time": "2022-03-29T12:24:51.621Z"
   },
   {
    "duration": 211,
    "start_time": "2022-03-29T12:25:00.062Z"
   },
   {
    "duration": 119,
    "start_time": "2022-03-29T12:25:03.791Z"
   },
   {
    "duration": 115,
    "start_time": "2022-03-29T12:25:12.072Z"
   },
   {
    "duration": 112,
    "start_time": "2022-03-29T12:25:18.593Z"
   },
   {
    "duration": 116,
    "start_time": "2022-03-29T12:25:58.503Z"
   },
   {
    "duration": 119,
    "start_time": "2022-03-29T12:26:38.762Z"
   },
   {
    "duration": 114,
    "start_time": "2022-03-29T12:28:39.062Z"
   },
   {
    "duration": 31,
    "start_time": "2022-03-29T12:28:42.614Z"
   },
   {
    "duration": 14,
    "start_time": "2022-03-29T12:28:53.948Z"
   },
   {
    "duration": 6,
    "start_time": "2022-03-29T12:29:04.727Z"
   },
   {
    "duration": 10,
    "start_time": "2022-03-29T12:29:17.652Z"
   },
   {
    "duration": 9,
    "start_time": "2022-03-29T12:29:39.699Z"
   },
   {
    "duration": 248,
    "start_time": "2022-03-29T12:31:19.826Z"
   },
   {
    "duration": 11,
    "start_time": "2022-03-29T12:31:38.416Z"
   },
   {
    "duration": 7,
    "start_time": "2022-03-29T12:31:56.439Z"
   },
   {
    "duration": 6,
    "start_time": "2022-03-29T12:32:02.607Z"
   },
   {
    "duration": 7,
    "start_time": "2022-03-29T12:32:12.273Z"
   },
   {
    "duration": 3,
    "start_time": "2022-03-29T12:32:14.680Z"
   },
   {
    "duration": 88,
    "start_time": "2022-03-29T12:32:14.684Z"
   },
   {
    "duration": 4,
    "start_time": "2022-03-29T12:32:14.774Z"
   },
   {
    "duration": 17,
    "start_time": "2022-03-29T12:32:14.779Z"
   },
   {
    "duration": 22,
    "start_time": "2022-03-29T12:32:14.798Z"
   },
   {
    "duration": 5,
    "start_time": "2022-03-29T12:32:14.832Z"
   },
   {
    "duration": 187,
    "start_time": "2022-03-29T12:32:14.838Z"
   },
   {
    "duration": 128,
    "start_time": "2022-03-29T12:32:15.027Z"
   },
   {
    "duration": 5,
    "start_time": "2022-03-29T12:33:10.788Z"
   },
   {
    "duration": 6,
    "start_time": "2022-03-29T12:33:39.769Z"
   },
   {
    "duration": 6,
    "start_time": "2022-03-29T12:33:47.267Z"
   },
   {
    "duration": 1226,
    "start_time": "2022-03-29T12:33:54.645Z"
   },
   {
    "duration": 75,
    "start_time": "2022-03-29T12:33:55.873Z"
   },
   {
    "duration": 5,
    "start_time": "2022-03-29T12:33:55.950Z"
   },
   {
    "duration": 13,
    "start_time": "2022-03-29T12:33:55.957Z"
   },
   {
    "duration": 19,
    "start_time": "2022-03-29T12:33:55.972Z"
   },
   {
    "duration": 5,
    "start_time": "2022-03-29T12:33:55.993Z"
   },
   {
    "duration": 233,
    "start_time": "2022-03-29T12:33:56.000Z"
   },
   {
    "duration": 152,
    "start_time": "2022-03-29T12:33:56.235Z"
   },
   {
    "duration": 8,
    "start_time": "2022-03-29T12:33:56.389Z"
   },
   {
    "duration": 113,
    "start_time": "2022-03-29T12:33:56.400Z"
   },
   {
    "duration": 3,
    "start_time": "2022-03-29T12:34:15.336Z"
   },
   {
    "duration": 85,
    "start_time": "2022-03-29T12:34:15.344Z"
   },
   {
    "duration": 4,
    "start_time": "2022-03-29T12:34:15.431Z"
   },
   {
    "duration": 18,
    "start_time": "2022-03-29T12:34:15.436Z"
   },
   {
    "duration": 30,
    "start_time": "2022-03-29T12:34:15.455Z"
   },
   {
    "duration": 5,
    "start_time": "2022-03-29T12:34:15.486Z"
   },
   {
    "duration": 220,
    "start_time": "2022-03-29T12:34:15.492Z"
   },
   {
    "duration": 124,
    "start_time": "2022-03-29T12:34:15.714Z"
   },
   {
    "duration": 7,
    "start_time": "2022-03-29T12:34:15.840Z"
   },
   {
    "duration": 7,
    "start_time": "2022-03-29T12:34:48.286Z"
   },
   {
    "duration": 3,
    "start_time": "2022-03-29T12:38:52.151Z"
   },
   {
    "duration": 73,
    "start_time": "2022-03-29T12:38:52.156Z"
   },
   {
    "duration": 4,
    "start_time": "2022-03-29T12:38:52.231Z"
   },
   {
    "duration": 10,
    "start_time": "2022-03-29T12:38:52.237Z"
   },
   {
    "duration": 20,
    "start_time": "2022-03-29T12:38:52.248Z"
   },
   {
    "duration": 4,
    "start_time": "2022-03-29T12:38:52.269Z"
   },
   {
    "duration": 196,
    "start_time": "2022-03-29T12:38:52.275Z"
   },
   {
    "duration": 127,
    "start_time": "2022-03-29T12:38:52.472Z"
   },
   {
    "duration": 5,
    "start_time": "2022-03-29T12:38:52.602Z"
   },
   {
    "duration": 5,
    "start_time": "2022-03-29T12:40:22.799Z"
   },
   {
    "duration": 7,
    "start_time": "2022-03-29T12:40:27.764Z"
   },
   {
    "duration": 97,
    "start_time": "2022-03-29T12:41:18.870Z"
   },
   {
    "duration": 10,
    "start_time": "2022-03-29T12:41:30.698Z"
   },
   {
    "duration": 20,
    "start_time": "2022-03-29T12:42:24.944Z"
   },
   {
    "duration": 18,
    "start_time": "2022-03-29T12:42:54.995Z"
   },
   {
    "duration": 113,
    "start_time": "2022-03-29T12:43:14.202Z"
   },
   {
    "duration": 16,
    "start_time": "2022-03-29T12:43:40.648Z"
   },
   {
    "duration": 10,
    "start_time": "2022-03-29T12:43:52.085Z"
   },
   {
    "duration": 195,
    "start_time": "2022-03-29T12:46:31.275Z"
   },
   {
    "duration": 259,
    "start_time": "2022-03-29T12:47:26.151Z"
   },
   {
    "duration": 334,
    "start_time": "2022-03-29T12:47:52.001Z"
   },
   {
    "duration": 248,
    "start_time": "2022-03-29T12:48:20.862Z"
   },
   {
    "duration": 243,
    "start_time": "2022-03-29T12:48:35.754Z"
   },
   {
    "duration": 229,
    "start_time": "2022-03-29T12:51:53.266Z"
   },
   {
    "duration": 230,
    "start_time": "2022-03-29T12:52:22.478Z"
   },
   {
    "duration": 231,
    "start_time": "2022-03-29T12:52:26.215Z"
   },
   {
    "duration": 247,
    "start_time": "2022-03-29T12:52:30.610Z"
   },
   {
    "duration": 237,
    "start_time": "2022-03-29T12:53:27.893Z"
   },
   {
    "duration": 242,
    "start_time": "2022-03-29T12:53:34.819Z"
   },
   {
    "duration": 230,
    "start_time": "2022-03-29T12:54:18.217Z"
   },
   {
    "duration": 280,
    "start_time": "2022-03-29T12:54:31.926Z"
   },
   {
    "duration": 325,
    "start_time": "2022-03-29T12:54:37.034Z"
   },
   {
    "duration": 238,
    "start_time": "2022-03-29T12:54:42.872Z"
   },
   {
    "duration": 242,
    "start_time": "2022-03-29T12:57:04.864Z"
   },
   {
    "duration": 248,
    "start_time": "2022-03-29T12:58:14.462Z"
   },
   {
    "duration": 254,
    "start_time": "2022-03-29T12:58:28.626Z"
   },
   {
    "duration": 261,
    "start_time": "2022-03-29T12:58:39.052Z"
   },
   {
    "duration": 274,
    "start_time": "2022-03-29T12:58:49.601Z"
   },
   {
    "duration": 3,
    "start_time": "2022-03-29T13:00:35.181Z"
   },
   {
    "duration": 75,
    "start_time": "2022-03-29T13:00:35.185Z"
   },
   {
    "duration": 4,
    "start_time": "2022-03-29T13:00:35.261Z"
   },
   {
    "duration": 13,
    "start_time": "2022-03-29T13:00:35.268Z"
   },
   {
    "duration": 24,
    "start_time": "2022-03-29T13:00:35.283Z"
   },
   {
    "duration": 4,
    "start_time": "2022-03-29T13:00:35.309Z"
   },
   {
    "duration": 200,
    "start_time": "2022-03-29T13:00:35.332Z"
   },
   {
    "duration": 130,
    "start_time": "2022-03-29T13:00:35.534Z"
   },
   {
    "duration": 5,
    "start_time": "2022-03-29T13:00:35.666Z"
   },
   {
    "duration": 117,
    "start_time": "2022-03-29T13:00:35.673Z"
   },
   {
    "duration": 193,
    "start_time": "2022-03-29T13:00:53.588Z"
   },
   {
    "duration": 193,
    "start_time": "2022-03-29T13:01:04.008Z"
   },
   {
    "duration": 324,
    "start_time": "2022-03-29T13:01:09.740Z"
   },
   {
    "duration": 205,
    "start_time": "2022-03-29T13:01:13.877Z"
   },
   {
    "duration": 3,
    "start_time": "2022-03-29T13:01:16.184Z"
   },
   {
    "duration": 74,
    "start_time": "2022-03-29T13:01:16.189Z"
   },
   {
    "duration": 4,
    "start_time": "2022-03-29T13:01:16.265Z"
   },
   {
    "duration": 17,
    "start_time": "2022-03-29T13:01:16.271Z"
   },
   {
    "duration": 25,
    "start_time": "2022-03-29T13:01:16.290Z"
   },
   {
    "duration": 18,
    "start_time": "2022-03-29T13:01:16.317Z"
   },
   {
    "duration": 3,
    "start_time": "2022-03-29T13:01:19.501Z"
   },
   {
    "duration": 72,
    "start_time": "2022-03-29T13:01:19.506Z"
   },
   {
    "duration": 5,
    "start_time": "2022-03-29T13:01:19.580Z"
   },
   {
    "duration": 24,
    "start_time": "2022-03-29T13:01:19.586Z"
   },
   {
    "duration": 29,
    "start_time": "2022-03-29T13:01:19.612Z"
   },
   {
    "duration": 11,
    "start_time": "2022-03-29T13:01:19.643Z"
   },
   {
    "duration": 217,
    "start_time": "2022-03-29T13:01:19.656Z"
   },
   {
    "duration": 1107,
    "start_time": "2022-03-29T13:01:54.171Z"
   },
   {
    "duration": 70,
    "start_time": "2022-03-29T13:01:55.280Z"
   },
   {
    "duration": 4,
    "start_time": "2022-03-29T13:01:55.352Z"
   },
   {
    "duration": 12,
    "start_time": "2022-03-29T13:01:55.358Z"
   },
   {
    "duration": 22,
    "start_time": "2022-03-29T13:01:55.371Z"
   },
   {
    "duration": 4,
    "start_time": "2022-03-29T13:01:55.395Z"
   },
   {
    "duration": 3,
    "start_time": "2022-03-29T13:02:00.003Z"
   },
   {
    "duration": 81,
    "start_time": "2022-03-29T13:02:00.009Z"
   },
   {
    "duration": 4,
    "start_time": "2022-03-29T13:02:00.092Z"
   },
   {
    "duration": 14,
    "start_time": "2022-03-29T13:02:00.098Z"
   },
   {
    "duration": 34,
    "start_time": "2022-03-29T13:02:00.114Z"
   },
   {
    "duration": 4,
    "start_time": "2022-03-29T13:02:00.150Z"
   },
   {
    "duration": 214,
    "start_time": "2022-03-29T13:02:00.156Z"
   },
   {
    "duration": 3,
    "start_time": "2022-03-29T13:03:56.816Z"
   },
   {
    "duration": 70,
    "start_time": "2022-03-29T13:03:56.821Z"
   },
   {
    "duration": 4,
    "start_time": "2022-03-29T13:03:56.893Z"
   },
   {
    "duration": 12,
    "start_time": "2022-03-29T13:03:56.899Z"
   },
   {
    "duration": 36,
    "start_time": "2022-03-29T13:03:56.913Z"
   },
   {
    "duration": 5,
    "start_time": "2022-03-29T13:03:56.950Z"
   },
   {
    "duration": 217,
    "start_time": "2022-03-29T13:03:56.956Z"
   },
   {
    "duration": 141,
    "start_time": "2022-03-29T13:03:57.174Z"
   },
   {
    "duration": 6,
    "start_time": "2022-03-29T13:03:57.317Z"
   },
   {
    "duration": 3,
    "start_time": "2022-03-29T13:04:14.944Z"
   },
   {
    "duration": 87,
    "start_time": "2022-03-29T13:04:14.949Z"
   },
   {
    "duration": 5,
    "start_time": "2022-03-29T13:04:15.038Z"
   },
   {
    "duration": 11,
    "start_time": "2022-03-29T13:04:15.046Z"
   },
   {
    "duration": 21,
    "start_time": "2022-03-29T13:04:15.059Z"
   },
   {
    "duration": 6,
    "start_time": "2022-03-29T13:04:15.082Z"
   },
   {
    "duration": 240,
    "start_time": "2022-03-29T13:04:15.090Z"
   },
   {
    "duration": 139,
    "start_time": "2022-03-29T13:04:15.333Z"
   },
   {
    "duration": 7,
    "start_time": "2022-03-29T13:04:15.474Z"
   },
   {
    "duration": 1105,
    "start_time": "2022-03-29T13:04:24.265Z"
   },
   {
    "duration": 72,
    "start_time": "2022-03-29T13:04:25.372Z"
   },
   {
    "duration": 6,
    "start_time": "2022-03-29T13:04:25.446Z"
   },
   {
    "duration": 15,
    "start_time": "2022-03-29T13:04:25.455Z"
   },
   {
    "duration": 23,
    "start_time": "2022-03-29T13:04:25.472Z"
   },
   {
    "duration": 6,
    "start_time": "2022-03-29T13:04:25.497Z"
   },
   {
    "duration": 223,
    "start_time": "2022-03-29T13:04:25.504Z"
   },
   {
    "duration": 135,
    "start_time": "2022-03-29T13:04:25.729Z"
   },
   {
    "duration": 7,
    "start_time": "2022-03-29T13:04:25.865Z"
   },
   {
    "duration": 268,
    "start_time": "2022-03-29T13:04:25.875Z"
   },
   {
    "duration": 240,
    "start_time": "2022-03-29T13:09:35.489Z"
   },
   {
    "duration": 3,
    "start_time": "2022-03-29T13:09:39.372Z"
   },
   {
    "duration": 68,
    "start_time": "2022-03-29T13:09:39.377Z"
   },
   {
    "duration": 4,
    "start_time": "2022-03-29T13:09:39.446Z"
   },
   {
    "duration": 10,
    "start_time": "2022-03-29T13:09:39.452Z"
   },
   {
    "duration": 19,
    "start_time": "2022-03-29T13:09:39.463Z"
   },
   {
    "duration": 4,
    "start_time": "2022-03-29T13:09:39.483Z"
   },
   {
    "duration": 204,
    "start_time": "2022-03-29T13:09:39.489Z"
   },
   {
    "duration": 129,
    "start_time": "2022-03-29T13:09:39.694Z"
   },
   {
    "duration": 9,
    "start_time": "2022-03-29T13:09:39.826Z"
   },
   {
    "duration": 254,
    "start_time": "2022-03-29T13:09:39.837Z"
   },
   {
    "duration": 244,
    "start_time": "2022-03-29T13:11:36.330Z"
   },
   {
    "duration": 239,
    "start_time": "2022-03-29T13:12:15.253Z"
   },
   {
    "duration": 330,
    "start_time": "2022-03-29T13:12:54.129Z"
   },
   {
    "duration": 237,
    "start_time": "2022-03-29T13:13:11.524Z"
   },
   {
    "duration": 225,
    "start_time": "2022-03-29T13:13:20.499Z"
   },
   {
    "duration": 147,
    "start_time": "2022-03-29T13:13:27.481Z"
   },
   {
    "duration": 235,
    "start_time": "2022-03-29T13:13:37.322Z"
   },
   {
    "duration": 232,
    "start_time": "2022-03-29T13:14:14.676Z"
   },
   {
    "duration": 3,
    "start_time": "2022-03-29T13:14:18.913Z"
   },
   {
    "duration": 68,
    "start_time": "2022-03-29T13:14:18.918Z"
   },
   {
    "duration": 4,
    "start_time": "2022-03-29T13:14:18.988Z"
   },
   {
    "duration": 12,
    "start_time": "2022-03-29T13:14:18.994Z"
   },
   {
    "duration": 35,
    "start_time": "2022-03-29T13:14:19.007Z"
   },
   {
    "duration": 4,
    "start_time": "2022-03-29T13:14:19.043Z"
   },
   {
    "duration": 186,
    "start_time": "2022-03-29T13:14:19.049Z"
   },
   {
    "duration": 126,
    "start_time": "2022-03-29T13:14:19.237Z"
   },
   {
    "duration": 6,
    "start_time": "2022-03-29T13:14:19.365Z"
   },
   {
    "duration": 247,
    "start_time": "2022-03-29T13:14:19.372Z"
   },
   {
    "duration": 235,
    "start_time": "2022-03-29T13:15:02.581Z"
   },
   {
    "duration": 233,
    "start_time": "2022-03-29T13:15:07.281Z"
   },
   {
    "duration": 389,
    "start_time": "2022-03-29T13:16:01.783Z"
   },
   {
    "duration": 234,
    "start_time": "2022-03-29T13:16:08.253Z"
   },
   {
    "duration": 238,
    "start_time": "2022-03-29T13:16:24.776Z"
   },
   {
    "duration": 246,
    "start_time": "2022-03-29T13:16:28.928Z"
   },
   {
    "duration": 240,
    "start_time": "2022-03-29T13:16:37.729Z"
   },
   {
    "duration": 240,
    "start_time": "2022-03-29T13:16:49.303Z"
   },
   {
    "duration": 249,
    "start_time": "2022-03-29T13:17:02.824Z"
   },
   {
    "duration": 241,
    "start_time": "2022-03-29T13:17:10.613Z"
   },
   {
    "duration": 234,
    "start_time": "2022-03-29T13:17:18.443Z"
   },
   {
    "duration": 260,
    "start_time": "2022-03-29T13:18:01.117Z"
   },
   {
    "duration": 252,
    "start_time": "2022-03-29T13:18:05.333Z"
   },
   {
    "duration": 327,
    "start_time": "2022-03-29T13:18:23.910Z"
   },
   {
    "duration": 244,
    "start_time": "2022-03-29T13:18:51.905Z"
   },
   {
    "duration": 242,
    "start_time": "2022-03-29T13:18:56.249Z"
   },
   {
    "duration": 15,
    "start_time": "2022-03-29T13:21:18.690Z"
   },
   {
    "duration": 9,
    "start_time": "2022-03-29T13:21:30.306Z"
   },
   {
    "duration": 224,
    "start_time": "2022-03-29T13:22:41.455Z"
   },
   {
    "duration": 9,
    "start_time": "2022-03-29T13:23:38.907Z"
   },
   {
    "duration": 15,
    "start_time": "2022-03-29T13:23:44.491Z"
   },
   {
    "duration": 182,
    "start_time": "2022-03-29T13:26:03.461Z"
   },
   {
    "duration": 18,
    "start_time": "2022-03-29T13:26:06.308Z"
   },
   {
    "duration": 13,
    "start_time": "2022-03-29T13:26:39.746Z"
   },
   {
    "duration": 18,
    "start_time": "2022-03-29T13:27:06.486Z"
   },
   {
    "duration": 4,
    "start_time": "2022-03-29T13:27:43.061Z"
   },
   {
    "duration": 8,
    "start_time": "2022-03-29T13:27:47.237Z"
   },
   {
    "duration": 11,
    "start_time": "2022-03-29T13:28:11.997Z"
   },
   {
    "duration": 1981,
    "start_time": "2022-03-29T13:28:32.919Z"
   },
   {
    "duration": 11,
    "start_time": "2022-03-29T13:28:42.628Z"
   },
   {
    "duration": 15,
    "start_time": "2022-03-29T13:28:50.974Z"
   },
   {
    "duration": 11,
    "start_time": "2022-03-29T13:28:56.919Z"
   },
   {
    "duration": 18,
    "start_time": "2022-03-29T13:34:15.983Z"
   },
   {
    "duration": 11,
    "start_time": "2022-03-29T13:34:55.869Z"
   },
   {
    "duration": 18,
    "start_time": "2022-03-29T13:35:03.750Z"
   },
   {
    "duration": 23,
    "start_time": "2022-03-29T13:35:24.802Z"
   },
   {
    "duration": 16,
    "start_time": "2022-03-29T13:35:34.285Z"
   },
   {
    "duration": 17,
    "start_time": "2022-03-29T13:35:57.098Z"
   },
   {
    "duration": 26,
    "start_time": "2022-03-29T13:36:49.965Z"
   },
   {
    "duration": 17,
    "start_time": "2022-03-29T13:36:55.622Z"
   },
   {
    "duration": 17,
    "start_time": "2022-03-29T13:37:14.141Z"
   },
   {
    "duration": 16,
    "start_time": "2022-03-29T13:37:19.313Z"
   },
   {
    "duration": 17,
    "start_time": "2022-03-29T13:37:31.533Z"
   },
   {
    "duration": 17,
    "start_time": "2022-03-29T13:37:43.757Z"
   },
   {
    "duration": 142,
    "start_time": "2022-03-29T13:41:08.494Z"
   },
   {
    "duration": 18,
    "start_time": "2022-03-29T13:41:15.527Z"
   },
   {
    "duration": 18,
    "start_time": "2022-03-29T13:41:29.977Z"
   },
   {
    "duration": 21,
    "start_time": "2022-03-29T13:43:48.129Z"
   },
   {
    "duration": 20,
    "start_time": "2022-03-29T13:44:02.527Z"
   },
   {
    "duration": 139,
    "start_time": "2022-03-29T13:45:08.742Z"
   },
   {
    "duration": 19,
    "start_time": "2022-03-29T13:45:33.829Z"
   },
   {
    "duration": 139,
    "start_time": "2022-03-29T13:45:51.543Z"
   },
   {
    "duration": 169,
    "start_time": "2022-03-29T13:46:13.622Z"
   },
   {
    "duration": 126,
    "start_time": "2022-03-29T13:46:40.416Z"
   },
   {
    "duration": 169,
    "start_time": "2022-03-29T13:46:53.144Z"
   },
   {
    "duration": 172,
    "start_time": "2022-03-29T13:47:04.802Z"
   },
   {
    "duration": 160,
    "start_time": "2022-03-29T13:48:02.037Z"
   },
   {
    "duration": 20,
    "start_time": "2022-03-29T13:48:28.945Z"
   },
   {
    "duration": 224,
    "start_time": "2022-03-29T13:49:08.114Z"
   },
   {
    "duration": 150,
    "start_time": "2022-03-29T13:49:46.871Z"
   },
   {
    "duration": 154,
    "start_time": "2022-03-29T13:49:59.788Z"
   },
   {
    "duration": 176,
    "start_time": "2022-03-29T13:50:55.944Z"
   },
   {
    "duration": 132,
    "start_time": "2022-03-29T13:52:23.890Z"
   },
   {
    "duration": 168,
    "start_time": "2022-03-29T13:52:55.411Z"
   },
   {
    "duration": 166,
    "start_time": "2022-03-29T13:53:27.748Z"
   },
   {
    "duration": 166,
    "start_time": "2022-03-29T13:53:57.296Z"
   },
   {
    "duration": 168,
    "start_time": "2022-03-29T13:54:09.119Z"
   },
   {
    "duration": 166,
    "start_time": "2022-03-29T13:54:15.677Z"
   },
   {
    "duration": 1173,
    "start_time": "2022-03-29T13:54:30.177Z"
   },
   {
    "duration": 73,
    "start_time": "2022-03-29T13:54:31.352Z"
   },
   {
    "duration": 9,
    "start_time": "2022-03-29T13:54:31.426Z"
   },
   {
    "duration": 23,
    "start_time": "2022-03-29T13:54:31.437Z"
   },
   {
    "duration": 19,
    "start_time": "2022-03-29T13:54:31.462Z"
   },
   {
    "duration": 4,
    "start_time": "2022-03-29T13:54:31.483Z"
   },
   {
    "duration": 197,
    "start_time": "2022-03-29T13:54:31.489Z"
   },
   {
    "duration": 124,
    "start_time": "2022-03-29T13:54:31.688Z"
   },
   {
    "duration": 6,
    "start_time": "2022-03-29T13:54:31.814Z"
   },
   {
    "duration": 287,
    "start_time": "2022-03-29T13:54:31.822Z"
   },
   {
    "duration": 194,
    "start_time": "2022-03-29T13:54:32.111Z"
   },
   {
    "duration": 45,
    "start_time": "2022-03-30T07:43:49.915Z"
   },
   {
    "duration": 1345,
    "start_time": "2022-03-30T07:43:57.246Z"
   },
   {
    "duration": 72,
    "start_time": "2022-03-30T07:43:58.593Z"
   },
   {
    "duration": 5,
    "start_time": "2022-03-30T07:43:58.666Z"
   },
   {
    "duration": 14,
    "start_time": "2022-03-30T07:43:58.672Z"
   },
   {
    "duration": 21,
    "start_time": "2022-03-30T07:43:58.688Z"
   },
   {
    "duration": 5,
    "start_time": "2022-03-30T07:43:58.710Z"
   },
   {
    "duration": 550,
    "start_time": "2022-03-30T07:43:58.737Z"
   },
   {
    "duration": 113,
    "start_time": "2022-03-30T07:46:09.220Z"
   },
   {
    "duration": 46,
    "start_time": "2022-03-30T07:46:24.864Z"
   },
   {
    "duration": 19,
    "start_time": "2022-03-30T07:46:43.899Z"
   },
   {
    "duration": 50,
    "start_time": "2022-03-30T07:47:15.028Z"
   },
   {
    "duration": 49,
    "start_time": "2022-03-30T07:50:14.883Z"
   },
   {
    "duration": 45,
    "start_time": "2022-03-30T07:51:55.349Z"
   },
   {
    "duration": 45,
    "start_time": "2022-03-30T07:52:26.901Z"
   },
   {
    "duration": 1311,
    "start_time": "2022-03-30T07:58:00.675Z"
   },
   {
    "duration": 76,
    "start_time": "2022-03-30T07:58:01.988Z"
   },
   {
    "duration": 4,
    "start_time": "2022-03-30T07:58:02.066Z"
   },
   {
    "duration": 18,
    "start_time": "2022-03-30T07:58:02.072Z"
   },
   {
    "duration": 23,
    "start_time": "2022-03-30T07:58:02.092Z"
   },
   {
    "duration": 24,
    "start_time": "2022-03-30T07:58:02.117Z"
   },
   {
    "duration": 133,
    "start_time": "2022-03-30T07:58:02.143Z"
   },
   {
    "duration": 3,
    "start_time": "2022-03-30T07:58:14.629Z"
   },
   {
    "duration": 76,
    "start_time": "2022-03-30T07:58:14.634Z"
   },
   {
    "duration": 5,
    "start_time": "2022-03-30T07:58:14.712Z"
   },
   {
    "duration": 20,
    "start_time": "2022-03-30T07:58:14.718Z"
   },
   {
    "duration": 24,
    "start_time": "2022-03-30T07:58:14.741Z"
   },
   {
    "duration": 5,
    "start_time": "2022-03-30T07:58:14.767Z"
   },
   {
    "duration": 228,
    "start_time": "2022-03-30T07:58:14.774Z"
   },
   {
    "duration": 3,
    "start_time": "2022-03-30T07:58:56.214Z"
   },
   {
    "duration": 79,
    "start_time": "2022-03-30T07:58:56.220Z"
   },
   {
    "duration": 4,
    "start_time": "2022-03-30T07:58:56.301Z"
   },
   {
    "duration": 13,
    "start_time": "2022-03-30T07:58:56.307Z"
   },
   {
    "duration": 31,
    "start_time": "2022-03-30T07:58:56.322Z"
   },
   {
    "duration": 5,
    "start_time": "2022-03-30T07:58:56.354Z"
   },
   {
    "duration": 203,
    "start_time": "2022-03-30T07:58:56.360Z"
   },
   {
    "duration": 201,
    "start_time": "2022-03-30T08:01:45.068Z"
   },
   {
    "duration": 60,
    "start_time": "2022-03-30T08:06:05.782Z"
   },
   {
    "duration": 21,
    "start_time": "2022-03-30T08:06:34.502Z"
   },
   {
    "duration": 23,
    "start_time": "2022-03-30T08:06:50.717Z"
   },
   {
    "duration": 3,
    "start_time": "2022-03-30T08:06:54.529Z"
   },
   {
    "duration": 75,
    "start_time": "2022-03-30T08:06:54.534Z"
   },
   {
    "duration": 4,
    "start_time": "2022-03-30T08:06:54.611Z"
   },
   {
    "duration": 21,
    "start_time": "2022-03-30T08:06:54.617Z"
   },
   {
    "duration": 17,
    "start_time": "2022-03-30T08:06:54.641Z"
   },
   {
    "duration": 4,
    "start_time": "2022-03-30T08:06:54.660Z"
   },
   {
    "duration": 26,
    "start_time": "2022-03-30T08:06:54.666Z"
   },
   {
    "duration": 15,
    "start_time": "2022-03-30T08:08:42.974Z"
   },
   {
    "duration": 15,
    "start_time": "2022-03-30T08:09:23.191Z"
   },
   {
    "duration": 15,
    "start_time": "2022-03-30T08:09:42.078Z"
   },
   {
    "duration": 16,
    "start_time": "2022-03-30T08:09:48.251Z"
   },
   {
    "duration": 16,
    "start_time": "2022-03-30T08:11:09.810Z"
   },
   {
    "duration": 21,
    "start_time": "2022-03-30T08:12:02.373Z"
   },
   {
    "duration": 50,
    "start_time": "2022-03-30T08:12:52.397Z"
   },
   {
    "duration": 216,
    "start_time": "2022-03-30T08:15:35.393Z"
   },
   {
    "duration": 48,
    "start_time": "2022-03-30T08:16:11.303Z"
   },
   {
    "duration": 50,
    "start_time": "2022-03-30T08:16:14.878Z"
   },
   {
    "duration": 50,
    "start_time": "2022-03-30T08:16:31.660Z"
   },
   {
    "duration": 46,
    "start_time": "2022-03-30T08:17:15.793Z"
   },
   {
    "duration": 49,
    "start_time": "2022-03-30T08:17:24.958Z"
   },
   {
    "duration": 3,
    "start_time": "2022-03-30T08:17:33.450Z"
   },
   {
    "duration": 89,
    "start_time": "2022-03-30T08:17:33.456Z"
   },
   {
    "duration": 4,
    "start_time": "2022-03-30T08:17:33.547Z"
   },
   {
    "duration": 15,
    "start_time": "2022-03-30T08:17:33.553Z"
   },
   {
    "duration": 23,
    "start_time": "2022-03-30T08:17:33.570Z"
   },
   {
    "duration": 6,
    "start_time": "2022-03-30T08:17:33.594Z"
   },
   {
    "duration": 72,
    "start_time": "2022-03-30T08:17:33.601Z"
   },
   {
    "duration": 68,
    "start_time": "2022-03-30T08:17:33.675Z"
   },
   {
    "duration": 8,
    "start_time": "2022-03-30T08:17:33.746Z"
   },
   {
    "duration": 12,
    "start_time": "2022-03-30T08:17:58.126Z"
   },
   {
    "duration": 21,
    "start_time": "2022-03-30T08:21:32.487Z"
   },
   {
    "duration": 22,
    "start_time": "2022-03-30T08:23:04.418Z"
   },
   {
    "duration": 4,
    "start_time": "2022-03-30T08:23:16.170Z"
   },
   {
    "duration": 74,
    "start_time": "2022-03-30T08:23:16.179Z"
   },
   {
    "duration": 5,
    "start_time": "2022-03-30T08:23:16.255Z"
   },
   {
    "duration": 12,
    "start_time": "2022-03-30T08:23:16.262Z"
   },
   {
    "duration": 19,
    "start_time": "2022-03-30T08:23:16.276Z"
   },
   {
    "duration": 5,
    "start_time": "2022-03-30T08:23:16.297Z"
   },
   {
    "duration": 74,
    "start_time": "2022-03-30T08:23:16.303Z"
   },
   {
    "duration": 59,
    "start_time": "2022-03-30T08:23:16.379Z"
   },
   {
    "duration": 6,
    "start_time": "2022-03-30T08:23:16.439Z"
   },
   {
    "duration": 27,
    "start_time": "2022-03-30T08:23:16.447Z"
   },
   {
    "duration": 56,
    "start_time": "2022-03-30T08:23:57.863Z"
   },
   {
    "duration": 1886,
    "start_time": "2022-03-30T08:40:08.864Z"
   },
   {
    "duration": 95,
    "start_time": "2022-03-30T08:40:10.753Z"
   },
   {
    "duration": 5,
    "start_time": "2022-03-30T08:40:10.850Z"
   },
   {
    "duration": 13,
    "start_time": "2022-03-30T08:40:10.868Z"
   },
   {
    "duration": 25,
    "start_time": "2022-03-30T08:40:10.883Z"
   },
   {
    "duration": 6,
    "start_time": "2022-03-30T08:40:10.910Z"
   },
   {
    "duration": 533,
    "start_time": "2022-03-30T08:40:10.918Z"
   },
   {
    "duration": 137,
    "start_time": "2022-03-30T08:40:11.453Z"
   },
   {
    "duration": 8,
    "start_time": "2022-03-30T08:40:11.593Z"
   },
   {
    "duration": 144,
    "start_time": "2022-03-30T08:40:11.603Z"
   },
   {
    "duration": 295,
    "start_time": "2022-03-30T08:42:08.815Z"
   },
   {
    "duration": 89,
    "start_time": "2022-03-30T08:42:19.665Z"
   },
   {
    "duration": 86,
    "start_time": "2022-03-30T08:42:33.959Z"
   },
   {
    "duration": 196,
    "start_time": "2022-03-30T08:42:58.421Z"
   },
   {
    "duration": 56,
    "start_time": "2022-03-30T08:43:35.922Z"
   },
   {
    "duration": 55,
    "start_time": "2022-03-30T08:43:50.982Z"
   },
   {
    "duration": 87,
    "start_time": "2022-03-30T08:44:12.679Z"
   },
   {
    "duration": 94,
    "start_time": "2022-03-30T08:44:15.984Z"
   },
   {
    "duration": 28,
    "start_time": "2022-03-30T08:46:41.806Z"
   },
   {
    "duration": 86,
    "start_time": "2022-03-30T08:46:50.545Z"
   },
   {
    "duration": 96,
    "start_time": "2022-03-30T08:47:13.081Z"
   },
   {
    "duration": 23,
    "start_time": "2022-03-30T08:47:39.393Z"
   },
   {
    "duration": 94,
    "start_time": "2022-03-30T08:47:43.099Z"
   },
   {
    "duration": 96,
    "start_time": "2022-03-30T08:47:49.871Z"
   },
   {
    "duration": 104,
    "start_time": "2022-03-30T08:48:02.871Z"
   },
   {
    "duration": 98,
    "start_time": "2022-03-30T08:48:24.160Z"
   },
   {
    "duration": 30,
    "start_time": "2022-03-30T08:48:39.466Z"
   },
   {
    "duration": 33,
    "start_time": "2022-03-30T08:48:57.174Z"
   },
   {
    "duration": 33,
    "start_time": "2022-03-30T08:49:03.786Z"
   },
   {
    "duration": 42,
    "start_time": "2022-03-30T08:49:14.371Z"
   },
   {
    "duration": 93,
    "start_time": "2022-03-30T08:49:19.697Z"
   },
   {
    "duration": 91,
    "start_time": "2022-03-30T08:50:09.925Z"
   },
   {
    "duration": 96,
    "start_time": "2022-03-30T08:50:18.507Z"
   },
   {
    "duration": 100,
    "start_time": "2022-03-30T08:50:30.683Z"
   },
   {
    "duration": 95,
    "start_time": "2022-03-30T08:50:37.583Z"
   },
   {
    "duration": 98,
    "start_time": "2022-03-30T08:51:04.173Z"
   },
   {
    "duration": 23,
    "start_time": "2022-03-30T08:51:14.961Z"
   },
   {
    "duration": 90,
    "start_time": "2022-03-30T08:51:21.856Z"
   },
   {
    "duration": 85,
    "start_time": "2022-03-30T08:51:39.474Z"
   },
   {
    "duration": 88,
    "start_time": "2022-03-30T08:51:53.292Z"
   },
   {
    "duration": 93,
    "start_time": "2022-03-30T08:52:14.216Z"
   },
   {
    "duration": 84,
    "start_time": "2022-03-30T08:52:58.254Z"
   },
   {
    "duration": 33,
    "start_time": "2022-03-30T08:53:17.411Z"
   },
   {
    "duration": 235,
    "start_time": "2022-03-30T08:53:27.454Z"
   },
   {
    "duration": 29,
    "start_time": "2022-03-30T08:53:48.374Z"
   },
   {
    "duration": 41,
    "start_time": "2022-03-30T08:54:55.157Z"
   },
   {
    "duration": 39,
    "start_time": "2022-03-30T08:55:17.879Z"
   },
   {
    "duration": 38,
    "start_time": "2022-03-30T08:55:35.542Z"
   },
   {
    "duration": 46,
    "start_time": "2022-03-30T08:55:48.586Z"
   },
   {
    "duration": 43,
    "start_time": "2022-03-30T08:55:53.219Z"
   },
   {
    "duration": 81,
    "start_time": "2022-03-30T08:56:00.649Z"
   },
   {
    "duration": 84,
    "start_time": "2022-03-30T08:56:22.215Z"
   },
   {
    "duration": 30,
    "start_time": "2022-03-30T08:56:39.649Z"
   },
   {
    "duration": 37,
    "start_time": "2022-03-30T08:57:19.623Z"
   },
   {
    "duration": 84,
    "start_time": "2022-03-30T08:57:37.891Z"
   },
   {
    "duration": 88,
    "start_time": "2022-03-30T08:57:45.359Z"
   },
   {
    "duration": 43,
    "start_time": "2022-03-30T08:58:09.598Z"
   },
   {
    "duration": 93,
    "start_time": "2022-03-30T08:59:08.858Z"
   },
   {
    "duration": 86,
    "start_time": "2022-03-30T08:59:57.330Z"
   },
   {
    "duration": 92,
    "start_time": "2022-03-30T09:00:13.314Z"
   },
   {
    "duration": 88,
    "start_time": "2022-03-30T09:00:29.811Z"
   },
   {
    "duration": 84,
    "start_time": "2022-03-30T09:01:21.901Z"
   },
   {
    "duration": 97,
    "start_time": "2022-03-30T09:01:46.215Z"
   },
   {
    "duration": 36,
    "start_time": "2022-03-30T09:03:47.714Z"
   },
   {
    "duration": 106,
    "start_time": "2022-03-30T09:03:58.205Z"
   },
   {
    "duration": 101,
    "start_time": "2022-03-30T09:04:15.668Z"
   },
   {
    "duration": 4,
    "start_time": "2022-03-30T09:05:39.748Z"
   },
   {
    "duration": 101,
    "start_time": "2022-03-30T09:05:39.754Z"
   },
   {
    "duration": 14,
    "start_time": "2022-03-30T09:05:39.857Z"
   },
   {
    "duration": 22,
    "start_time": "2022-03-30T09:05:39.873Z"
   },
   {
    "duration": 25,
    "start_time": "2022-03-30T09:05:39.899Z"
   },
   {
    "duration": 6,
    "start_time": "2022-03-30T09:05:39.927Z"
   },
   {
    "duration": 104,
    "start_time": "2022-03-30T09:05:39.935Z"
   },
   {
    "duration": 85,
    "start_time": "2022-03-30T09:05:40.041Z"
   },
   {
    "duration": 9,
    "start_time": "2022-03-30T09:05:40.129Z"
   },
   {
    "duration": 5,
    "start_time": "2022-03-30T09:05:43.917Z"
   },
   {
    "duration": 99,
    "start_time": "2022-03-30T09:05:43.926Z"
   },
   {
    "duration": 5,
    "start_time": "2022-03-30T09:05:44.028Z"
   },
   {
    "duration": 35,
    "start_time": "2022-03-30T09:05:44.036Z"
   },
   {
    "duration": 29,
    "start_time": "2022-03-30T09:05:44.073Z"
   },
   {
    "duration": 6,
    "start_time": "2022-03-30T09:05:44.104Z"
   },
   {
    "duration": 114,
    "start_time": "2022-03-30T09:05:44.113Z"
   },
   {
    "duration": 93,
    "start_time": "2022-03-30T09:05:44.230Z"
   },
   {
    "duration": 8,
    "start_time": "2022-03-30T09:05:44.325Z"
   },
   {
    "duration": 120,
    "start_time": "2022-03-30T09:05:44.336Z"
   },
   {
    "duration": 152,
    "start_time": "2022-03-30T09:06:51.175Z"
   },
   {
    "duration": 1839,
    "start_time": "2022-03-30T09:11:39.213Z"
   },
   {
    "duration": 34,
    "start_time": "2022-03-30T09:12:27.112Z"
   },
   {
    "duration": 118,
    "start_time": "2022-03-30T09:14:15.764Z"
   },
   {
    "duration": 185,
    "start_time": "2022-03-30T09:15:30.687Z"
   },
   {
    "duration": 77,
    "start_time": "2022-03-30T09:16:48.397Z"
   },
   {
    "duration": 75,
    "start_time": "2022-03-30T09:16:57.198Z"
   },
   {
    "duration": 1603,
    "start_time": "2022-03-30T09:18:32.689Z"
   },
   {
    "duration": 95,
    "start_time": "2022-03-30T09:18:34.295Z"
   },
   {
    "duration": 7,
    "start_time": "2022-03-30T09:18:34.393Z"
   },
   {
    "duration": 13,
    "start_time": "2022-03-30T09:18:34.404Z"
   },
   {
    "duration": 68,
    "start_time": "2022-03-30T09:18:34.420Z"
   },
   {
    "duration": 9,
    "start_time": "2022-03-30T09:18:34.491Z"
   },
   {
    "duration": 542,
    "start_time": "2022-03-30T09:18:34.503Z"
   },
   {
    "duration": 139,
    "start_time": "2022-03-30T09:18:35.047Z"
   },
   {
    "duration": 8,
    "start_time": "2022-03-30T09:18:35.188Z"
   },
   {
    "duration": 149,
    "start_time": "2022-03-30T09:18:35.199Z"
   },
   {
    "duration": 84,
    "start_time": "2022-03-30T09:18:35.350Z"
   },
   {
    "duration": 225,
    "start_time": "2022-03-30T09:32:58.835Z"
   },
   {
    "duration": 26,
    "start_time": "2022-03-30T09:33:22.855Z"
   },
   {
    "duration": 29,
    "start_time": "2022-03-30T09:33:30.339Z"
   },
   {
    "duration": 25,
    "start_time": "2022-03-30T09:33:52.234Z"
   },
   {
    "duration": 14,
    "start_time": "2022-03-30T09:34:23.986Z"
   },
   {
    "duration": 22,
    "start_time": "2022-03-30T09:34:27.736Z"
   },
   {
    "duration": 18,
    "start_time": "2022-03-30T09:34:35.020Z"
   },
   {
    "duration": 21,
    "start_time": "2022-03-30T09:35:08.648Z"
   },
   {
    "duration": 5463,
    "start_time": "2022-03-30T09:40:14.583Z"
   },
   {
    "duration": 5782,
    "start_time": "2022-03-30T09:41:22.805Z"
   },
   {
    "duration": 14,
    "start_time": "2022-03-30T09:42:18.352Z"
   },
   {
    "duration": 14,
    "start_time": "2022-03-30T09:43:01.020Z"
   },
   {
    "duration": 15,
    "start_time": "2022-03-30T09:43:25.837Z"
   },
   {
    "duration": 15,
    "start_time": "2022-03-30T09:43:34.887Z"
   },
   {
    "duration": 15,
    "start_time": "2022-03-30T09:43:41.924Z"
   },
   {
    "duration": 18,
    "start_time": "2022-03-30T09:51:54.922Z"
   },
   {
    "duration": 16,
    "start_time": "2022-03-30T09:52:02.821Z"
   },
   {
    "duration": 16,
    "start_time": "2022-03-30T09:53:53.730Z"
   },
   {
    "duration": 14,
    "start_time": "2022-03-30T09:55:42.601Z"
   },
   {
    "duration": 13,
    "start_time": "2022-03-30T09:55:51.441Z"
   },
   {
    "duration": 11,
    "start_time": "2022-03-30T09:56:27.652Z"
   },
   {
    "duration": 129,
    "start_time": "2022-03-30T10:00:12.600Z"
   },
   {
    "duration": 14,
    "start_time": "2022-03-30T10:03:08.839Z"
   },
   {
    "duration": 14,
    "start_time": "2022-03-30T10:03:28.220Z"
   },
   {
    "duration": 12,
    "start_time": "2022-03-30T10:05:25.381Z"
   },
   {
    "duration": 10,
    "start_time": "2022-03-30T10:06:03.860Z"
   },
   {
    "duration": 16,
    "start_time": "2022-03-30T10:08:05.658Z"
   },
   {
    "duration": 17,
    "start_time": "2022-03-30T10:10:46.993Z"
   },
   {
    "duration": 12,
    "start_time": "2022-03-30T10:11:27.434Z"
   },
   {
    "duration": 16,
    "start_time": "2022-03-30T10:12:26.082Z"
   },
   {
    "duration": 5,
    "start_time": "2022-03-30T10:12:29.849Z"
   },
   {
    "duration": 106,
    "start_time": "2022-03-30T10:12:29.857Z"
   },
   {
    "duration": 6,
    "start_time": "2022-03-30T10:12:29.966Z"
   },
   {
    "duration": 21,
    "start_time": "2022-03-30T10:12:29.976Z"
   },
   {
    "duration": 32,
    "start_time": "2022-03-30T10:12:30.000Z"
   },
   {
    "duration": 7,
    "start_time": "2022-03-30T10:12:30.034Z"
   },
   {
    "duration": 81,
    "start_time": "2022-03-30T10:12:30.068Z"
   },
   {
    "duration": 93,
    "start_time": "2022-03-30T10:12:30.151Z"
   },
   {
    "duration": 26,
    "start_time": "2022-03-30T10:12:30.247Z"
   },
   {
    "duration": 127,
    "start_time": "2022-03-30T10:12:30.276Z"
   },
   {
    "duration": 90,
    "start_time": "2022-03-30T10:12:30.405Z"
   },
   {
    "duration": 11,
    "start_time": "2022-03-30T10:12:30.497Z"
   },
   {
    "duration": 32,
    "start_time": "2022-03-30T10:12:30.511Z"
   },
   {
    "duration": 19,
    "start_time": "2022-03-30T10:12:58.790Z"
   },
   {
    "duration": 17,
    "start_time": "2022-03-30T10:13:26.322Z"
   },
   {
    "duration": 18,
    "start_time": "2022-03-30T10:13:36.515Z"
   },
   {
    "duration": 5,
    "start_time": "2022-03-30T10:13:47.340Z"
   },
   {
    "duration": 93,
    "start_time": "2022-03-30T10:13:47.347Z"
   },
   {
    "duration": 5,
    "start_time": "2022-03-30T10:13:47.442Z"
   },
   {
    "duration": 10,
    "start_time": "2022-03-30T10:13:47.469Z"
   },
   {
    "duration": 26,
    "start_time": "2022-03-30T10:13:47.482Z"
   },
   {
    "duration": 6,
    "start_time": "2022-03-30T10:13:47.510Z"
   },
   {
    "duration": 112,
    "start_time": "2022-03-30T10:13:47.518Z"
   },
   {
    "duration": 92,
    "start_time": "2022-03-30T10:13:47.632Z"
   },
   {
    "duration": 8,
    "start_time": "2022-03-30T10:13:47.727Z"
   },
   {
    "duration": 114,
    "start_time": "2022-03-30T10:13:47.737Z"
   },
   {
    "duration": 80,
    "start_time": "2022-03-30T10:13:47.853Z"
   },
   {
    "duration": 38,
    "start_time": "2022-03-30T10:13:47.936Z"
   },
   {
    "duration": 5,
    "start_time": "2022-03-30T10:13:49.664Z"
   },
   {
    "duration": 105,
    "start_time": "2022-03-30T10:13:49.672Z"
   },
   {
    "duration": 7,
    "start_time": "2022-03-30T10:13:49.779Z"
   },
   {
    "duration": 15,
    "start_time": "2022-03-30T10:13:49.788Z"
   },
   {
    "duration": 62,
    "start_time": "2022-03-30T10:13:49.807Z"
   },
   {
    "duration": 8,
    "start_time": "2022-03-30T10:13:49.872Z"
   },
   {
    "duration": 101,
    "start_time": "2022-03-30T10:13:49.882Z"
   },
   {
    "duration": 86,
    "start_time": "2022-03-30T10:13:49.985Z"
   },
   {
    "duration": 9,
    "start_time": "2022-03-30T10:13:50.073Z"
   },
   {
    "duration": 117,
    "start_time": "2022-03-30T10:13:50.084Z"
   },
   {
    "duration": 91,
    "start_time": "2022-03-30T10:13:50.203Z"
   },
   {
    "duration": 14,
    "start_time": "2022-03-30T10:13:50.296Z"
   },
   {
    "duration": 22,
    "start_time": "2022-03-30T10:13:50.312Z"
   },
   {
    "duration": 11,
    "start_time": "2022-03-30T10:17:41.063Z"
   },
   {
    "duration": 4,
    "start_time": "2022-03-30T10:17:45.671Z"
   },
   {
    "duration": 100,
    "start_time": "2022-03-30T10:17:45.678Z"
   },
   {
    "duration": 5,
    "start_time": "2022-03-30T10:17:45.781Z"
   },
   {
    "duration": 17,
    "start_time": "2022-03-30T10:17:45.791Z"
   },
   {
    "duration": 74,
    "start_time": "2022-03-30T10:17:45.811Z"
   },
   {
    "duration": 8,
    "start_time": "2022-03-30T10:17:45.888Z"
   },
   {
    "duration": 151,
    "start_time": "2022-03-30T10:17:45.899Z"
   },
   {
    "duration": 128,
    "start_time": "2022-03-30T10:17:46.053Z"
   },
   {
    "duration": 9,
    "start_time": "2022-03-30T10:17:46.184Z"
   },
   {
    "duration": 201,
    "start_time": "2022-03-30T10:17:46.198Z"
   },
   {
    "duration": 93,
    "start_time": "2022-03-30T10:17:46.401Z"
   },
   {
    "duration": 13,
    "start_time": "2022-03-30T10:17:46.497Z"
   },
   {
    "duration": 9,
    "start_time": "2022-03-30T10:17:46.513Z"
   },
   {
    "duration": 11,
    "start_time": "2022-03-30T10:18:39.634Z"
   },
   {
    "duration": 525,
    "start_time": "2022-03-30T10:19:44.648Z"
   },
   {
    "duration": 13,
    "start_time": "2022-03-30T10:20:18.545Z"
   },
   {
    "duration": 1728,
    "start_time": "2022-03-30T10:20:43.940Z"
   },
   {
    "duration": 25,
    "start_time": "2022-03-30T10:21:05.621Z"
   },
   {
    "duration": 12,
    "start_time": "2022-03-30T10:21:30.181Z"
   },
   {
    "duration": 11,
    "start_time": "2022-03-30T10:22:11.961Z"
   },
   {
    "duration": 12,
    "start_time": "2022-03-30T10:22:30.695Z"
   },
   {
    "duration": 16,
    "start_time": "2022-03-30T10:22:59.440Z"
   },
   {
    "duration": 1998,
    "start_time": "2022-03-30T10:23:41.881Z"
   },
   {
    "duration": 18,
    "start_time": "2022-03-30T10:24:04.334Z"
   },
   {
    "duration": 16,
    "start_time": "2022-03-30T10:24:10.667Z"
   },
   {
    "duration": 19,
    "start_time": "2022-03-30T10:24:38.743Z"
   },
   {
    "duration": 2171,
    "start_time": "2022-03-30T10:25:02.408Z"
   },
   {
    "duration": 13,
    "start_time": "2022-03-30T10:25:17.895Z"
   },
   {
    "duration": 2018,
    "start_time": "2022-03-30T10:25:29.699Z"
   },
   {
    "duration": 33,
    "start_time": "2022-03-30T10:25:49.046Z"
   },
   {
    "duration": 28,
    "start_time": "2022-03-30T10:25:59.493Z"
   },
   {
    "duration": 25,
    "start_time": "2022-03-30T10:26:11.093Z"
   },
   {
    "duration": 15,
    "start_time": "2022-03-30T10:26:25.112Z"
   },
   {
    "duration": 30,
    "start_time": "2022-03-30T10:26:30.934Z"
   },
   {
    "duration": 22,
    "start_time": "2022-03-30T10:26:55.830Z"
   },
   {
    "duration": 23,
    "start_time": "2022-03-30T10:27:34.291Z"
   },
   {
    "duration": 22,
    "start_time": "2022-03-30T10:27:42.261Z"
   },
   {
    "duration": 23,
    "start_time": "2022-03-30T10:27:59.652Z"
   },
   {
    "duration": 22,
    "start_time": "2022-03-30T10:28:08.765Z"
   },
   {
    "duration": 21,
    "start_time": "2022-03-30T10:28:29.597Z"
   },
   {
    "duration": 9,
    "start_time": "2022-03-30T10:30:30.477Z"
   },
   {
    "duration": 18,
    "start_time": "2022-03-30T10:30:46.950Z"
   },
   {
    "duration": 4,
    "start_time": "2022-03-30T10:31:01.353Z"
   },
   {
    "duration": 101,
    "start_time": "2022-03-30T10:31:01.360Z"
   },
   {
    "duration": 7,
    "start_time": "2022-03-30T10:31:01.465Z"
   },
   {
    "duration": 51,
    "start_time": "2022-03-30T10:31:01.474Z"
   },
   {
    "duration": 49,
    "start_time": "2022-03-30T10:31:01.529Z"
   },
   {
    "duration": 12,
    "start_time": "2022-03-30T10:31:01.581Z"
   },
   {
    "duration": 99,
    "start_time": "2022-03-30T10:31:01.595Z"
   },
   {
    "duration": 89,
    "start_time": "2022-03-30T10:31:01.696Z"
   },
   {
    "duration": 8,
    "start_time": "2022-03-30T10:31:01.787Z"
   },
   {
    "duration": 122,
    "start_time": "2022-03-30T10:31:01.797Z"
   },
   {
    "duration": 87,
    "start_time": "2022-03-30T10:31:01.922Z"
   },
   {
    "duration": 11,
    "start_time": "2022-03-30T10:31:02.011Z"
   },
   {
    "duration": 34,
    "start_time": "2022-03-30T10:31:02.024Z"
   },
   {
    "duration": 4,
    "start_time": "2022-03-30T10:31:40.325Z"
   },
   {
    "duration": 91,
    "start_time": "2022-03-30T10:31:40.331Z"
   },
   {
    "duration": 7,
    "start_time": "2022-03-30T10:31:40.425Z"
   },
   {
    "duration": 34,
    "start_time": "2022-03-30T10:31:40.434Z"
   },
   {
    "duration": 27,
    "start_time": "2022-03-30T10:31:40.473Z"
   },
   {
    "duration": 8,
    "start_time": "2022-03-30T10:31:40.503Z"
   },
   {
    "duration": 117,
    "start_time": "2022-03-30T10:31:40.514Z"
   },
   {
    "duration": 92,
    "start_time": "2022-03-30T10:31:40.634Z"
   },
   {
    "duration": 11,
    "start_time": "2022-03-30T10:31:40.729Z"
   },
   {
    "duration": 125,
    "start_time": "2022-03-30T10:31:40.742Z"
   },
   {
    "duration": 79,
    "start_time": "2022-03-30T10:31:40.870Z"
   },
   {
    "duration": 21,
    "start_time": "2022-03-30T10:31:40.968Z"
   },
   {
    "duration": 5,
    "start_time": "2022-03-30T10:37:23.783Z"
   },
   {
    "duration": 99,
    "start_time": "2022-03-30T10:37:23.792Z"
   },
   {
    "duration": 6,
    "start_time": "2022-03-30T10:37:23.893Z"
   },
   {
    "duration": 16,
    "start_time": "2022-03-30T10:37:23.901Z"
   },
   {
    "duration": 56,
    "start_time": "2022-03-30T10:37:23.921Z"
   },
   {
    "duration": 6,
    "start_time": "2022-03-30T10:37:23.980Z"
   },
   {
    "duration": 94,
    "start_time": "2022-03-30T10:37:23.988Z"
   },
   {
    "duration": 98,
    "start_time": "2022-03-30T10:37:24.084Z"
   },
   {
    "duration": 8,
    "start_time": "2022-03-30T10:37:24.184Z"
   },
   {
    "duration": 136,
    "start_time": "2022-03-30T10:37:24.194Z"
   },
   {
    "duration": 90,
    "start_time": "2022-03-30T10:37:24.332Z"
   },
   {
    "duration": 45,
    "start_time": "2022-03-30T10:37:24.424Z"
   },
   {
    "duration": 18,
    "start_time": "2022-03-30T10:37:24.472Z"
   },
   {
    "duration": 15,
    "start_time": "2022-03-30T10:37:54.802Z"
   },
   {
    "duration": 4,
    "start_time": "2022-03-30T10:38:04.392Z"
   },
   {
    "duration": 91,
    "start_time": "2022-03-30T10:38:04.399Z"
   },
   {
    "duration": 6,
    "start_time": "2022-03-30T10:38:04.493Z"
   },
   {
    "duration": 13,
    "start_time": "2022-03-30T10:38:04.501Z"
   },
   {
    "duration": 60,
    "start_time": "2022-03-30T10:38:04.517Z"
   },
   {
    "duration": 6,
    "start_time": "2022-03-30T10:38:04.579Z"
   },
   {
    "duration": 100,
    "start_time": "2022-03-30T10:38:04.587Z"
   },
   {
    "duration": 89,
    "start_time": "2022-03-30T10:38:04.690Z"
   },
   {
    "duration": 9,
    "start_time": "2022-03-30T10:38:04.781Z"
   },
   {
    "duration": 118,
    "start_time": "2022-03-30T10:38:04.793Z"
   },
   {
    "duration": 93,
    "start_time": "2022-03-30T10:38:04.915Z"
   },
   {
    "duration": 23,
    "start_time": "2022-03-30T10:38:05.011Z"
   },
   {
    "duration": 40,
    "start_time": "2022-03-30T10:38:05.036Z"
   },
   {
    "duration": 16,
    "start_time": "2022-03-30T10:38:31.517Z"
   },
   {
    "duration": 4,
    "start_time": "2022-03-30T10:39:04.015Z"
   },
   {
    "duration": 97,
    "start_time": "2022-03-30T10:39:04.023Z"
   },
   {
    "duration": 6,
    "start_time": "2022-03-30T10:39:04.124Z"
   },
   {
    "duration": 37,
    "start_time": "2022-03-30T10:39:04.134Z"
   },
   {
    "duration": 26,
    "start_time": "2022-03-30T10:39:04.173Z"
   },
   {
    "duration": 6,
    "start_time": "2022-03-30T10:39:04.201Z"
   },
   {
    "duration": 121,
    "start_time": "2022-03-30T10:39:04.210Z"
   },
   {
    "duration": 87,
    "start_time": "2022-03-30T10:39:04.333Z"
   },
   {
    "duration": 11,
    "start_time": "2022-03-30T10:39:04.423Z"
   },
   {
    "duration": 132,
    "start_time": "2022-03-30T10:39:04.438Z"
   },
   {
    "duration": 94,
    "start_time": "2022-03-30T10:39:04.573Z"
   },
   {
    "duration": 32,
    "start_time": "2022-03-30T10:39:04.670Z"
   },
   {
    "duration": 33,
    "start_time": "2022-03-30T10:39:04.705Z"
   },
   {
    "duration": 4,
    "start_time": "2022-03-30T10:41:36.807Z"
   },
   {
    "duration": 91,
    "start_time": "2022-03-30T10:41:36.814Z"
   },
   {
    "duration": 5,
    "start_time": "2022-03-30T10:41:36.907Z"
   },
   {
    "duration": 13,
    "start_time": "2022-03-30T10:41:36.916Z"
   },
   {
    "duration": 55,
    "start_time": "2022-03-30T10:41:36.932Z"
   },
   {
    "duration": 7,
    "start_time": "2022-03-30T10:41:36.990Z"
   },
   {
    "duration": 104,
    "start_time": "2022-03-30T10:41:37.000Z"
   },
   {
    "duration": 94,
    "start_time": "2022-03-30T10:41:37.107Z"
   },
   {
    "duration": 8,
    "start_time": "2022-03-30T10:41:37.204Z"
   },
   {
    "duration": 123,
    "start_time": "2022-03-30T10:41:37.214Z"
   },
   {
    "duration": 83,
    "start_time": "2022-03-30T10:41:37.339Z"
   },
   {
    "duration": 42,
    "start_time": "2022-03-30T10:41:37.425Z"
   },
   {
    "duration": 21,
    "start_time": "2022-03-30T10:41:37.469Z"
   },
   {
    "duration": 21,
    "start_time": "2022-03-30T10:46:14.574Z"
   },
   {
    "duration": 3258,
    "start_time": "2022-03-30T10:46:41.295Z"
   },
   {
    "duration": 16,
    "start_time": "2022-03-30T10:46:56.835Z"
   },
   {
    "duration": 1738,
    "start_time": "2022-03-30T10:47:28.949Z"
   },
   {
    "duration": 13,
    "start_time": "2022-03-30T10:47:39.120Z"
   },
   {
    "duration": 10,
    "start_time": "2022-03-30T10:47:50.385Z"
   },
   {
    "duration": 12,
    "start_time": "2022-03-30T10:48:03.804Z"
   },
   {
    "duration": 15,
    "start_time": "2022-03-30T10:50:18.696Z"
   },
   {
    "duration": 22,
    "start_time": "2022-03-30T10:52:10.209Z"
   },
   {
    "duration": 46,
    "start_time": "2022-03-30T10:53:17.787Z"
   },
   {
    "duration": 5,
    "start_time": "2022-03-30T10:53:30.648Z"
   },
   {
    "duration": 105,
    "start_time": "2022-03-30T10:53:30.655Z"
   },
   {
    "duration": 6,
    "start_time": "2022-03-30T10:53:30.763Z"
   },
   {
    "duration": 37,
    "start_time": "2022-03-30T10:53:30.772Z"
   },
   {
    "duration": 40,
    "start_time": "2022-03-30T10:53:30.811Z"
   },
   {
    "duration": 6,
    "start_time": "2022-03-30T10:53:30.853Z"
   },
   {
    "duration": 84,
    "start_time": "2022-03-30T10:53:30.862Z"
   },
   {
    "duration": 81,
    "start_time": "2022-03-30T10:53:30.948Z"
   },
   {
    "duration": 9,
    "start_time": "2022-03-30T10:53:31.031Z"
   },
   {
    "duration": 114,
    "start_time": "2022-03-30T10:53:31.067Z"
   },
   {
    "duration": 96,
    "start_time": "2022-03-30T10:53:31.184Z"
   },
   {
    "duration": 23,
    "start_time": "2022-03-30T10:53:31.282Z"
   },
   {
    "duration": 20,
    "start_time": "2022-03-30T10:53:31.308Z"
   },
   {
    "duration": 82,
    "start_time": "2022-03-30T10:53:31.330Z"
   },
   {
    "duration": 13,
    "start_time": "2022-03-30T10:54:21.085Z"
   },
   {
    "duration": 12,
    "start_time": "2022-03-30T10:54:25.865Z"
   },
   {
    "duration": 15,
    "start_time": "2022-03-30T10:54:29.000Z"
   },
   {
    "duration": 13,
    "start_time": "2022-03-30T10:54:46.775Z"
   },
   {
    "duration": 12,
    "start_time": "2022-03-30T10:54:49.065Z"
   },
   {
    "duration": 46,
    "start_time": "2022-03-30T10:55:31.698Z"
   },
   {
    "duration": 38,
    "start_time": "2022-03-30T10:55:42.383Z"
   },
   {
    "duration": 11,
    "start_time": "2022-03-30T10:57:56.651Z"
   },
   {
    "duration": 13,
    "start_time": "2022-03-30T10:58:08.108Z"
   },
   {
    "duration": 13,
    "start_time": "2022-03-30T10:58:19.328Z"
   },
   {
    "duration": 17,
    "start_time": "2022-03-30T11:00:05.334Z"
   },
   {
    "duration": 132,
    "start_time": "2022-03-30T11:00:47.616Z"
   },
   {
    "duration": 5,
    "start_time": "2022-03-30T11:05:27.178Z"
   },
   {
    "duration": 97,
    "start_time": "2022-03-30T11:05:27.185Z"
   },
   {
    "duration": 7,
    "start_time": "2022-03-30T11:05:27.284Z"
   },
   {
    "duration": 21,
    "start_time": "2022-03-30T11:05:27.295Z"
   },
   {
    "duration": 56,
    "start_time": "2022-03-30T11:05:27.318Z"
   },
   {
    "duration": 8,
    "start_time": "2022-03-30T11:05:27.377Z"
   },
   {
    "duration": 104,
    "start_time": "2022-03-30T11:05:27.387Z"
   },
   {
    "duration": 99,
    "start_time": "2022-03-30T11:05:27.493Z"
   },
   {
    "duration": 10,
    "start_time": "2022-03-30T11:05:27.597Z"
   },
   {
    "duration": 131,
    "start_time": "2022-03-30T11:05:27.610Z"
   },
   {
    "duration": 92,
    "start_time": "2022-03-30T11:05:27.744Z"
   },
   {
    "duration": 45,
    "start_time": "2022-03-30T11:05:27.839Z"
   },
   {
    "duration": 33,
    "start_time": "2022-03-30T11:05:27.886Z"
   },
   {
    "duration": 271,
    "start_time": "2022-03-30T11:05:27.922Z"
   },
   {
    "duration": 10,
    "start_time": "2022-03-30T11:05:41.965Z"
   },
   {
    "duration": 13,
    "start_time": "2022-03-30T11:06:16.867Z"
   },
   {
    "duration": 11,
    "start_time": "2022-03-30T11:06:37.587Z"
   },
   {
    "duration": 8,
    "start_time": "2022-03-30T11:06:50.764Z"
   },
   {
    "duration": 19,
    "start_time": "2022-03-30T11:06:57.045Z"
   },
   {
    "duration": 5,
    "start_time": "2022-03-30T11:07:08.867Z"
   },
   {
    "duration": 105,
    "start_time": "2022-03-30T11:07:08.875Z"
   },
   {
    "duration": 6,
    "start_time": "2022-03-30T11:07:08.983Z"
   },
   {
    "duration": 18,
    "start_time": "2022-03-30T11:07:08.991Z"
   },
   {
    "duration": 27,
    "start_time": "2022-03-30T11:07:09.012Z"
   },
   {
    "duration": 31,
    "start_time": "2022-03-30T11:07:09.042Z"
   },
   {
    "duration": 102,
    "start_time": "2022-03-30T11:07:09.075Z"
   },
   {
    "duration": 88,
    "start_time": "2022-03-30T11:07:09.179Z"
   },
   {
    "duration": 8,
    "start_time": "2022-03-30T11:07:09.270Z"
   },
   {
    "duration": 128,
    "start_time": "2022-03-30T11:07:09.280Z"
   },
   {
    "duration": 91,
    "start_time": "2022-03-30T11:07:09.412Z"
   },
   {
    "duration": 22,
    "start_time": "2022-03-30T11:07:09.505Z"
   },
   {
    "duration": 51,
    "start_time": "2022-03-30T11:07:09.529Z"
   },
   {
    "duration": 18,
    "start_time": "2022-03-30T11:07:09.583Z"
   },
   {
    "duration": 17,
    "start_time": "2022-03-30T11:07:39.604Z"
   },
   {
    "duration": 16,
    "start_time": "2022-03-30T11:08:30.265Z"
   },
   {
    "duration": 6,
    "start_time": "2022-03-30T11:08:33.425Z"
   },
   {
    "duration": 166,
    "start_time": "2022-03-30T11:08:33.434Z"
   },
   {
    "duration": 6,
    "start_time": "2022-03-30T11:08:33.603Z"
   },
   {
    "duration": 15,
    "start_time": "2022-03-30T11:08:33.613Z"
   },
   {
    "duration": 58,
    "start_time": "2022-03-30T11:08:33.631Z"
   },
   {
    "duration": 7,
    "start_time": "2022-03-30T11:08:33.691Z"
   },
   {
    "duration": 112,
    "start_time": "2022-03-30T11:08:33.700Z"
   },
   {
    "duration": 97,
    "start_time": "2022-03-30T11:08:33.815Z"
   },
   {
    "duration": 8,
    "start_time": "2022-03-30T11:08:33.914Z"
   },
   {
    "duration": 130,
    "start_time": "2022-03-30T11:08:33.926Z"
   },
   {
    "duration": 84,
    "start_time": "2022-03-30T11:08:34.058Z"
   },
   {
    "duration": 24,
    "start_time": "2022-03-30T11:08:34.168Z"
   },
   {
    "duration": 23,
    "start_time": "2022-03-30T11:08:34.194Z"
   },
   {
    "duration": 15,
    "start_time": "2022-03-30T11:08:34.220Z"
   },
   {
    "duration": 91,
    "start_time": "2022-03-30T11:09:36.299Z"
   },
   {
    "duration": 4,
    "start_time": "2022-03-30T11:09:38.983Z"
   },
   {
    "duration": 106,
    "start_time": "2022-03-30T11:09:38.990Z"
   },
   {
    "duration": 7,
    "start_time": "2022-03-30T11:09:39.098Z"
   },
   {
    "duration": 15,
    "start_time": "2022-03-30T11:09:39.109Z"
   },
   {
    "duration": 62,
    "start_time": "2022-03-30T11:09:39.127Z"
   },
   {
    "duration": 9,
    "start_time": "2022-03-30T11:09:39.191Z"
   },
   {
    "duration": 109,
    "start_time": "2022-03-30T11:09:39.202Z"
   },
   {
    "duration": 91,
    "start_time": "2022-03-30T11:09:39.313Z"
   },
   {
    "duration": 8,
    "start_time": "2022-03-30T11:09:39.407Z"
   },
   {
    "duration": 120,
    "start_time": "2022-03-30T11:09:39.418Z"
   },
   {
    "duration": 86,
    "start_time": "2022-03-30T11:09:39.541Z"
   },
   {
    "duration": 42,
    "start_time": "2022-03-30T11:09:39.629Z"
   },
   {
    "duration": 22,
    "start_time": "2022-03-30T11:09:39.673Z"
   },
   {
    "duration": 111,
    "start_time": "2022-03-30T11:09:39.697Z"
   },
   {
    "duration": 16,
    "start_time": "2022-03-30T11:10:33.409Z"
   },
   {
    "duration": 72,
    "start_time": "2022-03-30T13:23:47.782Z"
   },
   {
    "duration": 1950,
    "start_time": "2022-03-30T13:23:57.833Z"
   },
   {
    "duration": 96,
    "start_time": "2022-03-30T13:23:59.786Z"
   },
   {
    "duration": 5,
    "start_time": "2022-03-30T13:23:59.884Z"
   },
   {
    "duration": 12,
    "start_time": "2022-03-30T13:23:59.892Z"
   },
   {
    "duration": 54,
    "start_time": "2022-03-30T13:23:59.907Z"
   },
   {
    "duration": 6,
    "start_time": "2022-03-30T13:23:59.963Z"
   },
   {
    "duration": 582,
    "start_time": "2022-03-30T13:23:59.971Z"
   },
   {
    "duration": 124,
    "start_time": "2022-03-30T13:24:00.555Z"
   },
   {
    "duration": 62,
    "start_time": "2022-03-30T13:24:00.681Z"
   },
   {
    "duration": 147,
    "start_time": "2022-03-30T13:24:00.748Z"
   },
   {
    "duration": 90,
    "start_time": "2022-03-30T13:24:00.898Z"
   },
   {
    "duration": 21,
    "start_time": "2022-03-30T13:24:00.990Z"
   },
   {
    "duration": 46,
    "start_time": "2022-03-30T13:24:01.013Z"
   },
   {
    "duration": 14,
    "start_time": "2022-03-30T13:24:01.061Z"
   },
   {
    "duration": 17,
    "start_time": "2022-03-30T13:25:02.800Z"
   },
   {
    "duration": 5,
    "start_time": "2022-03-30T13:25:08.252Z"
   },
   {
    "duration": 147,
    "start_time": "2022-03-30T13:25:08.259Z"
   },
   {
    "duration": 7,
    "start_time": "2022-03-30T13:25:08.409Z"
   },
   {
    "duration": 29,
    "start_time": "2022-03-30T13:25:08.419Z"
   },
   {
    "duration": 32,
    "start_time": "2022-03-30T13:25:08.451Z"
   },
   {
    "duration": 7,
    "start_time": "2022-03-30T13:25:08.485Z"
   },
   {
    "duration": 113,
    "start_time": "2022-03-30T13:25:08.494Z"
   },
   {
    "duration": 89,
    "start_time": "2022-03-30T13:25:08.609Z"
   },
   {
    "duration": 9,
    "start_time": "2022-03-30T13:25:08.701Z"
   },
   {
    "duration": 195,
    "start_time": "2022-03-30T13:25:08.712Z"
   },
   {
    "duration": 88,
    "start_time": "2022-03-30T13:25:08.909Z"
   },
   {
    "duration": 45,
    "start_time": "2022-03-30T13:25:08.999Z"
   },
   {
    "duration": 22,
    "start_time": "2022-03-30T13:25:09.046Z"
   },
   {
    "duration": 15,
    "start_time": "2022-03-30T13:25:09.071Z"
   },
   {
    "duration": 432,
    "start_time": "2022-03-30T13:25:29.653Z"
   },
   {
    "duration": 1134,
    "start_time": "2022-03-30T13:25:43.642Z"
   },
   {
    "duration": 1225,
    "start_time": "2022-03-30T13:35:35.508Z"
   },
   {
    "duration": 9,
    "start_time": "2022-03-30T13:36:29.687Z"
   },
   {
    "duration": 134,
    "start_time": "2022-03-30T13:36:29.699Z"
   },
   {
    "duration": 7,
    "start_time": "2022-03-30T13:36:29.843Z"
   },
   {
    "duration": 32,
    "start_time": "2022-03-30T13:36:29.855Z"
   },
   {
    "duration": 28,
    "start_time": "2022-03-30T13:36:29.890Z"
   },
   {
    "duration": 23,
    "start_time": "2022-03-30T13:36:29.921Z"
   },
   {
    "duration": 80,
    "start_time": "2022-03-30T13:36:29.946Z"
   },
   {
    "duration": 91,
    "start_time": "2022-03-30T13:36:30.029Z"
   },
   {
    "duration": 25,
    "start_time": "2022-03-30T13:36:30.123Z"
   },
   {
    "duration": 139,
    "start_time": "2022-03-30T13:36:30.152Z"
   },
   {
    "duration": 98,
    "start_time": "2022-03-30T13:36:30.294Z"
   },
   {
    "duration": 28,
    "start_time": "2022-03-30T13:36:30.395Z"
   },
   {
    "duration": 42,
    "start_time": "2022-03-30T13:36:30.426Z"
   },
   {
    "duration": 25,
    "start_time": "2022-03-30T13:36:30.472Z"
   },
   {
    "duration": 1144,
    "start_time": "2022-03-30T13:36:50.148Z"
   },
   {
    "duration": 4,
    "start_time": "2022-03-30T13:36:56.771Z"
   },
   {
    "duration": 106,
    "start_time": "2022-03-30T13:36:56.778Z"
   },
   {
    "duration": 5,
    "start_time": "2022-03-30T13:36:56.887Z"
   },
   {
    "duration": 15,
    "start_time": "2022-03-30T13:36:56.895Z"
   },
   {
    "duration": 58,
    "start_time": "2022-03-30T13:36:56.913Z"
   },
   {
    "duration": 8,
    "start_time": "2022-03-30T13:36:56.973Z"
   },
   {
    "duration": 130,
    "start_time": "2022-03-30T13:36:56.984Z"
   },
   {
    "duration": 85,
    "start_time": "2022-03-30T13:36:57.118Z"
   },
   {
    "duration": 9,
    "start_time": "2022-03-30T13:36:57.206Z"
   },
   {
    "duration": 128,
    "start_time": "2022-03-30T13:36:57.242Z"
   },
   {
    "duration": 134,
    "start_time": "2022-03-30T13:36:57.372Z"
   },
   {
    "duration": 41,
    "start_time": "2022-03-30T13:36:57.508Z"
   },
   {
    "duration": 26,
    "start_time": "2022-03-30T13:36:57.552Z"
   },
   {
    "duration": 17,
    "start_time": "2022-03-30T13:36:57.581Z"
   },
   {
    "duration": 848,
    "start_time": "2022-03-30T13:39:05.908Z"
   },
   {
    "duration": 20,
    "start_time": "2022-03-30T13:40:24.375Z"
   },
   {
    "duration": 22,
    "start_time": "2022-03-30T13:41:02.629Z"
   },
   {
    "duration": 16,
    "start_time": "2022-03-30T13:41:15.717Z"
   },
   {
    "duration": 8,
    "start_time": "2022-03-30T13:41:43.527Z"
   },
   {
    "duration": 197,
    "start_time": "2022-03-30T13:41:57.938Z"
   },
   {
    "duration": 21,
    "start_time": "2022-03-30T13:42:01.531Z"
   },
   {
    "duration": 2152,
    "start_time": "2022-03-30T13:49:21.757Z"
   },
   {
    "duration": 107,
    "start_time": "2022-03-30T13:49:23.912Z"
   },
   {
    "duration": 5,
    "start_time": "2022-03-30T13:49:24.023Z"
   },
   {
    "duration": 12,
    "start_time": "2022-03-30T13:49:24.042Z"
   },
   {
    "duration": 33,
    "start_time": "2022-03-30T13:49:24.056Z"
   },
   {
    "duration": 7,
    "start_time": "2022-03-30T13:49:24.092Z"
   },
   {
    "duration": 679,
    "start_time": "2022-03-30T13:49:24.102Z"
   },
   {
    "duration": 188,
    "start_time": "2022-03-30T13:49:24.783Z"
   },
   {
    "duration": 10,
    "start_time": "2022-03-30T13:49:24.975Z"
   },
   {
    "duration": 155,
    "start_time": "2022-03-30T13:49:24.989Z"
   },
   {
    "duration": 77,
    "start_time": "2022-03-30T13:49:25.147Z"
   },
   {
    "duration": 23,
    "start_time": "2022-03-30T13:49:25.243Z"
   },
   {
    "duration": 22,
    "start_time": "2022-03-30T13:49:25.268Z"
   },
   {
    "duration": 14,
    "start_time": "2022-03-30T13:49:25.292Z"
   },
   {
    "duration": 12,
    "start_time": "2022-03-30T13:52:54.445Z"
   },
   {
    "duration": 19,
    "start_time": "2022-03-30T13:52:59.947Z"
   },
   {
    "duration": 4,
    "start_time": "2022-03-30T13:53:15.188Z"
   },
   {
    "duration": 109,
    "start_time": "2022-03-30T13:53:15.195Z"
   },
   {
    "duration": 5,
    "start_time": "2022-03-30T13:53:15.306Z"
   },
   {
    "duration": 29,
    "start_time": "2022-03-30T13:53:15.316Z"
   },
   {
    "duration": 25,
    "start_time": "2022-03-30T13:53:15.347Z"
   },
   {
    "duration": 7,
    "start_time": "2022-03-30T13:53:15.374Z"
   },
   {
    "duration": 103,
    "start_time": "2022-03-30T13:53:15.383Z"
   },
   {
    "duration": 83,
    "start_time": "2022-03-30T13:53:15.489Z"
   },
   {
    "duration": 8,
    "start_time": "2022-03-30T13:53:15.575Z"
   },
   {
    "duration": 202,
    "start_time": "2022-03-30T13:53:15.585Z"
   },
   {
    "duration": 83,
    "start_time": "2022-03-30T13:53:15.789Z"
   },
   {
    "duration": 22,
    "start_time": "2022-03-30T13:53:15.874Z"
   },
   {
    "duration": 50,
    "start_time": "2022-03-30T13:53:15.898Z"
   },
   {
    "duration": 18,
    "start_time": "2022-03-30T13:53:15.950Z"
   },
   {
    "duration": 22,
    "start_time": "2022-03-30T13:53:30.531Z"
   },
   {
    "duration": 20,
    "start_time": "2022-03-30T13:53:36.126Z"
   },
   {
    "duration": 16,
    "start_time": "2022-03-30T13:54:09.239Z"
   },
   {
    "duration": 19,
    "start_time": "2022-03-30T13:54:57.247Z"
   },
   {
    "duration": 21,
    "start_time": "2022-03-30T13:55:05.290Z"
   },
   {
    "duration": 21,
    "start_time": "2022-03-30T13:56:12.675Z"
   },
   {
    "duration": 21,
    "start_time": "2022-03-30T13:57:02.165Z"
   },
   {
    "duration": 27,
    "start_time": "2022-03-30T13:57:07.761Z"
   },
   {
    "duration": 26,
    "start_time": "2022-03-30T13:58:21.674Z"
   },
   {
    "duration": 30,
    "start_time": "2022-03-30T13:58:27.940Z"
   },
   {
    "duration": 27,
    "start_time": "2022-03-30T13:58:39.909Z"
   },
   {
    "duration": 23,
    "start_time": "2022-03-30T13:59:27.119Z"
   },
   {
    "duration": 22,
    "start_time": "2022-03-30T14:00:15.997Z"
   },
   {
    "duration": 6,
    "start_time": "2022-03-30T14:01:33.691Z"
   },
   {
    "duration": 111,
    "start_time": "2022-03-30T14:01:33.699Z"
   },
   {
    "duration": 6,
    "start_time": "2022-03-30T14:01:33.813Z"
   },
   {
    "duration": 32,
    "start_time": "2022-03-30T14:01:33.823Z"
   },
   {
    "duration": 32,
    "start_time": "2022-03-30T14:01:33.857Z"
   },
   {
    "duration": 7,
    "start_time": "2022-03-30T14:01:33.892Z"
   },
   {
    "duration": 133,
    "start_time": "2022-03-30T14:01:33.901Z"
   },
   {
    "duration": 76,
    "start_time": "2022-03-30T14:01:34.036Z"
   },
   {
    "duration": 8,
    "start_time": "2022-03-30T14:01:34.115Z"
   },
   {
    "duration": 112,
    "start_time": "2022-03-30T14:01:34.144Z"
   },
   {
    "duration": 92,
    "start_time": "2022-03-30T14:01:34.258Z"
   },
   {
    "duration": 36,
    "start_time": "2022-03-30T14:01:34.353Z"
   },
   {
    "duration": 24,
    "start_time": "2022-03-30T14:01:34.391Z"
   },
   {
    "duration": 527,
    "start_time": "2022-03-30T14:01:34.417Z"
   },
   {
    "duration": 467,
    "start_time": "2022-03-30T14:02:17.164Z"
   },
   {
    "duration": 621,
    "start_time": "2022-03-30T14:02:24.823Z"
   },
   {
    "duration": 494,
    "start_time": "2022-03-30T14:03:43.955Z"
   },
   {
    "duration": 490,
    "start_time": "2022-03-30T14:04:38.754Z"
   },
   {
    "duration": 486,
    "start_time": "2022-03-30T14:05:12.130Z"
   },
   {
    "duration": 466,
    "start_time": "2022-03-30T14:05:16.651Z"
   },
   {
    "duration": 1622,
    "start_time": "2022-03-30T14:05:32.663Z"
   },
   {
    "duration": 112,
    "start_time": "2022-03-30T14:05:34.288Z"
   },
   {
    "duration": 7,
    "start_time": "2022-03-30T14:05:34.402Z"
   },
   {
    "duration": 23,
    "start_time": "2022-03-30T14:05:34.411Z"
   },
   {
    "duration": 30,
    "start_time": "2022-03-30T14:05:34.444Z"
   },
   {
    "duration": 7,
    "start_time": "2022-03-30T14:05:34.476Z"
   },
   {
    "duration": 589,
    "start_time": "2022-03-30T14:05:34.485Z"
   },
   {
    "duration": 109,
    "start_time": "2022-03-30T14:05:35.076Z"
   },
   {
    "duration": 61,
    "start_time": "2022-03-30T14:05:35.187Z"
   },
   {
    "duration": 181,
    "start_time": "2022-03-30T14:05:35.252Z"
   },
   {
    "duration": 115,
    "start_time": "2022-03-30T14:05:35.443Z"
   },
   {
    "duration": 23,
    "start_time": "2022-03-30T14:05:35.560Z"
   },
   {
    "duration": 22,
    "start_time": "2022-03-30T14:05:35.585Z"
   },
   {
    "duration": 512,
    "start_time": "2022-03-30T14:05:35.643Z"
   },
   {
    "duration": 1153,
    "start_time": "2022-03-30T14:06:19.516Z"
   },
   {
    "duration": 466,
    "start_time": "2022-03-30T14:06:27.260Z"
   },
   {
    "duration": 472,
    "start_time": "2022-03-30T14:06:40.603Z"
   },
   {
    "duration": 16,
    "start_time": "2022-03-30T14:07:04.851Z"
   },
   {
    "duration": 18,
    "start_time": "2022-03-30T14:07:35.464Z"
   },
   {
    "duration": 20,
    "start_time": "2022-03-30T14:07:47.167Z"
   },
   {
    "duration": 481,
    "start_time": "2022-03-30T14:08:17.139Z"
   },
   {
    "duration": 4,
    "start_time": "2022-03-30T14:08:20.781Z"
   },
   {
    "duration": 99,
    "start_time": "2022-03-30T14:08:20.788Z"
   },
   {
    "duration": 6,
    "start_time": "2022-03-30T14:08:20.890Z"
   },
   {
    "duration": 12,
    "start_time": "2022-03-30T14:08:20.900Z"
   },
   {
    "duration": 51,
    "start_time": "2022-03-30T14:08:20.914Z"
   },
   {
    "duration": 7,
    "start_time": "2022-03-30T14:08:20.967Z"
   },
   {
    "duration": 109,
    "start_time": "2022-03-30T14:08:20.976Z"
   },
   {
    "duration": 176,
    "start_time": "2022-03-30T14:08:21.087Z"
   },
   {
    "duration": 9,
    "start_time": "2022-03-30T14:08:21.267Z"
   },
   {
    "duration": 131,
    "start_time": "2022-03-30T14:08:21.278Z"
   },
   {
    "duration": 91,
    "start_time": "2022-03-30T14:08:21.411Z"
   },
   {
    "duration": 39,
    "start_time": "2022-03-30T14:08:21.504Z"
   },
   {
    "duration": 23,
    "start_time": "2022-03-30T14:08:21.545Z"
   },
   {
    "duration": 486,
    "start_time": "2022-03-30T14:08:21.570Z"
   },
   {
    "duration": 471,
    "start_time": "2022-03-30T14:08:26.813Z"
   },
   {
    "duration": 4,
    "start_time": "2022-03-30T14:08:29.843Z"
   },
   {
    "duration": 110,
    "start_time": "2022-03-30T14:08:29.849Z"
   },
   {
    "duration": 6,
    "start_time": "2022-03-30T14:08:29.961Z"
   },
   {
    "duration": 12,
    "start_time": "2022-03-30T14:08:29.970Z"
   },
   {
    "duration": 27,
    "start_time": "2022-03-30T14:08:29.985Z"
   },
   {
    "duration": 7,
    "start_time": "2022-03-30T14:08:30.043Z"
   },
   {
    "duration": 97,
    "start_time": "2022-03-30T14:08:30.052Z"
   },
   {
    "duration": 92,
    "start_time": "2022-03-30T14:08:30.151Z"
   },
   {
    "duration": 10,
    "start_time": "2022-03-30T14:08:30.246Z"
   },
   {
    "duration": 127,
    "start_time": "2022-03-30T14:08:30.258Z"
   },
   {
    "duration": 93,
    "start_time": "2022-03-30T14:08:30.388Z"
   },
   {
    "duration": 24,
    "start_time": "2022-03-30T14:08:30.484Z"
   },
   {
    "duration": 50,
    "start_time": "2022-03-30T14:08:30.511Z"
   },
   {
    "duration": 535,
    "start_time": "2022-03-30T14:08:30.563Z"
   },
   {
    "duration": 18,
    "start_time": "2022-03-30T14:08:43.623Z"
   },
   {
    "duration": 5,
    "start_time": "2022-03-30T14:08:46.453Z"
   },
   {
    "duration": 137,
    "start_time": "2022-03-30T14:08:46.461Z"
   },
   {
    "duration": 6,
    "start_time": "2022-03-30T14:08:46.600Z"
   },
   {
    "duration": 35,
    "start_time": "2022-03-30T14:08:46.608Z"
   },
   {
    "duration": 28,
    "start_time": "2022-03-30T14:08:46.646Z"
   },
   {
    "duration": 6,
    "start_time": "2022-03-30T14:08:46.677Z"
   },
   {
    "duration": 104,
    "start_time": "2022-03-30T14:08:46.685Z"
   },
   {
    "duration": 85,
    "start_time": "2022-03-30T14:08:46.791Z"
   },
   {
    "duration": 8,
    "start_time": "2022-03-30T14:08:46.878Z"
   },
   {
    "duration": 121,
    "start_time": "2022-03-30T14:08:46.888Z"
   },
   {
    "duration": 85,
    "start_time": "2022-03-30T14:08:47.013Z"
   },
   {
    "duration": 34,
    "start_time": "2022-03-30T14:08:47.100Z"
   },
   {
    "duration": 25,
    "start_time": "2022-03-30T14:08:47.136Z"
   },
   {
    "duration": 16,
    "start_time": "2022-03-30T14:08:47.163Z"
   },
   {
    "duration": 18,
    "start_time": "2022-03-30T14:09:42.339Z"
   },
   {
    "duration": 19,
    "start_time": "2022-03-30T14:10:55.935Z"
   },
   {
    "duration": 4,
    "start_time": "2022-03-30T14:11:02.569Z"
   },
   {
    "duration": 115,
    "start_time": "2022-03-30T14:11:02.577Z"
   },
   {
    "duration": 6,
    "start_time": "2022-03-30T14:11:02.695Z"
   },
   {
    "duration": 13,
    "start_time": "2022-03-30T14:11:02.704Z"
   },
   {
    "duration": 48,
    "start_time": "2022-03-30T14:11:02.719Z"
   },
   {
    "duration": 6,
    "start_time": "2022-03-30T14:11:02.769Z"
   },
   {
    "duration": 111,
    "start_time": "2022-03-30T14:11:02.777Z"
   },
   {
    "duration": 89,
    "start_time": "2022-03-30T14:11:02.890Z"
   },
   {
    "duration": 8,
    "start_time": "2022-03-30T14:11:02.983Z"
   },
   {
    "duration": 125,
    "start_time": "2022-03-30T14:11:02.993Z"
   },
   {
    "duration": 84,
    "start_time": "2022-03-30T14:11:03.121Z"
   },
   {
    "duration": 45,
    "start_time": "2022-03-30T14:11:03.208Z"
   },
   {
    "duration": 23,
    "start_time": "2022-03-30T14:11:03.256Z"
   },
   {
    "duration": 20,
    "start_time": "2022-03-30T14:11:03.282Z"
   },
   {
    "duration": 870,
    "start_time": "2022-03-30T14:11:58.620Z"
   },
   {
    "duration": 4,
    "start_time": "2022-03-30T14:12:12.928Z"
   },
   {
    "duration": 152,
    "start_time": "2022-03-30T14:12:12.936Z"
   },
   {
    "duration": 7,
    "start_time": "2022-03-30T14:12:13.090Z"
   },
   {
    "duration": 24,
    "start_time": "2022-03-30T14:12:13.099Z"
   },
   {
    "duration": 40,
    "start_time": "2022-03-30T14:12:13.127Z"
   },
   {
    "duration": 7,
    "start_time": "2022-03-30T14:12:13.170Z"
   },
   {
    "duration": 134,
    "start_time": "2022-03-30T14:12:13.179Z"
   },
   {
    "duration": 116,
    "start_time": "2022-03-30T14:12:13.316Z"
   },
   {
    "duration": 10,
    "start_time": "2022-03-30T14:12:13.443Z"
   },
   {
    "duration": 156,
    "start_time": "2022-03-30T14:12:13.455Z"
   },
   {
    "duration": 115,
    "start_time": "2022-03-30T14:12:13.614Z"
   },
   {
    "duration": 21,
    "start_time": "2022-03-30T14:12:13.742Z"
   },
   {
    "duration": 28,
    "start_time": "2022-03-30T14:12:13.765Z"
   },
   {
    "duration": 479,
    "start_time": "2022-03-30T14:12:13.797Z"
   },
   {
    "duration": 476,
    "start_time": "2022-03-30T14:12:42.383Z"
   },
   {
    "duration": 468,
    "start_time": "2022-03-30T14:13:38.696Z"
   },
   {
    "duration": 4,
    "start_time": "2022-03-30T14:13:42.793Z"
   },
   {
    "duration": 116,
    "start_time": "2022-03-30T14:13:42.800Z"
   },
   {
    "duration": 5,
    "start_time": "2022-03-30T14:13:42.918Z"
   },
   {
    "duration": 15,
    "start_time": "2022-03-30T14:13:42.942Z"
   },
   {
    "duration": 35,
    "start_time": "2022-03-30T14:13:42.960Z"
   },
   {
    "duration": 7,
    "start_time": "2022-03-30T14:13:42.997Z"
   },
   {
    "duration": 120,
    "start_time": "2022-03-30T14:13:43.007Z"
   },
   {
    "duration": 81,
    "start_time": "2022-03-30T14:13:43.129Z"
   },
   {
    "duration": 8,
    "start_time": "2022-03-30T14:13:43.213Z"
   },
   {
    "duration": 124,
    "start_time": "2022-03-30T14:13:43.223Z"
   },
   {
    "duration": 72,
    "start_time": "2022-03-30T14:13:43.350Z"
   },
   {
    "duration": 38,
    "start_time": "2022-03-30T14:13:43.424Z"
   },
   {
    "duration": 21,
    "start_time": "2022-03-30T14:13:43.464Z"
   },
   {
    "duration": 510,
    "start_time": "2022-03-30T14:13:43.487Z"
   },
   {
    "duration": 484,
    "start_time": "2022-03-30T14:14:21.882Z"
   },
   {
    "duration": 4,
    "start_time": "2022-03-30T14:14:25.950Z"
   },
   {
    "duration": 103,
    "start_time": "2022-03-30T14:14:25.957Z"
   },
   {
    "duration": 6,
    "start_time": "2022-03-30T14:14:26.062Z"
   },
   {
    "duration": 16,
    "start_time": "2022-03-30T14:14:26.070Z"
   },
   {
    "duration": 60,
    "start_time": "2022-03-30T14:14:26.091Z"
   },
   {
    "duration": 7,
    "start_time": "2022-03-30T14:14:26.153Z"
   },
   {
    "duration": 127,
    "start_time": "2022-03-30T14:14:26.163Z"
   },
   {
    "duration": 118,
    "start_time": "2022-03-30T14:14:26.293Z"
   },
   {
    "duration": 9,
    "start_time": "2022-03-30T14:14:26.414Z"
   },
   {
    "duration": 168,
    "start_time": "2022-03-30T14:14:26.426Z"
   },
   {
    "duration": 119,
    "start_time": "2022-03-30T14:14:26.597Z"
   },
   {
    "duration": 40,
    "start_time": "2022-03-30T14:14:26.718Z"
   },
   {
    "duration": 27,
    "start_time": "2022-03-30T14:14:26.760Z"
   },
   {
    "duration": 757,
    "start_time": "2022-03-30T14:14:26.792Z"
   },
   {
    "duration": 5,
    "start_time": "2022-03-30T14:14:52.201Z"
   },
   {
    "duration": 118,
    "start_time": "2022-03-30T14:14:52.208Z"
   },
   {
    "duration": 13,
    "start_time": "2022-03-30T14:14:52.329Z"
   },
   {
    "duration": 16,
    "start_time": "2022-03-30T14:14:52.345Z"
   },
   {
    "duration": 31,
    "start_time": "2022-03-30T14:14:52.365Z"
   },
   {
    "duration": 7,
    "start_time": "2022-03-30T14:14:52.398Z"
   },
   {
    "duration": 106,
    "start_time": "2022-03-30T14:14:52.407Z"
   },
   {
    "duration": 113,
    "start_time": "2022-03-30T14:14:52.515Z"
   },
   {
    "duration": 11,
    "start_time": "2022-03-30T14:14:52.642Z"
   },
   {
    "duration": 124,
    "start_time": "2022-03-30T14:14:52.656Z"
   },
   {
    "duration": 133,
    "start_time": "2022-03-30T14:14:52.785Z"
   },
   {
    "duration": 26,
    "start_time": "2022-03-30T14:14:52.921Z"
   },
   {
    "duration": 29,
    "start_time": "2022-03-30T14:14:52.949Z"
   },
   {
    "duration": 501,
    "start_time": "2022-03-30T14:14:52.980Z"
   },
   {
    "duration": 20,
    "start_time": "2022-03-30T14:15:25.065Z"
   },
   {
    "duration": 4,
    "start_time": "2022-03-30T14:15:30.480Z"
   },
   {
    "duration": 128,
    "start_time": "2022-03-30T14:15:30.487Z"
   },
   {
    "duration": 5,
    "start_time": "2022-03-30T14:15:30.617Z"
   },
   {
    "duration": 28,
    "start_time": "2022-03-30T14:15:30.625Z"
   },
   {
    "duration": 52,
    "start_time": "2022-03-30T14:15:30.655Z"
   },
   {
    "duration": 16,
    "start_time": "2022-03-30T14:15:30.709Z"
   },
   {
    "duration": 93,
    "start_time": "2022-03-30T14:15:30.727Z"
   },
   {
    "duration": 89,
    "start_time": "2022-03-30T14:15:30.822Z"
   },
   {
    "duration": 8,
    "start_time": "2022-03-30T14:15:30.915Z"
   },
   {
    "duration": 146,
    "start_time": "2022-03-30T14:15:30.925Z"
   },
   {
    "duration": 101,
    "start_time": "2022-03-30T14:15:31.074Z"
   },
   {
    "duration": 23,
    "start_time": "2022-03-30T14:15:31.178Z"
   },
   {
    "duration": 52,
    "start_time": "2022-03-30T14:15:31.203Z"
   },
   {
    "duration": 521,
    "start_time": "2022-03-30T14:15:31.257Z"
   },
   {
    "duration": 5,
    "start_time": "2022-03-30T14:16:21.013Z"
   },
   {
    "duration": 103,
    "start_time": "2022-03-30T14:16:21.021Z"
   },
   {
    "duration": 19,
    "start_time": "2022-03-30T14:16:21.127Z"
   },
   {
    "duration": 18,
    "start_time": "2022-03-30T14:16:21.150Z"
   },
   {
    "duration": 34,
    "start_time": "2022-03-30T14:16:21.170Z"
   },
   {
    "duration": 6,
    "start_time": "2022-03-30T14:16:21.206Z"
   },
   {
    "duration": 212,
    "start_time": "2022-03-30T14:16:21.214Z"
   },
   {
    "duration": 83,
    "start_time": "2022-03-30T14:16:21.429Z"
   },
   {
    "duration": 9,
    "start_time": "2022-03-30T14:16:21.516Z"
   },
   {
    "duration": 105,
    "start_time": "2022-03-30T14:16:21.543Z"
   },
   {
    "duration": 97,
    "start_time": "2022-03-30T14:16:21.651Z"
   },
   {
    "duration": 22,
    "start_time": "2022-03-30T14:16:21.750Z"
   },
   {
    "duration": 18,
    "start_time": "2022-03-30T14:16:21.774Z"
   },
   {
    "duration": 497,
    "start_time": "2022-03-30T14:16:21.795Z"
   },
   {
    "duration": 17,
    "start_time": "2022-03-30T14:17:01.316Z"
   },
   {
    "duration": 22,
    "start_time": "2022-03-30T14:17:08.417Z"
   },
   {
    "duration": 7,
    "start_time": "2022-03-30T14:18:02.899Z"
   },
   {
    "duration": 4,
    "start_time": "2022-03-30T14:18:36.591Z"
   },
   {
    "duration": 110,
    "start_time": "2022-03-30T14:18:36.598Z"
   },
   {
    "duration": 5,
    "start_time": "2022-03-30T14:18:36.711Z"
   },
   {
    "duration": 30,
    "start_time": "2022-03-30T14:18:36.718Z"
   },
   {
    "duration": 35,
    "start_time": "2022-03-30T14:18:36.751Z"
   },
   {
    "duration": 6,
    "start_time": "2022-03-30T14:18:36.788Z"
   },
   {
    "duration": 87,
    "start_time": "2022-03-30T14:18:36.796Z"
   },
   {
    "duration": 85,
    "start_time": "2022-03-30T14:18:36.885Z"
   },
   {
    "duration": 8,
    "start_time": "2022-03-30T14:18:36.973Z"
   },
   {
    "duration": 112,
    "start_time": "2022-03-30T14:18:36.983Z"
   },
   {
    "duration": 88,
    "start_time": "2022-03-30T14:18:37.098Z"
   },
   {
    "duration": 22,
    "start_time": "2022-03-30T14:18:37.189Z"
   },
   {
    "duration": 43,
    "start_time": "2022-03-30T14:18:37.214Z"
   },
   {
    "duration": 20,
    "start_time": "2022-03-30T14:18:37.259Z"
   },
   {
    "duration": 24,
    "start_time": "2022-03-30T14:19:34.996Z"
   },
   {
    "duration": 4,
    "start_time": "2022-03-30T14:19:41.732Z"
   },
   {
    "duration": 114,
    "start_time": "2022-03-30T14:19:41.738Z"
   },
   {
    "duration": 6,
    "start_time": "2022-03-30T14:19:41.854Z"
   },
   {
    "duration": 15,
    "start_time": "2022-03-30T14:19:41.863Z"
   },
   {
    "duration": 27,
    "start_time": "2022-03-30T14:19:41.881Z"
   },
   {
    "duration": 36,
    "start_time": "2022-03-30T14:19:41.910Z"
   },
   {
    "duration": 96,
    "start_time": "2022-03-30T14:19:41.948Z"
   },
   {
    "duration": 70,
    "start_time": "2022-03-30T14:19:42.046Z"
   },
   {
    "duration": 28,
    "start_time": "2022-03-30T14:19:42.119Z"
   },
   {
    "duration": 107,
    "start_time": "2022-03-30T14:19:42.149Z"
   },
   {
    "duration": 101,
    "start_time": "2022-03-30T14:19:42.258Z"
   },
   {
    "duration": 22,
    "start_time": "2022-03-30T14:19:42.361Z"
   },
   {
    "duration": 21,
    "start_time": "2022-03-30T14:19:42.385Z"
   },
   {
    "duration": 52,
    "start_time": "2022-03-30T14:19:42.408Z"
   },
   {
    "duration": 5,
    "start_time": "2022-03-30T14:19:52.578Z"
   },
   {
    "duration": 101,
    "start_time": "2022-03-30T14:19:52.586Z"
   },
   {
    "duration": 5,
    "start_time": "2022-03-30T14:19:52.689Z"
   },
   {
    "duration": 14,
    "start_time": "2022-03-30T14:19:52.697Z"
   },
   {
    "duration": 49,
    "start_time": "2022-03-30T14:19:52.713Z"
   },
   {
    "duration": 7,
    "start_time": "2022-03-30T14:19:52.764Z"
   },
   {
    "duration": 104,
    "start_time": "2022-03-30T14:19:52.773Z"
   },
   {
    "duration": 85,
    "start_time": "2022-03-30T14:19:52.879Z"
   },
   {
    "duration": 8,
    "start_time": "2022-03-30T14:19:52.967Z"
   },
   {
    "duration": 111,
    "start_time": "2022-03-30T14:19:52.977Z"
   },
   {
    "duration": 90,
    "start_time": "2022-03-30T14:19:53.090Z"
   },
   {
    "duration": 22,
    "start_time": "2022-03-30T14:19:53.183Z"
   },
   {
    "duration": 49,
    "start_time": "2022-03-30T14:19:53.207Z"
   },
   {
    "duration": 23,
    "start_time": "2022-03-30T14:19:53.259Z"
   },
   {
    "duration": 4,
    "start_time": "2022-03-30T14:20:58.564Z"
   },
   {
    "duration": 99,
    "start_time": "2022-03-30T14:20:58.572Z"
   },
   {
    "duration": 5,
    "start_time": "2022-03-30T14:20:58.673Z"
   },
   {
    "duration": 14,
    "start_time": "2022-03-30T14:20:58.680Z"
   },
   {
    "duration": 50,
    "start_time": "2022-03-30T14:20:58.696Z"
   },
   {
    "duration": 6,
    "start_time": "2022-03-30T14:20:58.749Z"
   },
   {
    "duration": 94,
    "start_time": "2022-03-30T14:20:58.757Z"
   },
   {
    "duration": 90,
    "start_time": "2022-03-30T14:20:58.853Z"
   },
   {
    "duration": 9,
    "start_time": "2022-03-30T14:20:58.945Z"
   },
   {
    "duration": 118,
    "start_time": "2022-03-30T14:20:58.956Z"
   },
   {
    "duration": 98,
    "start_time": "2022-03-30T14:20:59.077Z"
   },
   {
    "duration": 25,
    "start_time": "2022-03-30T14:20:59.178Z"
   },
   {
    "duration": 49,
    "start_time": "2022-03-30T14:20:59.206Z"
   },
   {
    "duration": 23,
    "start_time": "2022-03-30T14:20:59.257Z"
   },
   {
    "duration": 5,
    "start_time": "2022-03-30T14:22:50.739Z"
   },
   {
    "duration": 109,
    "start_time": "2022-03-30T14:22:50.746Z"
   },
   {
    "duration": 6,
    "start_time": "2022-03-30T14:22:50.857Z"
   },
   {
    "duration": 19,
    "start_time": "2022-03-30T14:22:50.865Z"
   },
   {
    "duration": 55,
    "start_time": "2022-03-30T14:22:50.888Z"
   },
   {
    "duration": 7,
    "start_time": "2022-03-30T14:22:50.945Z"
   },
   {
    "duration": 96,
    "start_time": "2022-03-30T14:22:50.954Z"
   },
   {
    "duration": 74,
    "start_time": "2022-03-30T14:22:51.053Z"
   },
   {
    "duration": 10,
    "start_time": "2022-03-30T14:22:51.143Z"
   },
   {
    "duration": 130,
    "start_time": "2022-03-30T14:22:51.156Z"
   },
   {
    "duration": 96,
    "start_time": "2022-03-30T14:22:51.289Z"
   },
   {
    "duration": 24,
    "start_time": "2022-03-30T14:22:51.388Z"
   },
   {
    "duration": 45,
    "start_time": "2022-03-30T14:22:51.417Z"
   },
   {
    "duration": 18,
    "start_time": "2022-03-30T14:22:51.465Z"
   },
   {
    "duration": 5,
    "start_time": "2022-03-30T14:23:28.156Z"
   },
   {
    "duration": 103,
    "start_time": "2022-03-30T14:23:28.163Z"
   },
   {
    "duration": 5,
    "start_time": "2022-03-30T14:23:28.268Z"
   },
   {
    "duration": 14,
    "start_time": "2022-03-30T14:23:28.276Z"
   },
   {
    "duration": 51,
    "start_time": "2022-03-30T14:23:28.293Z"
   },
   {
    "duration": 6,
    "start_time": "2022-03-30T14:23:28.346Z"
   },
   {
    "duration": 96,
    "start_time": "2022-03-30T14:23:28.354Z"
   },
   {
    "duration": 91,
    "start_time": "2022-03-30T14:23:28.452Z"
   },
   {
    "duration": 8,
    "start_time": "2022-03-30T14:23:28.545Z"
   },
   {
    "duration": 120,
    "start_time": "2022-03-30T14:23:28.555Z"
   },
   {
    "duration": 87,
    "start_time": "2022-03-30T14:23:28.677Z"
   },
   {
    "duration": 22,
    "start_time": "2022-03-30T14:23:28.766Z"
   },
   {
    "duration": 20,
    "start_time": "2022-03-30T14:23:28.792Z"
   },
   {
    "duration": 24,
    "start_time": "2022-03-30T14:23:28.842Z"
   },
   {
    "duration": 18,
    "start_time": "2022-03-30T14:24:20.041Z"
   },
   {
    "duration": 21,
    "start_time": "2022-03-30T14:24:24.923Z"
   },
   {
    "duration": 21,
    "start_time": "2022-03-30T14:25:28.263Z"
   },
   {
    "duration": 22,
    "start_time": "2022-03-30T14:25:47.738Z"
   },
   {
    "duration": 221,
    "start_time": "2022-03-30T14:26:11.627Z"
   },
   {
    "duration": 20,
    "start_time": "2022-03-30T14:26:15.319Z"
   },
   {
    "duration": 19,
    "start_time": "2022-03-30T14:26:18.637Z"
   },
   {
    "duration": 19,
    "start_time": "2022-03-30T14:26:56.457Z"
   },
   {
    "duration": 5,
    "start_time": "2022-03-30T14:26:59.110Z"
   },
   {
    "duration": 108,
    "start_time": "2022-03-30T14:26:59.119Z"
   },
   {
    "duration": 14,
    "start_time": "2022-03-30T14:26:59.230Z"
   },
   {
    "duration": 13,
    "start_time": "2022-03-30T14:26:59.248Z"
   },
   {
    "duration": 29,
    "start_time": "2022-03-30T14:26:59.263Z"
   },
   {
    "duration": 7,
    "start_time": "2022-03-30T14:26:59.294Z"
   },
   {
    "duration": 110,
    "start_time": "2022-03-30T14:26:59.303Z"
   },
   {
    "duration": 97,
    "start_time": "2022-03-30T14:26:59.415Z"
   },
   {
    "duration": 8,
    "start_time": "2022-03-30T14:26:59.514Z"
   },
   {
    "duration": 119,
    "start_time": "2022-03-30T14:26:59.565Z"
   },
   {
    "duration": 88,
    "start_time": "2022-03-30T14:26:59.686Z"
   },
   {
    "duration": 23,
    "start_time": "2022-03-30T14:26:59.776Z"
   },
   {
    "duration": 46,
    "start_time": "2022-03-30T14:26:59.802Z"
   },
   {
    "duration": 19,
    "start_time": "2022-03-30T14:26:59.851Z"
   },
   {
    "duration": 4,
    "start_time": "2022-03-30T14:27:07.903Z"
   },
   {
    "duration": 103,
    "start_time": "2022-03-30T14:27:07.910Z"
   },
   {
    "duration": 6,
    "start_time": "2022-03-30T14:27:08.015Z"
   },
   {
    "duration": 30,
    "start_time": "2022-03-30T14:27:08.024Z"
   },
   {
    "duration": 52,
    "start_time": "2022-03-30T14:27:08.056Z"
   },
   {
    "duration": 7,
    "start_time": "2022-03-30T14:27:08.110Z"
   },
   {
    "duration": 97,
    "start_time": "2022-03-30T14:27:08.119Z"
   },
   {
    "duration": 92,
    "start_time": "2022-03-30T14:27:08.219Z"
   },
   {
    "duration": 28,
    "start_time": "2022-03-30T14:27:08.314Z"
   },
   {
    "duration": 214,
    "start_time": "2022-03-30T14:27:08.347Z"
   },
   {
    "duration": 92,
    "start_time": "2022-03-30T14:27:08.563Z"
   },
   {
    "duration": 22,
    "start_time": "2022-03-30T14:27:08.657Z"
   },
   {
    "duration": 21,
    "start_time": "2022-03-30T14:27:08.681Z"
   },
   {
    "duration": 48,
    "start_time": "2022-03-30T14:27:08.704Z"
   },
   {
    "duration": 19,
    "start_time": "2022-03-30T14:27:30.136Z"
   },
   {
    "duration": 22,
    "start_time": "2022-03-30T14:27:38.176Z"
   },
   {
    "duration": 5,
    "start_time": "2022-03-30T14:27:40.917Z"
   },
   {
    "duration": 133,
    "start_time": "2022-03-30T14:27:40.925Z"
   },
   {
    "duration": 5,
    "start_time": "2022-03-30T14:27:41.062Z"
   },
   {
    "duration": 19,
    "start_time": "2022-03-30T14:27:41.069Z"
   },
   {
    "duration": 60,
    "start_time": "2022-03-30T14:27:41.091Z"
   },
   {
    "duration": 7,
    "start_time": "2022-03-30T14:27:41.154Z"
   },
   {
    "duration": 128,
    "start_time": "2022-03-30T14:27:41.163Z"
   },
   {
    "duration": 113,
    "start_time": "2022-03-30T14:27:41.293Z"
   },
   {
    "duration": 11,
    "start_time": "2022-03-30T14:27:41.408Z"
   },
   {
    "duration": 167,
    "start_time": "2022-03-30T14:27:41.422Z"
   },
   {
    "duration": 121,
    "start_time": "2022-03-30T14:27:41.593Z"
   },
   {
    "duration": 33,
    "start_time": "2022-03-30T14:27:41.716Z"
   },
   {
    "duration": 21,
    "start_time": "2022-03-30T14:27:41.752Z"
   },
   {
    "duration": 17,
    "start_time": "2022-03-30T14:27:41.775Z"
   },
   {
    "duration": 19,
    "start_time": "2022-03-30T14:27:51.192Z"
   },
   {
    "duration": 20,
    "start_time": "2022-03-30T14:28:02.261Z"
   },
   {
    "duration": 22,
    "start_time": "2022-03-30T14:28:06.450Z"
   },
   {
    "duration": 4,
    "start_time": "2022-03-30T14:28:11.043Z"
   },
   {
    "duration": 109,
    "start_time": "2022-03-30T14:28:11.051Z"
   },
   {
    "duration": 8,
    "start_time": "2022-03-30T14:28:11.163Z"
   },
   {
    "duration": 13,
    "start_time": "2022-03-30T14:28:11.175Z"
   },
   {
    "duration": 61,
    "start_time": "2022-03-30T14:28:11.191Z"
   },
   {
    "duration": 10,
    "start_time": "2022-03-30T14:28:11.254Z"
   },
   {
    "duration": 95,
    "start_time": "2022-03-30T14:28:11.266Z"
   },
   {
    "duration": 91,
    "start_time": "2022-03-30T14:28:11.364Z"
   },
   {
    "duration": 8,
    "start_time": "2022-03-30T14:28:11.458Z"
   },
   {
    "duration": 114,
    "start_time": "2022-03-30T14:28:11.468Z"
   },
   {
    "duration": 95,
    "start_time": "2022-03-30T14:28:11.584Z"
   },
   {
    "duration": 23,
    "start_time": "2022-03-30T14:28:11.681Z"
   },
   {
    "duration": 45,
    "start_time": "2022-03-30T14:28:11.706Z"
   },
   {
    "duration": 22,
    "start_time": "2022-03-30T14:28:11.753Z"
   },
   {
    "duration": 4,
    "start_time": "2022-03-30T14:28:25.360Z"
   },
   {
    "duration": 102,
    "start_time": "2022-03-30T14:28:25.367Z"
   },
   {
    "duration": 5,
    "start_time": "2022-03-30T14:28:25.471Z"
   },
   {
    "duration": 12,
    "start_time": "2022-03-30T14:28:25.479Z"
   },
   {
    "duration": 51,
    "start_time": "2022-03-30T14:28:25.493Z"
   },
   {
    "duration": 6,
    "start_time": "2022-03-30T14:28:25.546Z"
   },
   {
    "duration": 93,
    "start_time": "2022-03-30T14:28:25.554Z"
   },
   {
    "duration": 74,
    "start_time": "2022-03-30T14:28:25.649Z"
   },
   {
    "duration": 9,
    "start_time": "2022-03-30T14:28:25.742Z"
   },
   {
    "duration": 121,
    "start_time": "2022-03-30T14:28:25.753Z"
   },
   {
    "duration": 90,
    "start_time": "2022-03-30T14:28:25.876Z"
   },
   {
    "duration": 23,
    "start_time": "2022-03-30T14:28:25.968Z"
   },
   {
    "duration": 51,
    "start_time": "2022-03-30T14:28:25.993Z"
   },
   {
    "duration": 20,
    "start_time": "2022-03-30T14:28:26.046Z"
   },
   {
    "duration": 21,
    "start_time": "2022-03-30T14:28:30.203Z"
   },
   {
    "duration": 22,
    "start_time": "2022-03-30T14:28:52.353Z"
   },
   {
    "duration": 22,
    "start_time": "2022-03-30T14:28:58.763Z"
   },
   {
    "duration": 20,
    "start_time": "2022-03-30T14:29:08.855Z"
   },
   {
    "duration": 20,
    "start_time": "2022-03-30T14:29:12.929Z"
   },
   {
    "duration": 5,
    "start_time": "2022-03-30T14:29:15.516Z"
   },
   {
    "duration": 100,
    "start_time": "2022-03-30T14:29:15.525Z"
   },
   {
    "duration": 18,
    "start_time": "2022-03-30T14:29:15.628Z"
   },
   {
    "duration": 15,
    "start_time": "2022-03-30T14:29:15.649Z"
   },
   {
    "duration": 29,
    "start_time": "2022-03-30T14:29:15.666Z"
   },
   {
    "duration": 8,
    "start_time": "2022-03-30T14:29:15.698Z"
   },
   {
    "duration": 80,
    "start_time": "2022-03-30T14:29:15.744Z"
   },
   {
    "duration": 83,
    "start_time": "2022-03-30T14:29:15.843Z"
   },
   {
    "duration": 8,
    "start_time": "2022-03-30T14:29:15.944Z"
   },
   {
    "duration": 163,
    "start_time": "2022-03-30T14:29:15.954Z"
   },
   {
    "duration": 90,
    "start_time": "2022-03-30T14:29:16.120Z"
   },
   {
    "duration": 38,
    "start_time": "2022-03-30T14:29:16.213Z"
   },
   {
    "duration": 22,
    "start_time": "2022-03-30T14:29:16.253Z"
   },
   {
    "duration": 20,
    "start_time": "2022-03-30T14:29:16.278Z"
   },
   {
    "duration": 21,
    "start_time": "2022-03-30T14:31:01.245Z"
   },
   {
    "duration": 19,
    "start_time": "2022-03-30T14:31:10.387Z"
   },
   {
    "duration": 5,
    "start_time": "2022-03-30T14:31:12.994Z"
   },
   {
    "duration": 129,
    "start_time": "2022-03-30T14:31:13.003Z"
   },
   {
    "duration": 11,
    "start_time": "2022-03-30T14:31:13.135Z"
   },
   {
    "duration": 14,
    "start_time": "2022-03-30T14:31:13.149Z"
   },
   {
    "duration": 30,
    "start_time": "2022-03-30T14:31:13.166Z"
   },
   {
    "duration": 7,
    "start_time": "2022-03-30T14:31:13.198Z"
   },
   {
    "duration": 78,
    "start_time": "2022-03-30T14:31:13.243Z"
   },
   {
    "duration": 90,
    "start_time": "2022-03-30T14:31:13.323Z"
   },
   {
    "duration": 9,
    "start_time": "2022-03-30T14:31:13.415Z"
   },
   {
    "duration": 113,
    "start_time": "2022-03-30T14:31:13.446Z"
   },
   {
    "duration": 97,
    "start_time": "2022-03-30T14:31:13.562Z"
   },
   {
    "duration": 25,
    "start_time": "2022-03-30T14:31:13.662Z"
   },
   {
    "duration": 57,
    "start_time": "2022-03-30T14:31:13.690Z"
   },
   {
    "duration": 29,
    "start_time": "2022-03-30T14:31:13.750Z"
   },
   {
    "duration": 5,
    "start_time": "2022-03-30T14:31:21.005Z"
   },
   {
    "duration": 97,
    "start_time": "2022-03-30T14:31:21.014Z"
   },
   {
    "duration": 6,
    "start_time": "2022-03-30T14:31:21.113Z"
   },
   {
    "duration": 26,
    "start_time": "2022-03-30T14:31:21.122Z"
   },
   {
    "duration": 31,
    "start_time": "2022-03-30T14:31:21.151Z"
   },
   {
    "duration": 7,
    "start_time": "2022-03-30T14:31:21.185Z"
   },
   {
    "duration": 114,
    "start_time": "2022-03-30T14:31:21.195Z"
   },
   {
    "duration": 85,
    "start_time": "2022-03-30T14:31:21.311Z"
   },
   {
    "duration": 9,
    "start_time": "2022-03-30T14:31:21.398Z"
   },
   {
    "duration": 118,
    "start_time": "2022-03-30T14:31:21.410Z"
   },
   {
    "duration": 84,
    "start_time": "2022-03-30T14:31:21.530Z"
   },
   {
    "duration": 42,
    "start_time": "2022-03-30T14:31:21.616Z"
   },
   {
    "duration": 20,
    "start_time": "2022-03-30T14:31:21.660Z"
   },
   {
    "duration": 20,
    "start_time": "2022-03-30T14:31:21.682Z"
   },
   {
    "duration": 4,
    "start_time": "2022-03-30T14:31:26.014Z"
   },
   {
    "duration": 96,
    "start_time": "2022-03-30T14:31:26.021Z"
   },
   {
    "duration": 5,
    "start_time": "2022-03-30T14:31:26.120Z"
   },
   {
    "duration": 24,
    "start_time": "2022-03-30T14:31:26.127Z"
   },
   {
    "duration": 30,
    "start_time": "2022-03-30T14:31:26.156Z"
   },
   {
    "duration": 8,
    "start_time": "2022-03-30T14:31:26.188Z"
   },
   {
    "duration": 111,
    "start_time": "2022-03-30T14:31:26.199Z"
   },
   {
    "duration": 89,
    "start_time": "2022-03-30T14:31:26.313Z"
   },
   {
    "duration": 8,
    "start_time": "2022-03-30T14:31:26.404Z"
   },
   {
    "duration": 129,
    "start_time": "2022-03-30T14:31:26.414Z"
   },
   {
    "duration": 76,
    "start_time": "2022-03-30T14:31:26.546Z"
   },
   {
    "duration": 22,
    "start_time": "2022-03-30T14:31:26.643Z"
   },
   {
    "duration": 20,
    "start_time": "2022-03-30T14:31:26.667Z"
   },
   {
    "duration": 53,
    "start_time": "2022-03-30T14:31:26.689Z"
   },
   {
    "duration": 4,
    "start_time": "2022-03-30T14:32:59.566Z"
   },
   {
    "duration": 94,
    "start_time": "2022-03-30T14:32:59.574Z"
   },
   {
    "duration": 5,
    "start_time": "2022-03-30T14:32:59.671Z"
   },
   {
    "duration": 13,
    "start_time": "2022-03-30T14:32:59.678Z"
   },
   {
    "duration": 50,
    "start_time": "2022-03-30T14:32:59.694Z"
   },
   {
    "duration": 6,
    "start_time": "2022-03-30T14:32:59.746Z"
   },
   {
    "duration": 100,
    "start_time": "2022-03-30T14:32:59.754Z"
   },
   {
    "duration": 100,
    "start_time": "2022-03-30T14:32:59.857Z"
   },
   {
    "duration": 8,
    "start_time": "2022-03-30T14:32:59.959Z"
   },
   {
    "duration": 126,
    "start_time": "2022-03-30T14:32:59.969Z"
   },
   {
    "duration": 87,
    "start_time": "2022-03-30T14:33:00.097Z"
   },
   {
    "duration": 23,
    "start_time": "2022-03-30T14:33:00.186Z"
   },
   {
    "duration": 50,
    "start_time": "2022-03-30T14:33:00.212Z"
   },
   {
    "duration": 227,
    "start_time": "2022-03-30T14:33:00.266Z"
   },
   {
    "duration": 4,
    "start_time": "2022-03-30T14:33:06.862Z"
   },
   {
    "duration": 101,
    "start_time": "2022-03-30T14:33:06.869Z"
   },
   {
    "duration": 6,
    "start_time": "2022-03-30T14:33:06.972Z"
   },
   {
    "duration": 28,
    "start_time": "2022-03-30T14:33:06.981Z"
   },
   {
    "duration": 44,
    "start_time": "2022-03-30T14:33:07.011Z"
   },
   {
    "duration": 7,
    "start_time": "2022-03-30T14:33:07.057Z"
   },
   {
    "duration": 101,
    "start_time": "2022-03-30T14:33:07.066Z"
   },
   {
    "duration": 184,
    "start_time": "2022-03-30T14:33:07.169Z"
   },
   {
    "duration": 8,
    "start_time": "2022-03-30T14:33:07.356Z"
   },
   {
    "duration": 115,
    "start_time": "2022-03-30T14:33:07.367Z"
   },
   {
    "duration": 89,
    "start_time": "2022-03-30T14:33:07.485Z"
   },
   {
    "duration": 22,
    "start_time": "2022-03-30T14:33:07.576Z"
   },
   {
    "duration": 51,
    "start_time": "2022-03-30T14:33:07.601Z"
   },
   {
    "duration": 20,
    "start_time": "2022-03-30T14:33:07.655Z"
   },
   {
    "duration": 5,
    "start_time": "2022-03-30T14:33:15.894Z"
   },
   {
    "duration": 115,
    "start_time": "2022-03-30T14:33:15.902Z"
   },
   {
    "duration": 5,
    "start_time": "2022-03-30T14:33:16.019Z"
   },
   {
    "duration": 13,
    "start_time": "2022-03-30T14:33:16.042Z"
   },
   {
    "duration": 40,
    "start_time": "2022-03-30T14:33:16.057Z"
   },
   {
    "duration": 6,
    "start_time": "2022-03-30T14:33:16.099Z"
   },
   {
    "duration": 98,
    "start_time": "2022-03-30T14:33:16.107Z"
   },
   {
    "duration": 90,
    "start_time": "2022-03-30T14:33:16.208Z"
   },
   {
    "duration": 8,
    "start_time": "2022-03-30T14:33:16.302Z"
   },
   {
    "duration": 122,
    "start_time": "2022-03-30T14:33:16.313Z"
   },
   {
    "duration": 82,
    "start_time": "2022-03-30T14:33:16.438Z"
   },
   {
    "duration": 28,
    "start_time": "2022-03-30T14:33:16.543Z"
   },
   {
    "duration": 30,
    "start_time": "2022-03-30T14:33:16.574Z"
   },
   {
    "duration": 44,
    "start_time": "2022-03-30T14:33:16.606Z"
   },
   {
    "duration": 4,
    "start_time": "2022-03-30T14:33:25.303Z"
   },
   {
    "duration": 97,
    "start_time": "2022-03-30T14:33:25.309Z"
   },
   {
    "duration": 5,
    "start_time": "2022-03-30T14:33:25.409Z"
   },
   {
    "duration": 26,
    "start_time": "2022-03-30T14:33:25.417Z"
   },
   {
    "duration": 29,
    "start_time": "2022-03-30T14:33:25.445Z"
   },
   {
    "duration": 6,
    "start_time": "2022-03-30T14:33:25.476Z"
   },
   {
    "duration": 110,
    "start_time": "2022-03-30T14:33:25.485Z"
   },
   {
    "duration": 87,
    "start_time": "2022-03-30T14:33:25.597Z"
   },
   {
    "duration": 8,
    "start_time": "2022-03-30T14:33:25.687Z"
   },
   {
    "duration": 120,
    "start_time": "2022-03-30T14:33:25.697Z"
   },
   {
    "duration": 88,
    "start_time": "2022-03-30T14:33:25.819Z"
   },
   {
    "duration": 41,
    "start_time": "2022-03-30T14:33:25.909Z"
   },
   {
    "duration": 24,
    "start_time": "2022-03-30T14:33:25.951Z"
   },
   {
    "duration": 25,
    "start_time": "2022-03-30T14:33:25.978Z"
   },
   {
    "duration": 5,
    "start_time": "2022-03-30T15:02:11.744Z"
   },
   {
    "duration": 121,
    "start_time": "2022-03-30T15:02:11.751Z"
   },
   {
    "duration": 6,
    "start_time": "2022-03-30T15:02:11.874Z"
   },
   {
    "duration": 28,
    "start_time": "2022-03-30T15:02:11.882Z"
   },
   {
    "duration": 40,
    "start_time": "2022-03-30T15:02:11.913Z"
   },
   {
    "duration": 6,
    "start_time": "2022-03-30T15:02:11.955Z"
   },
   {
    "duration": 98,
    "start_time": "2022-03-30T15:02:11.963Z"
   },
   {
    "duration": 95,
    "start_time": "2022-03-30T15:02:12.064Z"
   },
   {
    "duration": 9,
    "start_time": "2022-03-30T15:02:12.161Z"
   },
   {
    "duration": 124,
    "start_time": "2022-03-30T15:02:12.173Z"
   },
   {
    "duration": 86,
    "start_time": "2022-03-30T15:02:12.301Z"
   },
   {
    "duration": 23,
    "start_time": "2022-03-30T15:02:12.389Z"
   },
   {
    "duration": 41,
    "start_time": "2022-03-30T15:02:12.415Z"
   },
   {
    "duration": 18,
    "start_time": "2022-03-30T15:02:12.459Z"
   },
   {
    "duration": 880,
    "start_time": "2022-03-30T15:02:18.074Z"
   },
   {
    "duration": 5,
    "start_time": "2022-03-30T15:02:21.381Z"
   },
   {
    "duration": 102,
    "start_time": "2022-03-30T15:02:21.392Z"
   },
   {
    "duration": 7,
    "start_time": "2022-03-30T15:02:21.497Z"
   },
   {
    "duration": 37,
    "start_time": "2022-03-30T15:02:21.506Z"
   },
   {
    "duration": 32,
    "start_time": "2022-03-30T15:02:21.546Z"
   },
   {
    "duration": 6,
    "start_time": "2022-03-30T15:02:21.580Z"
   },
   {
    "duration": 99,
    "start_time": "2022-03-30T15:02:21.588Z"
   },
   {
    "duration": 85,
    "start_time": "2022-03-30T15:02:21.689Z"
   },
   {
    "duration": 8,
    "start_time": "2022-03-30T15:02:21.776Z"
   },
   {
    "duration": 118,
    "start_time": "2022-03-30T15:02:21.786Z"
   },
   {
    "duration": 85,
    "start_time": "2022-03-30T15:02:21.907Z"
   },
   {
    "duration": 20,
    "start_time": "2022-03-30T15:02:21.994Z"
   },
   {
    "duration": 46,
    "start_time": "2022-03-30T15:02:22.016Z"
   },
   {
    "duration": 19,
    "start_time": "2022-03-30T15:02:22.064Z"
   },
   {
    "duration": 5,
    "start_time": "2022-03-30T15:02:27.810Z"
   },
   {
    "duration": 95,
    "start_time": "2022-03-30T15:02:27.818Z"
   },
   {
    "duration": 5,
    "start_time": "2022-03-30T15:02:27.916Z"
   },
   {
    "duration": 29,
    "start_time": "2022-03-30T15:02:27.923Z"
   },
   {
    "duration": 28,
    "start_time": "2022-03-30T15:02:27.956Z"
   },
   {
    "duration": 6,
    "start_time": "2022-03-30T15:02:27.986Z"
   },
   {
    "duration": 111,
    "start_time": "2022-03-30T15:02:27.995Z"
   },
   {
    "duration": 100,
    "start_time": "2022-03-30T15:02:28.108Z"
   },
   {
    "duration": 8,
    "start_time": "2022-03-30T15:02:28.210Z"
   },
   {
    "duration": 127,
    "start_time": "2022-03-30T15:02:28.220Z"
   },
   {
    "duration": 94,
    "start_time": "2022-03-30T15:02:28.349Z"
   },
   {
    "duration": 23,
    "start_time": "2022-03-30T15:02:28.445Z"
   },
   {
    "duration": 22,
    "start_time": "2022-03-30T15:02:28.471Z"
   },
   {
    "duration": 56,
    "start_time": "2022-03-30T15:02:28.496Z"
   },
   {
    "duration": 5,
    "start_time": "2022-03-30T15:02:35.743Z"
   },
   {
    "duration": 108,
    "start_time": "2022-03-30T15:02:35.750Z"
   },
   {
    "duration": 6,
    "start_time": "2022-03-30T15:02:35.860Z"
   },
   {
    "duration": 18,
    "start_time": "2022-03-30T15:02:35.868Z"
   },
   {
    "duration": 54,
    "start_time": "2022-03-30T15:02:35.889Z"
   },
   {
    "duration": 6,
    "start_time": "2022-03-30T15:02:35.945Z"
   },
   {
    "duration": 96,
    "start_time": "2022-03-30T15:02:35.954Z"
   },
   {
    "duration": 91,
    "start_time": "2022-03-30T15:02:36.052Z"
   },
   {
    "duration": 9,
    "start_time": "2022-03-30T15:02:36.145Z"
   },
   {
    "duration": 118,
    "start_time": "2022-03-30T15:02:36.156Z"
   },
   {
    "duration": 90,
    "start_time": "2022-03-30T15:02:36.277Z"
   },
   {
    "duration": 20,
    "start_time": "2022-03-30T15:02:36.370Z"
   },
   {
    "duration": 21,
    "start_time": "2022-03-30T15:02:36.393Z"
   },
   {
    "duration": 43,
    "start_time": "2022-03-30T15:02:36.417Z"
   },
   {
    "duration": 4,
    "start_time": "2022-03-30T15:03:29.610Z"
   },
   {
    "duration": 95,
    "start_time": "2022-03-30T15:03:29.616Z"
   },
   {
    "duration": 5,
    "start_time": "2022-03-30T15:03:29.713Z"
   },
   {
    "duration": 29,
    "start_time": "2022-03-30T15:03:29.721Z"
   },
   {
    "duration": 28,
    "start_time": "2022-03-30T15:03:29.752Z"
   },
   {
    "duration": 6,
    "start_time": "2022-03-30T15:03:29.782Z"
   },
   {
    "duration": 108,
    "start_time": "2022-03-30T15:03:29.790Z"
   },
   {
    "duration": 90,
    "start_time": "2022-03-30T15:03:29.900Z"
   },
   {
    "duration": 8,
    "start_time": "2022-03-30T15:03:29.993Z"
   },
   {
    "duration": 122,
    "start_time": "2022-03-30T15:03:30.003Z"
   },
   {
    "duration": 84,
    "start_time": "2022-03-30T15:03:30.127Z"
   },
   {
    "duration": 38,
    "start_time": "2022-03-30T15:03:30.213Z"
   },
   {
    "duration": 22,
    "start_time": "2022-03-30T15:03:30.253Z"
   },
   {
    "duration": 18,
    "start_time": "2022-03-30T15:03:30.277Z"
   },
   {
    "duration": 222,
    "start_time": "2022-03-30T15:04:09.338Z"
   },
   {
    "duration": 5,
    "start_time": "2022-03-30T15:04:17.642Z"
   },
   {
    "duration": 108,
    "start_time": "2022-03-30T15:04:17.650Z"
   },
   {
    "duration": 5,
    "start_time": "2022-03-30T15:04:17.760Z"
   },
   {
    "duration": 13,
    "start_time": "2022-03-30T15:04:17.768Z"
   },
   {
    "duration": 28,
    "start_time": "2022-03-30T15:04:17.783Z"
   },
   {
    "duration": 36,
    "start_time": "2022-03-30T15:04:17.813Z"
   },
   {
    "duration": 97,
    "start_time": "2022-03-30T15:04:17.851Z"
   },
   {
    "duration": 74,
    "start_time": "2022-03-30T15:04:17.951Z"
   },
   {
    "duration": 9,
    "start_time": "2022-03-30T15:04:18.043Z"
   },
   {
    "duration": 117,
    "start_time": "2022-03-30T15:04:18.053Z"
   },
   {
    "duration": 91,
    "start_time": "2022-03-30T15:04:18.172Z"
   },
   {
    "duration": 21,
    "start_time": "2022-03-30T15:04:18.265Z"
   },
   {
    "duration": 21,
    "start_time": "2022-03-30T15:04:18.288Z"
   },
   {
    "duration": 3453,
    "start_time": "2022-03-30T15:04:18.311Z"
   },
   {
    "duration": 6,
    "start_time": "2022-03-30T15:17:50.499Z"
   },
   {
    "duration": 118,
    "start_time": "2022-03-30T15:17:50.508Z"
   },
   {
    "duration": 5,
    "start_time": "2022-03-30T15:17:50.629Z"
   },
   {
    "duration": 15,
    "start_time": "2022-03-30T15:17:50.644Z"
   },
   {
    "duration": 28,
    "start_time": "2022-03-30T15:17:50.661Z"
   },
   {
    "duration": 6,
    "start_time": "2022-03-30T15:17:50.691Z"
   },
   {
    "duration": 232,
    "start_time": "2022-03-30T15:17:50.700Z"
   },
   {
    "duration": 79,
    "start_time": "2022-03-30T15:17:50.935Z"
   },
   {
    "duration": 28,
    "start_time": "2022-03-30T15:17:51.018Z"
   },
   {
    "duration": 123,
    "start_time": "2022-03-30T15:17:51.049Z"
   },
   {
    "duration": 99,
    "start_time": "2022-03-30T15:17:51.174Z"
   },
   {
    "duration": 23,
    "start_time": "2022-03-30T15:17:51.276Z"
   },
   {
    "duration": 45,
    "start_time": "2022-03-30T15:17:51.301Z"
   },
   {
    "duration": 18,
    "start_time": "2022-03-30T15:17:51.348Z"
   },
   {
    "duration": 4,
    "start_time": "2022-03-30T15:30:41.767Z"
   },
   {
    "duration": 113,
    "start_time": "2022-03-30T15:30:41.774Z"
   },
   {
    "duration": 7,
    "start_time": "2022-03-30T15:30:41.889Z"
   },
   {
    "duration": 14,
    "start_time": "2022-03-30T15:30:41.899Z"
   },
   {
    "duration": 47,
    "start_time": "2022-03-30T15:30:41.916Z"
   },
   {
    "duration": 6,
    "start_time": "2022-03-30T15:30:41.966Z"
   },
   {
    "duration": 132,
    "start_time": "2022-03-30T15:30:41.974Z"
   },
   {
    "duration": 126,
    "start_time": "2022-03-30T15:30:42.108Z"
   },
   {
    "duration": 10,
    "start_time": "2022-03-30T15:30:42.238Z"
   },
   {
    "duration": 165,
    "start_time": "2022-03-30T15:30:42.251Z"
   },
   {
    "duration": 87,
    "start_time": "2022-03-30T15:30:42.419Z"
   },
   {
    "duration": 41,
    "start_time": "2022-03-30T15:30:42.508Z"
   },
   {
    "duration": 24,
    "start_time": "2022-03-30T15:30:42.551Z"
   },
   {
    "duration": 19,
    "start_time": "2022-03-30T15:30:42.578Z"
   },
   {
    "duration": 4,
    "start_time": "2022-03-30T15:30:54.328Z"
   },
   {
    "duration": 105,
    "start_time": "2022-03-30T15:30:54.335Z"
   },
   {
    "duration": 5,
    "start_time": "2022-03-30T15:30:54.443Z"
   },
   {
    "duration": 30,
    "start_time": "2022-03-30T15:30:54.452Z"
   },
   {
    "duration": 30,
    "start_time": "2022-03-30T15:30:54.485Z"
   },
   {
    "duration": 26,
    "start_time": "2022-03-30T15:30:54.517Z"
   },
   {
    "duration": 85,
    "start_time": "2022-03-30T15:30:54.545Z"
   },
   {
    "duration": 83,
    "start_time": "2022-03-30T15:30:54.632Z"
   },
   {
    "duration": 26,
    "start_time": "2022-03-30T15:30:54.717Z"
   },
   {
    "duration": 118,
    "start_time": "2022-03-30T15:30:54.746Z"
   },
   {
    "duration": 100,
    "start_time": "2022-03-30T15:30:54.866Z"
   },
   {
    "duration": 21,
    "start_time": "2022-03-30T15:30:54.968Z"
   },
   {
    "duration": 38,
    "start_time": "2022-03-30T15:30:54.991Z"
   },
   {
    "duration": 19,
    "start_time": "2022-03-30T15:30:55.042Z"
   },
   {
    "duration": 22,
    "start_time": "2022-03-30T15:31:18.016Z"
   },
   {
    "duration": 5,
    "start_time": "2022-03-30T15:31:20.530Z"
   },
   {
    "duration": 134,
    "start_time": "2022-03-30T15:31:20.538Z"
   },
   {
    "duration": 5,
    "start_time": "2022-03-30T15:31:20.674Z"
   },
   {
    "duration": 13,
    "start_time": "2022-03-30T15:31:20.682Z"
   },
   {
    "duration": 62,
    "start_time": "2022-03-30T15:31:20.697Z"
   },
   {
    "duration": 7,
    "start_time": "2022-03-30T15:31:20.761Z"
   },
   {
    "duration": 99,
    "start_time": "2022-03-30T15:31:20.771Z"
   },
   {
    "duration": 125,
    "start_time": "2022-03-30T15:31:20.872Z"
   },
   {
    "duration": 11,
    "start_time": "2022-03-30T15:31:21.001Z"
   },
   {
    "duration": 175,
    "start_time": "2022-03-30T15:31:21.014Z"
   },
   {
    "duration": 124,
    "start_time": "2022-03-30T15:31:21.192Z"
   },
   {
    "duration": 42,
    "start_time": "2022-03-30T15:31:21.319Z"
   },
   {
    "duration": 29,
    "start_time": "2022-03-30T15:31:21.364Z"
   },
   {
    "duration": 21,
    "start_time": "2022-03-30T15:31:21.395Z"
   },
   {
    "duration": 6,
    "start_time": "2022-03-30T15:56:02.216Z"
   },
   {
    "duration": 106,
    "start_time": "2022-03-30T15:56:02.225Z"
   },
   {
    "duration": 11,
    "start_time": "2022-03-30T15:56:02.333Z"
   },
   {
    "duration": 12,
    "start_time": "2022-03-30T15:56:02.348Z"
   },
   {
    "duration": 31,
    "start_time": "2022-03-30T15:56:02.362Z"
   },
   {
    "duration": 6,
    "start_time": "2022-03-30T15:56:02.395Z"
   },
   {
    "duration": 112,
    "start_time": "2022-03-30T15:56:02.403Z"
   },
   {
    "duration": 91,
    "start_time": "2022-03-30T15:56:02.517Z"
   },
   {
    "duration": 9,
    "start_time": "2022-03-30T15:56:02.610Z"
   },
   {
    "duration": 104,
    "start_time": "2022-03-30T15:56:02.642Z"
   },
   {
    "duration": 94,
    "start_time": "2022-03-30T15:56:02.749Z"
   },
   {
    "duration": 21,
    "start_time": "2022-03-30T15:56:02.846Z"
   },
   {
    "duration": 24,
    "start_time": "2022-03-30T15:56:02.869Z"
   },
   {
    "duration": 51,
    "start_time": "2022-03-30T15:56:02.895Z"
   },
   {
    "duration": 69,
    "start_time": "2022-04-02T16:43:44.081Z"
   },
   {
    "duration": 1894,
    "start_time": "2022-04-02T16:43:47.031Z"
   },
   {
    "duration": 94,
    "start_time": "2022-04-02T16:43:48.927Z"
   },
   {
    "duration": 6,
    "start_time": "2022-04-02T16:43:49.023Z"
   },
   {
    "duration": 21,
    "start_time": "2022-04-02T16:43:49.031Z"
   },
   {
    "duration": 25,
    "start_time": "2022-04-02T16:43:49.055Z"
   },
   {
    "duration": 6,
    "start_time": "2022-04-02T16:43:49.082Z"
   },
   {
    "duration": 573,
    "start_time": "2022-04-02T16:43:49.090Z"
   },
   {
    "duration": 114,
    "start_time": "2022-04-02T16:43:49.666Z"
   },
   {
    "duration": 63,
    "start_time": "2022-04-02T16:43:49.782Z"
   },
   {
    "duration": 126,
    "start_time": "2022-04-02T16:43:49.847Z"
   },
   {
    "duration": 92,
    "start_time": "2022-04-02T16:43:49.975Z"
   },
   {
    "duration": 22,
    "start_time": "2022-04-02T16:43:50.069Z"
   },
   {
    "duration": 21,
    "start_time": "2022-04-02T16:43:50.093Z"
   },
   {
    "duration": 43,
    "start_time": "2022-04-02T16:43:50.117Z"
   },
   {
    "duration": 217,
    "start_time": "2022-04-02T16:45:54.306Z"
   },
   {
    "duration": 1047,
    "start_time": "2022-04-02T16:46:16.614Z"
   },
   {
    "duration": 4,
    "start_time": "2022-04-02T16:46:25.428Z"
   },
   {
    "duration": 94,
    "start_time": "2022-04-02T16:46:25.435Z"
   },
   {
    "duration": 11,
    "start_time": "2022-04-02T16:46:25.532Z"
   },
   {
    "duration": 16,
    "start_time": "2022-04-02T16:46:25.545Z"
   },
   {
    "duration": 24,
    "start_time": "2022-04-02T16:46:25.565Z"
   },
   {
    "duration": 6,
    "start_time": "2022-04-02T16:46:25.592Z"
   },
   {
    "duration": 101,
    "start_time": "2022-04-02T16:46:25.600Z"
   },
   {
    "duration": 88,
    "start_time": "2022-04-02T16:46:25.703Z"
   },
   {
    "duration": 8,
    "start_time": "2022-04-02T16:46:25.793Z"
   },
   {
    "duration": 176,
    "start_time": "2022-04-02T16:46:25.803Z"
   },
   {
    "duration": 87,
    "start_time": "2022-04-02T16:46:25.982Z"
   },
   {
    "duration": 21,
    "start_time": "2022-04-02T16:46:26.071Z"
   },
   {
    "duration": 19,
    "start_time": "2022-04-02T16:46:26.094Z"
   },
   {
    "duration": 21,
    "start_time": "2022-04-02T16:46:26.143Z"
   },
   {
    "duration": 16,
    "start_time": "2022-04-02T16:47:27.112Z"
   },
   {
    "duration": 21,
    "start_time": "2022-04-02T16:48:56.268Z"
   },
   {
    "duration": 18,
    "start_time": "2022-04-02T16:49:14.805Z"
   },
   {
    "duration": 14,
    "start_time": "2022-04-02T16:50:25.481Z"
   },
   {
    "duration": 5,
    "start_time": "2022-04-02T16:50:48.156Z"
   },
   {
    "duration": 108,
    "start_time": "2022-04-02T16:50:48.165Z"
   },
   {
    "duration": 5,
    "start_time": "2022-04-02T16:50:48.276Z"
   },
   {
    "duration": 18,
    "start_time": "2022-04-02T16:50:48.285Z"
   },
   {
    "duration": 68,
    "start_time": "2022-04-02T16:50:48.305Z"
   },
   {
    "duration": 6,
    "start_time": "2022-04-02T16:50:48.375Z"
   },
   {
    "duration": 114,
    "start_time": "2022-04-02T16:50:48.384Z"
   },
   {
    "duration": 90,
    "start_time": "2022-04-02T16:50:48.500Z"
   },
   {
    "duration": 8,
    "start_time": "2022-04-02T16:50:48.594Z"
   },
   {
    "duration": 117,
    "start_time": "2022-04-02T16:50:48.604Z"
   },
   {
    "duration": 104,
    "start_time": "2022-04-02T16:50:48.723Z"
   },
   {
    "duration": 34,
    "start_time": "2022-04-02T16:50:48.829Z"
   },
   {
    "duration": 21,
    "start_time": "2022-04-02T16:50:48.865Z"
   },
   {
    "duration": 9581,
    "start_time": "2022-04-02T16:50:48.888Z"
   },
   {
    "duration": 4,
    "start_time": "2022-04-02T16:51:31.085Z"
   },
   {
    "duration": 108,
    "start_time": "2022-04-02T16:51:31.091Z"
   },
   {
    "duration": 6,
    "start_time": "2022-04-02T16:51:31.202Z"
   },
   {
    "duration": 18,
    "start_time": "2022-04-02T16:51:31.210Z"
   },
   {
    "duration": 36,
    "start_time": "2022-04-02T16:51:31.231Z"
   },
   {
    "duration": 6,
    "start_time": "2022-04-02T16:51:31.269Z"
   },
   {
    "duration": 102,
    "start_time": "2022-04-02T16:51:31.277Z"
   },
   {
    "duration": 82,
    "start_time": "2022-04-02T16:51:31.382Z"
   },
   {
    "duration": 9,
    "start_time": "2022-04-02T16:51:31.469Z"
   },
   {
    "duration": 144,
    "start_time": "2022-04-02T16:51:31.480Z"
   },
   {
    "duration": 79,
    "start_time": "2022-04-02T16:51:31.626Z"
   },
   {
    "duration": 41,
    "start_time": "2022-04-02T16:51:31.707Z"
   },
   {
    "duration": 20,
    "start_time": "2022-04-02T16:51:31.750Z"
   },
   {
    "duration": 9870,
    "start_time": "2022-04-02T16:51:31.772Z"
   },
   {
    "duration": 32,
    "start_time": "2022-04-02T16:52:18.543Z"
   },
   {
    "duration": 22,
    "start_time": "2022-04-02T16:53:38.824Z"
   },
   {
    "duration": 21,
    "start_time": "2022-04-02T16:55:01.338Z"
   },
   {
    "duration": 4,
    "start_time": "2022-04-02T16:55:08.991Z"
   },
   {
    "duration": 94,
    "start_time": "2022-04-02T16:55:08.998Z"
   },
   {
    "duration": 6,
    "start_time": "2022-04-02T16:55:09.094Z"
   },
   {
    "duration": 15,
    "start_time": "2022-04-02T16:55:09.103Z"
   },
   {
    "duration": 27,
    "start_time": "2022-04-02T16:55:09.142Z"
   },
   {
    "duration": 7,
    "start_time": "2022-04-02T16:55:09.171Z"
   },
   {
    "duration": 98,
    "start_time": "2022-04-02T16:55:09.180Z"
   },
   {
    "duration": 87,
    "start_time": "2022-04-02T16:55:09.280Z"
   },
   {
    "duration": 8,
    "start_time": "2022-04-02T16:55:09.370Z"
   },
   {
    "duration": 111,
    "start_time": "2022-04-02T16:55:09.381Z"
   },
   {
    "duration": 87,
    "start_time": "2022-04-02T16:55:09.495Z"
   },
   {
    "duration": 21,
    "start_time": "2022-04-02T16:55:09.585Z"
   },
   {
    "duration": 44,
    "start_time": "2022-04-02T16:55:09.609Z"
   },
   {
    "duration": 9508,
    "start_time": "2022-04-02T16:55:09.655Z"
   },
   {
    "duration": 9,
    "start_time": "2022-04-02T16:57:27.469Z"
   },
   {
    "duration": 8,
    "start_time": "2022-04-02T16:58:34.657Z"
   },
   {
    "duration": 19,
    "start_time": "2022-04-02T16:58:39.094Z"
   },
   {
    "duration": 20,
    "start_time": "2022-04-02T16:58:45.130Z"
   },
   {
    "duration": 4,
    "start_time": "2022-04-02T16:59:19.190Z"
   },
   {
    "duration": 131,
    "start_time": "2022-04-02T16:59:19.197Z"
   },
   {
    "duration": 15,
    "start_time": "2022-04-02T16:59:19.331Z"
   },
   {
    "duration": 15,
    "start_time": "2022-04-02T16:59:19.348Z"
   },
   {
    "duration": 26,
    "start_time": "2022-04-02T16:59:19.365Z"
   },
   {
    "duration": 7,
    "start_time": "2022-04-02T16:59:19.393Z"
   },
   {
    "duration": 109,
    "start_time": "2022-04-02T16:59:19.402Z"
   },
   {
    "duration": 89,
    "start_time": "2022-04-02T16:59:19.513Z"
   },
   {
    "duration": 8,
    "start_time": "2022-04-02T16:59:19.605Z"
   },
   {
    "duration": 122,
    "start_time": "2022-04-02T16:59:19.616Z"
   },
   {
    "duration": 101,
    "start_time": "2022-04-02T16:59:19.742Z"
   },
   {
    "duration": 22,
    "start_time": "2022-04-02T16:59:19.845Z"
   },
   {
    "duration": 24,
    "start_time": "2022-04-02T16:59:19.869Z"
   },
   {
    "duration": 9411,
    "start_time": "2022-04-02T16:59:19.895Z"
   },
   {
    "duration": 16,
    "start_time": "2022-04-02T16:59:29.309Z"
   },
   {
    "duration": 19,
    "start_time": "2022-04-02T16:59:45.949Z"
   },
   {
    "duration": 9,
    "start_time": "2022-04-02T17:01:35.044Z"
   },
   {
    "duration": 14,
    "start_time": "2022-04-02T17:01:47.587Z"
   },
   {
    "duration": 11,
    "start_time": "2022-04-02T17:02:00.716Z"
   },
   {
    "duration": 20,
    "start_time": "2022-04-02T17:02:23.106Z"
   },
   {
    "duration": 19,
    "start_time": "2022-04-02T17:02:29.280Z"
   },
   {
    "duration": 9,
    "start_time": "2022-04-02T17:03:28.293Z"
   },
   {
    "duration": 229,
    "start_time": "2022-04-02T17:04:41.057Z"
   },
   {
    "duration": 21,
    "start_time": "2022-04-02T17:04:56.522Z"
   },
   {
    "duration": 23,
    "start_time": "2022-04-02T17:06:10.109Z"
   },
   {
    "duration": 23,
    "start_time": "2022-04-02T17:07:06.485Z"
   },
   {
    "duration": 22,
    "start_time": "2022-04-02T17:08:56.442Z"
   },
   {
    "duration": 23,
    "start_time": "2022-04-02T17:09:08.167Z"
   },
   {
    "duration": 22,
    "start_time": "2022-04-02T17:09:28.754Z"
   },
   {
    "duration": 20,
    "start_time": "2022-04-02T17:10:05.417Z"
   },
   {
    "duration": 21,
    "start_time": "2022-04-02T17:10:12.044Z"
   },
   {
    "duration": 17,
    "start_time": "2022-04-02T17:13:37.161Z"
   },
   {
    "duration": 17,
    "start_time": "2022-04-02T17:14:09.778Z"
   },
   {
    "duration": 5,
    "start_time": "2022-04-02T18:12:04.413Z"
   },
   {
    "duration": 102,
    "start_time": "2022-04-02T18:12:04.421Z"
   },
   {
    "duration": 17,
    "start_time": "2022-04-02T18:12:04.526Z"
   },
   {
    "duration": 15,
    "start_time": "2022-04-02T18:12:04.546Z"
   },
   {
    "duration": 30,
    "start_time": "2022-04-02T18:12:04.563Z"
   },
   {
    "duration": 6,
    "start_time": "2022-04-02T18:12:04.595Z"
   },
   {
    "duration": 102,
    "start_time": "2022-04-02T18:12:04.604Z"
   },
   {
    "duration": 93,
    "start_time": "2022-04-02T18:12:04.709Z"
   },
   {
    "duration": 8,
    "start_time": "2022-04-02T18:12:04.805Z"
   },
   {
    "duration": 129,
    "start_time": "2022-04-02T18:12:04.815Z"
   },
   {
    "duration": 74,
    "start_time": "2022-04-02T18:12:04.947Z"
   },
   {
    "duration": 22,
    "start_time": "2022-04-02T18:12:05.042Z"
   },
   {
    "duration": 22,
    "start_time": "2022-04-02T18:12:05.066Z"
   },
   {
    "duration": 9636,
    "start_time": "2022-04-02T18:12:05.090Z"
   },
   {
    "duration": 16,
    "start_time": "2022-04-02T18:12:14.728Z"
   },
   {
    "duration": 33,
    "start_time": "2022-04-02T18:12:14.747Z"
   },
   {
    "duration": 20,
    "start_time": "2022-04-02T18:16:06.084Z"
   },
   {
    "duration": 23,
    "start_time": "2022-04-02T18:16:32.037Z"
   },
   {
    "duration": 21,
    "start_time": "2022-04-02T18:16:37.106Z"
   },
   {
    "duration": 21,
    "start_time": "2022-04-02T18:16:47.640Z"
   },
   {
    "duration": 20,
    "start_time": "2022-04-02T18:18:24.662Z"
   },
   {
    "duration": 31,
    "start_time": "2022-04-02T18:18:29.116Z"
   },
   {
    "duration": 31,
    "start_time": "2022-04-02T18:18:41.913Z"
   },
   {
    "duration": 21,
    "start_time": "2022-04-02T18:18:48.189Z"
   },
   {
    "duration": 57,
    "start_time": "2022-04-02T18:20:09.831Z"
   },
   {
    "duration": 24,
    "start_time": "2022-04-02T18:20:27.301Z"
   },
   {
    "duration": 30,
    "start_time": "2022-04-02T18:24:35.859Z"
   },
   {
    "duration": 24,
    "start_time": "2022-04-02T18:25:25.798Z"
   },
   {
    "duration": 32,
    "start_time": "2022-04-02T18:25:29.030Z"
   },
   {
    "duration": 29,
    "start_time": "2022-04-02T18:25:44.837Z"
   },
   {
    "duration": 26,
    "start_time": "2022-04-02T18:32:20.504Z"
   },
   {
    "duration": 18,
    "start_time": "2022-04-02T18:32:42.745Z"
   },
   {
    "duration": 21,
    "start_time": "2022-04-02T18:33:12.191Z"
   },
   {
    "duration": 27,
    "start_time": "2022-04-02T18:33:32.414Z"
   },
   {
    "duration": 19,
    "start_time": "2022-04-02T18:42:24.361Z"
   },
   {
    "duration": 19,
    "start_time": "2022-04-02T18:42:36.740Z"
   },
   {
    "duration": 19,
    "start_time": "2022-04-02T18:42:40.791Z"
   },
   {
    "duration": 22,
    "start_time": "2022-04-02T18:43:07.220Z"
   },
   {
    "duration": 24,
    "start_time": "2022-04-02T18:43:15.001Z"
   },
   {
    "duration": 35,
    "start_time": "2022-04-02T18:43:24.219Z"
   },
   {
    "duration": 21,
    "start_time": "2022-04-02T18:43:28.086Z"
   },
   {
    "duration": 26,
    "start_time": "2022-04-02T18:43:35.476Z"
   },
   {
    "duration": 28,
    "start_time": "2022-04-02T18:48:13.070Z"
   },
   {
    "duration": 21,
    "start_time": "2022-04-02T18:48:48.410Z"
   },
   {
    "duration": 31,
    "start_time": "2022-04-02T18:58:38.137Z"
   },
   {
    "duration": 53,
    "start_time": "2022-04-02T19:00:05.383Z"
   },
   {
    "duration": 20,
    "start_time": "2022-04-02T19:05:35.897Z"
   },
   {
    "duration": 9,
    "start_time": "2022-04-02T19:13:33.066Z"
   },
   {
    "duration": 11,
    "start_time": "2022-04-02T19:13:52.781Z"
   },
   {
    "duration": 8,
    "start_time": "2022-04-02T19:14:04.622Z"
   },
   {
    "duration": 5,
    "start_time": "2022-04-02T19:14:12.310Z"
   },
   {
    "duration": 107,
    "start_time": "2022-04-02T19:14:12.318Z"
   },
   {
    "duration": 16,
    "start_time": "2022-04-02T19:14:12.427Z"
   },
   {
    "duration": 11,
    "start_time": "2022-04-02T19:14:12.446Z"
   },
   {
    "duration": 26,
    "start_time": "2022-04-02T19:14:12.460Z"
   },
   {
    "duration": 7,
    "start_time": "2022-04-02T19:14:12.488Z"
   },
   {
    "duration": 119,
    "start_time": "2022-04-02T19:14:12.497Z"
   },
   {
    "duration": 90,
    "start_time": "2022-04-02T19:14:12.620Z"
   },
   {
    "duration": 29,
    "start_time": "2022-04-02T19:14:12.713Z"
   },
   {
    "duration": 112,
    "start_time": "2022-04-02T19:14:12.748Z"
   },
   {
    "duration": 93,
    "start_time": "2022-04-02T19:14:12.863Z"
   },
   {
    "duration": 21,
    "start_time": "2022-04-02T19:14:12.958Z"
   },
   {
    "duration": 31,
    "start_time": "2022-04-02T19:14:12.982Z"
   },
   {
    "duration": 9769,
    "start_time": "2022-04-02T19:14:13.016Z"
   },
   {
    "duration": 8,
    "start_time": "2022-04-02T19:14:22.787Z"
   },
   {
    "duration": 63,
    "start_time": "2022-04-02T19:14:22.797Z"
   },
   {
    "duration": 19,
    "start_time": "2022-04-02T19:14:22.862Z"
   },
   {
    "duration": 9,
    "start_time": "2022-04-02T19:14:22.883Z"
   },
   {
    "duration": 98,
    "start_time": "2022-04-02T19:17:19.908Z"
   },
   {
    "duration": 73,
    "start_time": "2022-04-02T19:17:26.672Z"
   },
   {
    "duration": 69,
    "start_time": "2022-04-02T19:17:34.141Z"
   },
   {
    "duration": 66,
    "start_time": "2022-04-02T19:17:38.915Z"
   },
   {
    "duration": 81,
    "start_time": "2022-04-02T19:18:07.332Z"
   },
   {
    "duration": 26,
    "start_time": "2022-04-02T19:36:49.209Z"
   },
   {
    "duration": 958,
    "start_time": "2022-04-02T19:37:14.996Z"
   },
   {
    "duration": 882,
    "start_time": "2022-04-02T19:38:29.738Z"
   },
   {
    "duration": 16,
    "start_time": "2022-04-02T19:38:49.737Z"
   },
   {
    "duration": 4,
    "start_time": "2022-04-02T19:38:53.424Z"
   },
   {
    "duration": 101,
    "start_time": "2022-04-02T19:38:53.431Z"
   },
   {
    "duration": 11,
    "start_time": "2022-04-02T19:38:53.534Z"
   },
   {
    "duration": 26,
    "start_time": "2022-04-02T19:38:53.549Z"
   },
   {
    "duration": 40,
    "start_time": "2022-04-02T19:38:53.577Z"
   },
   {
    "duration": 6,
    "start_time": "2022-04-02T19:38:53.619Z"
   },
   {
    "duration": 109,
    "start_time": "2022-04-02T19:38:53.627Z"
   },
   {
    "duration": 105,
    "start_time": "2022-04-02T19:38:53.739Z"
   },
   {
    "duration": 11,
    "start_time": "2022-04-02T19:38:53.846Z"
   },
   {
    "duration": 187,
    "start_time": "2022-04-02T19:38:53.863Z"
   },
   {
    "duration": 199,
    "start_time": "2022-04-02T19:38:54.053Z"
   },
   {
    "duration": 22,
    "start_time": "2022-04-02T19:38:54.254Z"
   },
   {
    "duration": 20,
    "start_time": "2022-04-02T19:38:54.278Z"
   },
   {
    "duration": 10630,
    "start_time": "2022-04-02T19:38:54.300Z"
   },
   {
    "duration": 16,
    "start_time": "2022-04-02T19:39:04.932Z"
   },
   {
    "duration": 54,
    "start_time": "2022-04-02T19:39:04.951Z"
   },
   {
    "duration": 38,
    "start_time": "2022-04-02T19:39:05.008Z"
   },
   {
    "duration": 98,
    "start_time": "2022-04-02T19:39:05.049Z"
   },
   {
    "duration": 20,
    "start_time": "2022-04-02T19:39:05.149Z"
   },
   {
    "duration": 15,
    "start_time": "2022-04-02T19:39:37.672Z"
   },
   {
    "duration": 14,
    "start_time": "2022-04-02T19:40:13.127Z"
   },
   {
    "duration": 3443,
    "start_time": "2022-04-02T19:42:34.148Z"
   },
   {
    "duration": 18,
    "start_time": "2022-04-02T19:44:07.011Z"
   },
   {
    "duration": 17,
    "start_time": "2022-04-02T19:44:50.393Z"
   },
   {
    "duration": 859,
    "start_time": "2022-04-02T19:45:27.061Z"
   },
   {
    "duration": 28,
    "start_time": "2022-04-02T19:45:56.858Z"
   },
   {
    "duration": 31,
    "start_time": "2022-04-02T19:48:45.868Z"
   },
   {
    "duration": 17,
    "start_time": "2022-04-02T19:49:04.706Z"
   },
   {
    "duration": 34,
    "start_time": "2022-04-02T19:49:20.833Z"
   },
   {
    "duration": 26,
    "start_time": "2022-04-02T19:49:28.011Z"
   },
   {
    "duration": 25,
    "start_time": "2022-04-02T19:49:40.754Z"
   },
   {
    "duration": 25,
    "start_time": "2022-04-02T19:49:51.491Z"
   },
   {
    "duration": 35,
    "start_time": "2022-04-02T19:50:00.938Z"
   },
   {
    "duration": 36,
    "start_time": "2022-04-02T19:53:23.581Z"
   },
   {
    "duration": 197,
    "start_time": "2022-04-02T19:53:49.609Z"
   },
   {
    "duration": 215,
    "start_time": "2022-04-02T19:54:06.612Z"
   },
   {
    "duration": 265,
    "start_time": "2022-04-02T19:55:19.190Z"
   },
   {
    "duration": 214,
    "start_time": "2022-04-02T19:55:54.126Z"
   },
   {
    "duration": 223,
    "start_time": "2022-04-02T19:56:05.659Z"
   },
   {
    "duration": 209,
    "start_time": "2022-04-02T19:56:12.613Z"
   },
   {
    "duration": 203,
    "start_time": "2022-04-02T19:56:31.386Z"
   },
   {
    "duration": 248,
    "start_time": "2022-04-02T19:57:11.064Z"
   },
   {
    "duration": 220,
    "start_time": "2022-04-02T19:57:14.661Z"
   },
   {
    "duration": 38,
    "start_time": "2022-04-02T19:57:48.068Z"
   },
   {
    "duration": 37,
    "start_time": "2022-04-02T19:58:03.606Z"
   },
   {
    "duration": 38,
    "start_time": "2022-04-02T19:58:17.430Z"
   },
   {
    "duration": 39,
    "start_time": "2022-04-02T19:59:11.948Z"
   },
   {
    "duration": 121,
    "start_time": "2022-04-02T20:02:34.141Z"
   },
   {
    "duration": 106,
    "start_time": "2022-04-02T20:02:38.784Z"
   },
   {
    "duration": 24,
    "start_time": "2022-04-02T20:03:04.339Z"
   },
   {
    "duration": 90,
    "start_time": "2022-04-02T20:03:15.426Z"
   },
   {
    "duration": 36,
    "start_time": "2022-04-02T20:03:24.717Z"
   },
   {
    "duration": 33,
    "start_time": "2022-04-02T20:05:58.522Z"
   },
   {
    "duration": 39,
    "start_time": "2022-04-02T20:06:20.237Z"
   },
   {
    "duration": 38,
    "start_time": "2022-04-02T20:06:26.481Z"
   },
   {
    "duration": 38,
    "start_time": "2022-04-02T20:06:47.904Z"
   },
   {
    "duration": 34,
    "start_time": "2022-04-02T20:08:16.127Z"
   },
   {
    "duration": 37,
    "start_time": "2022-04-02T20:12:45.883Z"
   },
   {
    "duration": 69,
    "start_time": "2022-04-02T20:14:23.325Z"
   },
   {
    "duration": 86,
    "start_time": "2022-04-02T20:15:14.615Z"
   },
   {
    "duration": 27,
    "start_time": "2022-04-02T20:16:16.109Z"
   },
   {
    "duration": 33,
    "start_time": "2022-04-02T20:16:33.236Z"
   },
   {
    "duration": 38,
    "start_time": "2022-04-02T20:17:07.696Z"
   },
   {
    "duration": 35,
    "start_time": "2022-04-02T20:18:06.820Z"
   },
   {
    "duration": 32,
    "start_time": "2022-04-02T20:18:19.955Z"
   },
   {
    "duration": 36,
    "start_time": "2022-04-02T20:19:55.737Z"
   },
   {
    "duration": 41,
    "start_time": "2022-04-02T20:21:32.110Z"
   },
   {
    "duration": 54,
    "start_time": "2022-04-02T20:21:38.702Z"
   },
   {
    "duration": 36,
    "start_time": "2022-04-02T20:22:45.181Z"
   },
   {
    "duration": 38,
    "start_time": "2022-04-02T20:23:07.407Z"
   },
   {
    "duration": 38,
    "start_time": "2022-04-02T20:23:13.452Z"
   },
   {
    "duration": 38,
    "start_time": "2022-04-02T20:24:49.666Z"
   },
   {
    "duration": 78,
    "start_time": "2022-04-02T20:27:10.319Z"
   },
   {
    "duration": 79,
    "start_time": "2022-04-02T20:27:27.802Z"
   },
   {
    "duration": 91,
    "start_time": "2022-04-02T20:30:40.018Z"
   },
   {
    "duration": 40,
    "start_time": "2022-04-02T20:46:15.118Z"
   },
   {
    "duration": 1654,
    "start_time": "2022-04-02T20:47:15.101Z"
   },
   {
    "duration": 99,
    "start_time": "2022-04-02T20:47:16.757Z"
   },
   {
    "duration": 5,
    "start_time": "2022-04-02T20:47:16.858Z"
   },
   {
    "duration": 16,
    "start_time": "2022-04-02T20:47:16.867Z"
   },
   {
    "duration": 28,
    "start_time": "2022-04-02T20:47:16.886Z"
   },
   {
    "duration": 7,
    "start_time": "2022-04-02T20:47:16.943Z"
   },
   {
    "duration": 561,
    "start_time": "2022-04-02T20:47:16.952Z"
   },
   {
    "duration": 142,
    "start_time": "2022-04-02T20:47:17.515Z"
   },
   {
    "duration": 9,
    "start_time": "2022-04-02T20:47:17.659Z"
   },
   {
    "duration": 142,
    "start_time": "2022-04-02T20:47:17.671Z"
   },
   {
    "duration": 94,
    "start_time": "2022-04-02T20:47:17.816Z"
   },
   {
    "duration": 42,
    "start_time": "2022-04-02T20:47:17.912Z"
   },
   {
    "duration": 24,
    "start_time": "2022-04-02T20:47:17.956Z"
   },
   {
    "duration": 12842,
    "start_time": "2022-04-02T20:47:17.983Z"
   },
   {
    "duration": 19,
    "start_time": "2022-04-02T20:47:30.827Z"
   },
   {
    "duration": 41,
    "start_time": "2022-04-02T20:47:30.848Z"
   },
   {
    "duration": 53,
    "start_time": "2022-04-02T20:47:30.891Z"
   },
   {
    "duration": 109,
    "start_time": "2022-04-02T20:47:30.947Z"
   },
   {
    "duration": 48,
    "start_time": "2022-04-02T20:47:31.059Z"
   },
   {
    "duration": 216,
    "start_time": "2022-04-02T20:47:31.110Z"
   },
   {
    "duration": 2877,
    "start_time": "2022-04-03T16:29:53.832Z"
   },
   {
    "duration": 97,
    "start_time": "2022-04-03T16:29:56.712Z"
   },
   {
    "duration": 5,
    "start_time": "2022-04-03T16:29:56.811Z"
   },
   {
    "duration": 25,
    "start_time": "2022-04-03T16:29:56.819Z"
   },
   {
    "duration": 27,
    "start_time": "2022-04-03T16:29:56.846Z"
   },
   {
    "duration": 6,
    "start_time": "2022-04-03T16:29:56.875Z"
   },
   {
    "duration": 581,
    "start_time": "2022-04-03T16:29:56.884Z"
   },
   {
    "duration": 118,
    "start_time": "2022-04-03T16:29:57.468Z"
   },
   {
    "duration": 61,
    "start_time": "2022-04-03T16:29:57.588Z"
   },
   {
    "duration": 152,
    "start_time": "2022-04-03T16:29:57.653Z"
   },
   {
    "duration": 103,
    "start_time": "2022-04-03T16:29:57.807Z"
   },
   {
    "duration": 44,
    "start_time": "2022-04-03T16:29:57.912Z"
   },
   {
    "duration": 23,
    "start_time": "2022-04-03T16:29:57.958Z"
   },
   {
    "duration": 9338,
    "start_time": "2022-04-03T16:29:57.983Z"
   },
   {
    "duration": 9,
    "start_time": "2022-04-03T16:30:07.323Z"
   },
   {
    "duration": 36,
    "start_time": "2022-04-03T16:30:07.344Z"
   },
   {
    "duration": 19,
    "start_time": "2022-04-03T16:30:07.382Z"
   },
   {
    "duration": 121,
    "start_time": "2022-04-03T16:30:07.403Z"
   },
   {
    "duration": 42,
    "start_time": "2022-04-03T16:30:07.543Z"
   },
   {
    "duration": 260,
    "start_time": "2022-04-03T16:30:07.587Z"
   },
   {
    "duration": 9,
    "start_time": "2022-04-03T16:32:44.571Z"
   },
   {
    "duration": 15,
    "start_time": "2022-04-03T16:34:35.840Z"
   },
   {
    "duration": 253,
    "start_time": "2022-04-03T16:36:56.706Z"
   },
   {
    "duration": 236,
    "start_time": "2022-04-03T16:37:34.788Z"
   },
   {
    "duration": 71,
    "start_time": "2022-04-03T16:38:36.852Z"
   },
   {
    "duration": 74,
    "start_time": "2022-04-03T16:38:51.754Z"
   },
   {
    "duration": 10,
    "start_time": "2022-04-03T16:39:17.961Z"
   },
   {
    "duration": 129,
    "start_time": "2022-04-03T16:39:29.547Z"
   },
   {
    "duration": 14,
    "start_time": "2022-04-03T16:43:45.779Z"
   },
   {
    "duration": 15,
    "start_time": "2022-04-03T16:43:52.370Z"
   },
   {
    "duration": 21,
    "start_time": "2022-04-03T16:44:03.796Z"
   },
   {
    "duration": 28,
    "start_time": "2022-04-03T16:44:16.932Z"
   },
   {
    "duration": 19,
    "start_time": "2022-04-03T16:44:20.981Z"
   },
   {
    "duration": 16,
    "start_time": "2022-04-03T16:44:24.373Z"
   },
   {
    "duration": 19,
    "start_time": "2022-04-03T16:44:28.845Z"
   },
   {
    "duration": 24,
    "start_time": "2022-04-03T16:51:09.740Z"
   },
   {
    "duration": 21,
    "start_time": "2022-04-03T16:51:27.589Z"
   },
   {
    "duration": 14,
    "start_time": "2022-04-03T16:52:22.694Z"
   },
   {
    "duration": 24,
    "start_time": "2022-04-03T16:52:37.886Z"
   },
   {
    "duration": 52,
    "start_time": "2022-04-03T16:57:14.887Z"
   },
   {
    "duration": 48,
    "start_time": "2022-04-03T17:00:40.405Z"
   },
   {
    "duration": 82,
    "start_time": "2022-04-03T17:02:33.674Z"
   },
   {
    "duration": 80,
    "start_time": "2022-04-03T17:02:44.919Z"
   },
   {
    "duration": 162,
    "start_time": "2022-04-03T17:03:11.999Z"
   },
   {
    "duration": 137,
    "start_time": "2022-04-03T17:05:02.028Z"
   },
   {
    "duration": 56,
    "start_time": "2022-04-03T17:05:08.280Z"
   },
   {
    "duration": 78,
    "start_time": "2022-04-03T17:05:17.661Z"
   },
   {
    "duration": 44,
    "start_time": "2022-04-03T17:07:33.476Z"
   },
   {
    "duration": 76,
    "start_time": "2022-04-03T17:07:44.647Z"
   },
   {
    "duration": 71,
    "start_time": "2022-04-03T17:08:13.762Z"
   },
   {
    "duration": 81,
    "start_time": "2022-04-03T17:08:22.321Z"
   },
   {
    "duration": 154,
    "start_time": "2022-04-03T17:09:03.000Z"
   },
   {
    "duration": 75,
    "start_time": "2022-04-03T17:09:07.666Z"
   },
   {
    "duration": 89,
    "start_time": "2022-04-03T17:09:21.517Z"
   },
   {
    "duration": 109,
    "start_time": "2022-04-03T17:12:31.048Z"
   },
   {
    "duration": 74,
    "start_time": "2022-04-03T17:13:16.763Z"
   },
   {
    "duration": 75,
    "start_time": "2022-04-03T17:14:16.553Z"
   },
   {
    "duration": 69,
    "start_time": "2022-04-03T17:16:18.588Z"
   },
   {
    "duration": 223,
    "start_time": "2022-04-03T17:16:36.367Z"
   },
   {
    "duration": 78,
    "start_time": "2022-04-03T17:17:19.227Z"
   },
   {
    "duration": 68,
    "start_time": "2022-04-03T17:17:49.136Z"
   },
   {
    "duration": 46,
    "start_time": "2022-04-03T17:18:56.141Z"
   },
   {
    "duration": 54,
    "start_time": "2022-04-03T17:19:01.416Z"
   },
   {
    "duration": 4,
    "start_time": "2022-04-03T17:19:13.663Z"
   },
   {
    "duration": 97,
    "start_time": "2022-04-03T17:19:13.670Z"
   },
   {
    "duration": 5,
    "start_time": "2022-04-03T17:19:13.770Z"
   },
   {
    "duration": 12,
    "start_time": "2022-04-03T17:19:13.777Z"
   },
   {
    "duration": 55,
    "start_time": "2022-04-03T17:19:13.793Z"
   },
   {
    "duration": 7,
    "start_time": "2022-04-03T17:19:13.851Z"
   },
   {
    "duration": 98,
    "start_time": "2022-04-03T17:19:13.861Z"
   },
   {
    "duration": 86,
    "start_time": "2022-04-03T17:19:13.962Z"
   },
   {
    "duration": 8,
    "start_time": "2022-04-03T17:19:14.050Z"
   },
   {
    "duration": 111,
    "start_time": "2022-04-03T17:19:14.060Z"
   },
   {
    "duration": 85,
    "start_time": "2022-04-03T17:19:14.174Z"
   },
   {
    "duration": 21,
    "start_time": "2022-04-03T17:19:14.261Z"
   },
   {
    "duration": 19,
    "start_time": "2022-04-03T17:19:14.284Z"
   },
   {
    "duration": 9527,
    "start_time": "2022-04-03T17:19:14.305Z"
   },
   {
    "duration": 14,
    "start_time": "2022-04-03T17:19:23.834Z"
   },
   {
    "duration": 36,
    "start_time": "2022-04-03T17:19:23.850Z"
   },
   {
    "duration": 20,
    "start_time": "2022-04-03T17:19:23.888Z"
   },
   {
    "duration": 103,
    "start_time": "2022-04-03T17:19:23.943Z"
   },
   {
    "duration": 42,
    "start_time": "2022-04-03T17:19:24.048Z"
   },
   {
    "duration": 195,
    "start_time": "2022-04-03T17:19:24.092Z"
   },
   {
    "duration": 91,
    "start_time": "2022-04-03T17:19:24.290Z"
   },
   {
    "duration": 67,
    "start_time": "2022-04-03T17:19:24.383Z"
   },
   {
    "duration": 129,
    "start_time": "2022-04-03T17:19:24.453Z"
   },
   {
    "duration": 15,
    "start_time": "2022-04-03T17:20:34.177Z"
   },
   {
    "duration": 44,
    "start_time": "2022-04-03T17:22:20.945Z"
   },
   {
    "duration": 31,
    "start_time": "2022-04-03T17:23:36.690Z"
   },
   {
    "duration": 30,
    "start_time": "2022-04-03T17:23:56.550Z"
   },
   {
    "duration": 14,
    "start_time": "2022-04-03T17:27:49.704Z"
   },
   {
    "duration": 39,
    "start_time": "2022-04-03T17:36:35.556Z"
   },
   {
    "duration": 6,
    "start_time": "2022-04-03T17:37:58.707Z"
   },
   {
    "duration": 111,
    "start_time": "2022-04-03T17:37:58.715Z"
   },
   {
    "duration": 7,
    "start_time": "2022-04-03T17:37:58.844Z"
   },
   {
    "duration": 24,
    "start_time": "2022-04-03T17:37:58.855Z"
   },
   {
    "duration": 60,
    "start_time": "2022-04-03T17:37:58.882Z"
   },
   {
    "duration": 11,
    "start_time": "2022-04-03T17:37:58.945Z"
   },
   {
    "duration": 181,
    "start_time": "2022-04-03T17:37:58.962Z"
   },
   {
    "duration": 113,
    "start_time": "2022-04-03T17:37:59.147Z"
   },
   {
    "duration": 15,
    "start_time": "2022-04-03T17:37:59.265Z"
   },
   {
    "duration": 186,
    "start_time": "2022-04-03T17:37:59.284Z"
   },
   {
    "duration": 128,
    "start_time": "2022-04-03T17:37:59.473Z"
   },
   {
    "duration": 40,
    "start_time": "2022-04-03T17:37:59.604Z"
   },
   {
    "duration": 36,
    "start_time": "2022-04-03T17:37:59.646Z"
   },
   {
    "duration": 12311,
    "start_time": "2022-04-03T17:37:59.685Z"
   },
   {
    "duration": 10,
    "start_time": "2022-04-03T17:38:11.998Z"
   },
   {
    "duration": 60,
    "start_time": "2022-04-03T17:38:12.010Z"
   },
   {
    "duration": 19,
    "start_time": "2022-04-03T17:38:12.072Z"
   },
   {
    "duration": 102,
    "start_time": "2022-04-03T17:38:12.093Z"
   },
   {
    "duration": 59,
    "start_time": "2022-04-03T17:38:12.197Z"
   },
   {
    "duration": 116,
    "start_time": "2022-04-03T17:38:12.258Z"
   },
   {
    "duration": 94,
    "start_time": "2022-04-03T17:38:12.376Z"
   },
   {
    "duration": 53,
    "start_time": "2022-04-03T17:38:12.472Z"
   },
   {
    "duration": 18,
    "start_time": "2022-04-03T17:38:12.542Z"
   },
   {
    "duration": 42,
    "start_time": "2022-04-03T17:38:12.564Z"
   },
   {
    "duration": 3,
    "start_time": "2022-04-03T17:38:12.608Z"
   },
   {
    "duration": 5,
    "start_time": "2022-04-03T17:38:55.348Z"
   },
   {
    "duration": 144,
    "start_time": "2022-04-03T17:38:55.356Z"
   },
   {
    "duration": 6,
    "start_time": "2022-04-03T17:38:55.502Z"
   },
   {
    "duration": 38,
    "start_time": "2022-04-03T17:38:55.512Z"
   },
   {
    "duration": 29,
    "start_time": "2022-04-03T17:38:55.552Z"
   },
   {
    "duration": 8,
    "start_time": "2022-04-03T17:38:55.584Z"
   },
   {
    "duration": 166,
    "start_time": "2022-04-03T17:38:55.595Z"
   },
   {
    "duration": 91,
    "start_time": "2022-04-03T17:38:55.764Z"
   },
   {
    "duration": 12,
    "start_time": "2022-04-03T17:38:55.860Z"
   },
   {
    "duration": 207,
    "start_time": "2022-04-03T17:38:55.874Z"
   },
   {
    "duration": 89,
    "start_time": "2022-04-03T17:38:56.083Z"
   },
   {
    "duration": 23,
    "start_time": "2022-04-03T17:38:56.175Z"
   },
   {
    "duration": 52,
    "start_time": "2022-04-03T17:38:56.200Z"
   },
   {
    "duration": 10116,
    "start_time": "2022-04-03T17:38:56.255Z"
   },
   {
    "duration": 9,
    "start_time": "2022-04-03T17:39:06.374Z"
   },
   {
    "duration": 65,
    "start_time": "2022-04-03T17:39:06.386Z"
   },
   {
    "duration": 20,
    "start_time": "2022-04-03T17:39:06.453Z"
   },
   {
    "duration": 97,
    "start_time": "2022-04-03T17:39:06.475Z"
   },
   {
    "duration": 41,
    "start_time": "2022-04-03T17:39:06.574Z"
   },
   {
    "duration": 130,
    "start_time": "2022-04-03T17:39:06.618Z"
   },
   {
    "duration": 73,
    "start_time": "2022-04-03T17:39:06.750Z"
   },
   {
    "duration": 68,
    "start_time": "2022-04-03T17:39:06.825Z"
   },
   {
    "duration": 17,
    "start_time": "2022-04-03T17:39:06.895Z"
   },
   {
    "duration": 134,
    "start_time": "2022-04-03T17:39:06.916Z"
   },
   {
    "duration": 4,
    "start_time": "2022-04-03T17:42:21.902Z"
   },
   {
    "duration": 106,
    "start_time": "2022-04-03T17:42:21.908Z"
   },
   {
    "duration": 29,
    "start_time": "2022-04-03T17:42:22.017Z"
   },
   {
    "duration": 14,
    "start_time": "2022-04-03T17:42:22.048Z"
   },
   {
    "duration": 27,
    "start_time": "2022-04-03T17:42:22.066Z"
   },
   {
    "duration": 7,
    "start_time": "2022-04-03T17:42:22.095Z"
   },
   {
    "duration": 112,
    "start_time": "2022-04-03T17:42:22.105Z"
   },
   {
    "duration": 94,
    "start_time": "2022-04-03T17:42:22.219Z"
   },
   {
    "duration": 8,
    "start_time": "2022-04-03T17:42:22.315Z"
   },
   {
    "duration": 138,
    "start_time": "2022-04-03T17:42:22.325Z"
   },
   {
    "duration": 95,
    "start_time": "2022-04-03T17:42:22.467Z"
   },
   {
    "duration": 22,
    "start_time": "2022-04-03T17:42:22.564Z"
   },
   {
    "duration": 26,
    "start_time": "2022-04-03T17:42:22.588Z"
   },
   {
    "duration": 10184,
    "start_time": "2022-04-03T17:42:22.643Z"
   },
   {
    "duration": 15,
    "start_time": "2022-04-03T17:42:32.829Z"
   },
   {
    "duration": 43,
    "start_time": "2022-04-03T17:42:32.846Z"
   },
   {
    "duration": 21,
    "start_time": "2022-04-03T17:42:32.892Z"
   },
   {
    "duration": 103,
    "start_time": "2022-04-03T17:42:32.915Z"
   },
   {
    "duration": 62,
    "start_time": "2022-04-03T17:42:33.020Z"
   },
   {
    "duration": 123,
    "start_time": "2022-04-03T17:42:33.084Z"
   },
   {
    "duration": 91,
    "start_time": "2022-04-03T17:42:33.209Z"
   },
   {
    "duration": 65,
    "start_time": "2022-04-03T17:42:33.301Z"
   },
   {
    "duration": 17,
    "start_time": "2022-04-03T17:42:33.368Z"
   },
   {
    "duration": 135,
    "start_time": "2022-04-03T17:42:33.388Z"
   },
   {
    "duration": 15,
    "start_time": "2022-04-03T17:51:39.387Z"
   },
   {
    "duration": 17,
    "start_time": "2022-04-03T17:51:42.829Z"
   },
   {
    "duration": 33,
    "start_time": "2022-04-03T17:53:30.772Z"
   },
   {
    "duration": 15,
    "start_time": "2022-04-03T17:54:20.248Z"
   },
   {
    "duration": 17,
    "start_time": "2022-04-03T17:54:25.496Z"
   },
   {
    "duration": 15,
    "start_time": "2022-04-03T17:54:28.494Z"
   },
   {
    "duration": 32,
    "start_time": "2022-04-03T17:55:21.416Z"
   },
   {
    "duration": 32,
    "start_time": "2022-04-03T17:56:55.386Z"
   },
   {
    "duration": 21,
    "start_time": "2022-04-03T17:57:03.715Z"
   },
   {
    "duration": 31,
    "start_time": "2022-04-03T17:57:29.446Z"
   },
   {
    "duration": 16,
    "start_time": "2022-04-03T17:59:22.069Z"
   },
   {
    "duration": 30,
    "start_time": "2022-04-03T17:59:31.301Z"
   },
   {
    "duration": 31,
    "start_time": "2022-04-03T17:59:36.171Z"
   },
   {
    "duration": 4,
    "start_time": "2022-04-03T17:59:45.810Z"
   },
   {
    "duration": 126,
    "start_time": "2022-04-03T17:59:45.817Z"
   },
   {
    "duration": 7,
    "start_time": "2022-04-03T17:59:45.946Z"
   },
   {
    "duration": 13,
    "start_time": "2022-04-03T17:59:45.955Z"
   },
   {
    "duration": 26,
    "start_time": "2022-04-03T17:59:45.972Z"
   },
   {
    "duration": 47,
    "start_time": "2022-04-03T17:59:46.000Z"
   },
   {
    "duration": 95,
    "start_time": "2022-04-03T17:59:46.049Z"
   },
   {
    "duration": 166,
    "start_time": "2022-04-03T17:59:46.147Z"
   },
   {
    "duration": 10,
    "start_time": "2022-04-03T17:59:46.316Z"
   },
   {
    "duration": 103,
    "start_time": "2022-04-03T17:59:46.343Z"
   },
   {
    "duration": 104,
    "start_time": "2022-04-03T17:59:46.452Z"
   },
   {
    "duration": 21,
    "start_time": "2022-04-03T17:59:46.558Z"
   },
   {
    "duration": 19,
    "start_time": "2022-04-03T17:59:46.581Z"
   },
   {
    "duration": 9860,
    "start_time": "2022-04-03T17:59:46.602Z"
   },
   {
    "duration": 8,
    "start_time": "2022-04-03T17:59:56.464Z"
   },
   {
    "duration": 34,
    "start_time": "2022-04-03T17:59:56.474Z"
   },
   {
    "duration": 46,
    "start_time": "2022-04-03T17:59:56.510Z"
   },
   {
    "duration": 91,
    "start_time": "2022-04-03T17:59:56.558Z"
   },
   {
    "duration": 40,
    "start_time": "2022-04-03T17:59:56.651Z"
   },
   {
    "duration": 117,
    "start_time": "2022-04-03T17:59:56.693Z"
   },
   {
    "duration": 83,
    "start_time": "2022-04-03T17:59:56.813Z"
   },
   {
    "duration": 64,
    "start_time": "2022-04-03T17:59:56.899Z"
   },
   {
    "duration": 18,
    "start_time": "2022-04-03T17:59:56.965Z"
   },
   {
    "duration": 116,
    "start_time": "2022-04-03T17:59:56.985Z"
   },
   {
    "duration": 15,
    "start_time": "2022-04-03T17:59:57.103Z"
   },
   {
    "duration": 50,
    "start_time": "2022-04-03T17:59:57.120Z"
   },
   {
    "duration": 27,
    "start_time": "2022-04-03T17:59:57.172Z"
   },
   {
    "duration": 4,
    "start_time": "2022-04-03T18:00:28.312Z"
   },
   {
    "duration": 98,
    "start_time": "2022-04-03T18:00:28.319Z"
   },
   {
    "duration": 26,
    "start_time": "2022-04-03T18:00:28.420Z"
   },
   {
    "duration": 15,
    "start_time": "2022-04-03T18:00:28.448Z"
   },
   {
    "duration": 27,
    "start_time": "2022-04-03T18:00:28.466Z"
   },
   {
    "duration": 6,
    "start_time": "2022-04-03T18:00:28.495Z"
   },
   {
    "duration": 102,
    "start_time": "2022-04-03T18:00:28.503Z"
   },
   {
    "duration": 94,
    "start_time": "2022-04-03T18:00:28.608Z"
   },
   {
    "duration": 7,
    "start_time": "2022-04-03T18:00:28.704Z"
   },
   {
    "duration": 118,
    "start_time": "2022-04-03T18:00:28.713Z"
   },
   {
    "duration": 78,
    "start_time": "2022-04-03T18:00:28.835Z"
   },
   {
    "duration": 40,
    "start_time": "2022-04-03T18:00:28.915Z"
   },
   {
    "duration": 19,
    "start_time": "2022-04-03T18:00:28.957Z"
   },
   {
    "duration": 9617,
    "start_time": "2022-04-03T18:00:28.978Z"
   },
   {
    "duration": 7,
    "start_time": "2022-04-03T18:00:38.597Z"
   },
   {
    "duration": 53,
    "start_time": "2022-04-03T18:00:38.606Z"
   },
   {
    "duration": 22,
    "start_time": "2022-04-03T18:00:38.660Z"
   },
   {
    "duration": 94,
    "start_time": "2022-04-03T18:00:38.684Z"
   },
   {
    "duration": 41,
    "start_time": "2022-04-03T18:00:38.780Z"
   },
   {
    "duration": 127,
    "start_time": "2022-04-03T18:00:38.823Z"
   },
   {
    "duration": 116,
    "start_time": "2022-04-03T18:00:38.952Z"
   },
   {
    "duration": 93,
    "start_time": "2022-04-03T18:00:39.071Z"
   },
   {
    "duration": 23,
    "start_time": "2022-04-03T18:00:39.167Z"
   },
   {
    "duration": 181,
    "start_time": "2022-04-03T18:00:39.193Z"
   },
   {
    "duration": 20,
    "start_time": "2022-04-03T18:00:39.377Z"
   },
   {
    "duration": 66,
    "start_time": "2022-04-03T18:00:39.399Z"
   },
   {
    "duration": 28,
    "start_time": "2022-04-03T18:00:39.467Z"
   },
   {
    "duration": 35,
    "start_time": "2022-04-03T18:01:53.732Z"
   },
   {
    "duration": 29,
    "start_time": "2022-04-03T18:04:44.127Z"
   },
   {
    "duration": 36,
    "start_time": "2022-04-03T18:05:20.657Z"
   },
   {
    "duration": 51,
    "start_time": "2022-04-03T18:05:42.164Z"
   },
   {
    "duration": 34,
    "start_time": "2022-04-03T18:06:27.145Z"
   },
   {
    "duration": 27,
    "start_time": "2022-04-03T18:06:33.539Z"
   },
   {
    "duration": 54,
    "start_time": "2022-04-03T18:06:40.829Z"
   },
   {
    "duration": 36,
    "start_time": "2022-04-03T18:06:47.853Z"
   },
   {
    "duration": 38,
    "start_time": "2022-04-03T18:07:00.702Z"
   },
   {
    "duration": 48,
    "start_time": "2022-04-03T18:10:00.910Z"
   },
   {
    "duration": 30,
    "start_time": "2022-04-03T18:10:47.277Z"
   },
   {
    "duration": 37,
    "start_time": "2022-04-03T18:11:22.218Z"
   },
   {
    "duration": 29,
    "start_time": "2022-04-03T18:11:37.647Z"
   },
   {
    "duration": 39,
    "start_time": "2022-04-03T18:11:48.464Z"
   },
   {
    "duration": 35,
    "start_time": "2022-04-03T18:13:44.206Z"
   },
   {
    "duration": 38,
    "start_time": "2022-04-03T18:13:52.376Z"
   },
   {
    "duration": 56,
    "start_time": "2022-04-03T18:13:58.372Z"
   },
   {
    "duration": 43,
    "start_time": "2022-04-04T06:58:38.294Z"
   },
   {
    "duration": 1273,
    "start_time": "2022-04-04T06:58:43.913Z"
   },
   {
    "duration": 83,
    "start_time": "2022-04-04T06:58:45.188Z"
   },
   {
    "duration": 3,
    "start_time": "2022-04-04T06:58:45.273Z"
   },
   {
    "duration": 12,
    "start_time": "2022-04-04T06:58:45.277Z"
   },
   {
    "duration": 18,
    "start_time": "2022-04-04T06:58:45.290Z"
   },
   {
    "duration": 4,
    "start_time": "2022-04-04T06:58:45.309Z"
   },
   {
    "duration": 71,
    "start_time": "2022-04-04T06:58:45.314Z"
   },
   {
    "duration": 5,
    "start_time": "2022-04-04T06:59:05.350Z"
   },
   {
    "duration": 3096,
    "start_time": "2022-04-04T06:59:10.526Z"
   },
   {
    "duration": 12,
    "start_time": "2022-04-04T07:00:05.608Z"
   },
   {
    "duration": 11,
    "start_time": "2022-04-04T07:00:17.199Z"
   },
   {
    "duration": 3,
    "start_time": "2022-04-04T07:00:21.762Z"
   },
   {
    "duration": 85,
    "start_time": "2022-04-04T07:00:21.766Z"
   },
   {
    "duration": 4,
    "start_time": "2022-04-04T07:00:21.852Z"
   },
   {
    "duration": 9,
    "start_time": "2022-04-04T07:00:21.858Z"
   },
   {
    "duration": 18,
    "start_time": "2022-04-04T07:00:21.869Z"
   },
   {
    "duration": 4,
    "start_time": "2022-04-04T07:00:21.888Z"
   },
   {
    "duration": 15,
    "start_time": "2022-04-04T07:00:21.893Z"
   },
   {
    "duration": 13,
    "start_time": "2022-04-04T07:00:35.801Z"
   },
   {
    "duration": 2,
    "start_time": "2022-04-04T07:00:53.915Z"
   },
   {
    "duration": 72,
    "start_time": "2022-04-04T07:00:53.919Z"
   },
   {
    "duration": 4,
    "start_time": "2022-04-04T07:00:53.992Z"
   },
   {
    "duration": 20,
    "start_time": "2022-04-04T07:00:53.997Z"
   },
   {
    "duration": 30,
    "start_time": "2022-04-04T07:00:54.019Z"
   },
   {
    "duration": 9,
    "start_time": "2022-04-04T07:00:54.051Z"
   },
   {
    "duration": 28,
    "start_time": "2022-04-04T07:00:54.061Z"
   },
   {
    "duration": 0,
    "start_time": "2022-04-04T07:00:54.090Z"
   },
   {
    "duration": 16,
    "start_time": "2022-04-04T07:01:20.930Z"
   },
   {
    "duration": 21,
    "start_time": "2022-04-04T07:03:48.851Z"
   },
   {
    "duration": 15,
    "start_time": "2022-04-04T07:04:05.365Z"
   },
   {
    "duration": 186,
    "start_time": "2022-04-04T07:04:07.943Z"
   },
   {
    "duration": 14,
    "start_time": "2022-04-04T07:04:10.678Z"
   },
   {
    "duration": 23,
    "start_time": "2022-04-04T07:04:50.726Z"
   },
   {
    "duration": 220,
    "start_time": "2022-04-04T07:05:06.493Z"
   },
   {
    "duration": 206,
    "start_time": "2022-04-04T07:05:15.614Z"
   },
   {
    "duration": 22,
    "start_time": "2022-04-04T07:05:18.833Z"
   },
   {
    "duration": 15,
    "start_time": "2022-04-04T07:05:51.624Z"
   },
   {
    "duration": 22,
    "start_time": "2022-04-04T07:08:57.425Z"
   },
   {
    "duration": 21,
    "start_time": "2022-04-04T07:09:24.339Z"
   },
   {
    "duration": 24,
    "start_time": "2022-04-04T07:13:21.835Z"
   },
   {
    "duration": 21,
    "start_time": "2022-04-04T07:13:32.239Z"
   },
   {
    "duration": 20,
    "start_time": "2022-04-04T07:13:51.371Z"
   },
   {
    "duration": 25,
    "start_time": "2022-04-04T07:14:03.733Z"
   },
   {
    "duration": 25,
    "start_time": "2022-04-04T07:14:23.354Z"
   },
   {
    "duration": 3979,
    "start_time": "2022-04-04T07:14:59.593Z"
   },
   {
    "duration": 3,
    "start_time": "2022-04-04T07:15:12.918Z"
   },
   {
    "duration": 81,
    "start_time": "2022-04-04T07:15:12.922Z"
   },
   {
    "duration": 3,
    "start_time": "2022-04-04T07:15:13.005Z"
   },
   {
    "duration": 10,
    "start_time": "2022-04-04T07:15:13.009Z"
   },
   {
    "duration": 18,
    "start_time": "2022-04-04T07:15:13.020Z"
   },
   {
    "duration": 5,
    "start_time": "2022-04-04T07:15:13.040Z"
   },
   {
    "duration": 3210,
    "start_time": "2022-04-04T07:15:13.046Z"
   },
   {
    "duration": 21,
    "start_time": "2022-04-04T07:15:31.673Z"
   },
   {
    "duration": 17,
    "start_time": "2022-04-04T07:18:01.407Z"
   },
   {
    "duration": 17,
    "start_time": "2022-04-04T07:18:07.761Z"
   },
   {
    "duration": 17,
    "start_time": "2022-04-04T07:20:06.285Z"
   },
   {
    "duration": 16,
    "start_time": "2022-04-04T07:20:13.895Z"
   },
   {
    "duration": 23,
    "start_time": "2022-04-04T07:20:19.419Z"
   },
   {
    "duration": 16,
    "start_time": "2022-04-04T07:20:27.146Z"
   },
   {
    "duration": 23,
    "start_time": "2022-04-04T07:21:11.689Z"
   },
   {
    "duration": 23,
    "start_time": "2022-04-04T07:21:40.749Z"
   },
   {
    "duration": 3,
    "start_time": "2022-04-04T07:21:45.558Z"
   },
   {
    "duration": 82,
    "start_time": "2022-04-04T07:21:45.562Z"
   },
   {
    "duration": 3,
    "start_time": "2022-04-04T07:21:45.646Z"
   },
   {
    "duration": 12,
    "start_time": "2022-04-04T07:21:45.650Z"
   },
   {
    "duration": 21,
    "start_time": "2022-04-04T07:21:45.664Z"
   },
   {
    "duration": 3,
    "start_time": "2022-04-04T07:21:45.687Z"
   },
   {
    "duration": 15,
    "start_time": "2022-04-04T07:21:45.692Z"
   },
   {
    "duration": 20,
    "start_time": "2022-04-04T07:21:45.708Z"
   },
   {
    "duration": 25,
    "start_time": "2022-04-04T07:22:24.718Z"
   },
   {
    "duration": 21,
    "start_time": "2022-04-04T07:22:39.794Z"
   },
   {
    "duration": 2,
    "start_time": "2022-04-04T07:22:45.824Z"
   },
   {
    "duration": 93,
    "start_time": "2022-04-04T07:22:45.828Z"
   },
   {
    "duration": 4,
    "start_time": "2022-04-04T07:22:45.923Z"
   },
   {
    "duration": 14,
    "start_time": "2022-04-04T07:22:45.928Z"
   },
   {
    "duration": 17,
    "start_time": "2022-04-04T07:22:45.944Z"
   },
   {
    "duration": 19,
    "start_time": "2022-04-04T07:22:45.962Z"
   },
   {
    "duration": 18,
    "start_time": "2022-04-04T07:22:45.982Z"
   },
   {
    "duration": 21,
    "start_time": "2022-04-04T07:22:46.001Z"
   },
   {
    "duration": 23,
    "start_time": "2022-04-04T07:22:53.054Z"
   },
   {
    "duration": 23,
    "start_time": "2022-04-04T07:23:23.458Z"
   },
   {
    "duration": 25,
    "start_time": "2022-04-04T07:23:41.364Z"
   },
   {
    "duration": 21,
    "start_time": "2022-04-04T07:23:50.242Z"
   },
   {
    "duration": 18,
    "start_time": "2022-04-04T07:27:59.619Z"
   },
   {
    "duration": 2,
    "start_time": "2022-04-04T07:28:05.559Z"
   },
   {
    "duration": 69,
    "start_time": "2022-04-04T07:28:05.563Z"
   },
   {
    "duration": 4,
    "start_time": "2022-04-04T07:28:05.633Z"
   },
   {
    "duration": 10,
    "start_time": "2022-04-04T07:28:05.638Z"
   },
   {
    "duration": 31,
    "start_time": "2022-04-04T07:28:05.650Z"
   },
   {
    "duration": 4,
    "start_time": "2022-04-04T07:28:05.683Z"
   },
   {
    "duration": 19,
    "start_time": "2022-04-04T07:28:05.688Z"
   },
   {
    "duration": 21,
    "start_time": "2022-04-04T07:29:37.258Z"
   },
   {
    "duration": 23,
    "start_time": "2022-04-04T07:30:32.695Z"
   },
   {
    "duration": 15,
    "start_time": "2022-04-04T07:30:47.211Z"
   },
   {
    "duration": 8,
    "start_time": "2022-04-04T07:32:38.312Z"
   },
   {
    "duration": 15,
    "start_time": "2022-04-04T07:33:37.083Z"
   },
   {
    "duration": 5,
    "start_time": "2022-04-04T07:33:56.862Z"
   },
   {
    "duration": 7,
    "start_time": "2022-04-04T07:38:17.418Z"
   },
   {
    "duration": 8,
    "start_time": "2022-04-04T07:38:28.449Z"
   },
   {
    "duration": 1132,
    "start_time": "2022-04-04T07:41:53.198Z"
   },
   {
    "duration": 72,
    "start_time": "2022-04-04T07:41:54.332Z"
   },
   {
    "duration": 3,
    "start_time": "2022-04-04T07:41:54.405Z"
   },
   {
    "duration": 13,
    "start_time": "2022-04-04T07:41:54.410Z"
   },
   {
    "duration": 17,
    "start_time": "2022-04-04T07:41:54.424Z"
   },
   {
    "duration": 4,
    "start_time": "2022-04-04T07:41:54.442Z"
   },
   {
    "duration": 17,
    "start_time": "2022-04-04T07:41:54.447Z"
   },
   {
    "duration": 13,
    "start_time": "2022-04-04T07:41:54.481Z"
   },
   {
    "duration": 7,
    "start_time": "2022-04-04T07:41:54.495Z"
   },
   {
    "duration": 6,
    "start_time": "2022-04-04T07:41:54.504Z"
   },
   {
    "duration": 378,
    "start_time": "2022-04-04T07:41:54.511Z"
   },
   {
    "duration": 98,
    "start_time": "2022-04-04T07:41:54.891Z"
   },
   {
    "duration": 6,
    "start_time": "2022-04-04T07:41:54.990Z"
   },
   {
    "duration": 106,
    "start_time": "2022-04-04T07:41:54.998Z"
   },
   {
    "duration": 43,
    "start_time": "2022-04-04T07:41:55.106Z"
   },
   {
    "duration": 33,
    "start_time": "2022-04-04T07:41:55.150Z"
   },
   {
    "duration": 15,
    "start_time": "2022-04-04T07:41:55.185Z"
   },
   {
    "duration": 5871,
    "start_time": "2022-04-04T07:41:55.201Z"
   },
   {
    "duration": 5,
    "start_time": "2022-04-04T07:42:01.081Z"
   },
   {
    "duration": 45,
    "start_time": "2022-04-04T07:42:01.088Z"
   },
   {
    "duration": 26,
    "start_time": "2022-04-04T07:42:01.134Z"
   },
   {
    "duration": 75,
    "start_time": "2022-04-04T07:42:01.162Z"
   },
   {
    "duration": 120,
    "start_time": "2022-04-04T07:42:01.239Z"
   },
   {
    "duration": 69,
    "start_time": "2022-04-04T07:42:01.361Z"
   },
   {
    "duration": 60,
    "start_time": "2022-04-04T07:42:01.432Z"
   },
   {
    "duration": 44,
    "start_time": "2022-04-04T07:42:01.494Z"
   },
   {
    "duration": 14,
    "start_time": "2022-04-04T07:42:01.540Z"
   },
   {
    "duration": 80,
    "start_time": "2022-04-04T07:42:01.558Z"
   },
   {
    "duration": 12,
    "start_time": "2022-04-04T07:42:01.640Z"
   },
   {
    "duration": 36,
    "start_time": "2022-04-04T07:42:01.653Z"
   },
   {
    "duration": 68,
    "start_time": "2022-04-04T07:42:01.690Z"
   },
   {
    "duration": 2,
    "start_time": "2022-04-04T07:44:50.080Z"
   },
   {
    "duration": 90,
    "start_time": "2022-04-04T07:44:50.084Z"
   },
   {
    "duration": 4,
    "start_time": "2022-04-04T07:44:50.175Z"
   },
   {
    "duration": 11,
    "start_time": "2022-04-04T07:44:50.180Z"
   },
   {
    "duration": 16,
    "start_time": "2022-04-04T07:44:50.193Z"
   },
   {
    "duration": 4,
    "start_time": "2022-04-04T07:44:50.210Z"
   },
   {
    "duration": 18,
    "start_time": "2022-04-04T07:44:50.216Z"
   },
   {
    "duration": 12,
    "start_time": "2022-04-04T07:44:50.236Z"
   },
   {
    "duration": 7,
    "start_time": "2022-04-04T07:44:50.250Z"
   },
   {
    "duration": 5,
    "start_time": "2022-04-04T07:44:50.280Z"
   },
   {
    "duration": 49,
    "start_time": "2022-04-04T07:44:50.286Z"
   },
   {
    "duration": 53,
    "start_time": "2022-04-04T07:44:50.337Z"
   },
   {
    "duration": 7,
    "start_time": "2022-04-04T07:44:50.391Z"
   },
   {
    "duration": 69,
    "start_time": "2022-04-04T07:44:50.400Z"
   },
   {
    "duration": 51,
    "start_time": "2022-04-04T07:44:50.471Z"
   },
   {
    "duration": 14,
    "start_time": "2022-04-04T07:44:50.524Z"
   },
   {
    "duration": 25,
    "start_time": "2022-04-04T07:44:50.540Z"
   },
   {
    "duration": 5815,
    "start_time": "2022-04-04T07:44:50.566Z"
   },
   {
    "duration": 5,
    "start_time": "2022-04-04T07:44:56.382Z"
   },
   {
    "duration": 22,
    "start_time": "2022-04-04T07:44:56.389Z"
   },
   {
    "duration": 17,
    "start_time": "2022-04-04T07:44:56.413Z"
   },
   {
    "duration": 66,
    "start_time": "2022-04-04T07:44:56.432Z"
   },
   {
    "duration": 28,
    "start_time": "2022-04-04T07:44:56.500Z"
   },
   {
    "duration": 78,
    "start_time": "2022-04-04T07:44:56.529Z"
   },
   {
    "duration": 43,
    "start_time": "2022-04-04T07:44:56.609Z"
   },
   {
    "duration": 48,
    "start_time": "2022-04-04T07:44:56.654Z"
   },
   {
    "duration": 12,
    "start_time": "2022-04-04T07:44:56.704Z"
   },
   {
    "duration": 77,
    "start_time": "2022-04-04T07:44:56.718Z"
   },
   {
    "duration": 10,
    "start_time": "2022-04-04T07:44:56.796Z"
   },
   {
    "duration": 20,
    "start_time": "2022-04-04T07:44:56.808Z"
   },
   {
    "duration": 23,
    "start_time": "2022-04-04T07:44:56.830Z"
   },
   {
    "duration": 12,
    "start_time": "2022-04-04T08:25:30.038Z"
   },
   {
    "duration": 3409,
    "start_time": "2022-04-04T08:25:55.250Z"
   },
   {
    "duration": 3,
    "start_time": "2022-04-04T08:26:08.657Z"
   },
   {
    "duration": 97,
    "start_time": "2022-04-04T08:26:08.662Z"
   },
   {
    "duration": 4,
    "start_time": "2022-04-04T08:26:08.761Z"
   },
   {
    "duration": 22,
    "start_time": "2022-04-04T08:26:08.766Z"
   },
   {
    "duration": 19,
    "start_time": "2022-04-04T08:26:08.790Z"
   },
   {
    "duration": 4,
    "start_time": "2022-04-04T08:26:08.811Z"
   },
   {
    "duration": 19,
    "start_time": "2022-04-04T08:26:08.816Z"
   },
   {
    "duration": 19,
    "start_time": "2022-04-04T08:26:08.837Z"
   },
   {
    "duration": 24,
    "start_time": "2022-04-04T08:26:08.858Z"
   },
   {
    "duration": 13,
    "start_time": "2022-04-04T08:26:08.884Z"
   },
   {
    "duration": 49,
    "start_time": "2022-04-04T08:26:08.899Z"
   },
   {
    "duration": 54,
    "start_time": "2022-04-04T08:26:08.950Z"
   },
   {
    "duration": 6,
    "start_time": "2022-04-04T08:26:09.005Z"
   },
   {
    "duration": 76,
    "start_time": "2022-04-04T08:26:09.012Z"
   },
   {
    "duration": 47,
    "start_time": "2022-04-04T08:26:09.090Z"
   },
   {
    "duration": 15,
    "start_time": "2022-04-04T08:26:09.138Z"
   },
   {
    "duration": 35,
    "start_time": "2022-04-04T08:26:09.154Z"
   },
   {
    "duration": 6075,
    "start_time": "2022-04-04T08:26:09.190Z"
   },
   {
    "duration": 5,
    "start_time": "2022-04-04T08:26:15.267Z"
   },
   {
    "duration": 23,
    "start_time": "2022-04-04T08:26:15.281Z"
   },
   {
    "duration": 12,
    "start_time": "2022-04-04T08:26:15.305Z"
   },
   {
    "duration": 64,
    "start_time": "2022-04-04T08:26:15.318Z"
   },
   {
    "duration": 26,
    "start_time": "2022-04-04T08:26:15.383Z"
   },
   {
    "duration": 73,
    "start_time": "2022-04-04T08:26:15.410Z"
   },
   {
    "duration": 43,
    "start_time": "2022-04-04T08:26:15.485Z"
   },
   {
    "duration": 131,
    "start_time": "2022-04-04T08:26:15.530Z"
   },
   {
    "duration": 25,
    "start_time": "2022-04-04T08:26:15.662Z"
   },
   {
    "duration": 65,
    "start_time": "2022-04-04T08:26:15.688Z"
   },
   {
    "duration": 31,
    "start_time": "2022-04-04T08:26:15.756Z"
   },
   {
    "duration": 22,
    "start_time": "2022-04-04T08:26:15.789Z"
   },
   {
    "duration": 26,
    "start_time": "2022-04-04T08:26:15.812Z"
   },
   {
    "duration": 3183,
    "start_time": "2022-04-04T08:26:15.840Z"
   },
   {
    "duration": 11,
    "start_time": "2022-04-04T08:26:34.140Z"
   },
   {
    "duration": 16,
    "start_time": "2022-04-04T08:26:47.306Z"
   },
   {
    "duration": 16,
    "start_time": "2022-04-04T08:27:05.990Z"
   },
   {
    "duration": 18,
    "start_time": "2022-04-04T08:27:13.864Z"
   },
   {
    "duration": 11,
    "start_time": "2022-04-04T08:27:24.425Z"
   },
   {
    "duration": 12,
    "start_time": "2022-04-04T08:28:33.098Z"
   },
   {
    "duration": 12,
    "start_time": "2022-04-04T08:29:50.167Z"
   },
   {
    "duration": 13,
    "start_time": "2022-04-04T08:30:34.527Z"
   },
   {
    "duration": 20,
    "start_time": "2022-04-04T08:34:15.194Z"
   },
   {
    "duration": 21,
    "start_time": "2022-04-04T08:34:32.490Z"
   },
   {
    "duration": 20,
    "start_time": "2022-04-04T08:35:42.324Z"
   },
   {
    "duration": 18,
    "start_time": "2022-04-04T08:40:02.782Z"
   },
   {
    "duration": 58,
    "start_time": "2022-04-04T08:40:07.830Z"
   },
   {
    "duration": 20,
    "start_time": "2022-04-04T08:42:16.379Z"
   },
   {
    "duration": 51,
    "start_time": "2022-04-04T08:47:30.469Z"
   },
   {
    "duration": 80,
    "start_time": "2022-04-04T08:48:01.051Z"
   },
   {
    "duration": 81,
    "start_time": "2022-04-04T08:48:17.467Z"
   },
   {
    "duration": 78,
    "start_time": "2022-04-04T08:49:03.512Z"
   },
   {
    "duration": 27,
    "start_time": "2022-04-04T08:50:27.581Z"
   },
   {
    "duration": 39,
    "start_time": "2022-04-04T08:51:19.433Z"
   },
   {
    "duration": 17,
    "start_time": "2022-04-04T08:51:54.214Z"
   },
   {
    "duration": 10,
    "start_time": "2022-04-04T08:52:53.520Z"
   },
   {
    "duration": 14,
    "start_time": "2022-04-04T08:53:55.790Z"
   },
   {
    "duration": 3,
    "start_time": "2022-04-04T08:54:27.596Z"
   },
   {
    "duration": 64,
    "start_time": "2022-04-04T08:54:27.601Z"
   },
   {
    "duration": 17,
    "start_time": "2022-04-04T08:54:27.666Z"
   },
   {
    "duration": 11,
    "start_time": "2022-04-04T08:54:27.684Z"
   },
   {
    "duration": 20,
    "start_time": "2022-04-04T08:54:27.697Z"
   },
   {
    "duration": 4,
    "start_time": "2022-04-04T08:54:27.719Z"
   },
   {
    "duration": 31,
    "start_time": "2022-04-04T08:54:27.724Z"
   },
   {
    "duration": 28,
    "start_time": "2022-04-04T08:54:27.757Z"
   },
   {
    "duration": 8,
    "start_time": "2022-04-04T08:54:27.786Z"
   },
   {
    "duration": 5,
    "start_time": "2022-04-04T08:54:27.796Z"
   },
   {
    "duration": 47,
    "start_time": "2022-04-04T08:54:27.803Z"
   },
   {
    "duration": 44,
    "start_time": "2022-04-04T08:54:27.880Z"
   },
   {
    "duration": 5,
    "start_time": "2022-04-04T08:54:27.926Z"
   },
   {
    "duration": 82,
    "start_time": "2022-04-04T08:54:27.934Z"
   },
   {
    "duration": 44,
    "start_time": "2022-04-04T08:54:28.018Z"
   },
   {
    "duration": 29,
    "start_time": "2022-04-04T08:54:28.064Z"
   },
   {
    "duration": 14,
    "start_time": "2022-04-04T08:54:28.094Z"
   },
   {
    "duration": 6295,
    "start_time": "2022-04-04T08:54:28.109Z"
   },
   {
    "duration": 5,
    "start_time": "2022-04-04T08:54:34.406Z"
   },
   {
    "duration": 22,
    "start_time": "2022-04-04T08:54:34.412Z"
   },
   {
    "duration": 12,
    "start_time": "2022-04-04T08:54:34.436Z"
   },
   {
    "duration": 95,
    "start_time": "2022-04-04T08:54:34.450Z"
   },
   {
    "duration": 49,
    "start_time": "2022-04-04T08:54:34.546Z"
   },
   {
    "duration": 89,
    "start_time": "2022-04-04T08:54:34.597Z"
   },
   {
    "duration": 66,
    "start_time": "2022-04-04T08:54:34.688Z"
   },
   {
    "duration": 68,
    "start_time": "2022-04-04T08:54:34.756Z"
   },
   {
    "duration": 17,
    "start_time": "2022-04-04T08:54:34.826Z"
   },
   {
    "duration": 80,
    "start_time": "2022-04-04T08:54:34.844Z"
   },
   {
    "duration": 10,
    "start_time": "2022-04-04T08:54:34.926Z"
   },
   {
    "duration": 20,
    "start_time": "2022-04-04T08:54:34.937Z"
   },
   {
    "duration": 42,
    "start_time": "2022-04-04T08:54:34.958Z"
   },
   {
    "duration": 12,
    "start_time": "2022-04-04T08:54:35.001Z"
   },
   {
    "duration": 48,
    "start_time": "2022-04-04T08:54:35.014Z"
   },
   {
    "duration": 43,
    "start_time": "2022-04-04T08:55:06.439Z"
   },
   {
    "duration": 13,
    "start_time": "2022-04-04T09:01:08.884Z"
   },
   {
    "duration": 42,
    "start_time": "2022-04-04T09:01:11.834Z"
   },
   {
    "duration": 43,
    "start_time": "2022-04-04T09:01:19.173Z"
   },
   {
    "duration": 44,
    "start_time": "2022-04-04T09:03:44.536Z"
   },
   {
    "duration": 21,
    "start_time": "2022-04-04T09:06:42.513Z"
   },
   {
    "duration": 49,
    "start_time": "2022-04-04T09:07:30.062Z"
   },
   {
    "duration": 139,
    "start_time": "2022-04-04T09:13:22.775Z"
   },
   {
    "duration": 13,
    "start_time": "2022-04-04T09:18:03.567Z"
   },
   {
    "duration": 39,
    "start_time": "2022-04-04T09:18:08.061Z"
   },
   {
    "duration": 36,
    "start_time": "2022-04-04T09:19:48.137Z"
   },
   {
    "duration": 408,
    "start_time": "2022-04-04T09:20:23.032Z"
   },
   {
    "duration": 7,
    "start_time": "2022-04-04T09:20:29.136Z"
   },
   {
    "duration": 18,
    "start_time": "2022-04-04T09:20:44.348Z"
   },
   {
    "duration": 21,
    "start_time": "2022-04-04T09:20:59.905Z"
   },
   {
    "duration": 17,
    "start_time": "2022-04-04T09:21:06.161Z"
   },
   {
    "duration": 15,
    "start_time": "2022-04-04T09:21:18.264Z"
   },
   {
    "duration": 9,
    "start_time": "2022-04-04T09:21:32.810Z"
   },
   {
    "duration": 59,
    "start_time": "2022-04-04T09:22:05.860Z"
   },
   {
    "duration": 57,
    "start_time": "2022-04-04T09:22:17.323Z"
   },
   {
    "duration": 35,
    "start_time": "2022-04-04T09:25:15.105Z"
   },
   {
    "duration": 36,
    "start_time": "2022-04-04T09:28:25.220Z"
   },
   {
    "duration": 37,
    "start_time": "2022-04-04T09:28:40.496Z"
   },
   {
    "duration": 37,
    "start_time": "2022-04-04T09:29:08.153Z"
   },
   {
    "duration": 697,
    "start_time": "2022-04-04T15:44:16.341Z"
   },
   {
    "duration": 141,
    "start_time": "2022-04-04T15:44:17.041Z"
   },
   {
    "duration": 7,
    "start_time": "2022-04-04T15:44:17.184Z"
   },
   {
    "duration": 14,
    "start_time": "2022-04-04T15:44:17.194Z"
   },
   {
    "duration": 28,
    "start_time": "2022-04-04T15:44:17.211Z"
   },
   {
    "duration": 9,
    "start_time": "2022-04-04T15:44:17.273Z"
   },
   {
    "duration": 26,
    "start_time": "2022-04-04T15:44:17.284Z"
   },
   {
    "duration": 62,
    "start_time": "2022-04-04T15:44:17.312Z"
   },
   {
    "duration": 14,
    "start_time": "2022-04-04T15:44:17.376Z"
   },
   {
    "duration": 11,
    "start_time": "2022-04-04T15:44:17.396Z"
   },
   {
    "duration": 570,
    "start_time": "2022-04-04T15:44:17.410Z"
   },
   {
    "duration": 198,
    "start_time": "2022-04-04T15:44:17.982Z"
   },
   {
    "duration": 10,
    "start_time": "2022-04-04T15:44:18.183Z"
   },
   {
    "duration": 210,
    "start_time": "2022-04-04T15:44:18.195Z"
   },
   {
    "duration": 92,
    "start_time": "2022-04-04T15:44:18.407Z"
   },
   {
    "duration": 22,
    "start_time": "2022-04-04T15:44:18.501Z"
   },
   {
    "duration": 51,
    "start_time": "2022-04-04T15:44:18.525Z"
   },
   {
    "duration": 9599,
    "start_time": "2022-04-04T15:44:18.578Z"
   },
   {
    "duration": 7,
    "start_time": "2022-04-04T15:44:28.179Z"
   },
   {
    "duration": 38,
    "start_time": "2022-04-04T15:44:28.189Z"
   },
   {
    "duration": 48,
    "start_time": "2022-04-04T15:44:28.229Z"
   },
   {
    "duration": 104,
    "start_time": "2022-04-04T15:44:28.279Z"
   },
   {
    "duration": 44,
    "start_time": "2022-04-04T15:44:28.385Z"
   },
   {
    "duration": 113,
    "start_time": "2022-04-04T15:44:28.432Z"
   },
   {
    "duration": 84,
    "start_time": "2022-04-04T15:44:28.548Z"
   },
   {
    "duration": 120,
    "start_time": "2022-04-04T15:44:28.635Z"
   },
   {
    "duration": 25,
    "start_time": "2022-04-04T15:44:28.758Z"
   },
   {
    "duration": 120,
    "start_time": "2022-04-04T15:44:28.788Z"
   },
   {
    "duration": 14,
    "start_time": "2022-04-04T15:44:28.911Z"
   },
   {
    "duration": 58,
    "start_time": "2022-04-04T15:44:28.927Z"
   },
   {
    "duration": 46,
    "start_time": "2022-04-04T15:44:28.988Z"
   },
   {
    "duration": 109,
    "start_time": "2022-04-04T15:44:29.037Z"
   },
   {
    "duration": 77,
    "start_time": "2022-04-04T15:46:04.942Z"
   },
   {
    "duration": 39,
    "start_time": "2022-04-04T15:55:43.549Z"
   },
   {
    "duration": 68,
    "start_time": "2022-04-04T15:55:47.590Z"
   },
   {
    "duration": 86,
    "start_time": "2022-04-04T15:56:14.341Z"
   },
   {
    "duration": 4,
    "start_time": "2022-04-04T16:26:43.921Z"
   },
   {
    "duration": 94,
    "start_time": "2022-04-04T16:26:43.927Z"
   },
   {
    "duration": 5,
    "start_time": "2022-04-04T16:26:44.024Z"
   },
   {
    "duration": 47,
    "start_time": "2022-04-04T16:26:44.031Z"
   },
   {
    "duration": 26,
    "start_time": "2022-04-04T16:26:44.081Z"
   },
   {
    "duration": 6,
    "start_time": "2022-04-04T16:26:44.109Z"
   },
   {
    "duration": 57,
    "start_time": "2022-04-04T16:26:44.118Z"
   },
   {
    "duration": 24,
    "start_time": "2022-04-04T16:26:44.178Z"
   },
   {
    "duration": 11,
    "start_time": "2022-04-04T16:26:44.204Z"
   },
   {
    "duration": 7,
    "start_time": "2022-04-04T16:26:44.217Z"
   },
   {
    "duration": 117,
    "start_time": "2022-04-04T16:26:44.228Z"
   },
   {
    "duration": 72,
    "start_time": "2022-04-04T16:26:44.347Z"
   },
   {
    "duration": 8,
    "start_time": "2022-04-04T16:26:44.421Z"
   },
   {
    "duration": 121,
    "start_time": "2022-04-04T16:26:44.431Z"
   },
   {
    "duration": 89,
    "start_time": "2022-04-04T16:26:44.554Z"
   },
   {
    "duration": 39,
    "start_time": "2022-04-04T16:26:44.645Z"
   },
   {
    "duration": 22,
    "start_time": "2022-04-04T16:26:44.686Z"
   },
   {
    "duration": 9732,
    "start_time": "2022-04-04T16:26:44.710Z"
   },
   {
    "duration": 7,
    "start_time": "2022-04-04T16:26:54.444Z"
   },
   {
    "duration": 53,
    "start_time": "2022-04-04T16:26:54.453Z"
   },
   {
    "duration": 20,
    "start_time": "2022-04-04T16:26:54.509Z"
   },
   {
    "duration": 110,
    "start_time": "2022-04-04T16:26:54.531Z"
   },
   {
    "duration": 213,
    "start_time": "2022-04-04T16:26:54.643Z"
   },
   {
    "duration": 0,
    "start_time": "2022-04-04T16:26:54.859Z"
   },
   {
    "duration": 0,
    "start_time": "2022-04-04T16:26:54.860Z"
   },
   {
    "duration": 0,
    "start_time": "2022-04-04T16:26:54.873Z"
   },
   {
    "duration": 0,
    "start_time": "2022-04-04T16:26:54.876Z"
   },
   {
    "duration": 0,
    "start_time": "2022-04-04T16:26:54.877Z"
   },
   {
    "duration": 0,
    "start_time": "2022-04-04T16:26:54.878Z"
   },
   {
    "duration": 0,
    "start_time": "2022-04-04T16:26:54.880Z"
   },
   {
    "duration": 0,
    "start_time": "2022-04-04T16:26:54.882Z"
   },
   {
    "duration": 0,
    "start_time": "2022-04-04T16:26:54.884Z"
   },
   {
    "duration": 758,
    "start_time": "2022-04-04T16:27:26.492Z"
   },
   {
    "duration": 102,
    "start_time": "2022-04-04T16:27:27.252Z"
   },
   {
    "duration": 5,
    "start_time": "2022-04-04T16:27:27.356Z"
   },
   {
    "duration": 12,
    "start_time": "2022-04-04T16:27:27.374Z"
   },
   {
    "duration": 31,
    "start_time": "2022-04-04T16:27:27.388Z"
   },
   {
    "duration": 6,
    "start_time": "2022-04-04T16:27:27.421Z"
   },
   {
    "duration": 56,
    "start_time": "2022-04-04T16:27:27.429Z"
   },
   {
    "duration": 22,
    "start_time": "2022-04-04T16:27:27.487Z"
   },
   {
    "duration": 11,
    "start_time": "2022-04-04T16:27:27.511Z"
   },
   {
    "duration": 32,
    "start_time": "2022-04-04T16:27:27.526Z"
   },
   {
    "duration": 522,
    "start_time": "2022-04-04T16:27:27.573Z"
   },
   {
    "duration": 100,
    "start_time": "2022-04-04T16:27:28.097Z"
   },
   {
    "duration": 8,
    "start_time": "2022-04-04T16:27:28.199Z"
   },
   {
    "duration": 173,
    "start_time": "2022-04-04T16:27:28.209Z"
   },
   {
    "duration": 90,
    "start_time": "2022-04-04T16:27:28.384Z"
   },
   {
    "duration": 24,
    "start_time": "2022-04-04T16:27:28.476Z"
   },
   {
    "duration": 23,
    "start_time": "2022-04-04T16:27:28.503Z"
   },
   {
    "duration": 10068,
    "start_time": "2022-04-04T16:27:28.529Z"
   },
   {
    "duration": 7,
    "start_time": "2022-04-04T16:27:38.600Z"
   },
   {
    "duration": 36,
    "start_time": "2022-04-04T16:27:38.609Z"
   },
   {
    "duration": 43,
    "start_time": "2022-04-04T16:27:38.647Z"
   },
   {
    "duration": 104,
    "start_time": "2022-04-04T16:27:38.692Z"
   },
   {
    "duration": 203,
    "start_time": "2022-04-04T16:27:38.798Z"
   },
   {
    "duration": 0,
    "start_time": "2022-04-04T16:27:39.003Z"
   },
   {
    "duration": 0,
    "start_time": "2022-04-04T16:27:39.005Z"
   },
   {
    "duration": 0,
    "start_time": "2022-04-04T16:27:39.006Z"
   },
   {
    "duration": 0,
    "start_time": "2022-04-04T16:27:39.008Z"
   },
   {
    "duration": 0,
    "start_time": "2022-04-04T16:27:39.009Z"
   },
   {
    "duration": 0,
    "start_time": "2022-04-04T16:27:39.010Z"
   },
   {
    "duration": 0,
    "start_time": "2022-04-04T16:27:39.012Z"
   },
   {
    "duration": 0,
    "start_time": "2022-04-04T16:27:39.014Z"
   },
   {
    "duration": 0,
    "start_time": "2022-04-04T16:27:39.016Z"
   },
   {
    "duration": 4,
    "start_time": "2022-04-04T16:57:37.146Z"
   },
   {
    "duration": 133,
    "start_time": "2022-04-04T16:57:37.153Z"
   },
   {
    "duration": 5,
    "start_time": "2022-04-04T16:57:37.290Z"
   },
   {
    "duration": 29,
    "start_time": "2022-04-04T16:57:37.298Z"
   },
   {
    "duration": 48,
    "start_time": "2022-04-04T16:57:37.330Z"
   },
   {
    "duration": 5,
    "start_time": "2022-04-04T16:57:37.381Z"
   },
   {
    "duration": 40,
    "start_time": "2022-04-04T16:57:37.388Z"
   },
   {
    "duration": 22,
    "start_time": "2022-04-04T16:57:37.430Z"
   },
   {
    "duration": 23,
    "start_time": "2022-04-04T16:57:37.454Z"
   },
   {
    "duration": 7,
    "start_time": "2022-04-04T16:57:37.479Z"
   },
   {
    "duration": 97,
    "start_time": "2022-04-04T16:57:37.490Z"
   },
   {
    "duration": 57,
    "start_time": "2022-04-04T16:57:37.589Z"
   },
   {
    "duration": 25,
    "start_time": "2022-04-04T16:57:37.648Z"
   },
   {
    "duration": 166,
    "start_time": "2022-04-04T16:57:37.676Z"
   },
   {
    "duration": 84,
    "start_time": "2022-04-04T16:57:37.844Z"
   },
   {
    "duration": 21,
    "start_time": "2022-04-04T16:57:37.930Z"
   },
   {
    "duration": 38,
    "start_time": "2022-04-04T16:57:37.953Z"
   },
   {
    "duration": 10870,
    "start_time": "2022-04-04T16:57:37.993Z"
   },
   {
    "duration": 13,
    "start_time": "2022-04-04T16:57:48.865Z"
   },
   {
    "duration": 38,
    "start_time": "2022-04-04T16:57:48.881Z"
   },
   {
    "duration": 20,
    "start_time": "2022-04-04T16:57:48.921Z"
   },
   {
    "duration": 107,
    "start_time": "2022-04-04T16:57:48.944Z"
   },
   {
    "duration": 46,
    "start_time": "2022-04-04T16:57:49.053Z"
   },
   {
    "duration": 0,
    "start_time": "2022-04-04T16:57:49.102Z"
   },
   {
    "duration": 0,
    "start_time": "2022-04-04T16:57:49.103Z"
   },
   {
    "duration": 0,
    "start_time": "2022-04-04T16:57:49.105Z"
   },
   {
    "duration": 0,
    "start_time": "2022-04-04T16:57:49.106Z"
   },
   {
    "duration": 0,
    "start_time": "2022-04-04T16:57:49.108Z"
   },
   {
    "duration": 0,
    "start_time": "2022-04-04T16:57:49.109Z"
   },
   {
    "duration": 0,
    "start_time": "2022-04-04T16:57:49.110Z"
   },
   {
    "duration": 0,
    "start_time": "2022-04-04T16:57:49.112Z"
   },
   {
    "duration": 0,
    "start_time": "2022-04-04T16:57:49.113Z"
   },
   {
    "duration": 30,
    "start_time": "2022-04-04T16:59:38.589Z"
   },
   {
    "duration": 4,
    "start_time": "2022-04-04T16:59:42.978Z"
   },
   {
    "duration": 105,
    "start_time": "2022-04-04T16:59:42.984Z"
   },
   {
    "duration": 5,
    "start_time": "2022-04-04T16:59:43.092Z"
   },
   {
    "duration": 18,
    "start_time": "2022-04-04T16:59:43.099Z"
   },
   {
    "duration": 64,
    "start_time": "2022-04-04T16:59:43.121Z"
   },
   {
    "duration": 7,
    "start_time": "2022-04-04T16:59:43.188Z"
   },
   {
    "duration": 34,
    "start_time": "2022-04-04T16:59:43.197Z"
   },
   {
    "duration": 61,
    "start_time": "2022-04-04T16:59:43.233Z"
   },
   {
    "duration": 13,
    "start_time": "2022-04-04T16:59:43.297Z"
   },
   {
    "duration": 8,
    "start_time": "2022-04-04T16:59:43.313Z"
   },
   {
    "duration": 158,
    "start_time": "2022-04-04T16:59:43.324Z"
   },
   {
    "duration": 115,
    "start_time": "2022-04-04T16:59:43.485Z"
   },
   {
    "duration": 12,
    "start_time": "2022-04-04T16:59:43.603Z"
   },
   {
    "duration": 193,
    "start_time": "2022-04-04T16:59:43.622Z"
   },
   {
    "duration": 97,
    "start_time": "2022-04-04T16:59:43.817Z"
   },
   {
    "duration": 22,
    "start_time": "2022-04-04T16:59:43.916Z"
   },
   {
    "duration": 41,
    "start_time": "2022-04-04T16:59:43.940Z"
   },
   {
    "duration": 10002,
    "start_time": "2022-04-04T16:59:43.983Z"
   },
   {
    "duration": 8,
    "start_time": "2022-04-04T16:59:53.987Z"
   },
   {
    "duration": 77,
    "start_time": "2022-04-04T16:59:53.998Z"
   },
   {
    "duration": 25,
    "start_time": "2022-04-04T16:59:54.078Z"
   },
   {
    "duration": 107,
    "start_time": "2022-04-04T16:59:54.105Z"
   },
   {
    "duration": 30,
    "start_time": "2022-04-04T16:59:54.214Z"
   },
   {
    "duration": 0,
    "start_time": "2022-04-04T16:59:54.246Z"
   },
   {
    "duration": 1,
    "start_time": "2022-04-04T16:59:54.247Z"
   },
   {
    "duration": 0,
    "start_time": "2022-04-04T16:59:54.249Z"
   },
   {
    "duration": 0,
    "start_time": "2022-04-04T16:59:54.274Z"
   },
   {
    "duration": 0,
    "start_time": "2022-04-04T16:59:54.275Z"
   },
   {
    "duration": 0,
    "start_time": "2022-04-04T16:59:54.277Z"
   },
   {
    "duration": 0,
    "start_time": "2022-04-04T16:59:54.279Z"
   },
   {
    "duration": 0,
    "start_time": "2022-04-04T16:59:54.280Z"
   },
   {
    "duration": 0,
    "start_time": "2022-04-04T16:59:54.282Z"
   },
   {
    "duration": 104,
    "start_time": "2022-04-04T17:01:01.413Z"
   },
   {
    "duration": 37,
    "start_time": "2022-04-04T17:02:35.562Z"
   },
   {
    "duration": 71,
    "start_time": "2022-04-04T17:02:40.729Z"
   },
   {
    "duration": 79,
    "start_time": "2022-04-04T17:03:10.935Z"
   },
   {
    "duration": 42,
    "start_time": "2022-04-04T17:03:34.607Z"
   },
   {
    "duration": 4,
    "start_time": "2022-04-04T17:04:02.058Z"
   },
   {
    "duration": 120,
    "start_time": "2022-04-04T17:04:02.064Z"
   },
   {
    "duration": 6,
    "start_time": "2022-04-04T17:04:02.186Z"
   },
   {
    "duration": 30,
    "start_time": "2022-04-04T17:04:02.194Z"
   },
   {
    "duration": 29,
    "start_time": "2022-04-04T17:04:02.227Z"
   },
   {
    "duration": 19,
    "start_time": "2022-04-04T17:04:02.258Z"
   },
   {
    "duration": 26,
    "start_time": "2022-04-04T17:04:02.280Z"
   },
   {
    "duration": 25,
    "start_time": "2022-04-04T17:04:02.308Z"
   },
   {
    "duration": 49,
    "start_time": "2022-04-04T17:04:02.335Z"
   },
   {
    "duration": 9,
    "start_time": "2022-04-04T17:04:02.387Z"
   },
   {
    "duration": 115,
    "start_time": "2022-04-04T17:04:02.402Z"
   },
   {
    "duration": 71,
    "start_time": "2022-04-04T17:04:02.520Z"
   },
   {
    "duration": 10,
    "start_time": "2022-04-04T17:04:02.594Z"
   },
   {
    "duration": 127,
    "start_time": "2022-04-04T17:04:02.606Z"
   },
   {
    "duration": 94,
    "start_time": "2022-04-04T17:04:02.737Z"
   },
   {
    "duration": 41,
    "start_time": "2022-04-04T17:04:02.834Z"
   },
   {
    "duration": 23,
    "start_time": "2022-04-04T17:04:02.878Z"
   },
   {
    "duration": 9822,
    "start_time": "2022-04-04T17:04:02.903Z"
   },
   {
    "duration": 10,
    "start_time": "2022-04-04T17:04:12.727Z"
   },
   {
    "duration": 55,
    "start_time": "2022-04-04T17:04:12.740Z"
   },
   {
    "duration": 22,
    "start_time": "2022-04-04T17:04:12.798Z"
   },
   {
    "duration": 117,
    "start_time": "2022-04-04T17:04:12.822Z"
   },
   {
    "duration": 57,
    "start_time": "2022-04-04T17:04:12.942Z"
   },
   {
    "duration": 106,
    "start_time": "2022-04-04T17:04:13.001Z"
   },
   {
    "duration": 88,
    "start_time": "2022-04-04T17:04:13.109Z"
   },
   {
    "duration": 49,
    "start_time": "2022-04-04T17:04:13.199Z"
   },
   {
    "duration": 32,
    "start_time": "2022-04-04T17:04:13.251Z"
   },
   {
    "duration": 128,
    "start_time": "2022-04-04T17:04:13.285Z"
   },
   {
    "duration": 15,
    "start_time": "2022-04-04T17:04:13.416Z"
   },
   {
    "duration": 54,
    "start_time": "2022-04-04T17:04:13.433Z"
   },
   {
    "duration": 35,
    "start_time": "2022-04-04T17:04:13.489Z"
   },
   {
    "duration": 104,
    "start_time": "2022-04-04T17:04:13.526Z"
   },
   {
    "duration": 751,
    "start_time": "2022-04-04T17:50:53.707Z"
   },
   {
    "duration": 101,
    "start_time": "2022-04-04T17:50:54.461Z"
   },
   {
    "duration": 10,
    "start_time": "2022-04-04T17:50:54.564Z"
   },
   {
    "duration": 26,
    "start_time": "2022-04-04T17:50:54.576Z"
   },
   {
    "duration": 29,
    "start_time": "2022-04-04T17:50:54.606Z"
   },
   {
    "duration": 14,
    "start_time": "2022-04-04T17:50:54.637Z"
   },
   {
    "duration": 41,
    "start_time": "2022-04-04T17:50:54.653Z"
   },
   {
    "duration": 20,
    "start_time": "2022-04-04T17:50:54.696Z"
   },
   {
    "duration": 11,
    "start_time": "2022-04-04T17:50:54.718Z"
   },
   {
    "duration": 51,
    "start_time": "2022-04-04T17:50:54.731Z"
   },
   {
    "duration": 659,
    "start_time": "2022-04-04T17:50:54.784Z"
   },
   {
    "duration": 75,
    "start_time": "2022-04-04T17:50:55.445Z"
   },
   {
    "duration": 56,
    "start_time": "2022-04-04T17:50:55.522Z"
   },
   {
    "duration": 142,
    "start_time": "2022-04-04T17:50:55.583Z"
   },
   {
    "duration": 88,
    "start_time": "2022-04-04T17:50:55.727Z"
   },
   {
    "duration": 22,
    "start_time": "2022-04-04T17:50:55.817Z"
   },
   {
    "duration": 45,
    "start_time": "2022-04-04T17:50:55.841Z"
   },
   {
    "duration": 10175,
    "start_time": "2022-04-04T17:50:55.888Z"
   },
   {
    "duration": 11,
    "start_time": "2022-04-04T17:51:06.065Z"
   },
   {
    "duration": 35,
    "start_time": "2022-04-04T17:51:06.078Z"
   },
   {
    "duration": 19,
    "start_time": "2022-04-04T17:51:06.115Z"
   },
   {
    "duration": 113,
    "start_time": "2022-04-04T17:51:06.136Z"
   },
   {
    "duration": 57,
    "start_time": "2022-04-04T17:51:06.251Z"
   },
   {
    "duration": 110,
    "start_time": "2022-04-04T17:51:06.311Z"
   },
   {
    "duration": 90,
    "start_time": "2022-04-04T17:51:06.423Z"
   },
   {
    "duration": 123,
    "start_time": "2022-04-04T17:51:06.515Z"
   },
   {
    "duration": 34,
    "start_time": "2022-04-04T17:51:06.640Z"
   },
   {
    "duration": 115,
    "start_time": "2022-04-04T17:51:06.676Z"
   },
   {
    "duration": 13,
    "start_time": "2022-04-04T17:51:06.793Z"
   },
   {
    "duration": 37,
    "start_time": "2022-04-04T17:51:06.808Z"
   },
   {
    "duration": 60,
    "start_time": "2022-04-04T17:51:06.847Z"
   },
   {
    "duration": 101,
    "start_time": "2022-04-04T17:51:06.909Z"
   },
   {
    "duration": 639,
    "start_time": "2022-04-05T05:39:56.567Z"
   },
   {
    "duration": 75,
    "start_time": "2022-04-05T05:39:57.208Z"
   },
   {
    "duration": 4,
    "start_time": "2022-04-05T05:39:57.285Z"
   },
   {
    "duration": 16,
    "start_time": "2022-04-05T05:39:57.291Z"
   },
   {
    "duration": 17,
    "start_time": "2022-04-05T05:39:57.310Z"
   },
   {
    "duration": 4,
    "start_time": "2022-04-05T05:39:57.329Z"
   },
   {
    "duration": 17,
    "start_time": "2022-04-05T05:39:57.335Z"
   },
   {
    "duration": 52,
    "start_time": "2022-04-05T05:39:57.354Z"
   },
   {
    "duration": 7,
    "start_time": "2022-04-05T05:39:57.408Z"
   },
   {
    "duration": 5,
    "start_time": "2022-04-05T05:39:57.417Z"
   },
   {
    "duration": 5824,
    "start_time": "2022-04-05T05:39:57.423Z"
   },
   {
    "duration": 73,
    "start_time": "2022-04-05T05:40:03.249Z"
   },
   {
    "duration": 6,
    "start_time": "2022-04-05T05:40:03.323Z"
   },
   {
    "duration": 112,
    "start_time": "2022-04-05T05:40:03.332Z"
   },
   {
    "duration": 72,
    "start_time": "2022-04-05T05:40:03.445Z"
   },
   {
    "duration": 14,
    "start_time": "2022-04-05T05:40:03.519Z"
   },
   {
    "duration": 13,
    "start_time": "2022-04-05T05:40:03.534Z"
   },
   {
    "duration": 5775,
    "start_time": "2022-04-05T05:40:03.549Z"
   },
   {
    "duration": 5,
    "start_time": "2022-04-05T05:40:09.326Z"
   },
   {
    "duration": 52,
    "start_time": "2022-04-05T05:40:09.333Z"
   },
   {
    "duration": 31,
    "start_time": "2022-04-05T05:40:09.386Z"
   },
   {
    "duration": 228,
    "start_time": "2022-04-05T05:40:09.419Z"
   },
   {
    "duration": 26,
    "start_time": "2022-04-05T05:40:09.648Z"
   },
   {
    "duration": 91,
    "start_time": "2022-04-05T05:40:09.676Z"
   },
   {
    "duration": 45,
    "start_time": "2022-04-05T05:40:09.768Z"
   },
   {
    "duration": 94,
    "start_time": "2022-04-05T05:40:09.815Z"
   },
   {
    "duration": 11,
    "start_time": "2022-04-05T05:40:09.910Z"
   },
   {
    "duration": 73,
    "start_time": "2022-04-05T05:40:09.923Z"
   },
   {
    "duration": 11,
    "start_time": "2022-04-05T05:40:10.000Z"
   },
   {
    "duration": 22,
    "start_time": "2022-04-05T05:40:10.013Z"
   },
   {
    "duration": 52,
    "start_time": "2022-04-05T05:40:10.037Z"
   },
   {
    "duration": 62,
    "start_time": "2022-04-05T05:40:10.091Z"
   },
   {
    "duration": 608,
    "start_time": "2022-04-06T11:34:54.546Z"
   },
   {
    "duration": 77,
    "start_time": "2022-04-06T11:34:55.156Z"
   },
   {
    "duration": 5,
    "start_time": "2022-04-06T11:34:55.234Z"
   },
   {
    "duration": 11,
    "start_time": "2022-04-06T11:34:55.240Z"
   },
   {
    "duration": 22,
    "start_time": "2022-04-06T11:34:55.253Z"
   },
   {
    "duration": 6,
    "start_time": "2022-04-06T11:34:55.276Z"
   },
   {
    "duration": 18,
    "start_time": "2022-04-06T11:34:55.283Z"
   },
   {
    "duration": 15,
    "start_time": "2022-04-06T11:34:55.332Z"
   },
   {
    "duration": 8,
    "start_time": "2022-04-06T11:34:55.349Z"
   },
   {
    "duration": 5,
    "start_time": "2022-04-06T11:34:55.360Z"
   },
   {
    "duration": 375,
    "start_time": "2022-04-06T11:34:55.367Z"
   },
   {
    "duration": 40,
    "start_time": "2022-04-06T11:34:55.744Z"
   },
   {
    "duration": 6,
    "start_time": "2022-04-06T11:34:55.834Z"
   },
   {
    "duration": 110,
    "start_time": "2022-04-06T11:34:55.841Z"
   },
   {
    "duration": 46,
    "start_time": "2022-04-06T11:34:55.953Z"
   },
   {
    "duration": 36,
    "start_time": "2022-04-06T11:34:56.001Z"
   },
   {
    "duration": 15,
    "start_time": "2022-04-06T11:34:56.039Z"
   },
   {
    "duration": 5851,
    "start_time": "2022-04-06T11:34:56.055Z"
   },
   {
    "duration": 6,
    "start_time": "2022-04-06T11:35:01.907Z"
   },
   {
    "duration": 40,
    "start_time": "2022-04-06T11:35:01.915Z"
   },
   {
    "duration": 22,
    "start_time": "2022-04-06T11:35:01.957Z"
   },
   {
    "duration": 59,
    "start_time": "2022-04-06T11:35:01.981Z"
   },
   {
    "duration": 26,
    "start_time": "2022-04-06T11:35:02.041Z"
   },
   {
    "duration": 73,
    "start_time": "2022-04-06T11:35:02.069Z"
   },
   {
    "duration": 46,
    "start_time": "2022-04-06T11:35:02.144Z"
   },
   {
    "duration": 112,
    "start_time": "2022-04-06T11:35:02.192Z"
   },
   {
    "duration": 12,
    "start_time": "2022-04-06T11:35:02.305Z"
   },
   {
    "duration": 69,
    "start_time": "2022-04-06T11:35:02.335Z"
   },
   {
    "duration": 29,
    "start_time": "2022-04-06T11:35:02.405Z"
   },
   {
    "duration": 22,
    "start_time": "2022-04-06T11:35:02.436Z"
   },
   {
    "duration": 26,
    "start_time": "2022-04-06T11:35:02.460Z"
   },
   {
    "duration": 78,
    "start_time": "2022-04-06T11:35:02.488Z"
   },
   {
    "duration": 2903,
    "start_time": "2022-04-06T12:06:00.215Z"
   },
   {
    "duration": 4597,
    "start_time": "2022-04-06T12:06:22.327Z"
   },
   {
    "duration": 76,
    "start_time": "2022-04-06T12:14:10.008Z"
   },
   {
    "duration": 65,
    "start_time": "2022-04-06T12:14:19.691Z"
   },
   {
    "duration": 3,
    "start_time": "2022-04-06T12:14:28.147Z"
   },
   {
    "duration": 71,
    "start_time": "2022-04-06T12:14:28.153Z"
   },
   {
    "duration": 10,
    "start_time": "2022-04-06T12:14:28.233Z"
   },
   {
    "duration": 11,
    "start_time": "2022-04-06T12:14:28.245Z"
   },
   {
    "duration": 19,
    "start_time": "2022-04-06T12:14:28.258Z"
   },
   {
    "duration": 4,
    "start_time": "2022-04-06T12:14:28.279Z"
   },
   {
    "duration": 17,
    "start_time": "2022-04-06T12:14:28.285Z"
   },
   {
    "duration": 24,
    "start_time": "2022-04-06T12:14:28.332Z"
   },
   {
    "duration": 9,
    "start_time": "2022-04-06T12:14:28.358Z"
   },
   {
    "duration": 6,
    "start_time": "2022-04-06T12:14:28.369Z"
   },
   {
    "duration": 79,
    "start_time": "2022-04-06T12:14:28.378Z"
   },
   {
    "duration": 37,
    "start_time": "2022-04-06T12:14:28.458Z"
   },
   {
    "duration": 6,
    "start_time": "2022-04-06T12:14:28.496Z"
   },
   {
    "duration": 86,
    "start_time": "2022-04-06T12:14:28.503Z"
   },
   {
    "duration": 59,
    "start_time": "2022-04-06T12:14:28.591Z"
   },
   {
    "duration": 15,
    "start_time": "2022-04-06T12:14:28.652Z"
   },
   {
    "duration": 13,
    "start_time": "2022-04-06T12:14:28.669Z"
   },
   {
    "duration": 6653,
    "start_time": "2022-04-06T12:14:28.684Z"
   },
   {
    "duration": 9,
    "start_time": "2022-04-06T12:14:35.339Z"
   },
   {
    "duration": 26,
    "start_time": "2022-04-06T12:14:35.350Z"
   },
   {
    "duration": 13,
    "start_time": "2022-04-06T12:14:35.378Z"
   },
   {
    "duration": 83,
    "start_time": "2022-04-06T12:14:35.392Z"
   },
   {
    "duration": 26,
    "start_time": "2022-04-06T12:14:35.477Z"
   },
   {
    "duration": 74,
    "start_time": "2022-04-06T12:14:35.505Z"
   },
   {
    "duration": 63,
    "start_time": "2022-04-06T12:14:35.581Z"
   },
   {
    "duration": 40,
    "start_time": "2022-04-06T12:14:35.646Z"
   },
   {
    "duration": 12,
    "start_time": "2022-04-06T12:14:35.687Z"
   },
   {
    "duration": 93,
    "start_time": "2022-04-06T12:14:35.701Z"
   },
   {
    "duration": 63,
    "start_time": "2022-04-06T12:14:35.797Z"
   },
   {
    "duration": 0,
    "start_time": "2022-04-06T12:14:35.861Z"
   },
   {
    "duration": 0,
    "start_time": "2022-04-06T12:14:35.862Z"
   },
   {
    "duration": 0,
    "start_time": "2022-04-06T12:14:35.863Z"
   },
   {
    "duration": 0,
    "start_time": "2022-04-06T12:14:35.864Z"
   },
   {
    "duration": 110,
    "start_time": "2022-04-06T12:14:58.646Z"
   },
   {
    "duration": 78,
    "start_time": "2022-04-06T12:15:08.720Z"
   },
   {
    "duration": 149,
    "start_time": "2022-04-06T12:16:40.112Z"
   },
   {
    "duration": 23,
    "start_time": "2022-04-06T12:22:07.184Z"
   },
   {
    "duration": 140,
    "start_time": "2022-04-06T12:29:44.660Z"
   },
   {
    "duration": 298,
    "start_time": "2022-04-06T12:31:13.579Z"
   },
   {
    "duration": 4495,
    "start_time": "2022-04-06T12:32:21.487Z"
   },
   {
    "duration": 182,
    "start_time": "2022-04-06T12:34:14.335Z"
   },
   {
    "duration": 146,
    "start_time": "2022-04-06T12:35:00.719Z"
   },
   {
    "duration": 2678,
    "start_time": "2022-04-06T12:35:06.697Z"
   },
   {
    "duration": 3,
    "start_time": "2022-04-06T12:35:22.845Z"
   },
   {
    "duration": 99,
    "start_time": "2022-04-06T12:35:22.851Z"
   },
   {
    "duration": 4,
    "start_time": "2022-04-06T12:35:22.952Z"
   },
   {
    "duration": 12,
    "start_time": "2022-04-06T12:35:22.962Z"
   },
   {
    "duration": 19,
    "start_time": "2022-04-06T12:35:22.976Z"
   },
   {
    "duration": 5,
    "start_time": "2022-04-06T12:35:22.997Z"
   },
   {
    "duration": 41,
    "start_time": "2022-04-06T12:35:23.003Z"
   },
   {
    "duration": 20,
    "start_time": "2022-04-06T12:35:23.046Z"
   },
   {
    "duration": 8,
    "start_time": "2022-04-06T12:35:23.069Z"
   },
   {
    "duration": 11,
    "start_time": "2022-04-06T12:35:23.078Z"
   },
   {
    "duration": 86,
    "start_time": "2022-04-06T12:35:23.092Z"
   },
   {
    "duration": 38,
    "start_time": "2022-04-06T12:35:23.180Z"
   },
   {
    "duration": 29,
    "start_time": "2022-04-06T12:35:23.220Z"
   },
   {
    "duration": 156,
    "start_time": "2022-04-06T12:35:23.251Z"
   },
   {
    "duration": 61,
    "start_time": "2022-04-06T12:35:23.409Z"
   },
   {
    "duration": 15,
    "start_time": "2022-04-06T12:35:23.472Z"
   },
   {
    "duration": 14,
    "start_time": "2022-04-06T12:35:23.489Z"
   },
   {
    "duration": 6941,
    "start_time": "2022-04-06T12:35:23.505Z"
   },
   {
    "duration": 11,
    "start_time": "2022-04-06T12:35:30.450Z"
   },
   {
    "duration": 30,
    "start_time": "2022-04-06T12:35:30.463Z"
   },
   {
    "duration": 19,
    "start_time": "2022-04-06T12:35:30.495Z"
   },
   {
    "duration": 72,
    "start_time": "2022-04-06T12:35:30.515Z"
   },
   {
    "duration": 28,
    "start_time": "2022-04-06T12:35:30.588Z"
   },
   {
    "duration": 70,
    "start_time": "2022-04-06T12:35:30.633Z"
   },
   {
    "duration": 71,
    "start_time": "2022-04-06T12:35:30.705Z"
   },
   {
    "duration": 38,
    "start_time": "2022-04-06T12:35:30.778Z"
   },
   {
    "duration": 40,
    "start_time": "2022-04-06T12:35:30.818Z"
   },
   {
    "duration": 83,
    "start_time": "2022-04-06T12:35:30.863Z"
   },
   {
    "duration": 133,
    "start_time": "2022-04-06T12:35:30.950Z"
   },
   {
    "duration": 2850,
    "start_time": "2022-04-06T12:36:06.540Z"
   },
   {
    "duration": 662,
    "start_time": "2022-04-06T15:28:47.264Z"
   },
   {
    "duration": 84,
    "start_time": "2022-04-06T15:28:47.928Z"
   },
   {
    "duration": 4,
    "start_time": "2022-04-06T15:28:48.014Z"
   },
   {
    "duration": 11,
    "start_time": "2022-04-06T15:28:48.020Z"
   },
   {
    "duration": 22,
    "start_time": "2022-04-06T15:28:48.041Z"
   },
   {
    "duration": 4,
    "start_time": "2022-04-06T15:28:48.065Z"
   },
   {
    "duration": 18,
    "start_time": "2022-04-06T15:28:48.071Z"
   },
   {
    "duration": 17,
    "start_time": "2022-04-06T15:28:48.090Z"
   },
   {
    "duration": 38,
    "start_time": "2022-04-06T15:28:48.109Z"
   },
   {
    "duration": 6,
    "start_time": "2022-04-06T15:28:48.150Z"
   },
   {
    "duration": 383,
    "start_time": "2022-04-06T15:28:48.158Z"
   },
   {
    "duration": 96,
    "start_time": "2022-04-06T15:28:48.542Z"
   },
   {
    "duration": 7,
    "start_time": "2022-04-06T15:28:48.640Z"
   },
   {
    "duration": 118,
    "start_time": "2022-04-06T15:28:48.649Z"
   },
   {
    "duration": 45,
    "start_time": "2022-04-06T15:28:48.769Z"
   },
   {
    "duration": 33,
    "start_time": "2022-04-06T15:28:48.815Z"
   },
   {
    "duration": 16,
    "start_time": "2022-04-06T15:28:48.850Z"
   },
   {
    "duration": 6075,
    "start_time": "2022-04-06T15:28:48.868Z"
   },
   {
    "duration": 6,
    "start_time": "2022-04-06T15:28:54.945Z"
   },
   {
    "duration": 24,
    "start_time": "2022-04-06T15:28:54.952Z"
   },
   {
    "duration": 14,
    "start_time": "2022-04-06T15:28:54.978Z"
   },
   {
    "duration": 89,
    "start_time": "2022-04-06T15:28:54.994Z"
   },
   {
    "duration": 28,
    "start_time": "2022-04-06T15:28:55.085Z"
   },
   {
    "duration": 143,
    "start_time": "2022-04-06T15:28:55.114Z"
   },
   {
    "duration": 44,
    "start_time": "2022-04-06T15:28:55.259Z"
   },
   {
    "duration": 59,
    "start_time": "2022-04-06T15:28:55.305Z"
   },
   {
    "duration": 12,
    "start_time": "2022-04-06T15:28:55.366Z"
   },
   {
    "duration": 85,
    "start_time": "2022-04-06T15:28:55.381Z"
   },
   {
    "duration": 817,
    "start_time": "2022-04-06T15:28:55.468Z"
   },
   {
    "duration": 15,
    "start_time": "2022-04-06T15:34:44.147Z"
   },
   {
    "duration": 21,
    "start_time": "2022-04-06T15:36:21.167Z"
   },
   {
    "duration": 20,
    "start_time": "2022-04-06T15:37:26.199Z"
   },
   {
    "duration": 153,
    "start_time": "2022-04-06T15:42:01.930Z"
   },
   {
    "duration": 27,
    "start_time": "2022-04-06T15:42:16.181Z"
   },
   {
    "duration": 117,
    "start_time": "2022-04-06T15:44:01.395Z"
   },
   {
    "duration": 108,
    "start_time": "2022-04-06T15:44:07.017Z"
   },
   {
    "duration": 26,
    "start_time": "2022-04-06T15:44:34.596Z"
   },
   {
    "duration": 21,
    "start_time": "2022-04-06T15:44:53.285Z"
   },
   {
    "duration": 21,
    "start_time": "2022-04-06T15:44:59.846Z"
   },
   {
    "duration": 3,
    "start_time": "2022-04-06T15:45:12.704Z"
   },
   {
    "duration": 82,
    "start_time": "2022-04-06T15:45:12.708Z"
   },
   {
    "duration": 4,
    "start_time": "2022-04-06T15:45:12.792Z"
   },
   {
    "duration": 10,
    "start_time": "2022-04-06T15:45:12.798Z"
   },
   {
    "duration": 22,
    "start_time": "2022-04-06T15:45:12.838Z"
   },
   {
    "duration": 5,
    "start_time": "2022-04-06T15:45:12.861Z"
   },
   {
    "duration": 18,
    "start_time": "2022-04-06T15:45:12.868Z"
   },
   {
    "duration": 15,
    "start_time": "2022-04-06T15:45:12.888Z"
   },
   {
    "duration": 11,
    "start_time": "2022-04-06T15:45:12.938Z"
   },
   {
    "duration": 6,
    "start_time": "2022-04-06T15:45:12.950Z"
   },
   {
    "duration": 46,
    "start_time": "2022-04-06T15:45:12.959Z"
   },
   {
    "duration": 67,
    "start_time": "2022-04-06T15:45:13.007Z"
   },
   {
    "duration": 6,
    "start_time": "2022-04-06T15:45:13.076Z"
   },
   {
    "duration": 87,
    "start_time": "2022-04-06T15:45:13.084Z"
   },
   {
    "duration": 48,
    "start_time": "2022-04-06T15:45:13.172Z"
   },
   {
    "duration": 19,
    "start_time": "2022-04-06T15:45:13.236Z"
   },
   {
    "duration": 15,
    "start_time": "2022-04-06T15:45:13.257Z"
   },
   {
    "duration": 6198,
    "start_time": "2022-04-06T15:45:13.274Z"
   },
   {
    "duration": 6,
    "start_time": "2022-04-06T15:45:19.474Z"
   },
   {
    "duration": 27,
    "start_time": "2022-04-06T15:45:19.482Z"
   },
   {
    "duration": 17,
    "start_time": "2022-04-06T15:45:19.535Z"
   },
   {
    "duration": 50,
    "start_time": "2022-04-06T15:45:19.554Z"
   },
   {
    "duration": 47,
    "start_time": "2022-04-06T15:45:19.606Z"
   },
   {
    "duration": 55,
    "start_time": "2022-04-06T15:45:19.655Z"
   },
   {
    "duration": 76,
    "start_time": "2022-04-06T15:45:19.733Z"
   },
   {
    "duration": 55,
    "start_time": "2022-04-06T15:45:19.811Z"
   },
   {
    "duration": 12,
    "start_time": "2022-04-06T15:45:19.868Z"
   },
   {
    "duration": 91,
    "start_time": "2022-04-06T15:45:19.882Z"
   },
   {
    "duration": 1090,
    "start_time": "2022-04-06T15:45:19.977Z"
   },
   {
    "duration": 25,
    "start_time": "2022-04-06T15:45:21.069Z"
   },
   {
    "duration": 22,
    "start_time": "2022-04-06T15:46:08.345Z"
   },
   {
    "duration": 1875,
    "start_time": "2022-04-06T15:46:16.819Z"
   },
   {
    "duration": 3,
    "start_time": "2022-04-06T15:46:32.574Z"
   },
   {
    "duration": 83,
    "start_time": "2022-04-06T15:46:32.579Z"
   },
   {
    "duration": 5,
    "start_time": "2022-04-06T15:46:32.664Z"
   },
   {
    "duration": 12,
    "start_time": "2022-04-06T15:46:32.671Z"
   },
   {
    "duration": 56,
    "start_time": "2022-04-06T15:46:32.685Z"
   },
   {
    "duration": 5,
    "start_time": "2022-04-06T15:46:32.745Z"
   },
   {
    "duration": 19,
    "start_time": "2022-04-06T15:46:32.751Z"
   },
   {
    "duration": 15,
    "start_time": "2022-04-06T15:46:32.772Z"
   },
   {
    "duration": 8,
    "start_time": "2022-04-06T15:46:32.789Z"
   },
   {
    "duration": 43,
    "start_time": "2022-04-06T15:46:32.799Z"
   },
   {
    "duration": 47,
    "start_time": "2022-04-06T15:46:32.845Z"
   },
   {
    "duration": 46,
    "start_time": "2022-04-06T15:46:32.894Z"
   },
   {
    "duration": 7,
    "start_time": "2022-04-06T15:46:32.945Z"
   },
   {
    "duration": 64,
    "start_time": "2022-04-06T15:46:32.954Z"
   },
   {
    "duration": 58,
    "start_time": "2022-04-06T15:46:33.033Z"
   },
   {
    "duration": 17,
    "start_time": "2022-04-06T15:46:33.092Z"
   },
   {
    "duration": 39,
    "start_time": "2022-04-06T15:46:33.110Z"
   },
   {
    "duration": 6175,
    "start_time": "2022-04-06T15:46:33.151Z"
   },
   {
    "duration": 9,
    "start_time": "2022-04-06T15:46:39.332Z"
   },
   {
    "duration": 29,
    "start_time": "2022-04-06T15:46:39.344Z"
   },
   {
    "duration": 13,
    "start_time": "2022-04-06T15:46:39.375Z"
   },
   {
    "duration": 142,
    "start_time": "2022-04-06T15:46:39.390Z"
   },
   {
    "duration": 30,
    "start_time": "2022-04-06T15:46:39.534Z"
   },
   {
    "duration": 75,
    "start_time": "2022-04-06T15:46:39.565Z"
   },
   {
    "duration": 50,
    "start_time": "2022-04-06T15:46:39.642Z"
   },
   {
    "duration": 67,
    "start_time": "2022-04-06T15:46:39.693Z"
   },
   {
    "duration": 16,
    "start_time": "2022-04-06T15:46:39.762Z"
   },
   {
    "duration": 87,
    "start_time": "2022-04-06T15:46:39.780Z"
   },
   {
    "duration": 940,
    "start_time": "2022-04-06T15:46:39.870Z"
   },
   {
    "duration": 38,
    "start_time": "2022-04-06T15:46:40.812Z"
   },
   {
    "duration": 1893,
    "start_time": "2022-04-06T15:49:03.465Z"
   },
   {
    "duration": 1895,
    "start_time": "2022-04-06T15:49:22.911Z"
   },
   {
    "duration": 3,
    "start_time": "2022-04-06T15:49:28.444Z"
   },
   {
    "duration": 70,
    "start_time": "2022-04-06T15:49:28.449Z"
   },
   {
    "duration": 17,
    "start_time": "2022-04-06T15:49:28.520Z"
   },
   {
    "duration": 17,
    "start_time": "2022-04-06T15:49:28.540Z"
   },
   {
    "duration": 21,
    "start_time": "2022-04-06T15:49:28.559Z"
   },
   {
    "duration": 5,
    "start_time": "2022-04-06T15:49:28.582Z"
   },
   {
    "duration": 48,
    "start_time": "2022-04-06T15:49:28.589Z"
   },
   {
    "duration": 21,
    "start_time": "2022-04-06T15:49:28.638Z"
   },
   {
    "duration": 8,
    "start_time": "2022-04-06T15:49:28.661Z"
   },
   {
    "duration": 5,
    "start_time": "2022-04-06T15:49:28.670Z"
   },
   {
    "duration": 75,
    "start_time": "2022-04-06T15:49:28.676Z"
   },
   {
    "duration": 36,
    "start_time": "2022-04-06T15:49:28.753Z"
   },
   {
    "duration": 6,
    "start_time": "2022-04-06T15:49:28.791Z"
   },
   {
    "duration": 90,
    "start_time": "2022-04-06T15:49:28.799Z"
   },
   {
    "duration": 60,
    "start_time": "2022-04-06T15:49:28.890Z"
   },
   {
    "duration": 15,
    "start_time": "2022-04-06T15:49:28.952Z"
   },
   {
    "duration": 14,
    "start_time": "2022-04-06T15:49:28.968Z"
   },
   {
    "duration": 6466,
    "start_time": "2022-04-06T15:49:28.984Z"
   },
   {
    "duration": 7,
    "start_time": "2022-04-06T15:49:35.451Z"
   },
   {
    "duration": 25,
    "start_time": "2022-04-06T15:49:35.460Z"
   },
   {
    "duration": 53,
    "start_time": "2022-04-06T15:49:35.487Z"
   },
   {
    "duration": 51,
    "start_time": "2022-04-06T15:49:35.543Z"
   },
   {
    "duration": 43,
    "start_time": "2022-04-06T15:49:35.595Z"
   },
   {
    "duration": 57,
    "start_time": "2022-04-06T15:49:35.642Z"
   },
   {
    "duration": 69,
    "start_time": "2022-04-06T15:49:35.701Z"
   },
   {
    "duration": 39,
    "start_time": "2022-04-06T15:49:35.772Z"
   },
   {
    "duration": 37,
    "start_time": "2022-04-06T15:49:35.814Z"
   },
   {
    "duration": 80,
    "start_time": "2022-04-06T15:49:35.853Z"
   },
   {
    "duration": 1034,
    "start_time": "2022-04-06T15:49:35.935Z"
   },
   {
    "duration": 40,
    "start_time": "2022-04-06T15:49:36.970Z"
   },
   {
    "duration": 1989,
    "start_time": "2022-04-06T15:51:03.694Z"
   },
   {
    "duration": 3,
    "start_time": "2022-04-06T15:51:09.682Z"
   },
   {
    "duration": 68,
    "start_time": "2022-04-06T15:51:09.689Z"
   },
   {
    "duration": 4,
    "start_time": "2022-04-06T15:51:09.759Z"
   },
   {
    "duration": 18,
    "start_time": "2022-04-06T15:51:09.765Z"
   },
   {
    "duration": 49,
    "start_time": "2022-04-06T15:51:09.785Z"
   },
   {
    "duration": 5,
    "start_time": "2022-04-06T15:51:09.835Z"
   },
   {
    "duration": 18,
    "start_time": "2022-04-06T15:51:09.842Z"
   },
   {
    "duration": 16,
    "start_time": "2022-04-06T15:51:09.862Z"
   },
   {
    "duration": 7,
    "start_time": "2022-04-06T15:51:09.880Z"
   },
   {
    "duration": 7,
    "start_time": "2022-04-06T15:51:09.888Z"
   },
   {
    "duration": 80,
    "start_time": "2022-04-06T15:51:09.897Z"
   },
   {
    "duration": 58,
    "start_time": "2022-04-06T15:51:09.978Z"
   },
   {
    "duration": 7,
    "start_time": "2022-04-06T15:51:10.037Z"
   },
   {
    "duration": 64,
    "start_time": "2022-04-06T15:51:10.045Z"
   },
   {
    "duration": 145,
    "start_time": "2022-04-06T15:51:10.111Z"
   },
   {
    "duration": 16,
    "start_time": "2022-04-06T15:51:10.258Z"
   },
   {
    "duration": 16,
    "start_time": "2022-04-06T15:51:10.276Z"
   },
   {
    "duration": 6270,
    "start_time": "2022-04-06T15:51:10.294Z"
   },
   {
    "duration": 6,
    "start_time": "2022-04-06T15:51:16.566Z"
   },
   {
    "duration": 25,
    "start_time": "2022-04-06T15:51:16.573Z"
   },
   {
    "duration": 39,
    "start_time": "2022-04-06T15:51:16.599Z"
   },
   {
    "duration": 50,
    "start_time": "2022-04-06T15:51:16.640Z"
   },
   {
    "duration": 43,
    "start_time": "2022-04-06T15:51:16.691Z"
   },
   {
    "duration": 56,
    "start_time": "2022-04-06T15:51:16.735Z"
   },
   {
    "duration": 64,
    "start_time": "2022-04-06T15:51:16.792Z"
   },
   {
    "duration": 39,
    "start_time": "2022-04-06T15:51:16.858Z"
   },
   {
    "duration": 34,
    "start_time": "2022-04-06T15:51:16.899Z"
   },
   {
    "duration": 69,
    "start_time": "2022-04-06T15:51:16.935Z"
   },
   {
    "duration": 967,
    "start_time": "2022-04-06T15:51:17.007Z"
   },
   {
    "duration": 25,
    "start_time": "2022-04-06T15:51:17.976Z"
   },
   {
    "duration": 1724,
    "start_time": "2022-04-06T15:51:33.673Z"
   },
   {
    "duration": 3,
    "start_time": "2022-04-06T15:51:38.184Z"
   },
   {
    "duration": 72,
    "start_time": "2022-04-06T15:51:38.189Z"
   },
   {
    "duration": 5,
    "start_time": "2022-04-06T15:51:38.263Z"
   },
   {
    "duration": 13,
    "start_time": "2022-04-06T15:51:38.270Z"
   },
   {
    "duration": 50,
    "start_time": "2022-04-06T15:51:38.285Z"
   },
   {
    "duration": 5,
    "start_time": "2022-04-06T15:51:38.336Z"
   },
   {
    "duration": 19,
    "start_time": "2022-04-06T15:51:38.343Z"
   },
   {
    "duration": 17,
    "start_time": "2022-04-06T15:51:38.363Z"
   },
   {
    "duration": 8,
    "start_time": "2022-04-06T15:51:38.382Z"
   },
   {
    "duration": 42,
    "start_time": "2022-04-06T15:51:38.392Z"
   },
   {
    "duration": 47,
    "start_time": "2022-04-06T15:51:38.437Z"
   },
   {
    "duration": 60,
    "start_time": "2022-04-06T15:51:38.487Z"
   },
   {
    "duration": 7,
    "start_time": "2022-04-06T15:51:38.549Z"
   },
   {
    "duration": 82,
    "start_time": "2022-04-06T15:51:38.558Z"
   },
   {
    "duration": 48,
    "start_time": "2022-04-06T15:51:38.642Z"
   },
   {
    "duration": 41,
    "start_time": "2022-04-06T15:51:38.692Z"
   },
   {
    "duration": 15,
    "start_time": "2022-04-06T15:51:38.735Z"
   },
   {
    "duration": 6175,
    "start_time": "2022-04-06T15:51:38.751Z"
   },
   {
    "duration": 7,
    "start_time": "2022-04-06T15:51:44.932Z"
   },
   {
    "duration": 37,
    "start_time": "2022-04-06T15:51:44.942Z"
   },
   {
    "duration": 18,
    "start_time": "2022-04-06T15:51:44.981Z"
   },
   {
    "duration": 106,
    "start_time": "2022-04-06T15:51:45.002Z"
   },
   {
    "duration": 43,
    "start_time": "2022-04-06T15:51:45.110Z"
   },
   {
    "duration": 60,
    "start_time": "2022-04-06T15:51:45.154Z"
   },
   {
    "duration": 68,
    "start_time": "2022-04-06T15:51:45.216Z"
   },
   {
    "duration": 57,
    "start_time": "2022-04-06T15:51:45.285Z"
   },
   {
    "duration": 13,
    "start_time": "2022-04-06T15:51:45.344Z"
   },
   {
    "duration": 90,
    "start_time": "2022-04-06T15:51:45.358Z"
   },
   {
    "duration": 913,
    "start_time": "2022-04-06T15:51:45.451Z"
   },
   {
    "duration": 39,
    "start_time": "2022-04-06T15:51:46.366Z"
   },
   {
    "duration": 1724,
    "start_time": "2022-04-06T15:54:16.512Z"
   },
   {
    "duration": 2,
    "start_time": "2022-04-06T15:54:38.194Z"
   },
   {
    "duration": 72,
    "start_time": "2022-04-06T15:54:38.198Z"
   },
   {
    "duration": 4,
    "start_time": "2022-04-06T15:54:38.271Z"
   },
   {
    "duration": 18,
    "start_time": "2022-04-06T15:54:38.277Z"
   },
   {
    "duration": 44,
    "start_time": "2022-04-06T15:54:38.297Z"
   },
   {
    "duration": 5,
    "start_time": "2022-04-06T15:54:38.343Z"
   },
   {
    "duration": 20,
    "start_time": "2022-04-06T15:54:38.349Z"
   },
   {
    "duration": 18,
    "start_time": "2022-04-06T15:54:38.371Z"
   },
   {
    "duration": 8,
    "start_time": "2022-04-06T15:54:38.391Z"
   },
   {
    "duration": 6,
    "start_time": "2022-04-06T15:54:38.433Z"
   },
   {
    "duration": 56,
    "start_time": "2022-04-06T15:54:38.442Z"
   },
   {
    "duration": 53,
    "start_time": "2022-04-06T15:54:38.500Z"
   },
   {
    "duration": 7,
    "start_time": "2022-04-06T15:54:38.556Z"
   },
   {
    "duration": 82,
    "start_time": "2022-04-06T15:54:38.564Z"
   },
   {
    "duration": 136,
    "start_time": "2022-04-06T15:54:38.648Z"
   },
   {
    "duration": 15,
    "start_time": "2022-04-06T15:54:38.785Z"
   },
   {
    "duration": 32,
    "start_time": "2022-04-06T15:54:38.802Z"
   },
   {
    "duration": 6224,
    "start_time": "2022-04-06T15:54:38.836Z"
   },
   {
    "duration": 6,
    "start_time": "2022-04-06T15:54:45.061Z"
   },
   {
    "duration": 22,
    "start_time": "2022-04-06T15:54:45.069Z"
   },
   {
    "duration": 12,
    "start_time": "2022-04-06T15:54:45.093Z"
   },
   {
    "duration": 50,
    "start_time": "2022-04-06T15:54:45.133Z"
   },
   {
    "duration": 49,
    "start_time": "2022-04-06T15:54:45.185Z"
   },
   {
    "duration": 55,
    "start_time": "2022-04-06T15:54:45.235Z"
   },
   {
    "duration": 61,
    "start_time": "2022-04-06T15:54:45.292Z"
   },
   {
    "duration": 37,
    "start_time": "2022-04-06T15:54:45.354Z"
   },
   {
    "duration": 13,
    "start_time": "2022-04-06T15:54:45.393Z"
   },
   {
    "duration": 90,
    "start_time": "2022-04-06T15:54:45.408Z"
   },
   {
    "duration": 1533,
    "start_time": "2022-04-06T15:54:45.502Z"
   },
   {
    "duration": 34,
    "start_time": "2022-04-06T15:54:47.038Z"
   },
   {
    "duration": 1923,
    "start_time": "2022-04-06T15:55:44.861Z"
   },
   {
    "duration": 4,
    "start_time": "2022-04-06T15:56:06.992Z"
   },
   {
    "duration": 74,
    "start_time": "2022-04-06T15:56:06.998Z"
   },
   {
    "duration": 5,
    "start_time": "2022-04-06T15:56:07.074Z"
   },
   {
    "duration": 12,
    "start_time": "2022-04-06T15:56:07.081Z"
   },
   {
    "duration": 40,
    "start_time": "2022-04-06T15:56:07.095Z"
   },
   {
    "duration": 4,
    "start_time": "2022-04-06T15:56:07.137Z"
   },
   {
    "duration": 18,
    "start_time": "2022-04-06T15:56:07.143Z"
   },
   {
    "duration": 17,
    "start_time": "2022-04-06T15:56:07.163Z"
   },
   {
    "duration": 8,
    "start_time": "2022-04-06T15:56:07.182Z"
   },
   {
    "duration": 41,
    "start_time": "2022-04-06T15:56:07.192Z"
   },
   {
    "duration": 51,
    "start_time": "2022-04-06T15:56:07.235Z"
   },
   {
    "duration": 55,
    "start_time": "2022-04-06T15:56:07.287Z"
   },
   {
    "duration": 6,
    "start_time": "2022-04-06T15:56:07.344Z"
   },
   {
    "duration": 84,
    "start_time": "2022-04-06T15:56:07.352Z"
   },
   {
    "duration": 47,
    "start_time": "2022-04-06T15:56:07.437Z"
   },
   {
    "duration": 16,
    "start_time": "2022-04-06T15:56:07.485Z"
   },
   {
    "duration": 40,
    "start_time": "2022-04-06T15:56:07.502Z"
   },
   {
    "duration": 6255,
    "start_time": "2022-04-06T15:56:07.543Z"
   },
   {
    "duration": 5,
    "start_time": "2022-04-06T15:56:13.800Z"
   },
   {
    "duration": 37,
    "start_time": "2022-04-06T15:56:13.807Z"
   },
   {
    "duration": 13,
    "start_time": "2022-04-06T15:56:13.846Z"
   },
   {
    "duration": 71,
    "start_time": "2022-04-06T15:56:13.861Z"
   },
   {
    "duration": 26,
    "start_time": "2022-04-06T15:56:13.935Z"
   },
   {
    "duration": 71,
    "start_time": "2022-04-06T15:56:13.963Z"
   },
   {
    "duration": 45,
    "start_time": "2022-04-06T15:56:14.037Z"
   },
   {
    "duration": 60,
    "start_time": "2022-04-06T15:56:14.084Z"
   },
   {
    "duration": 13,
    "start_time": "2022-04-06T15:56:14.145Z"
   },
   {
    "duration": 90,
    "start_time": "2022-04-06T15:56:14.160Z"
   },
   {
    "duration": 974,
    "start_time": "2022-04-06T15:56:14.251Z"
   },
   {
    "duration": 30,
    "start_time": "2022-04-06T15:56:15.227Z"
   },
   {
    "duration": 6,
    "start_time": "2022-04-06T15:56:15.259Z"
   },
   {
    "duration": 12,
    "start_time": "2022-04-06T15:56:29.325Z"
   },
   {
    "duration": 9,
    "start_time": "2022-04-06T15:56:46.771Z"
   },
   {
    "duration": 17,
    "start_time": "2022-04-06T15:56:53.472Z"
   },
   {
    "duration": 67,
    "start_time": "2022-04-06T16:48:29.674Z"
   },
   {
    "duration": 843,
    "start_time": "2022-04-06T16:48:34.633Z"
   },
   {
    "duration": 101,
    "start_time": "2022-04-06T16:48:35.479Z"
   },
   {
    "duration": 5,
    "start_time": "2022-04-06T16:48:35.583Z"
   },
   {
    "duration": 14,
    "start_time": "2022-04-06T16:48:35.592Z"
   },
   {
    "duration": 27,
    "start_time": "2022-04-06T16:48:35.609Z"
   },
   {
    "duration": 6,
    "start_time": "2022-04-06T16:48:35.667Z"
   },
   {
    "duration": 23,
    "start_time": "2022-04-06T16:48:35.675Z"
   },
   {
    "duration": 21,
    "start_time": "2022-04-06T16:48:35.700Z"
   },
   {
    "duration": 45,
    "start_time": "2022-04-06T16:48:35.723Z"
   },
   {
    "duration": 10,
    "start_time": "2022-04-06T16:48:35.772Z"
   },
   {
    "duration": 517,
    "start_time": "2022-04-06T16:48:35.785Z"
   },
   {
    "duration": 173,
    "start_time": "2022-04-06T16:48:36.304Z"
   },
   {
    "duration": 9,
    "start_time": "2022-04-06T16:48:36.480Z"
   },
   {
    "duration": 201,
    "start_time": "2022-04-06T16:48:36.491Z"
   },
   {
    "duration": 90,
    "start_time": "2022-04-06T16:48:36.694Z"
   },
   {
    "duration": 22,
    "start_time": "2022-04-06T16:48:36.786Z"
   },
   {
    "duration": 21,
    "start_time": "2022-04-06T16:48:36.810Z"
   },
   {
    "duration": 10395,
    "start_time": "2022-04-06T16:48:36.833Z"
   },
   {
    "duration": 8,
    "start_time": "2022-04-06T16:48:47.230Z"
   },
   {
    "duration": 52,
    "start_time": "2022-04-06T16:48:47.240Z"
   },
   {
    "duration": 20,
    "start_time": "2022-04-06T16:48:47.294Z"
   },
   {
    "duration": 113,
    "start_time": "2022-04-06T16:48:47.316Z"
   },
   {
    "duration": 59,
    "start_time": "2022-04-06T16:48:47.431Z"
   },
   {
    "duration": 159,
    "start_time": "2022-04-06T16:48:47.493Z"
   },
   {
    "duration": 84,
    "start_time": "2022-04-06T16:48:47.654Z"
   },
   {
    "duration": 70,
    "start_time": "2022-04-06T16:48:47.740Z"
   },
   {
    "duration": 44,
    "start_time": "2022-04-06T16:49:04.923Z"
   },
   {
    "duration": 106,
    "start_time": "2022-04-06T16:55:06.748Z"
   },
   {
    "duration": 105,
    "start_time": "2022-04-06T16:55:22.256Z"
   },
   {
    "duration": 123,
    "start_time": "2022-04-06T16:55:25.918Z"
   },
   {
    "duration": 4,
    "start_time": "2022-04-06T16:56:16.664Z"
   },
   {
    "duration": 144,
    "start_time": "2022-04-06T16:56:16.673Z"
   },
   {
    "duration": 6,
    "start_time": "2022-04-06T16:56:16.821Z"
   },
   {
    "duration": 45,
    "start_time": "2022-04-06T16:56:16.830Z"
   },
   {
    "duration": 26,
    "start_time": "2022-04-06T16:56:16.880Z"
   },
   {
    "duration": 8,
    "start_time": "2022-04-06T16:56:16.909Z"
   },
   {
    "duration": 57,
    "start_time": "2022-04-06T16:56:16.919Z"
   },
   {
    "duration": 20,
    "start_time": "2022-04-06T16:56:16.978Z"
   },
   {
    "duration": 11,
    "start_time": "2022-04-06T16:56:17.000Z"
   },
   {
    "duration": 6,
    "start_time": "2022-04-06T16:56:17.013Z"
   },
   {
    "duration": 105,
    "start_time": "2022-04-06T16:56:17.024Z"
   },
   {
    "duration": 68,
    "start_time": "2022-04-06T16:56:17.131Z"
   },
   {
    "duration": 8,
    "start_time": "2022-04-06T16:56:17.201Z"
   },
   {
    "duration": 117,
    "start_time": "2022-04-06T16:56:17.211Z"
   },
   {
    "duration": 82,
    "start_time": "2022-04-06T16:56:17.330Z"
   },
   {
    "duration": 21,
    "start_time": "2022-04-06T16:56:17.414Z"
   },
   {
    "duration": 43,
    "start_time": "2022-04-06T16:56:17.437Z"
   },
   {
    "duration": 9655,
    "start_time": "2022-04-06T16:56:17.482Z"
   },
   {
    "duration": 8,
    "start_time": "2022-04-06T16:56:27.139Z"
   },
   {
    "duration": 46,
    "start_time": "2022-04-06T16:56:27.149Z"
   },
   {
    "duration": 18,
    "start_time": "2022-04-06T16:56:27.197Z"
   },
   {
    "duration": 101,
    "start_time": "2022-04-06T16:56:27.217Z"
   },
   {
    "duration": 54,
    "start_time": "2022-04-06T16:56:27.320Z"
   },
   {
    "duration": 101,
    "start_time": "2022-04-06T16:56:27.377Z"
   },
   {
    "duration": 71,
    "start_time": "2022-04-06T16:56:27.480Z"
   },
   {
    "duration": 141,
    "start_time": "2022-04-06T16:56:27.553Z"
   },
   {
    "duration": 17,
    "start_time": "2022-04-06T16:56:27.696Z"
   },
   {
    "duration": 189,
    "start_time": "2022-04-06T16:56:27.715Z"
   },
   {
    "duration": 81,
    "start_time": "2022-04-06T16:57:53.548Z"
   },
   {
    "duration": 126,
    "start_time": "2022-04-06T16:58:57.237Z"
   },
   {
    "duration": 18,
    "start_time": "2022-04-06T16:59:07.181Z"
   },
   {
    "duration": 76,
    "start_time": "2022-04-06T16:59:13.783Z"
   },
   {
    "duration": 158,
    "start_time": "2022-04-06T17:00:13.490Z"
   },
   {
    "duration": 18,
    "start_time": "2022-04-06T17:00:18.433Z"
   },
   {
    "duration": 87,
    "start_time": "2022-04-06T17:00:24.194Z"
   },
   {
    "duration": 14,
    "start_time": "2022-04-06T17:00:56.863Z"
   },
   {
    "duration": 22,
    "start_time": "2022-04-06T17:01:11.385Z"
   },
   {
    "duration": 3,
    "start_time": "2022-04-06T17:01:46.234Z"
   },
   {
    "duration": 96,
    "start_time": "2022-04-06T17:01:46.245Z"
   },
   {
    "duration": 23,
    "start_time": "2022-04-06T17:01:46.344Z"
   },
   {
    "duration": 11,
    "start_time": "2022-04-06T17:01:46.370Z"
   },
   {
    "duration": 27,
    "start_time": "2022-04-06T17:01:46.384Z"
   },
   {
    "duration": 7,
    "start_time": "2022-04-06T17:01:46.413Z"
   },
   {
    "duration": 64,
    "start_time": "2022-04-06T17:01:46.422Z"
   },
   {
    "duration": 21,
    "start_time": "2022-04-06T17:01:46.489Z"
   },
   {
    "duration": 12,
    "start_time": "2022-04-06T17:01:46.512Z"
   },
   {
    "duration": 45,
    "start_time": "2022-04-06T17:01:46.527Z"
   },
   {
    "duration": 94,
    "start_time": "2022-04-06T17:01:46.577Z"
   },
   {
    "duration": 60,
    "start_time": "2022-04-06T17:01:46.674Z"
   },
   {
    "duration": 33,
    "start_time": "2022-04-06T17:01:46.736Z"
   },
   {
    "duration": 110,
    "start_time": "2022-04-06T17:01:46.771Z"
   },
   {
    "duration": 147,
    "start_time": "2022-04-06T17:01:46.883Z"
   },
   {
    "duration": 36,
    "start_time": "2022-04-06T17:01:47.032Z"
   },
   {
    "duration": 21,
    "start_time": "2022-04-06T17:01:47.071Z"
   },
   {
    "duration": 11030,
    "start_time": "2022-04-06T17:01:47.094Z"
   },
   {
    "duration": 8,
    "start_time": "2022-04-06T17:01:58.126Z"
   },
   {
    "duration": 59,
    "start_time": "2022-04-06T17:01:58.137Z"
   },
   {
    "duration": 20,
    "start_time": "2022-04-06T17:01:58.199Z"
   },
   {
    "duration": 111,
    "start_time": "2022-04-06T17:01:58.222Z"
   },
   {
    "duration": 48,
    "start_time": "2022-04-06T17:01:58.336Z"
   },
   {
    "duration": 111,
    "start_time": "2022-04-06T17:01:58.386Z"
   },
   {
    "duration": 95,
    "start_time": "2022-04-06T17:01:58.500Z"
   },
   {
    "duration": 156,
    "start_time": "2022-04-06T17:01:58.597Z"
   },
   {
    "duration": 18,
    "start_time": "2022-04-06T17:01:58.768Z"
   },
   {
    "duration": 102,
    "start_time": "2022-04-06T17:01:58.788Z"
   },
   {
    "duration": 77,
    "start_time": "2022-04-06T17:04:40.912Z"
   },
   {
    "duration": 1976,
    "start_time": "2022-04-06T17:05:14.457Z"
   },
   {
    "duration": 36,
    "start_time": "2022-04-06T17:06:58.914Z"
   },
   {
    "duration": 34,
    "start_time": "2022-04-06T17:07:08.523Z"
   },
   {
    "duration": 13,
    "start_time": "2022-04-06T17:07:43.124Z"
   },
   {
    "duration": 16,
    "start_time": "2022-04-06T17:08:09.865Z"
   },
   {
    "duration": 24,
    "start_time": "2022-04-06T17:08:13.155Z"
   },
   {
    "duration": 18,
    "start_time": "2022-04-06T17:08:22.190Z"
   },
   {
    "duration": 25,
    "start_time": "2022-04-06T17:08:25.916Z"
   },
   {
    "duration": 4,
    "start_time": "2022-04-06T17:21:05.311Z"
   },
   {
    "duration": 122,
    "start_time": "2022-04-06T17:21:05.317Z"
   },
   {
    "duration": 25,
    "start_time": "2022-04-06T17:21:05.443Z"
   },
   {
    "duration": 16,
    "start_time": "2022-04-06T17:21:05.470Z"
   },
   {
    "duration": 27,
    "start_time": "2022-04-06T17:21:05.489Z"
   },
   {
    "duration": 6,
    "start_time": "2022-04-06T17:21:05.518Z"
   },
   {
    "duration": 55,
    "start_time": "2022-04-06T17:21:05.527Z"
   },
   {
    "duration": 22,
    "start_time": "2022-04-06T17:21:05.584Z"
   },
   {
    "duration": 11,
    "start_time": "2022-04-06T17:21:05.608Z"
   },
   {
    "duration": 11,
    "start_time": "2022-04-06T17:21:05.621Z"
   },
   {
    "duration": 107,
    "start_time": "2022-04-06T17:21:05.636Z"
   },
   {
    "duration": 80,
    "start_time": "2022-04-06T17:21:05.745Z"
   },
   {
    "duration": 8,
    "start_time": "2022-04-06T17:21:05.828Z"
   },
   {
    "duration": 184,
    "start_time": "2022-04-06T17:21:05.840Z"
   },
   {
    "duration": 120,
    "start_time": "2022-04-06T17:21:06.027Z"
   },
   {
    "duration": 36,
    "start_time": "2022-04-06T17:21:06.149Z"
   },
   {
    "duration": 21,
    "start_time": "2022-04-06T17:21:06.188Z"
   },
   {
    "duration": 12269,
    "start_time": "2022-04-06T17:21:06.211Z"
   },
   {
    "duration": 10,
    "start_time": "2022-04-06T17:21:18.483Z"
   },
   {
    "duration": 73,
    "start_time": "2022-04-06T17:21:18.496Z"
   },
   {
    "duration": 24,
    "start_time": "2022-04-06T17:21:18.572Z"
   },
   {
    "duration": 132,
    "start_time": "2022-04-06T17:21:18.599Z"
   },
   {
    "duration": 62,
    "start_time": "2022-04-06T17:21:18.734Z"
   },
   {
    "duration": 115,
    "start_time": "2022-04-06T17:21:18.798Z"
   },
   {
    "duration": 91,
    "start_time": "2022-04-06T17:21:18.916Z"
   },
   {
    "duration": 160,
    "start_time": "2022-04-06T17:21:19.010Z"
   },
   {
    "duration": 25,
    "start_time": "2022-04-06T17:21:19.173Z"
   },
   {
    "duration": 145,
    "start_time": "2022-04-06T17:21:19.201Z"
   },
   {
    "duration": 989,
    "start_time": "2022-04-06T17:21:19.350Z"
   },
   {
    "duration": 10,
    "start_time": "2022-04-06T17:21:20.342Z"
   },
   {
    "duration": 54,
    "start_time": "2022-04-06T17:21:20.355Z"
   },
   {
    "duration": 14,
    "start_time": "2022-04-06T17:28:13.495Z"
   },
   {
    "duration": 31,
    "start_time": "2022-04-06T17:29:48.827Z"
   },
   {
    "duration": 22,
    "start_time": "2022-04-06T17:31:14.211Z"
   },
   {
    "duration": 18,
    "start_time": "2022-04-06T17:31:23.667Z"
   },
   {
    "duration": 4,
    "start_time": "2022-04-06T17:32:19.412Z"
   },
   {
    "duration": 95,
    "start_time": "2022-04-06T17:32:19.419Z"
   },
   {
    "duration": 6,
    "start_time": "2022-04-06T17:32:19.517Z"
   },
   {
    "duration": 45,
    "start_time": "2022-04-06T17:32:19.526Z"
   },
   {
    "duration": 27,
    "start_time": "2022-04-06T17:32:19.574Z"
   },
   {
    "duration": 6,
    "start_time": "2022-04-06T17:32:19.603Z"
   },
   {
    "duration": 58,
    "start_time": "2022-04-06T17:32:19.611Z"
   },
   {
    "duration": 22,
    "start_time": "2022-04-06T17:32:19.671Z"
   },
   {
    "duration": 12,
    "start_time": "2022-04-06T17:32:19.696Z"
   },
   {
    "duration": 7,
    "start_time": "2022-04-06T17:32:19.710Z"
   },
   {
    "duration": 111,
    "start_time": "2022-04-06T17:32:19.722Z"
   },
   {
    "duration": 70,
    "start_time": "2022-04-06T17:32:19.836Z"
   },
   {
    "duration": 9,
    "start_time": "2022-04-06T17:32:19.908Z"
   },
   {
    "duration": 121,
    "start_time": "2022-04-06T17:32:19.919Z"
   },
   {
    "duration": 87,
    "start_time": "2022-04-06T17:32:20.042Z"
   },
   {
    "duration": 42,
    "start_time": "2022-04-06T17:32:20.132Z"
   },
   {
    "duration": 22,
    "start_time": "2022-04-06T17:32:20.176Z"
   },
   {
    "duration": 9774,
    "start_time": "2022-04-06T17:32:20.200Z"
   },
   {
    "duration": 8,
    "start_time": "2022-04-06T17:32:29.977Z"
   },
   {
    "duration": 44,
    "start_time": "2022-04-06T17:32:29.987Z"
   },
   {
    "duration": 61,
    "start_time": "2022-04-06T17:32:30.033Z"
   },
   {
    "duration": 96,
    "start_time": "2022-04-06T17:32:30.096Z"
   },
   {
    "duration": 42,
    "start_time": "2022-04-06T17:32:30.194Z"
   },
   {
    "duration": 113,
    "start_time": "2022-04-06T17:32:30.238Z"
   },
   {
    "duration": 82,
    "start_time": "2022-04-06T17:32:30.353Z"
   },
   {
    "duration": 168,
    "start_time": "2022-04-06T17:32:30.437Z"
   },
   {
    "duration": 19,
    "start_time": "2022-04-06T17:32:30.607Z"
   },
   {
    "duration": 103,
    "start_time": "2022-04-06T17:32:30.628Z"
   },
   {
    "duration": 1037,
    "start_time": "2022-04-06T17:32:30.736Z"
   },
   {
    "duration": 10,
    "start_time": "2022-04-06T17:32:31.775Z"
   },
   {
    "duration": 61,
    "start_time": "2022-04-06T17:32:31.787Z"
   },
   {
    "duration": 31,
    "start_time": "2022-04-06T17:32:31.851Z"
   },
   {
    "duration": 79,
    "start_time": "2022-04-06T17:34:38.159Z"
   },
   {
    "duration": 825,
    "start_time": "2022-04-06T17:35:11.568Z"
   },
   {
    "duration": 93,
    "start_time": "2022-04-06T17:35:12.396Z"
   },
   {
    "duration": 5,
    "start_time": "2022-04-06T17:35:12.492Z"
   },
   {
    "duration": 16,
    "start_time": "2022-04-06T17:35:12.500Z"
   },
   {
    "duration": 49,
    "start_time": "2022-04-06T17:35:12.519Z"
   },
   {
    "duration": 7,
    "start_time": "2022-04-06T17:35:12.570Z"
   },
   {
    "duration": 26,
    "start_time": "2022-04-06T17:35:12.579Z"
   },
   {
    "duration": 20,
    "start_time": "2022-04-06T17:35:12.607Z"
   },
   {
    "duration": 45,
    "start_time": "2022-04-06T17:35:12.629Z"
   },
   {
    "duration": 9,
    "start_time": "2022-04-06T17:35:12.679Z"
   },
   {
    "duration": 541,
    "start_time": "2022-04-06T17:35:12.691Z"
   },
   {
    "duration": 78,
    "start_time": "2022-04-06T17:35:13.234Z"
   },
   {
    "duration": 58,
    "start_time": "2022-04-06T17:35:13.314Z"
   },
   {
    "duration": 147,
    "start_time": "2022-04-06T17:35:13.374Z"
   },
   {
    "duration": 93,
    "start_time": "2022-04-06T17:35:13.523Z"
   },
   {
    "duration": 24,
    "start_time": "2022-04-06T17:35:13.618Z"
   },
   {
    "duration": 42,
    "start_time": "2022-04-06T17:35:13.644Z"
   },
   {
    "duration": 9793,
    "start_time": "2022-04-06T17:35:13.688Z"
   },
   {
    "duration": 8,
    "start_time": "2022-04-06T17:35:23.484Z"
   },
   {
    "duration": 38,
    "start_time": "2022-04-06T17:35:23.494Z"
   },
   {
    "duration": 49,
    "start_time": "2022-04-06T17:35:23.534Z"
   },
   {
    "duration": 105,
    "start_time": "2022-04-06T17:35:23.587Z"
   },
   {
    "duration": 44,
    "start_time": "2022-04-06T17:35:23.694Z"
   },
   {
    "duration": 179,
    "start_time": "2022-04-06T17:35:23.741Z"
   },
   {
    "duration": 98,
    "start_time": "2022-04-06T17:35:23.923Z"
   },
   {
    "duration": 167,
    "start_time": "2022-04-06T17:35:24.024Z"
   },
   {
    "duration": 21,
    "start_time": "2022-04-06T17:35:24.194Z"
   },
   {
    "duration": 101,
    "start_time": "2022-04-06T17:35:24.220Z"
   },
   {
    "duration": 816,
    "start_time": "2022-04-06T17:35:24.323Z"
   },
   {
    "duration": 12,
    "start_time": "2022-04-06T17:35:25.142Z"
   },
   {
    "duration": 50,
    "start_time": "2022-04-06T17:35:25.157Z"
   },
   {
    "duration": 22,
    "start_time": "2022-04-06T17:35:25.209Z"
   },
   {
    "duration": 19,
    "start_time": "2022-04-06T17:35:55.978Z"
   },
   {
    "duration": 18,
    "start_time": "2022-04-06T17:37:08.395Z"
   },
   {
    "duration": 4,
    "start_time": "2022-04-06T17:37:11.726Z"
   },
   {
    "duration": 92,
    "start_time": "2022-04-06T17:37:11.732Z"
   },
   {
    "duration": 5,
    "start_time": "2022-04-06T17:37:11.827Z"
   },
   {
    "duration": 42,
    "start_time": "2022-04-06T17:37:11.834Z"
   },
   {
    "duration": 24,
    "start_time": "2022-04-06T17:37:11.879Z"
   },
   {
    "duration": 6,
    "start_time": "2022-04-06T17:37:11.905Z"
   },
   {
    "duration": 60,
    "start_time": "2022-04-06T17:37:11.913Z"
   },
   {
    "duration": 20,
    "start_time": "2022-04-06T17:37:11.975Z"
   },
   {
    "duration": 11,
    "start_time": "2022-04-06T17:37:11.997Z"
   },
   {
    "duration": 8,
    "start_time": "2022-04-06T17:37:12.009Z"
   },
   {
    "duration": 108,
    "start_time": "2022-04-06T17:37:12.021Z"
   },
   {
    "duration": 73,
    "start_time": "2022-04-06T17:37:12.131Z"
   },
   {
    "duration": 8,
    "start_time": "2022-04-06T17:37:12.206Z"
   },
   {
    "duration": 113,
    "start_time": "2022-04-06T17:37:12.216Z"
   },
   {
    "duration": 82,
    "start_time": "2022-04-06T17:37:12.331Z"
   },
   {
    "duration": 22,
    "start_time": "2022-04-06T17:37:12.415Z"
   },
   {
    "duration": 45,
    "start_time": "2022-04-06T17:37:12.439Z"
   },
   {
    "duration": 9704,
    "start_time": "2022-04-06T17:37:12.487Z"
   },
   {
    "duration": 11,
    "start_time": "2022-04-06T17:37:22.194Z"
   },
   {
    "duration": 64,
    "start_time": "2022-04-06T17:37:22.208Z"
   },
   {
    "duration": 23,
    "start_time": "2022-04-06T17:37:22.275Z"
   },
   {
    "duration": 121,
    "start_time": "2022-04-06T17:37:22.300Z"
   },
   {
    "duration": 81,
    "start_time": "2022-04-06T17:37:22.424Z"
   },
   {
    "duration": 110,
    "start_time": "2022-04-06T17:37:22.508Z"
   },
   {
    "duration": 92,
    "start_time": "2022-04-06T17:37:22.621Z"
   },
   {
    "duration": 161,
    "start_time": "2022-04-06T17:37:22.715Z"
   },
   {
    "duration": 25,
    "start_time": "2022-04-06T17:37:22.879Z"
   },
   {
    "duration": 145,
    "start_time": "2022-04-06T17:37:22.907Z"
   },
   {
    "duration": 784,
    "start_time": "2022-04-06T17:37:23.068Z"
   },
   {
    "duration": 10,
    "start_time": "2022-04-06T17:37:23.854Z"
   },
   {
    "duration": 51,
    "start_time": "2022-04-06T17:37:23.866Z"
   },
   {
    "duration": 16,
    "start_time": "2022-04-06T17:37:23.919Z"
   },
   {
    "duration": 1616,
    "start_time": "2022-04-06T17:37:40.641Z"
   },
   {
    "duration": 20,
    "start_time": "2022-04-06T17:37:52.798Z"
   },
   {
    "duration": 30,
    "start_time": "2022-04-06T17:37:59.229Z"
   },
   {
    "duration": 19,
    "start_time": "2022-04-06T17:38:11.594Z"
   },
   {
    "duration": 21,
    "start_time": "2022-04-06T17:38:33.716Z"
   },
   {
    "duration": 18,
    "start_time": "2022-04-06T17:38:39.779Z"
   },
   {
    "duration": 26,
    "start_time": "2022-04-06T17:40:08.022Z"
   },
   {
    "duration": 17,
    "start_time": "2022-04-06T17:40:31.786Z"
   },
   {
    "duration": 17,
    "start_time": "2022-04-06T17:40:41.426Z"
   },
   {
    "duration": 15,
    "start_time": "2022-04-06T17:43:20.846Z"
   },
   {
    "duration": 48,
    "start_time": "2022-04-06T17:48:04.362Z"
   },
   {
    "duration": 18,
    "start_time": "2022-04-06T17:48:31.993Z"
   },
   {
    "duration": 80,
    "start_time": "2022-04-06T17:48:59.903Z"
   },
   {
    "duration": 244,
    "start_time": "2022-04-06T17:59:10.603Z"
   },
   {
    "duration": 96,
    "start_time": "2022-04-06T18:01:02.241Z"
   },
   {
    "duration": 129,
    "start_time": "2022-04-06T18:01:07.353Z"
   },
   {
    "duration": 204,
    "start_time": "2022-04-06T18:01:37.720Z"
   },
   {
    "duration": 44,
    "start_time": "2022-04-06T18:02:09.991Z"
   },
   {
    "duration": 125,
    "start_time": "2022-04-06T18:02:43.182Z"
   },
   {
    "duration": 36,
    "start_time": "2022-04-06T18:03:21.000Z"
   },
   {
    "duration": 146,
    "start_time": "2022-04-06T18:03:36.845Z"
   },
   {
    "duration": 38,
    "start_time": "2022-04-06T18:04:18.749Z"
   },
   {
    "duration": 135,
    "start_time": "2022-04-06T18:04:32.785Z"
   },
   {
    "duration": 132,
    "start_time": "2022-04-06T18:05:28.140Z"
   },
   {
    "duration": 260,
    "start_time": "2022-04-06T18:05:32.235Z"
   },
   {
    "duration": 115,
    "start_time": "2022-04-06T18:07:09.841Z"
   },
   {
    "duration": 215,
    "start_time": "2022-04-06T18:07:12.964Z"
   },
   {
    "duration": 96,
    "start_time": "2022-04-06T18:07:51.076Z"
   },
   {
    "duration": 241,
    "start_time": "2022-04-06T18:07:58.266Z"
   },
   {
    "duration": 381,
    "start_time": "2022-04-06T18:08:37.224Z"
   },
   {
    "duration": 351,
    "start_time": "2022-04-06T18:09:10.041Z"
   },
   {
    "duration": 333,
    "start_time": "2022-04-06T18:09:38.891Z"
   },
   {
    "duration": 16,
    "start_time": "2022-04-06T18:15:12.799Z"
   },
   {
    "duration": 19,
    "start_time": "2022-04-06T18:15:17.224Z"
   },
   {
    "duration": 23,
    "start_time": "2022-04-06T18:15:31.918Z"
   },
   {
    "duration": 17,
    "start_time": "2022-04-06T18:17:05.912Z"
   },
   {
    "duration": 48,
    "start_time": "2022-04-06T18:18:00.543Z"
   },
   {
    "duration": 34,
    "start_time": "2022-04-06T18:18:39.319Z"
   },
   {
    "duration": 24,
    "start_time": "2022-04-06T18:19:04.085Z"
   },
   {
    "duration": 18,
    "start_time": "2022-04-06T18:19:07.643Z"
   },
   {
    "duration": 20,
    "start_time": "2022-04-06T18:19:34.225Z"
   },
   {
    "duration": 43,
    "start_time": "2022-04-06T18:21:48.734Z"
   },
   {
    "duration": 38,
    "start_time": "2022-04-06T18:22:27.625Z"
   },
   {
    "duration": 36,
    "start_time": "2022-04-06T18:22:36.423Z"
   },
   {
    "duration": 34,
    "start_time": "2022-04-06T18:23:04.417Z"
   },
   {
    "duration": 36,
    "start_time": "2022-04-06T18:23:34.409Z"
   },
   {
    "duration": 34,
    "start_time": "2022-04-06T18:23:45.512Z"
   },
   {
    "duration": 43,
    "start_time": "2022-04-06T18:24:00.038Z"
   },
   {
    "duration": 1127,
    "start_time": "2022-04-06T18:49:04.476Z"
   },
   {
    "duration": 114,
    "start_time": "2022-04-06T18:49:05.605Z"
   },
   {
    "duration": 6,
    "start_time": "2022-04-06T18:49:05.721Z"
   },
   {
    "duration": 26,
    "start_time": "2022-04-06T18:49:05.730Z"
   },
   {
    "duration": 41,
    "start_time": "2022-04-06T18:49:05.759Z"
   },
   {
    "duration": 7,
    "start_time": "2022-04-06T18:49:05.802Z"
   },
   {
    "duration": 32,
    "start_time": "2022-04-06T18:49:05.811Z"
   },
   {
    "duration": 47,
    "start_time": "2022-04-06T18:49:05.845Z"
   },
   {
    "duration": 13,
    "start_time": "2022-04-06T18:49:05.894Z"
   },
   {
    "duration": 15,
    "start_time": "2022-04-06T18:49:05.911Z"
   },
   {
    "duration": 583,
    "start_time": "2022-04-06T18:49:05.928Z"
   },
   {
    "duration": 121,
    "start_time": "2022-04-06T18:49:06.513Z"
   },
   {
    "duration": 9,
    "start_time": "2022-04-06T18:49:06.684Z"
   },
   {
    "duration": 123,
    "start_time": "2022-04-06T18:49:06.695Z"
   },
   {
    "duration": 93,
    "start_time": "2022-04-06T18:49:06.821Z"
   },
   {
    "duration": 22,
    "start_time": "2022-04-06T18:49:06.916Z"
   },
   {
    "duration": 50,
    "start_time": "2022-04-06T18:49:06.940Z"
   },
   {
    "duration": 10074,
    "start_time": "2022-04-06T18:49:06.992Z"
   },
   {
    "duration": 8,
    "start_time": "2022-04-06T18:49:17.068Z"
   },
   {
    "duration": 37,
    "start_time": "2022-04-06T18:49:17.084Z"
   },
   {
    "duration": 20,
    "start_time": "2022-04-06T18:49:17.123Z"
   },
   {
    "duration": 155,
    "start_time": "2022-04-06T18:49:17.146Z"
   },
   {
    "duration": 47,
    "start_time": "2022-04-06T18:49:17.304Z"
   },
   {
    "duration": 202,
    "start_time": "2022-04-06T18:49:17.354Z"
   },
   {
    "duration": 94,
    "start_time": "2022-04-06T18:49:17.558Z"
   },
   {
    "duration": 168,
    "start_time": "2022-04-06T18:49:17.655Z"
   },
   {
    "duration": 19,
    "start_time": "2022-04-06T18:49:17.826Z"
   },
   {
    "duration": 106,
    "start_time": "2022-04-06T18:49:17.851Z"
   },
   {
    "duration": 1038,
    "start_time": "2022-04-06T18:49:17.959Z"
   },
   {
    "duration": 11,
    "start_time": "2022-04-06T18:49:18.999Z"
   },
   {
    "duration": 72,
    "start_time": "2022-04-06T18:49:19.012Z"
   },
   {
    "duration": 45,
    "start_time": "2022-04-06T18:49:19.086Z"
   },
   {
    "duration": 207,
    "start_time": "2022-04-06T18:49:19.133Z"
   },
   {
    "duration": 0,
    "start_time": "2022-04-06T18:49:19.343Z"
   },
   {
    "duration": 0,
    "start_time": "2022-04-06T18:49:19.344Z"
   },
   {
    "duration": 0,
    "start_time": "2022-04-06T18:49:19.345Z"
   },
   {
    "duration": 16,
    "start_time": "2022-04-06T18:50:22.890Z"
   },
   {
    "duration": 15,
    "start_time": "2022-04-06T18:51:02.011Z"
   },
   {
    "duration": 15,
    "start_time": "2022-04-06T18:51:43.518Z"
   },
   {
    "duration": 16,
    "start_time": "2022-04-06T18:52:04.817Z"
   },
   {
    "duration": 5,
    "start_time": "2022-04-06T18:52:09.644Z"
   },
   {
    "duration": 104,
    "start_time": "2022-04-06T18:52:09.651Z"
   },
   {
    "duration": 31,
    "start_time": "2022-04-06T18:52:09.758Z"
   },
   {
    "duration": 16,
    "start_time": "2022-04-06T18:52:09.791Z"
   },
   {
    "duration": 31,
    "start_time": "2022-04-06T18:52:09.810Z"
   },
   {
    "duration": 43,
    "start_time": "2022-04-06T18:52:09.843Z"
   },
   {
    "duration": 25,
    "start_time": "2022-04-06T18:52:09.889Z"
   },
   {
    "duration": 67,
    "start_time": "2022-04-06T18:52:09.917Z"
   },
   {
    "duration": 13,
    "start_time": "2022-04-06T18:52:09.986Z"
   },
   {
    "duration": 11,
    "start_time": "2022-04-06T18:52:10.002Z"
   },
   {
    "duration": 110,
    "start_time": "2022-04-06T18:52:10.018Z"
   },
   {
    "duration": 78,
    "start_time": "2022-04-06T18:52:10.131Z"
   },
   {
    "duration": 8,
    "start_time": "2022-04-06T18:52:10.211Z"
   },
   {
    "duration": 126,
    "start_time": "2022-04-06T18:52:10.221Z"
   },
   {
    "duration": 90,
    "start_time": "2022-04-06T18:52:10.350Z"
   },
   {
    "duration": 43,
    "start_time": "2022-04-06T18:52:10.442Z"
   },
   {
    "duration": 22,
    "start_time": "2022-04-06T18:52:10.488Z"
   },
   {
    "duration": 10491,
    "start_time": "2022-04-06T18:52:10.513Z"
   },
   {
    "duration": 9,
    "start_time": "2022-04-06T18:52:21.007Z"
   },
   {
    "duration": 37,
    "start_time": "2022-04-06T18:52:21.018Z"
   },
   {
    "duration": 24,
    "start_time": "2022-04-06T18:52:21.083Z"
   },
   {
    "duration": 101,
    "start_time": "2022-04-06T18:52:21.110Z"
   },
   {
    "duration": 47,
    "start_time": "2022-04-06T18:52:21.214Z"
   },
   {
    "duration": 133,
    "start_time": "2022-04-06T18:52:21.263Z"
   },
   {
    "duration": 89,
    "start_time": "2022-04-06T18:52:21.399Z"
   },
   {
    "duration": 163,
    "start_time": "2022-04-06T18:52:21.491Z"
   },
   {
    "duration": 31,
    "start_time": "2022-04-06T18:52:21.656Z"
   },
   {
    "duration": 81,
    "start_time": "2022-04-06T18:52:21.689Z"
   },
   {
    "duration": 732,
    "start_time": "2022-04-06T18:52:21.787Z"
   },
   {
    "duration": 10,
    "start_time": "2022-04-06T18:52:22.522Z"
   },
   {
    "duration": 59,
    "start_time": "2022-04-06T18:52:22.535Z"
   },
   {
    "duration": 46,
    "start_time": "2022-04-06T18:52:22.596Z"
   },
   {
    "duration": 42,
    "start_time": "2022-04-06T18:52:22.645Z"
   },
   {
    "duration": 15,
    "start_time": "2022-04-06T18:52:38.929Z"
   },
   {
    "duration": 27,
    "start_time": "2022-04-06T18:52:52.564Z"
   },
   {
    "duration": 28,
    "start_time": "2022-04-06T18:53:00.127Z"
   },
   {
    "duration": 27,
    "start_time": "2022-04-06T18:53:06.570Z"
   },
   {
    "duration": 36,
    "start_time": "2022-04-06T18:53:32.185Z"
   },
   {
    "duration": 45,
    "start_time": "2022-04-06T18:53:41.233Z"
   },
   {
    "duration": 17,
    "start_time": "2022-04-06T18:54:57.019Z"
   },
   {
    "duration": 4,
    "start_time": "2022-04-06T18:56:51.999Z"
   },
   {
    "duration": 95,
    "start_time": "2022-04-06T18:56:52.007Z"
   },
   {
    "duration": 6,
    "start_time": "2022-04-06T18:56:52.105Z"
   },
   {
    "duration": 15,
    "start_time": "2022-04-06T18:56:52.113Z"
   },
   {
    "duration": 66,
    "start_time": "2022-04-06T18:56:52.131Z"
   },
   {
    "duration": 6,
    "start_time": "2022-04-06T18:56:52.199Z"
   },
   {
    "duration": 27,
    "start_time": "2022-04-06T18:56:52.207Z"
   },
   {
    "duration": 60,
    "start_time": "2022-04-06T18:56:52.236Z"
   },
   {
    "duration": 11,
    "start_time": "2022-04-06T18:56:52.298Z"
   },
   {
    "duration": 10,
    "start_time": "2022-04-06T18:56:52.311Z"
   },
   {
    "duration": 105,
    "start_time": "2022-04-06T18:56:52.325Z"
   },
   {
    "duration": 73,
    "start_time": "2022-04-06T18:56:52.432Z"
   },
   {
    "duration": 8,
    "start_time": "2022-04-06T18:56:52.507Z"
   },
   {
    "duration": 125,
    "start_time": "2022-04-06T18:56:52.518Z"
   },
   {
    "duration": 92,
    "start_time": "2022-04-06T18:56:52.646Z"
   },
   {
    "duration": 50,
    "start_time": "2022-04-06T18:56:52.740Z"
   },
   {
    "duration": 23,
    "start_time": "2022-04-06T18:56:52.793Z"
   },
   {
    "duration": 11521,
    "start_time": "2022-04-06T18:56:52.819Z"
   },
   {
    "duration": 9,
    "start_time": "2022-04-06T18:57:04.342Z"
   },
   {
    "duration": 57,
    "start_time": "2022-04-06T18:57:04.354Z"
   },
   {
    "duration": 21,
    "start_time": "2022-04-06T18:57:04.414Z"
   },
   {
    "duration": 114,
    "start_time": "2022-04-06T18:57:04.437Z"
   },
   {
    "duration": 61,
    "start_time": "2022-04-06T18:57:04.554Z"
   },
   {
    "duration": 119,
    "start_time": "2022-04-06T18:57:04.618Z"
   },
   {
    "duration": 92,
    "start_time": "2022-04-06T18:57:04.739Z"
   },
   {
    "duration": 184,
    "start_time": "2022-04-06T18:57:04.833Z"
   },
   {
    "duration": 29,
    "start_time": "2022-04-06T18:57:05.019Z"
   },
   {
    "duration": 166,
    "start_time": "2022-04-06T18:57:05.051Z"
   },
   {
    "duration": 839,
    "start_time": "2022-04-06T18:57:05.226Z"
   },
   {
    "duration": 12,
    "start_time": "2022-04-06T18:57:06.067Z"
   },
   {
    "duration": 56,
    "start_time": "2022-04-06T18:57:06.082Z"
   },
   {
    "duration": 57,
    "start_time": "2022-04-06T18:57:06.140Z"
   },
   {
    "duration": 16,
    "start_time": "2022-04-06T18:57:06.199Z"
   },
   {
    "duration": 14,
    "start_time": "2022-04-06T18:57:06.217Z"
   },
   {
    "duration": 0,
    "start_time": "2022-04-06T18:57:06.234Z"
   },
   {
    "duration": 0,
    "start_time": "2022-04-06T18:57:06.236Z"
   },
   {
    "duration": 4,
    "start_time": "2022-04-06T18:58:22.031Z"
   },
   {
    "duration": 102,
    "start_time": "2022-04-06T18:58:22.038Z"
   },
   {
    "duration": 5,
    "start_time": "2022-04-06T18:58:22.143Z"
   },
   {
    "duration": 41,
    "start_time": "2022-04-06T18:58:22.150Z"
   },
   {
    "duration": 29,
    "start_time": "2022-04-06T18:58:22.194Z"
   },
   {
    "duration": 7,
    "start_time": "2022-04-06T18:58:22.225Z"
   },
   {
    "duration": 61,
    "start_time": "2022-04-06T18:58:22.235Z"
   },
   {
    "duration": 23,
    "start_time": "2022-04-06T18:58:22.298Z"
   },
   {
    "duration": 11,
    "start_time": "2022-04-06T18:58:22.324Z"
   },
   {
    "duration": 7,
    "start_time": "2022-04-06T18:58:22.337Z"
   },
   {
    "duration": 109,
    "start_time": "2022-04-06T18:58:22.348Z"
   },
   {
    "duration": 78,
    "start_time": "2022-04-06T18:58:22.459Z"
   },
   {
    "duration": 8,
    "start_time": "2022-04-06T18:58:22.539Z"
   },
   {
    "duration": 119,
    "start_time": "2022-04-06T18:58:22.550Z"
   },
   {
    "duration": 86,
    "start_time": "2022-04-06T18:58:22.671Z"
   },
   {
    "duration": 53,
    "start_time": "2022-04-06T18:58:22.760Z"
   },
   {
    "duration": 33,
    "start_time": "2022-04-06T18:58:22.816Z"
   },
   {
    "duration": 17280,
    "start_time": "2022-04-06T18:58:22.852Z"
   },
   {
    "duration": 8,
    "start_time": "2022-04-06T18:58:40.135Z"
   },
   {
    "duration": 58,
    "start_time": "2022-04-06T18:58:40.145Z"
   },
   {
    "duration": 20,
    "start_time": "2022-04-06T18:58:40.206Z"
   },
   {
    "duration": 119,
    "start_time": "2022-04-06T18:58:40.229Z"
   },
   {
    "duration": 63,
    "start_time": "2022-04-06T18:58:40.350Z"
   },
   {
    "duration": 108,
    "start_time": "2022-04-06T18:58:40.415Z"
   },
   {
    "duration": 98,
    "start_time": "2022-04-06T18:58:40.526Z"
   },
   {
    "duration": 184,
    "start_time": "2022-04-06T18:58:40.627Z"
   },
   {
    "duration": 17,
    "start_time": "2022-04-06T18:58:40.813Z"
   },
   {
    "duration": 98,
    "start_time": "2022-04-06T18:58:40.832Z"
   },
   {
    "duration": 785,
    "start_time": "2022-04-06T18:58:40.934Z"
   },
   {
    "duration": 12,
    "start_time": "2022-04-06T18:58:41.722Z"
   },
   {
    "duration": 63,
    "start_time": "2022-04-06T18:58:41.737Z"
   },
   {
    "duration": 44,
    "start_time": "2022-04-06T18:58:41.803Z"
   },
   {
    "duration": 41,
    "start_time": "2022-04-06T18:58:41.850Z"
   },
   {
    "duration": 14,
    "start_time": "2022-04-06T18:58:41.894Z"
   },
   {
    "duration": 0,
    "start_time": "2022-04-06T18:58:41.911Z"
   },
   {
    "duration": 0,
    "start_time": "2022-04-06T18:58:41.912Z"
   },
   {
    "duration": 5,
    "start_time": "2022-04-06T18:59:58.478Z"
   },
   {
    "duration": 110,
    "start_time": "2022-04-06T18:59:58.485Z"
   },
   {
    "duration": 6,
    "start_time": "2022-04-06T18:59:58.597Z"
   },
   {
    "duration": 17,
    "start_time": "2022-04-06T18:59:58.606Z"
   },
   {
    "duration": 67,
    "start_time": "2022-04-06T18:59:58.626Z"
   },
   {
    "duration": 7,
    "start_time": "2022-04-06T18:59:58.695Z"
   },
   {
    "duration": 37,
    "start_time": "2022-04-06T18:59:58.704Z"
   },
   {
    "duration": 45,
    "start_time": "2022-04-06T18:59:58.743Z"
   },
   {
    "duration": 11,
    "start_time": "2022-04-06T18:59:58.790Z"
   },
   {
    "duration": 10,
    "start_time": "2022-04-06T18:59:58.803Z"
   },
   {
    "duration": 187,
    "start_time": "2022-04-06T18:59:58.817Z"
   },
   {
    "duration": 60,
    "start_time": "2022-04-06T18:59:59.006Z"
   },
   {
    "duration": 9,
    "start_time": "2022-04-06T18:59:59.084Z"
   },
   {
    "duration": 117,
    "start_time": "2022-04-06T18:59:59.095Z"
   },
   {
    "duration": 93,
    "start_time": "2022-04-06T18:59:59.214Z"
   },
   {
    "duration": 22,
    "start_time": "2022-04-06T18:59:59.309Z"
   },
   {
    "duration": 23,
    "start_time": "2022-04-06T18:59:59.333Z"
   },
   {
    "duration": 10627,
    "start_time": "2022-04-06T18:59:59.358Z"
   },
   {
    "duration": 9,
    "start_time": "2022-04-06T19:00:09.987Z"
   },
   {
    "duration": 45,
    "start_time": "2022-04-06T19:00:09.998Z"
   },
   {
    "duration": 43,
    "start_time": "2022-04-06T19:00:10.045Z"
   },
   {
    "duration": 101,
    "start_time": "2022-04-06T19:00:10.090Z"
   },
   {
    "duration": 41,
    "start_time": "2022-04-06T19:00:10.194Z"
   },
   {
    "duration": 120,
    "start_time": "2022-04-06T19:00:10.238Z"
   },
   {
    "duration": 87,
    "start_time": "2022-04-06T19:00:10.360Z"
   },
   {
    "duration": 182,
    "start_time": "2022-04-06T19:00:10.450Z"
   },
   {
    "duration": 17,
    "start_time": "2022-04-06T19:00:10.634Z"
   },
   {
    "duration": 99,
    "start_time": "2022-04-06T19:00:10.654Z"
   },
   {
    "duration": 750,
    "start_time": "2022-04-06T19:00:10.758Z"
   },
   {
    "duration": 10,
    "start_time": "2022-04-06T19:00:11.510Z"
   },
   {
    "duration": 63,
    "start_time": "2022-04-06T19:00:11.522Z"
   },
   {
    "duration": 42,
    "start_time": "2022-04-06T19:00:11.587Z"
   },
   {
    "duration": 13,
    "start_time": "2022-04-06T19:00:11.631Z"
   },
   {
    "duration": 39,
    "start_time": "2022-04-06T19:00:11.646Z"
   },
   {
    "duration": 0,
    "start_time": "2022-04-06T19:00:11.688Z"
   },
   {
    "duration": 0,
    "start_time": "2022-04-06T19:00:11.689Z"
   },
   {
    "duration": 175,
    "start_time": "2022-04-06T19:02:40.011Z"
   },
   {
    "duration": 182,
    "start_time": "2022-04-06T19:04:36.703Z"
   },
   {
    "duration": 169,
    "start_time": "2022-04-06T19:05:41.517Z"
   },
   {
    "duration": 180,
    "start_time": "2022-04-06T19:05:57.907Z"
   },
   {
    "duration": 35,
    "start_time": "2022-04-06T19:09:01.718Z"
   },
   {
    "duration": 850,
    "start_time": "2022-04-06T19:09:43.721Z"
   },
   {
    "duration": 113,
    "start_time": "2022-04-06T19:09:44.573Z"
   },
   {
    "duration": 6,
    "start_time": "2022-04-06T19:09:44.688Z"
   },
   {
    "duration": 14,
    "start_time": "2022-04-06T19:09:44.697Z"
   },
   {
    "duration": 32,
    "start_time": "2022-04-06T19:09:44.713Z"
   },
   {
    "duration": 6,
    "start_time": "2022-04-06T19:09:44.747Z"
   },
   {
    "duration": 60,
    "start_time": "2022-04-06T19:09:44.755Z"
   },
   {
    "duration": 22,
    "start_time": "2022-04-06T19:09:44.817Z"
   },
   {
    "duration": 11,
    "start_time": "2022-04-06T19:09:44.841Z"
   },
   {
    "duration": 37,
    "start_time": "2022-04-06T19:09:44.857Z"
   },
   {
    "duration": 541,
    "start_time": "2022-04-06T19:09:44.896Z"
   },
   {
    "duration": 89,
    "start_time": "2022-04-06T19:09:45.439Z"
   },
   {
    "duration": 9,
    "start_time": "2022-04-06T19:09:45.584Z"
   },
   {
    "duration": 133,
    "start_time": "2022-04-06T19:09:45.595Z"
   },
   {
    "duration": 89,
    "start_time": "2022-04-06T19:09:45.730Z"
   },
   {
    "duration": 22,
    "start_time": "2022-04-06T19:09:45.821Z"
   },
   {
    "duration": 42,
    "start_time": "2022-04-06T19:09:45.845Z"
   },
   {
    "duration": 10697,
    "start_time": "2022-04-06T19:09:45.889Z"
   },
   {
    "duration": 8,
    "start_time": "2022-04-06T19:09:56.588Z"
   },
   {
    "duration": 39,
    "start_time": "2022-04-06T19:09:56.599Z"
   },
   {
    "duration": 53,
    "start_time": "2022-04-06T19:09:56.640Z"
   },
   {
    "duration": 106,
    "start_time": "2022-04-06T19:09:56.696Z"
   },
   {
    "duration": 46,
    "start_time": "2022-04-06T19:09:56.805Z"
   },
   {
    "duration": 205,
    "start_time": "2022-04-06T19:09:56.854Z"
   },
   {
    "duration": 90,
    "start_time": "2022-04-06T19:09:57.061Z"
   },
   {
    "duration": 216,
    "start_time": "2022-04-06T19:09:57.153Z"
   },
   {
    "duration": 34,
    "start_time": "2022-04-06T19:09:57.372Z"
   },
   {
    "duration": 16,
    "start_time": "2022-04-06T19:09:57.412Z"
   },
   {
    "duration": 115,
    "start_time": "2022-04-06T19:09:57.430Z"
   },
   {
    "duration": 1158,
    "start_time": "2022-04-06T19:09:57.547Z"
   },
   {
    "duration": 10,
    "start_time": "2022-04-06T19:09:58.707Z"
   },
   {
    "duration": 68,
    "start_time": "2022-04-06T19:09:58.720Z"
   },
   {
    "duration": 41,
    "start_time": "2022-04-06T19:09:58.790Z"
   },
   {
    "duration": 13,
    "start_time": "2022-04-06T19:09:58.833Z"
   },
   {
    "duration": 216,
    "start_time": "2022-04-06T19:09:58.848Z"
   },
   {
    "duration": 0,
    "start_time": "2022-04-06T19:09:59.066Z"
   },
   {
    "duration": 0,
    "start_time": "2022-04-06T19:09:59.068Z"
   },
   {
    "duration": 23,
    "start_time": "2022-04-06T19:11:33.881Z"
   },
   {
    "duration": 19,
    "start_time": "2022-04-06T19:15:19.425Z"
   },
   {
    "duration": 7,
    "start_time": "2022-04-06T19:16:59.129Z"
   },
   {
    "duration": 7,
    "start_time": "2022-04-06T19:17:18.392Z"
   },
   {
    "duration": 6,
    "start_time": "2022-04-06T19:18:42.944Z"
   },
   {
    "duration": 8,
    "start_time": "2022-04-06T19:18:48.235Z"
   },
   {
    "duration": 5,
    "start_time": "2022-04-06T19:18:58.776Z"
   },
   {
    "duration": 21,
    "start_time": "2022-04-06T19:19:23.093Z"
   },
   {
    "duration": 16,
    "start_time": "2022-04-06T19:20:33.356Z"
   },
   {
    "duration": 10,
    "start_time": "2022-04-06T19:22:03.408Z"
   },
   {
    "duration": 26,
    "start_time": "2022-04-06T19:22:06.185Z"
   },
   {
    "duration": 24,
    "start_time": "2022-04-06T19:22:38.615Z"
   },
   {
    "duration": 6,
    "start_time": "2022-04-06T19:23:19.222Z"
   },
   {
    "duration": 27,
    "start_time": "2022-04-06T19:24:46.329Z"
   },
   {
    "duration": 20,
    "start_time": "2022-04-06T19:25:06.733Z"
   },
   {
    "duration": 84,
    "start_time": "2022-04-06T19:25:55.147Z"
   },
   {
    "duration": 29,
    "start_time": "2022-04-06T19:35:25.983Z"
   },
   {
    "duration": 845,
    "start_time": "2022-04-06T19:35:50.393Z"
   },
   {
    "duration": 109,
    "start_time": "2022-04-06T19:35:51.241Z"
   },
   {
    "duration": 7,
    "start_time": "2022-04-06T19:35:51.353Z"
   },
   {
    "duration": 32,
    "start_time": "2022-04-06T19:35:51.364Z"
   },
   {
    "duration": 29,
    "start_time": "2022-04-06T19:35:51.398Z"
   },
   {
    "duration": 8,
    "start_time": "2022-04-06T19:35:51.430Z"
   },
   {
    "duration": 65,
    "start_time": "2022-04-06T19:35:51.441Z"
   },
   {
    "duration": 23,
    "start_time": "2022-04-06T19:35:51.508Z"
   },
   {
    "duration": 11,
    "start_time": "2022-04-06T19:35:51.533Z"
   },
   {
    "duration": 47,
    "start_time": "2022-04-06T19:35:51.548Z"
   },
   {
    "duration": 565,
    "start_time": "2022-04-06T19:35:51.597Z"
   },
   {
    "duration": 129,
    "start_time": "2022-04-06T19:35:52.164Z"
   },
   {
    "duration": 9,
    "start_time": "2022-04-06T19:35:52.295Z"
   },
   {
    "duration": 145,
    "start_time": "2022-04-06T19:35:52.306Z"
   },
   {
    "duration": 96,
    "start_time": "2022-04-06T19:35:52.453Z"
   },
   {
    "duration": 40,
    "start_time": "2022-04-06T19:35:52.551Z"
   },
   {
    "duration": 23,
    "start_time": "2022-04-06T19:35:52.593Z"
   },
   {
    "duration": 9805,
    "start_time": "2022-04-06T19:35:52.619Z"
   },
   {
    "duration": 8,
    "start_time": "2022-04-06T19:36:02.427Z"
   },
   {
    "duration": 58,
    "start_time": "2022-04-06T19:36:02.437Z"
   },
   {
    "duration": 21,
    "start_time": "2022-04-06T19:36:02.497Z"
   },
   {
    "duration": 120,
    "start_time": "2022-04-06T19:36:02.520Z"
   },
   {
    "duration": 56,
    "start_time": "2022-04-06T19:36:02.643Z"
   },
   {
    "duration": 182,
    "start_time": "2022-04-06T19:36:02.702Z"
   },
   {
    "duration": 76,
    "start_time": "2022-04-06T19:36:02.886Z"
   },
   {
    "duration": 192,
    "start_time": "2022-04-06T19:36:02.985Z"
   },
   {
    "duration": 33,
    "start_time": "2022-04-06T19:36:03.179Z"
   },
   {
    "duration": 17,
    "start_time": "2022-04-06T19:36:03.216Z"
   },
   {
    "duration": 113,
    "start_time": "2022-04-06T19:36:03.235Z"
   },
   {
    "duration": 1035,
    "start_time": "2022-04-06T19:36:03.351Z"
   },
   {
    "duration": 12,
    "start_time": "2022-04-06T19:36:04.389Z"
   },
   {
    "duration": 60,
    "start_time": "2022-04-06T19:36:04.403Z"
   },
   {
    "duration": 43,
    "start_time": "2022-04-06T19:36:04.483Z"
   },
   {
    "duration": 26,
    "start_time": "2022-04-06T19:36:04.528Z"
   },
   {
    "duration": 46,
    "start_time": "2022-04-06T19:36:04.556Z"
   },
   {
    "duration": 114,
    "start_time": "2022-04-06T19:36:04.604Z"
   },
   {
    "duration": 4,
    "start_time": "2022-04-06T19:43:30.277Z"
   },
   {
    "duration": 116,
    "start_time": "2022-04-06T19:43:30.284Z"
   },
   {
    "duration": 6,
    "start_time": "2022-04-06T19:43:30.403Z"
   },
   {
    "duration": 30,
    "start_time": "2022-04-06T19:43:30.411Z"
   },
   {
    "duration": 58,
    "start_time": "2022-04-06T19:43:30.446Z"
   },
   {
    "duration": 9,
    "start_time": "2022-04-06T19:43:30.507Z"
   },
   {
    "duration": 30,
    "start_time": "2022-04-06T19:43:30.519Z"
   },
   {
    "duration": 54,
    "start_time": "2022-04-06T19:43:30.552Z"
   },
   {
    "duration": 19,
    "start_time": "2022-04-06T19:43:30.608Z"
   },
   {
    "duration": 8,
    "start_time": "2022-04-06T19:43:30.629Z"
   },
   {
    "duration": 110,
    "start_time": "2022-04-06T19:43:30.641Z"
   },
   {
    "duration": 74,
    "start_time": "2022-04-06T19:43:30.753Z"
   },
   {
    "duration": 9,
    "start_time": "2022-04-06T19:43:30.830Z"
   },
   {
    "duration": 120,
    "start_time": "2022-04-06T19:43:30.841Z"
   },
   {
    "duration": 92,
    "start_time": "2022-04-06T19:43:30.964Z"
   },
   {
    "duration": 42,
    "start_time": "2022-04-06T19:43:31.058Z"
   },
   {
    "duration": 23,
    "start_time": "2022-04-06T19:43:31.103Z"
   },
   {
    "duration": 10171,
    "start_time": "2022-04-06T19:43:31.129Z"
   },
   {
    "duration": 8,
    "start_time": "2022-04-06T19:43:41.302Z"
   },
   {
    "duration": 39,
    "start_time": "2022-04-06T19:43:41.312Z"
   },
   {
    "duration": 46,
    "start_time": "2022-04-06T19:43:41.353Z"
   },
   {
    "duration": 119,
    "start_time": "2022-04-06T19:43:41.402Z"
   },
   {
    "duration": 44,
    "start_time": "2022-04-06T19:43:41.523Z"
   },
   {
    "duration": 120,
    "start_time": "2022-04-06T19:43:41.569Z"
   },
   {
    "duration": 92,
    "start_time": "2022-04-06T19:43:41.692Z"
   },
   {
    "duration": 206,
    "start_time": "2022-04-06T19:43:41.787Z"
   },
   {
    "duration": 32,
    "start_time": "2022-04-06T19:43:41.996Z"
   },
   {
    "duration": 17,
    "start_time": "2022-04-06T19:43:42.030Z"
   },
   {
    "duration": 81,
    "start_time": "2022-04-06T19:43:42.085Z"
   },
   {
    "duration": 1044,
    "start_time": "2022-04-06T19:43:42.183Z"
   },
   {
    "duration": 11,
    "start_time": "2022-04-06T19:43:43.229Z"
   },
   {
    "duration": 55,
    "start_time": "2022-04-06T19:43:43.243Z"
   },
   {
    "duration": 45,
    "start_time": "2022-04-06T19:43:43.301Z"
   },
   {
    "duration": 50,
    "start_time": "2022-04-06T19:43:43.349Z"
   },
   {
    "duration": 20,
    "start_time": "2022-04-06T19:43:43.401Z"
   },
   {
    "duration": 115,
    "start_time": "2022-04-06T19:43:43.423Z"
   },
   {
    "duration": 99,
    "start_time": "2022-04-06T19:43:43.540Z"
   },
   {
    "duration": 99,
    "start_time": "2022-04-06T19:45:16.858Z"
   },
   {
    "duration": 26,
    "start_time": "2022-04-06T19:45:21.287Z"
   },
   {
    "duration": 25,
    "start_time": "2022-04-06T19:46:37.896Z"
   },
   {
    "duration": 21,
    "start_time": "2022-04-06T19:46:51.392Z"
   },
   {
    "duration": 42,
    "start_time": "2022-04-06T19:47:34.268Z"
   },
   {
    "duration": 40,
    "start_time": "2022-04-06T19:48:06.852Z"
   },
   {
    "duration": 35,
    "start_time": "2022-04-06T19:48:10.062Z"
   },
   {
    "duration": 40,
    "start_time": "2022-04-06T19:48:36.002Z"
   },
   {
    "duration": 42,
    "start_time": "2022-04-06T19:49:08.226Z"
   },
   {
    "duration": 43,
    "start_time": "2022-04-06T19:49:52.845Z"
   },
   {
    "duration": 47,
    "start_time": "2022-04-06T19:49:59.994Z"
   },
   {
    "duration": 43,
    "start_time": "2022-04-06T19:50:17.636Z"
   },
   {
    "duration": 47,
    "start_time": "2022-04-06T19:50:36.711Z"
   },
   {
    "duration": 44,
    "start_time": "2022-04-06T19:51:28.410Z"
   },
   {
    "duration": 217,
    "start_time": "2022-04-06T19:52:03.810Z"
   },
   {
    "duration": 52,
    "start_time": "2022-04-06T19:52:14.875Z"
   },
   {
    "duration": 40,
    "start_time": "2022-04-06T19:52:25.352Z"
   },
   {
    "duration": 33,
    "start_time": "2022-04-06T19:52:59.009Z"
   },
   {
    "duration": 33,
    "start_time": "2022-04-06T19:53:22.233Z"
   },
   {
    "duration": 47,
    "start_time": "2022-04-06T19:53:51.012Z"
   },
   {
    "duration": 45,
    "start_time": "2022-04-06T19:54:51.065Z"
   },
   {
    "duration": 45,
    "start_time": "2022-04-06T19:55:53.216Z"
   },
   {
    "duration": 49,
    "start_time": "2022-04-06T19:56:55.327Z"
   },
   {
    "duration": 121,
    "start_time": "2022-04-06T19:58:36.426Z"
   },
   {
    "duration": 121,
    "start_time": "2022-04-06T20:00:36.269Z"
   },
   {
    "duration": 116,
    "start_time": "2022-04-06T20:01:31.768Z"
   },
   {
    "duration": 114,
    "start_time": "2022-04-06T20:04:26.578Z"
   },
   {
    "duration": 87,
    "start_time": "2022-04-06T20:05:43.553Z"
   },
   {
    "duration": 41,
    "start_time": "2022-04-06T20:06:28.231Z"
   },
   {
    "duration": 35,
    "start_time": "2022-04-06T20:06:35.153Z"
   },
   {
    "duration": 34,
    "start_time": "2022-04-06T20:06:47.412Z"
   },
   {
    "duration": 33,
    "start_time": "2022-04-06T20:06:57.622Z"
   },
   {
    "duration": 4,
    "start_time": "2022-04-06T20:07:11.894Z"
   },
   {
    "duration": 105,
    "start_time": "2022-04-06T20:07:11.901Z"
   },
   {
    "duration": 5,
    "start_time": "2022-04-06T20:07:12.009Z"
   },
   {
    "duration": 15,
    "start_time": "2022-04-06T20:07:12.017Z"
   },
   {
    "duration": 66,
    "start_time": "2022-04-06T20:07:12.035Z"
   },
   {
    "duration": 7,
    "start_time": "2022-04-06T20:07:12.103Z"
   },
   {
    "duration": 29,
    "start_time": "2022-04-06T20:07:12.113Z"
   },
   {
    "duration": 51,
    "start_time": "2022-04-06T20:07:12.145Z"
   },
   {
    "duration": 11,
    "start_time": "2022-04-06T20:07:12.199Z"
   },
   {
    "duration": 7,
    "start_time": "2022-04-06T20:07:12.212Z"
   },
   {
    "duration": 106,
    "start_time": "2022-04-06T20:07:12.223Z"
   },
   {
    "duration": 75,
    "start_time": "2022-04-06T20:07:12.331Z"
   },
   {
    "duration": 8,
    "start_time": "2022-04-06T20:07:12.408Z"
   },
   {
    "duration": 123,
    "start_time": "2022-04-06T20:07:12.419Z"
   },
   {
    "duration": 85,
    "start_time": "2022-04-06T20:07:12.544Z"
   },
   {
    "duration": 22,
    "start_time": "2022-04-06T20:07:12.632Z"
   },
   {
    "duration": 46,
    "start_time": "2022-04-06T20:07:12.656Z"
   },
   {
    "duration": 10322,
    "start_time": "2022-04-06T20:07:12.704Z"
   },
   {
    "duration": 8,
    "start_time": "2022-04-06T20:07:23.028Z"
   },
   {
    "duration": 62,
    "start_time": "2022-04-06T20:07:23.038Z"
   },
   {
    "duration": 29,
    "start_time": "2022-04-06T20:07:23.102Z"
   },
   {
    "duration": 99,
    "start_time": "2022-04-06T20:07:23.133Z"
   },
   {
    "duration": 61,
    "start_time": "2022-04-06T20:07:23.234Z"
   },
   {
    "duration": 113,
    "start_time": "2022-04-06T20:07:23.297Z"
   },
   {
    "duration": 89,
    "start_time": "2022-04-06T20:07:23.412Z"
   },
   {
    "duration": 196,
    "start_time": "2022-04-06T20:07:23.503Z"
   },
   {
    "duration": 28,
    "start_time": "2022-04-06T20:07:23.701Z"
   },
   {
    "duration": 21,
    "start_time": "2022-04-06T20:07:23.732Z"
   },
   {
    "duration": 199,
    "start_time": "2022-04-06T20:07:23.757Z"
   },
   {
    "duration": 1233,
    "start_time": "2022-04-06T20:07:23.958Z"
   },
   {
    "duration": 11,
    "start_time": "2022-04-06T20:07:25.193Z"
   },
   {
    "duration": 78,
    "start_time": "2022-04-06T20:07:25.206Z"
   },
   {
    "duration": 42,
    "start_time": "2022-04-06T20:07:25.286Z"
   },
   {
    "duration": 24,
    "start_time": "2022-04-06T20:07:25.331Z"
   },
   {
    "duration": 45,
    "start_time": "2022-04-06T20:07:25.358Z"
   },
   {
    "duration": 106,
    "start_time": "2022-04-06T20:07:25.405Z"
   },
   {
    "duration": 122,
    "start_time": "2022-04-06T20:07:25.513Z"
   },
   {
    "duration": 83,
    "start_time": "2022-04-06T20:16:24.567Z"
   },
   {
    "duration": 119,
    "start_time": "2022-04-06T20:16:33.954Z"
   },
   {
    "duration": 94,
    "start_time": "2022-04-06T20:17:39.671Z"
   },
   {
    "duration": 83,
    "start_time": "2022-04-06T20:18:13.053Z"
   },
   {
    "duration": 108,
    "start_time": "2022-04-06T20:18:50.153Z"
   },
   {
    "duration": 644,
    "start_time": "2022-04-06T20:46:33.272Z"
   },
   {
    "duration": 80,
    "start_time": "2022-04-06T20:46:33.918Z"
   },
   {
    "duration": 5,
    "start_time": "2022-04-06T20:46:33.999Z"
   },
   {
    "duration": 11,
    "start_time": "2022-04-06T20:46:34.006Z"
   },
   {
    "duration": 26,
    "start_time": "2022-04-06T20:46:34.019Z"
   },
   {
    "duration": 17,
    "start_time": "2022-04-06T20:46:34.047Z"
   },
   {
    "duration": 17,
    "start_time": "2022-04-06T20:46:34.065Z"
   },
   {
    "duration": 14,
    "start_time": "2022-04-06T20:46:34.084Z"
   },
   {
    "duration": 8,
    "start_time": "2022-04-06T20:46:34.099Z"
   },
   {
    "duration": 5,
    "start_time": "2022-04-06T20:46:34.109Z"
   },
   {
    "duration": 395,
    "start_time": "2022-04-06T20:46:34.116Z"
   },
   {
    "duration": 61,
    "start_time": "2022-04-06T20:46:34.513Z"
   },
   {
    "duration": 6,
    "start_time": "2022-04-06T20:46:34.576Z"
   },
   {
    "duration": 107,
    "start_time": "2022-04-06T20:46:34.583Z"
   },
   {
    "duration": 47,
    "start_time": "2022-04-06T20:46:34.691Z"
   },
   {
    "duration": 35,
    "start_time": "2022-04-06T20:46:34.739Z"
   },
   {
    "duration": 14,
    "start_time": "2022-04-06T20:46:34.776Z"
   },
   {
    "duration": 5639,
    "start_time": "2022-04-06T20:46:34.791Z"
   },
   {
    "duration": 5,
    "start_time": "2022-04-06T20:46:40.432Z"
   },
   {
    "duration": 38,
    "start_time": "2022-04-06T20:46:40.439Z"
   },
   {
    "duration": 12,
    "start_time": "2022-04-06T20:46:40.479Z"
   },
   {
    "duration": 51,
    "start_time": "2022-04-06T20:46:40.493Z"
   },
   {
    "duration": 37,
    "start_time": "2022-04-06T20:46:40.545Z"
   },
   {
    "duration": 120,
    "start_time": "2022-04-06T20:46:40.583Z"
   },
   {
    "duration": 42,
    "start_time": "2022-04-06T20:46:40.705Z"
   },
   {
    "duration": 130,
    "start_time": "2022-04-06T20:46:40.749Z"
   },
   {
    "duration": 17,
    "start_time": "2022-04-06T20:46:40.881Z"
   },
   {
    "duration": 10,
    "start_time": "2022-04-06T20:46:40.902Z"
   },
   {
    "duration": 70,
    "start_time": "2022-04-06T20:46:40.914Z"
   },
   {
    "duration": 1066,
    "start_time": "2022-04-06T20:46:40.986Z"
   },
   {
    "duration": 7,
    "start_time": "2022-04-06T20:46:42.054Z"
   },
   {
    "duration": 37,
    "start_time": "2022-04-06T20:46:42.062Z"
   },
   {
    "duration": 31,
    "start_time": "2022-04-06T20:46:42.100Z"
   },
   {
    "duration": 14,
    "start_time": "2022-04-06T20:46:42.132Z"
   },
   {
    "duration": 25,
    "start_time": "2022-04-06T20:46:42.148Z"
   },
   {
    "duration": 50,
    "start_time": "2022-04-06T20:46:42.174Z"
   },
   {
    "duration": 81,
    "start_time": "2022-04-06T20:46:42.225Z"
   },
   {
    "duration": 621,
    "start_time": "2023-06-22T15:54:06.492Z"
   },
   {
    "duration": 304,
    "start_time": "2023-06-22T15:54:07.115Z"
   },
   {
    "duration": 5,
    "start_time": "2023-06-22T15:54:07.421Z"
   },
   {
    "duration": 20,
    "start_time": "2023-06-22T15:54:07.428Z"
   },
   {
    "duration": 25,
    "start_time": "2023-06-22T15:54:07.450Z"
   },
   {
    "duration": 5,
    "start_time": "2023-06-22T15:54:07.477Z"
   },
   {
    "duration": 24,
    "start_time": "2023-06-22T15:54:07.484Z"
   },
   {
    "duration": 29,
    "start_time": "2023-06-22T15:54:07.510Z"
   },
   {
    "duration": 17,
    "start_time": "2023-06-22T15:54:07.541Z"
   },
   {
    "duration": 7,
    "start_time": "2023-06-22T15:54:07.559Z"
   },
   {
    "duration": 382,
    "start_time": "2023-06-22T15:54:07.568Z"
   },
   {
    "duration": 43,
    "start_time": "2023-06-22T15:54:07.952Z"
   },
   {
    "duration": 59,
    "start_time": "2023-06-22T15:54:07.997Z"
   },
   {
    "duration": 146,
    "start_time": "2023-06-22T15:54:08.060Z"
   },
   {
    "duration": 78,
    "start_time": "2023-06-22T15:54:08.208Z"
   },
   {
    "duration": 19,
    "start_time": "2023-06-22T15:54:08.288Z"
   },
   {
    "duration": 47,
    "start_time": "2023-06-22T15:54:08.309Z"
   },
   {
    "duration": 6260,
    "start_time": "2023-06-22T15:54:08.359Z"
   },
   {
    "duration": 6,
    "start_time": "2023-06-22T15:54:14.620Z"
   },
   {
    "duration": 38,
    "start_time": "2023-06-22T15:54:14.628Z"
   },
   {
    "duration": 19,
    "start_time": "2023-06-22T15:54:14.668Z"
   },
   {
    "duration": 69,
    "start_time": "2023-06-22T15:54:14.690Z"
   },
   {
    "duration": 29,
    "start_time": "2023-06-22T15:54:14.761Z"
   },
   {
    "duration": 150,
    "start_time": "2023-06-22T15:54:14.792Z"
   },
   {
    "duration": 51,
    "start_time": "2023-06-22T15:54:14.944Z"
   },
   {
    "duration": 134,
    "start_time": "2023-06-22T15:54:14.997Z"
   },
   {
    "duration": 31,
    "start_time": "2023-06-22T15:54:15.133Z"
   },
   {
    "duration": 11,
    "start_time": "2023-06-22T15:54:15.166Z"
   },
   {
    "duration": 73,
    "start_time": "2023-06-22T15:54:15.179Z"
   },
   {
    "duration": 1064,
    "start_time": "2023-06-22T15:54:15.254Z"
   },
   {
    "duration": 8,
    "start_time": "2023-06-22T15:54:16.319Z"
   },
   {
    "duration": 43,
    "start_time": "2023-06-22T15:54:16.329Z"
   },
   {
    "duration": 39,
    "start_time": "2023-06-22T15:54:16.374Z"
   },
   {
    "duration": 21,
    "start_time": "2023-06-22T15:54:16.415Z"
   },
   {
    "duration": 19,
    "start_time": "2023-06-22T15:54:16.453Z"
   },
   {
    "duration": 77,
    "start_time": "2023-06-22T15:54:16.475Z"
   },
   {
    "duration": 68,
    "start_time": "2023-06-22T15:54:16.554Z"
   }
  ],
  "kernelspec": {
   "display_name": "Python 3 (ipykernel)",
   "language": "python",
   "name": "python3"
  },
  "language_info": {
   "codemirror_mode": {
    "name": "ipython",
    "version": 3
   },
   "file_extension": ".py",
   "mimetype": "text/x-python",
   "name": "python",
   "nbconvert_exporter": "python",
   "pygments_lexer": "ipython3",
   "version": "3.9.7"
  },
  "toc": {
   "base_numbering": 1,
   "nav_menu": {},
   "number_sections": true,
   "sideBar": true,
   "skip_h1_title": true,
   "title_cell": "Table of Contents",
   "title_sidebar": "Contents",
   "toc_cell": false,
   "toc_position": {
    "height": "calc(100% - 180px)",
    "left": "10px",
    "top": "150px",
    "width": "341.333px"
   },
   "toc_section_display": true,
   "toc_window_display": false
  }
 },
 "nbformat": 4,
 "nbformat_minor": 2
}
