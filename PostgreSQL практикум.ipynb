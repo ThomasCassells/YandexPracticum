{
 "cells": [
  {
   "cell_type": "markdown",
   "metadata": {
    "id": "sRW85nPMDWKb"
   },
   "source": [
    "# Практические задания по БД PostgreSQL"
   ]
  },
  {
   "cell_type": "markdown",
   "metadata": {},
   "source": [
    "Импорт необходимых библиотек для работы."
   ]
  },
  {
   "cell_type": "code",
   "execution_count": 1,
   "metadata": {
    "id": "nlZBlglMDWKe"
   },
   "outputs": [],
   "source": [
    "import pandas as pd\n",
    "import plotly.express as px\n",
    "import matplotlib.pyplot as plt\n",
    "import seaborn as sns\n",
    "from plotly import graph_objects as go\n",
    "from sqlalchemy import create_engine "
   ]
  },
  {
   "cell_type": "markdown",
   "metadata": {
    "id": "XnOE3n28DWKg"
   },
   "source": [
    "# Конфигурация для подключения к базе данных `data-analyst-advanced-sql`\n",
    "Эта база данных содержит схему `stackoverflow`, с которой мы будем работать в проекте"
   ]
  },
  {
   "cell_type": "code",
   "execution_count": 2,
   "metadata": {
    "id": "6p-yGp7qDWKg"
   },
   "outputs": [],
   "source": [
    "db_config = {\n",
    "    'user': 'praktikum_student', # имя пользователя\n",
    "    'pwd': 'Sdf4$2;d-d30pp', # пароль\n",
    "    'host': 'rc1b-wcoijxj3yxfsf3fs.mdb.yandexcloud.net',\n",
    "    'port': 6432, # порт подключения\n",
    "    'db': 'data-analyst-advanced-sql' # название базы данных\n",
    "}  \n",
    "\n",
    "connection_string = 'postgresql://{}:{}@{}:{}/{}'.format(\n",
    "    db_config['user'],\n",
    "    db_config['pwd'],\n",
    "    db_config['host'],\n",
    "    db_config['port'],\n",
    "    db_config['db'],\n",
    ")"
   ]
  },
  {
   "cell_type": "markdown",
   "metadata": {
    "id": "2Rg8ZpS0DWKh"
   },
   "source": [
    "Создание подключения"
   ]
  },
  {
   "cell_type": "code",
   "execution_count": 3,
   "metadata": {
    "id": "DamCUTR6DWKi"
   },
   "outputs": [],
   "source": [
    "engine = create_engine(connection_string) "
   ]
  },
  {
   "cell_type": "markdown",
   "metadata": {
    "id": "gnBMXkDBDWKm"
   },
   "source": [
    "# Задание 1"
   ]
  },
  {
   "cell_type": "markdown",
   "metadata": {
    "id": "vHsfOrrNDWKn"
   },
   "source": [
    "Выведите общую сумму просмотров постов за каждый месяц 2008 года. Если данных за какой-либо месяц в базе нет, такой месяц можно пропустить. Результат отсортируйте по убыванию общего количества просмотров."
   ]
  },
  {
   "cell_type": "markdown",
   "metadata": {
    "id": "N5rTgGNmDWKn"
   },
   "source": [
    "| month_date  | total_views |\n",
    "| ------------- | ------------- |\n",
    "| 2008-09-01  | 452928568  |\n",
    "| 2008-10-01  | 365400138  |\n",
    "| ...         | ... |"
   ]
  },
  {
   "cell_type": "code",
   "execution_count": 4,
   "metadata": {
    "id": "eWvykcXTDWKo"
   },
   "outputs": [
    {
     "data": {
      "text/html": [
       "<div>\n",
       "<style scoped>\n",
       "    .dataframe tbody tr th:only-of-type {\n",
       "        vertical-align: middle;\n",
       "    }\n",
       "\n",
       "    .dataframe tbody tr th {\n",
       "        vertical-align: top;\n",
       "    }\n",
       "\n",
       "    .dataframe thead th {\n",
       "        text-align: right;\n",
       "    }\n",
       "</style>\n",
       "<table border=\"1\" class=\"dataframe\">\n",
       "  <thead>\n",
       "    <tr style=\"text-align: right;\">\n",
       "      <th></th>\n",
       "      <th>month_date</th>\n",
       "      <th>total_views</th>\n",
       "    </tr>\n",
       "  </thead>\n",
       "  <tbody>\n",
       "    <tr>\n",
       "      <th>0</th>\n",
       "      <td>2008-09-01</td>\n",
       "      <td>452928568</td>\n",
       "    </tr>\n",
       "    <tr>\n",
       "      <th>1</th>\n",
       "      <td>2008-10-01</td>\n",
       "      <td>365400138</td>\n",
       "    </tr>\n",
       "    <tr>\n",
       "      <th>2</th>\n",
       "      <td>2008-11-01</td>\n",
       "      <td>221759651</td>\n",
       "    </tr>\n",
       "    <tr>\n",
       "      <th>3</th>\n",
       "      <td>2008-12-01</td>\n",
       "      <td>197792841</td>\n",
       "    </tr>\n",
       "    <tr>\n",
       "      <th>4</th>\n",
       "      <td>2008-08-01</td>\n",
       "      <td>131367083</td>\n",
       "    </tr>\n",
       "    <tr>\n",
       "      <th>5</th>\n",
       "      <td>2008-07-01</td>\n",
       "      <td>669895</td>\n",
       "    </tr>\n",
       "  </tbody>\n",
       "</table>\n",
       "</div>"
      ],
      "text/plain": [
       "   month_date  total_views\n",
       "0  2008-09-01    452928568\n",
       "1  2008-10-01    365400138\n",
       "2  2008-11-01    221759651\n",
       "3  2008-12-01    197792841\n",
       "4  2008-08-01    131367083\n",
       "5  2008-07-01       669895"
      ]
     },
     "execution_count": 4,
     "metadata": {},
     "output_type": "execute_result"
    }
   ],
   "source": [
    "query_1 = '''\n",
    "SELECT DATE_TRUNC ('month', creation_date) :: date AS month_date,\n",
    "       SUM (views_count) AS total_views\n",
    "FROM stackoverflow.posts\n",
    "WHERE EXTRACT (YEAR FROM creation_date) IN ('2008')\n",
    "GROUP BY DATE_TRUNC ('month', creation_date) :: date\n",
    "ORDER BY total_views DESC\n",
    "'''\n",
    "\n",
    "pd.read_sql_query (query_1, con = engine)"
   ]
  },
  {
   "cell_type": "markdown",
   "metadata": {
    "id": "luxSj17oDWKq"
   },
   "source": [
    "**Вывод**: Наименьшие показатели просмотров соответствуют первым двум месяцам после запуска сервиса (июль и август). Максимальное количество просмотров пришлось на сентябрь, после чего до конца года количество просмотров постепенно сокращалось. Это может быть связано с рекламной акцией, запущенной в сентябре для привлечения новых пользователей."
   ]
  },
  {
   "cell_type": "markdown",
   "metadata": {
    "id": "FziIXkn5DWKr"
   },
   "source": [
    "# Задание 2"
   ]
  },
  {
   "cell_type": "markdown",
   "metadata": {
    "id": "fTGESZvYDWKr"
   },
   "source": [
    "Выведите имена самых активных пользователей, которые в первый месяц после регистрации (включая день регистрации) дали больше 100 ответов. Вопросы, которые задавали пользователи, не учитывайте. Для каждого имени пользователя выведите количество уникальных значений `user_id`. Отсортируйте результат по полю с именами в лексикографическом порядке."
   ]
  },
  {
   "cell_type": "markdown",
   "metadata": {
    "id": "W5-tv6Y3DWKs"
   },
   "source": [
    "| display_name | count |\n",
    "| ------------ | ----- |\n",
    "| 1800 INFORMATION | 1 |\n",
    "| Adam Bellaire | 1 |\n",
    "| Adam Davis | 1 |\n",
    "| ... | ... |"
   ]
  },
  {
   "cell_type": "code",
   "execution_count": 5,
   "metadata": {
    "id": "fIO-y-YjDWKt"
   },
   "outputs": [
    {
     "data": {
      "text/html": [
       "<div>\n",
       "<style scoped>\n",
       "    .dataframe tbody tr th:only-of-type {\n",
       "        vertical-align: middle;\n",
       "    }\n",
       "\n",
       "    .dataframe tbody tr th {\n",
       "        vertical-align: top;\n",
       "    }\n",
       "\n",
       "    .dataframe thead th {\n",
       "        text-align: right;\n",
       "    }\n",
       "</style>\n",
       "<table border=\"1\" class=\"dataframe\">\n",
       "  <thead>\n",
       "    <tr style=\"text-align: right;\">\n",
       "      <th></th>\n",
       "      <th>display_name</th>\n",
       "      <th>id_count</th>\n",
       "    </tr>\n",
       "  </thead>\n",
       "  <tbody>\n",
       "    <tr>\n",
       "      <th>0</th>\n",
       "      <td>Chris</td>\n",
       "      <td>29</td>\n",
       "    </tr>\n",
       "    <tr>\n",
       "      <th>1</th>\n",
       "      <td>Matt</td>\n",
       "      <td>29</td>\n",
       "    </tr>\n",
       "    <tr>\n",
       "      <th>2</th>\n",
       "      <td>Dan</td>\n",
       "      <td>21</td>\n",
       "    </tr>\n",
       "    <tr>\n",
       "      <th>3</th>\n",
       "      <td>Tom</td>\n",
       "      <td>19</td>\n",
       "    </tr>\n",
       "    <tr>\n",
       "      <th>4</th>\n",
       "      <td>Mark</td>\n",
       "      <td>16</td>\n",
       "    </tr>\n",
       "    <tr>\n",
       "      <th>5</th>\n",
       "      <td>Josh</td>\n",
       "      <td>16</td>\n",
       "    </tr>\n",
       "    <tr>\n",
       "      <th>6</th>\n",
       "      <td>Nick</td>\n",
       "      <td>16</td>\n",
       "    </tr>\n",
       "    <tr>\n",
       "      <th>7</th>\n",
       "      <td>Rob</td>\n",
       "      <td>15</td>\n",
       "    </tr>\n",
       "    <tr>\n",
       "      <th>8</th>\n",
       "      <td>Brian</td>\n",
       "      <td>15</td>\n",
       "    </tr>\n",
       "    <tr>\n",
       "      <th>9</th>\n",
       "      <td>Greg</td>\n",
       "      <td>12</td>\n",
       "    </tr>\n",
       "    <tr>\n",
       "      <th>10</th>\n",
       "      <td>Kevin</td>\n",
       "      <td>11</td>\n",
       "    </tr>\n",
       "    <tr>\n",
       "      <th>11</th>\n",
       "      <td>Craig</td>\n",
       "      <td>10</td>\n",
       "    </tr>\n",
       "    <tr>\n",
       "      <th>12</th>\n",
       "      <td>Ryan</td>\n",
       "      <td>10</td>\n",
       "    </tr>\n",
       "    <tr>\n",
       "      <th>13</th>\n",
       "      <td>Joe</td>\n",
       "      <td>9</td>\n",
       "    </tr>\n",
       "    <tr>\n",
       "      <th>14</th>\n",
       "      <td>Alan</td>\n",
       "      <td>8</td>\n",
       "    </tr>\n",
       "    <tr>\n",
       "      <th>15</th>\n",
       "      <td>Jim</td>\n",
       "      <td>7</td>\n",
       "    </tr>\n",
       "    <tr>\n",
       "      <th>16</th>\n",
       "      <td>Keith</td>\n",
       "      <td>5</td>\n",
       "    </tr>\n",
       "    <tr>\n",
       "      <th>17</th>\n",
       "      <td>jfs</td>\n",
       "      <td>3</td>\n",
       "    </tr>\n",
       "    <tr>\n",
       "      <th>18</th>\n",
       "      <td>Oli</td>\n",
       "      <td>3</td>\n",
       "    </tr>\n",
       "    <tr>\n",
       "      <th>19</th>\n",
       "      <td>Joel Coehoorn</td>\n",
       "      <td>1</td>\n",
       "    </tr>\n",
       "    <tr>\n",
       "      <th>20</th>\n",
       "      <td>Johannes Schaub - litb</td>\n",
       "      <td>1</td>\n",
       "    </tr>\n",
       "    <tr>\n",
       "      <th>21</th>\n",
       "      <td>John Millikin</td>\n",
       "      <td>1</td>\n",
       "    </tr>\n",
       "    <tr>\n",
       "      <th>22</th>\n",
       "      <td>Jon Limjap</td>\n",
       "      <td>1</td>\n",
       "    </tr>\n",
       "    <tr>\n",
       "      <th>23</th>\n",
       "      <td>Jon Skeet</td>\n",
       "      <td>1</td>\n",
       "    </tr>\n",
       "    <tr>\n",
       "      <th>24</th>\n",
       "      <td>Jorge Ferreira</td>\n",
       "      <td>1</td>\n",
       "    </tr>\n",
       "    <tr>\n",
       "      <th>25</th>\n",
       "      <td>Kibbee</td>\n",
       "      <td>1</td>\n",
       "    </tr>\n",
       "    <tr>\n",
       "      <th>26</th>\n",
       "      <td>Konrad Rudolph</td>\n",
       "      <td>1</td>\n",
       "    </tr>\n",
       "    <tr>\n",
       "      <th>27</th>\n",
       "      <td>Lasse Vågsæther Karlsen</td>\n",
       "      <td>1</td>\n",
       "    </tr>\n",
       "    <tr>\n",
       "      <th>28</th>\n",
       "      <td>Marc Gravell</td>\n",
       "      <td>1</td>\n",
       "    </tr>\n",
       "    <tr>\n",
       "      <th>29</th>\n",
       "      <td>Mark Cidade</td>\n",
       "      <td>1</td>\n",
       "    </tr>\n",
       "  </tbody>\n",
       "</table>\n",
       "</div>"
      ],
      "text/plain": [
       "               display_name  id_count\n",
       "0                     Chris        29\n",
       "1                      Matt        29\n",
       "2                       Dan        21\n",
       "3                       Tom        19\n",
       "4                      Mark        16\n",
       "5                      Josh        16\n",
       "6                      Nick        16\n",
       "7                       Rob        15\n",
       "8                     Brian        15\n",
       "9                      Greg        12\n",
       "10                    Kevin        11\n",
       "11                    Craig        10\n",
       "12                     Ryan        10\n",
       "13                      Joe         9\n",
       "14                     Alan         8\n",
       "15                      Jim         7\n",
       "16                    Keith         5\n",
       "17                      jfs         3\n",
       "18                      Oli         3\n",
       "19            Joel Coehoorn         1\n",
       "20   Johannes Schaub - litb         1\n",
       "21            John Millikin         1\n",
       "22               Jon Limjap         1\n",
       "23                Jon Skeet         1\n",
       "24           Jorge Ferreira         1\n",
       "25                   Kibbee         1\n",
       "26           Konrad Rudolph         1\n",
       "27  Lasse Vågsæther Karlsen         1\n",
       "28             Marc Gravell         1\n",
       "29              Mark Cidade         1"
      ]
     },
     "execution_count": 5,
     "metadata": {},
     "output_type": "execute_result"
    }
   ],
   "source": [
    "query_2 = '''\n",
    "WITH q1 AS (SELECT DISTINCT p.id AS post_id,\n",
    "                   u.id AS user_id,\n",
    "                   u.display_name,\n",
    "                   u.creation_date AS user_date,\n",
    "                   p.creation_date AS post_date,\n",
    "                   COUNT (p.id) OVER (PARTITION BY u.display_name) AS answer_count\n",
    "            FROM stackoverflow.posts AS p\n",
    "            JOIN stackoverflow.post_types AS pt ON p.post_type_id = pt.id\n",
    "            JOIN stackoverflow.users AS u ON p.user_id = u.id\n",
    "            WHERE pt.type IN ('Answer')\n",
    "            AND p.creation_date BETWEEN (u.creation_date) AND (u.creation_date + INTERVAL '1 month'))\n",
    "SELECT display_name,\n",
    "       COUNT (distinct user_id) AS id_count\n",
    "FROM q1\n",
    "WHERE answer_count > 100\n",
    "GROUP BY display_name\n",
    "ORDER BY id_count DESC\n",
    "'''\n",
    "\n",
    "pd.read_sql_query (query_2, con = engine).head(30)"
   ]
  },
  {
   "cell_type": "markdown",
   "metadata": {
    "id": "JhM2xXj5DWKu"
   },
   "source": [
    "# Задание 3"
   ]
  },
  {
   "cell_type": "markdown",
   "metadata": {
    "id": "IS6xPqyyDWKu"
   },
   "source": [
    "Выведите количество постов за 2008 год по месяцам. Отберите посты от пользователей, которые зарегистрировались в сентябре 2008 года и сделали хотя бы один пост в декабре того же года. Отсортируйте таблицу по значению месяца по убыванию."
   ]
  },
  {
   "cell_type": "markdown",
   "metadata": {
    "id": "WmjhjV2xDWKv"
   },
   "source": [
    "| month | count |\n",
    "| ------|------ |\n",
    "| 2008-12-01 | 17641 |\n",
    "| 2008-11-01 | 18294 |\n",
    "| ... | ... |"
   ]
  },
  {
   "cell_type": "code",
   "execution_count": 6,
   "metadata": {
    "id": "kVu0FB8WDWKv"
   },
   "outputs": [
    {
     "data": {
      "text/html": [
       "<div>\n",
       "<style scoped>\n",
       "    .dataframe tbody tr th:only-of-type {\n",
       "        vertical-align: middle;\n",
       "    }\n",
       "\n",
       "    .dataframe tbody tr th {\n",
       "        vertical-align: top;\n",
       "    }\n",
       "\n",
       "    .dataframe thead th {\n",
       "        text-align: right;\n",
       "    }\n",
       "</style>\n",
       "<table border=\"1\" class=\"dataframe\">\n",
       "  <thead>\n",
       "    <tr style=\"text-align: right;\">\n",
       "      <th></th>\n",
       "      <th>date_trunc</th>\n",
       "      <th>count</th>\n",
       "    </tr>\n",
       "  </thead>\n",
       "  <tbody>\n",
       "    <tr>\n",
       "      <th>0</th>\n",
       "      <td>2008-12-01</td>\n",
       "      <td>17641</td>\n",
       "    </tr>\n",
       "    <tr>\n",
       "      <th>1</th>\n",
       "      <td>2008-11-01</td>\n",
       "      <td>18294</td>\n",
       "    </tr>\n",
       "    <tr>\n",
       "      <th>2</th>\n",
       "      <td>2008-10-01</td>\n",
       "      <td>27171</td>\n",
       "    </tr>\n",
       "    <tr>\n",
       "      <th>3</th>\n",
       "      <td>2008-09-01</td>\n",
       "      <td>24870</td>\n",
       "    </tr>\n",
       "    <tr>\n",
       "      <th>4</th>\n",
       "      <td>2008-08-01</td>\n",
       "      <td>32</td>\n",
       "    </tr>\n",
       "  </tbody>\n",
       "</table>\n",
       "</div>"
      ],
      "text/plain": [
       "  date_trunc  count\n",
       "0 2008-12-01  17641\n",
       "1 2008-11-01  18294\n",
       "2 2008-10-01  27171\n",
       "3 2008-09-01  24870\n",
       "4 2008-08-01     32"
      ]
     },
     "execution_count": 6,
     "metadata": {},
     "output_type": "execute_result"
    }
   ],
   "source": [
    "query_3 = '''\n",
    "WITH q1 AS (SELECT DISTINCT u.id AS user_id\n",
    "            FROM stackoverflow.users AS u\n",
    "            JOIN stackoverflow.posts AS p ON p.user_id = u.id\n",
    "            WHERE DATE_TRUNC ('month', u.creation_date) IN ('2008-09-01')\n",
    "            AND DATE_TRUNC ('month', p.creation_date) IN ('2008-12-01'))\n",
    "\n",
    "SELECT DATE_TRUNC ('month', p.creation_date),\n",
    "       COUNT (p.id)\n",
    "FROM stackoverflow.posts AS p\n",
    "JOIN q1 ON p.user_id = q1.user_id\n",
    "GROUP BY DATE_TRUNC ('month', p.creation_date)\n",
    "ORDER BY DATE_TRUNC ('month', p.creation_date) DESC\n",
    "'''\n",
    "\n",
    "pd.read_sql_query (query_3, con = engine)"
   ]
  },
  {
   "cell_type": "markdown",
   "metadata": {
    "id": "MMVIz4yMlKpN"
   },
   "source": [
    "**Вывод**: В результатах есть данные о постах за август, в то время как выборка состояла из пользователей, которые зарегистрировались в сентябре. Вероятно, ошибка в записи данных."
   ]
  },
  {
   "cell_type": "markdown",
   "metadata": {
    "id": "5Pcizm0DDWKz"
   },
   "source": [
    "# Задание 4"
   ]
  },
  {
   "cell_type": "markdown",
   "metadata": {
    "id": "KUZPF6vHDWKz"
   },
   "source": [
    "Используя данные о постах, выведите несколько полей:\n",
    "\n",
    "- идентификатор пользователя, который написал пост;\n",
    "- дата создания поста;\n",
    "- количество просмотров у текущего поста;\n",
    "- сумму просмотров постов автора с накоплением.\n",
    "\n",
    "Данные в таблице должны быть отсортированы по возрастанию идентификаторов пользователей, а данные об одном и том же пользователе — по возрастанию даты создания поста."
   ]
  },
  {
   "cell_type": "markdown",
   "metadata": {
    "id": "ZpsTUVDYDWK0"
   },
   "source": [
    "| user_id | creation_date | views_count | cumulative_count |\n",
    "| ------ | -------------- | ----------- | ---------------- |\n",
    "| 1 | 2008-07-31 23:41:00  | 480476   | 480476  |\n",
    "| 1 | 2008-07-31 23:55:38  | 136033 | 616509  | \n",
    "| 1 | 2008-07-31 23:56:41  | 0 |  616509  |\n",
    "| ... | ... | ... | ... |\n",
    "| 2 | 2008-07-31 23:56:41 | 79087  | 79087 |\n",
    "| 2 | 2008-08-01 05:09:56 | 65443 | 144530 |\n",
    "| ... | ...  | ...  | ...  |"
   ]
  },
  {
   "cell_type": "code",
   "execution_count": 7,
   "metadata": {
    "id": "hDoJhMzfDWK0"
   },
   "outputs": [
    {
     "data": {
      "text/html": [
       "<div>\n",
       "<style scoped>\n",
       "    .dataframe tbody tr th:only-of-type {\n",
       "        vertical-align: middle;\n",
       "    }\n",
       "\n",
       "    .dataframe tbody tr th {\n",
       "        vertical-align: top;\n",
       "    }\n",
       "\n",
       "    .dataframe thead th {\n",
       "        text-align: right;\n",
       "    }\n",
       "</style>\n",
       "<table border=\"1\" class=\"dataframe\">\n",
       "  <thead>\n",
       "    <tr style=\"text-align: right;\">\n",
       "      <th></th>\n",
       "      <th>user_id</th>\n",
       "      <th>creation_date</th>\n",
       "      <th>views_count</th>\n",
       "      <th>sum</th>\n",
       "    </tr>\n",
       "  </thead>\n",
       "  <tbody>\n",
       "    <tr>\n",
       "      <th>0</th>\n",
       "      <td>1</td>\n",
       "      <td>2008-07-31 23:41:00</td>\n",
       "      <td>480476</td>\n",
       "      <td>480476</td>\n",
       "    </tr>\n",
       "    <tr>\n",
       "      <th>1</th>\n",
       "      <td>1</td>\n",
       "      <td>2008-07-31 23:55:38</td>\n",
       "      <td>136033</td>\n",
       "      <td>616509</td>\n",
       "    </tr>\n",
       "    <tr>\n",
       "      <th>2</th>\n",
       "      <td>1</td>\n",
       "      <td>2008-07-31 23:56:41</td>\n",
       "      <td>0</td>\n",
       "      <td>616509</td>\n",
       "    </tr>\n",
       "    <tr>\n",
       "      <th>3</th>\n",
       "      <td>1</td>\n",
       "      <td>2008-08-04 02:45:08</td>\n",
       "      <td>0</td>\n",
       "      <td>616509</td>\n",
       "    </tr>\n",
       "    <tr>\n",
       "      <th>4</th>\n",
       "      <td>1</td>\n",
       "      <td>2008-08-04 04:31:03</td>\n",
       "      <td>0</td>\n",
       "      <td>616509</td>\n",
       "    </tr>\n",
       "    <tr>\n",
       "      <th>...</th>\n",
       "      <td>...</td>\n",
       "      <td>...</td>\n",
       "      <td>...</td>\n",
       "      <td>...</td>\n",
       "    </tr>\n",
       "    <tr>\n",
       "      <th>243791</th>\n",
       "      <td>5696608</td>\n",
       "      <td>2008-12-23 16:00:37</td>\n",
       "      <td>0</td>\n",
       "      <td>2804</td>\n",
       "    </tr>\n",
       "    <tr>\n",
       "      <th>243792</th>\n",
       "      <td>5696608</td>\n",
       "      <td>2008-12-23 17:35:09</td>\n",
       "      <td>0</td>\n",
       "      <td>2804</td>\n",
       "    </tr>\n",
       "    <tr>\n",
       "      <th>243793</th>\n",
       "      <td>5696608</td>\n",
       "      <td>2008-12-24 01:02:48</td>\n",
       "      <td>0</td>\n",
       "      <td>2804</td>\n",
       "    </tr>\n",
       "    <tr>\n",
       "      <th>243794</th>\n",
       "      <td>5696608</td>\n",
       "      <td>2008-12-30 14:34:45</td>\n",
       "      <td>0</td>\n",
       "      <td>2804</td>\n",
       "    </tr>\n",
       "    <tr>\n",
       "      <th>243795</th>\n",
       "      <td>5696608</td>\n",
       "      <td>2008-12-30 16:32:12</td>\n",
       "      <td>0</td>\n",
       "      <td>2804</td>\n",
       "    </tr>\n",
       "  </tbody>\n",
       "</table>\n",
       "<p>243796 rows × 4 columns</p>\n",
       "</div>"
      ],
      "text/plain": [
       "        user_id       creation_date  views_count     sum\n",
       "0             1 2008-07-31 23:41:00       480476  480476\n",
       "1             1 2008-07-31 23:55:38       136033  616509\n",
       "2             1 2008-07-31 23:56:41            0  616509\n",
       "3             1 2008-08-04 02:45:08            0  616509\n",
       "4             1 2008-08-04 04:31:03            0  616509\n",
       "...         ...                 ...          ...     ...\n",
       "243791  5696608 2008-12-23 16:00:37            0    2804\n",
       "243792  5696608 2008-12-23 17:35:09            0    2804\n",
       "243793  5696608 2008-12-24 01:02:48            0    2804\n",
       "243794  5696608 2008-12-30 14:34:45            0    2804\n",
       "243795  5696608 2008-12-30 16:32:12            0    2804\n",
       "\n",
       "[243796 rows x 4 columns]"
      ]
     },
     "execution_count": 7,
     "metadata": {},
     "output_type": "execute_result"
    }
   ],
   "source": [
    "query_4 = '''\n",
    "SELECT user_id,\n",
    "       creation_date,\n",
    "       views_count,\n",
    "       SUM (views_count) OVER (PARTITION BY user_id ORDER BY creation_date)\n",
    "FROM stackoverflow.posts\n",
    "ORDER BY user_id\n",
    "'''\n",
    "\n",
    "pd.read_sql_query (query_4, con = engine)"
   ]
  },
  {
   "cell_type": "markdown",
   "metadata": {
    "id": "N0kHRHvIDWK2"
   },
   "source": [
    "# Задание 5"
   ]
  },
  {
   "cell_type": "markdown",
   "metadata": {
    "id": "gBgvmPtODWK2"
   },
   "source": [
    "Найдите среднее количество постов пользователей в день за август 2008 года. Отберите данные о пользователях, которые опубликовали больше 120 постов за август. Дни без публикаций не учитывайте. \n",
    "\n",
    "Отсортируйте результат по возрастанию среднего количества постов. Значения можно не округлять."
   ]
  },
  {
   "cell_type": "markdown",
   "metadata": {
    "id": "nfzR08BODWK3"
   },
   "source": [
    "| user_id | avg_daily |\n",
    "| ------- | --------- |\n",
    "| 116     | 4.777778  |\n",
    "| 234     | 5.208333  |\n",
    "| ...     | ... |"
   ]
  },
  {
   "cell_type": "code",
   "execution_count": 8,
   "metadata": {
    "id": "YFyPNz5GDWK3"
   },
   "outputs": [
    {
     "data": {
      "text/html": [
       "<div>\n",
       "<style scoped>\n",
       "    .dataframe tbody tr th:only-of-type {\n",
       "        vertical-align: middle;\n",
       "    }\n",
       "\n",
       "    .dataframe tbody tr th {\n",
       "        vertical-align: top;\n",
       "    }\n",
       "\n",
       "    .dataframe thead th {\n",
       "        text-align: right;\n",
       "    }\n",
       "</style>\n",
       "<table border=\"1\" class=\"dataframe\">\n",
       "  <thead>\n",
       "    <tr style=\"text-align: right;\">\n",
       "      <th></th>\n",
       "      <th>user_id</th>\n",
       "      <th>avg_daily</th>\n",
       "    </tr>\n",
       "  </thead>\n",
       "  <tbody>\n",
       "    <tr>\n",
       "      <th>0</th>\n",
       "      <td>116</td>\n",
       "      <td>4.777778</td>\n",
       "    </tr>\n",
       "    <tr>\n",
       "      <th>1</th>\n",
       "      <td>234</td>\n",
       "      <td>5.208333</td>\n",
       "    </tr>\n",
       "    <tr>\n",
       "      <th>2</th>\n",
       "      <td>91</td>\n",
       "      <td>5.681818</td>\n",
       "    </tr>\n",
       "    <tr>\n",
       "      <th>3</th>\n",
       "      <td>905</td>\n",
       "      <td>7.000000</td>\n",
       "    </tr>\n",
       "    <tr>\n",
       "      <th>4</th>\n",
       "      <td>383</td>\n",
       "      <td>7.277778</td>\n",
       "    </tr>\n",
       "  </tbody>\n",
       "</table>\n",
       "</div>"
      ],
      "text/plain": [
       "   user_id  avg_daily\n",
       "0      116   4.777778\n",
       "1      234   5.208333\n",
       "2       91   5.681818\n",
       "3      905   7.000000\n",
       "4      383   7.277778"
      ]
     },
     "execution_count": 8,
     "metadata": {},
     "output_type": "execute_result"
    }
   ],
   "source": [
    "query_5 = '''\n",
    "WITH q1 AS (SELECT user_id,\n",
    "                   COUNT (id) AS posts_count\n",
    "            FROM stackoverflow.posts\n",
    "            WHERE DATE_TRUNC ('month', creation_date) :: date IN ('2008-08-01')\n",
    "            GROUP BY user_id\n",
    "            HAVING COUNT (id) > 120),\n",
    "            \n",
    "q2 AS (SELECT DISTINCT p.user_id,\n",
    "              q1.posts_count,\n",
    "              DATE_TRUNC ('day', creation_date) :: date AS days_of_august\n",
    "       FROM stackoverflow.posts AS p\n",
    "       JOIN q1 ON q1.user_id = p.user_id\n",
    "       WHERE DATE_TRUNC ('month', creation_date) :: date IN ('2008-08-01')\n",
    "       ORDER BY p.user_id)\n",
    "      \n",
    "SELECT DISTINCT user_id,\n",
    "       posts_count / (COUNT (days_of_august) OVER (PARTITION BY user_id) * 1.0) AS avg_daily\n",
    "FROM q2\n",
    "ORDER BY avg_daily\n",
    "'''\n",
    "\n",
    "pd.read_sql_query (query_5, con = engine).head (50)"
   ]
  },
  {
   "cell_type": "markdown",
   "metadata": {
    "id": "EQ0dcFH4DWK5"
   },
   "source": [
    "# Задание 6"
   ]
  },
  {
   "cell_type": "markdown",
   "metadata": {
    "id": "c7flfg_hDWK5"
   },
   "source": [
    "Сколько в среднем дней в период с 1 по 7 декабря 2008 года пользователи взаимодействовали с платформой? Для каждого пользователя отберите дни, в которые он или она опубликовали хотя бы один пост. Нужно получить одно целое число — не забудьте округлить результат. "
   ]
  },
  {
   "cell_type": "markdown",
   "metadata": {
    "id": "RC1Ibzm9DWK6"
   },
   "source": [
    "| result |\n",
    "| -----  |\n",
    "| <целое число> |"
   ]
  },
  {
   "cell_type": "code",
   "execution_count": 9,
   "metadata": {
    "id": "kZ7LXTr6DWK6"
   },
   "outputs": [
    {
     "data": {
      "text/html": [
       "<div>\n",
       "<style scoped>\n",
       "    .dataframe tbody tr th:only-of-type {\n",
       "        vertical-align: middle;\n",
       "    }\n",
       "\n",
       "    .dataframe tbody tr th {\n",
       "        vertical-align: top;\n",
       "    }\n",
       "\n",
       "    .dataframe thead th {\n",
       "        text-align: right;\n",
       "    }\n",
       "</style>\n",
       "<table border=\"1\" class=\"dataframe\">\n",
       "  <thead>\n",
       "    <tr style=\"text-align: right;\">\n",
       "      <th></th>\n",
       "      <th>round</th>\n",
       "    </tr>\n",
       "  </thead>\n",
       "  <tbody>\n",
       "    <tr>\n",
       "      <th>0</th>\n",
       "      <td>2.0</td>\n",
       "    </tr>\n",
       "  </tbody>\n",
       "</table>\n",
       "</div>"
      ],
      "text/plain": [
       "   round\n",
       "0    2.0"
      ]
     },
     "execution_count": 9,
     "metadata": {},
     "output_type": "execute_result"
    }
   ],
   "source": [
    "query_6 = '''\n",
    "WITH q1 AS (SELECT DISTINCT user_id,\n",
    "                   DATE_TRUNC ('day', creation_date) :: date AS days_range\n",
    "            FROM stackoverflow.posts\n",
    "            WHERE DATE_TRUNC ('day', creation_date) :: date BETWEEN ('2008-12-01') AND ('2008-12-07')\n",
    "            GROUP BY user_id, DATE_TRUNC ('day', creation_date) :: date),\n",
    "            \n",
    "     q2 AS (SELECT user_id,\n",
    "                   COUNT (days_range) AS days_count\n",
    "            FROM q1\n",
    "            GROUP BY user_id)\n",
    "            \n",
    "SELECT ROUND (AVG (days_count))\n",
    "FROM q2\n",
    "'''\n",
    "\n",
    "pd.read_sql_query (query_6, con = engine)"
   ]
  },
  {
   "cell_type": "markdown",
   "metadata": {
    "id": "LfUuYz-1DWK8"
   },
   "source": [
    "**Вывод**: Из 7-и дней начала декабря, в среднем пользователеи оставляли посты всего 2 дня. Это низкий показатель, который, скорее всего, говорит о технических ошибках на сервере в этот период"
   ]
  },
  {
   "cell_type": "markdown",
   "metadata": {
    "id": "wfOmqmfLDWK8"
   },
   "source": [
    "# Задание 7"
   ]
  },
  {
   "cell_type": "markdown",
   "metadata": {
    "id": "X4ARQimADWK9"
   },
   "source": [
    "Выведите историю активности каждого пользователя в таком виде: идентификатор пользователя, дата публикации поста. Отсортируйте вывод по возрастанию идентификаторов пользователей, а для каждого пользователя — по возрастанию даты публикации.\n",
    "\n",
    "Добавьте в таблицу новое поле: для каждого поста в нём будет указано название месяца предпоследней публикации пользователя относительно текущей. Если такой публикации нет, укажите `NULL`.  Python автоматически поменяет `NULL` на `None`, но дополнительно преобразовывать значения `None` вам не нужно.\n",
    "\n",
    "Посмотрите внимательно на образец таблицы: для первых двух постов предпоследней публикации нет, но, начиная с третьего поста, в новое поле входит нужный месяц. Для следующего пользователя в первые две записи поля `second_last_month` тоже войдёт `NULL`."
   ]
  },
  {
   "cell_type": "markdown",
   "metadata": {
    "id": "IGPjRP01DWK9"
   },
   "source": [
    "| user_id | creation_date | second_last_month |\n",
    "| ------- | ------------- | ----------------- |\n",
    "| 1       | 2008-07-31 23:41:00 | None |\n",
    "| 1       | 2008-07-31 23:55:38 | None |\n",
    "| 1       | 2008-07-31 23:56:41 | July |\n",
    "| 1       | 2008-08-04 02:45:08 | July |\n",
    "| 1       | 2008-08-04 04:31:03 | July |\n",
    "| 1       | 2008-08-04 08:04:42 | August |\n",
    "| ... | ... | ... |"
   ]
  },
  {
   "cell_type": "code",
   "execution_count": 10,
   "metadata": {
    "id": "HzI1vhaMDWK-"
   },
   "outputs": [
    {
     "data": {
      "text/html": [
       "<div>\n",
       "<style scoped>\n",
       "    .dataframe tbody tr th:only-of-type {\n",
       "        vertical-align: middle;\n",
       "    }\n",
       "\n",
       "    .dataframe tbody tr th {\n",
       "        vertical-align: top;\n",
       "    }\n",
       "\n",
       "    .dataframe thead th {\n",
       "        text-align: right;\n",
       "    }\n",
       "</style>\n",
       "<table border=\"1\" class=\"dataframe\">\n",
       "  <thead>\n",
       "    <tr style=\"text-align: right;\">\n",
       "      <th></th>\n",
       "      <th>user_id</th>\n",
       "      <th>creation_date</th>\n",
       "      <th>second_last_month</th>\n",
       "    </tr>\n",
       "  </thead>\n",
       "  <tbody>\n",
       "    <tr>\n",
       "      <th>0</th>\n",
       "      <td>1</td>\n",
       "      <td>2008-07-31 23:41:00</td>\n",
       "      <td>None</td>\n",
       "    </tr>\n",
       "    <tr>\n",
       "      <th>1</th>\n",
       "      <td>1</td>\n",
       "      <td>2008-07-31 23:55:38</td>\n",
       "      <td>None</td>\n",
       "    </tr>\n",
       "    <tr>\n",
       "      <th>2</th>\n",
       "      <td>1</td>\n",
       "      <td>2008-07-31 23:56:41</td>\n",
       "      <td>Июль</td>\n",
       "    </tr>\n",
       "    <tr>\n",
       "      <th>3</th>\n",
       "      <td>1</td>\n",
       "      <td>2008-08-04 02:45:08</td>\n",
       "      <td>Июль</td>\n",
       "    </tr>\n",
       "    <tr>\n",
       "      <th>4</th>\n",
       "      <td>1</td>\n",
       "      <td>2008-08-04 04:31:03</td>\n",
       "      <td>Июль</td>\n",
       "    </tr>\n",
       "    <tr>\n",
       "      <th>5</th>\n",
       "      <td>1</td>\n",
       "      <td>2008-08-04 08:04:42</td>\n",
       "      <td>Август</td>\n",
       "    </tr>\n",
       "    <tr>\n",
       "      <th>6</th>\n",
       "      <td>1</td>\n",
       "      <td>2008-08-10 08:28:52</td>\n",
       "      <td>Август</td>\n",
       "    </tr>\n",
       "    <tr>\n",
       "      <th>7</th>\n",
       "      <td>1</td>\n",
       "      <td>2008-08-11 19:23:47</td>\n",
       "      <td>Август</td>\n",
       "    </tr>\n",
       "    <tr>\n",
       "      <th>8</th>\n",
       "      <td>1</td>\n",
       "      <td>2008-08-12 00:30:43</td>\n",
       "      <td>Август</td>\n",
       "    </tr>\n",
       "    <tr>\n",
       "      <th>9</th>\n",
       "      <td>1</td>\n",
       "      <td>2008-08-12 04:59:35</td>\n",
       "      <td>Август</td>\n",
       "    </tr>\n",
       "  </tbody>\n",
       "</table>\n",
       "</div>"
      ],
      "text/plain": [
       "   user_id       creation_date second_last_month\n",
       "0        1 2008-07-31 23:41:00              None\n",
       "1        1 2008-07-31 23:55:38              None\n",
       "2        1 2008-07-31 23:56:41              Июль\n",
       "3        1 2008-08-04 02:45:08              Июль\n",
       "4        1 2008-08-04 04:31:03              Июль\n",
       "5        1 2008-08-04 08:04:42            Август\n",
       "6        1 2008-08-10 08:28:52            Август\n",
       "7        1 2008-08-11 19:23:47            Август\n",
       "8        1 2008-08-12 00:30:43            Август\n",
       "9        1 2008-08-12 04:59:35            Август"
      ]
     },
     "execution_count": 10,
     "metadata": {},
     "output_type": "execute_result"
    }
   ],
   "source": [
    "query_7 = '''\n",
    "WITH q1 AS (SELECT user_id,\n",
    "                   creation_date,\n",
    "                   LAG (EXTRACT (MONTH FROM creation_date), 2) OVER (PARTITION BY user_id ORDER BY creation_date) AS second_last_month_n\n",
    "            FROM stackoverflow.posts\n",
    "            ORDER BY (user_id, creation_date))\n",
    "SELECT user_id,\n",
    "       creation_date,\n",
    "       CASE\n",
    "           WHEN second_last_month_n = 1 THEN 'Январь'\n",
    "           WHEN second_last_month_n = 2 THEN 'Февраль'\n",
    "           WHEN second_last_month_n = 3 THEN 'Март'\n",
    "           WHEN second_last_month_n = 4 THEN 'Апрель'\n",
    "           WHEN second_last_month_n = 5 THEN 'Май'\n",
    "           WHEN second_last_month_n = 6 THEN 'Июнь'\n",
    "           WHEN second_last_month_n = 7 THEN 'Июль'\n",
    "           WHEN second_last_month_n = 8 THEN 'Август'\n",
    "           WHEN second_last_month_n = 9 THEN 'Сентябрь'\n",
    "           WHEN second_last_month_n = 10 THEN 'Октярь'\n",
    "           WHEN second_last_month_n = 11 THEN 'Ноябрь'\n",
    "           WHEN second_last_month_n = 12 THEN 'Декабрь'\n",
    "        END AS second_last_month\n",
    "FROM q1\n",
    "'''\n",
    "\n",
    "pd.read_sql_query (query_7, con = engine).head(10)"
   ]
  },
  {
   "cell_type": "markdown",
   "metadata": {
    "id": "tf9qq2yzDWK_"
   },
   "source": [
    "# Задание 8"
   ]
  },
  {
   "cell_type": "markdown",
   "metadata": {
    "id": "gfwLVXBYDWLA"
   },
   "source": [
    "Рассчитайте аналог Retention Rate по месяцам для пользователей StackOverflow. Объедините пользователей в когорты по месяцу их первого поста. Возвращение определяйте по наличию поста в текущем месяце. "
   ]
  },
  {
   "cell_type": "markdown",
   "metadata": {
    "id": "kN2ic39WlKpl"
   },
   "source": [
    "| cohort_dt | session_date | users_cnt | cohort_users_cnt | retention_rate |\n",
    "| --- | --- | --- | --- | --- |\n",
    "| 2008-07-01 00:00:00 | 2008-07-01 00:00:00 | 3 | 3 | 100 |\n",
    "| 2008-07-01 00:00:00 | 2008-08-01 00:00:00 | 2 | 3 | 66,67 |\n",
    "| 2008-07-01 00:00:00 | 2008-09-01 00:00:00 | 1 | 3 | 33,33 |\n",
    "| 2008-07-01 00:00:00 | 2008-10-01 00:00:00 | 2 | 3 | 66,67 |\n",
    "| 2008-07-01 00:00:00 | 2008-11-01 00:00:00 | 1 | 3 | 33,33 |\n",
    "| 2008-07-01 00:00:00 | 2008-12-01 00:00:00 | 2 | 3 | 66,67 |\n",
    "| 2008-08-01 00:00:00 | 2008-08-01 00:00:00 | 2151 | 2151 | 100 |\n",
    "| ... | ... | ... | ... | ... |"
   ]
  },
  {
   "cell_type": "code",
   "execution_count": 11,
   "metadata": {
    "id": "LUgFmwmTDWLB"
   },
   "outputs": [
    {
     "data": {
      "text/html": [
       "<div>\n",
       "<style scoped>\n",
       "    .dataframe tbody tr th:only-of-type {\n",
       "        vertical-align: middle;\n",
       "    }\n",
       "\n",
       "    .dataframe tbody tr th {\n",
       "        vertical-align: top;\n",
       "    }\n",
       "\n",
       "    .dataframe thead th {\n",
       "        text-align: right;\n",
       "    }\n",
       "</style>\n",
       "<table border=\"1\" class=\"dataframe\">\n",
       "  <thead>\n",
       "    <tr style=\"text-align: right;\">\n",
       "      <th></th>\n",
       "      <th>first_post_date</th>\n",
       "      <th>posts_date</th>\n",
       "      <th>users_cnt</th>\n",
       "      <th>cohort_size</th>\n",
       "      <th>retention_rate</th>\n",
       "    </tr>\n",
       "  </thead>\n",
       "  <tbody>\n",
       "    <tr>\n",
       "      <th>0</th>\n",
       "      <td>2008-07-01</td>\n",
       "      <td>2008-07-01</td>\n",
       "      <td>3</td>\n",
       "      <td>3</td>\n",
       "      <td>100.00</td>\n",
       "    </tr>\n",
       "    <tr>\n",
       "      <th>1</th>\n",
       "      <td>2008-07-01</td>\n",
       "      <td>2008-08-01</td>\n",
       "      <td>2</td>\n",
       "      <td>3</td>\n",
       "      <td>66.67</td>\n",
       "    </tr>\n",
       "    <tr>\n",
       "      <th>2</th>\n",
       "      <td>2008-07-01</td>\n",
       "      <td>2008-09-01</td>\n",
       "      <td>1</td>\n",
       "      <td>3</td>\n",
       "      <td>33.33</td>\n",
       "    </tr>\n",
       "    <tr>\n",
       "      <th>3</th>\n",
       "      <td>2008-07-01</td>\n",
       "      <td>2008-10-01</td>\n",
       "      <td>2</td>\n",
       "      <td>3</td>\n",
       "      <td>66.67</td>\n",
       "    </tr>\n",
       "    <tr>\n",
       "      <th>4</th>\n",
       "      <td>2008-07-01</td>\n",
       "      <td>2008-11-01</td>\n",
       "      <td>1</td>\n",
       "      <td>3</td>\n",
       "      <td>33.33</td>\n",
       "    </tr>\n",
       "    <tr>\n",
       "      <th>5</th>\n",
       "      <td>2008-07-01</td>\n",
       "      <td>2008-12-01</td>\n",
       "      <td>2</td>\n",
       "      <td>3</td>\n",
       "      <td>66.67</td>\n",
       "    </tr>\n",
       "    <tr>\n",
       "      <th>6</th>\n",
       "      <td>2008-08-01</td>\n",
       "      <td>2008-08-01</td>\n",
       "      <td>2151</td>\n",
       "      <td>2151</td>\n",
       "      <td>100.00</td>\n",
       "    </tr>\n",
       "    <tr>\n",
       "      <th>7</th>\n",
       "      <td>2008-08-01</td>\n",
       "      <td>2008-09-01</td>\n",
       "      <td>1571</td>\n",
       "      <td>2151</td>\n",
       "      <td>73.04</td>\n",
       "    </tr>\n",
       "    <tr>\n",
       "      <th>8</th>\n",
       "      <td>2008-08-01</td>\n",
       "      <td>2008-10-01</td>\n",
       "      <td>1275</td>\n",
       "      <td>2151</td>\n",
       "      <td>59.27</td>\n",
       "    </tr>\n",
       "    <tr>\n",
       "      <th>9</th>\n",
       "      <td>2008-08-01</td>\n",
       "      <td>2008-11-01</td>\n",
       "      <td>1050</td>\n",
       "      <td>2151</td>\n",
       "      <td>48.81</td>\n",
       "    </tr>\n",
       "    <tr>\n",
       "      <th>10</th>\n",
       "      <td>2008-08-01</td>\n",
       "      <td>2008-12-01</td>\n",
       "      <td>894</td>\n",
       "      <td>2151</td>\n",
       "      <td>41.56</td>\n",
       "    </tr>\n",
       "    <tr>\n",
       "      <th>11</th>\n",
       "      <td>2008-09-01</td>\n",
       "      <td>2008-09-01</td>\n",
       "      <td>7678</td>\n",
       "      <td>7678</td>\n",
       "      <td>100.00</td>\n",
       "    </tr>\n",
       "    <tr>\n",
       "      <th>12</th>\n",
       "      <td>2008-09-01</td>\n",
       "      <td>2008-10-01</td>\n",
       "      <td>4132</td>\n",
       "      <td>7678</td>\n",
       "      <td>53.82</td>\n",
       "    </tr>\n",
       "    <tr>\n",
       "      <th>13</th>\n",
       "      <td>2008-09-01</td>\n",
       "      <td>2008-11-01</td>\n",
       "      <td>2966</td>\n",
       "      <td>7678</td>\n",
       "      <td>38.63</td>\n",
       "    </tr>\n",
       "    <tr>\n",
       "      <th>14</th>\n",
       "      <td>2008-09-01</td>\n",
       "      <td>2008-12-01</td>\n",
       "      <td>2500</td>\n",
       "      <td>7678</td>\n",
       "      <td>32.56</td>\n",
       "    </tr>\n",
       "    <tr>\n",
       "      <th>15</th>\n",
       "      <td>2008-10-01</td>\n",
       "      <td>2008-10-01</td>\n",
       "      <td>3629</td>\n",
       "      <td>3629</td>\n",
       "      <td>100.00</td>\n",
       "    </tr>\n",
       "    <tr>\n",
       "      <th>16</th>\n",
       "      <td>2008-10-01</td>\n",
       "      <td>2008-11-01</td>\n",
       "      <td>1640</td>\n",
       "      <td>3629</td>\n",
       "      <td>45.19</td>\n",
       "    </tr>\n",
       "    <tr>\n",
       "      <th>17</th>\n",
       "      <td>2008-10-01</td>\n",
       "      <td>2008-12-01</td>\n",
       "      <td>1221</td>\n",
       "      <td>3629</td>\n",
       "      <td>33.65</td>\n",
       "    </tr>\n",
       "    <tr>\n",
       "      <th>18</th>\n",
       "      <td>2008-11-01</td>\n",
       "      <td>2008-11-01</td>\n",
       "      <td>2852</td>\n",
       "      <td>2852</td>\n",
       "      <td>100.00</td>\n",
       "    </tr>\n",
       "    <tr>\n",
       "      <th>19</th>\n",
       "      <td>2008-11-01</td>\n",
       "      <td>2008-12-01</td>\n",
       "      <td>1151</td>\n",
       "      <td>2852</td>\n",
       "      <td>40.36</td>\n",
       "    </tr>\n",
       "    <tr>\n",
       "      <th>20</th>\n",
       "      <td>2008-12-01</td>\n",
       "      <td>2008-12-01</td>\n",
       "      <td>2536</td>\n",
       "      <td>2536</td>\n",
       "      <td>100.00</td>\n",
       "    </tr>\n",
       "  </tbody>\n",
       "</table>\n",
       "</div>"
      ],
      "text/plain": [
       "   first_post_date  posts_date  users_cnt  cohort_size  retention_rate\n",
       "0       2008-07-01  2008-07-01          3            3          100.00\n",
       "1       2008-07-01  2008-08-01          2            3           66.67\n",
       "2       2008-07-01  2008-09-01          1            3           33.33\n",
       "3       2008-07-01  2008-10-01          2            3           66.67\n",
       "4       2008-07-01  2008-11-01          1            3           33.33\n",
       "5       2008-07-01  2008-12-01          2            3           66.67\n",
       "6       2008-08-01  2008-08-01       2151         2151          100.00\n",
       "7       2008-08-01  2008-09-01       1571         2151           73.04\n",
       "8       2008-08-01  2008-10-01       1275         2151           59.27\n",
       "9       2008-08-01  2008-11-01       1050         2151           48.81\n",
       "10      2008-08-01  2008-12-01        894         2151           41.56\n",
       "11      2008-09-01  2008-09-01       7678         7678          100.00\n",
       "12      2008-09-01  2008-10-01       4132         7678           53.82\n",
       "13      2008-09-01  2008-11-01       2966         7678           38.63\n",
       "14      2008-09-01  2008-12-01       2500         7678           32.56\n",
       "15      2008-10-01  2008-10-01       3629         3629          100.00\n",
       "16      2008-10-01  2008-11-01       1640         3629           45.19\n",
       "17      2008-10-01  2008-12-01       1221         3629           33.65\n",
       "18      2008-11-01  2008-11-01       2852         2852          100.00\n",
       "19      2008-11-01  2008-12-01       1151         2852           40.36\n",
       "20      2008-12-01  2008-12-01       2536         2536          100.00"
      ]
     },
     "execution_count": 11,
     "metadata": {},
     "output_type": "execute_result"
    }
   ],
   "source": [
    "query_8 = '''\n",
    "WITH q1 AS (SELECT DISTINCT user_id,\n",
    "                   FIRST_VALUE (DATE_TRUNC ('month', creation_date) :: date) OVER (PARTITION BY user_id ORDER BY creation_date :: date) AS first_post_date\n",
    "                  FROM stackoverflow.posts),\n",
    "                  \n",
    "     profiles AS (SELECT *,\n",
    "                   COUNT (*) OVER (PARTITION BY first_post_date) AS cohort_size\n",
    "            FROM q1),\n",
    "            \n",
    "     sessions AS (SELECT user_id,\n",
    "                         DATE_TRUNC ('month', creation_date) :: date AS posts_date\n",
    "                  FROM stackoverflow.posts\n",
    "                  GROUP BY 1, 2)\n",
    "SELECT first_post_date,\n",
    "       posts_date,\n",
    "       COUNT(p.user_id) AS users_cnt,\n",
    "       cohort_size,\n",
    "       ROUND (COUNT (p.user_id) * 100.0 / cohort_size, 2) AS retention_rate\n",
    "FROM sessions AS s\n",
    "JOIN profiles AS p ON s.user_id = p.user_id\n",
    "GROUP BY 1, 2, 4\n",
    "ORDER BY 1, 2\n",
    "'''\n",
    "\n",
    "retention = pd.read_sql_query (query_8, con = engine)\n",
    "retention"
   ]
  },
  {
   "cell_type": "markdown",
   "metadata": {
    "id": "_msBtnb2DWLC"
   },
   "source": [
    "Построим тепловую карту Retention Rate"
   ]
  },
  {
   "cell_type": "code",
   "execution_count": 12,
   "metadata": {
    "id": "qAEJc8H1DWLC"
   },
   "outputs": [
    {
     "data": {
      "image/png": "[encoded data removed]",
      "text/plain": [
       "<Figure size 1080x720 with 2 Axes>"
      ]
     },
     "metadata": {
      "needs_background": "light"
     },
     "output_type": "display_data"
    }
   ],
   "source": [
    "retention_pivot = retention.pivot ('first_post_date', 'posts_date', 'retention_rate')\n",
    "plt.figure (figsize = (15, 10))\n",
    "sns.heatmap (retention_pivot,\n",
    "             annot = True,\n",
    "             fmt = '')\n",
    "plt.title ('Тепловая карта Retention Rate')\n",
    "plt.show ()"
   ]
  },
  {
   "cell_type": "markdown",
   "metadata": {
    "id": "EgOfIsI4DWLC"
   },
   "source": [
    "**Вывод**: Июльская когорта имеет неравномерный показатель удержания по месяцам. Это связано с очень малой выборкой, т.к. это первый месяц использования сервиса. Даже незначительные изменения в количестве опубликованных постов сильно влияют на общую картину."
   ]
  },
  {
   "cell_type": "markdown",
   "metadata": {
    "id": "1k7oPWt5DWLK"
   },
   "source": [
    "# Задание 9\n"
   ]
  },
  {
   "cell_type": "markdown",
   "metadata": {
    "id": "ALsYVSyRDWLM"
   },
   "source": [
    "На сколько процентов менялось количество постов ежемесячно с 1 сентября по 31 декабря 2008 года? Отобразите таблицу со следующими полями:\n",
    "\n",
    "- номер месяца;\n",
    "- количество постов за месяц;\n",
    "- процент, который показывает, насколько изменилось количество постов в текущем месяце по сравнению с предыдущим.\n",
    "\n",
    "Если постов стало меньше, значение процента должно быть отрицательным, если больше — положительным. Округлите значение процента до двух знаков после запятой.\n",
    "\n",
    "Напомним, что при делении одного целого числа на другое в PostgreSQL в результате получится целое число, округлённое до ближайшего целого вниз. Чтобы этого избежать, переведите делимое в тип `numeric`."
   ]
  },
  {
   "cell_type": "markdown",
   "metadata": {
    "id": "u4E2zF8DDWLM"
   },
   "source": [
    "| creation_month | posts_count | percentage |\n",
    "| -------------- | ----------- | ---------- |\n",
    "| 9 | 70731 | Nan |\n",
    "| 10 | 63102 | -10.33 |\n",
    "| ... | ... | ... |"
   ]
  },
  {
   "cell_type": "code",
   "execution_count": 13,
   "metadata": {
    "id": "Mb5pShStDWLN"
   },
   "outputs": [
    {
     "data": {
      "text/html": [
       "<div>\n",
       "<style scoped>\n",
       "    .dataframe tbody tr th:only-of-type {\n",
       "        vertical-align: middle;\n",
       "    }\n",
       "\n",
       "    .dataframe tbody tr th {\n",
       "        vertical-align: top;\n",
       "    }\n",
       "\n",
       "    .dataframe thead th {\n",
       "        text-align: right;\n",
       "    }\n",
       "</style>\n",
       "<table border=\"1\" class=\"dataframe\">\n",
       "  <thead>\n",
       "    <tr style=\"text-align: right;\">\n",
       "      <th></th>\n",
       "      <th>creation_month</th>\n",
       "      <th>posts_count</th>\n",
       "      <th>previous_count</th>\n",
       "      <th>percentage</th>\n",
       "    </tr>\n",
       "  </thead>\n",
       "  <tbody>\n",
       "    <tr>\n",
       "      <th>0</th>\n",
       "      <td>9.0</td>\n",
       "      <td>70371</td>\n",
       "      <td>NaN</td>\n",
       "      <td>NaN</td>\n",
       "    </tr>\n",
       "    <tr>\n",
       "      <th>1</th>\n",
       "      <td>10.0</td>\n",
       "      <td>63102</td>\n",
       "      <td>70371.0</td>\n",
       "      <td>-10.33</td>\n",
       "    </tr>\n",
       "    <tr>\n",
       "      <th>2</th>\n",
       "      <td>11.0</td>\n",
       "      <td>46975</td>\n",
       "      <td>63102.0</td>\n",
       "      <td>-25.56</td>\n",
       "    </tr>\n",
       "    <tr>\n",
       "      <th>3</th>\n",
       "      <td>12.0</td>\n",
       "      <td>44592</td>\n",
       "      <td>46975.0</td>\n",
       "      <td>-5.07</td>\n",
       "    </tr>\n",
       "  </tbody>\n",
       "</table>\n",
       "</div>"
      ],
      "text/plain": [
       "   creation_month  posts_count  previous_count  percentage\n",
       "0             9.0        70371             NaN         NaN\n",
       "1            10.0        63102         70371.0      -10.33\n",
       "2            11.0        46975         63102.0      -25.56\n",
       "3            12.0        44592         46975.0       -5.07"
      ]
     },
     "execution_count": 13,
     "metadata": {},
     "output_type": "execute_result"
    }
   ],
   "source": [
    "query_9 = '''\n",
    "WITH q1 AS (SELECT EXTRACT (MONTH FROM creation_date) AS creation_month,\n",
    "                   COUNT (id) AS posts_count\n",
    "            FROM stackoverflow.posts\n",
    "            WHERE DATE_TRUNC ('month', creation_date) :: date BETWEEN ('2008-09-01') AND ('2008-12-31')\n",
    "            GROUP BY creation_month),\n",
    "     q2 AS (SELECT *,\n",
    "                   LAG (posts_count) OVER () AS previous_count\n",
    "            FROM q1)\n",
    "SELECT *,\n",
    "       CASE\n",
    "           WHEN previous_count > posts_count THEN ROUND (((previous_count :: numeric - posts_count :: numeric) / previous_count :: numeric) * -100, 2)\n",
    "           ELSE ROUND (((previous_count :: numeric - posts_count :: numeric) / previous_count :: numeric) * 100, 2)\n",
    "       END AS percentage\n",
    "FROM q2\n",
    "'''\n",
    "\n",
    "posts_percentage = pd.read_sql_query (query_9, con = engine)\n",
    "posts_percentage"
   ]
  },
  {
   "cell_type": "markdown",
   "metadata": {
    "id": "9NQE2y_MDWLP"
   },
   "source": [
    "Построим круговую диаграмму с количеством постов по месяцам."
   ]
  },
  {
   "cell_type": "code",
   "execution_count": 14,
   "metadata": {
    "id": "377ABjiVDWLP"
   },
   "outputs": [
    {
     "data": {
      "image/png": "[encoded data removed]"
     },
     "metadata": {},
     "output_type": "display_data"
    }
   ],
   "source": [
    "fig = go.Figure (data = [go.Pie (labels = posts_percentage ['creation_month'],\n",
    "                                 values = posts_percentage ['posts_count'],\n",
    "                                 title = 'Распределение количества постов по месяцам')])\n",
    "fig.show ('png')"
   ]
  },
  {
   "cell_type": "markdown",
   "metadata": {
    "id": "uw7qMtafDWLP"
   },
   "source": [
    "# Задание 10"
   ]
  },
  {
   "cell_type": "markdown",
   "metadata": {
    "id": "oRBpWKx3DWLQ"
   },
   "source": [
    "Выгрузите данные активности пользователя, который опубликовал больше всего постов за всё время. Выведите данные за октябрь 2008 года в таком виде:\n",
    "\n",
    "- номер недели;\n",
    "- дата и время последнего поста, опубликованного на этой неделе."
   ]
  },
  {
   "cell_type": "markdown",
   "metadata": {
    "id": "XjAWSn_3DWLQ"
   },
   "source": [
    "| week_creation | creation_date |\n",
    "| ------------- | ------------- |\n",
    "| 40 | 2008-10-05 09:00:58 |\n",
    "| 41 | 2008-10-12 21:22:23 |\n",
    "| ... | ... |"
   ]
  },
  {
   "cell_type": "code",
   "execution_count": 15,
   "metadata": {
    "id": "r5F5fSkwDWLQ"
   },
   "outputs": [
    {
     "data": {
      "text/html": [
       "<div>\n",
       "<style scoped>\n",
       "    .dataframe tbody tr th:only-of-type {\n",
       "        vertical-align: middle;\n",
       "    }\n",
       "\n",
       "    .dataframe tbody tr th {\n",
       "        vertical-align: top;\n",
       "    }\n",
       "\n",
       "    .dataframe thead th {\n",
       "        text-align: right;\n",
       "    }\n",
       "</style>\n",
       "<table border=\"1\" class=\"dataframe\">\n",
       "  <thead>\n",
       "    <tr style=\"text-align: right;\">\n",
       "      <th></th>\n",
       "      <th>week_creation</th>\n",
       "      <th>creation_date</th>\n",
       "    </tr>\n",
       "  </thead>\n",
       "  <tbody>\n",
       "    <tr>\n",
       "      <th>0</th>\n",
       "      <td>40.0</td>\n",
       "      <td>2008-10-05 09:00:58</td>\n",
       "    </tr>\n",
       "    <tr>\n",
       "      <th>1</th>\n",
       "      <td>41.0</td>\n",
       "      <td>2008-10-12 21:22:23</td>\n",
       "    </tr>\n",
       "    <tr>\n",
       "      <th>2</th>\n",
       "      <td>42.0</td>\n",
       "      <td>2008-10-19 06:49:30</td>\n",
       "    </tr>\n",
       "    <tr>\n",
       "      <th>3</th>\n",
       "      <td>43.0</td>\n",
       "      <td>2008-10-26 21:44:36</td>\n",
       "    </tr>\n",
       "    <tr>\n",
       "      <th>4</th>\n",
       "      <td>44.0</td>\n",
       "      <td>2008-10-31 22:16:01</td>\n",
       "    </tr>\n",
       "  </tbody>\n",
       "</table>\n",
       "</div>"
      ],
      "text/plain": [
       "   week_creation       creation_date\n",
       "0           40.0 2008-10-05 09:00:58\n",
       "1           41.0 2008-10-12 21:22:23\n",
       "2           42.0 2008-10-19 06:49:30\n",
       "3           43.0 2008-10-26 21:44:36\n",
       "4           44.0 2008-10-31 22:16:01"
      ]
     },
     "execution_count": 15,
     "metadata": {},
     "output_type": "execute_result"
    }
   ],
   "source": [
    "query_10 = '''\n",
    "WITH q1 AS (SELECT user_id,\n",
    "                   COUNT (id) AS posts_count\n",
    "            FROM stackoverflow.posts\n",
    "            GROUP BY user_id\n",
    "            ORDER BY posts_count DESC\n",
    "            LIMIT 1)\n",
    "SELECT EXTRACT (WEEK FROM creation_date) AS week_creation,\n",
    "       MAX (creation_date) AS creation_date\n",
    "FROM stackoverflow.posts AS p\n",
    "JOIN q1 ON q1.user_id = p.user_id\n",
    "WHERE DATE_TRUNC ('month', creation_date) :: date IN ('2008-10-01')\n",
    "GROUP BY EXTRACT (WEEK FROM creation_date)\n",
    "ORDER BY 1, 2\n",
    "'''\n",
    "\n",
    "pd.read_sql_query (query_10, con = engine)"
   ]
  }
 ],
 "metadata": {
  "ExecuteTimeLog": [
   {
    "duration": 947,
    "start_time": "2022-09-01T11:54:09.284Z"
   },
   {
    "duration": 5,
    "start_time": "2022-09-01T11:54:10.234Z"
   },
   {
    "duration": 12561,
    "start_time": "2022-09-01T11:54:10.241Z"
   },
   {
    "duration": 51,
    "start_time": "2022-09-01T11:54:22.804Z"
   },
   {
    "duration": 13,
    "start_time": "2022-09-01T11:54:22.856Z"
   },
   {
    "duration": 1479,
    "start_time": "2022-09-01T11:54:22.870Z"
   },
   {
    "duration": 1395,
    "start_time": "2022-09-01T11:54:44.561Z"
   },
   {
    "duration": 80,
    "start_time": "2022-09-01T11:57:14.213Z"
   },
   {
    "duration": 69,
    "start_time": "2022-09-01T11:57:19.179Z"
   },
   {
    "duration": 77,
    "start_time": "2022-09-01T11:58:07.553Z"
   },
   {
    "duration": 70,
    "start_time": "2022-09-01T11:59:04.685Z"
   },
   {
    "duration": 204,
    "start_time": "2022-09-01T12:14:19.910Z"
   },
   {
    "duration": 1582,
    "start_time": "2022-09-01T12:14:42.079Z"
   },
   {
    "duration": 1065,
    "start_time": "2022-09-01T12:15:05.028Z"
   },
   {
    "duration": 2088,
    "start_time": "2022-09-01T12:17:46.013Z"
   },
   {
    "duration": 2400,
    "start_time": "2022-09-01T12:19:17.641Z"
   },
   {
    "duration": 711,
    "start_time": "2022-09-01T12:20:14.433Z"
   },
   {
    "duration": 655,
    "start_time": "2022-09-01T12:20:22.646Z"
   },
   {
    "duration": 618,
    "start_time": "2022-09-01T12:20:30.444Z"
   },
   {
    "duration": 139,
    "start_time": "2022-09-01T12:21:09.798Z"
   },
   {
    "duration": 129,
    "start_time": "2022-09-01T12:23:40.192Z"
   },
   {
    "duration": 824,
    "start_time": "2022-09-01T12:23:49.420Z"
   },
   {
    "duration": 113,
    "start_time": "2022-09-01T12:25:18.368Z"
   },
   {
    "duration": 100,
    "start_time": "2022-09-01T12:25:22.254Z"
   },
   {
    "duration": 1051,
    "start_time": "2022-09-01T12:25:36.994Z"
   },
   {
    "duration": 1160,
    "start_time": "2022-09-01T12:27:09.430Z"
   },
   {
    "duration": 678,
    "start_time": "2022-09-01T12:28:28.711Z"
   },
   {
    "duration": 4620,
    "start_time": "2022-09-01T12:30:07.920Z"
   },
   {
    "duration": 6178,
    "start_time": "2022-09-01T12:31:11.849Z"
   },
   {
    "duration": 2033,
    "start_time": "2022-09-01T12:31:42.053Z"
   },
   {
    "duration": 2002,
    "start_time": "2022-09-01T12:31:55.646Z"
   },
   {
    "duration": 887,
    "start_time": "2022-09-01T12:32:31.822Z"
   },
   {
    "duration": 3511,
    "start_time": "2022-09-01T12:34:04.406Z"
   },
   {
    "duration": 2299,
    "start_time": "2022-09-01T12:34:19.679Z"
   },
   {
    "duration": 156,
    "start_time": "2022-09-01T12:36:19.585Z"
   },
   {
    "duration": 165,
    "start_time": "2022-09-01T12:36:28.098Z"
   },
   {
    "duration": 178,
    "start_time": "2022-09-01T12:36:42.536Z"
   },
   {
    "duration": 227,
    "start_time": "2022-09-01T12:36:47.408Z"
   },
   {
    "duration": 126,
    "start_time": "2022-09-01T12:37:06.398Z"
   },
   {
    "duration": 1099,
    "start_time": "2022-09-01T12:37:09.139Z"
   },
   {
    "duration": 389,
    "start_time": "2022-09-01T12:40:03.724Z"
   },
   {
    "duration": 283,
    "start_time": "2022-09-01T12:40:47.598Z"
   },
   {
    "duration": 301,
    "start_time": "2022-09-01T12:42:17.876Z"
   },
   {
    "duration": 154,
    "start_time": "2022-09-01T12:43:03.078Z"
   },
   {
    "duration": 1587,
    "start_time": "2022-09-01T12:43:15.886Z"
   },
   {
    "duration": 111,
    "start_time": "2022-09-01T12:43:42.928Z"
   },
   {
    "duration": 142,
    "start_time": "2022-09-01T12:44:00.578Z"
   },
   {
    "duration": 134,
    "start_time": "2022-09-01T12:44:52.758Z"
   },
   {
    "duration": 403,
    "start_time": "2022-09-01T12:45:01.790Z"
   },
   {
    "duration": 337,
    "start_time": "2022-09-01T12:45:49.609Z"
   },
   {
    "duration": 377,
    "start_time": "2022-09-01T12:46:04.050Z"
   },
   {
    "duration": 433,
    "start_time": "2022-09-01T12:50:35.825Z"
   },
   {
    "duration": 485,
    "start_time": "2022-09-01T12:51:10.142Z"
   },
   {
    "duration": 589,
    "start_time": "2022-09-01T12:51:56.933Z"
   },
   {
    "duration": 400,
    "start_time": "2022-09-01T12:52:05.256Z"
   },
   {
    "duration": 445,
    "start_time": "2022-09-01T12:52:17.927Z"
   },
   {
    "duration": 400,
    "start_time": "2022-09-01T12:52:22.531Z"
   },
   {
    "duration": 445,
    "start_time": "2022-09-01T12:52:27.173Z"
   },
   {
    "duration": 475,
    "start_time": "2022-09-01T12:52:31.058Z"
   },
   {
    "duration": 409,
    "start_time": "2022-09-01T12:52:34.605Z"
   },
   {
    "duration": 384,
    "start_time": "2022-09-01T12:59:00.986Z"
   },
   {
    "duration": 543,
    "start_time": "2022-09-01T12:59:17.882Z"
   },
   {
    "duration": 507,
    "start_time": "2022-09-01T13:02:16.234Z"
   },
   {
    "duration": 547,
    "start_time": "2022-09-01T13:02:26.727Z"
   },
   {
    "duration": 482,
    "start_time": "2022-09-01T13:05:32.860Z"
   },
   {
    "duration": 526,
    "start_time": "2022-09-01T13:06:33.706Z"
   },
   {
    "duration": 100,
    "start_time": "2022-09-01T13:07:41.690Z"
   },
   {
    "duration": 628,
    "start_time": "2022-09-01T13:07:47.189Z"
   },
   {
    "duration": 129,
    "start_time": "2022-09-01T13:08:24.548Z"
   },
   {
    "duration": 750,
    "start_time": "2022-09-01T13:08:39.140Z"
   },
   {
    "duration": 484,
    "start_time": "2022-09-01T13:09:28.824Z"
   },
   {
    "duration": 104,
    "start_time": "2022-09-01T13:11:40.019Z"
   },
   {
    "duration": 126,
    "start_time": "2022-09-01T13:12:12.535Z"
   },
   {
    "duration": 305,
    "start_time": "2022-09-01T13:12:23.756Z"
   },
   {
    "duration": 220,
    "start_time": "2022-09-01T13:13:50.307Z"
   },
   {
    "duration": 238,
    "start_time": "2022-09-01T13:13:53.183Z"
   },
   {
    "duration": 243,
    "start_time": "2022-09-01T13:15:54.821Z"
   },
   {
    "duration": 203,
    "start_time": "2022-09-01T13:16:08.759Z"
   },
   {
    "duration": 239,
    "start_time": "2022-09-01T13:16:50.095Z"
   },
   {
    "duration": 215,
    "start_time": "2022-09-01T13:17:10.345Z"
   },
   {
    "duration": 233,
    "start_time": "2022-09-01T13:19:02.929Z"
   },
   {
    "duration": 115,
    "start_time": "2022-09-01T13:19:07.213Z"
   },
   {
    "duration": 222,
    "start_time": "2022-09-01T13:19:09.907Z"
   },
   {
    "duration": 217,
    "start_time": "2022-09-01T13:19:18.709Z"
   },
   {
    "duration": 1399,
    "start_time": "2022-09-01T13:21:11.859Z"
   },
   {
    "duration": 1302,
    "start_time": "2022-09-01T13:22:46.865Z"
   },
   {
    "duration": 190,
    "start_time": "2022-09-01T13:25:23.597Z"
   },
   {
    "duration": 1180,
    "start_time": "2022-09-01T13:25:49.769Z"
   },
   {
    "duration": 1245,
    "start_time": "2022-09-01T13:25:59.776Z"
   },
   {
    "duration": 167,
    "start_time": "2022-09-01T13:29:02.113Z"
   },
   {
    "duration": 48,
    "start_time": "2022-09-01T13:33:31.106Z"
   },
   {
    "duration": 132,
    "start_time": "2022-09-01T13:40:33.959Z"
   },
   {
    "duration": 68,
    "start_time": "2022-09-01T13:40:51.441Z"
   },
   {
    "duration": 103,
    "start_time": "2022-09-01T13:41:09.477Z"
   },
   {
    "duration": 13131,
    "start_time": "2022-09-01T13:42:30.439Z"
   },
   {
    "duration": 1095,
    "start_time": "2022-09-01T13:44:09.613Z"
   },
   {
    "duration": 962,
    "start_time": "2022-09-01T13:44:23.409Z"
   },
   {
    "duration": 971,
    "start_time": "2022-09-01T13:44:29.022Z"
   },
   {
    "duration": 105,
    "start_time": "2022-09-01T13:53:00.510Z"
   },
   {
    "duration": 1809,
    "start_time": "2022-09-01T13:53:54.375Z"
   },
   {
    "duration": 1092,
    "start_time": "2022-09-01T13:54:05.565Z"
   },
   {
    "duration": 100,
    "start_time": "2022-09-01T13:56:58.611Z"
   },
   {
    "duration": 157,
    "start_time": "2022-09-01T13:57:18.041Z"
   },
   {
    "duration": 82,
    "start_time": "2022-09-01T13:59:10.253Z"
   },
   {
    "duration": 81,
    "start_time": "2022-09-01T13:59:27.643Z"
   },
   {
    "duration": 174,
    "start_time": "2022-09-01T13:59:32.847Z"
   },
   {
    "duration": 160,
    "start_time": "2022-09-01T13:59:37.032Z"
   },
   {
    "duration": 76,
    "start_time": "2022-09-01T13:59:39.863Z"
   },
   {
    "duration": 93,
    "start_time": "2022-09-01T14:00:28.589Z"
   },
   {
    "duration": 164,
    "start_time": "2022-09-01T14:00:34.003Z"
   },
   {
    "duration": 79,
    "start_time": "2022-09-01T14:00:39.784Z"
   },
   {
    "duration": 85,
    "start_time": "2022-09-01T14:00:42.221Z"
   },
   {
    "duration": 81,
    "start_time": "2022-09-01T14:00:44.468Z"
   },
   {
    "duration": 179,
    "start_time": "2022-09-01T14:09:23.297Z"
   },
   {
    "duration": 88,
    "start_time": "2022-09-01T14:09:32.526Z"
   },
   {
    "duration": 98,
    "start_time": "2022-09-01T14:10:32.371Z"
   },
   {
    "duration": 17175,
    "start_time": "2022-09-01T14:10:55.929Z"
   },
   {
    "duration": 1081,
    "start_time": "2022-09-01T14:13:58.485Z"
   },
   {
    "duration": 98,
    "start_time": "2022-09-01T14:14:40.048Z"
   },
   {
    "duration": 167,
    "start_time": "2022-09-01T14:14:49.341Z"
   },
   {
    "duration": 82,
    "start_time": "2022-09-01T14:28:26.570Z"
   },
   {
    "duration": 202,
    "start_time": "2022-09-01T14:29:57.851Z"
   },
   {
    "duration": 129,
    "start_time": "2022-09-01T14:31:11.064Z"
   },
   {
    "duration": 3,
    "start_time": "2022-09-01T14:31:26.317Z"
   },
   {
    "duration": 9,
    "start_time": "2022-09-01T14:31:26.321Z"
   },
   {
    "duration": 5,
    "start_time": "2022-09-01T14:31:26.332Z"
   },
   {
    "duration": 82,
    "start_time": "2022-09-01T14:31:26.339Z"
   },
   {
    "duration": 9,
    "start_time": "2022-09-01T14:31:26.423Z"
   },
   {
    "duration": 86,
    "start_time": "2022-09-01T14:31:26.434Z"
   },
   {
    "duration": 264,
    "start_time": "2022-09-01T14:31:26.521Z"
   },
   {
    "duration": 2,
    "start_time": "2022-09-01T14:31:26.787Z"
   },
   {
    "duration": 96,
    "start_time": "2022-09-01T14:31:26.791Z"
   },
   {
    "duration": 87,
    "start_time": "2022-09-01T14:37:56.193Z"
   },
   {
    "duration": 205,
    "start_time": "2022-09-01T14:38:11.580Z"
   },
   {
    "duration": 3,
    "start_time": "2022-09-01T14:38:16.869Z"
   },
   {
    "duration": 9,
    "start_time": "2022-09-01T14:38:16.873Z"
   },
   {
    "duration": 8,
    "start_time": "2022-09-01T14:38:16.883Z"
   },
   {
    "duration": 53,
    "start_time": "2022-09-01T14:38:16.892Z"
   },
   {
    "duration": 10,
    "start_time": "2022-09-01T14:38:16.947Z"
   },
   {
    "duration": 78,
    "start_time": "2022-09-01T14:38:16.959Z"
   },
   {
    "duration": 521,
    "start_time": "2022-09-01T14:38:17.038Z"
   },
   {
    "duration": 2,
    "start_time": "2022-09-01T14:38:17.560Z"
   },
   {
    "duration": 209,
    "start_time": "2022-09-01T14:38:17.564Z"
   },
   {
    "duration": 208,
    "start_time": "2022-09-01T14:39:02.654Z"
   },
   {
    "duration": 204,
    "start_time": "2022-09-01T14:39:09.708Z"
   },
   {
    "duration": 81,
    "start_time": "2022-09-01T14:39:28.201Z"
   },
   {
    "duration": 157,
    "start_time": "2022-09-01T14:45:54.750Z"
   },
   {
    "duration": 4164,
    "start_time": "2022-09-01T14:46:29.759Z"
   },
   {
    "duration": 1135,
    "start_time": "2022-09-01T14:47:18.555Z"
   },
   {
    "duration": 3,
    "start_time": "2022-09-01T14:47:43.167Z"
   },
   {
    "duration": 13,
    "start_time": "2022-09-01T14:47:43.172Z"
   },
   {
    "duration": 6,
    "start_time": "2022-09-01T14:47:43.186Z"
   },
   {
    "duration": 55,
    "start_time": "2022-09-01T14:47:43.194Z"
   },
   {
    "duration": 9,
    "start_time": "2022-09-01T14:47:43.251Z"
   },
   {
    "duration": 82,
    "start_time": "2022-09-01T14:47:43.262Z"
   },
   {
    "duration": 241,
    "start_time": "2022-09-01T14:47:43.345Z"
   },
   {
    "duration": 3,
    "start_time": "2022-09-01T14:47:43.587Z"
   },
   {
    "duration": 1095,
    "start_time": "2022-09-01T14:47:43.592Z"
   },
   {
    "duration": 3652,
    "start_time": "2022-09-01T14:52:21.671Z"
   },
   {
    "duration": 1191,
    "start_time": "2022-09-01T14:54:13.078Z"
   },
   {
    "duration": 698,
    "start_time": "2022-09-01T14:58:14.483Z"
   },
   {
    "duration": 3,
    "start_time": "2022-09-01T14:58:15.183Z"
   },
   {
    "duration": 9735,
    "start_time": "2022-09-01T14:58:15.188Z"
   },
   {
    "duration": 46,
    "start_time": "2022-09-01T14:58:24.925Z"
   },
   {
    "duration": 12,
    "start_time": "2022-09-01T14:58:24.973Z"
   },
   {
    "duration": 85,
    "start_time": "2022-09-01T14:58:24.986Z"
   },
   {
    "duration": 259,
    "start_time": "2022-09-01T14:58:25.073Z"
   },
   {
    "duration": 3,
    "start_time": "2022-09-01T14:58:25.334Z"
   },
   {
    "duration": 1107,
    "start_time": "2022-09-01T14:58:25.338Z"
   },
   {
    "duration": 2,
    "start_time": "2022-09-01T14:58:26.448Z"
   },
   {
    "duration": 13,
    "start_time": "2022-09-01T14:58:26.452Z"
   },
   {
    "duration": 8,
    "start_time": "2022-09-01T14:58:26.467Z"
   },
   {
    "duration": 9,
    "start_time": "2022-09-01T14:58:26.477Z"
   },
   {
    "duration": 9,
    "start_time": "2022-09-01T14:58:26.487Z"
   },
   {
    "duration": 5,
    "start_time": "2022-09-01T14:58:26.498Z"
   },
   {
    "duration": 5,
    "start_time": "2022-09-01T14:58:26.504Z"
   },
   {
    "duration": 5,
    "start_time": "2022-09-01T14:58:26.510Z"
   },
   {
    "duration": 4,
    "start_time": "2022-09-01T14:58:26.517Z"
   },
   {
    "duration": 7,
    "start_time": "2022-09-01T14:58:26.522Z"
   },
   {
    "duration": 6,
    "start_time": "2022-09-01T14:58:26.531Z"
   },
   {
    "duration": 15,
    "start_time": "2022-09-01T14:58:26.539Z"
   },
   {
    "duration": 124,
    "start_time": "2022-09-01T14:59:06.580Z"
   },
   {
    "duration": 153,
    "start_time": "2022-09-01T15:15:20.713Z"
   },
   {
    "duration": 1396,
    "start_time": "2022-09-01T15:15:27.538Z"
   },
   {
    "duration": 984,
    "start_time": "2022-09-01T15:17:04.316Z"
   },
   {
    "duration": 895,
    "start_time": "2022-09-01T15:17:18.393Z"
   },
   {
    "duration": 1039,
    "start_time": "2022-09-01T15:17:28.557Z"
   },
   {
    "duration": 1041,
    "start_time": "2022-09-01T15:18:18.437Z"
   },
   {
    "duration": 1037,
    "start_time": "2022-09-01T15:18:29.871Z"
   },
   {
    "duration": 1311,
    "start_time": "2022-09-01T15:25:57.822Z"
   },
   {
    "duration": 125,
    "start_time": "2022-09-01T15:27:09.435Z"
   },
   {
    "duration": 106,
    "start_time": "2022-09-01T15:32:37.875Z"
   },
   {
    "duration": 179,
    "start_time": "2022-09-01T15:32:47.603Z"
   },
   {
    "duration": 54,
    "start_time": "2022-09-01T15:35:34.271Z"
   },
   {
    "duration": 50,
    "start_time": "2022-09-01T15:35:55.786Z"
   },
   {
    "duration": 49,
    "start_time": "2022-09-01T15:37:02.423Z"
   },
   {
    "duration": 47,
    "start_time": "2022-09-01T15:37:53.608Z"
   },
   {
    "duration": 165,
    "start_time": "2022-09-01T15:39:29.717Z"
   },
   {
    "duration": 140,
    "start_time": "2022-09-01T15:45:13.012Z"
   },
   {
    "duration": 198,
    "start_time": "2022-09-01T15:45:22.182Z"
   },
   {
    "duration": 55,
    "start_time": "2022-09-01T15:47:31.853Z"
   },
   {
    "duration": 52,
    "start_time": "2022-09-01T15:47:51.939Z"
   },
   {
    "duration": 57,
    "start_time": "2022-09-01T15:48:03.419Z"
   },
   {
    "duration": 202,
    "start_time": "2022-09-01T15:48:12.331Z"
   },
   {
    "duration": 54,
    "start_time": "2022-09-01T15:48:14.684Z"
   },
   {
    "duration": 50,
    "start_time": "2022-09-01T15:49:18.097Z"
   },
   {
    "duration": 53,
    "start_time": "2022-09-01T15:49:51.424Z"
   },
   {
    "duration": 119,
    "start_time": "2022-09-01T15:50:42.879Z"
   },
   {
    "duration": 51,
    "start_time": "2022-09-01T15:50:47.279Z"
   },
   {
    "duration": 53,
    "start_time": "2022-09-01T15:53:38.644Z"
   },
   {
    "duration": 55,
    "start_time": "2022-09-01T15:53:50.723Z"
   },
   {
    "duration": 199,
    "start_time": "2022-09-01T16:08:10.893Z"
   },
   {
    "duration": 53,
    "start_time": "2022-09-01T16:27:54.752Z"
   },
   {
    "duration": 56,
    "start_time": "2022-09-01T16:27:59.497Z"
   },
   {
    "duration": 54,
    "start_time": "2022-09-01T16:28:18.425Z"
   },
   {
    "duration": 100,
    "start_time": "2022-09-01T16:29:14.216Z"
   },
   {
    "duration": 1345,
    "start_time": "2022-09-01T16:29:17.016Z"
   },
   {
    "duration": 141,
    "start_time": "2022-09-01T16:37:52.193Z"
   },
   {
    "duration": 86,
    "start_time": "2022-09-01T16:38:15.447Z"
   },
   {
    "duration": 95,
    "start_time": "2022-09-01T16:38:21.010Z"
   },
   {
    "duration": 105,
    "start_time": "2022-09-01T16:39:06.375Z"
   },
   {
    "duration": 148,
    "start_time": "2022-09-01T16:39:45.126Z"
   },
   {
    "duration": 96,
    "start_time": "2022-09-01T16:39:51.985Z"
   },
   {
    "duration": 102,
    "start_time": "2022-09-01T16:40:26.789Z"
   },
   {
    "duration": 107,
    "start_time": "2022-09-01T16:42:41.504Z"
   },
   {
    "duration": 89,
    "start_time": "2022-09-01T16:42:54.200Z"
   },
   {
    "duration": 147,
    "start_time": "2022-09-01T16:43:50.076Z"
   },
   {
    "duration": 156,
    "start_time": "2022-09-01T16:44:12.565Z"
   },
   {
    "duration": 66,
    "start_time": "2022-09-01T16:47:21.753Z"
   },
   {
    "duration": 65,
    "start_time": "2022-09-01T16:47:47.486Z"
   },
   {
    "duration": 48,
    "start_time": "2022-09-01T16:48:09.009Z"
   },
   {
    "duration": 1350,
    "start_time": "2022-09-01T17:02:01.586Z"
   },
   {
    "duration": 38,
    "start_time": "2022-09-01T17:02:36.157Z"
   },
   {
    "duration": 170,
    "start_time": "2022-09-01T17:02:48.456Z"
   },
   {
    "duration": 131,
    "start_time": "2022-09-01T17:05:12.930Z"
   },
   {
    "duration": 125,
    "start_time": "2022-09-01T17:05:23.328Z"
   },
   {
    "duration": 204,
    "start_time": "2022-09-01T17:09:31.713Z"
   },
   {
    "duration": 174,
    "start_time": "2022-09-01T17:10:12.781Z"
   },
   {
    "duration": 97,
    "start_time": "2022-09-01T17:10:50.565Z"
   },
   {
    "duration": 88,
    "start_time": "2022-09-01T17:11:24.534Z"
   },
   {
    "duration": 112,
    "start_time": "2022-09-01T17:11:37.004Z"
   },
   {
    "duration": 40,
    "start_time": "2022-09-01T17:11:45.211Z"
   },
   {
    "duration": 101,
    "start_time": "2022-09-01T17:12:12.085Z"
   },
   {
    "duration": 34,
    "start_time": "2022-09-01T17:15:02.945Z"
   },
   {
    "duration": 95,
    "start_time": "2022-09-01T17:18:34.619Z"
   },
   {
    "duration": 92,
    "start_time": "2022-09-01T17:18:55.020Z"
   },
   {
    "duration": 89,
    "start_time": "2022-09-01T17:19:27.016Z"
   },
   {
    "duration": 1350,
    "start_time": "2022-09-01T17:19:31.431Z"
   },
   {
    "duration": 93,
    "start_time": "2022-09-01T17:21:32.126Z"
   },
   {
    "duration": 85,
    "start_time": "2022-09-01T17:21:42.732Z"
   },
   {
    "duration": 101,
    "start_time": "2022-09-01T17:22:14.100Z"
   },
   {
    "duration": 152,
    "start_time": "2022-09-01T17:22:27.130Z"
   },
   {
    "duration": 605,
    "start_time": "2022-09-01T17:22:32.275Z"
   },
   {
    "duration": 667,
    "start_time": "2022-09-01T17:24:31.827Z"
   },
   {
    "duration": 822,
    "start_time": "2022-09-01T17:24:40.422Z"
   },
   {
    "duration": 714,
    "start_time": "2022-09-01T17:24:43.412Z"
   },
   {
    "duration": 292,
    "start_time": "2022-09-01T17:24:53.513Z"
   },
   {
    "duration": 100,
    "start_time": "2022-09-01T17:25:37.178Z"
   },
   {
    "duration": 109,
    "start_time": "2022-09-01T17:25:41.222Z"
   },
   {
    "duration": 96,
    "start_time": "2022-09-01T17:25:52.652Z"
   },
   {
    "duration": 112,
    "start_time": "2022-09-01T17:25:57.528Z"
   },
   {
    "duration": 134,
    "start_time": "2022-09-01T17:26:22.103Z"
   },
   {
    "duration": 104,
    "start_time": "2022-09-01T17:26:28.672Z"
   },
   {
    "duration": 118,
    "start_time": "2022-09-01T17:26:38.454Z"
   },
   {
    "duration": 150,
    "start_time": "2022-09-01T17:26:51.324Z"
   },
   {
    "duration": 107,
    "start_time": "2022-09-01T17:27:04.123Z"
   },
   {
    "duration": 104,
    "start_time": "2022-09-01T17:27:15.851Z"
   },
   {
    "duration": 106,
    "start_time": "2022-09-01T17:27:19.633Z"
   },
   {
    "duration": 103,
    "start_time": "2022-09-01T17:48:26.380Z"
   },
   {
    "duration": 104,
    "start_time": "2022-09-01T17:48:31.082Z"
   },
   {
    "duration": 115,
    "start_time": "2022-09-01T17:48:47.083Z"
   },
   {
    "duration": 114,
    "start_time": "2022-09-01T17:48:53.821Z"
   },
   {
    "duration": 110,
    "start_time": "2022-09-01T17:49:03.554Z"
   },
   {
    "duration": 103,
    "start_time": "2022-09-01T17:49:17.156Z"
   },
   {
    "duration": 101,
    "start_time": "2022-09-01T17:52:11.576Z"
   },
   {
    "duration": 124,
    "start_time": "2022-09-01T17:52:40.267Z"
   },
   {
    "duration": 103,
    "start_time": "2022-09-01T17:53:07.424Z"
   },
   {
    "duration": 117,
    "start_time": "2022-09-01T17:53:35.420Z"
   },
   {
    "duration": 121,
    "start_time": "2022-09-01T17:53:41.884Z"
   },
   {
    "duration": 120,
    "start_time": "2022-09-01T17:53:46.620Z"
   },
   {
    "duration": 64,
    "start_time": "2022-09-01T17:54:21.684Z"
   },
   {
    "duration": 106,
    "start_time": "2022-09-01T17:56:07.625Z"
   },
   {
    "duration": 66,
    "start_time": "2022-09-01T17:56:36.226Z"
   },
   {
    "duration": 61,
    "start_time": "2022-09-01T17:56:58.620Z"
   },
   {
    "duration": 67,
    "start_time": "2022-09-01T17:58:08.768Z"
   },
   {
    "duration": 52,
    "start_time": "2022-09-01T18:00:48.881Z"
   },
   {
    "duration": 59,
    "start_time": "2022-09-01T18:02:18.269Z"
   },
   {
    "duration": 49,
    "start_time": "2022-09-01T18:02:24.144Z"
   },
   {
    "duration": 50,
    "start_time": "2022-09-01T18:03:05.916Z"
   },
   {
    "duration": 44,
    "start_time": "2022-09-01T18:03:12.884Z"
   },
   {
    "duration": 57,
    "start_time": "2022-09-01T18:03:19.474Z"
   },
   {
    "duration": 47,
    "start_time": "2022-09-01T18:03:22.385Z"
   },
   {
    "duration": 59,
    "start_time": "2022-09-01T18:03:24.805Z"
   },
   {
    "duration": 57,
    "start_time": "2022-09-01T18:05:02.709Z"
   },
   {
    "duration": 173,
    "start_time": "2022-09-01T18:05:08.875Z"
   },
   {
    "duration": 75,
    "start_time": "2022-09-01T18:05:13.203Z"
   },
   {
    "duration": 73,
    "start_time": "2022-09-01T18:05:38.956Z"
   },
   {
    "duration": 103,
    "start_time": "2022-09-01T18:07:36.282Z"
   },
   {
    "duration": 81,
    "start_time": "2022-09-01T18:07:57.008Z"
   },
   {
    "duration": 114,
    "start_time": "2022-09-01T18:08:20.705Z"
   },
   {
    "duration": 99,
    "start_time": "2022-09-01T18:08:33.349Z"
   },
   {
    "duration": 72,
    "start_time": "2022-09-01T18:08:40.604Z"
   },
   {
    "duration": 69,
    "start_time": "2022-09-01T18:08:44.802Z"
   },
   {
    "duration": 63,
    "start_time": "2022-09-01T18:09:51.440Z"
   },
   {
    "duration": 106,
    "start_time": "2022-09-01T18:11:01.550Z"
   },
   {
    "duration": 64,
    "start_time": "2022-09-01T18:11:09.593Z"
   },
   {
    "duration": 77,
    "start_time": "2022-09-01T18:11:19.903Z"
   },
   {
    "duration": 94,
    "start_time": "2022-09-01T18:11:29.251Z"
   },
   {
    "duration": 73,
    "start_time": "2022-09-01T18:11:36.212Z"
   },
   {
    "duration": 59,
    "start_time": "2022-09-01T18:13:19.497Z"
   },
   {
    "duration": 60,
    "start_time": "2022-09-01T18:13:49.637Z"
   },
   {
    "duration": 69,
    "start_time": "2022-09-01T18:14:00.502Z"
   },
   {
    "duration": 79,
    "start_time": "2022-09-01T18:14:08.319Z"
   },
   {
    "duration": 73,
    "start_time": "2022-09-01T18:14:20.102Z"
   },
   {
    "duration": 59,
    "start_time": "2022-09-01T18:14:35.601Z"
   },
   {
    "duration": 46,
    "start_time": "2022-09-02T07:07:14.614Z"
   },
   {
    "duration": 799,
    "start_time": "2022-09-02T07:07:22.501Z"
   },
   {
    "duration": 3,
    "start_time": "2022-09-02T07:07:23.302Z"
   },
   {
    "duration": 7119,
    "start_time": "2022-09-02T07:07:23.307Z"
   },
   {
    "duration": 220,
    "start_time": "2022-09-02T07:07:30.429Z"
   },
   {
    "duration": 14,
    "start_time": "2022-09-02T07:07:30.651Z"
   },
   {
    "duration": 114,
    "start_time": "2022-09-02T07:07:30.666Z"
   },
   {
    "duration": 290,
    "start_time": "2022-09-02T07:07:30.782Z"
   },
   {
    "duration": 3,
    "start_time": "2022-09-02T07:07:31.073Z"
   },
   {
    "duration": 169,
    "start_time": "2022-09-02T07:07:31.078Z"
   },
   {
    "duration": 1213,
    "start_time": "2022-09-02T07:07:31.250Z"
   },
   {
    "duration": 98,
    "start_time": "2022-09-02T07:07:32.464Z"
   },
   {
    "duration": 1544,
    "start_time": "2022-09-02T07:07:32.564Z"
   },
   {
    "duration": 160,
    "start_time": "2022-09-02T07:10:43.313Z"
   },
   {
    "duration": 166,
    "start_time": "2022-09-02T07:10:52.064Z"
   },
   {
    "duration": 176,
    "start_time": "2022-09-02T07:11:17.877Z"
   },
   {
    "duration": 184,
    "start_time": "2022-09-02T07:11:38.908Z"
   },
   {
    "duration": 273,
    "start_time": "2022-09-02T07:11:52.937Z"
   },
   {
    "duration": 329,
    "start_time": "2022-09-02T07:12:13.248Z"
   },
   {
    "duration": 338,
    "start_time": "2022-09-02T07:12:28.225Z"
   },
   {
    "duration": 172,
    "start_time": "2022-09-02T07:12:35.853Z"
   },
   {
    "duration": 220,
    "start_time": "2022-09-02T07:15:27.760Z"
   },
   {
    "duration": 188,
    "start_time": "2022-09-02T07:15:41.240Z"
   },
   {
    "duration": 237,
    "start_time": "2022-09-02T07:15:48.558Z"
   },
   {
    "duration": 261,
    "start_time": "2022-09-02T07:17:20.548Z"
   },
   {
    "duration": 2911,
    "start_time": "2022-09-02T07:18:28.110Z"
   },
   {
    "duration": 161,
    "start_time": "2022-09-02T07:18:47.696Z"
   },
   {
    "duration": 184,
    "start_time": "2022-09-02T07:20:16.538Z"
   },
   {
    "duration": 228,
    "start_time": "2022-09-02T07:24:25.802Z"
   },
   {
    "duration": 235,
    "start_time": "2022-09-02T07:28:43.228Z"
   },
   {
    "duration": 99,
    "start_time": "2022-09-02T07:29:53.508Z"
   },
   {
    "duration": 92,
    "start_time": "2022-09-02T07:30:05.432Z"
   },
   {
    "duration": 95,
    "start_time": "2022-09-02T07:32:03.791Z"
   },
   {
    "duration": 106,
    "start_time": "2022-09-02T07:32:21.669Z"
   },
   {
    "duration": 118,
    "start_time": "2022-09-02T07:32:37.070Z"
   },
   {
    "duration": 128,
    "start_time": "2022-09-02T07:32:59.979Z"
   },
   {
    "duration": 176,
    "start_time": "2022-09-02T07:37:05.568Z"
   },
   {
    "duration": 126,
    "start_time": "2022-09-02T07:37:36.543Z"
   },
   {
    "duration": 102,
    "start_time": "2022-09-02T07:38:00.707Z"
   },
   {
    "duration": 99,
    "start_time": "2022-09-02T07:38:28.769Z"
   },
   {
    "duration": 123,
    "start_time": "2022-09-02T07:38:31.913Z"
   },
   {
    "duration": 114,
    "start_time": "2022-09-02T07:39:10.262Z"
   },
   {
    "duration": 106,
    "start_time": "2022-09-02T07:39:20.691Z"
   },
   {
    "duration": 105,
    "start_time": "2022-09-02T07:39:30.550Z"
   },
   {
    "duration": 289,
    "start_time": "2022-09-02T07:39:44.879Z"
   },
   {
    "duration": 131,
    "start_time": "2022-09-02T07:40:01.136Z"
   },
   {
    "duration": 112,
    "start_time": "2022-09-02T07:41:01.218Z"
   },
   {
    "duration": 124,
    "start_time": "2022-09-02T07:41:20.110Z"
   },
   {
    "duration": 128,
    "start_time": "2022-09-02T07:41:28.786Z"
   },
   {
    "duration": 99,
    "start_time": "2022-09-02T07:41:42.702Z"
   },
   {
    "duration": 152,
    "start_time": "2022-09-02T07:42:42.013Z"
   },
   {
    "duration": 107,
    "start_time": "2022-09-02T07:42:49.054Z"
   },
   {
    "duration": 95,
    "start_time": "2022-09-02T07:44:01.571Z"
   },
   {
    "duration": 178,
    "start_time": "2022-09-02T07:44:31.987Z"
   },
   {
    "duration": 100,
    "start_time": "2022-09-02T07:44:39.446Z"
   },
   {
    "duration": 77,
    "start_time": "2022-09-02T07:44:46.991Z"
   },
   {
    "duration": 113,
    "start_time": "2022-09-02T07:44:55.785Z"
   },
   {
    "duration": 106,
    "start_time": "2022-09-02T07:46:10.274Z"
   },
   {
    "duration": 101,
    "start_time": "2022-09-02T07:46:16.563Z"
   },
   {
    "duration": 114,
    "start_time": "2022-09-02T07:46:31.665Z"
   },
   {
    "duration": 72,
    "start_time": "2022-09-02T07:47:16.629Z"
   },
   {
    "duration": 70,
    "start_time": "2022-09-02T07:47:29.957Z"
   },
   {
    "duration": 74,
    "start_time": "2022-09-02T07:50:19.933Z"
   },
   {
    "duration": 73,
    "start_time": "2022-09-02T07:50:45.225Z"
   },
   {
    "duration": 2,
    "start_time": "2022-09-02T07:53:43.510Z"
   },
   {
    "duration": 1499,
    "start_time": "2022-09-02T07:54:03.272Z"
   },
   {
    "duration": 43,
    "start_time": "2022-09-02T11:08:24.512Z"
   },
   {
    "duration": 820,
    "start_time": "2022-09-02T11:08:58.012Z"
   },
   {
    "duration": 4,
    "start_time": "2022-09-02T11:08:58.834Z"
   },
   {
    "duration": 8385,
    "start_time": "2022-09-02T11:08:58.839Z"
   },
   {
    "duration": 56,
    "start_time": "2022-09-02T11:09:07.227Z"
   },
   {
    "duration": 16,
    "start_time": "2022-09-02T11:09:07.285Z"
   },
   {
    "duration": 78,
    "start_time": "2022-09-02T11:09:07.302Z"
   },
   {
    "duration": 239,
    "start_time": "2022-09-02T11:09:07.382Z"
   },
   {
    "duration": 2,
    "start_time": "2022-09-02T11:09:07.623Z"
   },
   {
    "duration": 131,
    "start_time": "2022-09-02T11:09:07.627Z"
   },
   {
    "duration": 1105,
    "start_time": "2022-09-02T11:09:07.760Z"
   },
   {
    "duration": 67,
    "start_time": "2022-09-02T11:09:08.866Z"
   },
   {
    "duration": 42,
    "start_time": "2022-09-02T11:09:08.935Z"
   },
   {
    "duration": 1728,
    "start_time": "2022-09-02T11:09:08.978Z"
   },
   {
    "duration": 1588,
    "start_time": "2022-09-02T11:10:11.511Z"
   },
   {
    "duration": 1636,
    "start_time": "2022-09-02T11:11:03.111Z"
   },
   {
    "duration": 1566,
    "start_time": "2022-09-02T11:11:10.174Z"
   },
   {
    "duration": 1634,
    "start_time": "2022-09-02T11:11:23.661Z"
   },
   {
    "duration": 1518,
    "start_time": "2022-09-02T11:11:32.661Z"
   },
   {
    "duration": 1741,
    "start_time": "2022-09-02T11:12:49.189Z"
   },
   {
    "duration": 1810,
    "start_time": "2022-09-02T11:13:28.846Z"
   },
   {
    "duration": 1257,
    "start_time": "2022-09-02T11:13:46.024Z"
   },
   {
    "duration": 1305,
    "start_time": "2022-09-02T11:13:50.719Z"
   },
   {
    "duration": 1270,
    "start_time": "2022-09-02T11:14:41.979Z"
   },
   {
    "duration": 1238,
    "start_time": "2022-09-02T11:15:07.998Z"
   },
   {
    "duration": 119,
    "start_time": "2022-09-02T11:27:02.528Z"
   },
   {
    "duration": 1307,
    "start_time": "2022-09-02T11:27:06.764Z"
   },
   {
    "duration": 1797,
    "start_time": "2022-09-02T11:27:21.749Z"
   },
   {
    "duration": 1528,
    "start_time": "2022-09-02T11:27:30.447Z"
   },
   {
    "duration": 1304,
    "start_time": "2022-09-02T11:27:39.127Z"
   },
   {
    "duration": 115,
    "start_time": "2022-09-02T11:29:18.841Z"
   },
   {
    "duration": 91,
    "start_time": "2022-09-02T11:29:32.497Z"
   },
   {
    "duration": 109,
    "start_time": "2022-09-02T11:32:51.595Z"
   },
   {
    "duration": 1384,
    "start_time": "2022-09-02T11:33:20.496Z"
   },
   {
    "duration": 3,
    "start_time": "2022-09-02T11:41:30.234Z"
   },
   {
    "duration": 95,
    "start_time": "2022-09-02T11:41:47.110Z"
   },
   {
    "duration": 95,
    "start_time": "2022-09-02T11:43:27.044Z"
   },
   {
    "duration": 72,
    "start_time": "2022-09-02T11:43:39.332Z"
   },
   {
    "duration": 73,
    "start_time": "2022-09-02T11:43:46.598Z"
   },
   {
    "duration": 111,
    "start_time": "2022-09-02T11:44:02.705Z"
   },
   {
    "duration": 64,
    "start_time": "2022-09-02T11:44:34.547Z"
   },
   {
    "duration": 114,
    "start_time": "2022-09-02T11:44:39.410Z"
   },
   {
    "duration": 110,
    "start_time": "2022-09-02T11:44:47.659Z"
   },
   {
    "duration": 110,
    "start_time": "2022-09-02T11:45:34.453Z"
   },
   {
    "duration": 93,
    "start_time": "2022-09-02T11:49:43.699Z"
   },
   {
    "duration": 144,
    "start_time": "2022-09-02T11:50:17.296Z"
   },
   {
    "duration": 47,
    "start_time": "2022-09-02T11:50:53.131Z"
   },
   {
    "duration": 138,
    "start_time": "2022-09-02T11:51:07.650Z"
   },
   {
    "duration": 1255,
    "start_time": "2022-09-02T11:52:38.633Z"
   },
   {
    "duration": 91,
    "start_time": "2022-09-02T11:55:35.487Z"
   },
   {
    "duration": 2114,
    "start_time": "2022-09-02T11:55:49.445Z"
   },
   {
    "duration": 100,
    "start_time": "2022-09-02T11:56:32.541Z"
   },
   {
    "duration": 1678,
    "start_time": "2022-09-02T11:56:51.478Z"
   },
   {
    "duration": 2059,
    "start_time": "2022-09-02T11:58:35.496Z"
   },
   {
    "duration": 1040,
    "start_time": "2022-09-02T12:00:18.940Z"
   },
   {
    "duration": 1042,
    "start_time": "2022-09-02T12:00:27.070Z"
   },
   {
    "duration": 1487,
    "start_time": "2022-09-02T12:01:25.238Z"
   },
   {
    "duration": 1134,
    "start_time": "2022-09-02T13:10:01.380Z"
   },
   {
    "duration": 1154,
    "start_time": "2022-09-02T13:10:14.384Z"
   },
   {
    "duration": 1123,
    "start_time": "2022-09-02T13:10:36.689Z"
   },
   {
    "duration": 1169,
    "start_time": "2022-09-02T13:10:43.134Z"
   },
   {
    "duration": 1318,
    "start_time": "2022-09-02T13:12:08.412Z"
   },
   {
    "duration": 486,
    "start_time": "2022-09-02T13:12:23.837Z"
   },
   {
    "duration": 1197,
    "start_time": "2022-09-02T13:12:35.348Z"
   },
   {
    "duration": 318,
    "start_time": "2022-09-02T13:12:43.968Z"
   },
   {
    "duration": 437,
    "start_time": "2022-09-02T13:12:53.451Z"
   },
   {
    "duration": 594,
    "start_time": "2022-09-02T13:17:06.511Z"
   },
   {
    "duration": 534,
    "start_time": "2022-09-02T13:17:24.776Z"
   },
   {
    "duration": 557,
    "start_time": "2022-09-02T13:19:14.424Z"
   },
   {
    "duration": 127,
    "start_time": "2022-09-02T13:34:30.340Z"
   },
   {
    "duration": 993,
    "start_time": "2022-09-02T13:34:41.649Z"
   },
   {
    "duration": 118,
    "start_time": "2022-09-02T13:36:33.481Z"
   },
   {
    "duration": 829,
    "start_time": "2022-09-02T13:39:18.667Z"
   },
   {
    "duration": 595,
    "start_time": "2022-09-02T13:39:54.277Z"
   },
   {
    "duration": 581,
    "start_time": "2022-09-02T13:40:10.787Z"
   },
   {
    "duration": 562,
    "start_time": "2022-09-02T13:40:33.521Z"
   },
   {
    "duration": 597,
    "start_time": "2022-09-02T13:41:12.720Z"
   },
   {
    "duration": 555,
    "start_time": "2022-09-02T13:43:40.831Z"
   },
   {
    "duration": 211,
    "start_time": "2022-09-02T13:45:53.712Z"
   },
   {
    "duration": 358,
    "start_time": "2022-09-02T13:46:04.168Z"
   },
   {
    "duration": 302,
    "start_time": "2022-09-02T13:46:39.269Z"
   },
   {
    "duration": 371,
    "start_time": "2022-09-02T13:47:38.723Z"
   },
   {
    "duration": 370,
    "start_time": "2022-09-02T13:47:53.496Z"
   },
   {
    "duration": 576,
    "start_time": "2022-09-02T13:48:30.603Z"
   },
   {
    "duration": 115,
    "start_time": "2022-09-02T13:49:05.817Z"
   },
   {
    "duration": 133,
    "start_time": "2022-09-02T13:49:31.639Z"
   },
   {
    "duration": 537,
    "start_time": "2022-09-02T13:49:45.747Z"
   },
   {
    "duration": 658,
    "start_time": "2022-09-02T13:51:13.436Z"
   },
   {
    "duration": 638,
    "start_time": "2022-09-02T13:51:32.052Z"
   },
   {
    "duration": 104,
    "start_time": "2022-09-02T13:54:54.465Z"
   },
   {
    "duration": 586,
    "start_time": "2022-09-02T13:55:30.105Z"
   },
   {
    "duration": 80,
    "start_time": "2022-09-02T14:14:30.482Z"
   },
   {
    "duration": 10,
    "start_time": "2022-09-02T14:15:57.740Z"
   },
   {
    "duration": 765,
    "start_time": "2022-09-02T14:16:01.832Z"
   },
   {
    "duration": 364,
    "start_time": "2022-09-02T14:16:06.268Z"
   },
   {
    "duration": 510,
    "start_time": "2022-09-02T14:18:24.067Z"
   },
   {
    "duration": 60,
    "start_time": "2022-09-02T14:19:01.566Z"
   },
   {
    "duration": 14,
    "start_time": "2022-09-02T14:19:28.466Z"
   },
   {
    "duration": 1467,
    "start_time": "2022-09-02T15:03:02.528Z"
   },
   {
    "duration": 100,
    "start_time": "2022-09-02T15:33:04.990Z"
   },
   {
    "duration": 90,
    "start_time": "2022-09-02T15:34:23.610Z"
   },
   {
    "duration": 72,
    "start_time": "2022-09-02T15:35:05.884Z"
   },
   {
    "duration": 179,
    "start_time": "2022-09-02T16:24:56.232Z"
   },
   {
    "duration": 91,
    "start_time": "2022-09-02T16:25:20.393Z"
   },
   {
    "duration": 89,
    "start_time": "2022-09-02T16:26:35.634Z"
   },
   {
    "duration": 78,
    "start_time": "2022-09-02T16:26:57.670Z"
   },
   {
    "duration": 68,
    "start_time": "2022-09-02T16:27:10.279Z"
   },
   {
    "duration": 99,
    "start_time": "2022-09-02T16:31:04.487Z"
   },
   {
    "duration": 134,
    "start_time": "2022-09-02T16:31:21.772Z"
   },
   {
    "duration": 88,
    "start_time": "2022-09-02T16:31:29.933Z"
   },
   {
    "duration": 146,
    "start_time": "2022-09-02T16:31:36.670Z"
   },
   {
    "duration": 127,
    "start_time": "2022-09-02T16:31:46.718Z"
   },
   {
    "duration": 794,
    "start_time": "2022-09-02T16:31:52.133Z"
   },
   {
    "duration": 879,
    "start_time": "2022-09-02T16:32:18.107Z"
   },
   {
    "duration": 99,
    "start_time": "2022-09-02T16:32:52.150Z"
   },
   {
    "duration": 998,
    "start_time": "2022-09-02T16:33:07.001Z"
   },
   {
    "duration": 850,
    "start_time": "2022-09-02T16:34:09.270Z"
   },
   {
    "duration": 86,
    "start_time": "2022-09-02T16:34:43.185Z"
   },
   {
    "duration": 103,
    "start_time": "2022-09-02T16:35:00.840Z"
   },
   {
    "duration": 791,
    "start_time": "2022-09-02T16:35:24.499Z"
   },
   {
    "duration": 694,
    "start_time": "2022-09-02T16:35:38.811Z"
   },
   {
    "duration": 1210,
    "start_time": "2022-09-02T16:35:48.540Z"
   },
   {
    "duration": 71,
    "start_time": "2022-09-02T16:36:34.029Z"
   },
   {
    "duration": 82,
    "start_time": "2022-09-02T16:36:41.338Z"
   },
   {
    "duration": 86,
    "start_time": "2022-09-02T16:36:44.298Z"
   },
   {
    "duration": 69,
    "start_time": "2022-09-02T16:37:59.805Z"
   },
   {
    "duration": 98,
    "start_time": "2022-09-02T16:39:34.724Z"
   },
   {
    "duration": 70,
    "start_time": "2022-09-02T16:39:42.262Z"
   },
   {
    "duration": 78,
    "start_time": "2022-09-02T16:39:50.449Z"
   },
   {
    "duration": 290,
    "start_time": "2022-09-02T16:40:41.405Z"
   },
   {
    "duration": 77,
    "start_time": "2022-09-02T16:40:54.975Z"
   },
   {
    "duration": 88,
    "start_time": "2022-09-02T16:41:52.313Z"
   },
   {
    "duration": 117,
    "start_time": "2022-09-02T16:42:09.807Z"
   },
   {
    "duration": 115,
    "start_time": "2022-09-02T16:42:22.643Z"
   },
   {
    "duration": 75,
    "start_time": "2022-09-02T16:42:35.716Z"
   },
   {
    "duration": 79,
    "start_time": "2022-09-02T16:48:56.321Z"
   },
   {
    "duration": 70,
    "start_time": "2022-09-02T16:55:48.071Z"
   },
   {
    "duration": 112,
    "start_time": "2022-09-02T16:56:11.014Z"
   },
   {
    "duration": 74,
    "start_time": "2022-09-02T16:56:13.320Z"
   },
   {
    "duration": 93,
    "start_time": "2022-09-02T16:56:44.935Z"
   },
   {
    "duration": 121,
    "start_time": "2022-09-02T16:57:05.614Z"
   },
   {
    "duration": 71,
    "start_time": "2022-09-02T16:59:02.421Z"
   },
   {
    "duration": 108,
    "start_time": "2022-09-02T16:59:55.893Z"
   },
   {
    "duration": 82,
    "start_time": "2022-09-02T17:00:10.923Z"
   },
   {
    "duration": 114,
    "start_time": "2022-09-02T17:05:25.619Z"
   },
   {
    "duration": 100,
    "start_time": "2022-09-02T17:05:59.628Z"
   },
   {
    "duration": 114,
    "start_time": "2022-09-02T17:06:13.326Z"
   },
   {
    "duration": 99,
    "start_time": "2022-09-02T17:06:27.320Z"
   },
   {
    "duration": 75,
    "start_time": "2022-09-02T17:06:55.993Z"
   },
   {
    "duration": 1516,
    "start_time": "2022-09-02T17:10:07.637Z"
   },
   {
    "duration": 135,
    "start_time": "2022-09-02T17:12:11.990Z"
   },
   {
    "duration": 120,
    "start_time": "2022-09-02T17:12:46.571Z"
   },
   {
    "duration": 107,
    "start_time": "2022-09-02T17:13:25.028Z"
   },
   {
    "duration": 98,
    "start_time": "2022-09-02T17:13:46.855Z"
   },
   {
    "duration": 185,
    "start_time": "2022-09-02T17:14:24.546Z"
   },
   {
    "duration": 162,
    "start_time": "2022-09-02T17:16:05.363Z"
   },
   {
    "duration": 121,
    "start_time": "2022-09-02T17:16:21.466Z"
   },
   {
    "duration": 106,
    "start_time": "2022-09-02T17:16:38.719Z"
   },
   {
    "duration": 94,
    "start_time": "2022-09-02T17:17:10.368Z"
   },
   {
    "duration": 544,
    "start_time": "2022-09-02T17:17:48.847Z"
   },
   {
    "duration": 116,
    "start_time": "2022-09-02T17:18:51.169Z"
   },
   {
    "duration": 103,
    "start_time": "2022-09-02T17:18:58.637Z"
   },
   {
    "duration": 112,
    "start_time": "2022-09-02T17:20:34.732Z"
   },
   {
    "duration": 154,
    "start_time": "2022-09-02T17:20:45.271Z"
   },
   {
    "duration": 185,
    "start_time": "2022-09-02T17:20:55.771Z"
   },
   {
    "duration": 196,
    "start_time": "2022-09-02T17:21:40.251Z"
   },
   {
    "duration": 120,
    "start_time": "2022-09-02T17:21:48.226Z"
   },
   {
    "duration": 111,
    "start_time": "2022-09-02T17:21:55.587Z"
   },
   {
    "duration": 111,
    "start_time": "2022-09-02T17:24:14.705Z"
   },
   {
    "duration": 80,
    "start_time": "2022-09-02T17:24:21.523Z"
   },
   {
    "duration": 85,
    "start_time": "2022-09-02T17:25:36.159Z"
   },
   {
    "duration": 156,
    "start_time": "2022-09-02T17:26:40.362Z"
   },
   {
    "duration": 107,
    "start_time": "2022-09-02T17:26:49.242Z"
   },
   {
    "duration": 78,
    "start_time": "2022-09-02T17:27:20.968Z"
   },
   {
    "duration": 76,
    "start_time": "2022-09-02T17:27:26.627Z"
   },
   {
    "duration": 119,
    "start_time": "2022-09-02T17:32:17.663Z"
   },
   {
    "duration": 69,
    "start_time": "2022-09-02T17:33:03.659Z"
   },
   {
    "duration": 115,
    "start_time": "2022-09-02T17:33:31.333Z"
   },
   {
    "duration": 111,
    "start_time": "2022-09-02T17:34:18.486Z"
   },
   {
    "duration": 130,
    "start_time": "2022-09-02T17:35:13.193Z"
   },
   {
    "duration": 121,
    "start_time": "2022-09-02T17:37:43.089Z"
   },
   {
    "duration": 105,
    "start_time": "2022-09-02T17:37:46.925Z"
   },
   {
    "duration": 127,
    "start_time": "2022-09-02T17:39:21.711Z"
   },
   {
    "duration": 142,
    "start_time": "2022-09-02T17:40:07.169Z"
   },
   {
    "duration": 43,
    "start_time": "2022-09-02T19:07:36.648Z"
   },
   {
    "duration": 591,
    "start_time": "2022-09-02T19:07:40.816Z"
   },
   {
    "duration": 34,
    "start_time": "2022-09-02T19:07:49.798Z"
   },
   {
    "duration": 3,
    "start_time": "2022-09-02T19:07:56.477Z"
   },
   {
    "duration": 7,
    "start_time": "2022-09-02T19:07:56.481Z"
   },
   {
    "duration": 6081,
    "start_time": "2022-09-02T19:07:56.489Z"
   },
   {
    "duration": 227,
    "start_time": "2022-09-02T19:08:02.572Z"
   },
   {
    "duration": 14,
    "start_time": "2022-09-02T19:08:02.802Z"
   },
   {
    "duration": 133,
    "start_time": "2022-09-02T19:08:02.818Z"
   },
   {
    "duration": 299,
    "start_time": "2022-09-02T19:08:02.953Z"
   },
   {
    "duration": 2,
    "start_time": "2022-09-02T19:08:03.254Z"
   },
   {
    "duration": 166,
    "start_time": "2022-09-02T19:08:03.257Z"
   },
   {
    "duration": 1125,
    "start_time": "2022-09-02T19:08:03.424Z"
   },
   {
    "duration": 126,
    "start_time": "2022-09-02T19:08:04.551Z"
   },
   {
    "duration": 77,
    "start_time": "2022-09-02T19:08:04.678Z"
   },
   {
    "duration": 1217,
    "start_time": "2022-09-02T19:08:04.757Z"
   },
   {
    "duration": 517,
    "start_time": "2022-09-02T19:08:05.976Z"
   },
   {
    "duration": 306,
    "start_time": "2022-09-02T19:08:06.495Z"
   },
   {
    "duration": 3,
    "start_time": "2022-09-02T19:08:06.803Z"
   },
   {
    "duration": 55,
    "start_time": "2022-09-02T19:08:28.316Z"
   },
   {
    "duration": 528,
    "start_time": "2022-09-02T19:09:03.293Z"
   },
   {
    "duration": 9,
    "start_time": "2022-09-02T19:09:39.922Z"
   },
   {
    "duration": 9,
    "start_time": "2022-09-02T19:10:07.490Z"
   },
   {
    "duration": 30,
    "start_time": "2022-09-02T19:10:13.460Z"
   },
   {
    "duration": 856,
    "start_time": "2022-09-02T19:16:33.344Z"
   },
   {
    "duration": 53,
    "start_time": "2022-09-02T19:20:15.735Z"
   },
   {
    "duration": 18,
    "start_time": "2022-09-02T19:21:31.236Z"
   },
   {
    "duration": 5,
    "start_time": "2022-09-02T19:21:35.944Z"
   },
   {
    "duration": 19,
    "start_time": "2022-09-02T19:21:53.785Z"
   },
   {
    "duration": 5,
    "start_time": "2022-09-02T19:22:45.735Z"
   },
   {
    "duration": 12,
    "start_time": "2022-09-02T19:23:08.684Z"
   },
   {
    "duration": 60,
    "start_time": "2022-09-02T19:23:52.576Z"
   },
   {
    "duration": 12,
    "start_time": "2022-09-02T19:23:57.793Z"
   },
   {
    "duration": 6,
    "start_time": "2022-09-02T19:24:51.896Z"
   },
   {
    "duration": 14,
    "start_time": "2022-09-02T19:26:16.039Z"
   },
   {
    "duration": 3,
    "start_time": "2022-09-02T19:27:19.666Z"
   },
   {
    "duration": 39,
    "start_time": "2022-09-02T19:27:37.594Z"
   },
   {
    "duration": 488,
    "start_time": "2022-09-02T19:28:09.507Z"
   },
   {
    "duration": 403,
    "start_time": "2022-09-02T19:28:18.806Z"
   },
   {
    "duration": 35,
    "start_time": "2022-09-02T19:28:34.525Z"
   },
   {
    "duration": 43,
    "start_time": "2022-09-02T19:29:56.497Z"
   },
   {
    "duration": 3,
    "start_time": "2022-09-02T19:31:32.646Z"
   },
   {
    "duration": 35,
    "start_time": "2022-09-02T19:31:38.492Z"
   },
   {
    "duration": 3,
    "start_time": "2022-09-02T19:38:32.131Z"
   },
   {
    "duration": 99,
    "start_time": "2022-09-02T19:39:25.028Z"
   },
   {
    "duration": 13,
    "start_time": "2022-09-02T19:40:40.580Z"
   },
   {
    "duration": 9,
    "start_time": "2022-09-02T19:40:52.186Z"
   },
   {
    "duration": 607,
    "start_time": "2022-09-03T07:27:03.531Z"
   },
   {
    "duration": 3,
    "start_time": "2022-09-03T07:27:04.140Z"
   },
   {
    "duration": 8571,
    "start_time": "2022-09-03T07:27:04.145Z"
   },
   {
    "duration": 216,
    "start_time": "2022-09-03T07:27:12.719Z"
   },
   {
    "duration": 21,
    "start_time": "2022-09-03T07:27:12.937Z"
   },
   {
    "duration": 107,
    "start_time": "2022-09-03T07:27:12.960Z"
   },
   {
    "duration": 252,
    "start_time": "2022-09-03T07:27:13.069Z"
   },
   {
    "duration": 153,
    "start_time": "2022-09-03T07:27:13.322Z"
   },
   {
    "duration": 1156,
    "start_time": "2022-09-03T07:27:13.476Z"
   },
   {
    "duration": 94,
    "start_time": "2022-09-03T07:27:14.634Z"
   },
   {
    "duration": 69,
    "start_time": "2022-09-03T07:27:14.730Z"
   },
   {
    "duration": 1478,
    "start_time": "2022-09-03T07:27:14.801Z"
   },
   {
    "duration": 574,
    "start_time": "2022-09-03T07:27:16.281Z"
   },
   {
    "duration": 408,
    "start_time": "2022-09-03T07:27:16.857Z"
   },
   {
    "duration": 109,
    "start_time": "2022-09-03T07:27:17.268Z"
   },
   {
    "duration": 11,
    "start_time": "2022-09-03T07:27:17.379Z"
   },
   {
    "duration": 139,
    "start_time": "2022-09-03T07:27:17.393Z"
   },
   {
    "duration": 196,
    "start_time": "2022-09-03T08:16:41.971Z"
   },
   {
    "duration": 244,
    "start_time": "2022-09-03T09:20:08.609Z"
   },
   {
    "duration": 317,
    "start_time": "2022-09-03T09:20:14.567Z"
   },
   {
    "duration": 207,
    "start_time": "2022-09-03T09:20:50.166Z"
   },
   {
    "duration": 249,
    "start_time": "2022-09-03T09:20:57.805Z"
   },
   {
    "duration": 5467,
    "start_time": "2022-09-03T09:23:46.993Z"
   },
   {
    "duration": 305,
    "start_time": "2022-09-03T10:02:00.390Z"
   },
   {
    "duration": 50,
    "start_time": "2022-09-03T12:12:25.320Z"
   },
   {
    "duration": 654,
    "start_time": "2022-09-03T12:12:30.402Z"
   },
   {
    "duration": 4,
    "start_time": "2022-09-03T12:12:31.058Z"
   },
   {
    "duration": 6117,
    "start_time": "2022-09-03T12:12:31.063Z"
   },
   {
    "duration": 240,
    "start_time": "2022-09-03T12:12:37.183Z"
   },
   {
    "duration": 23,
    "start_time": "2022-09-03T12:12:37.425Z"
   },
   {
    "duration": 118,
    "start_time": "2022-09-03T12:12:37.450Z"
   },
   {
    "duration": 260,
    "start_time": "2022-09-03T12:12:37.570Z"
   },
   {
    "duration": 284,
    "start_time": "2022-09-03T12:12:54.391Z"
   },
   {
    "duration": 265,
    "start_time": "2022-09-03T12:13:45.908Z"
   },
   {
    "duration": 274,
    "start_time": "2022-09-03T12:14:06.920Z"
   },
   {
    "duration": 268,
    "start_time": "2022-09-03T12:14:10.938Z"
   },
   {
    "duration": 301,
    "start_time": "2022-09-03T12:14:19.822Z"
   },
   {
    "duration": 283,
    "start_time": "2022-09-03T12:17:48.833Z"
   },
   {
    "duration": 315,
    "start_time": "2022-09-03T12:17:54.101Z"
   },
   {
    "duration": 261,
    "start_time": "2022-09-03T12:18:01.437Z"
   },
   {
    "duration": 272,
    "start_time": "2022-09-03T12:18:13.366Z"
   },
   {
    "duration": 39,
    "start_time": "2022-09-03T12:34:43.003Z"
   },
   {
    "duration": 8,
    "start_time": "2022-09-03T12:34:50.539Z"
   },
   {
    "duration": 4,
    "start_time": "2022-09-03T12:34:53.417Z"
   },
   {
    "duration": 5,
    "start_time": "2022-09-03T12:34:53.425Z"
   },
   {
    "duration": 5,
    "start_time": "2022-09-03T12:34:53.432Z"
   },
   {
    "duration": 315,
    "start_time": "2022-09-03T12:34:53.438Z"
   },
   {
    "duration": 15,
    "start_time": "2022-09-03T12:34:53.756Z"
   },
   {
    "duration": 134,
    "start_time": "2022-09-03T12:34:53.773Z"
   },
   {
    "duration": 303,
    "start_time": "2022-09-03T12:34:53.909Z"
   },
   {
    "duration": 156,
    "start_time": "2022-09-03T12:34:54.214Z"
   },
   {
    "duration": 1260,
    "start_time": "2022-09-03T12:34:54.372Z"
   },
   {
    "duration": 99,
    "start_time": "2022-09-03T12:34:55.634Z"
   },
   {
    "duration": 81,
    "start_time": "2022-09-03T12:34:55.735Z"
   },
   {
    "duration": 3182,
    "start_time": "2022-09-03T12:34:55.818Z"
   },
   {
    "duration": 522,
    "start_time": "2022-09-03T12:34:59.005Z"
   },
   {
    "duration": 1486,
    "start_time": "2022-09-03T12:34:59.530Z"
   },
   {
    "duration": 42,
    "start_time": "2022-09-03T12:35:22.327Z"
   },
   {
    "duration": 47,
    "start_time": "2022-09-03T12:35:50.724Z"
   },
   {
    "duration": 48,
    "start_time": "2022-09-03T12:35:59.723Z"
   },
   {
    "duration": 14,
    "start_time": "2022-09-03T12:36:37.002Z"
   },
   {
    "duration": 255,
    "start_time": "2022-09-03T12:40:58.367Z"
   },
   {
    "duration": 26,
    "start_time": "2022-09-03T12:42:37.105Z"
   },
   {
    "duration": 43,
    "start_time": "2022-09-03T12:44:15.201Z"
   },
   {
    "duration": 19,
    "start_time": "2022-09-03T12:44:22.577Z"
   },
   {
    "duration": 16,
    "start_time": "2022-09-03T12:46:10.445Z"
   },
   {
    "duration": 15,
    "start_time": "2022-09-03T12:48:49.449Z"
   },
   {
    "duration": 1352,
    "start_time": "2022-09-03T12:49:01.392Z"
   },
   {
    "duration": 1257,
    "start_time": "2022-09-03T12:49:04.279Z"
   },
   {
    "duration": 19,
    "start_time": "2022-09-03T12:49:21.486Z"
   },
   {
    "duration": 8,
    "start_time": "2022-09-03T12:49:24.066Z"
   },
   {
    "duration": 23,
    "start_time": "2022-09-03T12:49:31.729Z"
   },
   {
    "duration": 9,
    "start_time": "2022-09-03T12:49:52.364Z"
   },
   {
    "duration": 4,
    "start_time": "2022-09-03T12:50:36.633Z"
   },
   {
    "duration": 94,
    "start_time": "2022-09-03T12:51:55.557Z"
   },
   {
    "duration": 17,
    "start_time": "2022-09-03T12:52:00.764Z"
   },
   {
    "duration": 18,
    "start_time": "2022-09-03T12:52:25.921Z"
   },
   {
    "duration": 16,
    "start_time": "2022-09-03T12:52:55.458Z"
   },
   {
    "duration": 13,
    "start_time": "2022-09-03T12:53:27.053Z"
   },
   {
    "duration": 14,
    "start_time": "2022-09-03T12:53:46.717Z"
   },
   {
    "duration": 45,
    "start_time": "2022-09-03T12:54:08.382Z"
   },
   {
    "duration": 46,
    "start_time": "2022-09-03T12:54:15.978Z"
   },
   {
    "duration": 52,
    "start_time": "2022-09-03T12:54:39.117Z"
   },
   {
    "duration": 55,
    "start_time": "2022-09-03T12:54:51.953Z"
   },
   {
    "duration": 58,
    "start_time": "2022-09-03T12:55:19.748Z"
   },
   {
    "duration": 44,
    "start_time": "2022-09-03T12:55:31.519Z"
   },
   {
    "duration": 48,
    "start_time": "2022-09-03T12:55:39.000Z"
   },
   {
    "duration": 55,
    "start_time": "2022-09-03T12:56:04.420Z"
   },
   {
    "duration": 15,
    "start_time": "2022-09-03T12:56:41.138Z"
   },
   {
    "duration": 16,
    "start_time": "2022-09-03T12:56:51.396Z"
   },
   {
    "duration": 9,
    "start_time": "2022-09-03T12:56:58.369Z"
   },
   {
    "duration": 54,
    "start_time": "2022-09-03T12:57:18.566Z"
   },
   {
    "duration": 53,
    "start_time": "2022-09-03T12:57:27.031Z"
   },
   {
    "duration": 57,
    "start_time": "2022-09-03T12:57:40.350Z"
   },
   {
    "duration": 42,
    "start_time": "2022-09-03T12:57:45.729Z"
   },
   {
    "duration": 41,
    "start_time": "2022-09-03T12:59:16.100Z"
   },
   {
    "duration": 79,
    "start_time": "2022-09-03T12:59:35.756Z"
   },
   {
    "duration": 21,
    "start_time": "2022-09-03T13:00:57.226Z"
   },
   {
    "duration": 66,
    "start_time": "2022-09-03T13:01:34.542Z"
   },
   {
    "duration": 43,
    "start_time": "2022-09-03T13:01:40.796Z"
   },
   {
    "duration": 83,
    "start_time": "2022-09-03T13:01:44.780Z"
   },
   {
    "duration": 961,
    "start_time": "2022-09-03T13:06:40.064Z"
   },
   {
    "duration": 61,
    "start_time": "2022-09-03T13:08:18.081Z"
   },
   {
    "duration": 4,
    "start_time": "2022-09-03T13:09:09.039Z"
   },
   {
    "duration": 487,
    "start_time": "2022-09-03T13:09:21.819Z"
   },
   {
    "duration": 410,
    "start_time": "2022-09-03T13:09:32.318Z"
   },
   {
    "duration": 362,
    "start_time": "2022-09-03T13:09:42.330Z"
   },
   {
    "duration": 533,
    "start_time": "2022-09-03T13:09:48.477Z"
   },
   {
    "duration": 425,
    "start_time": "2022-09-03T13:09:54.882Z"
   },
   {
    "duration": 1473,
    "start_time": "2022-09-03T13:15:36.097Z"
   },
   {
    "duration": 4,
    "start_time": "2022-09-03T13:15:37.572Z"
   },
   {
    "duration": 8190,
    "start_time": "2022-09-03T13:15:37.585Z"
   },
   {
    "duration": 250,
    "start_time": "2022-09-03T13:15:45.778Z"
   },
   {
    "duration": 20,
    "start_time": "2022-09-03T13:15:46.030Z"
   },
   {
    "duration": 125,
    "start_time": "2022-09-03T13:15:46.052Z"
   },
   {
    "duration": 288,
    "start_time": "2022-09-03T13:15:46.180Z"
   },
   {
    "duration": 168,
    "start_time": "2022-09-03T13:15:46.470Z"
   },
   {
    "duration": 1371,
    "start_time": "2022-09-03T13:15:46.640Z"
   },
   {
    "duration": 109,
    "start_time": "2022-09-03T13:15:48.015Z"
   },
   {
    "duration": 75,
    "start_time": "2022-09-03T13:15:48.126Z"
   },
   {
    "duration": 1214,
    "start_time": "2022-09-03T13:15:48.204Z"
   },
   {
    "duration": 519,
    "start_time": "2022-09-03T13:15:49.420Z"
   },
   {
    "duration": 491,
    "start_time": "2022-09-03T13:15:49.941Z"
   },
   {
    "duration": 105,
    "start_time": "2022-09-03T13:15:50.434Z"
   },
   {
    "duration": 162,
    "start_time": "2022-09-03T13:15:50.540Z"
   },
   {
    "duration": 145,
    "start_time": "2022-09-03T13:15:50.705Z"
   },
   {
    "duration": 1487,
    "start_time": "2022-09-04T06:46:22.841Z"
   },
   {
    "duration": 3,
    "start_time": "2022-09-04T06:46:24.331Z"
   },
   {
    "duration": 6163,
    "start_time": "2022-09-04T06:46:24.336Z"
   },
   {
    "duration": 227,
    "start_time": "2022-09-04T06:46:30.501Z"
   },
   {
    "duration": 15,
    "start_time": "2022-09-04T06:46:30.730Z"
   },
   {
    "duration": 127,
    "start_time": "2022-09-04T06:46:30.746Z"
   },
   {
    "duration": 558,
    "start_time": "2022-09-04T06:46:30.875Z"
   },
   {
    "duration": 156,
    "start_time": "2022-09-04T06:46:31.434Z"
   },
   {
    "duration": 1272,
    "start_time": "2022-09-04T06:46:31.592Z"
   },
   {
    "duration": 118,
    "start_time": "2022-09-04T06:46:32.867Z"
   },
   {
    "duration": 88,
    "start_time": "2022-09-04T06:46:32.987Z"
   },
   {
    "duration": 1213,
    "start_time": "2022-09-04T06:46:33.077Z"
   },
   {
    "duration": 519,
    "start_time": "2022-09-04T06:46:34.291Z"
   },
   {
    "duration": 572,
    "start_time": "2022-09-04T06:46:34.812Z"
   },
   {
    "duration": 117,
    "start_time": "2022-09-04T06:46:35.386Z"
   },
   {
    "duration": 194,
    "start_time": "2022-09-04T06:46:35.505Z"
   },
   {
    "duration": 142,
    "start_time": "2022-09-04T06:46:35.702Z"
   },
   {
    "duration": 1614,
    "start_time": "2023-06-22T16:21:50.120Z"
   },
   {
    "duration": 4,
    "start_time": "2023-06-22T16:21:51.736Z"
   },
   {
    "duration": 12352,
    "start_time": "2023-06-22T16:21:51.742Z"
   },
   {
    "duration": 281,
    "start_time": "2023-06-22T16:22:04.096Z"
   },
   {
    "duration": 17,
    "start_time": "2023-06-22T16:22:04.379Z"
   },
   {
    "duration": 162,
    "start_time": "2023-06-22T16:22:04.398Z"
   },
   {
    "duration": 289,
    "start_time": "2023-06-22T16:22:04.562Z"
   },
   {
    "duration": 158,
    "start_time": "2023-06-22T16:22:04.853Z"
   },
   {
    "duration": 1547,
    "start_time": "2023-06-22T16:22:05.013Z"
   },
   {
    "duration": 100,
    "start_time": "2023-06-22T16:22:06.562Z"
   },
   {
    "duration": 72,
    "start_time": "2023-06-22T16:22:06.664Z"
   },
   {
    "duration": 1415,
    "start_time": "2023-06-22T16:22:06.739Z"
   },
   {
    "duration": 608,
    "start_time": "2023-06-22T16:22:08.157Z"
   },
   {
    "duration": 530,
    "start_time": "2023-06-22T16:22:08.769Z"
   },
   {
    "duration": 110,
    "start_time": "2023-06-22T16:22:09.302Z"
   },
   {
    "duration": 131,
    "start_time": "2023-06-22T16:22:09.414Z"
   },
   {
    "duration": 142,
    "start_time": "2023-06-22T16:22:09.552Z"
   }
  ],
  "colab": {
   "name": "AdvansedSQLProjectTemplate.ipynb",
   "provenance": []
  },
  "kernelspec": {
   "display_name": "Python 3 (ipykernel)",
   "language": "python",
   "name": "python3"
  },
  "language_info": {
   "codemirror_mode": {
    "name": "ipython",
    "version": 3
   },
   "file_extension": ".py",
   "mimetype": "text/x-python",
   "name": "python",
   "nbconvert_exporter": "python",
   "pygments_lexer": "ipython3",
   "version": "3.9.7"
  },
  "toc": {
   "base_numbering": 1,
   "nav_menu": {},
   "number_sections": true,
   "sideBar": true,
   "skip_h1_title": true,
   "title_cell": "Table of Contents",
   "title_sidebar": "Contents",
   "toc_cell": false,
   "toc_position": {},
   "toc_section_display": true,
   "toc_window_display": false
  }
 },
 "nbformat": 4,
 "nbformat_minor": 1
}
