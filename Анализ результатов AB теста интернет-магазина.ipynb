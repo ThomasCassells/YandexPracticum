{
 "cells": [
  {
   "cell_type": "markdown",
   "metadata": {},
   "source": [
    "# Анализ результатов A/B теста интернет-магазина"
   ]
  },
  {
   "cell_type": "markdown",
   "metadata": {},
   "source": [
    "**Цель проекта:** Проверить гипотезы для увеличения выручки интернет-магазина.\n",
    "\n",
    "**Задачи проекта:**\n",
    "* Приоритизировать гипотезы\n",
    "* Сделать анализ результатов A/B теста\n",
    "* Принять решение об остановке или продолжении A/B теста\n",
    "\n",
    "**Содержание:**\n",
    "* [1. Приоритизация гипотез](#1)\n",
    "* [2  Анализ A/B-теста](#2)\n",
    "* [2.1  Предобработка данных](#2.1)\n",
    "* [2.2  Расчёт кумулятивной выручки по группам](#2.2)\n",
    "* [2.3 Расчёт кумулятивного среднего чека по группам](#2.3)\n",
    "* [2.4 Расчёт относительного изменения кумулятивного среднего чека группы \"B\" к группе \"A\"](#2.4)\n",
    "* [2.5 Расчёт кумулятивной конверсии по группам](#2.5)\n",
    "* [2.6 Расчёт относительного изменения кумулятивной конверсии группы \"B\" к группе \"A\"](#2.6)\n",
    "* [2.7 Точечный график количества заказов по пользователям](#2.7)\n",
    "* [2.8 Выбор границы для определения аномальных пользователей](#2.8)\n",
    "* [2.9 Точечный график стоимостей заказов](#2.9)\n",
    "* [2.10 Выбор границы для определения аномальных заказов](#2.10)\n",
    "* [2.11 Расчёт статистической значимости различий в среднем количестве заказов  между группами по «сырым» данным](#2.11)\n",
    "* [2.12 Расчёт статистической значимости различий в среднем чеке заказа между группами по «сырым» данным](#2.12)\n",
    "* [2.13 Расчёт статистической значимости различий в среднем количестве заказов между группами по «очищенным» данным](#2.13)\n",
    "* [2.14 Расчёт статистической значимости различий в среднем чеке заказа между группами по «очищенным» данным](#2.14)\n",
    "* [3. Общий вывод](#3)"
   ]
  },
  {
   "cell_type": "markdown",
   "metadata": {},
   "source": [
    "<a id=\"1\"></a>\n",
    "## Приоритизация гипотез"
   ]
  },
  {
   "cell_type": "markdown",
   "metadata": {},
   "source": [
    "Импортируем необходимые бибилотеки для проекта."
   ]
  },
  {
   "cell_type": "code",
   "execution_count": 1,
   "metadata": {},
   "outputs": [],
   "source": [
    "import pandas as pd\n",
    "import scipy.stats as stats\n",
    "import numpy as np\n",
    "import plotly.express as px"
   ]
  },
  {
   "cell_type": "markdown",
   "metadata": {},
   "source": [
    "Откроем датасет с гипотезами."
   ]
  },
  {
   "cell_type": "code",
   "execution_count": 2,
   "metadata": {},
   "outputs": [
    {
     "data": {
      "text/html": [
       "<div>\n",
       "<style scoped>\n",
       "    .dataframe tbody tr th:only-of-type {\n",
       "        vertical-align: middle;\n",
       "    }\n",
       "\n",
       "    .dataframe tbody tr th {\n",
       "        vertical-align: top;\n",
       "    }\n",
       "\n",
       "    .dataframe thead th {\n",
       "        text-align: right;\n",
       "    }\n",
       "</style>\n",
       "<table border=\"1\" class=\"dataframe\">\n",
       "  <thead>\n",
       "    <tr style=\"text-align: right;\">\n",
       "      <th></th>\n",
       "      <th>Hypothesis</th>\n",
       "      <th>Reach</th>\n",
       "      <th>Impact</th>\n",
       "      <th>Confidence</th>\n",
       "      <th>Efforts</th>\n",
       "    </tr>\n",
       "  </thead>\n",
       "  <tbody>\n",
       "    <tr>\n",
       "      <th>0</th>\n",
       "      <td>Добавить два новых канала привлечения трафика,...</td>\n",
       "      <td>3</td>\n",
       "      <td>10</td>\n",
       "      <td>8</td>\n",
       "      <td>6</td>\n",
       "    </tr>\n",
       "    <tr>\n",
       "      <th>1</th>\n",
       "      <td>Запустить собственную службу доставки, что сок...</td>\n",
       "      <td>2</td>\n",
       "      <td>5</td>\n",
       "      <td>4</td>\n",
       "      <td>10</td>\n",
       "    </tr>\n",
       "    <tr>\n",
       "      <th>2</th>\n",
       "      <td>Добавить блоки рекомендаций товаров на сайт ин...</td>\n",
       "      <td>8</td>\n",
       "      <td>3</td>\n",
       "      <td>7</td>\n",
       "      <td>3</td>\n",
       "    </tr>\n",
       "    <tr>\n",
       "      <th>3</th>\n",
       "      <td>Изменить структура категорий, что увеличит кон...</td>\n",
       "      <td>8</td>\n",
       "      <td>3</td>\n",
       "      <td>3</td>\n",
       "      <td>8</td>\n",
       "    </tr>\n",
       "    <tr>\n",
       "      <th>4</th>\n",
       "      <td>Изменить цвет фона главной страницы, чтобы уве...</td>\n",
       "      <td>3</td>\n",
       "      <td>1</td>\n",
       "      <td>1</td>\n",
       "      <td>1</td>\n",
       "    </tr>\n",
       "    <tr>\n",
       "      <th>5</th>\n",
       "      <td>Добавить страницу отзывов клиентов о магазине,...</td>\n",
       "      <td>3</td>\n",
       "      <td>2</td>\n",
       "      <td>2</td>\n",
       "      <td>3</td>\n",
       "    </tr>\n",
       "    <tr>\n",
       "      <th>6</th>\n",
       "      <td>Показать на главной странице баннеры с актуаль...</td>\n",
       "      <td>5</td>\n",
       "      <td>3</td>\n",
       "      <td>8</td>\n",
       "      <td>3</td>\n",
       "    </tr>\n",
       "    <tr>\n",
       "      <th>7</th>\n",
       "      <td>Добавить форму подписки на все основные страни...</td>\n",
       "      <td>10</td>\n",
       "      <td>7</td>\n",
       "      <td>8</td>\n",
       "      <td>5</td>\n",
       "    </tr>\n",
       "    <tr>\n",
       "      <th>8</th>\n",
       "      <td>Запустить акцию, дающую скидку на товар в день...</td>\n",
       "      <td>1</td>\n",
       "      <td>9</td>\n",
       "      <td>9</td>\n",
       "      <td>5</td>\n",
       "    </tr>\n",
       "  </tbody>\n",
       "</table>\n",
       "</div>"
      ],
      "text/plain": [
       "                                          Hypothesis  Reach  Impact  \\\n",
       "0  Добавить два новых канала привлечения трафика,...      3      10   \n",
       "1  Запустить собственную службу доставки, что сок...      2       5   \n",
       "2  Добавить блоки рекомендаций товаров на сайт ин...      8       3   \n",
       "3  Изменить структура категорий, что увеличит кон...      8       3   \n",
       "4  Изменить цвет фона главной страницы, чтобы уве...      3       1   \n",
       "5  Добавить страницу отзывов клиентов о магазине,...      3       2   \n",
       "6  Показать на главной странице баннеры с актуаль...      5       3   \n",
       "7  Добавить форму подписки на все основные страни...     10       7   \n",
       "8  Запустить акцию, дающую скидку на товар в день...      1       9   \n",
       "\n",
       "   Confidence  Efforts  \n",
       "0           8        6  \n",
       "1           4       10  \n",
       "2           7        3  \n",
       "3           3        8  \n",
       "4           1        1  \n",
       "5           2        3  \n",
       "6           8        3  \n",
       "7           8        5  \n",
       "8           9        5  "
      ]
     },
     "execution_count": 2,
     "metadata": {},
     "output_type": "execute_result"
    }
   ],
   "source": [
    "data_hypothesis = pd.read_csv ('C:/Documents/Yandex Practicum/Projects/7. Анализ результатов AB теста интернет-магазина/data_hypothesis.csv')\n",
    "data_hypothesis.head (10)"
   ]
  },
  {
   "cell_type": "markdown",
   "metadata": {},
   "source": [
    "Датасет содержит описание гипотез и значения параметров для их приоритезации. Воспользуемся методами ICE и RICE для приоритизации гипотез."
   ]
  },
  {
   "cell_type": "code",
   "execution_count": 3,
   "metadata": {},
   "outputs": [
    {
     "data": {
      "text/html": [
       "<div>\n",
       "<style scoped>\n",
       "    .dataframe tbody tr th:only-of-type {\n",
       "        vertical-align: middle;\n",
       "    }\n",
       "\n",
       "    .dataframe tbody tr th {\n",
       "        vertical-align: top;\n",
       "    }\n",
       "\n",
       "    .dataframe thead th {\n",
       "        text-align: right;\n",
       "    }\n",
       "</style>\n",
       "<table border=\"1\" class=\"dataframe\">\n",
       "  <thead>\n",
       "    <tr style=\"text-align: right;\">\n",
       "      <th></th>\n",
       "      <th>Hypothesis</th>\n",
       "      <th>ICE</th>\n",
       "    </tr>\n",
       "  </thead>\n",
       "  <tbody>\n",
       "    <tr>\n",
       "      <th>8</th>\n",
       "      <td>Запустить акцию, дающую скидку на товар в день...</td>\n",
       "      <td>16.2</td>\n",
       "    </tr>\n",
       "    <tr>\n",
       "      <th>0</th>\n",
       "      <td>Добавить два новых канала привлечения трафика,...</td>\n",
       "      <td>13.3</td>\n",
       "    </tr>\n",
       "    <tr>\n",
       "      <th>7</th>\n",
       "      <td>Добавить форму подписки на все основные страни...</td>\n",
       "      <td>11.2</td>\n",
       "    </tr>\n",
       "    <tr>\n",
       "      <th>6</th>\n",
       "      <td>Показать на главной странице баннеры с актуаль...</td>\n",
       "      <td>8.0</td>\n",
       "    </tr>\n",
       "    <tr>\n",
       "      <th>2</th>\n",
       "      <td>Добавить блоки рекомендаций товаров на сайт ин...</td>\n",
       "      <td>7.0</td>\n",
       "    </tr>\n",
       "    <tr>\n",
       "      <th>1</th>\n",
       "      <td>Запустить собственную службу доставки, что сок...</td>\n",
       "      <td>2.0</td>\n",
       "    </tr>\n",
       "    <tr>\n",
       "      <th>5</th>\n",
       "      <td>Добавить страницу отзывов клиентов о магазине,...</td>\n",
       "      <td>1.3</td>\n",
       "    </tr>\n",
       "    <tr>\n",
       "      <th>3</th>\n",
       "      <td>Изменить структура категорий, что увеличит кон...</td>\n",
       "      <td>1.1</td>\n",
       "    </tr>\n",
       "    <tr>\n",
       "      <th>4</th>\n",
       "      <td>Изменить цвет фона главной страницы, чтобы уве...</td>\n",
       "      <td>1.0</td>\n",
       "    </tr>\n",
       "  </tbody>\n",
       "</table>\n",
       "</div>"
      ],
      "text/plain": [
       "                                          Hypothesis   ICE\n",
       "8  Запустить акцию, дающую скидку на товар в день...  16.2\n",
       "0  Добавить два новых канала привлечения трафика,...  13.3\n",
       "7  Добавить форму подписки на все основные страни...  11.2\n",
       "6  Показать на главной странице баннеры с актуаль...   8.0\n",
       "2  Добавить блоки рекомендаций товаров на сайт ин...   7.0\n",
       "1  Запустить собственную службу доставки, что сок...   2.0\n",
       "5  Добавить страницу отзывов клиентов о магазине,...   1.3\n",
       "3  Изменить структура категорий, что увеличит кон...   1.1\n",
       "4  Изменить цвет фона главной страницы, чтобы уве...   1.0"
      ]
     },
     "metadata": {},
     "output_type": "display_data"
    },
    {
     "data": {
      "text/html": [
       "<div>\n",
       "<style scoped>\n",
       "    .dataframe tbody tr th:only-of-type {\n",
       "        vertical-align: middle;\n",
       "    }\n",
       "\n",
       "    .dataframe tbody tr th {\n",
       "        vertical-align: top;\n",
       "    }\n",
       "\n",
       "    .dataframe thead th {\n",
       "        text-align: right;\n",
       "    }\n",
       "</style>\n",
       "<table border=\"1\" class=\"dataframe\">\n",
       "  <thead>\n",
       "    <tr style=\"text-align: right;\">\n",
       "      <th></th>\n",
       "      <th>Hypothesis</th>\n",
       "      <th>RICE</th>\n",
       "    </tr>\n",
       "  </thead>\n",
       "  <tbody>\n",
       "    <tr>\n",
       "      <th>7</th>\n",
       "      <td>Добавить форму подписки на все основные страни...</td>\n",
       "      <td>112.0</td>\n",
       "    </tr>\n",
       "    <tr>\n",
       "      <th>2</th>\n",
       "      <td>Добавить блоки рекомендаций товаров на сайт ин...</td>\n",
       "      <td>56.0</td>\n",
       "    </tr>\n",
       "    <tr>\n",
       "      <th>0</th>\n",
       "      <td>Добавить два новых канала привлечения трафика,...</td>\n",
       "      <td>40.0</td>\n",
       "    </tr>\n",
       "    <tr>\n",
       "      <th>6</th>\n",
       "      <td>Показать на главной странице баннеры с актуаль...</td>\n",
       "      <td>40.0</td>\n",
       "    </tr>\n",
       "    <tr>\n",
       "      <th>8</th>\n",
       "      <td>Запустить акцию, дающую скидку на товар в день...</td>\n",
       "      <td>16.2</td>\n",
       "    </tr>\n",
       "    <tr>\n",
       "      <th>3</th>\n",
       "      <td>Изменить структура категорий, что увеличит кон...</td>\n",
       "      <td>9.0</td>\n",
       "    </tr>\n",
       "    <tr>\n",
       "      <th>1</th>\n",
       "      <td>Запустить собственную службу доставки, что сок...</td>\n",
       "      <td>4.0</td>\n",
       "    </tr>\n",
       "    <tr>\n",
       "      <th>5</th>\n",
       "      <td>Добавить страницу отзывов клиентов о магазине,...</td>\n",
       "      <td>4.0</td>\n",
       "    </tr>\n",
       "    <tr>\n",
       "      <th>4</th>\n",
       "      <td>Изменить цвет фона главной страницы, чтобы уве...</td>\n",
       "      <td>3.0</td>\n",
       "    </tr>\n",
       "  </tbody>\n",
       "</table>\n",
       "</div>"
      ],
      "text/plain": [
       "                                          Hypothesis   RICE\n",
       "7  Добавить форму подписки на все основные страни...  112.0\n",
       "2  Добавить блоки рекомендаций товаров на сайт ин...   56.0\n",
       "0  Добавить два новых канала привлечения трафика,...   40.0\n",
       "6  Показать на главной странице баннеры с актуаль...   40.0\n",
       "8  Запустить акцию, дающую скидку на товар в день...   16.2\n",
       "3  Изменить структура категорий, что увеличит кон...    9.0\n",
       "1  Запустить собственную службу доставки, что сок...    4.0\n",
       "5  Добавить страницу отзывов клиентов о магазине,...    4.0\n",
       "4  Изменить цвет фона главной страницы, чтобы уве...    3.0"
      ]
     },
     "metadata": {},
     "output_type": "display_data"
    }
   ],
   "source": [
    "data_hypothesis ['ICE'] = round ((data_hypothesis ['Impact'] * data_hypothesis ['Confidence']) / data_hypothesis ['Efforts'], 1)\n",
    "data_hypothesis ['RICE'] = round ((data_hypothesis ['Reach'] * data_hypothesis ['Impact'] * data_hypothesis ['Confidence']) / data_hypothesis ['Efforts'], 1)\n",
    "\n",
    "for i in ['ICE', 'RICE']:\n",
    "    display (data_hypothesis [['Hypothesis', i]].sort_values (by = i, ascending = False).head (10))"
   ]
  },
  {
   "cell_type": "markdown",
   "metadata": {},
   "source": [
    "Метод ICE позволил выявить гипотезы под номерами 8, 0, 7 как наиболее приоритетные. Метод RICE также выделил гипотезы под номерами 7 и 0, однако, гипотеза 8 оказалась в середине списка. Это произошло из-за того, что метод RISE учитывает охват пользователей, который при проверке гипотезы 8, будет совсем незначительным, в то время, как охват пользователей при проверке гипотезы №2 оценивается в 8 баллов из 10 возможных. Поэтому в ТОП-3 приоритетных гипотез методом RISE вошла гипотеза №2, а не №8."
   ]
  },
  {
   "cell_type": "markdown",
   "metadata": {},
   "source": [
    "<a id=\"2\"></a>\n",
    "## Анализ A/B-теста\n",
    "<a id=\"2.1\"></a>\n",
    "### Предобработка данных"
   ]
  },
  {
   "cell_type": "markdown",
   "metadata": {},
   "source": [
    "Рассмотрим результаты A/B теста в двух датасетах."
   ]
  },
  {
   "cell_type": "code",
   "execution_count": 4,
   "metadata": {},
   "outputs": [
    {
     "name": "stdout",
     "output_type": "stream",
     "text": [
      "<class 'pandas.core.frame.DataFrame'>\n",
      "RangeIndex: 1197 entries, 0 to 1196\n",
      "Data columns (total 5 columns):\n",
      " #   Column         Non-Null Count  Dtype \n",
      "---  ------         --------------  ----- \n",
      " 0   transactionId  1197 non-null   int64 \n",
      " 1   visitorId      1197 non-null   int64 \n",
      " 2   date           1197 non-null   object\n",
      " 3   revenue        1197 non-null   int64 \n",
      " 4   group          1197 non-null   object\n",
      "dtypes: int64(3), object(2)\n",
      "memory usage: 46.9+ KB\n"
     ]
    },
    {
     "data": {
      "text/plain": [
       "None"
      ]
     },
     "metadata": {},
     "output_type": "display_data"
    },
    {
     "data": {
      "text/html": [
       "<div>\n",
       "<style scoped>\n",
       "    .dataframe tbody tr th:only-of-type {\n",
       "        vertical-align: middle;\n",
       "    }\n",
       "\n",
       "    .dataframe tbody tr th {\n",
       "        vertical-align: top;\n",
       "    }\n",
       "\n",
       "    .dataframe thead th {\n",
       "        text-align: right;\n",
       "    }\n",
       "</style>\n",
       "<table border=\"1\" class=\"dataframe\">\n",
       "  <thead>\n",
       "    <tr style=\"text-align: right;\">\n",
       "      <th></th>\n",
       "      <th>transactionId</th>\n",
       "      <th>visitorId</th>\n",
       "      <th>date</th>\n",
       "      <th>revenue</th>\n",
       "      <th>group</th>\n",
       "    </tr>\n",
       "  </thead>\n",
       "  <tbody>\n",
       "    <tr>\n",
       "      <th>0</th>\n",
       "      <td>3667963787</td>\n",
       "      <td>3312258926</td>\n",
       "      <td>2019-08-15</td>\n",
       "      <td>1650</td>\n",
       "      <td>B</td>\n",
       "    </tr>\n",
       "    <tr>\n",
       "      <th>1</th>\n",
       "      <td>2804400009</td>\n",
       "      <td>3642806036</td>\n",
       "      <td>2019-08-15</td>\n",
       "      <td>730</td>\n",
       "      <td>B</td>\n",
       "    </tr>\n",
       "    <tr>\n",
       "      <th>2</th>\n",
       "      <td>2961555356</td>\n",
       "      <td>4069496402</td>\n",
       "      <td>2019-08-15</td>\n",
       "      <td>400</td>\n",
       "      <td>A</td>\n",
       "    </tr>\n",
       "    <tr>\n",
       "      <th>3</th>\n",
       "      <td>3797467345</td>\n",
       "      <td>1196621759</td>\n",
       "      <td>2019-08-15</td>\n",
       "      <td>9759</td>\n",
       "      <td>B</td>\n",
       "    </tr>\n",
       "    <tr>\n",
       "      <th>4</th>\n",
       "      <td>2282983706</td>\n",
       "      <td>2322279887</td>\n",
       "      <td>2019-08-15</td>\n",
       "      <td>2308</td>\n",
       "      <td>B</td>\n",
       "    </tr>\n",
       "  </tbody>\n",
       "</table>\n",
       "</div>"
      ],
      "text/plain": [
       "   transactionId   visitorId        date  revenue group\n",
       "0     3667963787  3312258926  2019-08-15     1650     B\n",
       "1     2804400009  3642806036  2019-08-15      730     B\n",
       "2     2961555356  4069496402  2019-08-15      400     A\n",
       "3     3797467345  1196621759  2019-08-15     9759     B\n",
       "4     2282983706  2322279887  2019-08-15     2308     B"
      ]
     },
     "metadata": {},
     "output_type": "display_data"
    },
    {
     "name": "stdout",
     "output_type": "stream",
     "text": [
      "<class 'pandas.core.frame.DataFrame'>\n",
      "RangeIndex: 62 entries, 0 to 61\n",
      "Data columns (total 3 columns):\n",
      " #   Column    Non-Null Count  Dtype \n",
      "---  ------    --------------  ----- \n",
      " 0   date      62 non-null     object\n",
      " 1   group     62 non-null     object\n",
      " 2   visitors  62 non-null     int64 \n",
      "dtypes: int64(1), object(2)\n",
      "memory usage: 1.6+ KB\n"
     ]
    },
    {
     "data": {
      "text/plain": [
       "None"
      ]
     },
     "metadata": {},
     "output_type": "display_data"
    },
    {
     "data": {
      "text/html": [
       "<div>\n",
       "<style scoped>\n",
       "    .dataframe tbody tr th:only-of-type {\n",
       "        vertical-align: middle;\n",
       "    }\n",
       "\n",
       "    .dataframe tbody tr th {\n",
       "        vertical-align: top;\n",
       "    }\n",
       "\n",
       "    .dataframe thead th {\n",
       "        text-align: right;\n",
       "    }\n",
       "</style>\n",
       "<table border=\"1\" class=\"dataframe\">\n",
       "  <thead>\n",
       "    <tr style=\"text-align: right;\">\n",
       "      <th></th>\n",
       "      <th>date</th>\n",
       "      <th>group</th>\n",
       "      <th>visitors</th>\n",
       "    </tr>\n",
       "  </thead>\n",
       "  <tbody>\n",
       "    <tr>\n",
       "      <th>0</th>\n",
       "      <td>2019-08-01</td>\n",
       "      <td>A</td>\n",
       "      <td>719</td>\n",
       "    </tr>\n",
       "    <tr>\n",
       "      <th>1</th>\n",
       "      <td>2019-08-02</td>\n",
       "      <td>A</td>\n",
       "      <td>619</td>\n",
       "    </tr>\n",
       "    <tr>\n",
       "      <th>2</th>\n",
       "      <td>2019-08-03</td>\n",
       "      <td>A</td>\n",
       "      <td>507</td>\n",
       "    </tr>\n",
       "    <tr>\n",
       "      <th>3</th>\n",
       "      <td>2019-08-04</td>\n",
       "      <td>A</td>\n",
       "      <td>717</td>\n",
       "    </tr>\n",
       "    <tr>\n",
       "      <th>4</th>\n",
       "      <td>2019-08-05</td>\n",
       "      <td>A</td>\n",
       "      <td>756</td>\n",
       "    </tr>\n",
       "  </tbody>\n",
       "</table>\n",
       "</div>"
      ],
      "text/plain": [
       "         date group  visitors\n",
       "0  2019-08-01     A       719\n",
       "1  2019-08-02     A       619\n",
       "2  2019-08-03     A       507\n",
       "3  2019-08-04     A       717\n",
       "4  2019-08-05     A       756"
      ]
     },
     "metadata": {},
     "output_type": "display_data"
    }
   ],
   "source": [
    "data_orders = pd.read_csv ('C:/Documents/Yandex Practicum/Projects/7. Анализ результатов AB теста интернет-магазина/data_orders.csv')\n",
    "data_visitors = pd.read_csv ('C:/Documents/Yandex Practicum/Projects/7. Анализ результатов AB теста интернет-магазина/data_visitors.csv')\n",
    "\n",
    "for i in [data_orders, data_visitors]:\n",
    "    display (i.info ())\n",
    "    display (i.head ())"
   ]
  },
  {
   "cell_type": "markdown",
   "metadata": {},
   "source": [
    "Датасет `data_orders` содержит информацию о заказах (id транзакции, id клиента, дата, выручка, группа тестирования). Датасет `data_visitors` - информацию о количестве просмотров страницы (дата, группа тестирования, количество человек). Изменим тип данных в колонке с датой в обеих таблицах."
   ]
  },
  {
   "cell_type": "code",
   "execution_count": 5,
   "metadata": {},
   "outputs": [],
   "source": [
    "for i in [data_orders, data_visitors]:\n",
    "    i ['date'] = pd.to_datetime (i ['date'])"
   ]
  },
  {
   "cell_type": "markdown",
   "metadata": {},
   "source": [
    "Изменим названия столбцов в `data_orders`."
   ]
  },
  {
   "cell_type": "code",
   "execution_count": 6,
   "metadata": {},
   "outputs": [],
   "source": [
    "data_orders = data_orders.rename ({'transactionId': 'transaction_id', 'visitorId': 'visitor_id'}, axis = 1)"
   ]
  },
  {
   "cell_type": "markdown",
   "metadata": {},
   "source": [
    "Проверим датасеты на пропуски в данных и дубликаты."
   ]
  },
  {
   "cell_type": "code",
   "execution_count": 7,
   "metadata": {},
   "outputs": [
    {
     "name": "stdout",
     "output_type": "stream",
     "text": [
      "\n",
      "Пропуски в данных:\n",
      " transaction_id    0\n",
      "visitor_id        0\n",
      "date              0\n",
      "revenue           0\n",
      "group             0\n",
      "dtype: int64\n",
      "Количество дубликатов: 0\n",
      "\n",
      "Пропуски в данных:\n",
      " date        0\n",
      "group       0\n",
      "visitors    0\n",
      "dtype: int64\n",
      "Количество дубликатов: 0\n"
     ]
    }
   ],
   "source": [
    "for i in [data_orders, data_visitors]:\n",
    "    print ('\\nПропуски в данных:\\n', i.isna().sum())\n",
    "    print ('Количество дубликатов:', i.duplicated().sum())"
   ]
  },
  {
   "cell_type": "markdown",
   "metadata": {},
   "source": [
    "Пропуски и дубликаты отсутствуют. Проверим соответствие контрольных групп в обоих датасетах."
   ]
  },
  {
   "cell_type": "code",
   "execution_count": 8,
   "metadata": {},
   "outputs": [
    {
     "name": "stdout",
     "output_type": "stream",
     "text": [
      "['B' 'A']\n",
      "['A' 'B']\n"
     ]
    }
   ],
   "source": [
    "for i in [data_orders, data_visitors]:\n",
    "    print (i ['group'].unique())"
   ]
  },
  {
   "cell_type": "markdown",
   "metadata": {},
   "source": [
    "Контрольные группы записаны корректно в обоих таблицах. Проверим также колонки с числовыми значениями."
   ]
  },
  {
   "cell_type": "code",
   "execution_count": 9,
   "metadata": {},
   "outputs": [
    {
     "data": {
      "text/plain": [
       "count       1197.0\n",
       "mean        8348.0\n",
       "std        39191.1\n",
       "min           50.0\n",
       "25%         1220.0\n",
       "50%         2978.0\n",
       "75%         8290.0\n",
       "max      1294500.0\n",
       "Name: revenue, dtype: object"
      ]
     },
     "execution_count": 9,
     "metadata": {},
     "output_type": "execute_result"
    }
   ],
   "source": [
    "data_orders ['revenue'].describe().apply ('{0:.1f}'.format)"
   ]
  },
  {
   "cell_type": "markdown",
   "metadata": {},
   "source": [
    "В колонке с выручкой очень большой разброс данных: от 50 до 1294500 руб. Это могут быть отдельные оптовые покупки, сильно выбивающиеся из общей массы."
   ]
  },
  {
   "cell_type": "code",
   "execution_count": 10,
   "metadata": {},
   "outputs": [
    {
     "data": {
      "text/plain": [
       "count     62.0\n",
       "mean     607.3\n",
       "std      114.4\n",
       "min      361.0\n",
       "25%      534.0\n",
       "50%      624.5\n",
       "75%      710.5\n",
       "max      770.0\n",
       "Name: visitors, dtype: object"
      ]
     },
     "execution_count": 10,
     "metadata": {},
     "output_type": "execute_result"
    }
   ],
   "source": [
    "data_visitors ['visitors'].describe().apply ('{0:.1f}'.format)"
   ]
  },
  {
   "cell_type": "markdown",
   "metadata": {},
   "source": [
    "В колонке с количеством посетителей нет сильно выбивающихся значений. Минимальное кол-во посетителей - 361, максимальное - 770. Проверим также соответствие минимальной и максимальной даты проведения A/B теста в обоих датасетах."
   ]
  },
  {
   "cell_type": "code",
   "execution_count": 11,
   "metadata": {},
   "outputs": [
    {
     "name": "stdout",
     "output_type": "stream",
     "text": [
      "Диапозон проведения A\\B теста во времени совпадает в обоих датасетах.\n"
     ]
    }
   ],
   "source": [
    "if data_orders ['date'].min() == data_visitors ['date'].min() and data_orders ['date'].max() == data_visitors ['date'].max():\n",
    "    print ('Диапозон проведения A\\B теста во времени совпадает в обоих датасетах.')\n",
    "else:\n",
    "    print ('Диапозон проведения A\\B теста во времени у двух датасетов НЕ совпадает. Следует проверить различие в данных.')"
   ]
  },
  {
   "cell_type": "markdown",
   "metadata": {},
   "source": [
    "Проверим, сколько пользователей в каждой группе."
   ]
  },
  {
   "cell_type": "code",
   "execution_count": 12,
   "metadata": {},
   "outputs": [
    {
     "name": "stdout",
     "output_type": "stream",
     "text": [
      "A 503\n",
      "B 586\n"
     ]
    }
   ],
   "source": [
    "group_visitors = data_orders.groupby ('group')['visitor_id'].unique()\n",
    "\n",
    "for i, j in zip (group_visitors, ['A', 'B']):\n",
    "    print (j, len (i))"
   ]
  },
  {
   "cell_type": "markdown",
   "metadata": {},
   "source": [
    "Уникальных пользователей в группе \"B\" больше на 83 пользователя. Проверим, не попадают ли какие-то пользователи в обе группы."
   ]
  },
  {
   "cell_type": "code",
   "execution_count": 13,
   "metadata": {
    "scrolled": false
   },
   "outputs": [
    {
     "data": {
      "text/plain": [
       "True"
      ]
     },
     "execution_count": 13,
     "metadata": {},
     "output_type": "execute_result"
    }
   ],
   "source": [
    "any (i in group_visitors ['A'] for i in group_visitors ['B'])"
   ]
  },
  {
   "cell_type": "markdown",
   "metadata": {},
   "source": [
    "Функция `any` показала наличие одних и тех же пользователей в обеих группах. Найдём количество таких пользователей по id."
   ]
  },
  {
   "cell_type": "code",
   "execution_count": 14,
   "metadata": {},
   "outputs": [
    {
     "data": {
      "text/plain": [
       "58"
      ]
     },
     "execution_count": 14,
     "metadata": {},
     "output_type": "execute_result"
    }
   ],
   "source": [
    "repeat_visitors = list (filter (lambda i: i in group_visitors ['A'], group_visitors ['B']))\n",
    "len (repeat_visitors)"
   ]
  },
  {
   "cell_type": "markdown",
   "metadata": {},
   "source": [
    "58 уникальных пользователей попали в обе контрольные группы. При проведении A\\B теста такого не должно быть, возможно, это ошибка. Для дальнейшего исследования необходимо избавиться от данных по этим пользователям в обеих группах."
   ]
  },
  {
   "cell_type": "code",
   "execution_count": 15,
   "metadata": {},
   "outputs": [],
   "source": [
    "data_orders = data_orders.query ('visitor_id != @repeat_visitors')"
   ]
  },
  {
   "cell_type": "markdown",
   "metadata": {},
   "source": [
    "Данные результатов A\\B теста пребобработаны и готовы к анализу."
   ]
  },
  {
   "cell_type": "markdown",
   "metadata": {},
   "source": [
    "<a id=\"2.2\"></a>\n",
    "### Расчёт кумулятивной выручки по группам"
   ]
  },
  {
   "cell_type": "markdown",
   "metadata": {},
   "source": [
    "Создадим массив уникальных пар значений дат и групп теста."
   ]
  },
  {
   "cell_type": "code",
   "execution_count": 16,
   "metadata": {},
   "outputs": [
    {
     "data": {
      "text/html": [
       "<div>\n",
       "<style scoped>\n",
       "    .dataframe tbody tr th:only-of-type {\n",
       "        vertical-align: middle;\n",
       "    }\n",
       "\n",
       "    .dataframe tbody tr th {\n",
       "        vertical-align: top;\n",
       "    }\n",
       "\n",
       "    .dataframe thead th {\n",
       "        text-align: right;\n",
       "    }\n",
       "</style>\n",
       "<table border=\"1\" class=\"dataframe\">\n",
       "  <thead>\n",
       "    <tr style=\"text-align: right;\">\n",
       "      <th></th>\n",
       "      <th>date</th>\n",
       "      <th>group</th>\n",
       "    </tr>\n",
       "  </thead>\n",
       "  <tbody>\n",
       "    <tr>\n",
       "      <th>0</th>\n",
       "      <td>2019-08-15</td>\n",
       "      <td>B</td>\n",
       "    </tr>\n",
       "    <tr>\n",
       "      <th>7</th>\n",
       "      <td>2019-08-15</td>\n",
       "      <td>A</td>\n",
       "    </tr>\n",
       "    <tr>\n",
       "      <th>45</th>\n",
       "      <td>2019-08-16</td>\n",
       "      <td>A</td>\n",
       "    </tr>\n",
       "    <tr>\n",
       "      <th>47</th>\n",
       "      <td>2019-08-16</td>\n",
       "      <td>B</td>\n",
       "    </tr>\n",
       "    <tr>\n",
       "      <th>55</th>\n",
       "      <td>2019-08-01</td>\n",
       "      <td>A</td>\n",
       "    </tr>\n",
       "  </tbody>\n",
       "</table>\n",
       "</div>"
      ],
      "text/plain": [
       "         date group\n",
       "0  2019-08-15     B\n",
       "7  2019-08-15     A\n",
       "45 2019-08-16     A\n",
       "47 2019-08-16     B\n",
       "55 2019-08-01     A"
      ]
     },
     "execution_count": 16,
     "metadata": {},
     "output_type": "execute_result"
    }
   ],
   "source": [
    "dates_groups = data_orders [['date','group']].drop_duplicates()\n",
    "dates_groups.head()"
   ]
  },
  {
   "cell_type": "markdown",
   "metadata": {},
   "source": [
    "Получим агрегированные кумулятивные по дням данные о заказах."
   ]
  },
  {
   "cell_type": "code",
   "execution_count": 17,
   "metadata": {},
   "outputs": [
    {
     "data": {
      "text/html": [
       "<div>\n",
       "<style scoped>\n",
       "    .dataframe tbody tr th:only-of-type {\n",
       "        vertical-align: middle;\n",
       "    }\n",
       "\n",
       "    .dataframe tbody tr th {\n",
       "        vertical-align: top;\n",
       "    }\n",
       "\n",
       "    .dataframe thead th {\n",
       "        text-align: right;\n",
       "    }\n",
       "</style>\n",
       "<table border=\"1\" class=\"dataframe\">\n",
       "  <thead>\n",
       "    <tr style=\"text-align: right;\">\n",
       "      <th></th>\n",
       "      <th>date</th>\n",
       "      <th>group</th>\n",
       "      <th>orders</th>\n",
       "      <th>revenue</th>\n",
       "    </tr>\n",
       "  </thead>\n",
       "  <tbody>\n",
       "    <tr>\n",
       "      <th>55</th>\n",
       "      <td>2019-08-01</td>\n",
       "      <td>A</td>\n",
       "      <td>19</td>\n",
       "      <td>142779</td>\n",
       "    </tr>\n",
       "    <tr>\n",
       "      <th>66</th>\n",
       "      <td>2019-08-01</td>\n",
       "      <td>B</td>\n",
       "      <td>17</td>\n",
       "      <td>59758</td>\n",
       "    </tr>\n",
       "    <tr>\n",
       "      <th>175</th>\n",
       "      <td>2019-08-02</td>\n",
       "      <td>A</td>\n",
       "      <td>36</td>\n",
       "      <td>234381</td>\n",
       "    </tr>\n",
       "    <tr>\n",
       "      <th>173</th>\n",
       "      <td>2019-08-02</td>\n",
       "      <td>B</td>\n",
       "      <td>39</td>\n",
       "      <td>221801</td>\n",
       "    </tr>\n",
       "    <tr>\n",
       "      <th>291</th>\n",
       "      <td>2019-08-03</td>\n",
       "      <td>A</td>\n",
       "      <td>60</td>\n",
       "      <td>346854</td>\n",
       "    </tr>\n",
       "    <tr>\n",
       "      <th>383</th>\n",
       "      <td>2019-08-03</td>\n",
       "      <td>B</td>\n",
       "      <td>53</td>\n",
       "      <td>288850</td>\n",
       "    </tr>\n",
       "    <tr>\n",
       "      <th>499</th>\n",
       "      <td>2019-08-04</td>\n",
       "      <td>A</td>\n",
       "      <td>71</td>\n",
       "      <td>388030</td>\n",
       "    </tr>\n",
       "    <tr>\n",
       "      <th>498</th>\n",
       "      <td>2019-08-04</td>\n",
       "      <td>B</td>\n",
       "      <td>66</td>\n",
       "      <td>385740</td>\n",
       "    </tr>\n",
       "    <tr>\n",
       "      <th>719</th>\n",
       "      <td>2019-08-05</td>\n",
       "      <td>A</td>\n",
       "      <td>92</td>\n",
       "      <td>474413</td>\n",
       "    </tr>\n",
       "    <tr>\n",
       "      <th>699</th>\n",
       "      <td>2019-08-05</td>\n",
       "      <td>B</td>\n",
       "      <td>87</td>\n",
       "      <td>475648</td>\n",
       "    </tr>\n",
       "  </tbody>\n",
       "</table>\n",
       "</div>"
      ],
      "text/plain": [
       "          date group  orders  revenue\n",
       "55  2019-08-01     A      19   142779\n",
       "66  2019-08-01     B      17    59758\n",
       "175 2019-08-02     A      36   234381\n",
       "173 2019-08-02     B      39   221801\n",
       "291 2019-08-03     A      60   346854\n",
       "383 2019-08-03     B      53   288850\n",
       "499 2019-08-04     A      71   388030\n",
       "498 2019-08-04     B      66   385740\n",
       "719 2019-08-05     A      92   474413\n",
       "699 2019-08-05     B      87   475648"
      ]
     },
     "execution_count": 17,
     "metadata": {},
     "output_type": "execute_result"
    }
   ],
   "source": [
    "data_orders_agg = dates_groups.apply (lambda x: data_orders [np.logical_and (data_orders ['date'] <= x ['date'],\n",
    "                                                                             data_orders ['group'] == x ['group'])] \\\n",
    "                               .agg ({'date' : 'max',\n",
    "                                      'group' : 'max',\n",
    "                                      'visitor_id' : 'nunique',\n",
    "                                      'revenue' : 'sum'}), axis = 1) \\\n",
    "                               .sort_values (by = ['date','group']) \\\n",
    "                               .rename ({'visitor_id': 'orders'}, axis = 1)\n",
    "data_orders_agg.head (10)"
   ]
  },
  {
   "cell_type": "markdown",
   "metadata": {},
   "source": [
    "Построим график кумулятивной выручки."
   ]
  },
  {
   "cell_type": "code",
   "execution_count": 18,
   "metadata": {},
   "outputs": [
    {
     "data": {
      "image/png": "[encoded data removed]"
     },
     "metadata": {},
     "output_type": "display_data"
    }
   ],
   "source": [
    "def fig_line (data, x, y, group, title):\n",
    "    fig = px.line (data,\n",
    "                   x = x,\n",
    "                   y = y,\n",
    "                   color = group,\n",
    "                   title = title,\n",
    "                   height = 600,\n",
    "                   width = 1000)\n",
    "    fig.show ('png')\n",
    "    \n",
    "fig_line (data_orders_agg, 'date', 'revenue', 'group', 'График кумулятивной выручки по дням и группам')"
   ]
  },
  {
   "cell_type": "markdown",
   "metadata": {},
   "source": [
    "**Вывод**: Судя по графику, выручка группы \"B\" всё время была стабильно выше, а после 18 августа ещё сильнее оторвалась по динамике от группы \"А\". Причиной такого отрыва могут стать выбросы данных - особо крупные чеки в определённый день, например, от оптового клиента или от одной крупной покупки."
   ]
  },
  {
   "cell_type": "markdown",
   "metadata": {},
   "source": [
    "<a id=\"2.3\"></a>\n",
    "### Расчёт кумулятивного среднего чека по группам"
   ]
  },
  {
   "cell_type": "markdown",
   "metadata": {},
   "source": [
    "Добавим в таблицу с агрегированными значениями новый стобец - кумулятивный средний чек, разделив кумулятивные выручку на количество заказов по группам за каждый день."
   ]
  },
  {
   "cell_type": "code",
   "execution_count": 19,
   "metadata": {},
   "outputs": [
    {
     "data": {
      "text/html": [
       "<div>\n",
       "<style scoped>\n",
       "    .dataframe tbody tr th:only-of-type {\n",
       "        vertical-align: middle;\n",
       "    }\n",
       "\n",
       "    .dataframe tbody tr th {\n",
       "        vertical-align: top;\n",
       "    }\n",
       "\n",
       "    .dataframe thead th {\n",
       "        text-align: right;\n",
       "    }\n",
       "</style>\n",
       "<table border=\"1\" class=\"dataframe\">\n",
       "  <thead>\n",
       "    <tr style=\"text-align: right;\">\n",
       "      <th></th>\n",
       "      <th>date</th>\n",
       "      <th>group</th>\n",
       "      <th>orders</th>\n",
       "      <th>revenue</th>\n",
       "      <th>average</th>\n",
       "    </tr>\n",
       "  </thead>\n",
       "  <tbody>\n",
       "    <tr>\n",
       "      <th>55</th>\n",
       "      <td>2019-08-01</td>\n",
       "      <td>A</td>\n",
       "      <td>19</td>\n",
       "      <td>142779</td>\n",
       "      <td>7514.68</td>\n",
       "    </tr>\n",
       "    <tr>\n",
       "      <th>66</th>\n",
       "      <td>2019-08-01</td>\n",
       "      <td>B</td>\n",
       "      <td>17</td>\n",
       "      <td>59758</td>\n",
       "      <td>3515.18</td>\n",
       "    </tr>\n",
       "    <tr>\n",
       "      <th>175</th>\n",
       "      <td>2019-08-02</td>\n",
       "      <td>A</td>\n",
       "      <td>36</td>\n",
       "      <td>234381</td>\n",
       "      <td>6510.58</td>\n",
       "    </tr>\n",
       "    <tr>\n",
       "      <th>173</th>\n",
       "      <td>2019-08-02</td>\n",
       "      <td>B</td>\n",
       "      <td>39</td>\n",
       "      <td>221801</td>\n",
       "      <td>5687.21</td>\n",
       "    </tr>\n",
       "    <tr>\n",
       "      <th>291</th>\n",
       "      <td>2019-08-03</td>\n",
       "      <td>A</td>\n",
       "      <td>60</td>\n",
       "      <td>346854</td>\n",
       "      <td>5780.90</td>\n",
       "    </tr>\n",
       "  </tbody>\n",
       "</table>\n",
       "</div>"
      ],
      "text/plain": [
       "          date group  orders  revenue  average\n",
       "55  2019-08-01     A      19   142779  7514.68\n",
       "66  2019-08-01     B      17    59758  3515.18\n",
       "175 2019-08-02     A      36   234381  6510.58\n",
       "173 2019-08-02     B      39   221801  5687.21\n",
       "291 2019-08-03     A      60   346854  5780.90"
      ]
     },
     "execution_count": 19,
     "metadata": {},
     "output_type": "execute_result"
    }
   ],
   "source": [
    "data_orders_agg ['average'] = round (data_orders_agg ['revenue'] / data_orders_agg ['orders'], 2)\n",
    "data_orders_agg.head()"
   ]
  },
  {
   "cell_type": "markdown",
   "metadata": {},
   "source": [
    "Построим график кумулятивного среднего чека."
   ]
  },
  {
   "cell_type": "code",
   "execution_count": 20,
   "metadata": {},
   "outputs": [
    {
     "data": {
      "image/png": "[encoded data removed]"
     },
     "metadata": {},
     "output_type": "display_data"
    }
   ],
   "source": [
    "fig_line (data_orders_agg, 'date', 'average', 'group', 'График кумулятивного среднего чека по дням и группам')"
   ]
  },
  {
   "cell_type": "markdown",
   "metadata": {},
   "source": [
    "**Вывод:** График среднего чека также показывает сильное изменение в значениях группы \"B\" от 18-го августа. Это подтверждает наличие крупной покупки, выбивающейся из общей массы в этот день. Однако, также можно заметить снижение показателя среднего чека у группы \"B\" после 18-го августа по отношению к постепенно растущим значениям у группы \"A\" в тот же период."
   ]
  },
  {
   "cell_type": "markdown",
   "metadata": {},
   "source": [
    "<a id=\"2.4\"></a>\n",
    "### Расчёт относительного изменения кумулятивного среднего чека группы \"B\" к группе \"A\""
   ]
  },
  {
   "cell_type": "markdown",
   "metadata": {},
   "source": [
    "Сначала разделим, а затем соединим две таблицы с показателями двух групп. Добавим колонку `relative_average` с расчётом относительного изменения среднего чека."
   ]
  },
  {
   "cell_type": "code",
   "execution_count": 21,
   "metadata": {},
   "outputs": [
    {
     "data": {
      "text/html": [
       "<div>\n",
       "<style scoped>\n",
       "    .dataframe tbody tr th:only-of-type {\n",
       "        vertical-align: middle;\n",
       "    }\n",
       "\n",
       "    .dataframe tbody tr th {\n",
       "        vertical-align: top;\n",
       "    }\n",
       "\n",
       "    .dataframe thead th {\n",
       "        text-align: right;\n",
       "    }\n",
       "</style>\n",
       "<table border=\"1\" class=\"dataframe\">\n",
       "  <thead>\n",
       "    <tr style=\"text-align: right;\">\n",
       "      <th></th>\n",
       "      <th>date</th>\n",
       "      <th>group_a</th>\n",
       "      <th>orders_a</th>\n",
       "      <th>revenue_a</th>\n",
       "      <th>average_a</th>\n",
       "      <th>group_b</th>\n",
       "      <th>orders_b</th>\n",
       "      <th>revenue_b</th>\n",
       "      <th>average_b</th>\n",
       "      <th>relative_average</th>\n",
       "    </tr>\n",
       "  </thead>\n",
       "  <tbody>\n",
       "    <tr>\n",
       "      <th>0</th>\n",
       "      <td>2019-08-01</td>\n",
       "      <td>A</td>\n",
       "      <td>19</td>\n",
       "      <td>142779</td>\n",
       "      <td>7514.68</td>\n",
       "      <td>B</td>\n",
       "      <td>17</td>\n",
       "      <td>59758</td>\n",
       "      <td>3515.18</td>\n",
       "      <td>-0.532225</td>\n",
       "    </tr>\n",
       "    <tr>\n",
       "      <th>1</th>\n",
       "      <td>2019-08-02</td>\n",
       "      <td>A</td>\n",
       "      <td>36</td>\n",
       "      <td>234381</td>\n",
       "      <td>6510.58</td>\n",
       "      <td>B</td>\n",
       "      <td>39</td>\n",
       "      <td>221801</td>\n",
       "      <td>5687.21</td>\n",
       "      <td>-0.126466</td>\n",
       "    </tr>\n",
       "    <tr>\n",
       "      <th>2</th>\n",
       "      <td>2019-08-03</td>\n",
       "      <td>A</td>\n",
       "      <td>60</td>\n",
       "      <td>346854</td>\n",
       "      <td>5780.90</td>\n",
       "      <td>B</td>\n",
       "      <td>53</td>\n",
       "      <td>288850</td>\n",
       "      <td>5450.00</td>\n",
       "      <td>-0.057240</td>\n",
       "    </tr>\n",
       "    <tr>\n",
       "      <th>3</th>\n",
       "      <td>2019-08-04</td>\n",
       "      <td>A</td>\n",
       "      <td>71</td>\n",
       "      <td>388030</td>\n",
       "      <td>5465.21</td>\n",
       "      <td>B</td>\n",
       "      <td>66</td>\n",
       "      <td>385740</td>\n",
       "      <td>5844.55</td>\n",
       "      <td>0.069410</td>\n",
       "    </tr>\n",
       "    <tr>\n",
       "      <th>4</th>\n",
       "      <td>2019-08-05</td>\n",
       "      <td>A</td>\n",
       "      <td>92</td>\n",
       "      <td>474413</td>\n",
       "      <td>5156.66</td>\n",
       "      <td>B</td>\n",
       "      <td>87</td>\n",
       "      <td>475648</td>\n",
       "      <td>5467.22</td>\n",
       "      <td>0.060225</td>\n",
       "    </tr>\n",
       "  </tbody>\n",
       "</table>\n",
       "</div>"
      ],
      "text/plain": [
       "        date group_a  orders_a  revenue_a  average_a group_b  orders_b  \\\n",
       "0 2019-08-01       A        19     142779    7514.68       B        17   \n",
       "1 2019-08-02       A        36     234381    6510.58       B        39   \n",
       "2 2019-08-03       A        60     346854    5780.90       B        53   \n",
       "3 2019-08-04       A        71     388030    5465.21       B        66   \n",
       "4 2019-08-05       A        92     474413    5156.66       B        87   \n",
       "\n",
       "   revenue_b  average_b  relative_average  \n",
       "0      59758    3515.18         -0.532225  \n",
       "1     221801    5687.21         -0.126466  \n",
       "2     288850    5450.00         -0.057240  \n",
       "3     385740    5844.55          0.069410  \n",
       "4     475648    5467.22          0.060225  "
      ]
     },
     "execution_count": 21,
     "metadata": {},
     "output_type": "execute_result"
    }
   ],
   "source": [
    "data_orders_agg_A = data_orders_agg.query ('group == \"A\"')\n",
    "data_orders_agg_B = data_orders_agg.query ('group == \"B\"')\n",
    "data_orders_agg_merge = data_orders_agg_A.merge (data_orders_agg_B, on = 'date', suffixes = ['_a', '_b'])\n",
    "data_orders_agg_merge ['relative_average'] = (data_orders_agg_merge ['average_b'] / data_orders_agg_merge ['average_a']) - 1\n",
    "data_orders_agg_merge.head()"
   ]
  },
  {
   "cell_type": "markdown",
   "metadata": {},
   "source": [
    "Построим график по значениям колонки `relative_average`."
   ]
  },
  {
   "cell_type": "code",
   "execution_count": 22,
   "metadata": {},
   "outputs": [
    {
     "data": {
      "image/png": "[encoded data removed]"
     },
     "metadata": {},
     "output_type": "display_data"
    }
   ],
   "source": [
    "def fig_line_average (data, x, y, title):\n",
    "    fig = px.line (data,\n",
    "                   x = x,\n",
    "                   y = y,\n",
    "                   title = title,\n",
    "                   height = 600,\n",
    "                   width = 1000)\n",
    "    fig.add_hline (y = 0, line_dash = 'dot')\n",
    "    fig.show ('png')\n",
    "    \n",
    "fig_line_average (data_orders_agg_merge, 'date', 'relative_average', 'График относительного изменения кумулятивного среднего чека группы \"B\" к группе \"A\"')"
   ]
  },
  {
   "cell_type": "markdown",
   "metadata": {},
   "source": [
    "**Вывод:** Группа \"B\" имела худшие показатели только в самом начале теста, а также в период с 11 по 16 августа. В остальные даты данная группа имела более высокие показатели по сравнению с группой \"A\". Однако, график относительного изменения также подверждает выводы по предыдущему графику - начиная с 19 августа отношение среднего чека второй группы к первой постепенно снижается."
   ]
  },
  {
   "cell_type": "markdown",
   "metadata": {},
   "source": [
    "<a id=\"2.5\"></a>\n",
    "### Расчёт кумулятивной конверсии по группам"
   ]
  },
  {
   "cell_type": "markdown",
   "metadata": {},
   "source": [
    "Аналогичным образом, как и для заказов, посчитаем кумулятивное значение пользователей по группам и дням."
   ]
  },
  {
   "cell_type": "code",
   "execution_count": 23,
   "metadata": {},
   "outputs": [
    {
     "data": {
      "text/html": [
       "<div>\n",
       "<style scoped>\n",
       "    .dataframe tbody tr th:only-of-type {\n",
       "        vertical-align: middle;\n",
       "    }\n",
       "\n",
       "    .dataframe tbody tr th {\n",
       "        vertical-align: top;\n",
       "    }\n",
       "\n",
       "    .dataframe thead th {\n",
       "        text-align: right;\n",
       "    }\n",
       "</style>\n",
       "<table border=\"1\" class=\"dataframe\">\n",
       "  <thead>\n",
       "    <tr style=\"text-align: right;\">\n",
       "      <th></th>\n",
       "      <th>date</th>\n",
       "      <th>group</th>\n",
       "      <th>visitors</th>\n",
       "    </tr>\n",
       "  </thead>\n",
       "  <tbody>\n",
       "    <tr>\n",
       "      <th>0</th>\n",
       "      <td>2019-08-01</td>\n",
       "      <td>A</td>\n",
       "      <td>719</td>\n",
       "    </tr>\n",
       "    <tr>\n",
       "      <th>1</th>\n",
       "      <td>2019-08-02</td>\n",
       "      <td>A</td>\n",
       "      <td>619</td>\n",
       "    </tr>\n",
       "    <tr>\n",
       "      <th>2</th>\n",
       "      <td>2019-08-03</td>\n",
       "      <td>A</td>\n",
       "      <td>507</td>\n",
       "    </tr>\n",
       "    <tr>\n",
       "      <th>3</th>\n",
       "      <td>2019-08-04</td>\n",
       "      <td>A</td>\n",
       "      <td>717</td>\n",
       "    </tr>\n",
       "    <tr>\n",
       "      <th>4</th>\n",
       "      <td>2019-08-05</td>\n",
       "      <td>A</td>\n",
       "      <td>756</td>\n",
       "    </tr>\n",
       "    <tr>\n",
       "      <th>5</th>\n",
       "      <td>2019-08-06</td>\n",
       "      <td>A</td>\n",
       "      <td>667</td>\n",
       "    </tr>\n",
       "    <tr>\n",
       "      <th>6</th>\n",
       "      <td>2019-08-07</td>\n",
       "      <td>A</td>\n",
       "      <td>644</td>\n",
       "    </tr>\n",
       "    <tr>\n",
       "      <th>7</th>\n",
       "      <td>2019-08-08</td>\n",
       "      <td>A</td>\n",
       "      <td>610</td>\n",
       "    </tr>\n",
       "    <tr>\n",
       "      <th>8</th>\n",
       "      <td>2019-08-09</td>\n",
       "      <td>A</td>\n",
       "      <td>617</td>\n",
       "    </tr>\n",
       "    <tr>\n",
       "      <th>9</th>\n",
       "      <td>2019-08-10</td>\n",
       "      <td>A</td>\n",
       "      <td>406</td>\n",
       "    </tr>\n",
       "  </tbody>\n",
       "</table>\n",
       "</div>"
      ],
      "text/plain": [
       "        date group  visitors\n",
       "0 2019-08-01     A       719\n",
       "1 2019-08-02     A       619\n",
       "2 2019-08-03     A       507\n",
       "3 2019-08-04     A       717\n",
       "4 2019-08-05     A       756\n",
       "5 2019-08-06     A       667\n",
       "6 2019-08-07     A       644\n",
       "7 2019-08-08     A       610\n",
       "8 2019-08-09     A       617\n",
       "9 2019-08-10     A       406"
      ]
     },
     "execution_count": 23,
     "metadata": {},
     "output_type": "execute_result"
    }
   ],
   "source": [
    "data_visitors.head(10)"
   ]
  },
  {
   "cell_type": "code",
   "execution_count": 24,
   "metadata": {},
   "outputs": [
    {
     "data": {
      "text/html": [
       "<div>\n",
       "<style scoped>\n",
       "    .dataframe tbody tr th:only-of-type {\n",
       "        vertical-align: middle;\n",
       "    }\n",
       "\n",
       "    .dataframe tbody tr th {\n",
       "        vertical-align: top;\n",
       "    }\n",
       "\n",
       "    .dataframe thead th {\n",
       "        text-align: right;\n",
       "    }\n",
       "</style>\n",
       "<table border=\"1\" class=\"dataframe\">\n",
       "  <thead>\n",
       "    <tr style=\"text-align: right;\">\n",
       "      <th></th>\n",
       "      <th>date</th>\n",
       "      <th>group</th>\n",
       "      <th>visitors</th>\n",
       "    </tr>\n",
       "  </thead>\n",
       "  <tbody>\n",
       "    <tr>\n",
       "      <th>55</th>\n",
       "      <td>2019-08-01</td>\n",
       "      <td>A</td>\n",
       "      <td>719</td>\n",
       "    </tr>\n",
       "    <tr>\n",
       "      <th>66</th>\n",
       "      <td>2019-08-01</td>\n",
       "      <td>B</td>\n",
       "      <td>713</td>\n",
       "    </tr>\n",
       "    <tr>\n",
       "      <th>175</th>\n",
       "      <td>2019-08-02</td>\n",
       "      <td>A</td>\n",
       "      <td>1338</td>\n",
       "    </tr>\n",
       "    <tr>\n",
       "      <th>173</th>\n",
       "      <td>2019-08-02</td>\n",
       "      <td>B</td>\n",
       "      <td>1294</td>\n",
       "    </tr>\n",
       "    <tr>\n",
       "      <th>291</th>\n",
       "      <td>2019-08-03</td>\n",
       "      <td>A</td>\n",
       "      <td>1845</td>\n",
       "    </tr>\n",
       "  </tbody>\n",
       "</table>\n",
       "</div>"
      ],
      "text/plain": [
       "          date group  visitors\n",
       "55  2019-08-01     A       719\n",
       "66  2019-08-01     B       713\n",
       "175 2019-08-02     A      1338\n",
       "173 2019-08-02     B      1294\n",
       "291 2019-08-03     A      1845"
      ]
     },
     "execution_count": 24,
     "metadata": {},
     "output_type": "execute_result"
    }
   ],
   "source": [
    "data_visitors_agg = dates_groups.apply (lambda x: data_visitors [np.logical_and (data_visitors ['date'] <= x ['date'],\n",
    "                                                                                 data_visitors ['group'] == x ['group'])] \\\n",
    "                                .agg ({'date' : 'max',\n",
    "                                       'group' : 'max',\n",
    "                                       'visitors' : 'sum'}), axis = 1) \\\n",
    "                                .sort_values (by = ['date', 'group'])\n",
    "data_visitors_agg.head()"
   ]
  },
  {
   "cell_type": "markdown",
   "metadata": {},
   "source": [
    "Соединим таблицы `data_orders_agg` и `data_visitors_agg` в одну. Добавим колонку с расчётом кумулятивной конверсии."
   ]
  },
  {
   "cell_type": "code",
   "execution_count": 25,
   "metadata": {},
   "outputs": [
    {
     "data": {
      "text/html": [
       "<div>\n",
       "<style scoped>\n",
       "    .dataframe tbody tr th:only-of-type {\n",
       "        vertical-align: middle;\n",
       "    }\n",
       "\n",
       "    .dataframe tbody tr th {\n",
       "        vertical-align: top;\n",
       "    }\n",
       "\n",
       "    .dataframe thead th {\n",
       "        text-align: right;\n",
       "    }\n",
       "</style>\n",
       "<table border=\"1\" class=\"dataframe\">\n",
       "  <thead>\n",
       "    <tr style=\"text-align: right;\">\n",
       "      <th></th>\n",
       "      <th>date</th>\n",
       "      <th>group</th>\n",
       "      <th>orders</th>\n",
       "      <th>revenue</th>\n",
       "      <th>average</th>\n",
       "      <th>visitors</th>\n",
       "      <th>conversion</th>\n",
       "    </tr>\n",
       "  </thead>\n",
       "  <tbody>\n",
       "    <tr>\n",
       "      <th>0</th>\n",
       "      <td>2019-08-01</td>\n",
       "      <td>A</td>\n",
       "      <td>19</td>\n",
       "      <td>142779</td>\n",
       "      <td>7514.68</td>\n",
       "      <td>719</td>\n",
       "      <td>0.026426</td>\n",
       "    </tr>\n",
       "    <tr>\n",
       "      <th>1</th>\n",
       "      <td>2019-08-01</td>\n",
       "      <td>B</td>\n",
       "      <td>17</td>\n",
       "      <td>59758</td>\n",
       "      <td>3515.18</td>\n",
       "      <td>713</td>\n",
       "      <td>0.023843</td>\n",
       "    </tr>\n",
       "    <tr>\n",
       "      <th>2</th>\n",
       "      <td>2019-08-02</td>\n",
       "      <td>A</td>\n",
       "      <td>36</td>\n",
       "      <td>234381</td>\n",
       "      <td>6510.58</td>\n",
       "      <td>1338</td>\n",
       "      <td>0.026906</td>\n",
       "    </tr>\n",
       "    <tr>\n",
       "      <th>3</th>\n",
       "      <td>2019-08-02</td>\n",
       "      <td>B</td>\n",
       "      <td>39</td>\n",
       "      <td>221801</td>\n",
       "      <td>5687.21</td>\n",
       "      <td>1294</td>\n",
       "      <td>0.030139</td>\n",
       "    </tr>\n",
       "    <tr>\n",
       "      <th>4</th>\n",
       "      <td>2019-08-03</td>\n",
       "      <td>A</td>\n",
       "      <td>60</td>\n",
       "      <td>346854</td>\n",
       "      <td>5780.90</td>\n",
       "      <td>1845</td>\n",
       "      <td>0.032520</td>\n",
       "    </tr>\n",
       "  </tbody>\n",
       "</table>\n",
       "</div>"
      ],
      "text/plain": [
       "        date group  orders  revenue  average  visitors  conversion\n",
       "0 2019-08-01     A      19   142779  7514.68       719    0.026426\n",
       "1 2019-08-01     B      17    59758  3515.18       713    0.023843\n",
       "2 2019-08-02     A      36   234381  6510.58      1338    0.026906\n",
       "3 2019-08-02     B      39   221801  5687.21      1294    0.030139\n",
       "4 2019-08-03     A      60   346854  5780.90      1845    0.032520"
      ]
     },
     "execution_count": 25,
     "metadata": {},
     "output_type": "execute_result"
    }
   ],
   "source": [
    "data_orders_and_visitors_agg = data_orders_agg.merge (data_visitors_agg, on = ['date', 'group'])\n",
    "data_orders_and_visitors_agg ['conversion'] = data_orders_and_visitors_agg ['orders'] / data_orders_and_visitors_agg ['visitors']\n",
    "data_orders_and_visitors_agg.head()"
   ]
  },
  {
   "cell_type": "code",
   "execution_count": 26,
   "metadata": {},
   "outputs": [
    {
     "data": {
      "image/png": "[encoded data removed]"
     },
     "metadata": {},
     "output_type": "display_data"
    }
   ],
   "source": [
    "fig_line (data_orders_and_visitors_agg, 'date', 'conversion', 'group', 'График кумулятивной конверсии по группам и дням')"
   ]
  },
  {
   "cell_type": "code",
   "execution_count": 27,
   "metadata": {},
   "outputs": [
    {
     "data": {
      "image/png": "[encoded data removed]"
     },
     "metadata": {},
     "output_type": "display_data"
    }
   ],
   "source": [
    "fig_line (data_orders_and_visitors_agg, 'date', 'orders', 'group', 'График кумулятивного количества заказов по группам и дням')"
   ]
  },
  {
   "cell_type": "markdown",
   "metadata": {},
   "source": [
    "**Вывод:** В период с 5 по 10 августа конверсия групп практически равномерно удалялась друг от друга, однако, начиная с 11 августа конверсия группы \"B\" постепенно начала снижаться, достигнув значения в 31%, в то время как конверсия группы \"A\" выровнялась и колебалась в диапазоне от 26% до 28% в течение всего A\\B теста. Среднее количество заказов у группы \"B\" стабильно выше, чем у группы \"A\"."
   ]
  },
  {
   "cell_type": "markdown",
   "metadata": {},
   "source": [
    "<a id=\"2.6\"></a>\n",
    "### Расчёт относительного изменения кумулятивной конверсии группы \"B\" к группе \"A\""
   ]
  },
  {
   "cell_type": "markdown",
   "metadata": {},
   "source": [
    "Рассчитаем относительную конверсию по аналогии с относительной средней выручкой."
   ]
  },
  {
   "cell_type": "code",
   "execution_count": 28,
   "metadata": {},
   "outputs": [
    {
     "data": {
      "text/html": [
       "<div>\n",
       "<style scoped>\n",
       "    .dataframe tbody tr th:only-of-type {\n",
       "        vertical-align: middle;\n",
       "    }\n",
       "\n",
       "    .dataframe tbody tr th {\n",
       "        vertical-align: top;\n",
       "    }\n",
       "\n",
       "    .dataframe thead th {\n",
       "        text-align: right;\n",
       "    }\n",
       "</style>\n",
       "<table border=\"1\" class=\"dataframe\">\n",
       "  <thead>\n",
       "    <tr style=\"text-align: right;\">\n",
       "      <th></th>\n",
       "      <th>date</th>\n",
       "      <th>group_a</th>\n",
       "      <th>orders_a</th>\n",
       "      <th>revenue_a</th>\n",
       "      <th>average_a</th>\n",
       "      <th>visitors_a</th>\n",
       "      <th>conversion_a</th>\n",
       "      <th>group_b</th>\n",
       "      <th>orders_b</th>\n",
       "      <th>revenue_b</th>\n",
       "      <th>average_b</th>\n",
       "      <th>visitors_b</th>\n",
       "      <th>conversion_b</th>\n",
       "      <th>relative_conversion</th>\n",
       "      <th>relative_orders</th>\n",
       "    </tr>\n",
       "  </thead>\n",
       "  <tbody>\n",
       "    <tr>\n",
       "      <th>0</th>\n",
       "      <td>2019-08-01</td>\n",
       "      <td>A</td>\n",
       "      <td>19</td>\n",
       "      <td>142779</td>\n",
       "      <td>7514.68</td>\n",
       "      <td>719</td>\n",
       "      <td>0.026426</td>\n",
       "      <td>B</td>\n",
       "      <td>17</td>\n",
       "      <td>59758</td>\n",
       "      <td>3515.18</td>\n",
       "      <td>713</td>\n",
       "      <td>0.023843</td>\n",
       "      <td>-0.097734</td>\n",
       "      <td>-0.105263</td>\n",
       "    </tr>\n",
       "    <tr>\n",
       "      <th>1</th>\n",
       "      <td>2019-08-02</td>\n",
       "      <td>A</td>\n",
       "      <td>36</td>\n",
       "      <td>234381</td>\n",
       "      <td>6510.58</td>\n",
       "      <td>1338</td>\n",
       "      <td>0.026906</td>\n",
       "      <td>B</td>\n",
       "      <td>39</td>\n",
       "      <td>221801</td>\n",
       "      <td>5687.21</td>\n",
       "      <td>1294</td>\n",
       "      <td>0.030139</td>\n",
       "      <td>0.120170</td>\n",
       "      <td>0.083333</td>\n",
       "    </tr>\n",
       "    <tr>\n",
       "      <th>2</th>\n",
       "      <td>2019-08-03</td>\n",
       "      <td>A</td>\n",
       "      <td>60</td>\n",
       "      <td>346854</td>\n",
       "      <td>5780.90</td>\n",
       "      <td>1845</td>\n",
       "      <td>0.032520</td>\n",
       "      <td>B</td>\n",
       "      <td>53</td>\n",
       "      <td>288850</td>\n",
       "      <td>5450.00</td>\n",
       "      <td>1803</td>\n",
       "      <td>0.029395</td>\n",
       "      <td>-0.096090</td>\n",
       "      <td>-0.116667</td>\n",
       "    </tr>\n",
       "    <tr>\n",
       "      <th>3</th>\n",
       "      <td>2019-08-04</td>\n",
       "      <td>A</td>\n",
       "      <td>71</td>\n",
       "      <td>388030</td>\n",
       "      <td>5465.21</td>\n",
       "      <td>2562</td>\n",
       "      <td>0.027713</td>\n",
       "      <td>B</td>\n",
       "      <td>66</td>\n",
       "      <td>385740</td>\n",
       "      <td>5844.55</td>\n",
       "      <td>2573</td>\n",
       "      <td>0.025651</td>\n",
       "      <td>-0.074397</td>\n",
       "      <td>-0.070423</td>\n",
       "    </tr>\n",
       "    <tr>\n",
       "      <th>4</th>\n",
       "      <td>2019-08-05</td>\n",
       "      <td>A</td>\n",
       "      <td>92</td>\n",
       "      <td>474413</td>\n",
       "      <td>5156.66</td>\n",
       "      <td>3318</td>\n",
       "      <td>0.027728</td>\n",
       "      <td>B</td>\n",
       "      <td>87</td>\n",
       "      <td>475648</td>\n",
       "      <td>5467.22</td>\n",
       "      <td>3280</td>\n",
       "      <td>0.026524</td>\n",
       "      <td>-0.043392</td>\n",
       "      <td>-0.054348</td>\n",
       "    </tr>\n",
       "  </tbody>\n",
       "</table>\n",
       "</div>"
      ],
      "text/plain": [
       "        date group_a  orders_a  revenue_a  average_a  visitors_a  \\\n",
       "0 2019-08-01       A        19     142779    7514.68         719   \n",
       "1 2019-08-02       A        36     234381    6510.58        1338   \n",
       "2 2019-08-03       A        60     346854    5780.90        1845   \n",
       "3 2019-08-04       A        71     388030    5465.21        2562   \n",
       "4 2019-08-05       A        92     474413    5156.66        3318   \n",
       "\n",
       "   conversion_a group_b  orders_b  revenue_b  average_b  visitors_b  \\\n",
       "0      0.026426       B        17      59758    3515.18         713   \n",
       "1      0.026906       B        39     221801    5687.21        1294   \n",
       "2      0.032520       B        53     288850    5450.00        1803   \n",
       "3      0.027713       B        66     385740    5844.55        2573   \n",
       "4      0.027728       B        87     475648    5467.22        3280   \n",
       "\n",
       "   conversion_b  relative_conversion  relative_orders  \n",
       "0      0.023843            -0.097734        -0.105263  \n",
       "1      0.030139             0.120170         0.083333  \n",
       "2      0.029395            -0.096090        -0.116667  \n",
       "3      0.025651            -0.074397        -0.070423  \n",
       "4      0.026524            -0.043392        -0.054348  "
      ]
     },
     "execution_count": 28,
     "metadata": {},
     "output_type": "execute_result"
    }
   ],
   "source": [
    "data_orders_and_visitors_agg_A = data_orders_and_visitors_agg.query ('group == \"A\"')\n",
    "data_orders_and_visitors_agg_B = data_orders_and_visitors_agg.query ('group == \"B\"')\n",
    "data_orders_and_visitors_agg_merge = data_orders_and_visitors_agg_A.merge (data_orders_and_visitors_agg_B, on = 'date', suffixes = ['_a', '_b'])\n",
    "data_orders_and_visitors_agg_merge ['relative_conversion'] = (data_orders_and_visitors_agg_merge ['conversion_b'] / data_orders_and_visitors_agg_merge ['conversion_a']) - 1\n",
    "data_orders_and_visitors_agg_merge ['relative_orders'] = (data_orders_and_visitors_agg_merge ['orders_b'] / data_orders_and_visitors_agg_merge ['orders_a']) - 1\n",
    "data_orders_and_visitors_agg_merge.head()"
   ]
  },
  {
   "cell_type": "markdown",
   "metadata": {},
   "source": [
    "Построим графики."
   ]
  },
  {
   "cell_type": "code",
   "execution_count": 29,
   "metadata": {},
   "outputs": [
    {
     "data": {
      "image/png": "[encoded data removed]"
     },
     "metadata": {},
     "output_type": "display_data"
    }
   ],
   "source": [
    "fig_line_average (data_orders_and_visitors_agg_merge, 'date', 'relative_conversion', 'График относительного изменения кумулятивной конверсии группы \"B\" к группе \"A\"')"
   ]
  },
  {
   "cell_type": "code",
   "execution_count": 30,
   "metadata": {},
   "outputs": [
    {
     "data": {
      "image/png": "[encoded data removed]"
     },
     "metadata": {},
     "output_type": "display_data"
    }
   ],
   "source": [
    "fig_line_average (data_orders_and_visitors_agg_merge, 'date', 'relative_orders', 'График относительного изменения кумулятивного количества заказов группы \"B\" к группе \"A\"')"
   ]
  },
  {
   "cell_type": "markdown",
   "metadata": {},
   "source": [
    "**Вывод:** Графики динамики конверсии и количества заказов идентичны. Судя по графику, первую половину проведения теста конверсия группы \"B\" стремительно росла по отношению к конверсии группы \"A\", однако, после 17 августа начала постепенно снижаться. В последние три дня проведения теста снова появилась положительная динамика. В целом, по динамике относительных значений конверсии сложно сделать выводы об успешности той или иной группы. Следует проверить аномалии в значениях."
   ]
  },
  {
   "cell_type": "markdown",
   "metadata": {},
   "source": [
    "<a id=\"2.7\"></a>\n",
    "### Точечный график количества заказов по пользователям"
   ]
  },
  {
   "cell_type": "code",
   "execution_count": 31,
   "metadata": {
    "scrolled": false
   },
   "outputs": [
    {
     "data": {
      "image/png": "[encoded data removed]"
     },
     "metadata": {},
     "output_type": "display_data"
    }
   ],
   "source": [
    "data_order_by_users = data_orders.groupby ('visitor_id', as_index = False) \\\n",
    "                                 .agg ({'transaction_id': 'nunique'})\n",
    "\n",
    "x_values = pd.Series (range (0, len (data_order_by_users)))\n",
    "fig = px.scatter (x = x_values,\n",
    "                  y = data_order_by_users ['transaction_id'],\n",
    "                  title = 'Точечный график количества заказов по пользователям',\n",
    "                  height = 600,\n",
    "                  width = 1000)\n",
    "fig.show ('png')"
   ]
  },
  {
   "cell_type": "markdown",
   "metadata": {},
   "source": [
    "**Вывод:** В основном на одного пользователя приходится по одному заказу, однако, есть довольно много пользователей у которых по 2-3 заказа. Совсем редкие значения - от 4 до 11 заказов. Чтобы определить, какое количество заказов считать выбросами, нужно рассчитать выборочные перцентили количества заказов на одного пользователя."
   ]
  },
  {
   "cell_type": "markdown",
   "metadata": {},
   "source": [
    "<a id=\"2.8\"></a>\n",
    "### Выбор границы для определения аномальных пользователей"
   ]
  },
  {
   "cell_type": "code",
   "execution_count": 32,
   "metadata": {},
   "outputs": [
    {
     "name": "stdout",
     "output_type": "stream",
     "text": [
      "[1. 2.]\n"
     ]
    }
   ],
   "source": [
    "print (np.percentile (data_order_by_users ['transaction_id'], [95, 99]))"
   ]
  },
  {
   "cell_type": "markdown",
   "metadata": {},
   "source": [
    "Не более 5% пользователей оформляли больше, чем 2 заказа, и не более 1% пользователей - более 4 заказов. За верхнюю границу числа заказов на одного пользователя примем значение в 2 заказа. Пользователей, оформивших 3 и более заказов, следует отсеять для даьнейшего анализа."
   ]
  },
  {
   "cell_type": "markdown",
   "metadata": {},
   "source": [
    "<a id=\"2.9\"></a>\n",
    "### Точечный график стоимостей заказов"
   ]
  },
  {
   "cell_type": "code",
   "execution_count": 33,
   "metadata": {},
   "outputs": [
    {
     "data": {
      "image/png": "[encoded data removed]"
     },
     "metadata": {},
     "output_type": "display_data"
    }
   ],
   "source": [
    "x_values = pd.Series (range (0, len (data_orders)))\n",
    "fig = px.scatter (x = x_values,\n",
    "                  y = data_orders ['revenue'],\n",
    "                  title = 'Точечный график стоимостей заказов',\n",
    "                  height = 600,\n",
    "                  width = 1000)\n",
    "fig.show ('png')"
   ]
  },
  {
   "cell_type": "markdown",
   "metadata": {},
   "source": [
    "**Вывод:** Один заказ, стоимостью почти 1.3 миллиона рублей сильно искажает результаты исследования. От такого значения точно следует избавиться, однако, стоит проверить перцентили стоимости заказов для наиболее корректного отсечения выборосов."
   ]
  },
  {
   "cell_type": "code",
   "execution_count": 34,
   "metadata": {},
   "outputs": [
    {
     "data": {
      "image/png": "[encoded data removed]"
     },
     "metadata": {},
     "output_type": "display_data"
    }
   ],
   "source": [
    "data_orders_no_emissions = data_orders.query ('revenue < 200000')\n",
    "x_values = pd.Series (range (0, len (data_orders_no_emissions)))\n",
    "fig = px.scatter (x = x_values,\n",
    "                  y = data_orders_no_emissions ['revenue'],\n",
    "                  title = 'Точечный график стоимостей заказов без критичных выбросов',\n",
    "                  height = 600,\n",
    "                  width = 1000)\n",
    "fig.show ('png')"
   ]
  },
  {
   "cell_type": "markdown",
   "metadata": {},
   "source": [
    "**Вывод:** Значения распределены равномерно. Чем выше стоимость заказа, тем реже встречаются значения. Основная масса заказов находится в пределах стоимости до 20 тыс. руб."
   ]
  },
  {
   "cell_type": "markdown",
   "metadata": {},
   "source": [
    "<a id=\"2.10\"></a>\n",
    "### Выбор границы для определения аномальных заказов"
   ]
  },
  {
   "cell_type": "code",
   "execution_count": 35,
   "metadata": {},
   "outputs": [
    {
     "name": "stdout",
     "output_type": "stream",
     "text": [
      "[26785. 53904.]\n"
     ]
    }
   ],
   "source": [
    "print (np.percentile (data_orders ['revenue'], [95, 99]))"
   ]
  },
  {
   "cell_type": "markdown",
   "metadata": {},
   "source": [
    "**Вывод:** Не более 5% заказов имеют стоимость выше 28 тысяч рублей, и не более 1% заказов - выше 58233 руб. Возьмём границу в 28 тысяч рублей, выше которой все значения будем считать аномальными."
   ]
  },
  {
   "cell_type": "markdown",
   "metadata": {},
   "source": [
    "<a id=\"2.11\"></a>\n",
    "### Расчёт статистической значимости различий в среднем количестве заказов  между группами по «сырым» данным"
   ]
  },
  {
   "cell_type": "markdown",
   "metadata": {},
   "source": [
    "Создадим переменные `orders_by_users_a` и `orders_by_users_b`, в которых будут указаны пользователи, имеющие хотя бы один заказ и число заказов у каждого из пользователей."
   ]
  },
  {
   "cell_type": "code",
   "execution_count": 36,
   "metadata": {},
   "outputs": [],
   "source": [
    "orders_by_users_a = data_orders.query ('group == \"A\"') \\\n",
    "                               .groupby ('visitor_id', as_index = False) \\\n",
    "                               .agg ({'transaction_id': 'nunique'})\n",
    "\n",
    "orders_by_users_b = data_orders.query ('group == \"B\"') \\\n",
    "                               .groupby ('visitor_id', as_index = False) \\\n",
    "                               .agg ({'transaction_id': 'nunique'})\n",
    "\n",
    "for i in [orders_by_users_a, orders_by_users_b]:\n",
    "     i.columns = ['user_id', 'orders']"
   ]
  },
  {
   "cell_type": "markdown",
   "metadata": {},
   "source": [
    "Объявим переменные `sample_a` и `sample_b`, в которых пользователям из разных групп будет соответствовать количество заказов. Тем, кто ничего не заказал, будут соответствовать нули. "
   ]
  },
  {
   "cell_type": "code",
   "execution_count": 37,
   "metadata": {},
   "outputs": [],
   "source": [
    "sample_a = pd.concat ([orders_by_users_a ['orders'],\n",
    "                       pd.Series (0, index = np.arange (data_visitors.query ('group == \"A\"')['visitors'].sum() - len (orders_by_users_a ['orders'])), name = 'orders')], axis = 0)\n",
    "sample_b = pd.concat ([orders_by_users_b ['orders'],\n",
    "                       pd.Series (0, index = np.arange (data_visitors.query ('group == \"B\"')['visitors'].sum() - len (orders_by_users_b ['orders'])), name = 'orders')], axis = 0)"
   ]
  },
  {
   "cell_type": "markdown",
   "metadata": {},
   "source": [
    "За нулевую гипотезу примем тот факт, что статистически значимых различий в среднем числе заказов между группами нет. Альтернативной гипотезой будет наличие статистически значимых различий между группами в среднем числе заказов.\n",
    "\n",
    "Поскольку в наших данных имеются большие по сравнению с нормальным распределением выбросы, лучше всего будет применить непараметрический тест Уилкоксона-Манна-Уитни. Критический уровень статистической значимости установим равным 0.05. Выведем относительный прирост среднего числа заказов группы \"B\" к группе \"A\"."
   ]
  },
  {
   "cell_type": "code",
   "execution_count": 38,
   "metadata": {},
   "outputs": [
    {
     "name": "stdout",
     "output_type": "stream",
     "text": [
      "p-value: 0.011\n",
      "Разница в среднем чеке между сегментами: 0.160\n"
     ]
    }
   ],
   "source": [
    "print ('p-value:', '{0:.3f}'.format (stats.mannwhitneyu (sample_a, sample_b)[1]))\n",
    "print ('Разница в среднем чеке между сегментами:','{0:.3f}'.format (sample_b.mean() / sample_a.mean() - 1))"
   ]
  },
  {
   "cell_type": "markdown",
   "metadata": {},
   "source": [
    "Найдём тажке данные о количестве заказов в изначальном датасете `data_orders`."
   ]
  },
  {
   "cell_type": "code",
   "execution_count": 39,
   "metadata": {},
   "outputs": [
    {
     "data": {
      "text/plain": [
       "group\n",
       "A    468\n",
       "B    548\n",
       "Name: transaction_id, dtype: int64"
      ]
     },
     "execution_count": 39,
     "metadata": {},
     "output_type": "execute_result"
    }
   ],
   "source": [
    "data_orders.groupby ('group')['transaction_id'].count()"
   ]
  },
  {
   "cell_type": "markdown",
   "metadata": {},
   "source": [
    "**Вывод:** Значение p-value = 0.017, оно меньше принятого стандарта 0.05, в связи с чем можно сделать вывод о наличии статистически значимых различиях между группами \"A\" и \"B\" в среднем числе заказов. Нулевую гипотезу можно отвергнуть. Относительное отклонение среднего числа заказов группы \"B\" по отношению к группе \"A\" - 13.8%."
   ]
  },
  {
   "cell_type": "markdown",
   "metadata": {},
   "source": [
    "<a id=\"2.12\"></a>\n",
    "### Расчёт статистической значимости различий в среднем чеке заказа между группами по «сырым» данным"
   ]
  },
  {
   "cell_type": "markdown",
   "metadata": {},
   "source": [
    "Чтобы рассчитать статистическую значимость различий в среднем чеке, передадим критерию mannwhitneyu() данные о выручке с заказов. Нулевая гипотеза: различий в среднем чеке между группами нет. Альтернативная гипотеза: различия в среднем чеке между группами есть."
   ]
  },
  {
   "cell_type": "code",
   "execution_count": 40,
   "metadata": {},
   "outputs": [
    {
     "name": "stdout",
     "output_type": "stream",
     "text": [
      "p-value: 0.829\n",
      "Разница в среднем чеке между сегментами: 0.287\n"
     ]
    }
   ],
   "source": [
    "print ('p-value:', '{0:.3f}'.format (stats.mannwhitneyu (data_orders.query ('group == \"A\"')['revenue'],\n",
    "                                             data_orders.query ('group == \"B\"')['revenue'])[1]))\n",
    "print ('Разница в среднем чеке между сегментами:', '{0:.3f}'.format (data_orders.query ('group == \"B\"')['revenue'].mean() / data_orders.query ('group == \"A\"')['revenue'].mean() - 1))"
   ]
  },
  {
   "cell_type": "markdown",
   "metadata": {},
   "source": [
    "**Вывод:** Значение p-value = 0.829 - это значительно больше 5%. Нулевую гипотезу, предполагающую отсутствие статистически значимых различий между средним чеком в обеих группах, отвергнуть нельзя. Однако, разница в среднем чеке между сегментамии увеличилась с 16% до 28%."
   ]
  },
  {
   "cell_type": "markdown",
   "metadata": {},
   "source": [
    "<a id=\"2.13\"></a>\n",
    "### Расчёт статистической значимости различий в среднем количестве заказов между группами по «очищенным» данным"
   ]
  },
  {
   "cell_type": "markdown",
   "metadata": {},
   "source": [
    "За \"очищенные\" данные по количеству заказов примем пользователей, у которых не более 2 заказов, по среднему чеку - сумма которых не более 28 тыс. руб."
   ]
  },
  {
   "cell_type": "code",
   "execution_count": 41,
   "metadata": {},
   "outputs": [
    {
     "data": {
      "text/plain": [
       "(55,)"
      ]
     },
     "execution_count": 41,
     "metadata": {},
     "output_type": "execute_result"
    }
   ],
   "source": [
    "abnormal_users = pd.concat ([orders_by_users_a.query ('orders > 2')['user_id'],\n",
    "                             orders_by_users_b.query ('orders > 2')['user_id']], axis = 0)\n",
    "abnormal_orders = data_orders.query ('revenue > 28000')['visitor_id']\n",
    "abnormal_data = (pd.concat ([abnormal_users, abnormal_orders], axis = 0).drop_duplicates().sort_values())\n",
    "abnormal_data.shape"
   ]
  },
  {
   "cell_type": "markdown",
   "metadata": {},
   "source": [
    "74 пользователя из всего датасета имеют более 2 заказов, либо сумму заказов более 28 тыс. руб. Посчитаем статистическую значимость различий в среднем количестве заказов между группами теста по очищенным данным."
   ]
  },
  {
   "cell_type": "code",
   "execution_count": 42,
   "metadata": {},
   "outputs": [
    {
     "name": "stdout",
     "output_type": "stream",
     "text": [
      "0.009\n",
      "0.189\n"
     ]
    }
   ],
   "source": [
    "sample_a_clean = pd.concat ([orders_by_users_a [np.logical_not (orders_by_users_a ['user_id'].isin (abnormal_data))]['orders'],\n",
    "                             pd.Series (0, index = np.arange (data_visitors.query ('group == \"A\"')['visitors'].sum() - len (orders_by_users_a ['orders'])), name = 'orders')], axis = 0)\n",
    "\n",
    "sample_b_clean = pd.concat ([orders_by_users_b [np.logical_not (orders_by_users_b ['user_id'].isin (abnormal_data))]['orders'],\n",
    "                             pd.Series (0, index = np.arange (data_visitors.query ('group == \"B\"')['visitors'].sum() - len (orders_by_users_b ['orders'])), name = 'orders')], axis = 0)\n",
    "\n",
    "print ('{0:.3f}'.format (stats.mannwhitneyu (sample_a_clean, sample_b_clean)[1]))\n",
    "print ('{0:.3f}'.format (sample_b_clean.mean() / sample_a_clean.mean() - 1))"
   ]
  },
  {
   "cell_type": "markdown",
   "metadata": {},
   "source": [
    "**Вывод:** Значение p-value = 0.013, оно меньше принятого стандарта 0.05. Результаты практически не изменились по сравнению с расчётом по \"сырым\" данным. Нулевую гипотезу можно отвергнуть."
   ]
  },
  {
   "cell_type": "markdown",
   "metadata": {},
   "source": [
    "<a id=\"2.14\"></a>\n",
    "### Расчёт статистической значимости различий в среднем чеке заказа между группами по «очищенным» данным"
   ]
  },
  {
   "cell_type": "code",
   "execution_count": 43,
   "metadata": {},
   "outputs": [
    {
     "name": "stdout",
     "output_type": "stream",
     "text": [
      "0.762\n",
      "-0.022\n"
     ]
    }
   ],
   "source": [
    "print ('{0:.3f}'.format (stats.mannwhitneyu (data_orders [np.logical_and (data_orders ['group'] == 'A',\n",
    "                                                                          np.logical_not (data_orders ['visitor_id'].isin (abnormal_data)))]['revenue'],\n",
    "                                             data_orders [np.logical_and (data_orders ['group'] == 'B',\n",
    "                                                                          np.logical_not (data_orders ['visitor_id'].isin(abnormal_data)))]['revenue'])[1]))\n",
    "\n",
    "print('{0:.3f}'.format (data_orders [np.logical_and (data_orders ['group'] == 'B',\n",
    "                                                     np.logical_not (data_orders ['visitor_id'].isin (abnormal_data)))]['revenue'].mean() / data_orders [np.logical_and (data_orders ['group'] == 'A',\n",
    "                                                     np.logical_not (data_orders['visitor_id'].isin (abnormal_data)))]['revenue'].mean() - 1))"
   ]
  },
  {
   "cell_type": "markdown",
   "metadata": {},
   "source": [
    "**Вывод:** Вывод: p-value незначительно увеличился по сравнению с p-value по \"сырым\" данным, а разница между сегментами значительно изменилась. Поскольку p-value значительно выше 0.05, оставляем нулевую гипотезу (значительной разницы между средними чеками нет)."
   ]
  },
  {
   "cell_type": "markdown",
   "metadata": {},
   "source": [
    "<a id=\"3\"></a>\n",
    "## Общий вывод"
   ]
  },
  {
   "cell_type": "markdown",
   "metadata": {},
   "source": [
    "Значительно разницы между средними чеками по \"очищенным\" данным между группами нет - это говорит об однородности пользователей в обеих группах. Однако, анализ A\\B теста показал, что есть статистически значимые различия между группами \"A\" и \"B\" в среднем количестве заказов. По сырым данным, без удаления выбросов, пользователи группы \"B\" оформили на 80 заказов больше, чем пользователи группы \"A\".\n",
    "\n",
    "В данных было два особо крупных значения выручки, которые превышали 200 тыс руб, и не более 5% пользователей совершали покупки, стоимостью более 28 тыс. руб. - такие значения в рамках данного A\\B теста мы приняли выбросами. Также следует отметить наличие ошибок при проведении A\\B теста, а именно, присутсвие одних и тех же пользователей в обеих группах - 58 человек, от покупок этих пользователей также было решено избавиться для корректности выводов.\n",
    "\n",
    "A\\B тест можно остановить, зафиксировав победу группы \"B\"."
   ]
  }
 ],
 "metadata": {
  "ExecuteTimeLog": [
   {
    "duration": 464,
    "start_time": "2022-11-02T08:27:38.235Z"
   },
   {
    "duration": 109,
    "start_time": "2022-11-02T08:29:15.044Z"
   },
   {
    "duration": 75,
    "start_time": "2022-11-02T08:29:33.065Z"
   },
   {
    "duration": 29,
    "start_time": "2022-11-02T08:29:49.512Z"
   },
   {
    "duration": 34,
    "start_time": "2022-11-02T08:30:02.707Z"
   },
   {
    "duration": 14,
    "start_time": "2022-11-02T08:43:21.397Z"
   },
   {
    "duration": 13,
    "start_time": "2022-11-02T08:44:06.397Z"
   },
   {
    "duration": 14,
    "start_time": "2022-11-02T08:46:57.267Z"
   },
   {
    "duration": 27,
    "start_time": "2022-11-02T08:51:08.653Z"
   },
   {
    "duration": 24,
    "start_time": "2022-11-02T08:52:00.315Z"
   },
   {
    "duration": 18,
    "start_time": "2022-11-02T08:52:10.257Z"
   },
   {
    "duration": 177,
    "start_time": "2022-11-02T09:05:01.657Z"
   },
   {
    "duration": 75,
    "start_time": "2022-11-02T09:06:35.574Z"
   },
   {
    "duration": 76,
    "start_time": "2022-11-02T09:06:54.497Z"
   },
   {
    "duration": 6,
    "start_time": "2022-11-02T09:16:42.455Z"
   },
   {
    "duration": 82,
    "start_time": "2022-11-02T09:18:42.020Z"
   },
   {
    "duration": 4,
    "start_time": "2022-11-02T09:18:48.423Z"
   },
   {
    "duration": 14,
    "start_time": "2022-11-02T09:18:50.507Z"
   },
   {
    "duration": 7,
    "start_time": "2022-11-02T09:20:58.461Z"
   },
   {
    "duration": 10,
    "start_time": "2022-11-02T09:21:11.188Z"
   },
   {
    "duration": 14,
    "start_time": "2022-11-02T09:21:45.111Z"
   },
   {
    "duration": 18,
    "start_time": "2022-11-02T09:22:26.334Z"
   },
   {
    "duration": 16,
    "start_time": "2022-11-02T09:22:44.811Z"
   },
   {
    "duration": 35,
    "start_time": "2022-11-02T09:23:20.675Z"
   },
   {
    "duration": 31,
    "start_time": "2022-11-02T09:23:41.922Z"
   },
   {
    "duration": 14,
    "start_time": "2022-11-02T09:24:15.151Z"
   },
   {
    "duration": 18,
    "start_time": "2022-11-02T09:24:58.393Z"
   },
   {
    "duration": 17,
    "start_time": "2022-11-02T09:25:07.514Z"
   },
   {
    "duration": 11,
    "start_time": "2022-11-02T09:25:31.360Z"
   },
   {
    "duration": 11,
    "start_time": "2022-11-02T09:25:40.828Z"
   },
   {
    "duration": 15,
    "start_time": "2022-11-02T09:25:54.662Z"
   },
   {
    "duration": 23,
    "start_time": "2022-11-02T09:26:23.764Z"
   },
   {
    "duration": 11,
    "start_time": "2022-11-02T09:26:29.088Z"
   },
   {
    "duration": 12,
    "start_time": "2022-11-02T09:30:28.279Z"
   },
   {
    "duration": 4,
    "start_time": "2022-11-02T09:30:34.852Z"
   },
   {
    "duration": 9,
    "start_time": "2022-11-02T09:32:34.279Z"
   },
   {
    "duration": 9,
    "start_time": "2022-11-02T09:33:30.246Z"
   },
   {
    "duration": 9,
    "start_time": "2022-11-02T09:34:57.723Z"
   },
   {
    "duration": 9,
    "start_time": "2022-11-02T09:36:40.328Z"
   },
   {
    "duration": 10,
    "start_time": "2022-11-02T09:38:06.699Z"
   },
   {
    "duration": 9,
    "start_time": "2022-11-02T09:38:14.485Z"
   },
   {
    "duration": 8,
    "start_time": "2022-11-02T09:43:57.995Z"
   },
   {
    "duration": 8,
    "start_time": "2022-11-02T09:44:07.567Z"
   },
   {
    "duration": 5,
    "start_time": "2022-11-02T09:48:19.492Z"
   },
   {
    "duration": 6,
    "start_time": "2022-11-02T09:48:24.885Z"
   },
   {
    "duration": 58,
    "start_time": "2022-11-02T09:48:58.820Z"
   },
   {
    "duration": 392,
    "start_time": "2022-11-06T09:08:29.772Z"
   },
   {
    "duration": 84,
    "start_time": "2022-11-06T09:08:30.166Z"
   },
   {
    "duration": 17,
    "start_time": "2022-11-06T09:08:30.252Z"
   },
   {
    "duration": 163,
    "start_time": "2022-11-06T09:08:30.271Z"
   },
   {
    "duration": 5,
    "start_time": "2022-11-06T09:08:30.436Z"
   },
   {
    "duration": 22,
    "start_time": "2022-11-06T09:08:30.442Z"
   },
   {
    "duration": 39,
    "start_time": "2022-11-06T09:08:30.466Z"
   },
   {
    "duration": 26,
    "start_time": "2022-11-06T09:08:30.507Z"
   },
   {
    "duration": 32,
    "start_time": "2022-11-06T09:08:30.535Z"
   },
   {
    "duration": 26,
    "start_time": "2022-11-06T09:08:30.569Z"
   },
   {
    "duration": 29,
    "start_time": "2022-11-06T09:08:30.597Z"
   },
   {
    "duration": 11,
    "start_time": "2022-11-06T09:16:21.285Z"
   },
   {
    "duration": 10,
    "start_time": "2022-11-06T09:17:02.335Z"
   },
   {
    "duration": 14,
    "start_time": "2022-11-06T09:17:13.289Z"
   },
   {
    "duration": 5,
    "start_time": "2022-11-06T09:18:02.018Z"
   },
   {
    "duration": 64,
    "start_time": "2022-11-06T09:20:23.746Z"
   },
   {
    "duration": 3,
    "start_time": "2022-11-06T09:20:39.121Z"
   },
   {
    "duration": 7,
    "start_time": "2022-11-06T09:20:43.077Z"
   },
   {
    "duration": 10,
    "start_time": "2022-11-06T09:21:38.444Z"
   },
   {
    "duration": 10,
    "start_time": "2022-11-06T09:23:48.769Z"
   },
   {
    "duration": 143,
    "start_time": "2022-11-06T09:29:36.265Z"
   },
   {
    "duration": 70,
    "start_time": "2022-11-06T09:31:17.217Z"
   },
   {
    "duration": 146,
    "start_time": "2022-11-06T09:32:06.134Z"
   },
   {
    "duration": 182,
    "start_time": "2022-11-06T09:34:27.683Z"
   },
   {
    "duration": 384,
    "start_time": "2022-11-06T09:40:01.785Z"
   },
   {
    "duration": 54,
    "start_time": "2022-11-06T09:52:23.355Z"
   },
   {
    "duration": 9,
    "start_time": "2022-11-06T09:52:29.056Z"
   },
   {
    "duration": 9,
    "start_time": "2022-11-06T09:52:45.481Z"
   },
   {
    "duration": 49,
    "start_time": "2022-11-06T09:55:11.284Z"
   },
   {
    "duration": 54,
    "start_time": "2022-11-06T10:04:01.843Z"
   },
   {
    "duration": 47,
    "start_time": "2022-11-06T10:05:51.885Z"
   },
   {
    "duration": 9,
    "start_time": "2022-11-06T10:09:25.877Z"
   },
   {
    "duration": 11,
    "start_time": "2022-11-06T10:14:44.813Z"
   },
   {
    "duration": 13,
    "start_time": "2022-11-06T10:16:28.977Z"
   },
   {
    "duration": 10,
    "start_time": "2022-11-06T10:17:10.512Z"
   },
   {
    "duration": 22,
    "start_time": "2022-11-06T10:18:05.276Z"
   },
   {
    "duration": 18,
    "start_time": "2022-11-06T10:19:10.530Z"
   },
   {
    "duration": 18,
    "start_time": "2022-11-06T10:20:12.028Z"
   },
   {
    "duration": 18,
    "start_time": "2022-11-06T10:20:23.970Z"
   },
   {
    "duration": 19,
    "start_time": "2022-11-06T10:21:47.634Z"
   },
   {
    "duration": 20,
    "start_time": "2022-11-06T10:25:25.343Z"
   },
   {
    "duration": 16,
    "start_time": "2022-11-06T10:25:41.324Z"
   },
   {
    "duration": 46,
    "start_time": "2022-11-06T10:27:42.910Z"
   },
   {
    "duration": 45,
    "start_time": "2022-11-06T10:28:12.241Z"
   },
   {
    "duration": 40,
    "start_time": "2022-11-06T10:29:26.663Z"
   },
   {
    "duration": 47,
    "start_time": "2022-11-06T10:30:51.505Z"
   },
   {
    "duration": 21,
    "start_time": "2022-11-06T10:32:59.595Z"
   },
   {
    "duration": 43,
    "start_time": "2022-11-06T10:33:03.737Z"
   },
   {
    "duration": 99,
    "start_time": "2022-11-06T10:33:31.260Z"
   },
   {
    "duration": 41,
    "start_time": "2022-11-06T10:34:09.652Z"
   },
   {
    "duration": 8,
    "start_time": "2022-11-06T10:45:51.812Z"
   },
   {
    "duration": 11,
    "start_time": "2022-11-06T10:46:02.651Z"
   },
   {
    "duration": 9,
    "start_time": "2022-11-06T10:46:16.923Z"
   },
   {
    "duration": 9,
    "start_time": "2022-11-06T10:46:56.017Z"
   },
   {
    "duration": 10,
    "start_time": "2022-11-06T10:47:02.752Z"
   },
   {
    "duration": 117,
    "start_time": "2022-11-06T10:50:40.036Z"
   },
   {
    "duration": 115,
    "start_time": "2022-11-06T10:51:32.814Z"
   },
   {
    "duration": 8,
    "start_time": "2022-11-06T10:52:20.436Z"
   },
   {
    "duration": 15,
    "start_time": "2022-11-06T10:53:57.828Z"
   },
   {
    "duration": 9,
    "start_time": "2022-11-06T10:54:24.192Z"
   },
   {
    "duration": 12,
    "start_time": "2022-11-06T10:54:26.999Z"
   },
   {
    "duration": 24,
    "start_time": "2022-11-06T10:54:34.417Z"
   },
   {
    "duration": 13,
    "start_time": "2022-11-06T10:54:41.415Z"
   },
   {
    "duration": 12,
    "start_time": "2022-11-06T10:56:55.056Z"
   },
   {
    "duration": 12,
    "start_time": "2022-11-06T10:57:06.338Z"
   },
   {
    "duration": 10,
    "start_time": "2022-11-06T10:57:32.699Z"
   },
   {
    "duration": 12,
    "start_time": "2022-11-06T10:57:44.535Z"
   },
   {
    "duration": 539,
    "start_time": "2022-11-06T10:58:44.367Z"
   },
   {
    "duration": 38,
    "start_time": "2022-11-06T10:58:44.908Z"
   },
   {
    "duration": 19,
    "start_time": "2022-11-06T10:58:44.948Z"
   },
   {
    "duration": 76,
    "start_time": "2022-11-06T10:58:44.969Z"
   },
   {
    "duration": 5,
    "start_time": "2022-11-06T10:58:45.047Z"
   },
   {
    "duration": 6,
    "start_time": "2022-11-06T10:58:45.054Z"
   },
   {
    "duration": 16,
    "start_time": "2022-11-06T10:58:45.061Z"
   },
   {
    "duration": 4,
    "start_time": "2022-11-06T10:58:45.078Z"
   },
   {
    "duration": 15,
    "start_time": "2022-11-06T10:58:45.083Z"
   },
   {
    "duration": 8,
    "start_time": "2022-11-06T10:58:45.100Z"
   },
   {
    "duration": 5,
    "start_time": "2022-11-06T10:58:45.109Z"
   },
   {
    "duration": 21,
    "start_time": "2022-11-06T10:58:45.116Z"
   },
   {
    "duration": 155,
    "start_time": "2022-11-06T10:58:45.139Z"
   },
   {
    "duration": 319,
    "start_time": "2022-11-06T10:58:45.296Z"
   },
   {
    "duration": 10,
    "start_time": "2022-11-06T10:58:45.617Z"
   },
   {
    "duration": 70,
    "start_time": "2022-11-06T10:58:45.628Z"
   },
   {
    "duration": 18,
    "start_time": "2022-11-06T10:58:45.700Z"
   },
   {
    "duration": 91,
    "start_time": "2022-11-06T10:58:45.720Z"
   },
   {
    "duration": 139,
    "start_time": "2022-11-06T10:58:45.812Z"
   },
   {
    "duration": 26,
    "start_time": "2022-11-06T10:58:45.952Z"
   },
   {
    "duration": 47,
    "start_time": "2022-11-06T11:02:35.012Z"
   },
   {
    "duration": 47,
    "start_time": "2022-11-06T11:02:59.371Z"
   },
   {
    "duration": 42,
    "start_time": "2022-11-06T11:05:09.749Z"
   },
   {
    "duration": 46,
    "start_time": "2022-11-06T11:06:10.647Z"
   },
   {
    "duration": 501,
    "start_time": "2022-11-06T11:06:20.885Z"
   },
   {
    "duration": 37,
    "start_time": "2022-11-06T11:06:21.388Z"
   },
   {
    "duration": 16,
    "start_time": "2022-11-06T11:06:21.426Z"
   },
   {
    "duration": 64,
    "start_time": "2022-11-06T11:06:21.444Z"
   },
   {
    "duration": 5,
    "start_time": "2022-11-06T11:06:21.509Z"
   },
   {
    "duration": 13,
    "start_time": "2022-11-06T11:06:21.515Z"
   },
   {
    "duration": 13,
    "start_time": "2022-11-06T11:06:21.529Z"
   },
   {
    "duration": 4,
    "start_time": "2022-11-06T11:06:21.543Z"
   },
   {
    "duration": 10,
    "start_time": "2022-11-06T11:06:21.548Z"
   },
   {
    "duration": 9,
    "start_time": "2022-11-06T11:06:21.560Z"
   },
   {
    "duration": 5,
    "start_time": "2022-11-06T11:06:21.571Z"
   },
   {
    "duration": 14,
    "start_time": "2022-11-06T11:06:21.577Z"
   },
   {
    "duration": 217,
    "start_time": "2022-11-06T11:06:21.592Z"
   },
   {
    "duration": 348,
    "start_time": "2022-11-06T11:06:21.811Z"
   },
   {
    "duration": 10,
    "start_time": "2022-11-06T11:06:22.161Z"
   },
   {
    "duration": 47,
    "start_time": "2022-11-06T11:06:22.172Z"
   },
   {
    "duration": 71,
    "start_time": "2022-11-06T11:06:22.221Z"
   },
   {
    "duration": 47,
    "start_time": "2022-11-06T11:06:22.293Z"
   },
   {
    "duration": 137,
    "start_time": "2022-11-06T11:06:22.342Z"
   },
   {
    "duration": 12,
    "start_time": "2022-11-06T11:06:22.480Z"
   },
   {
    "duration": 48,
    "start_time": "2022-11-06T11:06:22.494Z"
   },
   {
    "duration": 22,
    "start_time": "2022-11-06T11:18:40.354Z"
   },
   {
    "duration": 519,
    "start_time": "2022-11-06T11:19:35.250Z"
   },
   {
    "duration": 37,
    "start_time": "2022-11-06T11:19:35.771Z"
   },
   {
    "duration": 18,
    "start_time": "2022-11-06T11:19:35.809Z"
   },
   {
    "duration": 65,
    "start_time": "2022-11-06T11:19:35.828Z"
   },
   {
    "duration": 5,
    "start_time": "2022-11-06T11:19:35.895Z"
   },
   {
    "duration": 5,
    "start_time": "2022-11-06T11:19:35.902Z"
   },
   {
    "duration": 11,
    "start_time": "2022-11-06T11:19:35.909Z"
   },
   {
    "duration": 3,
    "start_time": "2022-11-06T11:19:35.922Z"
   },
   {
    "duration": 8,
    "start_time": "2022-11-06T11:19:35.927Z"
   },
   {
    "duration": 41,
    "start_time": "2022-11-06T11:19:35.937Z"
   },
   {
    "duration": 4,
    "start_time": "2022-11-06T11:19:35.980Z"
   },
   {
    "duration": 13,
    "start_time": "2022-11-06T11:19:35.985Z"
   },
   {
    "duration": 151,
    "start_time": "2022-11-06T11:19:35.999Z"
   },
   {
    "duration": 343,
    "start_time": "2022-11-06T11:19:36.153Z"
   },
   {
    "duration": 11,
    "start_time": "2022-11-06T11:19:36.497Z"
   },
   {
    "duration": 100,
    "start_time": "2022-11-06T11:19:36.509Z"
   },
   {
    "duration": 23,
    "start_time": "2022-11-06T11:19:36.610Z"
   },
   {
    "duration": 87,
    "start_time": "2022-11-06T11:19:36.635Z"
   },
   {
    "duration": 128,
    "start_time": "2022-11-06T11:19:36.724Z"
   },
   {
    "duration": 24,
    "start_time": "2022-11-06T11:19:36.854Z"
   },
   {
    "duration": 44,
    "start_time": "2022-11-06T11:19:36.879Z"
   },
   {
    "duration": 22,
    "start_time": "2022-11-06T11:19:36.925Z"
   },
   {
    "duration": 71,
    "start_time": "2022-11-06T11:21:34.748Z"
   },
   {
    "duration": 104,
    "start_time": "2022-11-06T11:21:43.852Z"
   },
   {
    "duration": 44,
    "start_time": "2022-11-06T11:22:34.861Z"
   },
   {
    "duration": 8,
    "start_time": "2022-11-06T11:32:11.951Z"
   },
   {
    "duration": 8,
    "start_time": "2022-11-06T11:34:54.575Z"
   },
   {
    "duration": 8,
    "start_time": "2022-11-06T11:35:06.548Z"
   },
   {
    "duration": 9,
    "start_time": "2022-11-06T11:37:35.089Z"
   },
   {
    "duration": 6,
    "start_time": "2022-11-06T11:44:20.292Z"
   },
   {
    "duration": 6,
    "start_time": "2022-11-06T11:44:50.562Z"
   },
   {
    "duration": 71,
    "start_time": "2022-11-06T11:46:21.711Z"
   },
   {
    "duration": 9,
    "start_time": "2022-11-06T11:46:32.850Z"
   },
   {
    "duration": 11,
    "start_time": "2022-11-06T11:47:34.686Z"
   },
   {
    "duration": 10,
    "start_time": "2022-11-06T11:47:39.652Z"
   },
   {
    "duration": 40,
    "start_time": "2022-11-06T11:50:56.377Z"
   },
   {
    "duration": 47,
    "start_time": "2022-11-06T11:51:31.688Z"
   },
   {
    "duration": 44,
    "start_time": "2022-11-06T11:58:50.115Z"
   },
   {
    "duration": 45,
    "start_time": "2022-11-06T11:59:03.484Z"
   },
   {
    "duration": 4,
    "start_time": "2022-11-06T12:03:08.184Z"
   },
   {
    "duration": 8,
    "start_time": "2022-11-06T12:09:57.177Z"
   },
   {
    "duration": 93,
    "start_time": "2022-11-06T12:12:55.298Z"
   },
   {
    "duration": 78,
    "start_time": "2022-11-06T12:13:28.179Z"
   },
   {
    "duration": 42,
    "start_time": "2022-11-06T12:13:39.467Z"
   },
   {
    "duration": 1233,
    "start_time": "2022-11-06T12:16:27.450Z"
   },
   {
    "duration": 3,
    "start_time": "2022-11-06T12:16:34.455Z"
   },
   {
    "duration": 509,
    "start_time": "2022-11-06T15:11:06.086Z"
   },
   {
    "duration": 94,
    "start_time": "2022-11-06T15:11:06.597Z"
   },
   {
    "duration": 18,
    "start_time": "2022-11-06T15:11:06.692Z"
   },
   {
    "duration": 166,
    "start_time": "2022-11-06T15:11:06.711Z"
   },
   {
    "duration": 6,
    "start_time": "2022-11-06T15:11:06.878Z"
   },
   {
    "duration": 7,
    "start_time": "2022-11-06T15:11:06.885Z"
   },
   {
    "duration": 14,
    "start_time": "2022-11-06T15:11:06.893Z"
   },
   {
    "duration": 14,
    "start_time": "2022-11-06T15:11:06.908Z"
   },
   {
    "duration": 13,
    "start_time": "2022-11-06T15:11:06.923Z"
   },
   {
    "duration": 7,
    "start_time": "2022-11-06T15:11:06.938Z"
   },
   {
    "duration": 6,
    "start_time": "2022-11-06T15:11:06.947Z"
   },
   {
    "duration": 14,
    "start_time": "2022-11-06T15:11:06.954Z"
   },
   {
    "duration": 161,
    "start_time": "2022-11-06T15:11:06.970Z"
   },
   {
    "duration": 366,
    "start_time": "2022-11-06T15:11:07.132Z"
   },
   {
    "duration": 12,
    "start_time": "2022-11-06T15:11:07.500Z"
   },
   {
    "duration": 109,
    "start_time": "2022-11-06T15:11:07.514Z"
   },
   {
    "duration": 22,
    "start_time": "2022-11-06T15:11:07.625Z"
   },
   {
    "duration": 50,
    "start_time": "2022-11-06T15:11:07.648Z"
   },
   {
    "duration": 122,
    "start_time": "2022-11-06T15:11:07.721Z"
   },
   {
    "duration": 14,
    "start_time": "2022-11-06T15:11:07.844Z"
   },
   {
    "duration": 69,
    "start_time": "2022-11-06T15:11:07.859Z"
   },
   {
    "duration": 24,
    "start_time": "2022-11-06T15:11:07.930Z"
   },
   {
    "duration": 45,
    "start_time": "2022-11-06T15:11:07.956Z"
   },
   {
    "duration": 66,
    "start_time": "2022-11-06T15:11:08.003Z"
   },
   {
    "duration": 4,
    "start_time": "2022-11-06T15:11:08.071Z"
   },
   {
    "duration": 68,
    "start_time": "2022-11-06T15:11:08.076Z"
   },
   {
    "duration": 4,
    "start_time": "2022-11-06T15:11:08.146Z"
   },
   {
    "duration": 8,
    "start_time": "2022-11-06T15:17:56.228Z"
   },
   {
    "duration": 114,
    "start_time": "2022-11-06T15:21:10.482Z"
   },
   {
    "duration": 46,
    "start_time": "2022-11-06T15:21:12.851Z"
   },
   {
    "duration": 12,
    "start_time": "2022-11-06T15:21:26.523Z"
   },
   {
    "duration": 80,
    "start_time": "2022-11-06T15:22:26.763Z"
   },
   {
    "duration": 115,
    "start_time": "2022-11-06T15:22:38.765Z"
   },
   {
    "duration": 7,
    "start_time": "2022-11-06T15:22:41.062Z"
   },
   {
    "duration": 14,
    "start_time": "2022-11-06T15:22:48.605Z"
   },
   {
    "duration": 5,
    "start_time": "2022-11-06T15:22:53.758Z"
   },
   {
    "duration": 6,
    "start_time": "2022-11-06T15:22:57.582Z"
   },
   {
    "duration": 6,
    "start_time": "2022-11-06T15:24:45.820Z"
   },
   {
    "duration": 7,
    "start_time": "2022-11-06T15:24:49.710Z"
   },
   {
    "duration": 79,
    "start_time": "2022-11-06T15:25:02.961Z"
   },
   {
    "duration": 8,
    "start_time": "2022-11-06T15:25:05.080Z"
   },
   {
    "duration": 15,
    "start_time": "2022-11-06T15:25:19.600Z"
   },
   {
    "duration": 12,
    "start_time": "2022-11-06T15:26:11.056Z"
   },
   {
    "duration": 8,
    "start_time": "2022-11-06T15:26:12.660Z"
   },
   {
    "duration": 533,
    "start_time": "2022-11-07T08:32:35.567Z"
   },
   {
    "duration": 90,
    "start_time": "2022-11-07T08:32:36.102Z"
   },
   {
    "duration": 18,
    "start_time": "2022-11-07T08:32:36.193Z"
   },
   {
    "duration": 156,
    "start_time": "2022-11-07T08:32:36.213Z"
   },
   {
    "duration": 5,
    "start_time": "2022-11-07T08:32:36.371Z"
   },
   {
    "duration": 6,
    "start_time": "2022-11-07T08:32:36.377Z"
   },
   {
    "duration": 12,
    "start_time": "2022-11-07T08:32:36.385Z"
   },
   {
    "duration": 4,
    "start_time": "2022-11-07T08:32:36.398Z"
   },
   {
    "duration": 8,
    "start_time": "2022-11-07T08:32:36.403Z"
   },
   {
    "duration": 8,
    "start_time": "2022-11-07T08:32:36.414Z"
   },
   {
    "duration": 6,
    "start_time": "2022-11-07T08:32:36.423Z"
   },
   {
    "duration": 10,
    "start_time": "2022-11-07T08:32:36.430Z"
   },
   {
    "duration": 162,
    "start_time": "2022-11-07T08:32:36.441Z"
   },
   {
    "duration": 347,
    "start_time": "2022-11-07T08:32:36.604Z"
   },
   {
    "duration": 9,
    "start_time": "2022-11-07T08:32:36.953Z"
   },
   {
    "duration": 53,
    "start_time": "2022-11-07T08:32:36.963Z"
   },
   {
    "duration": 73,
    "start_time": "2022-11-07T08:32:37.017Z"
   },
   {
    "duration": 53,
    "start_time": "2022-11-07T08:32:37.092Z"
   },
   {
    "duration": 147,
    "start_time": "2022-11-07T08:32:37.146Z"
   },
   {
    "duration": 13,
    "start_time": "2022-11-07T08:32:37.295Z"
   },
   {
    "duration": 51,
    "start_time": "2022-11-07T08:32:37.309Z"
   },
   {
    "duration": 35,
    "start_time": "2022-11-07T08:32:37.361Z"
   },
   {
    "duration": 46,
    "start_time": "2022-11-07T08:32:37.398Z"
   },
   {
    "duration": 70,
    "start_time": "2022-11-07T08:32:37.446Z"
   },
   {
    "duration": 5,
    "start_time": "2022-11-07T08:32:37.517Z"
   },
   {
    "duration": 61,
    "start_time": "2022-11-07T08:32:37.523Z"
   },
   {
    "duration": 4,
    "start_time": "2022-11-07T08:32:37.585Z"
   },
   {
    "duration": 13,
    "start_time": "2022-11-07T08:32:37.592Z"
   },
   {
    "duration": 8,
    "start_time": "2022-11-07T08:32:37.607Z"
   },
   {
    "duration": 7,
    "start_time": "2022-11-07T08:37:37.117Z"
   },
   {
    "duration": 7,
    "start_time": "2022-11-07T08:38:09.361Z"
   },
   {
    "duration": 6,
    "start_time": "2022-11-07T08:39:51.794Z"
   },
   {
    "duration": 1405,
    "start_time": "2022-11-07T08:40:45.564Z"
   },
   {
    "duration": 8,
    "start_time": "2022-11-07T08:41:20.705Z"
   },
   {
    "duration": 15,
    "start_time": "2022-11-07T08:41:46.800Z"
   },
   {
    "duration": 6,
    "start_time": "2022-11-07T08:41:50.134Z"
   },
   {
    "duration": 6,
    "start_time": "2022-11-07T08:41:53.445Z"
   },
   {
    "duration": 5,
    "start_time": "2022-11-07T08:41:58.932Z"
   },
   {
    "duration": 4,
    "start_time": "2022-11-07T08:42:05.270Z"
   },
   {
    "duration": 9,
    "start_time": "2022-11-07T08:45:11.183Z"
   },
   {
    "duration": 4,
    "start_time": "2022-11-07T08:45:12.983Z"
   },
   {
    "duration": 8,
    "start_time": "2022-11-07T08:51:02.231Z"
   },
   {
    "duration": 471,
    "start_time": "2022-11-07T08:51:34.674Z"
   },
   {
    "duration": 21,
    "start_time": "2022-11-07T08:51:40.257Z"
   },
   {
    "duration": 3,
    "start_time": "2022-11-07T09:13:51.220Z"
   },
   {
    "duration": 5,
    "start_time": "2022-11-07T09:14:00.151Z"
   },
   {
    "duration": 4,
    "start_time": "2022-11-07T09:14:02.535Z"
   },
   {
    "duration": 13,
    "start_time": "2022-11-07T09:19:26.734Z"
   },
   {
    "duration": 10,
    "start_time": "2022-11-07T09:51:08.179Z"
   },
   {
    "duration": 7,
    "start_time": "2022-11-07T09:51:19.488Z"
   },
   {
    "duration": 8,
    "start_time": "2022-11-07T09:51:25.751Z"
   },
   {
    "duration": 7,
    "start_time": "2022-11-07T09:54:27.319Z"
   },
   {
    "duration": 11,
    "start_time": "2022-11-07T09:55:29.541Z"
   },
   {
    "duration": 12,
    "start_time": "2022-11-07T09:55:49.405Z"
   },
   {
    "duration": 28,
    "start_time": "2022-11-07T10:07:42.215Z"
   },
   {
    "duration": 1259,
    "start_time": "2022-11-07T10:18:14.529Z"
   },
   {
    "duration": 10,
    "start_time": "2022-11-07T10:18:38.544Z"
   },
   {
    "duration": 26,
    "start_time": "2022-11-07T10:19:14.125Z"
   },
   {
    "duration": 13,
    "start_time": "2022-11-07T10:22:22.224Z"
   },
   {
    "duration": 53,
    "start_time": "2022-11-08T15:11:00.902Z"
   },
   {
    "duration": 919,
    "start_time": "2022-11-08T15:11:07.464Z"
   },
   {
    "duration": 63,
    "start_time": "2022-11-08T15:11:08.386Z"
   },
   {
    "duration": 21,
    "start_time": "2022-11-08T15:11:08.451Z"
   },
   {
    "duration": 129,
    "start_time": "2022-11-08T15:11:08.474Z"
   },
   {
    "duration": 6,
    "start_time": "2022-11-08T15:11:08.604Z"
   },
   {
    "duration": 7,
    "start_time": "2022-11-08T15:11:08.612Z"
   },
   {
    "duration": 13,
    "start_time": "2022-11-08T15:11:08.621Z"
   },
   {
    "duration": 4,
    "start_time": "2022-11-08T15:11:08.635Z"
   },
   {
    "duration": 10,
    "start_time": "2022-11-08T15:11:08.641Z"
   },
   {
    "duration": 7,
    "start_time": "2022-11-08T15:11:08.654Z"
   },
   {
    "duration": 5,
    "start_time": "2022-11-08T15:11:08.663Z"
   },
   {
    "duration": 16,
    "start_time": "2022-11-08T15:11:08.670Z"
   },
   {
    "duration": 179,
    "start_time": "2022-11-08T15:11:08.688Z"
   },
   {
    "duration": 451,
    "start_time": "2022-11-08T15:11:08.868Z"
   },
   {
    "duration": 14,
    "start_time": "2022-11-08T15:11:09.321Z"
   },
   {
    "duration": 100,
    "start_time": "2022-11-08T15:11:09.337Z"
   },
   {
    "duration": 22,
    "start_time": "2022-11-08T15:11:09.438Z"
   },
   {
    "duration": 79,
    "start_time": "2022-11-08T15:11:09.462Z"
   },
   {
    "duration": 150,
    "start_time": "2022-11-08T15:11:09.543Z"
   },
   {
    "duration": 15,
    "start_time": "2022-11-08T15:11:09.695Z"
   },
   {
    "duration": 49,
    "start_time": "2022-11-08T15:11:09.731Z"
   },
   {
    "duration": 24,
    "start_time": "2022-11-08T15:11:09.781Z"
   },
   {
    "duration": 69,
    "start_time": "2022-11-08T15:11:09.807Z"
   },
   {
    "duration": 67,
    "start_time": "2022-11-08T15:11:09.878Z"
   },
   {
    "duration": 4,
    "start_time": "2022-11-08T15:11:09.946Z"
   },
   {
    "duration": 52,
    "start_time": "2022-11-08T15:11:09.952Z"
   },
   {
    "duration": 25,
    "start_time": "2022-11-08T15:11:10.005Z"
   },
   {
    "duration": 13,
    "start_time": "2022-11-08T15:11:10.034Z"
   },
   {
    "duration": 11,
    "start_time": "2022-11-08T15:11:10.049Z"
   },
   {
    "duration": 25,
    "start_time": "2022-11-08T15:11:10.061Z"
   },
   {
    "duration": 45,
    "start_time": "2022-11-08T15:11:10.088Z"
   },
   {
    "duration": 12,
    "start_time": "2022-11-08T15:11:10.135Z"
   },
   {
    "duration": 35,
    "start_time": "2022-11-08T15:11:10.149Z"
   },
   {
    "duration": 14,
    "start_time": "2022-11-08T15:11:10.186Z"
   },
   {
    "duration": 30,
    "start_time": "2022-11-08T15:11:10.202Z"
   },
   {
    "duration": 6,
    "start_time": "2022-11-08T15:12:53.427Z"
   },
   {
    "duration": 927,
    "start_time": "2022-11-08T15:29:25.446Z"
   },
   {
    "duration": 32,
    "start_time": "2022-11-08T15:29:26.375Z"
   },
   {
    "duration": 23,
    "start_time": "2022-11-08T15:29:26.409Z"
   },
   {
    "duration": 57,
    "start_time": "2022-11-08T15:29:26.434Z"
   },
   {
    "duration": 6,
    "start_time": "2022-11-08T15:29:26.493Z"
   },
   {
    "duration": 8,
    "start_time": "2022-11-08T15:29:26.500Z"
   },
   {
    "duration": 18,
    "start_time": "2022-11-08T15:29:26.510Z"
   },
   {
    "duration": 4,
    "start_time": "2022-11-08T15:29:26.530Z"
   },
   {
    "duration": 10,
    "start_time": "2022-11-08T15:29:26.536Z"
   },
   {
    "duration": 9,
    "start_time": "2022-11-08T15:29:26.548Z"
   },
   {
    "duration": 7,
    "start_time": "2022-11-08T15:29:26.558Z"
   },
   {
    "duration": 30,
    "start_time": "2022-11-08T15:29:26.566Z"
   },
   {
    "duration": 167,
    "start_time": "2022-11-08T15:29:26.597Z"
   },
   {
    "duration": 433,
    "start_time": "2022-11-08T15:29:26.765Z"
   },
   {
    "duration": 11,
    "start_time": "2022-11-08T15:29:27.199Z"
   },
   {
    "duration": 58,
    "start_time": "2022-11-08T15:29:27.212Z"
   },
   {
    "duration": 74,
    "start_time": "2022-11-08T15:29:27.272Z"
   },
   {
    "duration": 99,
    "start_time": "2022-11-08T15:29:27.348Z"
   },
   {
    "duration": 160,
    "start_time": "2022-11-08T15:29:27.448Z"
   },
   {
    "duration": 31,
    "start_time": "2022-11-08T15:29:27.610Z"
   },
   {
    "duration": 60,
    "start_time": "2022-11-08T15:29:27.643Z"
   },
   {
    "duration": 38,
    "start_time": "2022-11-08T15:29:27.705Z"
   },
   {
    "duration": 51,
    "start_time": "2022-11-08T15:29:27.745Z"
   },
   {
    "duration": 70,
    "start_time": "2022-11-08T15:29:27.798Z"
   },
   {
    "duration": 5,
    "start_time": "2022-11-08T15:29:27.869Z"
   },
   {
    "duration": 75,
    "start_time": "2022-11-08T15:29:27.875Z"
   },
   {
    "duration": 5,
    "start_time": "2022-11-08T15:29:27.951Z"
   },
   {
    "duration": 14,
    "start_time": "2022-11-08T15:29:27.959Z"
   },
   {
    "duration": 9,
    "start_time": "2022-11-08T15:29:27.975Z"
   },
   {
    "duration": 51,
    "start_time": "2022-11-08T15:29:27.985Z"
   },
   {
    "duration": 14,
    "start_time": "2022-11-08T15:29:28.038Z"
   },
   {
    "duration": 12,
    "start_time": "2022-11-08T15:29:28.053Z"
   },
   {
    "duration": 35,
    "start_time": "2022-11-08T15:29:28.066Z"
   },
   {
    "duration": 35,
    "start_time": "2022-11-08T15:29:28.103Z"
   },
   {
    "duration": 898,
    "start_time": "2022-11-09T09:07:53.354Z"
   },
   {
    "duration": 84,
    "start_time": "2022-11-09T09:07:54.254Z"
   },
   {
    "duration": 18,
    "start_time": "2022-11-09T09:07:54.340Z"
   },
   {
    "duration": 154,
    "start_time": "2022-11-09T09:07:54.360Z"
   },
   {
    "duration": 5,
    "start_time": "2022-11-09T09:07:54.516Z"
   },
   {
    "duration": 35,
    "start_time": "2022-11-09T09:07:54.522Z"
   },
   {
    "duration": 13,
    "start_time": "2022-11-09T09:07:54.558Z"
   },
   {
    "duration": 3,
    "start_time": "2022-11-09T09:07:54.573Z"
   },
   {
    "duration": 9,
    "start_time": "2022-11-09T09:07:54.577Z"
   },
   {
    "duration": 8,
    "start_time": "2022-11-09T09:07:54.588Z"
   },
   {
    "duration": 7,
    "start_time": "2022-11-09T09:07:54.598Z"
   },
   {
    "duration": 10,
    "start_time": "2022-11-09T09:07:54.606Z"
   },
   {
    "duration": 152,
    "start_time": "2022-11-09T09:07:54.618Z"
   },
   {
    "duration": 473,
    "start_time": "2022-11-09T09:07:54.772Z"
   },
   {
    "duration": 11,
    "start_time": "2022-11-09T09:07:55.246Z"
   },
   {
    "duration": 113,
    "start_time": "2022-11-09T09:07:55.258Z"
   },
   {
    "duration": 22,
    "start_time": "2022-11-09T09:07:55.372Z"
   },
   {
    "duration": 93,
    "start_time": "2022-11-09T09:07:55.396Z"
   },
   {
    "duration": 145,
    "start_time": "2022-11-09T09:07:55.491Z"
   },
   {
    "duration": 14,
    "start_time": "2022-11-09T09:07:55.637Z"
   },
   {
    "duration": 48,
    "start_time": "2022-11-09T09:07:55.652Z"
   },
   {
    "duration": 45,
    "start_time": "2022-11-09T09:07:55.702Z"
   },
   {
    "duration": 48,
    "start_time": "2022-11-09T09:07:55.749Z"
   },
   {
    "duration": 82,
    "start_time": "2022-11-09T09:07:55.798Z"
   },
   {
    "duration": 4,
    "start_time": "2022-11-09T09:07:55.881Z"
   },
   {
    "duration": 67,
    "start_time": "2022-11-09T09:07:55.887Z"
   },
   {
    "duration": 4,
    "start_time": "2022-11-09T09:07:55.955Z"
   },
   {
    "duration": 35,
    "start_time": "2022-11-09T09:07:55.962Z"
   },
   {
    "duration": 10,
    "start_time": "2022-11-09T09:07:55.999Z"
   },
   {
    "duration": 34,
    "start_time": "2022-11-09T09:07:56.011Z"
   },
   {
    "duration": 16,
    "start_time": "2022-11-09T09:07:56.047Z"
   },
   {
    "duration": 12,
    "start_time": "2022-11-09T09:07:56.065Z"
   },
   {
    "duration": 59,
    "start_time": "2022-11-09T09:07:56.079Z"
   },
   {
    "duration": 14,
    "start_time": "2022-11-09T09:07:56.140Z"
   },
   {
    "duration": 3,
    "start_time": "2022-11-09T09:10:35.164Z"
   },
   {
    "duration": 40,
    "start_time": "2022-11-09T09:10:35.169Z"
   },
   {
    "duration": 17,
    "start_time": "2022-11-09T09:10:35.211Z"
   },
   {
    "duration": 75,
    "start_time": "2022-11-09T09:10:35.229Z"
   },
   {
    "duration": 6,
    "start_time": "2022-11-09T09:10:35.306Z"
   },
   {
    "duration": 5,
    "start_time": "2022-11-09T09:10:35.314Z"
   },
   {
    "duration": 31,
    "start_time": "2022-11-09T09:10:35.321Z"
   },
   {
    "duration": 4,
    "start_time": "2022-11-09T09:10:35.354Z"
   },
   {
    "duration": 11,
    "start_time": "2022-11-09T09:10:35.360Z"
   },
   {
    "duration": 7,
    "start_time": "2022-11-09T09:10:35.373Z"
   },
   {
    "duration": 4,
    "start_time": "2022-11-09T09:10:35.383Z"
   },
   {
    "duration": 10,
    "start_time": "2022-11-09T09:10:35.389Z"
   },
   {
    "duration": 183,
    "start_time": "2022-11-09T09:10:35.401Z"
   },
   {
    "duration": 65,
    "start_time": "2022-11-09T09:10:35.586Z"
   },
   {
    "duration": 10,
    "start_time": "2022-11-09T09:10:35.653Z"
   },
   {
    "duration": 80,
    "start_time": "2022-11-09T09:10:35.664Z"
   },
   {
    "duration": 21,
    "start_time": "2022-11-09T09:10:35.745Z"
   },
   {
    "duration": 47,
    "start_time": "2022-11-09T09:10:35.767Z"
   },
   {
    "duration": 137,
    "start_time": "2022-11-09T09:10:35.815Z"
   },
   {
    "duration": 14,
    "start_time": "2022-11-09T09:10:35.954Z"
   },
   {
    "duration": 88,
    "start_time": "2022-11-09T09:10:35.969Z"
   },
   {
    "duration": 34,
    "start_time": "2022-11-09T09:10:36.059Z"
   },
   {
    "duration": 67,
    "start_time": "2022-11-09T09:10:36.095Z"
   },
   {
    "duration": 52,
    "start_time": "2022-11-09T09:10:36.164Z"
   },
   {
    "duration": 28,
    "start_time": "2022-11-09T09:10:36.218Z"
   },
   {
    "duration": 61,
    "start_time": "2022-11-09T09:10:36.248Z"
   },
   {
    "duration": 5,
    "start_time": "2022-11-09T09:10:36.311Z"
   },
   {
    "duration": 22,
    "start_time": "2022-11-09T09:10:36.318Z"
   },
   {
    "duration": 50,
    "start_time": "2022-11-09T09:10:36.343Z"
   },
   {
    "duration": 78,
    "start_time": "2022-11-09T09:10:36.395Z"
   },
   {
    "duration": 16,
    "start_time": "2022-11-09T09:10:36.475Z"
   },
   {
    "duration": 22,
    "start_time": "2022-11-09T09:10:36.493Z"
   },
   {
    "duration": 47,
    "start_time": "2022-11-09T09:10:36.517Z"
   },
   {
    "duration": 29,
    "start_time": "2022-11-09T09:10:36.566Z"
   },
   {
    "duration": 12,
    "start_time": "2022-11-09T09:11:01.201Z"
   },
   {
    "duration": 14,
    "start_time": "2022-11-09T09:19:56.422Z"
   },
   {
    "duration": 143,
    "start_time": "2022-11-09T09:20:05.097Z"
   },
   {
    "duration": 11,
    "start_time": "2022-11-09T09:20:13.886Z"
   },
   {
    "duration": 7,
    "start_time": "2022-11-09T09:20:44.588Z"
   },
   {
    "duration": 11,
    "start_time": "2022-11-09T09:21:01.258Z"
   },
   {
    "duration": 8,
    "start_time": "2022-11-09T09:21:09.987Z"
   },
   {
    "duration": 18,
    "start_time": "2022-11-09T09:21:15.117Z"
   },
   {
    "duration": 8,
    "start_time": "2022-11-09T09:21:20.861Z"
   },
   {
    "duration": 973,
    "start_time": "2022-11-13T09:10:35.820Z"
   },
   {
    "duration": 68,
    "start_time": "2022-11-13T09:10:36.795Z"
   },
   {
    "duration": 21,
    "start_time": "2022-11-13T09:10:36.865Z"
   },
   {
    "duration": 134,
    "start_time": "2022-11-13T09:10:36.888Z"
   },
   {
    "duration": 6,
    "start_time": "2022-11-13T09:10:37.024Z"
   },
   {
    "duration": 16,
    "start_time": "2022-11-13T09:10:37.032Z"
   },
   {
    "duration": 16,
    "start_time": "2022-11-13T09:10:37.050Z"
   },
   {
    "duration": 5,
    "start_time": "2022-11-13T09:10:37.068Z"
   },
   {
    "duration": 15,
    "start_time": "2022-11-13T09:10:37.075Z"
   },
   {
    "duration": 31,
    "start_time": "2022-11-13T09:10:37.093Z"
   },
   {
    "duration": 7,
    "start_time": "2022-11-13T09:10:37.126Z"
   },
   {
    "duration": 17,
    "start_time": "2022-11-13T09:10:37.135Z"
   },
   {
    "duration": 195,
    "start_time": "2022-11-13T09:10:37.155Z"
   },
   {
    "duration": 476,
    "start_time": "2022-11-13T09:10:37.352Z"
   },
   {
    "duration": 13,
    "start_time": "2022-11-13T09:10:37.830Z"
   },
   {
    "duration": 114,
    "start_time": "2022-11-13T09:10:37.845Z"
   },
   {
    "duration": 68,
    "start_time": "2022-11-13T09:10:37.960Z"
   },
   {
    "duration": 56,
    "start_time": "2022-11-13T09:10:38.030Z"
   },
   {
    "duration": 161,
    "start_time": "2022-11-13T09:10:38.088Z"
   },
   {
    "duration": 15,
    "start_time": "2022-11-13T09:10:38.250Z"
   },
   {
    "duration": 86,
    "start_time": "2022-11-13T09:10:38.267Z"
   },
   {
    "duration": 26,
    "start_time": "2022-11-13T09:10:38.354Z"
   },
   {
    "duration": 73,
    "start_time": "2022-11-13T09:10:38.381Z"
   },
   {
    "duration": 66,
    "start_time": "2022-11-13T09:10:38.456Z"
   },
   {
    "duration": 5,
    "start_time": "2022-11-13T09:10:38.524Z"
   },
   {
    "duration": 53,
    "start_time": "2022-11-13T09:10:38.530Z"
   },
   {
    "duration": 4,
    "start_time": "2022-11-13T09:10:38.585Z"
   },
   {
    "duration": 14,
    "start_time": "2022-11-13T09:10:38.621Z"
   },
   {
    "duration": 11,
    "start_time": "2022-11-13T09:10:38.637Z"
   },
   {
    "duration": 31,
    "start_time": "2022-11-13T09:10:38.650Z"
   },
   {
    "duration": 42,
    "start_time": "2022-11-13T09:10:38.683Z"
   },
   {
    "duration": 18,
    "start_time": "2022-11-13T09:10:38.728Z"
   },
   {
    "duration": 32,
    "start_time": "2022-11-13T09:10:38.748Z"
   },
   {
    "duration": 49,
    "start_time": "2022-11-13T09:10:38.782Z"
   },
   {
    "duration": 901,
    "start_time": "2022-11-20T09:47:11.871Z"
   },
   {
    "duration": 77,
    "start_time": "2022-11-20T09:47:12.773Z"
   },
   {
    "duration": 18,
    "start_time": "2022-11-20T09:47:12.852Z"
   },
   {
    "duration": 172,
    "start_time": "2022-11-20T09:47:12.871Z"
   },
   {
    "duration": 5,
    "start_time": "2022-11-20T09:47:13.045Z"
   },
   {
    "duration": 22,
    "start_time": "2022-11-20T09:47:13.052Z"
   },
   {
    "duration": 33,
    "start_time": "2022-11-20T09:47:13.075Z"
   },
   {
    "duration": 25,
    "start_time": "2022-11-20T09:47:13.109Z"
   },
   {
    "duration": 28,
    "start_time": "2022-11-20T09:47:13.136Z"
   },
   {
    "duration": 23,
    "start_time": "2022-11-20T09:47:13.166Z"
   },
   {
    "duration": 20,
    "start_time": "2022-11-20T09:47:13.191Z"
   },
   {
    "duration": 29,
    "start_time": "2022-11-20T09:47:13.213Z"
   },
   {
    "duration": 9,
    "start_time": "2022-11-20T09:48:06.440Z"
   },
   {
    "duration": 5,
    "start_time": "2022-11-20T09:48:19.691Z"
   },
   {
    "duration": 8,
    "start_time": "2022-11-20T09:48:31.105Z"
   },
   {
    "duration": 12,
    "start_time": "2022-11-20T09:49:35.439Z"
   },
   {
    "duration": 6,
    "start_time": "2022-11-20T09:49:48.976Z"
   },
   {
    "duration": 10,
    "start_time": "2022-11-20T09:49:54.135Z"
   },
   {
    "duration": 12,
    "start_time": "2022-11-20T09:50:50.554Z"
   },
   {
    "duration": 9,
    "start_time": "2022-11-20T09:51:08.645Z"
   },
   {
    "duration": 8,
    "start_time": "2022-11-20T09:51:15.963Z"
   },
   {
    "duration": 7,
    "start_time": "2022-11-20T09:51:32.150Z"
   },
   {
    "duration": 8,
    "start_time": "2022-11-20T09:51:37.378Z"
   },
   {
    "duration": 6,
    "start_time": "2022-11-20T09:51:48.498Z"
   },
   {
    "duration": 9,
    "start_time": "2022-11-20T09:52:36.650Z"
   },
   {
    "duration": 7,
    "start_time": "2022-11-20T09:53:13.698Z"
   },
   {
    "duration": 10,
    "start_time": "2022-11-20T09:53:33.343Z"
   },
   {
    "duration": 805,
    "start_time": "2022-11-20T09:53:49.651Z"
   },
   {
    "duration": 7,
    "start_time": "2022-11-20T09:53:59.978Z"
   },
   {
    "duration": 40,
    "start_time": "2022-11-20T09:55:47.350Z"
   },
   {
    "duration": 11,
    "start_time": "2022-11-20T09:55:51.319Z"
   },
   {
    "duration": 10,
    "start_time": "2022-11-20T09:58:34.020Z"
   },
   {
    "duration": 5,
    "start_time": "2022-11-20T10:14:21.105Z"
   },
   {
    "duration": 5,
    "start_time": "2022-11-20T10:14:31.146Z"
   },
   {
    "duration": 47,
    "start_time": "2022-11-20T10:15:32.110Z"
   },
   {
    "duration": 5,
    "start_time": "2022-11-20T10:15:42.473Z"
   },
   {
    "duration": 9,
    "start_time": "2022-11-20T10:17:17.003Z"
   },
   {
    "duration": 9,
    "start_time": "2022-11-20T10:18:01.940Z"
   },
   {
    "duration": 11,
    "start_time": "2022-11-20T10:18:52.587Z"
   },
   {
    "duration": 10,
    "start_time": "2022-11-20T10:35:12.124Z"
   },
   {
    "duration": 3,
    "start_time": "2022-11-20T10:35:20.256Z"
   },
   {
    "duration": 8,
    "start_time": "2022-11-20T10:36:05.634Z"
   },
   {
    "duration": 11,
    "start_time": "2022-11-20T10:36:45.182Z"
   },
   {
    "duration": 7,
    "start_time": "2022-11-20T10:36:57.681Z"
   },
   {
    "duration": 6,
    "start_time": "2022-11-20T10:39:21.847Z"
   },
   {
    "duration": 43,
    "start_time": "2022-11-20T10:46:57.316Z"
   },
   {
    "duration": 40,
    "start_time": "2022-11-20T10:47:38.103Z"
   },
   {
    "duration": 48,
    "start_time": "2022-11-20T10:48:40.256Z"
   },
   {
    "duration": 42,
    "start_time": "2022-11-20T10:49:07.174Z"
   },
   {
    "duration": 49,
    "start_time": "2022-11-20T10:49:44.879Z"
   },
   {
    "duration": 897,
    "start_time": "2022-11-20T10:51:04.566Z"
   },
   {
    "duration": 40,
    "start_time": "2022-11-20T10:51:05.465Z"
   },
   {
    "duration": 21,
    "start_time": "2022-11-20T10:51:05.507Z"
   },
   {
    "duration": 68,
    "start_time": "2022-11-20T10:51:05.530Z"
   },
   {
    "duration": 5,
    "start_time": "2022-11-20T10:51:05.601Z"
   },
   {
    "duration": 15,
    "start_time": "2022-11-20T10:51:05.608Z"
   },
   {
    "duration": 20,
    "start_time": "2022-11-20T10:51:05.625Z"
   },
   {
    "duration": 10,
    "start_time": "2022-11-20T10:51:05.647Z"
   },
   {
    "duration": 11,
    "start_time": "2022-11-20T10:51:05.658Z"
   },
   {
    "duration": 9,
    "start_time": "2022-11-20T10:51:05.670Z"
   },
   {
    "duration": 5,
    "start_time": "2022-11-20T10:51:05.681Z"
   },
   {
    "duration": 8,
    "start_time": "2022-11-20T10:51:05.688Z"
   },
   {
    "duration": 6,
    "start_time": "2022-11-20T10:51:05.698Z"
   },
   {
    "duration": 13,
    "start_time": "2022-11-20T10:51:05.718Z"
   },
   {
    "duration": 12,
    "start_time": "2022-11-20T10:51:05.733Z"
   },
   {
    "duration": 14,
    "start_time": "2022-11-20T10:51:05.747Z"
   },
   {
    "duration": 172,
    "start_time": "2022-11-20T10:51:05.763Z"
   },
   {
    "duration": 443,
    "start_time": "2022-11-20T10:51:05.936Z"
   },
   {
    "duration": 15,
    "start_time": "2022-11-20T10:51:06.380Z"
   },
   {
    "duration": 134,
    "start_time": "2022-11-20T10:51:06.397Z"
   },
   {
    "duration": 25,
    "start_time": "2022-11-20T10:51:06.533Z"
   },
   {
    "duration": 95,
    "start_time": "2022-11-20T10:51:06.560Z"
   },
   {
    "duration": 139,
    "start_time": "2022-11-20T10:51:06.657Z"
   },
   {
    "duration": 23,
    "start_time": "2022-11-20T10:51:06.798Z"
   },
   {
    "duration": 55,
    "start_time": "2022-11-20T10:51:06.822Z"
   },
   {
    "duration": 37,
    "start_time": "2022-11-20T10:51:06.879Z"
   },
   {
    "duration": 46,
    "start_time": "2022-11-20T10:51:06.918Z"
   },
   {
    "duration": 68,
    "start_time": "2022-11-20T10:51:06.965Z"
   },
   {
    "duration": 4,
    "start_time": "2022-11-20T10:51:07.035Z"
   },
   {
    "duration": 50,
    "start_time": "2022-11-20T10:51:07.040Z"
   },
   {
    "duration": 4,
    "start_time": "2022-11-20T10:51:07.091Z"
   },
   {
    "duration": 14,
    "start_time": "2022-11-20T10:51:07.116Z"
   },
   {
    "duration": 12,
    "start_time": "2022-11-20T10:51:07.132Z"
   },
   {
    "duration": 28,
    "start_time": "2022-11-20T10:51:07.145Z"
   },
   {
    "duration": 16,
    "start_time": "2022-11-20T10:51:07.174Z"
   },
   {
    "duration": 29,
    "start_time": "2022-11-20T10:51:07.192Z"
   },
   {
    "duration": 31,
    "start_time": "2022-11-20T10:51:07.223Z"
   },
   {
    "duration": 12,
    "start_time": "2022-11-20T10:51:07.256Z"
   },
   {
    "duration": 21,
    "start_time": "2022-11-20T11:05:27.597Z"
   },
   {
    "duration": 16,
    "start_time": "2022-11-20T11:06:55.993Z"
   },
   {
    "duration": 51,
    "start_time": "2022-11-20T11:07:20.138Z"
   },
   {
    "duration": 24,
    "start_time": "2022-11-20T11:12:57.317Z"
   },
   {
    "duration": 25,
    "start_time": "2022-11-20T11:13:11.109Z"
   },
   {
    "duration": 46,
    "start_time": "2022-11-20T11:13:31.985Z"
   },
   {
    "duration": 3,
    "start_time": "2022-11-20T11:13:57.145Z"
   },
   {
    "duration": 52,
    "start_time": "2022-11-20T11:13:57.153Z"
   },
   {
    "duration": 17,
    "start_time": "2022-11-20T11:13:57.207Z"
   },
   {
    "duration": 120,
    "start_time": "2022-11-20T11:13:57.226Z"
   },
   {
    "duration": 6,
    "start_time": "2022-11-20T11:13:57.349Z"
   },
   {
    "duration": 39,
    "start_time": "2022-11-20T11:13:57.357Z"
   },
   {
    "duration": 43,
    "start_time": "2022-11-20T11:13:57.397Z"
   },
   {
    "duration": 14,
    "start_time": "2022-11-20T11:13:57.442Z"
   },
   {
    "duration": 11,
    "start_time": "2022-11-20T11:13:57.458Z"
   },
   {
    "duration": 11,
    "start_time": "2022-11-20T11:13:57.471Z"
   },
   {
    "duration": 8,
    "start_time": "2022-11-20T11:13:57.484Z"
   },
   {
    "duration": 10,
    "start_time": "2022-11-20T11:13:57.493Z"
   },
   {
    "duration": 8,
    "start_time": "2022-11-20T11:13:57.504Z"
   },
   {
    "duration": 12,
    "start_time": "2022-11-20T11:13:57.513Z"
   },
   {
    "duration": 5,
    "start_time": "2022-11-20T11:13:57.527Z"
   },
   {
    "duration": 15,
    "start_time": "2022-11-20T11:13:57.533Z"
   },
   {
    "duration": 176,
    "start_time": "2022-11-20T11:13:57.550Z"
   },
   {
    "duration": 58,
    "start_time": "2022-11-20T11:13:57.727Z"
   },
   {
    "duration": 29,
    "start_time": "2022-11-20T11:13:57.787Z"
   },
   {
    "duration": 50,
    "start_time": "2022-11-20T11:13:57.817Z"
   },
   {
    "duration": 20,
    "start_time": "2022-11-20T11:13:57.868Z"
   },
   {
    "duration": 86,
    "start_time": "2022-11-20T11:13:57.890Z"
   },
   {
    "duration": 151,
    "start_time": "2022-11-20T11:13:57.978Z"
   },
   {
    "duration": 15,
    "start_time": "2022-11-20T11:13:58.130Z"
   },
   {
    "duration": 65,
    "start_time": "2022-11-20T11:13:58.147Z"
   },
   {
    "duration": 52,
    "start_time": "2022-11-20T11:13:58.215Z"
   },
   {
    "duration": 49,
    "start_time": "2022-11-20T11:13:58.268Z"
   },
   {
    "duration": 48,
    "start_time": "2022-11-20T11:13:58.319Z"
   },
   {
    "duration": 65,
    "start_time": "2022-11-20T11:13:58.369Z"
   },
   {
    "duration": 901,
    "start_time": "2022-11-20T11:14:13.981Z"
   },
   {
    "duration": 39,
    "start_time": "2022-11-20T11:14:14.884Z"
   },
   {
    "duration": 19,
    "start_time": "2022-11-20T11:14:14.925Z"
   },
   {
    "duration": 76,
    "start_time": "2022-11-20T11:14:14.945Z"
   },
   {
    "duration": 7,
    "start_time": "2022-11-20T11:14:15.024Z"
   },
   {
    "duration": 13,
    "start_time": "2022-11-20T11:14:15.032Z"
   },
   {
    "duration": 20,
    "start_time": "2022-11-20T11:14:15.047Z"
   },
   {
    "duration": 14,
    "start_time": "2022-11-20T11:14:15.068Z"
   },
   {
    "duration": 11,
    "start_time": "2022-11-20T11:14:15.083Z"
   },
   {
    "duration": 21,
    "start_time": "2022-11-20T11:14:15.096Z"
   },
   {
    "duration": 9,
    "start_time": "2022-11-20T11:14:15.119Z"
   },
   {
    "duration": 10,
    "start_time": "2022-11-20T11:14:15.130Z"
   },
   {
    "duration": 6,
    "start_time": "2022-11-20T11:14:15.141Z"
   },
   {
    "duration": 9,
    "start_time": "2022-11-20T11:14:15.150Z"
   },
   {
    "duration": 5,
    "start_time": "2022-11-20T11:14:15.161Z"
   },
   {
    "duration": 22,
    "start_time": "2022-11-20T11:14:15.167Z"
   },
   {
    "duration": 190,
    "start_time": "2022-11-20T11:14:15.191Z"
   },
   {
    "duration": 434,
    "start_time": "2022-11-20T11:14:15.382Z"
   },
   {
    "duration": 11,
    "start_time": "2022-11-20T11:14:15.817Z"
   },
   {
    "duration": 101,
    "start_time": "2022-11-20T11:14:15.829Z"
   },
   {
    "duration": 264,
    "start_time": "2022-11-20T11:14:15.932Z"
   },
   {
    "duration": 59,
    "start_time": "2022-11-20T11:14:16.198Z"
   },
   {
    "duration": 167,
    "start_time": "2022-11-20T11:14:16.259Z"
   },
   {
    "duration": 20,
    "start_time": "2022-11-20T11:14:16.428Z"
   },
   {
    "duration": 85,
    "start_time": "2022-11-20T11:14:16.450Z"
   },
   {
    "duration": 63,
    "start_time": "2022-11-20T11:14:16.537Z"
   },
   {
    "duration": 42,
    "start_time": "2022-11-20T11:14:16.602Z"
   },
   {
    "duration": 76,
    "start_time": "2022-11-20T11:14:16.646Z"
   },
   {
    "duration": 50,
    "start_time": "2022-11-20T11:14:16.724Z"
   },
   {
    "duration": 925,
    "start_time": "2022-11-20T11:17:26.999Z"
   },
   {
    "duration": 39,
    "start_time": "2022-11-20T11:17:27.926Z"
   },
   {
    "duration": 21,
    "start_time": "2022-11-20T11:17:27.966Z"
   },
   {
    "duration": 71,
    "start_time": "2022-11-20T11:17:27.989Z"
   },
   {
    "duration": 6,
    "start_time": "2022-11-20T11:17:28.062Z"
   },
   {
    "duration": 66,
    "start_time": "2022-11-20T11:17:28.069Z"
   },
   {
    "duration": 49,
    "start_time": "2022-11-20T11:17:28.137Z"
   },
   {
    "duration": 34,
    "start_time": "2022-11-20T11:17:28.187Z"
   },
   {
    "duration": 59,
    "start_time": "2022-11-20T11:17:28.223Z"
   },
   {
    "duration": 44,
    "start_time": "2022-11-20T11:17:28.284Z"
   },
   {
    "duration": 45,
    "start_time": "2022-11-20T11:17:28.329Z"
   },
   {
    "duration": 70,
    "start_time": "2022-11-20T11:17:28.376Z"
   },
   {
    "duration": 19,
    "start_time": "2022-11-20T11:17:28.448Z"
   },
   {
    "duration": 19,
    "start_time": "2022-11-20T11:17:28.469Z"
   },
   {
    "duration": 11,
    "start_time": "2022-11-20T11:17:28.490Z"
   },
   {
    "duration": 35,
    "start_time": "2022-11-20T11:17:28.503Z"
   },
   {
    "duration": 170,
    "start_time": "2022-11-20T11:17:28.540Z"
   },
   {
    "duration": 421,
    "start_time": "2022-11-20T11:17:28.712Z"
   },
   {
    "duration": 11,
    "start_time": "2022-11-20T11:17:29.134Z"
   },
   {
    "duration": 117,
    "start_time": "2022-11-20T11:17:29.146Z"
   },
   {
    "duration": 22,
    "start_time": "2022-11-20T11:17:29.265Z"
   },
   {
    "duration": 86,
    "start_time": "2022-11-20T11:17:29.288Z"
   },
   {
    "duration": 161,
    "start_time": "2022-11-20T11:17:29.375Z"
   },
   {
    "duration": 15,
    "start_time": "2022-11-20T11:17:29.537Z"
   },
   {
    "duration": 68,
    "start_time": "2022-11-20T11:17:29.554Z"
   },
   {
    "duration": 54,
    "start_time": "2022-11-20T11:17:29.624Z"
   },
   {
    "duration": 38,
    "start_time": "2022-11-20T11:17:29.680Z"
   },
   {
    "duration": 49,
    "start_time": "2022-11-20T11:17:29.722Z"
   },
   {
    "duration": 66,
    "start_time": "2022-11-20T11:17:29.772Z"
   },
   {
    "duration": 48,
    "start_time": "2022-11-20T11:17:29.840Z"
   },
   {
    "duration": 4,
    "start_time": "2022-11-20T11:17:29.889Z"
   },
   {
    "duration": 66,
    "start_time": "2022-11-20T11:17:29.895Z"
   },
   {
    "duration": 4,
    "start_time": "2022-11-20T11:17:29.963Z"
   },
   {
    "duration": 19,
    "start_time": "2022-11-20T11:17:29.968Z"
   },
   {
    "duration": 30,
    "start_time": "2022-11-20T11:17:29.989Z"
   },
   {
    "duration": 27,
    "start_time": "2022-11-20T11:17:30.021Z"
   },
   {
    "duration": 19,
    "start_time": "2022-11-20T11:17:30.050Z"
   },
   {
    "duration": 28,
    "start_time": "2022-11-20T11:17:30.071Z"
   },
   {
    "duration": 65,
    "start_time": "2022-11-20T11:17:30.101Z"
   },
   {
    "duration": 22,
    "start_time": "2022-11-20T11:17:30.168Z"
   },
   {
    "duration": 49,
    "start_time": "2022-11-20T11:21:04.280Z"
   },
   {
    "duration": 989,
    "start_time": "2022-11-21T08:09:49.317Z"
   },
   {
    "duration": 76,
    "start_time": "2022-11-21T08:09:50.308Z"
   },
   {
    "duration": 18,
    "start_time": "2022-11-21T08:09:50.385Z"
   },
   {
    "duration": 220,
    "start_time": "2022-11-21T08:09:50.405Z"
   },
   {
    "duration": 6,
    "start_time": "2022-11-21T08:09:50.626Z"
   },
   {
    "duration": 13,
    "start_time": "2022-11-21T08:09:50.633Z"
   },
   {
    "duration": 28,
    "start_time": "2022-11-21T08:09:50.648Z"
   },
   {
    "duration": 29,
    "start_time": "2022-11-21T08:09:50.677Z"
   },
   {
    "duration": 35,
    "start_time": "2022-11-21T08:09:50.707Z"
   },
   {
    "duration": 43,
    "start_time": "2022-11-21T08:09:50.744Z"
   },
   {
    "duration": 35,
    "start_time": "2022-11-21T08:09:50.789Z"
   },
   {
    "duration": 65,
    "start_time": "2022-11-21T08:09:50.825Z"
   },
   {
    "duration": 51,
    "start_time": "2022-11-21T08:09:50.892Z"
   },
   {
    "duration": 45,
    "start_time": "2022-11-21T08:09:50.944Z"
   },
   {
    "duration": 22,
    "start_time": "2022-11-21T08:09:50.991Z"
   },
   {
    "duration": 44,
    "start_time": "2022-11-21T08:09:51.015Z"
   },
   {
    "duration": 193,
    "start_time": "2022-11-21T08:09:51.060Z"
   },
   {
    "duration": 459,
    "start_time": "2022-11-21T08:09:51.255Z"
   },
   {
    "duration": 11,
    "start_time": "2022-11-21T08:09:51.716Z"
   },
   {
    "duration": 81,
    "start_time": "2022-11-21T08:09:51.728Z"
   },
   {
    "duration": 65,
    "start_time": "2022-11-21T08:09:51.811Z"
   },
   {
    "duration": 66,
    "start_time": "2022-11-21T08:09:51.878Z"
   },
   {
    "duration": 138,
    "start_time": "2022-11-21T08:09:51.946Z"
   },
   {
    "duration": 15,
    "start_time": "2022-11-21T08:09:52.086Z"
   },
   {
    "duration": 70,
    "start_time": "2022-11-21T08:09:52.103Z"
   },
   {
    "duration": 55,
    "start_time": "2022-11-21T08:09:52.175Z"
   },
   {
    "duration": 46,
    "start_time": "2022-11-21T08:09:52.232Z"
   },
   {
    "duration": 49,
    "start_time": "2022-11-21T08:09:52.281Z"
   },
   {
    "duration": 79,
    "start_time": "2022-11-21T08:09:52.332Z"
   },
   {
    "duration": 60,
    "start_time": "2022-11-21T08:09:52.413Z"
   },
   {
    "duration": 4,
    "start_time": "2022-11-21T08:09:52.475Z"
   },
   {
    "duration": 74,
    "start_time": "2022-11-21T08:09:52.481Z"
   },
   {
    "duration": 55,
    "start_time": "2022-11-21T08:09:52.557Z"
   },
   {
    "duration": 5,
    "start_time": "2022-11-21T08:09:52.613Z"
   },
   {
    "duration": 39,
    "start_time": "2022-11-21T08:09:52.620Z"
   },
   {
    "duration": 10,
    "start_time": "2022-11-21T08:09:52.661Z"
   },
   {
    "duration": 35,
    "start_time": "2022-11-21T08:09:52.673Z"
   },
   {
    "duration": 14,
    "start_time": "2022-11-21T08:09:52.710Z"
   },
   {
    "duration": 30,
    "start_time": "2022-11-21T08:09:52.726Z"
   },
   {
    "duration": 41,
    "start_time": "2022-11-21T08:09:52.758Z"
   },
   {
    "duration": 19,
    "start_time": "2022-11-21T08:09:52.801Z"
   },
   {
    "duration": 25,
    "start_time": "2022-11-21T08:24:21.146Z"
   },
   {
    "duration": 16,
    "start_time": "2022-11-21T08:24:43.450Z"
   },
   {
    "duration": 9,
    "start_time": "2022-11-21T08:35:03.798Z"
   },
   {
    "duration": 6,
    "start_time": "2022-11-21T08:35:52.166Z"
   },
   {
    "duration": 6,
    "start_time": "2022-11-21T08:38:19.449Z"
   },
   {
    "duration": 977,
    "start_time": "2022-11-21T08:48:10.523Z"
   },
   {
    "duration": 42,
    "start_time": "2022-11-21T08:48:11.502Z"
   },
   {
    "duration": 21,
    "start_time": "2022-11-21T08:48:11.545Z"
   },
   {
    "duration": 72,
    "start_time": "2022-11-21T08:48:11.569Z"
   },
   {
    "duration": 6,
    "start_time": "2022-11-21T08:48:11.642Z"
   },
   {
    "duration": 10,
    "start_time": "2022-11-21T08:48:11.650Z"
   },
   {
    "duration": 30,
    "start_time": "2022-11-21T08:48:11.662Z"
   },
   {
    "duration": 6,
    "start_time": "2022-11-21T08:48:11.693Z"
   },
   {
    "duration": 27,
    "start_time": "2022-11-21T08:48:11.701Z"
   },
   {
    "duration": 22,
    "start_time": "2022-11-21T08:48:11.731Z"
   },
   {
    "duration": 16,
    "start_time": "2022-11-21T08:48:11.755Z"
   },
   {
    "duration": 26,
    "start_time": "2022-11-21T08:48:11.772Z"
   },
   {
    "duration": 9,
    "start_time": "2022-11-21T08:48:11.800Z"
   },
   {
    "duration": 19,
    "start_time": "2022-11-21T08:48:11.810Z"
   },
   {
    "duration": 6,
    "start_time": "2022-11-21T08:48:11.831Z"
   },
   {
    "duration": 15,
    "start_time": "2022-11-21T08:48:11.839Z"
   },
   {
    "duration": 173,
    "start_time": "2022-11-21T08:48:11.855Z"
   },
   {
    "duration": 422,
    "start_time": "2022-11-21T08:48:12.029Z"
   },
   {
    "duration": 11,
    "start_time": "2022-11-21T08:48:12.452Z"
   },
   {
    "duration": 106,
    "start_time": "2022-11-21T08:48:12.464Z"
   },
   {
    "duration": 23,
    "start_time": "2022-11-21T08:48:12.572Z"
   },
   {
    "duration": 85,
    "start_time": "2022-11-21T08:48:12.597Z"
   },
   {
    "duration": 146,
    "start_time": "2022-11-21T08:48:12.684Z"
   },
   {
    "duration": 29,
    "start_time": "2022-11-21T08:48:12.832Z"
   },
   {
    "duration": 50,
    "start_time": "2022-11-21T08:48:12.863Z"
   },
   {
    "duration": 79,
    "start_time": "2022-11-21T08:48:12.915Z"
   },
   {
    "duration": 28,
    "start_time": "2022-11-21T08:48:12.995Z"
   },
   {
    "duration": 68,
    "start_time": "2022-11-21T08:48:13.026Z"
   },
   {
    "duration": 43,
    "start_time": "2022-11-21T08:48:13.096Z"
   },
   {
    "duration": 60,
    "start_time": "2022-11-21T08:48:13.141Z"
   },
   {
    "duration": 4,
    "start_time": "2022-11-21T08:48:13.203Z"
   },
   {
    "duration": 74,
    "start_time": "2022-11-21T08:48:13.208Z"
   },
   {
    "duration": 50,
    "start_time": "2022-11-21T08:48:13.284Z"
   },
   {
    "duration": 20,
    "start_time": "2022-11-21T08:48:13.336Z"
   },
   {
    "duration": 13,
    "start_time": "2022-11-21T08:48:13.358Z"
   },
   {
    "duration": 8,
    "start_time": "2022-11-21T08:48:13.373Z"
   },
   {
    "duration": 26,
    "start_time": "2022-11-21T08:48:13.383Z"
   },
   {
    "duration": 6,
    "start_time": "2022-11-21T08:48:13.410Z"
   },
   {
    "duration": 46,
    "start_time": "2022-11-21T08:48:13.418Z"
   },
   {
    "duration": 11,
    "start_time": "2022-11-21T08:48:13.466Z"
   },
   {
    "duration": 31,
    "start_time": "2022-11-21T08:48:13.479Z"
   },
   {
    "duration": 13,
    "start_time": "2022-11-21T08:48:13.512Z"
   },
   {
    "duration": 1024,
    "start_time": "2023-04-30T11:50:41.419Z"
   },
   {
    "duration": 83,
    "start_time": "2023-04-30T11:50:42.445Z"
   },
   {
    "duration": 28,
    "start_time": "2023-04-30T11:50:42.529Z"
   },
   {
    "duration": 146,
    "start_time": "2023-04-30T11:50:42.560Z"
   },
   {
    "duration": 7,
    "start_time": "2023-04-30T11:50:42.708Z"
   },
   {
    "duration": 22,
    "start_time": "2023-04-30T11:50:42.718Z"
   },
   {
    "duration": 29,
    "start_time": "2023-04-30T11:50:42.742Z"
   },
   {
    "duration": 4,
    "start_time": "2023-04-30T11:50:42.773Z"
   },
   {
    "duration": 28,
    "start_time": "2023-04-30T11:50:42.779Z"
   },
   {
    "duration": 9,
    "start_time": "2023-04-30T11:50:42.812Z"
   },
   {
    "duration": 10,
    "start_time": "2023-04-30T11:50:42.823Z"
   },
   {
    "duration": 7,
    "start_time": "2023-04-30T11:50:42.835Z"
   },
   {
    "duration": 11,
    "start_time": "2023-04-30T11:50:42.844Z"
   },
   {
    "duration": 34,
    "start_time": "2023-04-30T11:50:42.856Z"
   },
   {
    "duration": 7,
    "start_time": "2023-04-30T11:50:42.892Z"
   },
   {
    "duration": 12,
    "start_time": "2023-04-30T11:50:42.901Z"
   },
   {
    "duration": 210,
    "start_time": "2023-04-30T11:50:42.915Z"
   },
   {
    "duration": 459,
    "start_time": "2023-04-30T11:50:43.126Z"
   },
   {
    "duration": 11,
    "start_time": "2023-04-30T11:50:43.587Z"
   },
   {
    "duration": 110,
    "start_time": "2023-04-30T11:50:43.600Z"
   },
   {
    "duration": 29,
    "start_time": "2023-04-30T11:50:43.712Z"
   },
   {
    "duration": 82,
    "start_time": "2023-04-30T11:50:43.789Z"
   },
   {
    "duration": 169,
    "start_time": "2023-04-30T11:50:43.889Z"
   },
   {
    "duration": 30,
    "start_time": "2023-04-30T11:50:44.060Z"
   },
   {
    "duration": 78,
    "start_time": "2023-04-30T11:50:44.092Z"
   },
   {
    "duration": 70,
    "start_time": "2023-04-30T11:50:44.172Z"
   },
   {
    "duration": 58,
    "start_time": "2023-04-30T11:50:44.244Z"
   },
   {
    "duration": 55,
    "start_time": "2023-04-30T11:50:44.305Z"
   },
   {
    "duration": 78,
    "start_time": "2023-04-30T11:50:44.362Z"
   },
   {
    "duration": 73,
    "start_time": "2023-04-30T11:50:44.442Z"
   },
   {
    "duration": 6,
    "start_time": "2023-04-30T11:50:44.517Z"
   },
   {
    "duration": 76,
    "start_time": "2023-04-30T11:50:44.525Z"
   },
   {
    "duration": 55,
    "start_time": "2023-04-30T11:50:44.604Z"
   },
   {
    "duration": 29,
    "start_time": "2023-04-30T11:50:44.661Z"
   },
   {
    "duration": 14,
    "start_time": "2023-04-30T11:50:44.693Z"
   },
   {
    "duration": 11,
    "start_time": "2023-04-30T11:50:44.709Z"
   },
   {
    "duration": 28,
    "start_time": "2023-04-30T11:50:44.722Z"
   },
   {
    "duration": 37,
    "start_time": "2023-04-30T11:50:44.753Z"
   },
   {
    "duration": 17,
    "start_time": "2023-04-30T11:50:44.792Z"
   },
   {
    "duration": 13,
    "start_time": "2023-04-30T11:50:44.811Z"
   },
   {
    "duration": 64,
    "start_time": "2023-04-30T11:50:44.826Z"
   },
   {
    "duration": 17,
    "start_time": "2023-04-30T11:50:44.892Z"
   },
   {
    "duration": 1111,
    "start_time": "2023-04-30T12:01:21.635Z"
   },
   {
    "duration": 43,
    "start_time": "2023-04-30T12:01:22.749Z"
   },
   {
    "duration": 29,
    "start_time": "2023-04-30T12:01:22.795Z"
   },
   {
    "duration": 84,
    "start_time": "2023-04-30T12:01:22.826Z"
   },
   {
    "duration": 8,
    "start_time": "2023-04-30T12:01:22.913Z"
   },
   {
    "duration": 10,
    "start_time": "2023-04-30T12:01:22.924Z"
   },
   {
    "duration": 18,
    "start_time": "2023-04-30T12:01:22.936Z"
   },
   {
    "duration": 37,
    "start_time": "2023-04-30T12:01:22.956Z"
   },
   {
    "duration": 12,
    "start_time": "2023-04-30T12:01:22.995Z"
   },
   {
    "duration": 16,
    "start_time": "2023-04-30T12:01:23.011Z"
   },
   {
    "duration": 11,
    "start_time": "2023-04-30T12:01:23.030Z"
   },
   {
    "duration": 8,
    "start_time": "2023-04-30T12:01:23.043Z"
   },
   {
    "duration": 35,
    "start_time": "2023-04-30T12:01:23.054Z"
   },
   {
    "duration": 18,
    "start_time": "2023-04-30T12:01:23.091Z"
   },
   {
    "duration": 13,
    "start_time": "2023-04-30T12:01:23.111Z"
   },
   {
    "duration": 15,
    "start_time": "2023-04-30T12:01:23.125Z"
   },
   {
    "duration": 245,
    "start_time": "2023-04-30T12:01:23.142Z"
   },
   {
    "duration": 501,
    "start_time": "2023-04-30T12:01:23.393Z"
   },
   {
    "duration": 18,
    "start_time": "2023-04-30T12:01:23.896Z"
   },
   {
    "duration": 123,
    "start_time": "2023-04-30T12:01:23.916Z"
   },
   {
    "duration": 38,
    "start_time": "2023-04-30T12:01:24.088Z"
   },
   {
    "duration": 91,
    "start_time": "2023-04-30T12:01:24.128Z"
   },
   {
    "duration": 247,
    "start_time": "2023-04-30T12:01:24.221Z"
   },
   {
    "duration": 34,
    "start_time": "2023-04-30T12:01:24.471Z"
   },
   {
    "duration": 66,
    "start_time": "2023-04-30T12:01:24.508Z"
   },
   {
    "duration": 81,
    "start_time": "2023-04-30T12:01:24.588Z"
   },
   {
    "duration": 37,
    "start_time": "2023-04-30T12:01:24.691Z"
   },
   {
    "duration": 69,
    "start_time": "2023-04-30T12:01:24.733Z"
   },
   {
    "duration": 57,
    "start_time": "2023-04-30T12:01:24.804Z"
   },
   {
    "duration": 127,
    "start_time": "2023-04-30T12:01:24.864Z"
   },
   {
    "duration": 5,
    "start_time": "2023-04-30T12:01:24.994Z"
   },
   {
    "duration": 119,
    "start_time": "2023-04-30T12:01:25.002Z"
   },
   {
    "duration": 88,
    "start_time": "2023-04-30T12:01:25.125Z"
   },
   {
    "duration": 6,
    "start_time": "2023-04-30T12:01:25.216Z"
   },
   {
    "duration": 29,
    "start_time": "2023-04-30T12:01:25.225Z"
   },
   {
    "duration": 30,
    "start_time": "2023-04-30T12:01:25.259Z"
   },
   {
    "duration": 58,
    "start_time": "2023-04-30T12:01:25.292Z"
   },
   {
    "duration": 9,
    "start_time": "2023-04-30T12:01:25.353Z"
   },
   {
    "duration": 44,
    "start_time": "2023-04-30T12:01:25.364Z"
   },
   {
    "duration": 33,
    "start_time": "2023-04-30T12:01:25.412Z"
   },
   {
    "duration": 55,
    "start_time": "2023-04-30T12:01:25.448Z"
   },
   {
    "duration": 26,
    "start_time": "2023-04-30T12:01:25.506Z"
   },
   {
    "duration": 971,
    "start_time": "2023-04-30T17:50:20.904Z"
   },
   {
    "duration": 78,
    "start_time": "2023-04-30T17:50:21.877Z"
   },
   {
    "duration": 26,
    "start_time": "2023-04-30T17:50:21.958Z"
   },
   {
    "duration": 145,
    "start_time": "2023-04-30T17:50:21.987Z"
   },
   {
    "duration": 6,
    "start_time": "2023-04-30T17:50:22.133Z"
   },
   {
    "duration": 17,
    "start_time": "2023-04-30T17:50:22.140Z"
   },
   {
    "duration": 29,
    "start_time": "2023-04-30T17:50:22.159Z"
   },
   {
    "duration": 10,
    "start_time": "2023-04-30T17:50:22.190Z"
   },
   {
    "duration": 21,
    "start_time": "2023-04-30T17:50:22.201Z"
   },
   {
    "duration": 20,
    "start_time": "2023-04-30T17:50:22.224Z"
   },
   {
    "duration": 19,
    "start_time": "2023-04-30T17:50:22.245Z"
   },
   {
    "duration": 16,
    "start_time": "2023-04-30T17:50:22.266Z"
   },
   {
    "duration": 12,
    "start_time": "2023-04-30T17:50:22.284Z"
   },
   {
    "duration": 18,
    "start_time": "2023-04-30T17:50:22.298Z"
   },
   {
    "duration": 9,
    "start_time": "2023-04-30T17:50:22.318Z"
   },
   {
    "duration": 17,
    "start_time": "2023-04-30T17:50:22.329Z"
   },
   {
    "duration": 219,
    "start_time": "2023-04-30T17:50:22.348Z"
   },
   {
    "duration": 489,
    "start_time": "2023-04-30T17:50:22.568Z"
   },
   {
    "duration": 12,
    "start_time": "2023-04-30T17:50:23.059Z"
   },
   {
    "duration": 80,
    "start_time": "2023-04-30T17:50:23.073Z"
   },
   {
    "duration": 65,
    "start_time": "2023-04-30T17:50:23.154Z"
   },
   {
    "duration": 64,
    "start_time": "2023-04-30T17:50:23.221Z"
   },
   {
    "duration": 138,
    "start_time": "2023-04-30T17:50:23.287Z"
   },
   {
    "duration": 13,
    "start_time": "2023-04-30T17:50:23.427Z"
   },
   {
    "duration": 59,
    "start_time": "2023-04-30T17:50:23.442Z"
   },
   {
    "duration": 51,
    "start_time": "2023-04-30T17:50:23.518Z"
   },
   {
    "duration": 29,
    "start_time": "2023-04-30T17:50:23.571Z"
   },
   {
    "duration": 49,
    "start_time": "2023-04-30T17:50:23.620Z"
   },
   {
    "duration": 67,
    "start_time": "2023-04-30T17:50:23.671Z"
   },
   {
    "duration": 54,
    "start_time": "2023-04-30T17:50:23.739Z"
   },
   {
    "duration": 23,
    "start_time": "2023-04-30T17:50:23.795Z"
   },
   {
    "duration": 62,
    "start_time": "2023-04-30T17:50:23.820Z"
   },
   {
    "duration": 65,
    "start_time": "2023-04-30T17:50:23.884Z"
   },
   {
    "duration": 5,
    "start_time": "2023-04-30T17:50:23.951Z"
   },
   {
    "duration": 20,
    "start_time": "2023-04-30T17:50:23.958Z"
   },
   {
    "duration": 11,
    "start_time": "2023-04-30T17:50:23.980Z"
   },
   {
    "duration": 52,
    "start_time": "2023-04-30T17:50:23.992Z"
   },
   {
    "duration": 6,
    "start_time": "2023-04-30T17:50:24.046Z"
   },
   {
    "duration": 22,
    "start_time": "2023-04-30T17:50:24.054Z"
   },
   {
    "duration": 18,
    "start_time": "2023-04-30T17:50:24.078Z"
   },
   {
    "duration": 40,
    "start_time": "2023-04-30T17:50:24.097Z"
   },
   {
    "duration": 13,
    "start_time": "2023-04-30T17:50:24.139Z"
   },
   {
    "duration": 8,
    "start_time": "2023-04-30T17:59:57.283Z"
   },
   {
    "duration": 8,
    "start_time": "2023-04-30T18:00:08.758Z"
   },
   {
    "duration": 964,
    "start_time": "2023-05-01T09:35:29.585Z"
   },
   {
    "duration": 81,
    "start_time": "2023-05-01T09:35:30.551Z"
   },
   {
    "duration": 24,
    "start_time": "2023-05-01T09:35:30.634Z"
   },
   {
    "duration": 179,
    "start_time": "2023-05-01T09:35:30.659Z"
   },
   {
    "duration": 6,
    "start_time": "2023-05-01T09:35:30.840Z"
   },
   {
    "duration": 51,
    "start_time": "2023-05-01T09:35:30.848Z"
   },
   {
    "duration": 46,
    "start_time": "2023-05-01T09:35:30.901Z"
   },
   {
    "duration": 25,
    "start_time": "2023-05-01T09:35:30.949Z"
   },
   {
    "duration": 40,
    "start_time": "2023-05-01T09:35:30.976Z"
   },
   {
    "duration": 42,
    "start_time": "2023-05-01T09:35:31.018Z"
   },
   {
    "duration": 51,
    "start_time": "2023-05-01T09:35:31.062Z"
   },
   {
    "duration": 58,
    "start_time": "2023-05-01T09:35:31.115Z"
   },
   {
    "duration": 35,
    "start_time": "2023-05-01T09:35:31.174Z"
   },
   {
    "duration": 21,
    "start_time": "2023-05-01T09:35:31.213Z"
   },
   {
    "duration": 50,
    "start_time": "2023-05-01T09:35:31.236Z"
   },
   {
    "duration": 38,
    "start_time": "2023-05-01T09:35:31.288Z"
   },
   {
    "duration": 188,
    "start_time": "2023-05-01T09:35:31.328Z"
   },
   {
    "duration": 470,
    "start_time": "2023-05-01T09:35:31.518Z"
   },
   {
    "duration": 12,
    "start_time": "2023-05-01T09:35:31.990Z"
   },
   {
    "duration": 114,
    "start_time": "2023-05-01T09:35:32.017Z"
   },
   {
    "duration": 23,
    "start_time": "2023-05-01T09:35:32.133Z"
   },
   {
    "duration": 92,
    "start_time": "2023-05-01T09:35:32.157Z"
   },
   {
    "duration": 13,
    "start_time": "2023-05-01T09:35:32.251Z"
   },
   {
    "duration": 143,
    "start_time": "2023-05-01T09:35:32.265Z"
   },
   {
    "duration": 20,
    "start_time": "2023-05-01T09:35:32.417Z"
   },
   {
    "duration": 72,
    "start_time": "2023-05-01T09:35:32.438Z"
   },
   {
    "duration": 59,
    "start_time": "2023-05-01T09:35:32.512Z"
   },
   {
    "duration": 50,
    "start_time": "2023-05-01T09:35:32.573Z"
   },
   {
    "duration": 46,
    "start_time": "2023-05-01T09:35:32.625Z"
   },
   {
    "duration": 63,
    "start_time": "2023-05-01T09:35:32.674Z"
   },
   {
    "duration": 50,
    "start_time": "2023-05-01T09:35:32.739Z"
   },
   {
    "duration": 4,
    "start_time": "2023-05-01T09:35:32.791Z"
   },
   {
    "duration": 71,
    "start_time": "2023-05-01T09:35:32.796Z"
   },
   {
    "duration": 65,
    "start_time": "2023-05-01T09:35:32.869Z"
   },
   {
    "duration": 4,
    "start_time": "2023-05-01T09:35:32.936Z"
   },
   {
    "duration": 20,
    "start_time": "2023-05-01T09:35:32.941Z"
   },
   {
    "duration": 9,
    "start_time": "2023-05-01T09:35:32.962Z"
   },
   {
    "duration": 46,
    "start_time": "2023-05-01T09:35:32.972Z"
   },
   {
    "duration": 5,
    "start_time": "2023-05-01T09:35:33.020Z"
   },
   {
    "duration": 28,
    "start_time": "2023-05-01T09:35:33.027Z"
   },
   {
    "duration": 11,
    "start_time": "2023-05-01T09:35:33.059Z"
   },
   {
    "duration": 32,
    "start_time": "2023-05-01T09:35:33.071Z"
   },
   {
    "duration": 13,
    "start_time": "2023-05-01T09:35:33.118Z"
   },
   {
    "duration": 977,
    "start_time": "2023-05-04T17:52:57.744Z"
   },
   {
    "duration": 123,
    "start_time": "2023-05-04T17:52:58.723Z"
   },
   {
    "duration": 20,
    "start_time": "2023-05-04T17:52:58.847Z"
   },
   {
    "duration": 224,
    "start_time": "2023-05-04T17:52:58.869Z"
   },
   {
    "duration": 6,
    "start_time": "2023-05-04T17:52:59.095Z"
   },
   {
    "duration": 18,
    "start_time": "2023-05-04T17:52:59.102Z"
   },
   {
    "duration": 65,
    "start_time": "2023-05-04T17:52:59.121Z"
   },
   {
    "duration": 13,
    "start_time": "2023-05-04T17:52:59.188Z"
   },
   {
    "duration": 47,
    "start_time": "2023-05-04T17:52:59.203Z"
   },
   {
    "duration": 16,
    "start_time": "2023-05-04T17:52:59.253Z"
   },
   {
    "duration": 14,
    "start_time": "2023-05-04T17:52:59.271Z"
   },
   {
    "duration": 19,
    "start_time": "2023-05-04T17:52:59.287Z"
   },
   {
    "duration": 39,
    "start_time": "2023-05-04T17:52:59.308Z"
   },
   {
    "duration": 16,
    "start_time": "2023-05-04T17:52:59.349Z"
   },
   {
    "duration": 20,
    "start_time": "2023-05-04T17:52:59.367Z"
   },
   {
    "duration": 33,
    "start_time": "2023-05-04T17:52:59.388Z"
   },
   {
    "duration": 224,
    "start_time": "2023-05-04T17:52:59.422Z"
   },
   {
    "duration": 572,
    "start_time": "2023-05-04T17:52:59.648Z"
   },
   {
    "duration": 14,
    "start_time": "2023-05-04T17:53:00.222Z"
   },
   {
    "duration": 129,
    "start_time": "2023-05-04T17:53:00.238Z"
   },
   {
    "duration": 71,
    "start_time": "2023-05-04T17:53:00.369Z"
   },
   {
    "duration": 170,
    "start_time": "2023-05-04T17:53:00.445Z"
   },
   {
    "duration": 30,
    "start_time": "2023-05-04T17:53:00.616Z"
   },
   {
    "duration": 201,
    "start_time": "2023-05-04T17:53:00.650Z"
   },
   {
    "duration": 16,
    "start_time": "2023-05-04T17:53:00.855Z"
   },
   {
    "duration": 101,
    "start_time": "2023-05-04T17:53:00.873Z"
   },
   {
    "duration": 71,
    "start_time": "2023-05-04T17:53:00.976Z"
   },
   {
    "duration": 71,
    "start_time": "2023-05-04T17:53:01.051Z"
   },
   {
    "duration": 123,
    "start_time": "2023-05-04T17:53:01.131Z"
   },
   {
    "duration": 114,
    "start_time": "2023-05-04T17:53:01.256Z"
   },
   {
    "duration": 141,
    "start_time": "2023-05-04T17:53:01.372Z"
   },
   {
    "duration": 45,
    "start_time": "2023-05-04T17:53:01.514Z"
   },
   {
    "duration": 153,
    "start_time": "2023-05-04T17:53:01.561Z"
   },
   {
    "duration": 63,
    "start_time": "2023-05-04T17:53:01.716Z"
   },
   {
    "duration": 23,
    "start_time": "2023-05-04T17:53:01.781Z"
   },
   {
    "duration": 62,
    "start_time": "2023-05-04T17:53:01.806Z"
   },
   {
    "duration": 19,
    "start_time": "2023-05-04T17:53:01.870Z"
   },
   {
    "duration": 125,
    "start_time": "2023-05-04T17:53:01.890Z"
   },
   {
    "duration": 26,
    "start_time": "2023-05-04T17:53:02.021Z"
   },
   {
    "duration": 51,
    "start_time": "2023-05-04T17:53:02.049Z"
   },
   {
    "duration": 127,
    "start_time": "2023-05-04T17:53:02.102Z"
   },
   {
    "duration": 118,
    "start_time": "2023-05-04T17:53:02.230Z"
   },
   {
    "duration": 22,
    "start_time": "2023-05-04T17:53:02.350Z"
   },
   {
    "duration": 1702,
    "start_time": "2023-06-22T16:34:41.598Z"
   },
   {
    "duration": 91,
    "start_time": "2023-06-22T16:34:43.303Z"
   },
   {
    "duration": 28,
    "start_time": "2023-06-22T16:34:43.396Z"
   },
   {
    "duration": 163,
    "start_time": "2023-06-22T16:34:43.427Z"
   },
   {
    "duration": 7,
    "start_time": "2023-06-22T16:34:43.591Z"
   },
   {
    "duration": 20,
    "start_time": "2023-06-22T16:34:43.600Z"
   },
   {
    "duration": 51,
    "start_time": "2023-06-22T16:34:43.622Z"
   },
   {
    "duration": 18,
    "start_time": "2023-06-22T16:34:43.676Z"
   },
   {
    "duration": 20,
    "start_time": "2023-06-22T16:34:43.695Z"
   },
   {
    "duration": 21,
    "start_time": "2023-06-22T16:34:43.717Z"
   },
   {
    "duration": 35,
    "start_time": "2023-06-22T16:34:43.740Z"
   },
   {
    "duration": 16,
    "start_time": "2023-06-22T16:34:43.777Z"
   },
   {
    "duration": 14,
    "start_time": "2023-06-22T16:34:43.795Z"
   },
   {
    "duration": 33,
    "start_time": "2023-06-22T16:34:43.810Z"
   },
   {
    "duration": 12,
    "start_time": "2023-06-22T16:34:43.845Z"
   },
   {
    "duration": 64,
    "start_time": "2023-06-22T16:34:43.859Z"
   },
   {
    "duration": 181,
    "start_time": "2023-06-22T16:34:43.925Z"
   },
   {
    "duration": 421,
    "start_time": "2023-06-22T16:34:44.108Z"
   },
   {
    "duration": 29,
    "start_time": "2023-06-22T16:34:44.531Z"
   },
   {
    "duration": 112,
    "start_time": "2023-06-22T16:34:44.562Z"
   },
   {
    "duration": 23,
    "start_time": "2023-06-22T16:34:44.675Z"
   },
   {
    "duration": 106,
    "start_time": "2023-06-22T16:34:44.699Z"
   },
   {
    "duration": 9,
    "start_time": "2023-06-22T16:34:44.806Z"
   },
   {
    "duration": 148,
    "start_time": "2023-06-22T16:34:44.816Z"
   },
   {
    "duration": 16,
    "start_time": "2023-06-22T16:34:44.965Z"
   },
   {
    "duration": 54,
    "start_time": "2023-06-22T16:34:44.982Z"
   },
   {
    "duration": 65,
    "start_time": "2023-06-22T16:34:45.037Z"
   },
   {
    "duration": 27,
    "start_time": "2023-06-22T16:34:45.107Z"
   },
   {
    "duration": 58,
    "start_time": "2023-06-22T16:34:45.155Z"
   },
   {
    "duration": 68,
    "start_time": "2023-06-22T16:34:45.214Z"
   },
   {
    "duration": 58,
    "start_time": "2023-06-22T16:34:45.284Z"
   },
   {
    "duration": 24,
    "start_time": "2023-06-22T16:34:45.343Z"
   },
   {
    "duration": 71,
    "start_time": "2023-06-22T16:34:45.368Z"
   },
   {
    "duration": 59,
    "start_time": "2023-06-22T16:34:45.440Z"
   },
   {
    "duration": 7,
    "start_time": "2023-06-22T16:34:45.500Z"
   },
   {
    "duration": 16,
    "start_time": "2023-06-22T16:34:45.508Z"
   },
   {
    "duration": 12,
    "start_time": "2023-06-22T16:34:45.525Z"
   },
   {
    "duration": 77,
    "start_time": "2023-06-22T16:34:45.554Z"
   },
   {
    "duration": 5,
    "start_time": "2023-06-22T16:34:45.633Z"
   },
   {
    "duration": 25,
    "start_time": "2023-06-22T16:34:45.640Z"
   },
   {
    "duration": 57,
    "start_time": "2023-06-22T16:34:45.667Z"
   },
   {
    "duration": 43,
    "start_time": "2023-06-22T16:34:45.726Z"
   },
   {
    "duration": 27,
    "start_time": "2023-06-22T16:34:45.771Z"
   }
  ],
  "kernelspec": {
   "display_name": "Python 3 (ipykernel)",
   "language": "python",
   "name": "python3"
  },
  "language_info": {
   "codemirror_mode": {
    "name": "ipython",
    "version": 3
   },
   "file_extension": ".py",
   "mimetype": "text/x-python",
   "name": "python",
   "nbconvert_exporter": "python",
   "pygments_lexer": "ipython3",
   "version": "3.9.7"
  },
  "toc": {
   "base_numbering": 1,
   "nav_menu": {},
   "number_sections": true,
   "sideBar": true,
   "skip_h1_title": true,
   "title_cell": "Table of Contents",
   "title_sidebar": "Contents",
   "toc_cell": false,
   "toc_position": {
    "height": "calc(100% - 180px)",
    "left": "10px",
    "top": "150px",
    "width": "341.333px"
   },
   "toc_section_display": true,
   "toc_window_display": false
  }
 },
 "nbformat": 4,
 "nbformat_minor": 2
}
